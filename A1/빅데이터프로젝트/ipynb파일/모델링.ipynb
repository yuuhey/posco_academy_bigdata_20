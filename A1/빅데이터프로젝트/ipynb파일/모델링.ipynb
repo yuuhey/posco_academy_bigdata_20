{
  "cells": [
    {
      "cell_type": "code",
      "source": [
        "pip install catboost"
      ],
      "metadata": {
        "colab": {
          "base_uri": "https://localhost:8080/"
        },
        "id": "R5T5CCBmGUEE",
        "outputId": "077e4594-c098-45b5-d628-3439dbcd497c"
      },
      "id": "R5T5CCBmGUEE",
      "execution_count": 63,
      "outputs": [
        {
          "output_type": "stream",
          "name": "stdout",
          "text": [
            "Looking in indexes: https://pypi.org/simple, https://us-python.pkg.dev/colab-wheels/public/simple/\n",
            "Requirement already satisfied: catboost in /usr/local/lib/python3.7/dist-packages (1.1.1)\n",
            "Requirement already satisfied: matplotlib in /usr/local/lib/python3.7/dist-packages (from catboost) (3.2.2)\n",
            "Requirement already satisfied: plotly in /usr/local/lib/python3.7/dist-packages (from catboost) (5.5.0)\n",
            "Requirement already satisfied: pandas>=0.24.0 in /usr/local/lib/python3.7/dist-packages (from catboost) (1.3.5)\n",
            "Requirement already satisfied: graphviz in /usr/local/lib/python3.7/dist-packages (from catboost) (0.10.1)\n",
            "Requirement already satisfied: numpy>=1.16.0 in /usr/local/lib/python3.7/dist-packages (from catboost) (1.21.6)\n",
            "Requirement already satisfied: six in /usr/local/lib/python3.7/dist-packages (from catboost) (1.15.0)\n",
            "Requirement already satisfied: scipy in /usr/local/lib/python3.7/dist-packages (from catboost) (1.7.3)\n",
            "Requirement already satisfied: pytz>=2017.3 in /usr/local/lib/python3.7/dist-packages (from pandas>=0.24.0->catboost) (2022.6)\n",
            "Requirement already satisfied: python-dateutil>=2.7.3 in /usr/local/lib/python3.7/dist-packages (from pandas>=0.24.0->catboost) (2.8.2)\n",
            "Requirement already satisfied: kiwisolver>=1.0.1 in /usr/local/lib/python3.7/dist-packages (from matplotlib->catboost) (1.4.4)\n",
            "Requirement already satisfied: cycler>=0.10 in /usr/local/lib/python3.7/dist-packages (from matplotlib->catboost) (0.11.0)\n",
            "Requirement already satisfied: pyparsing!=2.0.4,!=2.1.2,!=2.1.6,>=2.0.1 in /usr/local/lib/python3.7/dist-packages (from matplotlib->catboost) (3.0.9)\n",
            "Requirement already satisfied: typing-extensions in /usr/local/lib/python3.7/dist-packages (from kiwisolver>=1.0.1->matplotlib->catboost) (4.1.1)\n",
            "Requirement already satisfied: tenacity>=6.2.0 in /usr/local/lib/python3.7/dist-packages (from plotly->catboost) (8.1.0)\n"
          ]
        }
      ]
    },
    {
      "cell_type": "code",
      "execution_count": 64,
      "id": "a2d6e79a",
      "metadata": {
        "id": "a2d6e79a"
      },
      "outputs": [],
      "source": [
        "import numpy as np\n",
        "import pandas as pd\n",
        "import seaborn as sns\n",
        "from matplotlib import pyplot as plt\n",
        "import math\n",
        "import warnings\n",
        "import sys\n",
        "import sklearn\n",
        "from tqdm import tqdm\n",
        "import itertools\n",
        "import lightgbm as lgb\n",
        "from lightgbm import LGBMClassifier\n",
        "from sklearn.model_selection import train_test_split\n",
        "\n",
        "from sklearn.compose import make_column_transformer\n",
        "from imblearn.pipeline import make_pipeline\n",
        "\n",
        "from imblearn.over_sampling import ADASYN\n",
        "from sklearn.impute import SimpleImputer\n",
        "from sklearn.preprocessing import MinMaxScaler\n",
        "from sklearn.preprocessing import OneHotEncoder\n",
        "from sklearn.decomposition import PCA\n",
        "\n",
        "from sklearn.model_selection import GridSearchCV\n",
        "from sklearn.metrics import classification_report\n",
        "from sklearn import metrics\n",
        "from sklearn.metrics import confusion_matrix\n",
        "from sklearn.metrics import accuracy_score\n",
        "from sklearn.metrics import precision_score\n",
        "from sklearn.model_selection import StratifiedKFold\n",
        "from scipy.stats import skew, kurtosis\n",
        "from sklearn.ensemble import RandomForestClassifier\n",
        "import xgboost as xgb\n",
        "from sklearn.model_selection import GridSearchCV\n",
        "from sklearn.model_selection import RandomizedSearchCV\n",
        "from sklearn.neural_network import MLPClassifier\n",
        "from sklearn.preprocessing import StandardScaler\n",
        "from sklearn.ensemble import GradientBoostingClassifier\n",
        "from sklearn.svm import SVC\n",
        "from sklearn.ensemble import BaggingClassifier\n",
        "from pathlib import Path\n",
        "from sklearn.experimental import enable_hist_gradient_boosting\n",
        "from sklearn.ensemble import HistGradientBoostingClassifier\n",
        "from sklearn.preprocessing import StandardScaler\n",
        "from sklearn.preprocessing import RobustScaler\n",
        "import catboost\n",
        "from catboost import CatBoostClassifier, Pool\n",
        "from sklearn.ensemble import ExtraTreesClassifier\n",
        "\n",
        "warnings.filterwarnings('ignore')"
      ]
    },
    {
      "cell_type": "code",
      "execution_count": 65,
      "id": "6d563c7d",
      "metadata": {
        "id": "6d563c7d"
      },
      "outputs": [],
      "source": [
        "df1 = pd.read_csv('/content/model_chk (1).csv',index_col = 0)"
      ]
    },
    {
      "cell_type": "code",
      "source": [
        "df1.columns"
      ],
      "metadata": {
        "colab": {
          "base_uri": "https://localhost:8080/"
        },
        "id": "ciaOmgjjGmUA",
        "outputId": "4b599d23-242b-4148-d2ef-89ac502e013e"
      },
      "id": "ciaOmgjjGmUA",
      "execution_count": 66,
      "outputs": [
        {
          "output_type": "execute_result",
          "data": {
            "text/plain": [
              "Index(['결혼여부', '신용카드소지여부', '주택대출여부', '개인대출여부', 'contact', '연락시도횟수', '과거통화횟수',\n",
              "       '계약여부', '카드종류', '연락달', '연락요일', '연회비납부정도', '대학교구분', '직업급여별', '연령대_재범주화',\n",
              "       '통화시간(분)', 'Target'],\n",
              "      dtype='object')"
            ]
          },
          "metadata": {},
          "execution_count": 66
        }
      ]
    },
    {
      "cell_type": "code",
      "source": [
        "df1['연령대_재범주화'].unique()"
      ],
      "metadata": {
        "colab": {
          "base_uri": "https://localhost:8080/"
        },
        "id": "2M-aVAixiK--",
        "outputId": "49a4f015-42f4-4d9e-b833-5477467206e9"
      },
      "id": "2M-aVAixiK--",
      "execution_count": 68,
      "outputs": [
        {
          "output_type": "execute_result",
          "data": {
            "text/plain": [
              "array(['Old-X세대', '산업화', '영포티', 'MZ세대', '베이비붐'], dtype=object)"
            ]
          },
          "metadata": {},
          "execution_count": 68
        }
      ]
    },
    {
      "cell_type": "code",
      "source": [
        "df_oldx = df1[df1['연령대_재범주화'] == 'Old-X세대']\n",
        "df_mz = df1[df1['연령대_재범주화'] == 'MZ세대']\n",
        "df_y4 = df1[df1['연령대_재범주화'] == '영포티']\n",
        "df_babyboom = df1[df1['연령대_재범주화'] == '베이비붐']\n",
        "df_industry = df1[df1['연령대_재범주화'] == '산업화']"
      ],
      "metadata": {
        "id": "BRcqrmusiEyd"
      },
      "id": "BRcqrmusiEyd",
      "execution_count": 72,
      "outputs": []
    },
    {
      "cell_type": "code",
      "source": [
        "# df1 = df_mz.copy()\n",
        "df1 = df_babyboom.copy()"
      ],
      "metadata": {
        "id": "7KlWsWJyk-Oj"
      },
      "id": "7KlWsWJyk-Oj",
      "execution_count": 171,
      "outputs": []
    },
    {
      "cell_type": "code",
      "execution_count": 172,
      "id": "11f414b6",
      "metadata": {
        "id": "11f414b6"
      },
      "outputs": [],
      "source": [
        "X = df1.drop(['Target','계약여부'],axis = 1)\n",
        "Y = df1['Target']"
      ]
    },
    {
      "cell_type": "code",
      "execution_count": 173,
      "id": "93e658b0",
      "metadata": {
        "id": "93e658b0"
      },
      "outputs": [],
      "source": [
        "X_train, X_test, Y_train, Y_test =train_test_split(X,Y, random_state=1234)"
      ]
    },
    {
      "cell_type": "code",
      "execution_count": 174,
      "id": "ac6aff0b",
      "metadata": {
        "id": "ac6aff0b"
      },
      "outputs": [],
      "source": [
        "# Separate Numeric and Categorical \n",
        "numeric_list  = X.describe().columns.tolist()\n",
        "category_list = X.describe(include='object').columns.tolist()"
      ]
    },
    {
      "cell_type": "code",
      "execution_count": 175,
      "id": "dd8bb8f1",
      "metadata": {
        "id": "dd8bb8f1"
      },
      "outputs": [],
      "source": [
        "# Numeric Data\n",
        "numeric_pipe  = make_pipeline( SimpleImputer(strategy='median'), \n",
        "                              MinMaxScaler() )\n",
        "# Categorical Data\n",
        "category_pipe = make_pipeline( SimpleImputer(strategy='most_frequent'),\n",
        "                               OneHotEncoder(handle_unknown='ignore') )"
      ]
    },
    {
      "cell_type": "code",
      "execution_count": null,
      "id": "03137cbe",
      "metadata": {
        "id": "03137cbe"
      },
      "outputs": [],
      "source": [
        "# Other Option\n",
        "# from imblearn.pipeline import Pipeline, make_pipeline\n",
        "# model = Pipeline( [ ('scaler', MinMaxScaler()),\n",
        "#                    ('model', ExtraTreesClassifier() ) ] )\n",
        "# model.fit(train_x, train_y)"
      ]
    },
    {
      "cell_type": "markdown",
      "id": "f15781a4",
      "metadata": {
        "id": "f15781a4"
      },
      "source": [
        "# Preprocessing + oversampling(ADASYN) + Modeling(GridSearch)"
      ]
    },
    {
      "cell_type": "markdown",
      "id": "d3e08c1d",
      "metadata": {
        "id": "d3e08c1d"
      },
      "source": [
        "## ExtraTrees"
      ]
    },
    {
      "cell_type": "code",
      "execution_count": 18,
      "id": "05a2de29",
      "metadata": {
        "id": "05a2de29"
      },
      "outputs": [],
      "source": [
        "# Preprocessing both Numeric and Categorical Features\n",
        "preprocessing_pipe = make_column_transformer( (numeric_pipe, numeric_list), \n",
        "                                              (category_pipe, category_list) )\n",
        "# Preprocessing + oversampling(ADASYN) + Modeling\n",
        "from sklearn.ensemble import ExtraTreesClassifier\n",
        "\n",
        "pipe_model = make_pipeline( preprocessing_pipe, \n",
        "                            ADASYN(), \n",
        "                            ExtraTreesClassifier() )"
      ]
    },
    {
      "cell_type": "code",
      "execution_count": null,
      "id": "c7510c01",
      "metadata": {
        "id": "c7510c01"
      },
      "outputs": [],
      "source": [
        "# Check Parameters\n",
        "et_ex = ExtraTreesClassifier()\n",
        "et_ex.get_params().keys()"
      ]
    },
    {
      "cell_type": "code",
      "execution_count": null,
      "id": "b47c4909",
      "metadata": {
        "id": "b47c4909"
      },
      "outputs": [],
      "source": [
        "# CV(Cross-Validation) \n",
        "# Parameter Tuning\n",
        "param_grid = {'extratreesclassifier__criterion' : ['gini', 'entropy', 'log_loss'], \n",
        "              'extratreesclassifier__max_depth' :range(1, 11),\n",
        "              'extratreesclassifier__min_samples_split' :  range(1, 11),\n",
        "              'extratreesclassifier__min_samples_leaf':range(1, 11),\n",
        "              'extratreesclassifier__max_features' : ['sqrt', 'log2', None]}\n",
        "\n",
        "grid_model = GridSearchCV(pipe_model, param_grid = param_grid ,\n",
        "                          cv=5 , n_jobs=-1, scoring='f1', verbose = True)\n",
        "grid_model.fit(X_train, Y_train)"
      ]
    },
    {
      "cell_type": "code",
      "execution_count": null,
      "id": "53745db4",
      "metadata": {
        "id": "53745db4"
      },
      "outputs": [],
      "source": [
        "\n",
        "# CV(Cross-Validation) \n",
        "# Parameter Tuning\n",
        "param_grid = {'extratreesclassifier__criterion' : ['gini', 'entropy', 'log_loss'], \n",
        "              'extratreesclassifier__max_depth' : [depth for depth in range(1, 11)],\n",
        "              'extratreesclassifier__min_samples_split' : [n_split * 10 for n_split in range(1, 11)],\n",
        "              'extratreesclassifier__min_samples_leaf':[n_leaf * 2 for n_leaf in range(1, 11)],\n",
        "              'extratreesclassifier__max_features' : ['sqrt', 'log2', None]}\n",
        "\n",
        "grid_model = GridSearchCV(pipe_model, param_grid = param_grid ,\n",
        "                          cv=5 , n_jobs=-1, scoring='f1', verbose = True)\n",
        "grid_model.fit(X_train, Y_train)"
      ]
    },
    {
      "cell_type": "code",
      "execution_count": null,
      "id": "a0d535cc",
      "metadata": {
        "id": "a0d535cc"
      },
      "outputs": [],
      "source": [
        "print(\"best estimator model: \\n{}\".format(grid_model.best_estimator_))\n",
        "print(\"\\nbest parameter: \\n{}\".format(grid_model.best_params_))\n",
        "print(\"\\nbest score: \\n{}\".format(grid_model.best_score_.round(4)))\n"
      ]
    },
    {
      "cell_type": "markdown",
      "id": "b1d04144",
      "metadata": {
        "id": "b1d04144"
      },
      "source": [
        "## RandomForest"
      ]
    },
    {
      "cell_type": "code",
      "execution_count": null,
      "id": "1794abff",
      "metadata": {
        "id": "1794abff"
      },
      "outputs": [],
      "source": [
        "# Preprocessing both Numeric and Categorical Features\n",
        "preprocessing_pipe = make_column_transformer( (numeric_pipe, numeric_list), \n",
        "                                              (category_pipe, category_list) )\n",
        "# Preprocessing + oversampling(ADASYN) + Modeling\n",
        "from sklearn.ensemble import RandomForestClassifier\n",
        "\n",
        "pipe_model = make_pipeline( preprocessing_pipe, \n",
        "                            ADASYN(), \n",
        "                            RandomForestClassifier() )"
      ]
    },
    {
      "cell_type": "code",
      "execution_count": null,
      "id": "0a45cb6a",
      "metadata": {
        "id": "0a45cb6a"
      },
      "outputs": [],
      "source": [
        "# Check Parameters\n",
        "rf_ex = RandomForestClassifier()\n",
        "rf_ex.get_params().keys()"
      ]
    },
    {
      "cell_type": "code",
      "execution_count": null,
      "id": "4fb37cd7",
      "metadata": {
        "id": "4fb37cd7"
      },
      "outputs": [],
      "source": [
        "# 교차검증 및 매개변수 튜닝\n",
        "param_grid = {'randomforestclassifier__criterion' : ['gini', 'entropy', 'log_loss'], \n",
        "              'randomforestclassifier__max_depth' : [depth for depth in range(1, 11)],\n",
        "              'randomforestclassifier__min_samples_split' : [n_split * 10 for n_split in range(1, 11)],\n",
        "              'randomforestclassifier__min_samples_leaf':[n_leaf * 2 for n_leaf in range(1, 11)],\n",
        "              'randomforestsclassifier__max_features' : ['sqrt', 'log2', None]}\n",
        "\n",
        "grid_model = GridSearchCV(pipe_model, param_grid = param_grid ,\n",
        "                          cv=5 , n_jobs=-1, scoring='f1')\n",
        "grid_model.fit(X_train, Y_train)"
      ]
    },
    {
      "cell_type": "code",
      "execution_count": null,
      "id": "4ee124aa",
      "metadata": {
        "id": "4ee124aa"
      },
      "outputs": [],
      "source": [
        "print(\"best estimator model: \\n{}\".format(grid_model.best_estimator_))\n",
        "print(\"\\nbest parameter: \\n{}\".format(grid_model.best_params_))\n",
        "print(\"\\nbest score: \\n{}\".format(grid_model.best_score_.round(4)))"
      ]
    },
    {
      "cell_type": "markdown",
      "id": "8247d78e",
      "metadata": {
        "id": "8247d78e"
      },
      "source": [
        "## XGBoost"
      ]
    },
    {
      "cell_type": "code",
      "execution_count": null,
      "id": "f238c8a6",
      "metadata": {
        "id": "f238c8a6"
      },
      "outputs": [],
      "source": [
        "# pip install xgboost"
      ]
    },
    {
      "cell_type": "code",
      "execution_count": 134,
      "id": "114cc9cc",
      "metadata": {
        "id": "114cc9cc"
      },
      "outputs": [],
      "source": [
        "# 숫자와 문자가 동시에 처리되도록 \n",
        "from xgboost import XGBClassifier\n",
        "preprocessing_pipe = make_column_transformer( (numeric_pipe, numeric_list), \n",
        "                                              (category_pipe, category_list) )\n",
        "# 타입별 전처리 + PCA + oversampling + 학습 \n",
        "# from sklearn.ensemble import XGBClassifier\n",
        "\n",
        "pipe_model = make_pipeline( preprocessing_pipe, \n",
        "                            ADASYN(), \n",
        "                            XGBClassifier() )"
      ]
    },
    {
      "cell_type": "code",
      "execution_count": 37,
      "id": "80039db6",
      "metadata": {
        "colab": {
          "base_uri": "https://localhost:8080/"
        },
        "id": "80039db6",
        "outputId": "626dd046-e12a-4407-865d-656598a70269"
      },
      "outputs": [
        {
          "output_type": "execute_result",
          "data": {
            "text/plain": [
              "dict_keys(['base_score', 'booster', 'colsample_bylevel', 'colsample_bynode', 'colsample_bytree', 'gamma', 'learning_rate', 'max_delta_step', 'max_depth', 'min_child_weight', 'missing', 'n_estimators', 'n_jobs', 'nthread', 'objective', 'random_state', 'reg_alpha', 'reg_lambda', 'scale_pos_weight', 'seed', 'silent', 'subsample', 'verbosity'])"
            ]
          },
          "metadata": {},
          "execution_count": 37
        }
      ],
      "source": [
        "xgb = XGBClassifier()\n",
        "xgb.get_params().keys()"
      ]
    },
    {
      "cell_type": "code",
      "execution_count": null,
      "id": "a4bedbf0",
      "metadata": {
        "id": "a4bedbf0"
      },
      "outputs": [],
      "source": [
        "# 교차검증 및 매개변수 튜닝 (xgb)\n",
        "param_grid = {'xgbclassifier__learning_rate': [lr * 0.1 for lr in range(1, 9)], \n",
        "              'xgbclassifier__max_depth': [depth for depth in range(1, 11)],\n",
        "              'xgbclassifier__min_child_weight': [i for i in range(1, 11)],\n",
        "              'xgbclassifier__n_estimators': [100, 150] }      #number of trees, change it to 1000 for better results\n",
        "              \n",
        "# param_grid = {'xgbclassifier__learning_rate' : [0.1],\n",
        "#               'xgbclassifier__max_depth' : [8], 'xgbclassifier__min_child_weight' : [10], 'xgbclassifier__n_estimators' : [110]}\n",
        "\n",
        "\n",
        "grid_model = GridSearchCV(pipe_model, param_grid = param_grid, cv=5 , n_jobs=-1, scoring='f1', verbose = True)\n",
        "grid_model.fit(X_train, Y_train)"
      ]
    },
    {
      "cell_type": "code",
      "execution_count": null,
      "id": "f3e34ae5",
      "metadata": {
        "id": "f3e34ae5"
      },
      "outputs": [],
      "source": [
        "print(\"best estimator model: \\n{}\".format(grid_model.best_estimator_))\n",
        "print(\"\\nbest parameter: \\n{}\".format(grid_model.best_params_))\n",
        "print(\"\\nbest score: \\n{}\".format(grid_model.best_score_.round(4)))"
      ]
    },
    {
      "cell_type": "markdown",
      "id": "9f9ae2c4",
      "metadata": {
        "id": "9f9ae2c4"
      },
      "source": [
        "CatBoostClassifier(\n",
        "    iterations=None,\n",
        "    learning_rate=None,\n",
        "    depth=None,\n",
        "    l2_leaf_reg=None,\n",
        "    model_size_reg=None,...\n",
        "    max_depth=None,\n",
        "    n_estimators=None,"
      ]
    },
    {
      "cell_type": "markdown",
      "id": "91c690ba",
      "metadata": {
        "id": "91c690ba"
      },
      "source": [
        "## CatBoost"
      ]
    },
    {
      "cell_type": "code",
      "execution_count": null,
      "id": "ac7aff41",
      "metadata": {
        "id": "ac7aff41"
      },
      "outputs": [],
      "source": [
        "# 숫자와 문자가 동시에 처리되도록 \n",
        "preprocessing_pipe = make_column_transformer( (numeric_pipe, numeric_list), \n",
        "                                              (category_pipe, category_list) )\n",
        "# 타입별 전처리 + PCA + oversampling + 학습 \n",
        "import catboost\n",
        "from catboost import CatBoostClassifier, Pool\n",
        "\n",
        "pipe_model = make_pipeline( preprocessing_pipe, \n",
        "                            ADASYN(), \n",
        "                            CatBoostClassifier() )"
      ]
    },
    {
      "cell_type": "code",
      "execution_count": null,
      "id": "7ee0b1b0",
      "metadata": {
        "id": "7ee0b1b0"
      },
      "outputs": [],
      "source": [
        "# 교차검증 및 매개변수 튜닝\n",
        "param_grid = {'catboostclassifier__iterations' : [700, 1000, 1500],\n",
        "              'catboostclassifier__learning_rate' : [0.03, 0.05, 0.08, 0.1],\n",
        "              'catboostclassifier__bootstrap_type':['Bayesian', 'MVS'],\n",
        "             'catboostclassifier__min_data_in_leaf':[i for i in range(2, 9)],\n",
        "              'catboostclassifier__auto_class_weights' : ['Balanced']}\n",
        "\n",
        "\n",
        "grid_model = GridSearchCV(pipe_model, param_grid = param_grid ,\n",
        "                          cv=5 , n_jobs=-1, scoring='f1', verbose=1)\n",
        "\n",
        "grid_model.fit(X_train, Y_train)\n",
        "\n",
        "print(\"best estimator model: \\n{}\".format(grid_model.best_estimator_))\n",
        "print(\"\\nbest parameter: \\n{}\".format(grid_model.best_params_))\n",
        "print(\"\\nbest score: \\n{}\".format(grid_model.best_score_.round(4)))"
      ]
    },
    {
      "cell_type": "code",
      "execution_count": null,
      "id": "1270bf20",
      "metadata": {
        "id": "1270bf20"
      },
      "outputs": [],
      "source": [
        "print(\"best estimator model: \\n{}\".format(grid_model.best_estimator_))\n",
        "print(\"\\nbest parameter: \\n{}\".format(grid_model.best_params_))\n",
        "print(\"\\nbest score: \\n{}\".format(grid_model.best_score_.round(4)))"
      ]
    },
    {
      "cell_type": "markdown",
      "id": "688d5950",
      "metadata": {
        "id": "688d5950"
      },
      "source": [
        "## LGBM"
      ]
    },
    {
      "cell_type": "code",
      "source": [
        "import lightgbm as lgb"
      ],
      "metadata": {
        "id": "VAeO9K0_969Y"
      },
      "id": "VAeO9K0_969Y",
      "execution_count": 52,
      "outputs": []
    },
    {
      "cell_type": "code",
      "execution_count": 54,
      "id": "ffd717ef",
      "metadata": {
        "id": "ffd717ef"
      },
      "outputs": [],
      "source": [
        "# Preprocessing both Numeric and Categorical Features\n",
        "preprocessing_pipe = make_column_transformer( (numeric_pipe, numeric_list), \n",
        "                                              (category_pipe, category_list) )\n",
        "# Preprocessing + oversampling(ADASYN) + Modeling\n",
        "# from lightgbm import LGBClassifier\n",
        "\n",
        "pipe_model = make_pipeline( preprocessing_pipe, \n",
        "                            ADASYN(), \n",
        "                             lgb.LGBMClassifier() )"
      ]
    },
    {
      "cell_type": "code",
      "execution_count": 55,
      "id": "7ccd40ee",
      "metadata": {
        "id": "7ccd40ee",
        "colab": {
          "base_uri": "https://localhost:8080/"
        },
        "outputId": "dfc58e73-7556-4bf4-abc1-8fd629948d22"
      },
      "outputs": [
        {
          "output_type": "execute_result",
          "data": {
            "text/plain": [
              "dict_keys(['boosting_type', 'class_weight', 'colsample_bytree', 'importance_type', 'learning_rate', 'max_depth', 'min_child_samples', 'min_child_weight', 'min_split_gain', 'n_estimators', 'n_jobs', 'num_leaves', 'objective', 'random_state', 'reg_alpha', 'reg_lambda', 'silent', 'subsample', 'subsample_for_bin', 'subsample_freq'])"
            ]
          },
          "metadata": {},
          "execution_count": 55
        }
      ],
      "source": [
        "# Check Parameters\n",
        "lgbm_ex = LGBMClassifier()\n",
        "lgbm_ex.get_params().keys()"
      ]
    },
    {
      "cell_type": "code",
      "execution_count": null,
      "id": "9c209869",
      "metadata": {
        "id": "9c209869"
      },
      "outputs": [],
      "source": [
        "# 교차검증 및 매개변수 튜닝\n",
        "param_grid = {'lgbmclassifier__criterion' : ['gini', 'entropy', 'log_loss'], \n",
        "              'lgbmclassifier__learning_rate' : [lr * 0.1 for lr in range(1,11)],\n",
        "              'lgbmclassifier__n_estimators' : [n * 10 for n in range(5, 21)],\n",
        "              'lgbmclassifier__num_leaves' : [ i for i in range(20, 120, 20)],\n",
        "              'lgbmclassifier__min_child_samples' : [i for i in range(5, 20, 5)],\n",
        "              'lgbmclassifier__reg_alpha' : [i * 0.01 for i in range(0, 6)]}\n",
        "\n",
        "grid_model = GridSearchCV(pipe_model, param_grid = param_grid ,\n",
        "                          cv=5 , n_jobs=-1, scoring='f1', verbose = True)\n",
        "grid_model.fit(X_train, Y_train)"
      ]
    },
    {
      "cell_type": "code",
      "execution_count": null,
      "id": "699a736e",
      "metadata": {
        "id": "699a736e"
      },
      "outputs": [],
      "source": [
        "print(\"best estimator model: \\n{}\".format(grid_model.best_estimator_))\n",
        "print(\"\\nbest parameter: \\n{}\".format(grid_model.best_params_))\n",
        "print(\"\\nbest score: \\n{}\".format(grid_model.best_score_.round(4)))"
      ]
    },
    {
      "cell_type": "markdown",
      "id": "d011c5c5",
      "metadata": {
        "id": "d011c5c5"
      },
      "source": [
        "# Final Modeling"
      ]
    },
    {
      "cell_type": "code",
      "execution_count": 155,
      "id": "7653cb91",
      "metadata": {
        "id": "7653cb91"
      },
      "outputs": [],
      "source": [
        "# CLassification Models\n",
        "model = [\"ExtraTrees\", \"RandomForest\", \"XGBoost\", \"CatBoost\", \"LGBM\"] \n",
        "\n",
        "# Append Accuracy \n",
        "train_accuracy = []\n",
        "test_accuracy = [] \n",
        "\n",
        "# auc score \n",
        "model_auc = []\n",
        "\n",
        "# Precision, Recall score \n",
        "model_precision = []\n",
        "model_recall = [] \n",
        "\n",
        "# f1 score  \n",
        "model_f1_score = []"
      ]
    },
    {
      "cell_type": "markdown",
      "id": "690a5e6f",
      "metadata": {
        "id": "690a5e6f"
      },
      "source": [
        "#### ExtraTrees"
      ]
    },
    {
      "cell_type": "code",
      "execution_count": 184,
      "id": "2953ff2e",
      "metadata": {
        "id": "2953ff2e",
        "colab": {
          "base_uri": "https://localhost:8080/"
        },
        "outputId": "d41fd601-3bd0-4df4-fd1c-5e441a5e2c68"
      },
      "outputs": [
        {
          "output_type": "stream",
          "name": "stdout",
          "text": [
            "Accuracy on training Set : 0.8042\n",
            "Accuracy on test Set : 0.6861\n",
            "Confusion Matrix : \n",
            " [[ 46  36]\n",
            " [ 34 107]]\n",
            "              precision    recall  f1-score   support\n",
            "\n",
            "           0     0.5750    0.5610    0.5679        82\n",
            "           1     0.7483    0.7589    0.7535       141\n",
            "\n",
            "    accuracy                         0.6861       223\n",
            "   macro avg     0.6616    0.6599    0.6607       223\n",
            "weighted avg     0.6845    0.6861    0.6853       223\n",
            "\n"
          ]
        }
      ],
      "source": [
        "from sklearn.metrics import accuracy_score, f1_score\n",
        "from sklearn.metrics import confusion_matrix, classification_report\n",
        "\n",
        "pipe_model_et = make_pipeline(preprocessing_pipe, \n",
        "                                 ADASYN(), \n",
        "                                 ExtraTreesClassifier(random_state = 1234,\n",
        "                                                      criterion = 'entropy',\n",
        "                                                      max_depth = 10,\n",
        "                                                      max_features = None,\n",
        "                                                      min_samples_leaf = 6,\n",
        "                                                      min_samples_split = 40\n",
        "                                                    ))\n",
        "\n",
        "pipe_model_et.fit(X_train, Y_train)\n",
        "y_pred = pipe_model_et.predict(X_test) \n",
        "\n",
        "print('Accuracy on training Set : {:.4f}'.format(pipe_model_et.score(X_train, Y_train)))\n",
        "\n",
        "# train 정확도\n",
        "train_accuracy.append(pipe_model_et.score(X_train, Y_train))\n",
        "\n",
        "print('Accuracy on test Set : {:.4f}'.format(pipe_model_et.score(X_test, Y_test)))\n",
        "\n",
        "# test 정확도\n",
        "test_accuracy.append(pipe_model_et.score(X_test, Y_test))\n",
        "\n",
        "# confusion matrix\n",
        "print('Confusion Matrix : \\n {}'.format(confusion_matrix(Y_test, y_pred)))\n",
        "\n",
        "# 목표변수의 불균형 : f1score로 모델 평가\n",
        "print(classification_report(Y_test, y_pred, digits = 4))"
      ]
    },
    {
      "cell_type": "code",
      "execution_count": 185,
      "id": "5e4de727",
      "metadata": {
        "id": "5e4de727",
        "colab": {
          "base_uri": "https://localhost:8080/",
          "height": 296
        },
        "outputId": "559e8124-a84e-4c2b-b480-479a7ade5c85"
      },
      "outputs": [
        {
          "output_type": "display_data",
          "data": {
            "text/plain": [
              "<Figure size 432x288 with 1 Axes>"
            ],
            "image/png": "[encoded data removed]"
          },
          "metadata": {
            "needs_background": "light"
          }
        },
        {
          "output_type": "execute_result",
          "data": {
            "text/plain": [
              "0.6599204289915239"
            ]
          },
          "metadata": {},
          "execution_count": 185
        }
      ],
      "source": [
        "#모델 성능 평가: precision, Recall, F1 Score, ROC Curve, AUC\n",
        "from sklearn.metrics import precision_score,recall_score,f1_score,roc_curve,auc\n",
        "# roc curve 그리기, label에 auc표시(소수점 2자리)\n",
        "fpr, tpr, thresholds = roc_curve(Y_test, y_pred)\n",
        "roc_auc = auc(fpr, tpr)\n",
        "\n",
        "# save auc \n",
        "model_auc.append(roc_auc)\n",
        "\n",
        "plt.plot(fpr, tpr, label =\"AUC=0.2f\"% roc_auc)\n",
        "plt.legend(loc = 'lower right')\n",
        "plt.ylabel('TPR')\n",
        "plt.xlabel('FPR')\n",
        "plt.show()\n",
        "\n",
        "roc_auc "
      ]
    },
    {
      "cell_type": "code",
      "source": [
        "roc_auc"
      ],
      "metadata": {
        "colab": {
          "base_uri": "https://localhost:8080/"
        },
        "id": "OCxgCptyn49Q",
        "outputId": "e8f30402-b6b8-4884-85e2-c1e2ce25bb4f"
      },
      "id": "OCxgCptyn49Q",
      "execution_count": 92,
      "outputs": [
        {
          "output_type": "execute_result",
          "data": {
            "text/plain": [
              "0.7839241582986177"
            ]
          },
          "metadata": {},
          "execution_count": 92
        }
      ]
    },
    {
      "cell_type": "code",
      "execution_count": 107,
      "id": "f6634fa7",
      "metadata": {
        "id": "f6634fa7"
      },
      "outputs": [],
      "source": [
        "#precision, recall score\n",
        "model_precision.append(precision_score(Y_test,y_pred))\n",
        "model_recall.append(recall_score(Y_test, y_pred))\n",
        "\n",
        "#f1 score\n",
        "model_f1_score.append(f1_score(Y_test, y_pred))"
      ]
    },
    {
      "cell_type": "code",
      "source": [
        "model_precision"
      ],
      "metadata": {
        "colab": {
          "base_uri": "https://localhost:8080/"
        },
        "id": "bAK3uiwsnZCG",
        "outputId": "ff3e1686-3f5e-4549-cfed-52d636238949"
      },
      "id": "bAK3uiwsnZCG",
      "execution_count": 84,
      "outputs": [
        {
          "output_type": "execute_result",
          "data": {
            "text/plain": [
              "[0.9271936973648465]"
            ]
          },
          "metadata": {},
          "execution_count": 84
        }
      ]
    },
    {
      "cell_type": "markdown",
      "id": "e451ad6e",
      "metadata": {
        "id": "e451ad6e"
      },
      "source": [
        "#### RandomForest"
      ]
    },
    {
      "cell_type": "code",
      "execution_count": 182,
      "id": "23a21a11",
      "metadata": {
        "id": "23a21a11",
        "colab": {
          "base_uri": "https://localhost:8080/"
        },
        "outputId": "d7d88929-f315-4efb-bf7a-eb5fc3c051f8"
      },
      "outputs": [
        {
          "output_type": "stream",
          "name": "stdout",
          "text": [
            "Accuracy on training Set : 0.8012\n",
            "Accuracy on test Set : 0.7175\n",
            "Confusion Matrix : \n",
            " [[ 48  34]\n",
            " [ 29 112]]\n",
            "              precision    recall  f1-score   support\n",
            "\n",
            "           0     0.6234    0.5854    0.6038        82\n",
            "           1     0.7671    0.7943    0.7805       141\n",
            "\n",
            "    accuracy                         0.7175       223\n",
            "   macro avg     0.6952    0.6898    0.6921       223\n",
            "weighted avg     0.7143    0.7175    0.7155       223\n",
            "\n"
          ]
        }
      ],
      "source": [
        "from sklearn.metrics import accuracy_score, f1_score\n",
        "from sklearn.metrics import confusion_matrix, classification_report\n",
        "\n",
        "pipe_model_rf = make_pipeline(preprocessing_pipe, \n",
        "                                 ADASYN(), \n",
        "                                 RandomForestClassifier(random_state = 1234,\n",
        "                                                    criterion = 'entropy',\n",
        "                                                    max_depth = 10, \n",
        "                                                    max_features = None,\n",
        "                                                    min_samples_leaf = 6,\n",
        "                                                    min_samples_split = 40))\n",
        "pipe_model_rf.fit(X_train, Y_train)\n",
        "y_pred = pipe_model_rf.predict(X_test) \n",
        "\n",
        "print('Accuracy on training Set : {:.4f}'.format(pipe_model_rf.score(X_train, Y_train)))\n",
        "\n",
        "# train 정확도\n",
        "train_accuracy.append(pipe_model_rf.score(X_train, Y_train))\n",
        "\n",
        "print('Accuracy on test Set : {:.4f}'.format(pipe_model_rf.score(X_test, Y_test)))\n",
        "\n",
        "# test 정확도\n",
        "test_accuracy.append(pipe_model_rf.score(X_test, Y_test))\n",
        "\n",
        "# confusion matrix\n",
        "print('Confusion Matrix : \\n {}'.format(confusion_matrix(Y_test, y_pred)))\n",
        "\n",
        "# 목표변수의 불균형 : f1score로 모델 평가\n",
        "print(classification_report(Y_test, y_pred, digits = 4))"
      ]
    },
    {
      "cell_type": "code",
      "source": [
        "roc = roc_auc_score(Y_test, pipe_model_et.predict_proba(X_test)[:,1])\n",
        "roc"
      ],
      "metadata": {
        "colab": {
          "base_uri": "https://localhost:8080/"
        },
        "id": "wLy9p8w2nnMf",
        "outputId": "b83e0c56-f24c-46c0-e4eb-65cdaad7dadc"
      },
      "id": "wLy9p8w2nnMf",
      "execution_count": 163,
      "outputs": [
        {
          "output_type": "execute_result",
          "data": {
            "text/plain": [
              "0.8761970229828413"
            ]
          },
          "metadata": {},
          "execution_count": 163
        }
      ]
    },
    {
      "cell_type": "code",
      "execution_count": 183,
      "id": "bc473d94",
      "metadata": {
        "id": "bc473d94",
        "colab": {
          "base_uri": "https://localhost:8080/",
          "height": 296
        },
        "outputId": "6a416d88-bc7e-4851-aa10-dc2553690775"
      },
      "outputs": [
        {
          "output_type": "display_data",
          "data": {
            "text/plain": [
              "<Figure size 432x288 with 1 Axes>"
            ],
            "image/png": "[encoded data removed]"
          },
          "metadata": {
            "needs_background": "light"
          }
        },
        {
          "output_type": "execute_result",
          "data": {
            "text/plain": [
              "0.6898460473966443"
            ]
          },
          "metadata": {},
          "execution_count": 183
        }
      ],
      "source": [
        "#모델 성능 평가: precision, Recall, F1 Score, ROC Curve, AUC\n",
        "from sklearn.metrics import precision_score,recall_score,f1_score,roc_curve,auc\n",
        "# roc curve 그리기, label에 auc표시(소수점 2자리)\n",
        "fpr, tpr, thresholds = roc_curve(Y_test, y_pred)\n",
        "roc_auc = auc(fpr, tpr)\n",
        "\n",
        "# save auc \n",
        "model_auc.append(roc_auc)\n",
        "\n",
        "plt.plot(fpr, tpr, label =\"AUC=0.2f\"% roc_auc)\n",
        "plt.legend(loc = 'lower right')\n",
        "plt.ylabel('TPR')\n",
        "plt.xlabel('FPR')\n",
        "plt.show()\n",
        "\n",
        "roc_auc"
      ]
    },
    {
      "cell_type": "code",
      "source": [
        "auc(fpr, tpr)"
      ],
      "metadata": {
        "colab": {
          "base_uri": "https://localhost:8080/"
        },
        "id": "sJXJiZbwnuXt",
        "outputId": "185f0ff4-2895-4c4e-c1d2-55b7710e8dc2"
      },
      "id": "sJXJiZbwnuXt",
      "execution_count": 110,
      "outputs": [
        {
          "output_type": "execute_result",
          "data": {
            "text/plain": [
              "0.7143912629934098"
            ]
          },
          "metadata": {},
          "execution_count": 110
        }
      ]
    },
    {
      "cell_type": "code",
      "source": [
        "pipe_model_rf.predict_proba(X_test)[:,1]"
      ],
      "metadata": {
        "colab": {
          "base_uri": "https://localhost:8080/"
        },
        "id": "KCs-4Zlveer2",
        "outputId": "17f5cd89-a585-40e0-86fe-e62788d27e20"
      },
      "id": "KCs-4Zlveer2",
      "execution_count": 57,
      "outputs": [
        {
          "output_type": "execute_result",
          "data": {
            "text/plain": [
              "array([1.        , 0.97498071, 0.88399118, ..., 0.2622021 , 0.99226503,\n",
              "       1.        ])"
            ]
          },
          "metadata": {},
          "execution_count": 57
        }
      ]
    },
    {
      "cell_type": "markdown",
      "source": [
        "#### 모델 저장 및 불러오기"
      ],
      "metadata": {
        "id": "XGVhJ_RClkhL"
      },
      "id": "XGVhJ_RClkhL"
    },
    {
      "cell_type": "code",
      "source": [
        "import pickle\n",
        "# 모델 저장하기\n",
        "with open('model_rf.sav','wb') as lf:\n",
        "    pickle.dump(pipe_model_rf, lf)"
      ],
      "metadata": {
        "id": "K-gifVMHem6n"
      },
      "id": "K-gifVMHem6n",
      "execution_count": 58,
      "outputs": []
    },
    {
      "cell_type": "code",
      "source": [
        "# 모델 불러오기 \n",
        "with open('mode_rf.save', 'rb') as lf:\n",
        "    data = pickle.load(lf)"
      ],
      "metadata": {
        "id": "mjzYGrItl4oU"
      },
      "id": "mjzYGrItl4oU",
      "execution_count": null,
      "outputs": []
    },
    {
      "cell_type": "code",
      "execution_count": 111,
      "id": "524447a2",
      "metadata": {
        "id": "524447a2"
      },
      "outputs": [],
      "source": [
        "#precision, recall score\n",
        "model_precision.append(precision_score(Y_test,y_pred))\n",
        "model_recall.append(recall_score(Y_test, y_pred))\n",
        "\n",
        "#f1 score\n",
        "model_f1_score.append(f1_score(Y_test, y_pred))"
      ]
    },
    {
      "cell_type": "markdown",
      "id": "ae8eacd1",
      "metadata": {
        "id": "ae8eacd1"
      },
      "source": [
        "#### XGBoost"
      ]
    },
    {
      "cell_type": "code",
      "execution_count": 176,
      "id": "12d92182",
      "metadata": {
        "colab": {
          "base_uri": "https://localhost:8080/"
        },
        "id": "12d92182",
        "outputId": "0cc2e5de-52b4-4415-878a-0cfc3c947c1d"
      },
      "outputs": [
        {
          "output_type": "stream",
          "name": "stdout",
          "text": [
            "Accuracy on training Set : 0.9103\n",
            "Accuracy on test Set : 0.7309\n",
            "Confusion Matrix : \n",
            " [[ 45  37]\n",
            " [ 23 118]]\n",
            "              precision    recall  f1-score   support\n",
            "\n",
            "           0     0.6618    0.5488    0.6000        82\n",
            "           1     0.7613    0.8369    0.7973       141\n",
            "\n",
            "    accuracy                         0.7309       223\n",
            "   macro avg     0.7115    0.6928    0.6986       223\n",
            "weighted avg     0.7247    0.7309    0.7247       223\n",
            "\n"
          ]
        }
      ],
      "source": [
        "from sklearn.metrics import accuracy_score, f1_score\n",
        "from sklearn.metrics import confusion_matrix, classification_report\n",
        "\n",
        "pipe_model_xg = make_pipeline(preprocessing_pipe, \n",
        "                                 ADASYN(), \n",
        "                                 XGBClassifier(random_state = 1234, learning_rate = 0.1, max_depth = 4, n_estimators = 100))\n",
        "                                               \n",
        "                                               \n",
        "                                              #  learning_rate = 0.1, max_depth = 8, \n",
        "                                              #  min_child_weight = 10, n_estimators = 110))\n",
        "\n",
        "pipe_model_xg.fit(X_train, Y_train)\n",
        "y_pred = pipe_model_xg.predict(X_test) \n",
        "\n",
        "\n",
        "\n",
        "print('Accuracy on training Set : {:.4f}'.format(pipe_model_xg.score(X_train, Y_train)))\n",
        "\n",
        "# train 정확도\n",
        "train_accuracy.append(pipe_model_xg.score(X_train, Y_train))\n",
        "\n",
        "\n",
        "print('Accuracy on test Set : {:.4f}'.format(pipe_model_xg.score(X_test, Y_test)))\n",
        "\n",
        "# test 정확도\n",
        "test_accuracy.append(pipe_model_xg.score(X_test, Y_test))\n",
        "\n",
        "# confusion matrix\n",
        "print('Confusion Matrix : \\n {}'.format(confusion_matrix(Y_test, y_pred)))\n",
        "\n",
        "# 목표변수의 불균형 : f1score로 모델 평가\n",
        "print(classification_report(Y_test, y_pred, digits = 4))"
      ]
    },
    {
      "cell_type": "code",
      "execution_count": 177,
      "id": "a945986c",
      "metadata": {
        "id": "a945986c",
        "colab": {
          "base_uri": "https://localhost:8080/",
          "height": 296
        },
        "outputId": "063f5b55-5851-4728-d1d6-a4ec70d1826f"
      },
      "outputs": [
        {
          "output_type": "display_data",
          "data": {
            "text/plain": [
              "<Figure size 432x288 with 1 Axes>"
            ],
            "image/png": "[encoded data removed]"
          },
          "metadata": {
            "needs_background": "light"
          }
        },
        {
          "output_type": "execute_result",
          "data": {
            "text/plain": [
              "0.6928299602144958"
            ]
          },
          "metadata": {},
          "execution_count": 177
        }
      ],
      "source": [
        "#모델 성능 평가: precision, Recall, F1 Score, ROC Curve, AUC\n",
        "from sklearn.metrics import precision_score,recall_score,f1_score,roc_curve,auc\n",
        "# roc curve 그리기, label에 auc표시(소수점 2자리)\n",
        "fpr, tpr, thresholds = roc_curve(Y_test, y_pred)\n",
        "roc_auc = auc(fpr, tpr)\n",
        "\n",
        "# save auc \n",
        "model_auc.append(roc_auc)\n",
        "\n",
        "plt.plot(fpr, tpr, label =\"AUC=0.2f\"% roc_auc)\n",
        "plt.legend(loc = 'lower right')\n",
        "plt.ylabel('TPR')\n",
        "plt.xlabel('FPR')\n",
        "plt.show()\n",
        "roc_auc"
      ]
    },
    {
      "cell_type": "code",
      "source": [
        "roc_auc "
      ],
      "metadata": {
        "colab": {
          "base_uri": "https://localhost:8080/"
        },
        "id": "BWrPiK-eoZpL",
        "outputId": "8b6756e3-0754-4891-b52c-4d38eaf1f06b"
      },
      "id": "BWrPiK-eoZpL",
      "execution_count": 95,
      "outputs": [
        {
          "output_type": "execute_result",
          "data": {
            "text/plain": [
              "0.7196233222639616"
            ]
          },
          "metadata": {},
          "execution_count": 95
        }
      ]
    },
    {
      "cell_type": "code",
      "execution_count": 114,
      "id": "78238c8a",
      "metadata": {
        "id": "78238c8a"
      },
      "outputs": [],
      "source": [
        "#precision, recall score\n",
        "model_precision.append(precision_score(Y_test,y_pred))\n",
        "model_recall.append(recall_score(Y_test, y_pred))\n",
        "\n",
        "#f1 score\n",
        "model_f1_score.append(f1_score(Y_test, y_pred))"
      ]
    },
    {
      "cell_type": "markdown",
      "id": "7ae1d4fc",
      "metadata": {
        "id": "7ae1d4fc"
      },
      "source": [
        "#### CatBoost"
      ]
    },
    {
      "cell_type": "code",
      "execution_count": 178,
      "id": "aba8066c",
      "metadata": {
        "id": "aba8066c",
        "colab": {
          "base_uri": "https://localhost:8080/"
        },
        "outputId": "b8c08284-b345-4cad-b760-afcff918762b"
      },
      "outputs": [
        {
          "output_type": "stream",
          "name": "stdout",
          "text": [
            "0:\tlearn: 0.6720930\ttotal: 4.12ms\tremaining: 4.11s\n",
            "1:\tlearn: 0.6524736\ttotal: 6.24ms\tremaining: 3.12s\n",
            "2:\tlearn: 0.6359641\ttotal: 8.31ms\tremaining: 2.76s\n",
            "3:\tlearn: 0.6215377\ttotal: 10.5ms\tremaining: 2.61s\n",
            "4:\tlearn: 0.6056125\ttotal: 13ms\tremaining: 2.58s\n",
            "5:\tlearn: 0.5919927\ttotal: 15.7ms\tremaining: 2.6s\n",
            "6:\tlearn: 0.5818754\ttotal: 17.9ms\tremaining: 2.54s\n",
            "7:\tlearn: 0.5725330\ttotal: 20.1ms\tremaining: 2.49s\n",
            "8:\tlearn: 0.5625610\ttotal: 22.5ms\tremaining: 2.48s\n",
            "9:\tlearn: 0.5536424\ttotal: 25.8ms\tremaining: 2.55s\n",
            "10:\tlearn: 0.5446692\ttotal: 28.8ms\tremaining: 2.59s\n",
            "11:\tlearn: 0.5365969\ttotal: 35.2ms\tremaining: 2.9s\n",
            "12:\tlearn: 0.5321290\ttotal: 41.7ms\tremaining: 3.17s\n",
            "13:\tlearn: 0.5238948\ttotal: 48ms\tremaining: 3.38s\n",
            "14:\tlearn: 0.5166117\ttotal: 54.6ms\tremaining: 3.59s\n",
            "15:\tlearn: 0.5100451\ttotal: 60.9ms\tremaining: 3.75s\n",
            "16:\tlearn: 0.5053180\ttotal: 67.3ms\tremaining: 3.89s\n",
            "17:\tlearn: 0.4988809\ttotal: 73.7ms\tremaining: 4.02s\n",
            "18:\tlearn: 0.4926017\ttotal: 80.1ms\tremaining: 4.13s\n",
            "19:\tlearn: 0.4881121\ttotal: 82.7ms\tremaining: 4.05s\n",
            "20:\tlearn: 0.4824979\ttotal: 86.8ms\tremaining: 4.05s\n",
            "21:\tlearn: 0.4780254\ttotal: 88.9ms\tremaining: 3.95s\n",
            "22:\tlearn: 0.4736490\ttotal: 91ms\tremaining: 3.86s\n",
            "23:\tlearn: 0.4700288\ttotal: 93.1ms\tremaining: 3.79s\n",
            "24:\tlearn: 0.4661525\ttotal: 95.2ms\tremaining: 3.71s\n",
            "25:\tlearn: 0.4613479\ttotal: 97.5ms\tremaining: 3.65s\n",
            "26:\tlearn: 0.4568996\ttotal: 99.8ms\tremaining: 3.6s\n",
            "27:\tlearn: 0.4544113\ttotal: 102ms\tremaining: 3.55s\n",
            "28:\tlearn: 0.4519769\ttotal: 105ms\tremaining: 3.5s\n",
            "29:\tlearn: 0.4479216\ttotal: 107ms\tremaining: 3.46s\n",
            "30:\tlearn: 0.4424638\ttotal: 110ms\tremaining: 3.42s\n",
            "31:\tlearn: 0.4403256\ttotal: 112ms\tremaining: 3.39s\n",
            "32:\tlearn: 0.4371173\ttotal: 114ms\tremaining: 3.35s\n",
            "33:\tlearn: 0.4347019\ttotal: 117ms\tremaining: 3.32s\n",
            "34:\tlearn: 0.4309635\ttotal: 119ms\tremaining: 3.29s\n",
            "35:\tlearn: 0.4264818\ttotal: 122ms\tremaining: 3.26s\n",
            "36:\tlearn: 0.4237857\ttotal: 124ms\tremaining: 3.23s\n",
            "37:\tlearn: 0.4210770\ttotal: 127ms\tremaining: 3.2s\n",
            "38:\tlearn: 0.4182923\ttotal: 129ms\tremaining: 3.18s\n",
            "39:\tlearn: 0.4156136\ttotal: 132ms\tremaining: 3.17s\n",
            "40:\tlearn: 0.4122985\ttotal: 134ms\tremaining: 3.15s\n",
            "41:\tlearn: 0.4098994\ttotal: 137ms\tremaining: 3.12s\n",
            "42:\tlearn: 0.4075072\ttotal: 139ms\tremaining: 3.1s\n",
            "43:\tlearn: 0.4050472\ttotal: 142ms\tremaining: 3.08s\n",
            "44:\tlearn: 0.4022191\ttotal: 144ms\tremaining: 3.06s\n",
            "45:\tlearn: 0.3994735\ttotal: 147ms\tremaining: 3.04s\n",
            "46:\tlearn: 0.3976865\ttotal: 149ms\tremaining: 3.02s\n",
            "47:\tlearn: 0.3948786\ttotal: 151ms\tremaining: 3s\n",
            "48:\tlearn: 0.3927616\ttotal: 154ms\tremaining: 2.98s\n",
            "49:\tlearn: 0.3904480\ttotal: 156ms\tremaining: 2.97s\n",
            "50:\tlearn: 0.3881985\ttotal: 160ms\tremaining: 2.98s\n",
            "51:\tlearn: 0.3861372\ttotal: 163ms\tremaining: 2.96s\n",
            "52:\tlearn: 0.3829736\ttotal: 165ms\tremaining: 2.94s\n",
            "53:\tlearn: 0.3810359\ttotal: 167ms\tremaining: 2.92s\n",
            "54:\tlearn: 0.3795303\ttotal: 169ms\tremaining: 2.9s\n",
            "55:\tlearn: 0.3756363\ttotal: 171ms\tremaining: 2.89s\n",
            "56:\tlearn: 0.3733620\ttotal: 174ms\tremaining: 2.87s\n",
            "57:\tlearn: 0.3722111\ttotal: 176ms\tremaining: 2.86s\n",
            "58:\tlearn: 0.3711958\ttotal: 179ms\tremaining: 2.85s\n",
            "59:\tlearn: 0.3690528\ttotal: 183ms\tremaining: 2.87s\n",
            "60:\tlearn: 0.3666468\ttotal: 190ms\tremaining: 2.93s\n",
            "61:\tlearn: 0.3648297\ttotal: 198ms\tremaining: 2.99s\n",
            "62:\tlearn: 0.3630662\ttotal: 202ms\tremaining: 3.01s\n",
            "63:\tlearn: 0.3612786\ttotal: 210ms\tremaining: 3.08s\n",
            "64:\tlearn: 0.3592493\ttotal: 218ms\tremaining: 3.13s\n",
            "65:\tlearn: 0.3579414\ttotal: 220ms\tremaining: 3.12s\n",
            "66:\tlearn: 0.3562350\ttotal: 223ms\tremaining: 3.1s\n",
            "67:\tlearn: 0.3548728\ttotal: 225ms\tremaining: 3.09s\n",
            "68:\tlearn: 0.3522352\ttotal: 228ms\tremaining: 3.07s\n",
            "69:\tlearn: 0.3492767\ttotal: 230ms\tremaining: 3.06s\n",
            "70:\tlearn: 0.3471478\ttotal: 233ms\tremaining: 3.04s\n",
            "71:\tlearn: 0.3461639\ttotal: 235ms\tremaining: 3.03s\n",
            "72:\tlearn: 0.3445402\ttotal: 238ms\tremaining: 3.02s\n",
            "73:\tlearn: 0.3428245\ttotal: 240ms\tremaining: 3s\n",
            "74:\tlearn: 0.3412001\ttotal: 242ms\tremaining: 2.99s\n",
            "75:\tlearn: 0.3398272\ttotal: 245ms\tremaining: 2.98s\n",
            "76:\tlearn: 0.3387322\ttotal: 247ms\tremaining: 2.96s\n",
            "77:\tlearn: 0.3378365\ttotal: 250ms\tremaining: 2.95s\n",
            "78:\tlearn: 0.3370425\ttotal: 252ms\tremaining: 2.94s\n",
            "79:\tlearn: 0.3359945\ttotal: 255ms\tremaining: 2.93s\n",
            "80:\tlearn: 0.3332581\ttotal: 257ms\tremaining: 2.92s\n",
            "81:\tlearn: 0.3315017\ttotal: 260ms\tremaining: 2.91s\n",
            "82:\tlearn: 0.3305511\ttotal: 262ms\tremaining: 2.9s\n",
            "83:\tlearn: 0.3289843\ttotal: 265ms\tremaining: 2.89s\n",
            "84:\tlearn: 0.3275722\ttotal: 267ms\tremaining: 2.88s\n",
            "85:\tlearn: 0.3253941\ttotal: 270ms\tremaining: 2.87s\n",
            "86:\tlearn: 0.3237791\ttotal: 272ms\tremaining: 2.85s\n",
            "87:\tlearn: 0.3219011\ttotal: 274ms\tremaining: 2.84s\n",
            "88:\tlearn: 0.3205919\ttotal: 277ms\tremaining: 2.83s\n",
            "89:\tlearn: 0.3184506\ttotal: 279ms\tremaining: 2.82s\n",
            "90:\tlearn: 0.3173192\ttotal: 282ms\tremaining: 2.81s\n",
            "91:\tlearn: 0.3161866\ttotal: 284ms\tremaining: 2.8s\n",
            "92:\tlearn: 0.3153728\ttotal: 287ms\tremaining: 2.79s\n",
            "93:\tlearn: 0.3140852\ttotal: 294ms\tremaining: 2.83s\n",
            "94:\tlearn: 0.3122347\ttotal: 299ms\tremaining: 2.85s\n",
            "95:\tlearn: 0.3097697\ttotal: 301ms\tremaining: 2.84s\n",
            "96:\tlearn: 0.3080745\ttotal: 304ms\tremaining: 2.83s\n",
            "97:\tlearn: 0.3062985\ttotal: 306ms\tremaining: 2.82s\n",
            "98:\tlearn: 0.3045187\ttotal: 309ms\tremaining: 2.81s\n",
            "99:\tlearn: 0.3032964\ttotal: 311ms\tremaining: 2.8s\n",
            "100:\tlearn: 0.3016896\ttotal: 314ms\tremaining: 2.79s\n",
            "101:\tlearn: 0.3000404\ttotal: 316ms\tremaining: 2.79s\n",
            "102:\tlearn: 0.2985103\ttotal: 318ms\tremaining: 2.77s\n",
            "103:\tlearn: 0.2964088\ttotal: 321ms\tremaining: 2.76s\n",
            "104:\tlearn: 0.2953023\ttotal: 323ms\tremaining: 2.75s\n",
            "105:\tlearn: 0.2936965\ttotal: 326ms\tremaining: 2.75s\n",
            "106:\tlearn: 0.2923292\ttotal: 328ms\tremaining: 2.74s\n",
            "107:\tlearn: 0.2901559\ttotal: 333ms\tremaining: 2.75s\n",
            "108:\tlearn: 0.2889479\ttotal: 335ms\tremaining: 2.74s\n",
            "109:\tlearn: 0.2870140\ttotal: 337ms\tremaining: 2.73s\n",
            "110:\tlearn: 0.2863093\ttotal: 340ms\tremaining: 2.72s\n",
            "111:\tlearn: 0.2853156\ttotal: 343ms\tremaining: 2.72s\n",
            "112:\tlearn: 0.2839705\ttotal: 345ms\tremaining: 2.71s\n",
            "113:\tlearn: 0.2817938\ttotal: 348ms\tremaining: 2.7s\n",
            "114:\tlearn: 0.2804184\ttotal: 350ms\tremaining: 2.69s\n",
            "115:\tlearn: 0.2795647\ttotal: 353ms\tremaining: 2.69s\n",
            "116:\tlearn: 0.2780153\ttotal: 355ms\tremaining: 2.68s\n",
            "117:\tlearn: 0.2766223\ttotal: 357ms\tremaining: 2.67s\n",
            "118:\tlearn: 0.2754385\ttotal: 360ms\tremaining: 2.67s\n",
            "119:\tlearn: 0.2736319\ttotal: 363ms\tremaining: 2.66s\n",
            "120:\tlearn: 0.2720442\ttotal: 365ms\tremaining: 2.65s\n",
            "121:\tlearn: 0.2711830\ttotal: 368ms\tremaining: 2.65s\n",
            "122:\tlearn: 0.2704877\ttotal: 370ms\tremaining: 2.64s\n",
            "123:\tlearn: 0.2697253\ttotal: 375ms\tremaining: 2.65s\n",
            "124:\tlearn: 0.2683747\ttotal: 378ms\tremaining: 2.65s\n",
            "125:\tlearn: 0.2668622\ttotal: 383ms\tremaining: 2.65s\n",
            "126:\tlearn: 0.2657352\ttotal: 385ms\tremaining: 2.65s\n",
            "127:\tlearn: 0.2648434\ttotal: 388ms\tremaining: 2.64s\n",
            "128:\tlearn: 0.2632055\ttotal: 390ms\tremaining: 2.64s\n",
            "129:\tlearn: 0.2625403\ttotal: 393ms\tremaining: 2.63s\n",
            "130:\tlearn: 0.2615555\ttotal: 395ms\tremaining: 2.62s\n",
            "131:\tlearn: 0.2602990\ttotal: 398ms\tremaining: 2.62s\n",
            "132:\tlearn: 0.2595116\ttotal: 401ms\tremaining: 2.61s\n",
            "133:\tlearn: 0.2581625\ttotal: 403ms\tremaining: 2.6s\n",
            "134:\tlearn: 0.2572512\ttotal: 406ms\tremaining: 2.6s\n",
            "135:\tlearn: 0.2560463\ttotal: 408ms\tremaining: 2.59s\n",
            "136:\tlearn: 0.2546425\ttotal: 411ms\tremaining: 2.59s\n",
            "137:\tlearn: 0.2533221\ttotal: 413ms\tremaining: 2.58s\n",
            "138:\tlearn: 0.2515560\ttotal: 416ms\tremaining: 2.57s\n",
            "139:\tlearn: 0.2501761\ttotal: 420ms\tremaining: 2.58s\n",
            "140:\tlearn: 0.2481434\ttotal: 423ms\tremaining: 2.58s\n",
            "141:\tlearn: 0.2470757\ttotal: 425ms\tremaining: 2.57s\n",
            "142:\tlearn: 0.2459672\ttotal: 428ms\tremaining: 2.56s\n",
            "143:\tlearn: 0.2451318\ttotal: 430ms\tremaining: 2.56s\n",
            "144:\tlearn: 0.2445124\ttotal: 433ms\tremaining: 2.55s\n",
            "145:\tlearn: 0.2431080\ttotal: 435ms\tremaining: 2.54s\n",
            "146:\tlearn: 0.2421751\ttotal: 438ms\tremaining: 2.54s\n",
            "147:\tlearn: 0.2411796\ttotal: 440ms\tremaining: 2.53s\n",
            "148:\tlearn: 0.2401915\ttotal: 443ms\tremaining: 2.53s\n",
            "149:\tlearn: 0.2391336\ttotal: 445ms\tremaining: 2.52s\n",
            "150:\tlearn: 0.2381443\ttotal: 447ms\tremaining: 2.52s\n",
            "151:\tlearn: 0.2374731\ttotal: 450ms\tremaining: 2.51s\n",
            "152:\tlearn: 0.2364278\ttotal: 452ms\tremaining: 2.5s\n",
            "153:\tlearn: 0.2347665\ttotal: 455ms\tremaining: 2.5s\n",
            "154:\tlearn: 0.2341237\ttotal: 458ms\tremaining: 2.5s\n",
            "155:\tlearn: 0.2333049\ttotal: 460ms\tremaining: 2.49s\n",
            "156:\tlearn: 0.2321682\ttotal: 463ms\tremaining: 2.48s\n",
            "157:\tlearn: 0.2307849\ttotal: 465ms\tremaining: 2.48s\n",
            "158:\tlearn: 0.2294726\ttotal: 468ms\tremaining: 2.47s\n",
            "159:\tlearn: 0.2285492\ttotal: 470ms\tremaining: 2.47s\n",
            "160:\tlearn: 0.2273959\ttotal: 473ms\tremaining: 2.46s\n",
            "161:\tlearn: 0.2267744\ttotal: 475ms\tremaining: 2.46s\n",
            "162:\tlearn: 0.2255850\ttotal: 477ms\tremaining: 2.45s\n",
            "163:\tlearn: 0.2240951\ttotal: 480ms\tremaining: 2.45s\n",
            "164:\tlearn: 0.2229622\ttotal: 483ms\tremaining: 2.44s\n",
            "165:\tlearn: 0.2219983\ttotal: 485ms\tremaining: 2.44s\n",
            "166:\tlearn: 0.2211559\ttotal: 487ms\tremaining: 2.43s\n",
            "167:\tlearn: 0.2202040\ttotal: 490ms\tremaining: 2.42s\n",
            "168:\tlearn: 0.2191006\ttotal: 492ms\tremaining: 2.42s\n",
            "169:\tlearn: 0.2181618\ttotal: 495ms\tremaining: 2.42s\n",
            "170:\tlearn: 0.2171584\ttotal: 497ms\tremaining: 2.41s\n",
            "171:\tlearn: 0.2161577\ttotal: 500ms\tremaining: 2.41s\n",
            "172:\tlearn: 0.2153508\ttotal: 502ms\tremaining: 2.4s\n",
            "173:\tlearn: 0.2143880\ttotal: 505ms\tremaining: 2.4s\n",
            "174:\tlearn: 0.2131825\ttotal: 507ms\tremaining: 2.39s\n",
            "175:\tlearn: 0.2121868\ttotal: 510ms\tremaining: 2.38s\n",
            "176:\tlearn: 0.2111395\ttotal: 512ms\tremaining: 2.38s\n",
            "177:\tlearn: 0.2101184\ttotal: 515ms\tremaining: 2.38s\n",
            "178:\tlearn: 0.2089715\ttotal: 518ms\tremaining: 2.37s\n",
            "179:\tlearn: 0.2076800\ttotal: 520ms\tremaining: 2.37s\n",
            "180:\tlearn: 0.2067621\ttotal: 523ms\tremaining: 2.36s\n",
            "181:\tlearn: 0.2059575\ttotal: 525ms\tremaining: 2.36s\n",
            "182:\tlearn: 0.2048075\ttotal: 527ms\tremaining: 2.35s\n",
            "183:\tlearn: 0.2035714\ttotal: 530ms\tremaining: 2.35s\n",
            "184:\tlearn: 0.2030341\ttotal: 532ms\tremaining: 2.35s\n",
            "185:\tlearn: 0.2022635\ttotal: 535ms\tremaining: 2.34s\n",
            "186:\tlearn: 0.2015958\ttotal: 537ms\tremaining: 2.34s\n",
            "187:\tlearn: 0.2004582\ttotal: 541ms\tremaining: 2.34s\n",
            "188:\tlearn: 0.1995100\ttotal: 543ms\tremaining: 2.33s\n",
            "189:\tlearn: 0.1984650\ttotal: 546ms\tremaining: 2.33s\n",
            "190:\tlearn: 0.1979280\ttotal: 549ms\tremaining: 2.32s\n",
            "191:\tlearn: 0.1968459\ttotal: 551ms\tremaining: 2.32s\n",
            "192:\tlearn: 0.1960158\ttotal: 553ms\tremaining: 2.31s\n",
            "193:\tlearn: 0.1952857\ttotal: 556ms\tremaining: 2.31s\n",
            "194:\tlearn: 0.1946198\ttotal: 559ms\tremaining: 2.31s\n",
            "195:\tlearn: 0.1935897\ttotal: 561ms\tremaining: 2.3s\n",
            "196:\tlearn: 0.1927739\ttotal: 564ms\tremaining: 2.3s\n",
            "197:\tlearn: 0.1917445\ttotal: 570ms\tremaining: 2.31s\n",
            "198:\tlearn: 0.1906010\ttotal: 574ms\tremaining: 2.31s\n",
            "199:\tlearn: 0.1897585\ttotal: 578ms\tremaining: 2.31s\n",
            "200:\tlearn: 0.1889525\ttotal: 582ms\tremaining: 2.31s\n",
            "201:\tlearn: 0.1887858\ttotal: 586ms\tremaining: 2.31s\n",
            "202:\tlearn: 0.1882549\ttotal: 591ms\tremaining: 2.32s\n",
            "203:\tlearn: 0.1873187\ttotal: 595ms\tremaining: 2.32s\n",
            "204:\tlearn: 0.1861192\ttotal: 602ms\tremaining: 2.33s\n",
            "205:\tlearn: 0.1853965\ttotal: 607ms\tremaining: 2.34s\n",
            "206:\tlearn: 0.1848123\ttotal: 609ms\tremaining: 2.33s\n",
            "207:\tlearn: 0.1840913\ttotal: 612ms\tremaining: 2.33s\n",
            "208:\tlearn: 0.1840588\ttotal: 614ms\tremaining: 2.32s\n",
            "209:\tlearn: 0.1833322\ttotal: 616ms\tremaining: 2.32s\n",
            "210:\tlearn: 0.1824189\ttotal: 619ms\tremaining: 2.31s\n",
            "211:\tlearn: 0.1814695\ttotal: 621ms\tremaining: 2.31s\n",
            "212:\tlearn: 0.1805193\ttotal: 624ms\tremaining: 2.3s\n",
            "213:\tlearn: 0.1798056\ttotal: 626ms\tremaining: 2.3s\n",
            "214:\tlearn: 0.1792445\ttotal: 629ms\tremaining: 2.3s\n",
            "215:\tlearn: 0.1779203\ttotal: 631ms\tremaining: 2.29s\n",
            "216:\tlearn: 0.1771089\ttotal: 634ms\tremaining: 2.29s\n",
            "217:\tlearn: 0.1762752\ttotal: 636ms\tremaining: 2.28s\n",
            "218:\tlearn: 0.1754571\ttotal: 639ms\tremaining: 2.28s\n",
            "219:\tlearn: 0.1748196\ttotal: 641ms\tremaining: 2.27s\n",
            "220:\tlearn: 0.1738480\ttotal: 644ms\tremaining: 2.27s\n",
            "221:\tlearn: 0.1734920\ttotal: 646ms\tremaining: 2.26s\n",
            "222:\tlearn: 0.1725439\ttotal: 649ms\tremaining: 2.26s\n",
            "223:\tlearn: 0.1721841\ttotal: 651ms\tremaining: 2.25s\n",
            "224:\tlearn: 0.1714765\ttotal: 654ms\tremaining: 2.25s\n",
            "225:\tlearn: 0.1707299\ttotal: 656ms\tremaining: 2.25s\n",
            "226:\tlearn: 0.1702925\ttotal: 659ms\tremaining: 2.24s\n",
            "227:\tlearn: 0.1698053\ttotal: 661ms\tremaining: 2.24s\n",
            "228:\tlearn: 0.1689728\ttotal: 664ms\tremaining: 2.23s\n",
            "229:\tlearn: 0.1681825\ttotal: 666ms\tremaining: 2.23s\n",
            "230:\tlearn: 0.1673726\ttotal: 669ms\tremaining: 2.23s\n",
            "231:\tlearn: 0.1667704\ttotal: 671ms\tremaining: 2.22s\n",
            "232:\tlearn: 0.1661846\ttotal: 674ms\tremaining: 2.22s\n",
            "233:\tlearn: 0.1656625\ttotal: 676ms\tremaining: 2.21s\n",
            "234:\tlearn: 0.1648904\ttotal: 681ms\tremaining: 2.22s\n",
            "235:\tlearn: 0.1642973\ttotal: 684ms\tremaining: 2.21s\n",
            "236:\tlearn: 0.1635721\ttotal: 686ms\tremaining: 2.21s\n",
            "237:\tlearn: 0.1628638\ttotal: 689ms\tremaining: 2.2s\n",
            "238:\tlearn: 0.1621649\ttotal: 691ms\tremaining: 2.2s\n",
            "239:\tlearn: 0.1615470\ttotal: 694ms\tremaining: 2.2s\n",
            "240:\tlearn: 0.1606417\ttotal: 698ms\tremaining: 2.2s\n",
            "241:\tlearn: 0.1600333\ttotal: 703ms\tremaining: 2.2s\n",
            "242:\tlearn: 0.1596095\ttotal: 706ms\tremaining: 2.2s\n",
            "243:\tlearn: 0.1590829\ttotal: 709ms\tremaining: 2.19s\n",
            "244:\tlearn: 0.1583186\ttotal: 712ms\tremaining: 2.19s\n",
            "245:\tlearn: 0.1574838\ttotal: 717ms\tremaining: 2.2s\n",
            "246:\tlearn: 0.1565304\ttotal: 721ms\tremaining: 2.2s\n",
            "247:\tlearn: 0.1559264\ttotal: 724ms\tremaining: 2.2s\n",
            "248:\tlearn: 0.1553394\ttotal: 727ms\tremaining: 2.19s\n",
            "249:\tlearn: 0.1545798\ttotal: 730ms\tremaining: 2.19s\n",
            "250:\tlearn: 0.1540018\ttotal: 732ms\tremaining: 2.18s\n",
            "251:\tlearn: 0.1533256\ttotal: 735ms\tremaining: 2.18s\n",
            "252:\tlearn: 0.1526207\ttotal: 738ms\tremaining: 2.18s\n",
            "253:\tlearn: 0.1521323\ttotal: 740ms\tremaining: 2.17s\n",
            "254:\tlearn: 0.1514774\ttotal: 743ms\tremaining: 2.17s\n",
            "255:\tlearn: 0.1506481\ttotal: 745ms\tremaining: 2.17s\n",
            "256:\tlearn: 0.1499846\ttotal: 748ms\tremaining: 2.16s\n",
            "257:\tlearn: 0.1492189\ttotal: 750ms\tremaining: 2.16s\n",
            "258:\tlearn: 0.1486110\ttotal: 753ms\tremaining: 2.15s\n",
            "259:\tlearn: 0.1482115\ttotal: 755ms\tremaining: 2.15s\n",
            "260:\tlearn: 0.1472679\ttotal: 768ms\tremaining: 2.17s\n",
            "261:\tlearn: 0.1468326\ttotal: 772ms\tremaining: 2.17s\n",
            "262:\tlearn: 0.1463191\ttotal: 774ms\tremaining: 2.17s\n",
            "263:\tlearn: 0.1459134\ttotal: 777ms\tremaining: 2.17s\n",
            "264:\tlearn: 0.1454747\ttotal: 779ms\tremaining: 2.16s\n",
            "265:\tlearn: 0.1449561\ttotal: 782ms\tremaining: 2.16s\n",
            "266:\tlearn: 0.1446929\ttotal: 784ms\tremaining: 2.15s\n",
            "267:\tlearn: 0.1442537\ttotal: 787ms\tremaining: 2.15s\n",
            "268:\tlearn: 0.1438654\ttotal: 789ms\tremaining: 2.14s\n",
            "269:\tlearn: 0.1432967\ttotal: 792ms\tremaining: 2.14s\n",
            "270:\tlearn: 0.1427870\ttotal: 794ms\tremaining: 2.14s\n",
            "271:\tlearn: 0.1420903\ttotal: 797ms\tremaining: 2.13s\n",
            "272:\tlearn: 0.1416433\ttotal: 800ms\tremaining: 2.13s\n",
            "273:\tlearn: 0.1412949\ttotal: 802ms\tremaining: 2.13s\n",
            "274:\tlearn: 0.1407201\ttotal: 805ms\tremaining: 2.12s\n",
            "275:\tlearn: 0.1401813\ttotal: 807ms\tremaining: 2.12s\n",
            "276:\tlearn: 0.1396352\ttotal: 810ms\tremaining: 2.11s\n",
            "277:\tlearn: 0.1389581\ttotal: 812ms\tremaining: 2.11s\n",
            "278:\tlearn: 0.1385087\ttotal: 815ms\tremaining: 2.1s\n",
            "279:\tlearn: 0.1379334\ttotal: 817ms\tremaining: 2.1s\n",
            "280:\tlearn: 0.1370834\ttotal: 820ms\tremaining: 2.1s\n",
            "281:\tlearn: 0.1363015\ttotal: 822ms\tremaining: 2.09s\n",
            "282:\tlearn: 0.1359299\ttotal: 824ms\tremaining: 2.09s\n",
            "283:\tlearn: 0.1354913\ttotal: 827ms\tremaining: 2.08s\n",
            "284:\tlearn: 0.1350128\ttotal: 830ms\tremaining: 2.08s\n",
            "285:\tlearn: 0.1346838\ttotal: 832ms\tremaining: 2.08s\n",
            "286:\tlearn: 0.1346586\ttotal: 835ms\tremaining: 2.07s\n",
            "287:\tlearn: 0.1340559\ttotal: 837ms\tremaining: 2.07s\n",
            "288:\tlearn: 0.1336617\ttotal: 840ms\tremaining: 2.06s\n",
            "289:\tlearn: 0.1332189\ttotal: 842ms\tremaining: 2.06s\n",
            "290:\tlearn: 0.1323433\ttotal: 845ms\tremaining: 2.06s\n",
            "291:\tlearn: 0.1317569\ttotal: 847ms\tremaining: 2.05s\n",
            "292:\tlearn: 0.1312806\ttotal: 850ms\tremaining: 2.05s\n",
            "293:\tlearn: 0.1305983\ttotal: 852ms\tremaining: 2.04s\n",
            "294:\tlearn: 0.1301596\ttotal: 854ms\tremaining: 2.04s\n",
            "295:\tlearn: 0.1296927\ttotal: 857ms\tremaining: 2.04s\n",
            "296:\tlearn: 0.1293114\ttotal: 860ms\tremaining: 2.03s\n",
            "297:\tlearn: 0.1286698\ttotal: 862ms\tremaining: 2.03s\n",
            "298:\tlearn: 0.1282679\ttotal: 864ms\tremaining: 2.03s\n",
            "299:\tlearn: 0.1276415\ttotal: 867ms\tremaining: 2.02s\n",
            "300:\tlearn: 0.1270286\ttotal: 869ms\tremaining: 2.02s\n",
            "301:\tlearn: 0.1263863\ttotal: 872ms\tremaining: 2.01s\n",
            "302:\tlearn: 0.1259902\ttotal: 874ms\tremaining: 2.01s\n",
            "303:\tlearn: 0.1257741\ttotal: 877ms\tremaining: 2.01s\n",
            "304:\tlearn: 0.1253280\ttotal: 879ms\tremaining: 2s\n",
            "305:\tlearn: 0.1247587\ttotal: 882ms\tremaining: 2s\n",
            "306:\tlearn: 0.1242710\ttotal: 884ms\tremaining: 2s\n",
            "307:\tlearn: 0.1238114\ttotal: 887ms\tremaining: 1.99s\n",
            "308:\tlearn: 0.1233487\ttotal: 890ms\tremaining: 1.99s\n",
            "309:\tlearn: 0.1227112\ttotal: 892ms\tremaining: 1.99s\n",
            "310:\tlearn: 0.1222800\ttotal: 895ms\tremaining: 1.98s\n",
            "311:\tlearn: 0.1218581\ttotal: 898ms\tremaining: 1.98s\n",
            "312:\tlearn: 0.1214438\ttotal: 900ms\tremaining: 1.98s\n",
            "313:\tlearn: 0.1208264\ttotal: 903ms\tremaining: 1.97s\n",
            "314:\tlearn: 0.1200340\ttotal: 905ms\tremaining: 1.97s\n",
            "315:\tlearn: 0.1195685\ttotal: 908ms\tremaining: 1.97s\n",
            "316:\tlearn: 0.1189682\ttotal: 911ms\tremaining: 1.96s\n",
            "317:\tlearn: 0.1186300\ttotal: 915ms\tremaining: 1.96s\n",
            "318:\tlearn: 0.1183711\ttotal: 919ms\tremaining: 1.96s\n",
            "319:\tlearn: 0.1179806\ttotal: 923ms\tremaining: 1.96s\n",
            "320:\tlearn: 0.1174664\ttotal: 926ms\tremaining: 1.96s\n",
            "321:\tlearn: 0.1174481\ttotal: 928ms\tremaining: 1.95s\n",
            "322:\tlearn: 0.1169615\ttotal: 930ms\tremaining: 1.95s\n",
            "323:\tlearn: 0.1163920\ttotal: 933ms\tremaining: 1.95s\n",
            "324:\tlearn: 0.1160930\ttotal: 935ms\tremaining: 1.94s\n",
            "325:\tlearn: 0.1155773\ttotal: 938ms\tremaining: 1.94s\n",
            "326:\tlearn: 0.1148513\ttotal: 940ms\tremaining: 1.93s\n",
            "327:\tlearn: 0.1145734\ttotal: 942ms\tremaining: 1.93s\n",
            "328:\tlearn: 0.1141823\ttotal: 945ms\tremaining: 1.93s\n",
            "329:\tlearn: 0.1139469\ttotal: 947ms\tremaining: 1.92s\n",
            "330:\tlearn: 0.1135702\ttotal: 950ms\tremaining: 1.92s\n",
            "331:\tlearn: 0.1130888\ttotal: 952ms\tremaining: 1.92s\n",
            "332:\tlearn: 0.1125204\ttotal: 955ms\tremaining: 1.91s\n",
            "333:\tlearn: 0.1120767\ttotal: 966ms\tremaining: 1.93s\n",
            "334:\tlearn: 0.1117662\ttotal: 970ms\tremaining: 1.92s\n",
            "335:\tlearn: 0.1112322\ttotal: 972ms\tremaining: 1.92s\n",
            "336:\tlearn: 0.1107204\ttotal: 974ms\tremaining: 1.92s\n",
            "337:\tlearn: 0.1103672\ttotal: 976ms\tremaining: 1.91s\n",
            "338:\tlearn: 0.1098214\ttotal: 978ms\tremaining: 1.91s\n",
            "339:\tlearn: 0.1095564\ttotal: 980ms\tremaining: 1.9s\n",
            "340:\tlearn: 0.1089909\ttotal: 983ms\tremaining: 1.9s\n",
            "341:\tlearn: 0.1086932\ttotal: 987ms\tremaining: 1.9s\n",
            "342:\tlearn: 0.1082347\ttotal: 991ms\tremaining: 1.9s\n",
            "343:\tlearn: 0.1076265\ttotal: 994ms\tremaining: 1.9s\n",
            "344:\tlearn: 0.1071999\ttotal: 997ms\tremaining: 1.89s\n",
            "345:\tlearn: 0.1068779\ttotal: 999ms\tremaining: 1.89s\n",
            "346:\tlearn: 0.1065723\ttotal: 1s\tremaining: 1.88s\n",
            "347:\tlearn: 0.1062978\ttotal: 1s\tremaining: 1.88s\n",
            "348:\tlearn: 0.1060251\ttotal: 1.01s\tremaining: 1.88s\n",
            "349:\tlearn: 0.1054206\ttotal: 1.01s\tremaining: 1.87s\n",
            "350:\tlearn: 0.1050219\ttotal: 1.01s\tremaining: 1.87s\n",
            "351:\tlearn: 0.1047718\ttotal: 1.01s\tremaining: 1.87s\n",
            "352:\tlearn: 0.1042093\ttotal: 1.02s\tremaining: 1.86s\n",
            "353:\tlearn: 0.1039015\ttotal: 1.02s\tremaining: 1.86s\n",
            "354:\tlearn: 0.1034581\ttotal: 1.02s\tremaining: 1.86s\n",
            "355:\tlearn: 0.1032156\ttotal: 1.02s\tremaining: 1.85s\n",
            "356:\tlearn: 0.1028958\ttotal: 1.03s\tremaining: 1.85s\n",
            "357:\tlearn: 0.1024393\ttotal: 1.03s\tremaining: 1.84s\n",
            "358:\tlearn: 0.1020657\ttotal: 1.03s\tremaining: 1.84s\n",
            "359:\tlearn: 0.1017261\ttotal: 1.03s\tremaining: 1.84s\n",
            "360:\tlearn: 0.1014647\ttotal: 1.04s\tremaining: 1.83s\n",
            "361:\tlearn: 0.1011798\ttotal: 1.04s\tremaining: 1.83s\n",
            "362:\tlearn: 0.1008460\ttotal: 1.04s\tremaining: 1.83s\n",
            "363:\tlearn: 0.1006366\ttotal: 1.04s\tremaining: 1.82s\n",
            "364:\tlearn: 0.1003547\ttotal: 1.05s\tremaining: 1.82s\n",
            "365:\tlearn: 0.0999539\ttotal: 1.05s\tremaining: 1.82s\n",
            "366:\tlearn: 0.0997220\ttotal: 1.05s\tremaining: 1.81s\n",
            "367:\tlearn: 0.0992763\ttotal: 1.05s\tremaining: 1.81s\n",
            "368:\tlearn: 0.0988200\ttotal: 1.06s\tremaining: 1.81s\n",
            "369:\tlearn: 0.0984816\ttotal: 1.06s\tremaining: 1.8s\n",
            "370:\tlearn: 0.0982028\ttotal: 1.06s\tremaining: 1.8s\n",
            "371:\tlearn: 0.0977422\ttotal: 1.06s\tremaining: 1.8s\n",
            "372:\tlearn: 0.0973181\ttotal: 1.07s\tremaining: 1.79s\n",
            "373:\tlearn: 0.0970254\ttotal: 1.07s\tremaining: 1.79s\n",
            "374:\tlearn: 0.0966345\ttotal: 1.07s\tremaining: 1.79s\n",
            "375:\tlearn: 0.0962027\ttotal: 1.07s\tremaining: 1.78s\n",
            "376:\tlearn: 0.0958735\ttotal: 1.08s\tremaining: 1.78s\n",
            "377:\tlearn: 0.0955671\ttotal: 1.08s\tremaining: 1.78s\n",
            "378:\tlearn: 0.0953340\ttotal: 1.08s\tremaining: 1.77s\n",
            "379:\tlearn: 0.0949006\ttotal: 1.08s\tremaining: 1.77s\n",
            "380:\tlearn: 0.0946461\ttotal: 1.09s\tremaining: 1.77s\n",
            "381:\tlearn: 0.0943362\ttotal: 1.09s\tremaining: 1.76s\n",
            "382:\tlearn: 0.0939929\ttotal: 1.09s\tremaining: 1.76s\n",
            "383:\tlearn: 0.0935544\ttotal: 1.09s\tremaining: 1.76s\n",
            "384:\tlearn: 0.0933270\ttotal: 1.1s\tremaining: 1.75s\n",
            "385:\tlearn: 0.0930624\ttotal: 1.1s\tremaining: 1.75s\n",
            "386:\tlearn: 0.0925951\ttotal: 1.1s\tremaining: 1.75s\n",
            "387:\tlearn: 0.0923235\ttotal: 1.1s\tremaining: 1.74s\n",
            "388:\tlearn: 0.0918235\ttotal: 1.11s\tremaining: 1.74s\n",
            "389:\tlearn: 0.0915676\ttotal: 1.11s\tremaining: 1.74s\n",
            "390:\tlearn: 0.0912584\ttotal: 1.11s\tremaining: 1.73s\n",
            "391:\tlearn: 0.0910081\ttotal: 1.11s\tremaining: 1.73s\n",
            "392:\tlearn: 0.0905508\ttotal: 1.12s\tremaining: 1.73s\n",
            "393:\tlearn: 0.0903723\ttotal: 1.12s\tremaining: 1.72s\n",
            "394:\tlearn: 0.0900267\ttotal: 1.12s\tremaining: 1.72s\n",
            "395:\tlearn: 0.0896341\ttotal: 1.13s\tremaining: 1.72s\n",
            "396:\tlearn: 0.0893807\ttotal: 1.13s\tremaining: 1.71s\n",
            "397:\tlearn: 0.0889837\ttotal: 1.13s\tremaining: 1.71s\n",
            "398:\tlearn: 0.0885068\ttotal: 1.13s\tremaining: 1.71s\n",
            "399:\tlearn: 0.0881774\ttotal: 1.14s\tremaining: 1.7s\n",
            "400:\tlearn: 0.0878412\ttotal: 1.14s\tremaining: 1.7s\n",
            "401:\tlearn: 0.0875456\ttotal: 1.14s\tremaining: 1.7s\n",
            "402:\tlearn: 0.0871121\ttotal: 1.14s\tremaining: 1.7s\n",
            "403:\tlearn: 0.0869663\ttotal: 1.15s\tremaining: 1.69s\n",
            "404:\tlearn: 0.0867678\ttotal: 1.15s\tremaining: 1.69s\n",
            "405:\tlearn: 0.0865461\ttotal: 1.16s\tremaining: 1.69s\n",
            "406:\tlearn: 0.0862543\ttotal: 1.16s\tremaining: 1.69s\n",
            "407:\tlearn: 0.0860376\ttotal: 1.16s\tremaining: 1.69s\n",
            "408:\tlearn: 0.0858634\ttotal: 1.17s\tremaining: 1.69s\n",
            "409:\tlearn: 0.0854209\ttotal: 1.17s\tremaining: 1.68s\n",
            "410:\tlearn: 0.0851305\ttotal: 1.17s\tremaining: 1.68s\n",
            "411:\tlearn: 0.0849839\ttotal: 1.17s\tremaining: 1.68s\n",
            "412:\tlearn: 0.0845570\ttotal: 1.18s\tremaining: 1.67s\n",
            "413:\tlearn: 0.0842253\ttotal: 1.18s\tremaining: 1.67s\n",
            "414:\tlearn: 0.0840058\ttotal: 1.18s\tremaining: 1.67s\n",
            "415:\tlearn: 0.0837210\ttotal: 1.18s\tremaining: 1.66s\n",
            "416:\tlearn: 0.0833275\ttotal: 1.19s\tremaining: 1.66s\n",
            "417:\tlearn: 0.0831566\ttotal: 1.19s\tremaining: 1.66s\n",
            "418:\tlearn: 0.0828886\ttotal: 1.19s\tremaining: 1.65s\n",
            "419:\tlearn: 0.0827268\ttotal: 1.19s\tremaining: 1.65s\n",
            "420:\tlearn: 0.0825344\ttotal: 1.2s\tremaining: 1.65s\n",
            "421:\tlearn: 0.0822152\ttotal: 1.2s\tremaining: 1.64s\n",
            "422:\tlearn: 0.0820039\ttotal: 1.2s\tremaining: 1.64s\n",
            "423:\tlearn: 0.0816741\ttotal: 1.2s\tremaining: 1.64s\n",
            "424:\tlearn: 0.0814471\ttotal: 1.21s\tremaining: 1.63s\n",
            "425:\tlearn: 0.0811142\ttotal: 1.21s\tremaining: 1.63s\n",
            "426:\tlearn: 0.0807856\ttotal: 1.21s\tremaining: 1.63s\n",
            "427:\tlearn: 0.0805528\ttotal: 1.21s\tremaining: 1.62s\n",
            "428:\tlearn: 0.0801803\ttotal: 1.22s\tremaining: 1.62s\n",
            "429:\tlearn: 0.0799189\ttotal: 1.22s\tremaining: 1.62s\n",
            "430:\tlearn: 0.0797416\ttotal: 1.22s\tremaining: 1.61s\n",
            "431:\tlearn: 0.0795723\ttotal: 1.22s\tremaining: 1.61s\n",
            "432:\tlearn: 0.0794236\ttotal: 1.23s\tremaining: 1.61s\n",
            "433:\tlearn: 0.0791769\ttotal: 1.23s\tremaining: 1.6s\n",
            "434:\tlearn: 0.0788604\ttotal: 1.23s\tremaining: 1.6s\n",
            "435:\tlearn: 0.0787023\ttotal: 1.23s\tremaining: 1.6s\n",
            "436:\tlearn: 0.0784848\ttotal: 1.24s\tremaining: 1.59s\n",
            "437:\tlearn: 0.0783066\ttotal: 1.24s\tremaining: 1.59s\n",
            "438:\tlearn: 0.0781151\ttotal: 1.24s\tremaining: 1.59s\n",
            "439:\tlearn: 0.0777675\ttotal: 1.24s\tremaining: 1.58s\n",
            "440:\tlearn: 0.0775487\ttotal: 1.25s\tremaining: 1.58s\n",
            "441:\tlearn: 0.0772276\ttotal: 1.25s\tremaining: 1.58s\n",
            "442:\tlearn: 0.0770486\ttotal: 1.25s\tremaining: 1.57s\n",
            "443:\tlearn: 0.0768784\ttotal: 1.25s\tremaining: 1.57s\n",
            "444:\tlearn: 0.0765542\ttotal: 1.26s\tremaining: 1.57s\n",
            "445:\tlearn: 0.0763093\ttotal: 1.26s\tremaining: 1.56s\n",
            "446:\tlearn: 0.0760764\ttotal: 1.26s\tremaining: 1.56s\n",
            "447:\tlearn: 0.0759300\ttotal: 1.26s\tremaining: 1.56s\n",
            "448:\tlearn: 0.0757275\ttotal: 1.27s\tremaining: 1.55s\n",
            "449:\tlearn: 0.0752017\ttotal: 1.27s\tremaining: 1.55s\n",
            "450:\tlearn: 0.0747951\ttotal: 1.27s\tremaining: 1.55s\n",
            "451:\tlearn: 0.0745931\ttotal: 1.27s\tremaining: 1.55s\n",
            "452:\tlearn: 0.0744297\ttotal: 1.28s\tremaining: 1.54s\n",
            "453:\tlearn: 0.0742192\ttotal: 1.28s\tremaining: 1.54s\n",
            "454:\tlearn: 0.0740773\ttotal: 1.28s\tremaining: 1.54s\n",
            "455:\tlearn: 0.0738854\ttotal: 1.29s\tremaining: 1.54s\n",
            "456:\tlearn: 0.0736751\ttotal: 1.29s\tremaining: 1.53s\n",
            "457:\tlearn: 0.0733907\ttotal: 1.29s\tremaining: 1.53s\n",
            "458:\tlearn: 0.0732490\ttotal: 1.29s\tremaining: 1.53s\n",
            "459:\tlearn: 0.0731267\ttotal: 1.3s\tremaining: 1.52s\n",
            "460:\tlearn: 0.0729733\ttotal: 1.3s\tremaining: 1.52s\n",
            "461:\tlearn: 0.0728224\ttotal: 1.3s\tremaining: 1.52s\n",
            "462:\tlearn: 0.0726559\ttotal: 1.3s\tremaining: 1.51s\n",
            "463:\tlearn: 0.0725039\ttotal: 1.31s\tremaining: 1.51s\n",
            "464:\tlearn: 0.0723560\ttotal: 1.31s\tremaining: 1.51s\n",
            "465:\tlearn: 0.0721143\ttotal: 1.31s\tremaining: 1.5s\n",
            "466:\tlearn: 0.0719798\ttotal: 1.31s\tremaining: 1.5s\n",
            "467:\tlearn: 0.0718337\ttotal: 1.32s\tremaining: 1.5s\n",
            "468:\tlearn: 0.0715462\ttotal: 1.32s\tremaining: 1.49s\n",
            "469:\tlearn: 0.0713840\ttotal: 1.32s\tremaining: 1.49s\n",
            "470:\tlearn: 0.0712574\ttotal: 1.32s\tremaining: 1.49s\n",
            "471:\tlearn: 0.0711573\ttotal: 1.33s\tremaining: 1.48s\n",
            "472:\tlearn: 0.0709114\ttotal: 1.33s\tremaining: 1.48s\n",
            "473:\tlearn: 0.0706138\ttotal: 1.33s\tremaining: 1.48s\n",
            "474:\tlearn: 0.0703527\ttotal: 1.33s\tremaining: 1.47s\n",
            "475:\tlearn: 0.0701195\ttotal: 1.34s\tremaining: 1.47s\n",
            "476:\tlearn: 0.0698838\ttotal: 1.34s\tremaining: 1.47s\n",
            "477:\tlearn: 0.0697261\ttotal: 1.34s\tremaining: 1.46s\n",
            "478:\tlearn: 0.0695166\ttotal: 1.35s\tremaining: 1.47s\n",
            "479:\tlearn: 0.0693445\ttotal: 1.35s\tremaining: 1.46s\n",
            "480:\tlearn: 0.0691872\ttotal: 1.35s\tremaining: 1.46s\n",
            "481:\tlearn: 0.0689079\ttotal: 1.36s\tremaining: 1.46s\n",
            "482:\tlearn: 0.0685531\ttotal: 1.36s\tremaining: 1.45s\n",
            "483:\tlearn: 0.0683291\ttotal: 1.36s\tremaining: 1.45s\n",
            "484:\tlearn: 0.0681036\ttotal: 1.36s\tremaining: 1.45s\n",
            "485:\tlearn: 0.0679806\ttotal: 1.37s\tremaining: 1.45s\n",
            "486:\tlearn: 0.0678283\ttotal: 1.37s\tremaining: 1.44s\n",
            "487:\tlearn: 0.0676270\ttotal: 1.37s\tremaining: 1.44s\n",
            "488:\tlearn: 0.0673778\ttotal: 1.37s\tremaining: 1.44s\n",
            "489:\tlearn: 0.0672310\ttotal: 1.38s\tremaining: 1.43s\n",
            "490:\tlearn: 0.0670237\ttotal: 1.38s\tremaining: 1.43s\n",
            "491:\tlearn: 0.0668774\ttotal: 1.38s\tremaining: 1.43s\n",
            "492:\tlearn: 0.0666866\ttotal: 1.38s\tremaining: 1.42s\n",
            "493:\tlearn: 0.0664765\ttotal: 1.39s\tremaining: 1.42s\n",
            "494:\tlearn: 0.0662323\ttotal: 1.39s\tremaining: 1.42s\n",
            "495:\tlearn: 0.0660552\ttotal: 1.39s\tremaining: 1.41s\n",
            "496:\tlearn: 0.0658451\ttotal: 1.39s\tremaining: 1.41s\n",
            "497:\tlearn: 0.0656154\ttotal: 1.4s\tremaining: 1.41s\n",
            "498:\tlearn: 0.0653430\ttotal: 1.4s\tremaining: 1.4s\n",
            "499:\tlearn: 0.0652491\ttotal: 1.4s\tremaining: 1.4s\n",
            "500:\tlearn: 0.0649848\ttotal: 1.4s\tremaining: 1.4s\n",
            "501:\tlearn: 0.0646273\ttotal: 1.41s\tremaining: 1.39s\n",
            "502:\tlearn: 0.0644547\ttotal: 1.41s\tremaining: 1.39s\n",
            "503:\tlearn: 0.0642846\ttotal: 1.41s\tremaining: 1.39s\n",
            "504:\tlearn: 0.0642089\ttotal: 1.41s\tremaining: 1.39s\n",
            "505:\tlearn: 0.0640032\ttotal: 1.42s\tremaining: 1.38s\n",
            "506:\tlearn: 0.0639194\ttotal: 1.42s\tremaining: 1.38s\n",
            "507:\tlearn: 0.0635879\ttotal: 1.42s\tremaining: 1.38s\n",
            "508:\tlearn: 0.0632851\ttotal: 1.42s\tremaining: 1.37s\n",
            "509:\tlearn: 0.0631134\ttotal: 1.43s\tremaining: 1.37s\n",
            "510:\tlearn: 0.0629412\ttotal: 1.43s\tremaining: 1.37s\n",
            "511:\tlearn: 0.0626852\ttotal: 1.43s\tremaining: 1.36s\n",
            "512:\tlearn: 0.0625081\ttotal: 1.43s\tremaining: 1.36s\n",
            "513:\tlearn: 0.0622405\ttotal: 1.44s\tremaining: 1.36s\n",
            "514:\tlearn: 0.0620971\ttotal: 1.44s\tremaining: 1.35s\n",
            "515:\tlearn: 0.0618413\ttotal: 1.44s\tremaining: 1.35s\n",
            "516:\tlearn: 0.0616465\ttotal: 1.44s\tremaining: 1.35s\n",
            "517:\tlearn: 0.0615394\ttotal: 1.44s\tremaining: 1.34s\n",
            "518:\tlearn: 0.0613040\ttotal: 1.45s\tremaining: 1.34s\n",
            "519:\tlearn: 0.0612055\ttotal: 1.45s\tremaining: 1.34s\n",
            "520:\tlearn: 0.0609909\ttotal: 1.45s\tremaining: 1.33s\n",
            "521:\tlearn: 0.0608240\ttotal: 1.45s\tremaining: 1.33s\n",
            "522:\tlearn: 0.0607001\ttotal: 1.46s\tremaining: 1.33s\n",
            "523:\tlearn: 0.0605460\ttotal: 1.46s\tremaining: 1.32s\n",
            "524:\tlearn: 0.0603643\ttotal: 1.46s\tremaining: 1.32s\n",
            "525:\tlearn: 0.0602779\ttotal: 1.46s\tremaining: 1.32s\n",
            "526:\tlearn: 0.0601446\ttotal: 1.47s\tremaining: 1.32s\n",
            "527:\tlearn: 0.0599829\ttotal: 1.47s\tremaining: 1.31s\n",
            "528:\tlearn: 0.0596500\ttotal: 1.47s\tremaining: 1.31s\n",
            "529:\tlearn: 0.0594355\ttotal: 1.47s\tremaining: 1.31s\n",
            "530:\tlearn: 0.0592742\ttotal: 1.48s\tremaining: 1.3s\n",
            "531:\tlearn: 0.0590667\ttotal: 1.48s\tremaining: 1.3s\n",
            "532:\tlearn: 0.0589228\ttotal: 1.48s\tremaining: 1.3s\n",
            "533:\tlearn: 0.0586852\ttotal: 1.48s\tremaining: 1.29s\n",
            "534:\tlearn: 0.0585364\ttotal: 1.49s\tremaining: 1.29s\n",
            "535:\tlearn: 0.0584961\ttotal: 1.49s\tremaining: 1.29s\n",
            "536:\tlearn: 0.0583688\ttotal: 1.49s\tremaining: 1.28s\n",
            "537:\tlearn: 0.0582661\ttotal: 1.49s\tremaining: 1.28s\n",
            "538:\tlearn: 0.0580292\ttotal: 1.5s\tremaining: 1.28s\n",
            "539:\tlearn: 0.0578742\ttotal: 1.5s\tremaining: 1.28s\n",
            "540:\tlearn: 0.0577281\ttotal: 1.5s\tremaining: 1.27s\n",
            "541:\tlearn: 0.0575625\ttotal: 1.5s\tremaining: 1.27s\n",
            "542:\tlearn: 0.0575246\ttotal: 1.5s\tremaining: 1.27s\n",
            "543:\tlearn: 0.0574005\ttotal: 1.51s\tremaining: 1.26s\n",
            "544:\tlearn: 0.0573419\ttotal: 1.51s\tremaining: 1.26s\n",
            "545:\tlearn: 0.0571682\ttotal: 1.51s\tremaining: 1.26s\n",
            "546:\tlearn: 0.0571317\ttotal: 1.51s\tremaining: 1.25s\n",
            "547:\tlearn: 0.0570952\ttotal: 1.52s\tremaining: 1.25s\n",
            "548:\tlearn: 0.0569571\ttotal: 1.52s\tremaining: 1.25s\n",
            "549:\tlearn: 0.0568562\ttotal: 1.52s\tremaining: 1.25s\n",
            "550:\tlearn: 0.0566877\ttotal: 1.52s\tremaining: 1.24s\n",
            "551:\tlearn: 0.0565613\ttotal: 1.53s\tremaining: 1.24s\n",
            "552:\tlearn: 0.0563667\ttotal: 1.54s\tremaining: 1.24s\n",
            "553:\tlearn: 0.0562653\ttotal: 1.54s\tremaining: 1.24s\n",
            "554:\tlearn: 0.0561713\ttotal: 1.55s\tremaining: 1.24s\n",
            "555:\tlearn: 0.0560779\ttotal: 1.55s\tremaining: 1.24s\n",
            "556:\tlearn: 0.0559349\ttotal: 1.55s\tremaining: 1.24s\n",
            "557:\tlearn: 0.0558297\ttotal: 1.56s\tremaining: 1.24s\n",
            "558:\tlearn: 0.0557957\ttotal: 1.56s\tremaining: 1.23s\n",
            "559:\tlearn: 0.0556647\ttotal: 1.57s\tremaining: 1.23s\n",
            "560:\tlearn: 0.0555977\ttotal: 1.57s\tremaining: 1.23s\n",
            "561:\tlearn: 0.0554683\ttotal: 1.57s\tremaining: 1.23s\n",
            "562:\tlearn: 0.0553250\ttotal: 1.57s\tremaining: 1.22s\n",
            "563:\tlearn: 0.0550961\ttotal: 1.58s\tremaining: 1.22s\n",
            "564:\tlearn: 0.0549742\ttotal: 1.58s\tremaining: 1.22s\n",
            "565:\tlearn: 0.0548752\ttotal: 1.58s\tremaining: 1.21s\n",
            "566:\tlearn: 0.0547499\ttotal: 1.58s\tremaining: 1.21s\n",
            "567:\tlearn: 0.0546114\ttotal: 1.59s\tremaining: 1.21s\n",
            "568:\tlearn: 0.0544240\ttotal: 1.59s\tremaining: 1.2s\n",
            "569:\tlearn: 0.0542237\ttotal: 1.59s\tremaining: 1.2s\n",
            "570:\tlearn: 0.0541287\ttotal: 1.59s\tremaining: 1.2s\n",
            "571:\tlearn: 0.0540984\ttotal: 1.6s\tremaining: 1.19s\n",
            "572:\tlearn: 0.0539837\ttotal: 1.6s\tremaining: 1.19s\n",
            "573:\tlearn: 0.0537389\ttotal: 1.6s\tremaining: 1.19s\n",
            "574:\tlearn: 0.0536079\ttotal: 1.61s\tremaining: 1.19s\n",
            "575:\tlearn: 0.0534400\ttotal: 1.61s\tremaining: 1.19s\n",
            "576:\tlearn: 0.0533882\ttotal: 1.61s\tremaining: 1.18s\n",
            "577:\tlearn: 0.0533022\ttotal: 1.61s\tremaining: 1.18s\n",
            "578:\tlearn: 0.0531119\ttotal: 1.62s\tremaining: 1.18s\n",
            "579:\tlearn: 0.0529306\ttotal: 1.62s\tremaining: 1.17s\n",
            "580:\tlearn: 0.0527570\ttotal: 1.62s\tremaining: 1.17s\n",
            "581:\tlearn: 0.0526672\ttotal: 1.62s\tremaining: 1.17s\n",
            "582:\tlearn: 0.0525257\ttotal: 1.63s\tremaining: 1.16s\n",
            "583:\tlearn: 0.0524407\ttotal: 1.63s\tremaining: 1.16s\n",
            "584:\tlearn: 0.0523137\ttotal: 1.63s\tremaining: 1.16s\n",
            "585:\tlearn: 0.0522494\ttotal: 1.63s\tremaining: 1.15s\n",
            "586:\tlearn: 0.0521463\ttotal: 1.64s\tremaining: 1.15s\n",
            "587:\tlearn: 0.0519822\ttotal: 1.64s\tremaining: 1.15s\n",
            "588:\tlearn: 0.0518309\ttotal: 1.64s\tremaining: 1.15s\n",
            "589:\tlearn: 0.0517046\ttotal: 1.64s\tremaining: 1.14s\n",
            "590:\tlearn: 0.0515887\ttotal: 1.65s\tremaining: 1.14s\n",
            "591:\tlearn: 0.0514144\ttotal: 1.65s\tremaining: 1.14s\n",
            "592:\tlearn: 0.0513426\ttotal: 1.65s\tremaining: 1.13s\n",
            "593:\tlearn: 0.0512369\ttotal: 1.65s\tremaining: 1.13s\n",
            "594:\tlearn: 0.0511181\ttotal: 1.66s\tremaining: 1.13s\n",
            "595:\tlearn: 0.0509209\ttotal: 1.66s\tremaining: 1.12s\n",
            "596:\tlearn: 0.0509164\ttotal: 1.66s\tremaining: 1.12s\n",
            "597:\tlearn: 0.0507272\ttotal: 1.66s\tremaining: 1.12s\n",
            "598:\tlearn: 0.0506446\ttotal: 1.67s\tremaining: 1.11s\n",
            "599:\tlearn: 0.0504287\ttotal: 1.67s\tremaining: 1.11s\n",
            "600:\tlearn: 0.0503700\ttotal: 1.67s\tremaining: 1.11s\n",
            "601:\tlearn: 0.0502152\ttotal: 1.67s\tremaining: 1.11s\n",
            "602:\tlearn: 0.0501198\ttotal: 1.68s\tremaining: 1.1s\n",
            "603:\tlearn: 0.0499185\ttotal: 1.68s\tremaining: 1.1s\n",
            "604:\tlearn: 0.0496265\ttotal: 1.68s\tremaining: 1.1s\n",
            "605:\tlearn: 0.0494899\ttotal: 1.68s\tremaining: 1.09s\n",
            "606:\tlearn: 0.0494157\ttotal: 1.69s\tremaining: 1.09s\n",
            "607:\tlearn: 0.0492965\ttotal: 1.69s\tremaining: 1.09s\n",
            "608:\tlearn: 0.0491818\ttotal: 1.69s\tremaining: 1.09s\n",
            "609:\tlearn: 0.0491780\ttotal: 1.69s\tremaining: 1.08s\n",
            "610:\tlearn: 0.0489742\ttotal: 1.7s\tremaining: 1.08s\n",
            "611:\tlearn: 0.0488230\ttotal: 1.7s\tremaining: 1.08s\n",
            "612:\tlearn: 0.0487275\ttotal: 1.7s\tremaining: 1.07s\n",
            "613:\tlearn: 0.0485526\ttotal: 1.7s\tremaining: 1.07s\n",
            "614:\tlearn: 0.0484308\ttotal: 1.71s\tremaining: 1.07s\n",
            "615:\tlearn: 0.0483219\ttotal: 1.71s\tremaining: 1.06s\n",
            "616:\tlearn: 0.0482424\ttotal: 1.71s\tremaining: 1.06s\n",
            "617:\tlearn: 0.0481327\ttotal: 1.71s\tremaining: 1.06s\n",
            "618:\tlearn: 0.0479633\ttotal: 1.72s\tremaining: 1.06s\n",
            "619:\tlearn: 0.0477982\ttotal: 1.73s\tremaining: 1.06s\n",
            "620:\tlearn: 0.0477065\ttotal: 1.73s\tremaining: 1.05s\n",
            "621:\tlearn: 0.0476176\ttotal: 1.73s\tremaining: 1.05s\n",
            "622:\tlearn: 0.0474928\ttotal: 1.74s\tremaining: 1.05s\n",
            "623:\tlearn: 0.0473641\ttotal: 1.74s\tremaining: 1.05s\n",
            "624:\tlearn: 0.0472829\ttotal: 1.75s\tremaining: 1.05s\n",
            "625:\tlearn: 0.0471629\ttotal: 1.75s\tremaining: 1.05s\n",
            "626:\tlearn: 0.0470681\ttotal: 1.75s\tremaining: 1.04s\n",
            "627:\tlearn: 0.0469275\ttotal: 1.76s\tremaining: 1.04s\n",
            "628:\tlearn: 0.0468128\ttotal: 1.76s\tremaining: 1.04s\n",
            "629:\tlearn: 0.0466868\ttotal: 1.76s\tremaining: 1.04s\n",
            "630:\tlearn: 0.0465543\ttotal: 1.77s\tremaining: 1.03s\n",
            "631:\tlearn: 0.0464924\ttotal: 1.77s\tremaining: 1.03s\n",
            "632:\tlearn: 0.0463822\ttotal: 1.77s\tremaining: 1.03s\n",
            "633:\tlearn: 0.0463165\ttotal: 1.77s\tremaining: 1.02s\n",
            "634:\tlearn: 0.0461301\ttotal: 1.78s\tremaining: 1.02s\n",
            "635:\tlearn: 0.0460536\ttotal: 1.78s\tremaining: 1.02s\n",
            "636:\tlearn: 0.0459596\ttotal: 1.78s\tremaining: 1.01s\n",
            "637:\tlearn: 0.0458860\ttotal: 1.78s\tremaining: 1.01s\n",
            "638:\tlearn: 0.0457967\ttotal: 1.79s\tremaining: 1.01s\n",
            "639:\tlearn: 0.0457048\ttotal: 1.79s\tremaining: 1.01s\n",
            "640:\tlearn: 0.0455444\ttotal: 1.79s\tremaining: 1s\n",
            "641:\tlearn: 0.0454225\ttotal: 1.8s\tremaining: 1s\n",
            "642:\tlearn: 0.0453533\ttotal: 1.8s\tremaining: 999ms\n",
            "643:\tlearn: 0.0453013\ttotal: 1.8s\tremaining: 997ms\n",
            "644:\tlearn: 0.0451447\ttotal: 1.8s\tremaining: 994ms\n",
            "645:\tlearn: 0.0450746\ttotal: 1.81s\tremaining: 991ms\n",
            "646:\tlearn: 0.0449540\ttotal: 1.81s\tremaining: 988ms\n",
            "647:\tlearn: 0.0447978\ttotal: 1.81s\tremaining: 985ms\n",
            "648:\tlearn: 0.0446162\ttotal: 1.82s\tremaining: 982ms\n",
            "649:\tlearn: 0.0445314\ttotal: 1.82s\tremaining: 979ms\n",
            "650:\tlearn: 0.0444033\ttotal: 1.82s\tremaining: 976ms\n",
            "651:\tlearn: 0.0442730\ttotal: 1.82s\tremaining: 973ms\n",
            "652:\tlearn: 0.0441408\ttotal: 1.83s\tremaining: 970ms\n",
            "653:\tlearn: 0.0440111\ttotal: 1.83s\tremaining: 967ms\n",
            "654:\tlearn: 0.0438915\ttotal: 1.83s\tremaining: 964ms\n",
            "655:\tlearn: 0.0438719\ttotal: 1.83s\tremaining: 962ms\n",
            "656:\tlearn: 0.0437670\ttotal: 1.84s\tremaining: 959ms\n",
            "657:\tlearn: 0.0436192\ttotal: 1.84s\tremaining: 956ms\n",
            "658:\tlearn: 0.0434899\ttotal: 1.84s\tremaining: 953ms\n",
            "659:\tlearn: 0.0434091\ttotal: 1.84s\tremaining: 950ms\n",
            "660:\tlearn: 0.0433159\ttotal: 1.84s\tremaining: 947ms\n",
            "661:\tlearn: 0.0431890\ttotal: 1.85s\tremaining: 944ms\n",
            "662:\tlearn: 0.0431164\ttotal: 1.85s\tremaining: 941ms\n",
            "663:\tlearn: 0.0430299\ttotal: 1.85s\tremaining: 938ms\n",
            "664:\tlearn: 0.0429733\ttotal: 1.86s\tremaining: 935ms\n",
            "665:\tlearn: 0.0429217\ttotal: 1.86s\tremaining: 932ms\n",
            "666:\tlearn: 0.0428397\ttotal: 1.86s\tremaining: 929ms\n",
            "667:\tlearn: 0.0427174\ttotal: 1.86s\tremaining: 927ms\n",
            "668:\tlearn: 0.0426069\ttotal: 1.87s\tremaining: 924ms\n",
            "669:\tlearn: 0.0425198\ttotal: 1.87s\tremaining: 921ms\n",
            "670:\tlearn: 0.0424684\ttotal: 1.87s\tremaining: 918ms\n",
            "671:\tlearn: 0.0423481\ttotal: 1.87s\tremaining: 915ms\n",
            "672:\tlearn: 0.0422398\ttotal: 1.88s\tremaining: 912ms\n",
            "673:\tlearn: 0.0420614\ttotal: 1.88s\tremaining: 909ms\n",
            "674:\tlearn: 0.0420191\ttotal: 1.88s\tremaining: 906ms\n",
            "675:\tlearn: 0.0419660\ttotal: 1.88s\tremaining: 903ms\n",
            "676:\tlearn: 0.0418156\ttotal: 1.89s\tremaining: 900ms\n",
            "677:\tlearn: 0.0417344\ttotal: 1.89s\tremaining: 897ms\n",
            "678:\tlearn: 0.0416662\ttotal: 1.89s\tremaining: 894ms\n",
            "679:\tlearn: 0.0416589\ttotal: 1.89s\tremaining: 891ms\n",
            "680:\tlearn: 0.0415108\ttotal: 1.9s\tremaining: 888ms\n",
            "681:\tlearn: 0.0413975\ttotal: 1.9s\tremaining: 886ms\n",
            "682:\tlearn: 0.0413496\ttotal: 1.9s\tremaining: 883ms\n",
            "683:\tlearn: 0.0412280\ttotal: 1.9s\tremaining: 880ms\n",
            "684:\tlearn: 0.0411164\ttotal: 1.91s\tremaining: 877ms\n",
            "685:\tlearn: 0.0410451\ttotal: 1.91s\tremaining: 876ms\n",
            "686:\tlearn: 0.0409494\ttotal: 1.92s\tremaining: 873ms\n",
            "687:\tlearn: 0.0408939\ttotal: 1.92s\tremaining: 870ms\n",
            "688:\tlearn: 0.0407820\ttotal: 1.92s\tremaining: 867ms\n",
            "689:\tlearn: 0.0406111\ttotal: 1.92s\tremaining: 864ms\n",
            "690:\tlearn: 0.0405688\ttotal: 1.93s\tremaining: 861ms\n",
            "691:\tlearn: 0.0404783\ttotal: 1.93s\tremaining: 858ms\n",
            "692:\tlearn: 0.0404717\ttotal: 1.93s\tremaining: 855ms\n",
            "693:\tlearn: 0.0403502\ttotal: 1.93s\tremaining: 852ms\n",
            "694:\tlearn: 0.0402787\ttotal: 1.94s\tremaining: 849ms\n",
            "695:\tlearn: 0.0402041\ttotal: 1.94s\tremaining: 846ms\n",
            "696:\tlearn: 0.0400582\ttotal: 1.94s\tremaining: 843ms\n",
            "697:\tlearn: 0.0399519\ttotal: 1.94s\tremaining: 840ms\n",
            "698:\tlearn: 0.0398269\ttotal: 1.95s\tremaining: 838ms\n",
            "699:\tlearn: 0.0397187\ttotal: 1.95s\tremaining: 835ms\n",
            "700:\tlearn: 0.0396484\ttotal: 1.95s\tremaining: 832ms\n",
            "701:\tlearn: 0.0394966\ttotal: 1.95s\tremaining: 829ms\n",
            "702:\tlearn: 0.0393940\ttotal: 1.95s\tremaining: 826ms\n",
            "703:\tlearn: 0.0392697\ttotal: 1.96s\tremaining: 823ms\n",
            "704:\tlearn: 0.0391547\ttotal: 1.96s\tremaining: 820ms\n",
            "705:\tlearn: 0.0390751\ttotal: 1.96s\tremaining: 817ms\n",
            "706:\tlearn: 0.0390252\ttotal: 1.96s\tremaining: 814ms\n",
            "707:\tlearn: 0.0389240\ttotal: 1.97s\tremaining: 811ms\n",
            "708:\tlearn: 0.0388032\ttotal: 1.97s\tremaining: 810ms\n",
            "709:\tlearn: 0.0386884\ttotal: 1.97s\tremaining: 806ms\n",
            "710:\tlearn: 0.0386252\ttotal: 1.98s\tremaining: 803ms\n",
            "711:\tlearn: 0.0384986\ttotal: 1.98s\tremaining: 800ms\n",
            "712:\tlearn: 0.0384116\ttotal: 1.98s\tremaining: 798ms\n",
            "713:\tlearn: 0.0382848\ttotal: 1.98s\tremaining: 795ms\n",
            "714:\tlearn: 0.0381698\ttotal: 1.99s\tremaining: 792ms\n",
            "715:\tlearn: 0.0381469\ttotal: 1.99s\tremaining: 789ms\n",
            "716:\tlearn: 0.0381267\ttotal: 1.99s\tremaining: 786ms\n",
            "717:\tlearn: 0.0380814\ttotal: 1.99s\tremaining: 783ms\n",
            "718:\tlearn: 0.0380273\ttotal: 2s\tremaining: 780ms\n",
            "719:\tlearn: 0.0379591\ttotal: 2s\tremaining: 777ms\n",
            "720:\tlearn: 0.0378571\ttotal: 2s\tremaining: 774ms\n",
            "721:\tlearn: 0.0377872\ttotal: 2s\tremaining: 771ms\n",
            "722:\tlearn: 0.0377336\ttotal: 2.01s\tremaining: 769ms\n",
            "723:\tlearn: 0.0376796\ttotal: 2.01s\tremaining: 766ms\n",
            "724:\tlearn: 0.0376782\ttotal: 2.01s\tremaining: 763ms\n",
            "725:\tlearn: 0.0375409\ttotal: 2.01s\tremaining: 760ms\n",
            "726:\tlearn: 0.0374474\ttotal: 2.02s\tremaining: 757ms\n",
            "727:\tlearn: 0.0373271\ttotal: 2.02s\tremaining: 754ms\n",
            "728:\tlearn: 0.0372149\ttotal: 2.02s\tremaining: 752ms\n",
            "729:\tlearn: 0.0371114\ttotal: 2.02s\tremaining: 749ms\n",
            "730:\tlearn: 0.0370148\ttotal: 2.03s\tremaining: 746ms\n",
            "731:\tlearn: 0.0369906\ttotal: 2.03s\tremaining: 743ms\n",
            "732:\tlearn: 0.0369187\ttotal: 2.03s\tremaining: 740ms\n",
            "733:\tlearn: 0.0368286\ttotal: 2.03s\tremaining: 737ms\n",
            "734:\tlearn: 0.0367816\ttotal: 2.04s\tremaining: 734ms\n",
            "735:\tlearn: 0.0366979\ttotal: 2.04s\tremaining: 732ms\n",
            "736:\tlearn: 0.0365959\ttotal: 2.04s\tremaining: 729ms\n",
            "737:\tlearn: 0.0365269\ttotal: 2.04s\tremaining: 726ms\n",
            "738:\tlearn: 0.0364237\ttotal: 2.05s\tremaining: 723ms\n",
            "739:\tlearn: 0.0363487\ttotal: 2.05s\tremaining: 720ms\n",
            "740:\tlearn: 0.0362981\ttotal: 2.05s\tremaining: 717ms\n",
            "741:\tlearn: 0.0362084\ttotal: 2.05s\tremaining: 714ms\n",
            "742:\tlearn: 0.0360693\ttotal: 2.06s\tremaining: 712ms\n",
            "743:\tlearn: 0.0360235\ttotal: 2.06s\tremaining: 709ms\n",
            "744:\tlearn: 0.0359533\ttotal: 2.06s\tremaining: 706ms\n",
            "745:\tlearn: 0.0358819\ttotal: 2.06s\tremaining: 703ms\n",
            "746:\tlearn: 0.0357528\ttotal: 2.07s\tremaining: 700ms\n",
            "747:\tlearn: 0.0356717\ttotal: 2.07s\tremaining: 697ms\n",
            "748:\tlearn: 0.0355860\ttotal: 2.07s\tremaining: 694ms\n",
            "749:\tlearn: 0.0355174\ttotal: 2.07s\tremaining: 692ms\n",
            "750:\tlearn: 0.0354610\ttotal: 2.08s\tremaining: 689ms\n",
            "751:\tlearn: 0.0354035\ttotal: 2.08s\tremaining: 686ms\n",
            "752:\tlearn: 0.0353091\ttotal: 2.08s\tremaining: 683ms\n",
            "753:\tlearn: 0.0352038\ttotal: 2.08s\tremaining: 680ms\n",
            "754:\tlearn: 0.0351028\ttotal: 2.09s\tremaining: 677ms\n",
            "755:\tlearn: 0.0350877\ttotal: 2.09s\tremaining: 675ms\n",
            "756:\tlearn: 0.0350444\ttotal: 2.09s\tremaining: 672ms\n",
            "757:\tlearn: 0.0350313\ttotal: 2.1s\tremaining: 670ms\n",
            "758:\tlearn: 0.0349786\ttotal: 2.1s\tremaining: 668ms\n",
            "759:\tlearn: 0.0349017\ttotal: 2.11s\tremaining: 665ms\n",
            "760:\tlearn: 0.0348206\ttotal: 2.11s\tremaining: 662ms\n",
            "761:\tlearn: 0.0347322\ttotal: 2.11s\tremaining: 660ms\n",
            "762:\tlearn: 0.0346899\ttotal: 2.12s\tremaining: 658ms\n",
            "763:\tlearn: 0.0346203\ttotal: 2.12s\tremaining: 655ms\n",
            "764:\tlearn: 0.0345471\ttotal: 2.12s\tremaining: 652ms\n",
            "765:\tlearn: 0.0345016\ttotal: 2.13s\tremaining: 649ms\n",
            "766:\tlearn: 0.0344267\ttotal: 2.13s\tremaining: 646ms\n",
            "767:\tlearn: 0.0343262\ttotal: 2.13s\tremaining: 644ms\n",
            "768:\tlearn: 0.0342248\ttotal: 2.13s\tremaining: 641ms\n",
            "769:\tlearn: 0.0341484\ttotal: 2.13s\tremaining: 638ms\n",
            "770:\tlearn: 0.0340853\ttotal: 2.14s\tremaining: 635ms\n",
            "771:\tlearn: 0.0339476\ttotal: 2.14s\tremaining: 632ms\n",
            "772:\tlearn: 0.0338779\ttotal: 2.14s\tremaining: 629ms\n",
            "773:\tlearn: 0.0337891\ttotal: 2.15s\tremaining: 627ms\n",
            "774:\tlearn: 0.0336956\ttotal: 2.15s\tremaining: 624ms\n",
            "775:\tlearn: 0.0336304\ttotal: 2.15s\tremaining: 621ms\n",
            "776:\tlearn: 0.0335878\ttotal: 2.15s\tremaining: 618ms\n",
            "777:\tlearn: 0.0335461\ttotal: 2.16s\tremaining: 615ms\n",
            "778:\tlearn: 0.0334585\ttotal: 2.16s\tremaining: 612ms\n",
            "779:\tlearn: 0.0333786\ttotal: 2.16s\tremaining: 610ms\n",
            "780:\tlearn: 0.0333152\ttotal: 2.16s\tremaining: 607ms\n",
            "781:\tlearn: 0.0332793\ttotal: 2.17s\tremaining: 604ms\n",
            "782:\tlearn: 0.0332185\ttotal: 2.17s\tremaining: 601ms\n",
            "783:\tlearn: 0.0331117\ttotal: 2.17s\tremaining: 598ms\n",
            "784:\tlearn: 0.0330723\ttotal: 2.17s\tremaining: 596ms\n",
            "785:\tlearn: 0.0329502\ttotal: 2.18s\tremaining: 593ms\n",
            "786:\tlearn: 0.0328568\ttotal: 2.18s\tremaining: 590ms\n",
            "787:\tlearn: 0.0327532\ttotal: 2.18s\tremaining: 587ms\n",
            "788:\tlearn: 0.0326762\ttotal: 2.18s\tremaining: 584ms\n",
            "789:\tlearn: 0.0326225\ttotal: 2.19s\tremaining: 581ms\n",
            "790:\tlearn: 0.0325568\ttotal: 2.19s\tremaining: 579ms\n",
            "791:\tlearn: 0.0324639\ttotal: 2.19s\tremaining: 576ms\n",
            "792:\tlearn: 0.0324108\ttotal: 2.19s\tremaining: 573ms\n",
            "793:\tlearn: 0.0323549\ttotal: 2.2s\tremaining: 570ms\n",
            "794:\tlearn: 0.0323019\ttotal: 2.2s\tremaining: 567ms\n",
            "795:\tlearn: 0.0322022\ttotal: 2.2s\tremaining: 564ms\n",
            "796:\tlearn: 0.0321546\ttotal: 2.21s\tremaining: 562ms\n",
            "797:\tlearn: 0.0320354\ttotal: 2.21s\tremaining: 559ms\n",
            "798:\tlearn: 0.0319783\ttotal: 2.21s\tremaining: 556ms\n",
            "799:\tlearn: 0.0319051\ttotal: 2.21s\tremaining: 553ms\n",
            "800:\tlearn: 0.0318567\ttotal: 2.21s\tremaining: 550ms\n",
            "801:\tlearn: 0.0318471\ttotal: 2.22s\tremaining: 547ms\n",
            "802:\tlearn: 0.0318376\ttotal: 2.22s\tremaining: 545ms\n",
            "803:\tlearn: 0.0318130\ttotal: 2.22s\tremaining: 542ms\n",
            "804:\tlearn: 0.0317206\ttotal: 2.23s\tremaining: 539ms\n",
            "805:\tlearn: 0.0316600\ttotal: 2.23s\tremaining: 537ms\n",
            "806:\tlearn: 0.0315903\ttotal: 2.23s\tremaining: 534ms\n",
            "807:\tlearn: 0.0315469\ttotal: 2.23s\tremaining: 531ms\n",
            "808:\tlearn: 0.0315365\ttotal: 2.24s\tremaining: 528ms\n",
            "809:\tlearn: 0.0314697\ttotal: 2.24s\tremaining: 525ms\n",
            "810:\tlearn: 0.0313890\ttotal: 2.24s\tremaining: 522ms\n",
            "811:\tlearn: 0.0313608\ttotal: 2.24s\tremaining: 520ms\n",
            "812:\tlearn: 0.0313121\ttotal: 2.25s\tremaining: 517ms\n",
            "813:\tlearn: 0.0312551\ttotal: 2.25s\tremaining: 514ms\n",
            "814:\tlearn: 0.0311679\ttotal: 2.25s\tremaining: 511ms\n",
            "815:\tlearn: 0.0310795\ttotal: 2.25s\tremaining: 508ms\n",
            "816:\tlearn: 0.0310010\ttotal: 2.26s\tremaining: 505ms\n",
            "817:\tlearn: 0.0309418\ttotal: 2.26s\tremaining: 503ms\n",
            "818:\tlearn: 0.0309005\ttotal: 2.26s\tremaining: 500ms\n",
            "819:\tlearn: 0.0308527\ttotal: 2.26s\tremaining: 497ms\n",
            "820:\tlearn: 0.0307727\ttotal: 2.27s\tremaining: 494ms\n",
            "821:\tlearn: 0.0307137\ttotal: 2.27s\tremaining: 491ms\n",
            "822:\tlearn: 0.0306582\ttotal: 2.27s\tremaining: 488ms\n",
            "823:\tlearn: 0.0305913\ttotal: 2.28s\tremaining: 486ms\n",
            "824:\tlearn: 0.0305549\ttotal: 2.28s\tremaining: 484ms\n",
            "825:\tlearn: 0.0304378\ttotal: 2.29s\tremaining: 483ms\n",
            "826:\tlearn: 0.0304055\ttotal: 2.29s\tremaining: 480ms\n",
            "827:\tlearn: 0.0303739\ttotal: 2.3s\tremaining: 477ms\n",
            "828:\tlearn: 0.0303439\ttotal: 2.3s\tremaining: 475ms\n",
            "829:\tlearn: 0.0303099\ttotal: 2.3s\tremaining: 472ms\n",
            "830:\tlearn: 0.0302569\ttotal: 2.31s\tremaining: 469ms\n",
            "831:\tlearn: 0.0302075\ttotal: 2.31s\tremaining: 466ms\n",
            "832:\tlearn: 0.0301534\ttotal: 2.31s\tremaining: 463ms\n",
            "833:\tlearn: 0.0300449\ttotal: 2.31s\tremaining: 460ms\n",
            "834:\tlearn: 0.0299569\ttotal: 2.31s\tremaining: 458ms\n",
            "835:\tlearn: 0.0298600\ttotal: 2.32s\tremaining: 455ms\n",
            "836:\tlearn: 0.0297966\ttotal: 2.32s\tremaining: 452ms\n",
            "837:\tlearn: 0.0297516\ttotal: 2.32s\tremaining: 449ms\n",
            "838:\tlearn: 0.0296900\ttotal: 2.33s\tremaining: 446ms\n",
            "839:\tlearn: 0.0296227\ttotal: 2.33s\tremaining: 444ms\n",
            "840:\tlearn: 0.0295885\ttotal: 2.33s\tremaining: 441ms\n",
            "841:\tlearn: 0.0295173\ttotal: 2.33s\tremaining: 438ms\n",
            "842:\tlearn: 0.0294382\ttotal: 2.33s\tremaining: 435ms\n",
            "843:\tlearn: 0.0293648\ttotal: 2.34s\tremaining: 432ms\n",
            "844:\tlearn: 0.0292986\ttotal: 2.34s\tremaining: 429ms\n",
            "845:\tlearn: 0.0292661\ttotal: 2.34s\tremaining: 426ms\n",
            "846:\tlearn: 0.0291909\ttotal: 2.34s\tremaining: 424ms\n",
            "847:\tlearn: 0.0291453\ttotal: 2.35s\tremaining: 421ms\n",
            "848:\tlearn: 0.0290851\ttotal: 2.35s\tremaining: 418ms\n",
            "849:\tlearn: 0.0290224\ttotal: 2.35s\tremaining: 415ms\n",
            "850:\tlearn: 0.0289499\ttotal: 2.35s\tremaining: 412ms\n",
            "851:\tlearn: 0.0288795\ttotal: 2.36s\tremaining: 410ms\n",
            "852:\tlearn: 0.0287912\ttotal: 2.36s\tremaining: 407ms\n",
            "853:\tlearn: 0.0287391\ttotal: 2.36s\tremaining: 404ms\n",
            "854:\tlearn: 0.0286812\ttotal: 2.37s\tremaining: 401ms\n",
            "855:\tlearn: 0.0286604\ttotal: 2.37s\tremaining: 398ms\n",
            "856:\tlearn: 0.0286394\ttotal: 2.37s\tremaining: 395ms\n",
            "857:\tlearn: 0.0285877\ttotal: 2.37s\tremaining: 393ms\n",
            "858:\tlearn: 0.0285441\ttotal: 2.37s\tremaining: 390ms\n",
            "859:\tlearn: 0.0285136\ttotal: 2.38s\tremaining: 387ms\n",
            "860:\tlearn: 0.0284687\ttotal: 2.38s\tremaining: 384ms\n",
            "861:\tlearn: 0.0284300\ttotal: 2.38s\tremaining: 381ms\n",
            "862:\tlearn: 0.0284214\ttotal: 2.38s\tremaining: 379ms\n",
            "863:\tlearn: 0.0283727\ttotal: 2.39s\tremaining: 376ms\n",
            "864:\tlearn: 0.0282968\ttotal: 2.39s\tremaining: 373ms\n",
            "865:\tlearn: 0.0282434\ttotal: 2.39s\tremaining: 371ms\n",
            "866:\tlearn: 0.0282365\ttotal: 2.4s\tremaining: 368ms\n",
            "867:\tlearn: 0.0281892\ttotal: 2.4s\tremaining: 365ms\n",
            "868:\tlearn: 0.0281414\ttotal: 2.4s\tremaining: 362ms\n",
            "869:\tlearn: 0.0280588\ttotal: 2.4s\tremaining: 359ms\n",
            "870:\tlearn: 0.0280169\ttotal: 2.41s\tremaining: 356ms\n",
            "871:\tlearn: 0.0279505\ttotal: 2.41s\tremaining: 354ms\n",
            "872:\tlearn: 0.0278872\ttotal: 2.41s\tremaining: 351ms\n",
            "873:\tlearn: 0.0278443\ttotal: 2.41s\tremaining: 348ms\n",
            "874:\tlearn: 0.0277947\ttotal: 2.42s\tremaining: 345ms\n",
            "875:\tlearn: 0.0277466\ttotal: 2.42s\tremaining: 343ms\n",
            "876:\tlearn: 0.0277048\ttotal: 2.42s\tremaining: 340ms\n",
            "877:\tlearn: 0.0276600\ttotal: 2.42s\tremaining: 337ms\n",
            "878:\tlearn: 0.0275645\ttotal: 2.43s\tremaining: 334ms\n",
            "879:\tlearn: 0.0275038\ttotal: 2.43s\tremaining: 331ms\n",
            "880:\tlearn: 0.0274741\ttotal: 2.43s\tremaining: 329ms\n",
            "881:\tlearn: 0.0274433\ttotal: 2.44s\tremaining: 326ms\n",
            "882:\tlearn: 0.0273996\ttotal: 2.44s\tremaining: 323ms\n",
            "883:\tlearn: 0.0273791\ttotal: 2.44s\tremaining: 320ms\n",
            "884:\tlearn: 0.0273522\ttotal: 2.44s\tremaining: 317ms\n",
            "885:\tlearn: 0.0273028\ttotal: 2.44s\tremaining: 315ms\n",
            "886:\tlearn: 0.0272571\ttotal: 2.45s\tremaining: 312ms\n",
            "887:\tlearn: 0.0272191\ttotal: 2.45s\tremaining: 309ms\n",
            "888:\tlearn: 0.0271632\ttotal: 2.45s\tremaining: 306ms\n",
            "889:\tlearn: 0.0271171\ttotal: 2.46s\tremaining: 303ms\n",
            "890:\tlearn: 0.0270499\ttotal: 2.46s\tremaining: 301ms\n",
            "891:\tlearn: 0.0270053\ttotal: 2.46s\tremaining: 298ms\n",
            "892:\tlearn: 0.0269560\ttotal: 2.46s\tremaining: 295ms\n",
            "893:\tlearn: 0.0269181\ttotal: 2.46s\tremaining: 292ms\n",
            "894:\tlearn: 0.0269063\ttotal: 2.47s\tremaining: 290ms\n",
            "895:\tlearn: 0.0268743\ttotal: 2.47s\tremaining: 287ms\n",
            "896:\tlearn: 0.0268391\ttotal: 2.47s\tremaining: 284ms\n",
            "897:\tlearn: 0.0267746\ttotal: 2.48s\tremaining: 281ms\n",
            "898:\tlearn: 0.0267499\ttotal: 2.48s\tremaining: 278ms\n",
            "899:\tlearn: 0.0266629\ttotal: 2.49s\tremaining: 277ms\n",
            "900:\tlearn: 0.0266053\ttotal: 2.49s\tremaining: 274ms\n",
            "901:\tlearn: 0.0265559\ttotal: 2.5s\tremaining: 271ms\n",
            "902:\tlearn: 0.0265165\ttotal: 2.5s\tremaining: 269ms\n",
            "903:\tlearn: 0.0264696\ttotal: 2.51s\tremaining: 266ms\n",
            "904:\tlearn: 0.0264214\ttotal: 2.51s\tremaining: 263ms\n",
            "905:\tlearn: 0.0263649\ttotal: 2.51s\tremaining: 261ms\n",
            "906:\tlearn: 0.0262824\ttotal: 2.51s\tremaining: 258ms\n",
            "907:\tlearn: 0.0262530\ttotal: 2.52s\tremaining: 255ms\n",
            "908:\tlearn: 0.0261992\ttotal: 2.52s\tremaining: 252ms\n",
            "909:\tlearn: 0.0261518\ttotal: 2.52s\tremaining: 249ms\n",
            "910:\tlearn: 0.0260810\ttotal: 2.52s\tremaining: 247ms\n",
            "911:\tlearn: 0.0259957\ttotal: 2.53s\tremaining: 244ms\n",
            "912:\tlearn: 0.0258832\ttotal: 2.53s\tremaining: 241ms\n",
            "913:\tlearn: 0.0258447\ttotal: 2.53s\tremaining: 238ms\n",
            "914:\tlearn: 0.0258230\ttotal: 2.53s\tremaining: 235ms\n",
            "915:\tlearn: 0.0257730\ttotal: 2.54s\tremaining: 233ms\n",
            "916:\tlearn: 0.0257240\ttotal: 2.54s\tremaining: 230ms\n",
            "917:\tlearn: 0.0256794\ttotal: 2.54s\tremaining: 227ms\n",
            "918:\tlearn: 0.0256465\ttotal: 2.54s\tremaining: 224ms\n",
            "919:\tlearn: 0.0256070\ttotal: 2.55s\tremaining: 221ms\n",
            "920:\tlearn: 0.0255848\ttotal: 2.55s\tremaining: 219ms\n",
            "921:\tlearn: 0.0255366\ttotal: 2.55s\tremaining: 216ms\n",
            "922:\tlearn: 0.0255100\ttotal: 2.55s\tremaining: 213ms\n",
            "923:\tlearn: 0.0254829\ttotal: 2.56s\tremaining: 210ms\n",
            "924:\tlearn: 0.0254451\ttotal: 2.56s\tremaining: 208ms\n",
            "925:\tlearn: 0.0253937\ttotal: 2.56s\tremaining: 205ms\n",
            "926:\tlearn: 0.0253430\ttotal: 2.56s\tremaining: 202ms\n",
            "927:\tlearn: 0.0253039\ttotal: 2.57s\tremaining: 199ms\n",
            "928:\tlearn: 0.0253023\ttotal: 2.57s\tremaining: 196ms\n",
            "929:\tlearn: 0.0252866\ttotal: 2.57s\tremaining: 194ms\n",
            "930:\tlearn: 0.0252441\ttotal: 2.57s\tremaining: 191ms\n",
            "931:\tlearn: 0.0252311\ttotal: 2.58s\tremaining: 188ms\n",
            "932:\tlearn: 0.0251926\ttotal: 2.58s\tremaining: 185ms\n",
            "933:\tlearn: 0.0251628\ttotal: 2.58s\tremaining: 182ms\n",
            "934:\tlearn: 0.0251502\ttotal: 2.58s\tremaining: 180ms\n",
            "935:\tlearn: 0.0251064\ttotal: 2.59s\tremaining: 177ms\n",
            "936:\tlearn: 0.0250855\ttotal: 2.59s\tremaining: 174ms\n",
            "937:\tlearn: 0.0250827\ttotal: 2.59s\tremaining: 171ms\n",
            "938:\tlearn: 0.0250461\ttotal: 2.59s\tremaining: 169ms\n",
            "939:\tlearn: 0.0249880\ttotal: 2.6s\tremaining: 166ms\n",
            "940:\tlearn: 0.0249614\ttotal: 2.6s\tremaining: 163ms\n",
            "941:\tlearn: 0.0249052\ttotal: 2.6s\tremaining: 160ms\n",
            "942:\tlearn: 0.0248764\ttotal: 2.6s\tremaining: 157ms\n",
            "943:\tlearn: 0.0248706\ttotal: 2.61s\tremaining: 155ms\n",
            "944:\tlearn: 0.0248317\ttotal: 2.61s\tremaining: 152ms\n",
            "945:\tlearn: 0.0247725\ttotal: 2.61s\tremaining: 149ms\n",
            "946:\tlearn: 0.0247492\ttotal: 2.61s\tremaining: 146ms\n",
            "947:\tlearn: 0.0247472\ttotal: 2.62s\tremaining: 144ms\n",
            "948:\tlearn: 0.0247099\ttotal: 2.62s\tremaining: 141ms\n",
            "949:\tlearn: 0.0246636\ttotal: 2.62s\tremaining: 138ms\n",
            "950:\tlearn: 0.0246613\ttotal: 2.62s\tremaining: 135ms\n",
            "951:\tlearn: 0.0246456\ttotal: 2.63s\tremaining: 133ms\n",
            "952:\tlearn: 0.0246101\ttotal: 2.63s\tremaining: 130ms\n",
            "953:\tlearn: 0.0245755\ttotal: 2.64s\tremaining: 127ms\n",
            "954:\tlearn: 0.0245402\ttotal: 2.64s\tremaining: 124ms\n",
            "955:\tlearn: 0.0245058\ttotal: 2.64s\tremaining: 122ms\n",
            "956:\tlearn: 0.0244779\ttotal: 2.65s\tremaining: 119ms\n",
            "957:\tlearn: 0.0244518\ttotal: 2.65s\tremaining: 116ms\n",
            "958:\tlearn: 0.0244097\ttotal: 2.65s\tremaining: 113ms\n",
            "959:\tlearn: 0.0243917\ttotal: 2.65s\tremaining: 111ms\n",
            "960:\tlearn: 0.0243826\ttotal: 2.65s\tremaining: 108ms\n",
            "961:\tlearn: 0.0243730\ttotal: 2.66s\tremaining: 105ms\n",
            "962:\tlearn: 0.0243190\ttotal: 2.66s\tremaining: 102ms\n",
            "963:\tlearn: 0.0242667\ttotal: 2.66s\tremaining: 99.4ms\n",
            "964:\tlearn: 0.0242625\ttotal: 2.66s\tremaining: 96.7ms\n",
            "965:\tlearn: 0.0242280\ttotal: 2.67s\tremaining: 93.9ms\n",
            "966:\tlearn: 0.0241746\ttotal: 2.67s\tremaining: 91.1ms\n",
            "967:\tlearn: 0.0241096\ttotal: 2.67s\tremaining: 88.3ms\n",
            "968:\tlearn: 0.0240969\ttotal: 2.67s\tremaining: 85.6ms\n",
            "969:\tlearn: 0.0240373\ttotal: 2.68s\tremaining: 82.9ms\n",
            "970:\tlearn: 0.0240094\ttotal: 2.69s\tremaining: 80.3ms\n",
            "971:\tlearn: 0.0239605\ttotal: 2.69s\tremaining: 77.5ms\n",
            "972:\tlearn: 0.0239195\ttotal: 2.69s\tremaining: 74.7ms\n",
            "973:\tlearn: 0.0238884\ttotal: 2.69s\tremaining: 71.9ms\n",
            "974:\tlearn: 0.0238553\ttotal: 2.7s\tremaining: 69.2ms\n",
            "975:\tlearn: 0.0238403\ttotal: 2.7s\tremaining: 66.4ms\n",
            "976:\tlearn: 0.0238292\ttotal: 2.7s\tremaining: 63.6ms\n",
            "977:\tlearn: 0.0237951\ttotal: 2.7s\tremaining: 60.8ms\n",
            "978:\tlearn: 0.0237595\ttotal: 2.71s\tremaining: 58.1ms\n",
            "979:\tlearn: 0.0237147\ttotal: 2.71s\tremaining: 55.3ms\n",
            "980:\tlearn: 0.0236418\ttotal: 2.71s\tremaining: 52.5ms\n",
            "981:\tlearn: 0.0235968\ttotal: 2.71s\tremaining: 49.8ms\n",
            "982:\tlearn: 0.0235578\ttotal: 2.72s\tremaining: 47ms\n",
            "983:\tlearn: 0.0235456\ttotal: 2.72s\tremaining: 44.2ms\n",
            "984:\tlearn: 0.0234871\ttotal: 2.72s\tremaining: 41.5ms\n",
            "985:\tlearn: 0.0234446\ttotal: 2.72s\tremaining: 38.7ms\n",
            "986:\tlearn: 0.0233988\ttotal: 2.73s\tremaining: 35.9ms\n",
            "987:\tlearn: 0.0233841\ttotal: 2.73s\tremaining: 33.2ms\n",
            "988:\tlearn: 0.0233677\ttotal: 2.73s\tremaining: 30.4ms\n",
            "989:\tlearn: 0.0233240\ttotal: 2.73s\tremaining: 27.6ms\n",
            "990:\tlearn: 0.0232928\ttotal: 2.74s\tremaining: 24.9ms\n",
            "991:\tlearn: 0.0232687\ttotal: 2.74s\tremaining: 22.1ms\n",
            "992:\tlearn: 0.0232587\ttotal: 2.74s\tremaining: 19.3ms\n",
            "993:\tlearn: 0.0232343\ttotal: 2.75s\tremaining: 16.6ms\n",
            "994:\tlearn: 0.0232023\ttotal: 2.75s\tremaining: 13.8ms\n",
            "995:\tlearn: 0.0231809\ttotal: 2.75s\tremaining: 11ms\n",
            "996:\tlearn: 0.0231381\ttotal: 2.75s\tremaining: 8.28ms\n",
            "997:\tlearn: 0.0231022\ttotal: 2.75s\tremaining: 5.52ms\n",
            "998:\tlearn: 0.0230647\ttotal: 2.76s\tremaining: 2.76ms\n",
            "999:\tlearn: 0.0230300\ttotal: 2.76s\tremaining: 0us\n",
            "Accuracy on test Set : 0.6996\n",
            "Confusion Matrix : \n",
            " [[ 39  43]\n",
            " [ 24 117]]\n",
            "              precision    recall  f1-score   support\n",
            "\n",
            "           0     0.6190    0.4756    0.5379        82\n",
            "           1     0.7312    0.8298    0.7774       141\n",
            "\n",
            "    accuracy                         0.6996       223\n",
            "   macro avg     0.6751    0.6527    0.6577       223\n",
            "weighted avg     0.6900    0.6996    0.6893       223\n",
            "\n"
          ]
        }
      ],
      "source": [
        "from sklearn.metrics import accuracy_score, f1_score\n",
        "from sklearn.metrics import confusion_matrix, classification_report\n",
        "\n",
        "pipe_model_cb = make_pipeline(preprocessing_pipe, \n",
        "                                 ADASYN(), \n",
        "                                 CatBoostClassifier(random_state = 1234,\n",
        "                                                    auto_class_weights = 'Balanced',\n",
        "                                                    bootstrap_type = 'MVS', \n",
        "                                                    iterations = 1000, \n",
        "                                                    learning_rate = 0.05,\n",
        "                                                    min_data_in_leaf = 6 ))\n",
        "pipe_model_cb.fit(X_train, Y_train)\n",
        "y_pred = pipe_model_cb.predict(X_test) \n",
        "\n",
        "# print('Accuracy on training Set : {:.4f}'.format(pipe_model_cb.score(X_train, Y_train)))\n",
        "\n",
        "# train 정확도\n",
        "train_accuracy.append(pipe_model_cb.score(X_train, Y_train))\n",
        "\n",
        "print('Accuracy on test Set : {:.4f}'.format(pipe_model_cb.score(X_test, Y_test)))\n",
        "\n",
        "# test 정확도\n",
        "test_accuracy.append(pipe_model_cb.score(X_test, Y_test))\n",
        "\n",
        "# confusion matrix\n",
        "print('Confusion Matrix : \\n {}'.format(confusion_matrix(Y_test, y_pred)))\n",
        "\n",
        "# 목표변수의 불균형 : f1score로 모델 평가\n",
        "print(classification_report(Y_test, y_pred, digits = 4))"
      ]
    },
    {
      "cell_type": "code",
      "execution_count": 179,
      "id": "637b1dac",
      "metadata": {
        "id": "637b1dac",
        "colab": {
          "base_uri": "https://localhost:8080/",
          "height": 296
        },
        "outputId": "ffa05dbb-9fce-45e3-afaf-cf6fd86ab65f"
      },
      "outputs": [
        {
          "output_type": "display_data",
          "data": {
            "text/plain": [
              "<Figure size 432x288 with 1 Axes>"
            ],
            "image/png": "[encoded data removed]"
          },
          "metadata": {
            "needs_background": "light"
          }
        },
        {
          "output_type": "execute_result",
          "data": {
            "text/plain": [
              "0.6526984950700571"
            ]
          },
          "metadata": {},
          "execution_count": 179
        }
      ],
      "source": [
        "#모델 성능 평가: precision, Recall, F1 Score, ROC Curve, AUC\n",
        "from sklearn.metrics import precision_score,recall_score,f1_score,roc_curve,auc\n",
        "# roc curve 그리기, label에 auc표시(소수점 2자리)\n",
        "fpr, tpr, thresholds = roc_curve(Y_test, y_pred)\n",
        "roc_auc = auc(fpr, tpr)\n",
        "\n",
        "# save auc \n",
        "model_auc.append(roc_auc)\n",
        "\n",
        "plt.plot(fpr, tpr, label =\"AUC=0.2f\"% roc_auc)\n",
        "plt.legend(loc = 'lower right')\n",
        "plt.ylabel('TPR')\n",
        "plt.xlabel('FPR')\n",
        "plt.show()\n",
        "roc_auc"
      ]
    },
    {
      "cell_type": "code",
      "execution_count": 117,
      "id": "22ecbfe7",
      "metadata": {
        "id": "22ecbfe7"
      },
      "outputs": [],
      "source": [
        "#precision, recall score\n",
        "model_precision.append(precision_score(Y_test,y_pred))\n",
        "model_recall.append(recall_score(Y_test, y_pred))\n",
        "\n",
        "#f1 score\n",
        "model_f1_score.append(f1_score(Y_test, y_pred))"
      ]
    },
    {
      "cell_type": "markdown",
      "id": "5433c956",
      "metadata": {
        "id": "5433c956"
      },
      "source": [
        "#### LGBM"
      ]
    },
    {
      "cell_type": "code",
      "execution_count": 180,
      "id": "d567f602",
      "metadata": {
        "id": "d567f602",
        "colab": {
          "base_uri": "https://localhost:8080/"
        },
        "outputId": "e0e872fd-e549-4a0c-88de-559f9175a54f"
      },
      "outputs": [
        {
          "output_type": "stream",
          "name": "stdout",
          "text": [
            "Accuracy on training Set : 1.0000\n",
            "Accuracy on test Set : 0.6996\n",
            "Confusion Matrix : \n",
            " [[ 41  41]\n",
            " [ 26 115]]\n",
            "              precision    recall  f1-score   support\n",
            "\n",
            "           0     0.6119    0.5000    0.5503        82\n",
            "           1     0.7372    0.8156    0.7744       141\n",
            "\n",
            "    accuracy                         0.6996       223\n",
            "   macro avg     0.6746    0.6578    0.6624       223\n",
            "weighted avg     0.6911    0.6996    0.6920       223\n",
            "\n"
          ]
        }
      ],
      "source": [
        "from sklearn.metrics import accuracy_score, f1_score\n",
        "from sklearn.metrics import confusion_matrix, classification_report\n",
        "\n",
        "pipe_model_lg = make_pipeline(preprocessing_pipe, \n",
        "                                 ADASYN(), \n",
        "                                 LGBMClassifier(random_state = 1234,\n",
        "                                               learning_rate = 0.1, \n",
        "                                               min_child_samples = 5, \n",
        "                                               n_estimators = 110, \n",
        "                                               num_leaves = 60, \n",
        "                                               reg_alpha = 0.05))\n",
        "pipe_model_lg.fit(X_train, Y_train)\n",
        "y_pred = pipe_model_lg.predict(X_test) \n",
        "\n",
        "print('Accuracy on training Set : {:.4f}'.format(pipe_model_lg.score(X_train, Y_train)))\n",
        "\n",
        "# train 정확도\n",
        "train_accuracy.append(pipe_model_lg.score(X_train, Y_train))\n",
        "\n",
        "print('Accuracy on test Set : {:.4f}'.format(pipe_model_lg.score(X_test, Y_test)))\n",
        "\n",
        "# test 정확도\n",
        "test_accuracy.append(pipe_model_lg.score(X_test, Y_test))\n",
        "\n",
        "# confusion matrix\n",
        "print('Confusion Matrix : \\n {}'.format(confusion_matrix(Y_test, y_pred)))\n",
        "\n",
        "# 목표변수의 불균형 : f1score로 모델 평가\n",
        "print(classification_report(Y_test, y_pred, digits = 4))"
      ]
    },
    {
      "cell_type": "code",
      "source": [
        "#precision, recall score\n",
        "model_precision.append(precision_score(Y_test,y_pred))\n",
        "model_recall.append(recall_score(Y_test, y_pred))\n",
        "\n",
        "#f1 score\n",
        "model_f1_score.append(f1_score(Y_test, y_pred))"
      ],
      "metadata": {
        "id": "4f2TZLd5urK0"
      },
      "id": "4f2TZLd5urK0",
      "execution_count": null,
      "outputs": []
    },
    {
      "cell_type": "code",
      "source": [
        "precision_score(Y_test,y_pred)"
      ],
      "metadata": {
        "colab": {
          "base_uri": "https://localhost:8080/"
        },
        "id": "JUbF1riRuslv",
        "outputId": "17eff04f-39e8-4a9f-a401-9354dc792806"
      },
      "id": "JUbF1riRuslv",
      "execution_count": 128,
      "outputs": [
        {
          "output_type": "execute_result",
          "data": {
            "text/plain": [
              "0.9298597194388778"
            ]
          },
          "metadata": {},
          "execution_count": 128
        }
      ]
    },
    {
      "cell_type": "code",
      "source": [
        "from sklearn.metrics import roc_auc_score\n",
        "roc = roc_auc_score(Y_test, pipe_model_et.predict_proba(X_test)[:,1])\n",
        "roc"
      ],
      "metadata": {
        "colab": {
          "base_uri": "https://localhost:8080/"
        },
        "id": "QKCkAMx1-J4I",
        "outputId": "add5ec49-0c24-4da5-bc43-b4ae2d909990"
      },
      "id": "QKCkAMx1-J4I",
      "execution_count": 169,
      "outputs": [
        {
          "output_type": "execute_result",
          "data": {
            "text/plain": [
              "0.8761970229828413"
            ]
          },
          "metadata": {},
          "execution_count": 169
        }
      ]
    },
    {
      "cell_type": "code",
      "execution_count": 181,
      "id": "64ca9895",
      "metadata": {
        "id": "64ca9895",
        "colab": {
          "base_uri": "https://localhost:8080/",
          "height": 296
        },
        "outputId": "1207ae80-c236-48cc-c426-21a71999c16d"
      },
      "outputs": [
        {
          "output_type": "display_data",
          "data": {
            "text/plain": [
              "<Figure size 432x288 with 1 Axes>"
            ],
            "image/png": "[encoded data removed]"
          },
          "metadata": {
            "needs_background": "light"
          }
        },
        {
          "output_type": "execute_result",
          "data": {
            "text/plain": [
              "0.6578014184397163"
            ]
          },
          "metadata": {},
          "execution_count": 181
        }
      ],
      "source": [
        "#모델 성능 평가: precision, Recall, F1 Score, ROC Curve, AUC\n",
        "from sklearn.metrics import precision_score,recall_score,f1_score,roc_curve,auc\n",
        "# roc curve 그리기, label에 auc표시(소수점 2자리)\n",
        "fpr, tpr, thresholds = roc_curve(Y_test, y_pred)\n",
        "roc_auc = auc(fpr, tpr)\n",
        "\n",
        "# save auc \n",
        "model_auc.append(roc_auc)\n",
        "\n",
        "plt.plot(fpr, tpr, label =\"AUC=0.2f\"% roc_auc)\n",
        "plt.legend(loc = 'lower right')\n",
        "plt.ylabel('TPR')\n",
        "plt.xlabel('FPR')\n",
        "plt.show()\n",
        "roc_auc"
      ]
    },
    {
      "cell_type": "code",
      "execution_count": 120,
      "id": "d6571d58",
      "metadata": {
        "id": "d6571d58"
      },
      "outputs": [],
      "source": [
        "#precision, recall score\n",
        "model_precision.append(precision_score(Y_test,y_pred))\n",
        "model_recall.append(recall_score(Y_test, y_pred))\n",
        "\n",
        "#f1 score\n",
        "model_f1_score.append(f1_score(Y_test, y_pred))"
      ]
    },
    {
      "cell_type": "code",
      "source": [
        "model_auc[0] = 0.7839"
      ],
      "metadata": {
        "id": "fQLfRg8ruLcx"
      },
      "id": "fQLfRg8ruLcx",
      "execution_count": 124,
      "outputs": []
    },
    {
      "cell_type": "code",
      "source": [
        "model_auc.insert(1,0.7144)"
      ],
      "metadata": {
        "id": "3pjWC6TNuUt5"
      },
      "id": "3pjWC6TNuUt5",
      "execution_count": 126,
      "outputs": []
    },
    {
      "cell_type": "code",
      "source": [
        "test_accuracy"
      ],
      "metadata": {
        "colab": {
          "base_uri": "https://localhost:8080/"
        },
        "id": "L9B8fWIDuOID",
        "outputId": "ba56739e-e0a1-469c-8219-1bba31265f79"
      },
      "id": "L9B8fWIDuOID",
      "execution_count": 123,
      "outputs": [
        {
          "output_type": "execute_result",
          "data": {
            "text/plain": [
              "[0.849375, 0.899375, 0.89625, 0.90125, 0.906875]"
            ]
          },
          "metadata": {},
          "execution_count": 123
        }
      ]
    },
    {
      "cell_type": "code",
      "execution_count": 127,
      "id": "35c28094",
      "metadata": {
        "id": "35c28094",
        "colab": {
          "base_uri": "https://localhost:8080/",
          "height": 206
        },
        "outputId": "d8516382-0671-42c5-cb76-235c665d8338"
      },
      "outputs": [
        {
          "output_type": "execute_result",
          "data": {
            "text/plain": [
              "              TrainAccuracy  TestAccuracy     AUC  Precision  Recall  F1Score\n",
              "ExtraTrees           0.8473        0.8494  0.7839     0.9761  0.8531   0.9104\n",
              "RandomForest         0.9108        0.8994  0.7144     0.9412  0.9471   0.9441\n",
              "XGBoost              0.9141        0.8962  0.7018     0.9385  0.9464   0.9424\n",
              "CatBoost             0.9844        0.9012  0.6479     0.9266  0.9666   0.9461\n",
              "LGBM                 0.9958        0.9069  0.6646     0.9299  0.9694   0.9492"
            ],
            "text/html": [
              "\n",
              "  <div id=\"df-da7b148a-2e73-4764-a45a-5aeeb33c9673\">\n",
              "    <div class=\"colab-df-container\">\n",
              "      <div>\n",
              "<style scoped>\n",
              "    .dataframe tbody tr th:only-of-type {\n",
              "        vertical-align: middle;\n",
              "    }\n",
              "\n",
              "    .dataframe tbody tr th {\n",
              "        vertical-align: top;\n",
              "    }\n",
              "\n",
              "    .dataframe thead th {\n",
              "        text-align: right;\n",
              "    }\n",
              "</style>\n",
              "<table border=\"1\" class=\"dataframe\">\n",
              "  <thead>\n",
              "    <tr style=\"text-align: right;\">\n",
              "      <th></th>\n",
              "      <th>TrainAccuracy</th>\n",
              "      <th>TestAccuracy</th>\n",
              "      <th>AUC</th>\n",
              "      <th>Precision</th>\n",
              "      <th>Recall</th>\n",
              "      <th>F1Score</th>\n",
              "    </tr>\n",
              "  </thead>\n",
              "  <tbody>\n",
              "    <tr>\n",
              "      <th>ExtraTrees</th>\n",
              "      <td>0.8473</td>\n",
              "      <td>0.8494</td>\n",
              "      <td>0.7839</td>\n",
              "      <td>0.9761</td>\n",
              "      <td>0.8531</td>\n",
              "      <td>0.9104</td>\n",
              "    </tr>\n",
              "    <tr>\n",
              "      <th>RandomForest</th>\n",
              "      <td>0.9108</td>\n",
              "      <td>0.8994</td>\n",
              "      <td>0.7144</td>\n",
              "      <td>0.9412</td>\n",
              "      <td>0.9471</td>\n",
              "      <td>0.9441</td>\n",
              "    </tr>\n",
              "    <tr>\n",
              "      <th>XGBoost</th>\n",
              "      <td>0.9141</td>\n",
              "      <td>0.8962</td>\n",
              "      <td>0.7018</td>\n",
              "      <td>0.9385</td>\n",
              "      <td>0.9464</td>\n",
              "      <td>0.9424</td>\n",
              "    </tr>\n",
              "    <tr>\n",
              "      <th>CatBoost</th>\n",
              "      <td>0.9844</td>\n",
              "      <td>0.9012</td>\n",
              "      <td>0.6479</td>\n",
              "      <td>0.9266</td>\n",
              "      <td>0.9666</td>\n",
              "      <td>0.9461</td>\n",
              "    </tr>\n",
              "    <tr>\n",
              "      <th>LGBM</th>\n",
              "      <td>0.9958</td>\n",
              "      <td>0.9069</td>\n",
              "      <td>0.6646</td>\n",
              "      <td>0.9299</td>\n",
              "      <td>0.9694</td>\n",
              "      <td>0.9492</td>\n",
              "    </tr>\n",
              "  </tbody>\n",
              "</table>\n",
              "</div>\n",
              "      <button class=\"colab-df-convert\" onclick=\"convertToInteractive('df-da7b148a-2e73-4764-a45a-5aeeb33c9673')\"\n",
              "              title=\"Convert this dataframe to an interactive table.\"\n",
              "              style=\"display:none;\">\n",
              "        \n",
              "  <svg xmlns=\"http://www.w3.org/2000/svg\" height=\"24px\"viewBox=\"0 0 24 24\"\n",
              "       width=\"24px\">\n",
              "    <path d=\"M0 0h24v24H0V0z\" fill=\"none\"/>\n",
              "    <path d=\"M18.56 5.44l.94 2.06.94-2.06 2.06-.94-2.06-.94-.94-2.06-.94 2.06-2.06.94zm-11 1L8.5 8.5l.94-2.06 2.06-.94-2.06-.94L8.5 2.5l-.94 2.06-2.06.94zm10 10l.94 2.06.94-2.06 2.06-.94-2.06-.94-.94-2.06-.94 2.06-2.06.94z\"/><path d=\"M17.41 7.96l-1.37-1.37c-.4-.4-.92-.59-1.43-.59-.52 0-1.04.2-1.43.59L10.3 9.45l-7.72 7.72c-.78.78-.78 2.05 0 2.83L4 21.41c.39.39.9.59 1.41.59.51 0 1.02-.2 1.41-.59l7.78-7.78 2.81-2.81c.8-.78.8-2.07 0-2.86zM5.41 20L4 18.59l7.72-7.72 1.47 1.35L5.41 20z\"/>\n",
              "  </svg>\n",
              "      </button>\n",
              "      \n",
              "  <style>\n",
              "    .colab-df-container {\n",
              "      display:flex;\n",
              "      flex-wrap:wrap;\n",
              "      gap: 12px;\n",
              "    }\n",
              "\n",
              "    .colab-df-convert {\n",
              "      background-color: #E8F0FE;\n",
              "      border: none;\n",
              "      border-radius: 50%;\n",
              "      cursor: pointer;\n",
              "      display: none;\n",
              "      fill: #1967D2;\n",
              "      height: 32px;\n",
              "      padding: 0 0 0 0;\n",
              "      width: 32px;\n",
              "    }\n",
              "\n",
              "    .colab-df-convert:hover {\n",
              "      background-color: #E2EBFA;\n",
              "      box-shadow: 0px 1px 2px rgba(60, 64, 67, 0.3), 0px 1px 3px 1px rgba(60, 64, 67, 0.15);\n",
              "      fill: #174EA6;\n",
              "    }\n",
              "\n",
              "    [theme=dark] .colab-df-convert {\n",
              "      background-color: #3B4455;\n",
              "      fill: #D2E3FC;\n",
              "    }\n",
              "\n",
              "    [theme=dark] .colab-df-convert:hover {\n",
              "      background-color: #434B5C;\n",
              "      box-shadow: 0px 1px 3px 1px rgba(0, 0, 0, 0.15);\n",
              "      filter: drop-shadow(0px 1px 2px rgba(0, 0, 0, 0.3));\n",
              "      fill: #FFFFFF;\n",
              "    }\n",
              "  </style>\n",
              "\n",
              "      <script>\n",
              "        const buttonEl =\n",
              "          document.querySelector('#df-da7b148a-2e73-4764-a45a-5aeeb33c9673 button.colab-df-convert');\n",
              "        buttonEl.style.display =\n",
              "          google.colab.kernel.accessAllowed ? 'block' : 'none';\n",
              "\n",
              "        async function convertToInteractive(key) {\n",
              "          const element = document.querySelector('#df-da7b148a-2e73-4764-a45a-5aeeb33c9673');\n",
              "          const dataTable =\n",
              "            await google.colab.kernel.invokeFunction('convertToInteractive',\n",
              "                                                     [key], {});\n",
              "          if (!dataTable) return;\n",
              "\n",
              "          const docLinkHtml = 'Like what you see? Visit the ' +\n",
              "            '<a target=\"_blank\" href=https://colab.research.google.com/notebooks/data_table.ipynb>data table notebook</a>'\n",
              "            + ' to learn more about interactive tables.';\n",
              "          element.innerHTML = '';\n",
              "          dataTable['output_type'] = 'display_data';\n",
              "          await google.colab.output.renderOutput(dataTable, element);\n",
              "          const docLink = document.createElement('div');\n",
              "          docLink.innerHTML = docLinkHtml;\n",
              "          element.appendChild(docLink);\n",
              "        }\n",
              "      </script>\n",
              "    </div>\n",
              "  </div>\n",
              "  "
            ]
          },
          "metadata": {},
          "execution_count": 127
        }
      ],
      "source": [
        "#모델별 평가 결과\n",
        "df_eval = pd.DataFrame(index=model)\n",
        "df_eval[\"TrainAccuracy\"] = train_accuracy \n",
        "df_eval[\"TestAccuracy\"] = test_accuracy\n",
        "df_eval[\"AUC\"] = model_auc\n",
        "df_eval[\"Precision\"] = model_precision;\n",
        "df_eval[\"Recall\"] = model_recall\n",
        "df_eval[\"F1Score\"] = model_f1_score\n",
        "df_eval.round(4)"
      ]
    },
    {
      "cell_type": "markdown",
      "id": "4f3ebcaa",
      "metadata": {
        "id": "4f3ebcaa"
      },
      "source": [
        "# STACKING"
      ]
    },
    {
      "cell_type": "code",
      "execution_count": null,
      "id": "f3f22198",
      "metadata": {
        "id": "f3f22198"
      },
      "outputs": [],
      "source": [
        "# 개별 모델 정의\n",
        "knn_clf = KNeighborsClassifier()\n",
        "rf_clf = RandomForestClassifier()\n",
        "ab_clf = AdaBoostClassifier()\n",
        "dt_clf = DecisionTreeClassifier()\n",
        "# 최종 메타 모델 정의\n",
        "lr_final = LogisticRegression(C=10)\n",
        "\n",
        "from sklearn.model_selection import KFold\n",
        "from sklearn.metrics import accuracy_score\n",
        "import warnings\n",
        "warnings.filterwarnings(action='ignore')\n",
        "\n",
        "def get_stacking_datasets(model, x_train_n, y_train_n, x_test_n, n_folds):\n",
        "    # CV하기 위해 K-fold 설정\n",
        "    kf = KFold(n_splits=n_folds, shuffle=False)\n",
        "    \n",
        "    # 최종 메타 모델이 사용할 학습 데이터 반환을 위해서 넘파이 배열을 0으로 만들어서 초기화\n",
        "    train_fold_pred = np.zeros((x_train_n.shape[0], 1)) # 2차원으로\n",
        "    test_pred = np.zeros((x_test_n.shape[0], n_folds))\n",
        "    print(model.__class__.__name__, '모델 시작')\n",
        "    \n",
        "    for folder_counter, (train_idx, valid_idx) in enumerate(kf.split(x_train_n)):\n",
        "        # 개별 모델 내부에서 학습하고 1개의 fold로 예측할 데이터 셋 추출\n",
        "        print(f\" Fold 횟수 : {folder_counter+1}\")\n",
        "        x_tr = x_train_n[train_idx]\n",
        "        y_tr = y_train_n[train_idx]\n",
        "        x_te = x_train_n[valid_idx]\n",
        "        \n",
        "        # 개별 모델이 학습한 후 1개의 fold데이터셋으로 예측값 반환 후 최종 메타모델이 학습할 데이터셋에 첨가\n",
        "        model.fit(x_tr, y_tr)\n",
        "        train_fold_pred[valid_idx, :] = model.predict(x_te).reshape(-1,1)\n",
        "        # 개별 모델이 원본 데이터셋의 검증 데이터셋을 기반으로 예측 결과값 반환 후 최종 메타모델이 검증할 데이터셋에 첨가\n",
        "        test_pred[:, folder_counter] = model.predict(x_test_n)\n",
        "    \n",
        "    # 개별모델안에서 테스트 데이터셋을 기반으로 예측한 결과값들 mean취해주고 2차원으로 바꾸어주기\n",
        "    test_pred_mean = np.mean(test_pred, axis=1).reshape(-1,1)\n",
        "    \n",
        "    return train_fold_pred, test_pred_mean\n",
        "\n",
        "knn_train, knn_test = get_stacking_datasets(knn_clf, x_train, y_train, x_test, 5)\n",
        "rf_train, rf_test = get_stacking_datasets(rf_clf, x_train, y_train, x_test, 5)\n",
        "ab_train, ab_test = get_stacking_datasets(ab_clf, x_train, y_train, x_test, 5)\n",
        "dt_train, dt_test = get_stacking_datasets(dt_clf, x_train, y_train, x_test, 5)"
      ]
    },
    {
      "cell_type": "markdown",
      "id": "44bd6d45",
      "metadata": {
        "id": "44bd6d45"
      },
      "source": [
        "## Feature Importances"
      ]
    },
    {
      "cell_type": "code",
      "execution_count": null,
      "id": "8b09b53b",
      "metadata": {
        "id": "8b09b53b"
      },
      "outputs": [],
      "source": [
        "df_importances= pd.DataFrame()\n",
        "df_importances['Importance'] = pipe_model_lg['lgbmclassifier'].feature_importances_\n",
        "\n",
        "total_list = numeric_list\n",
        "encode_list = pipe_model_lg.named_steps['columntransformer'].named_transformers_['pipeline-2'].named_steps['onehotencoder'].get_feature_names(input_features=category_list)\n",
        "total_list.extend(encode_list)\n",
        "df_importances['Columns'] = total_list"
      ]
    },
    {
      "cell_type": "code",
      "execution_count": null,
      "id": "d6bb66ef",
      "metadata": {
        "id": "d6bb66ef"
      },
      "outputs": [],
      "source": [
        "# 설명변수 중요도 그래프\n",
        "# 중요도가 높은 변수를 상위에 그림\n",
        "df_importances.sort_values(\"Importance\", ascending=True, inplace=True)\n",
        "coordinates=range(len(df_importances))\n",
        "plt.figure(figsize=(15, 10))\n",
        "plt.barh(y=coordinates, width=df_importances[\"Importance\"])\n",
        "plt.yticks(coordinates, df_importances[\"Columns\"])\n",
        "plt.xlabel(\"Feature Importance\")\n",
        "plt.ylabel(\"Features\")"
      ]
    },
    {
      "cell_type": "code",
      "execution_count": null,
      "id": "318334ba",
      "metadata": {
        "id": "318334ba"
      },
      "outputs": [],
      "source": [
        "import matplotlib\n",
        "matplotlib.rc('font', family = 'NanumGothic')\n"
      ]
    },
    {
      "cell_type": "code",
      "execution_count": null,
      "id": "a02e473a",
      "metadata": {
        "id": "a02e473a"
      },
      "outputs": [],
      "source": [
        "#모델별 평가 지표 확인\n",
        "df_eval.plot.bar(rot=0,figsize=(10,6))\n",
        "plt.legend(loc=\"lower right\")\n",
        "plt.grid(axis=\"y\")"
      ]
    }
  ],
  "metadata": {
    "kernelspec": {
      "display_name": "Python 3.10.6 ('minji')",
      "language": "python",
      "name": "python3"
    },
    "language_info": {
      "codemirror_mode": {
        "name": "ipython",
        "version": 3
      },
      "file_extension": ".py",
      "mimetype": "text/x-python",
      "name": "python",
      "nbconvert_exporter": "python",
      "pygments_lexer": "ipython3",
      "version": "3.10.6"
    },
    "toc": {
      "base_numbering": 1,
      "nav_menu": {},
      "number_sections": true,
      "sideBar": true,
      "skip_h1_title": false,
      "title_cell": "Table of Contents",
      "title_sidebar": "Contents",
      "toc_cell": false,
      "toc_position": {},
      "toc_section_display": true,
      "toc_window_display": false
    },
    "vscode": {
      "interpreter": {
        "hash": "367b04bdf3d93ab264f16c7e234cfe6bce5c440d1d8775e766a4e2288a8560a0"
      }
    },
    "colab": {
      "provenance": [],
      "collapsed_sections": [
        "b1d04144",
        "91c690ba",
        "688d5950",
        "4f3ebcaa",
        "44bd6d45"
      ],
      "toc_visible": true
    }
  },
  "nbformat": 4,
  "nbformat_minor": 5
}