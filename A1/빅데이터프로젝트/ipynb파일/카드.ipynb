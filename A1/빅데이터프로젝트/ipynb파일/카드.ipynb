{
 "cells": [
  {
   "cell_type": "code",
   "execution_count": 87,
   "metadata": {},
   "outputs": [],
   "source": [
    "import pandas as pd\n",
    "import seaborn as sns\n",
    "import matplotlib.pyplot as plt\n",
    "import matplotlib\n",
    "matplotlib.rc('font', family = 'NanumGothic')"
   ]
  },
  {
   "cell_type": "code",
   "execution_count": 88,
   "metadata": {},
   "outputs": [],
   "source": [
    "data = pd.read_csv('/home/piai/바탕화면/파이썬_기초/빅데이터프로젝트/A1_카드/Card_Spanding.csv')\n",
    "card = pd.read_csv('/home/piai/바탕화면/파이썬_기초/빅데이터프로젝트/csv파일/New_Card_Data.csv',index_col = 0)"
   ]
  },
  {
   "cell_type": "code",
   "execution_count": 89,
   "metadata": {},
   "outputs": [],
   "source": [
    "data_혜택 = pd.merge(data, card[['Card_ID','혜택분야','연회비','새로운혜택분야']], left_on=  '사용카드', right_on = 'Card_ID', how = 'left')"
   ]
  },
  {
   "cell_type": "code",
   "execution_count": 92,
   "metadata": {},
   "outputs": [],
   "source": [
    "wilcox = data_혜택.groupby('소비처업종',as_index = False)['사용금액'].agg('mean')"
   ]
  },
  {
   "cell_type": "code",
   "execution_count": 94,
   "metadata": {},
   "outputs": [],
   "source": [
    "from scipy.stats import wilcoxon"
   ]
  },
  {
   "cell_type": "code",
   "execution_count": 105,
   "metadata": {},
   "outputs": [
    {
     "data": {
      "text/plain": [
       "WilcoxonResult(statistic=0.0, pvalue=9.5367431640625e-07)"
      ]
     },
     "execution_count": 105,
     "metadata": {},
     "output_type": "execute_result"
    }
   ],
   "source": [
    "wilcoxon(wilcox['사용금액'])"
   ]
  },
  {
   "cell_type": "code",
   "execution_count": 104,
   "metadata": {},
   "outputs": [
    {
     "data": {
      "text/plain": [
       "2492.5347249573324"
      ]
     },
     "execution_count": 104,
     "metadata": {},
     "output_type": "execute_result"
    }
   ],
   "source": [
    "wilcox.iloc[10][1]"
   ]
  },
  {
   "cell_type": "code",
   "execution_count": 102,
   "metadata": {},
   "outputs": [
    {
     "data": {
      "text/html": [
       "<div>\n",
       "<style scoped>\n",
       "    .dataframe tbody tr th:only-of-type {\n",
       "        vertical-align: middle;\n",
       "    }\n",
       "\n",
       "    .dataframe tbody tr th {\n",
       "        vertical-align: top;\n",
       "    }\n",
       "\n",
       "    .dataframe thead th {\n",
       "        text-align: right;\n",
       "    }\n",
       "</style>\n",
       "<table border=\"1\" class=\"dataframe\">\n",
       "  <thead>\n",
       "    <tr style=\"text-align: right;\">\n",
       "      <th></th>\n",
       "      <th>소비처업종</th>\n",
       "      <th>사용금액</th>\n",
       "    </tr>\n",
       "  </thead>\n",
       "  <tbody>\n",
       "    <tr>\n",
       "      <th>0</th>\n",
       "      <td>가구</td>\n",
       "      <td>998.632597</td>\n",
       "    </tr>\n",
       "    <tr>\n",
       "      <th>1</th>\n",
       "      <td>가전</td>\n",
       "      <td>1273.631794</td>\n",
       "    </tr>\n",
       "    <tr>\n",
       "      <th>2</th>\n",
       "      <td>광학제품</td>\n",
       "      <td>224.861075</td>\n",
       "    </tr>\n",
       "    <tr>\n",
       "      <th>3</th>\n",
       "      <td>레저업소</td>\n",
       "      <td>183.191053</td>\n",
       "    </tr>\n",
       "    <tr>\n",
       "      <th>4</th>\n",
       "      <td>문화취미</td>\n",
       "      <td>286.934214</td>\n",
       "    </tr>\n",
       "    <tr>\n",
       "      <th>5</th>\n",
       "      <td>보건위생</td>\n",
       "      <td>530.335592</td>\n",
       "    </tr>\n",
       "    <tr>\n",
       "      <th>6</th>\n",
       "      <td>사무통신</td>\n",
       "      <td>412.109718</td>\n",
       "    </tr>\n",
       "    <tr>\n",
       "      <th>7</th>\n",
       "      <td>서적문구</td>\n",
       "      <td>1162.442058</td>\n",
       "    </tr>\n",
       "    <tr>\n",
       "      <th>8</th>\n",
       "      <td>수리서비스</td>\n",
       "      <td>146.307997</td>\n",
       "    </tr>\n",
       "    <tr>\n",
       "      <th>9</th>\n",
       "      <td>신변잡화</td>\n",
       "      <td>782.405898</td>\n",
       "    </tr>\n",
       "    <tr>\n",
       "      <th>10</th>\n",
       "      <td>연료판매</td>\n",
       "      <td>2492.534725</td>\n",
       "    </tr>\n",
       "    <tr>\n",
       "      <th>11</th>\n",
       "      <td>요식업소</td>\n",
       "      <td>3742.847786</td>\n",
       "    </tr>\n",
       "    <tr>\n",
       "      <th>12</th>\n",
       "      <td>유통업</td>\n",
       "      <td>3568.250694</td>\n",
       "    </tr>\n",
       "    <tr>\n",
       "      <th>13</th>\n",
       "      <td>음료식품</td>\n",
       "      <td>363.776106</td>\n",
       "    </tr>\n",
       "    <tr>\n",
       "      <th>14</th>\n",
       "      <td>의료기관</td>\n",
       "      <td>3028.402300</td>\n",
       "    </tr>\n",
       "    <tr>\n",
       "      <th>15</th>\n",
       "      <td>의복</td>\n",
       "      <td>661.605757</td>\n",
       "    </tr>\n",
       "    <tr>\n",
       "      <th>16</th>\n",
       "      <td>자동차정비</td>\n",
       "      <td>352.038698</td>\n",
       "    </tr>\n",
       "    <tr>\n",
       "      <th>17</th>\n",
       "      <td>자동차판매</td>\n",
       "      <td>581.080460</td>\n",
       "    </tr>\n",
       "    <tr>\n",
       "      <th>18</th>\n",
       "      <td>전기</td>\n",
       "      <td>576.607407</td>\n",
       "    </tr>\n",
       "    <tr>\n",
       "      <th>19</th>\n",
       "      <td>주방용품</td>\n",
       "      <td>481.266748</td>\n",
       "    </tr>\n",
       "    <tr>\n",
       "      <th>20</th>\n",
       "      <td>직물</td>\n",
       "      <td>957.094017</td>\n",
       "    </tr>\n",
       "  </tbody>\n",
       "</table>\n",
       "</div>"
      ],
      "text/plain": [
       "    소비처업종         사용금액\n",
       "0      가구   998.632597\n",
       "1      가전  1273.631794\n",
       "2    광학제품   224.861075\n",
       "3    레저업소   183.191053\n",
       "4    문화취미   286.934214\n",
       "5    보건위생   530.335592\n",
       "6    사무통신   412.109718\n",
       "7    서적문구  1162.442058\n",
       "8   수리서비스   146.307997\n",
       "9    신변잡화   782.405898\n",
       "10   연료판매  2492.534725\n",
       "11   요식업소  3742.847786\n",
       "12    유통업  3568.250694\n",
       "13   음료식품   363.776106\n",
       "14   의료기관  3028.402300\n",
       "15     의복   661.605757\n",
       "16  자동차정비   352.038698\n",
       "17  자동차판매   581.080460\n",
       "18     전기   576.607407\n",
       "19   주방용품   481.266748\n",
       "20     직물   957.094017"
      ]
     },
     "execution_count": 102,
     "metadata": {},
     "output_type": "execute_result"
    }
   ],
   "source": [
    "wilcox"
   ]
  },
  {
   "cell_type": "code",
   "execution_count": 99,
   "metadata": {},
   "outputs": [
    {
     "data": {
      "text/plain": [
       "998.6325966850828"
      ]
     },
     "execution_count": 99,
     "metadata": {},
     "output_type": "execute_result"
    }
   ],
   "source": [
    "wilcox.iloc[0][1]"
   ]
  },
  {
   "cell_type": "code",
   "execution_count": null,
   "metadata": {},
   "outputs": [],
   "source": [
    "for i in range(len(wilcox)):\n",
    "    "
   ]
  },
  {
   "cell_type": "code",
   "execution_count": 6,
   "metadata": {},
   "outputs": [],
   "source": [
    "data_혜택.dropna(inplace = True)"
   ]
  },
  {
   "cell_type": "code",
   "execution_count": 7,
   "metadata": {},
   "outputs": [],
   "source": [
    "data_혜택.to_csv('/home/piai/바탕화면/파이썬_기초/빅데이터프로젝트/csv파일/data_new_card.csv')"
   ]
  },
  {
   "cell_type": "code",
   "execution_count": 8,
   "metadata": {},
   "outputs": [
    {
     "data": {
      "text/plain": [
       "array(['public', 'travel', 'shopping', 'life', 'onlineShopping', 'oil',\n",
       "       'culture', 'comm', 'finance', 'food'], dtype=object)"
      ]
     },
     "execution_count": 8,
     "metadata": {},
     "output_type": "execute_result"
    }
   ],
   "source": [
    "data_혜택['혜택분야'].unique()"
   ]
  },
  {
   "cell_type": "code",
   "execution_count": 9,
   "metadata": {},
   "outputs": [
    {
     "data": {
      "text/html": [
       "<div>\n",
       "<style scoped>\n",
       "    .dataframe tbody tr th:only-of-type {\n",
       "        vertical-align: middle;\n",
       "    }\n",
       "\n",
       "    .dataframe tbody tr th {\n",
       "        vertical-align: top;\n",
       "    }\n",
       "\n",
       "    .dataframe thead th {\n",
       "        text-align: right;\n",
       "    }\n",
       "</style>\n",
       "<table border=\"1\" class=\"dataframe\">\n",
       "  <thead>\n",
       "    <tr style=\"text-align: right;\">\n",
       "      <th></th>\n",
       "      <th>지역</th>\n",
       "      <th>소비처</th>\n",
       "      <th>주소</th>\n",
       "      <th>소비처업종</th>\n",
       "      <th>성별</th>\n",
       "      <th>연령</th>\n",
       "      <th>사용횟수</th>\n",
       "      <th>사용금액</th>\n",
       "      <th>사용카드</th>\n",
       "      <th>카드사용일자</th>\n",
       "      <th>Card_ID</th>\n",
       "      <th>혜택분야</th>\n",
       "      <th>연회비</th>\n",
       "      <th>새로운혜택분야</th>\n",
       "    </tr>\n",
       "  </thead>\n",
       "  <tbody>\n",
       "  </tbody>\n",
       "</table>\n",
       "</div>"
      ],
      "text/plain": [
       "Empty DataFrame\n",
       "Columns: [지역, 소비처, 주소, 소비처업종, 성별, 연령, 사용횟수, 사용금액, 사용카드, 카드사용일자, Card_ID, 혜택분야, 연회비, 새로운혜택분야]\n",
       "Index: []"
      ]
     },
     "execution_count": 9,
     "metadata": {},
     "output_type": "execute_result"
    }
   ],
   "source": [
    "cond1 = (data_혜택['Card_ID'].isnull())\n",
    "data_혜택.loc[cond1]"
   ]
  },
  {
   "cell_type": "code",
   "execution_count": 10,
   "metadata": {},
   "outputs": [
    {
     "data": {
      "text/html": [
       "<div>\n",
       "<style scoped>\n",
       "    .dataframe tbody tr th:only-of-type {\n",
       "        vertical-align: middle;\n",
       "    }\n",
       "\n",
       "    .dataframe tbody tr th {\n",
       "        vertical-align: top;\n",
       "    }\n",
       "\n",
       "    .dataframe thead th {\n",
       "        text-align: right;\n",
       "    }\n",
       "</style>\n",
       "<table border=\"1\" class=\"dataframe\">\n",
       "  <thead>\n",
       "    <tr style=\"text-align: right;\">\n",
       "      <th></th>\n",
       "      <th>Unnamed: 0</th>\n",
       "      <th>Card_ID</th>\n",
       "      <th>분류</th>\n",
       "      <th>혜택분야</th>\n",
       "      <th>새로운혜택분야</th>\n",
       "      <th>소개</th>\n",
       "      <th>연회비</th>\n",
       "      <th>옵션</th>\n",
       "      <th>카드명</th>\n",
       "    </tr>\n",
       "  </thead>\n",
       "  <tbody>\n",
       "  </tbody>\n",
       "</table>\n",
       "</div>"
      ],
      "text/plain": [
       "Empty DataFrame\n",
       "Columns: [Unnamed: 0, Card_ID, 분류, 혜택분야, 새로운혜택분야, 소개, 연회비, 옵션, 카드명]\n",
       "Index: []"
      ]
     },
     "execution_count": 10,
     "metadata": {},
     "output_type": "execute_result"
    }
   ],
   "source": [
    "cond1 = (card['Card_ID']==263)\n",
    "card.loc[cond1]"
   ]
  },
  {
   "cell_type": "code",
   "execution_count": 11,
   "metadata": {},
   "outputs": [
    {
     "data": {
      "text/html": [
       "<div>\n",
       "<style scoped>\n",
       "    .dataframe tbody tr th:only-of-type {\n",
       "        vertical-align: middle;\n",
       "    }\n",
       "\n",
       "    .dataframe tbody tr th {\n",
       "        vertical-align: top;\n",
       "    }\n",
       "\n",
       "    .dataframe thead th {\n",
       "        text-align: right;\n",
       "    }\n",
       "</style>\n",
       "<table border=\"1\" class=\"dataframe\">\n",
       "  <thead>\n",
       "    <tr style=\"text-align: right;\">\n",
       "      <th></th>\n",
       "      <th>지역</th>\n",
       "      <th>소비처</th>\n",
       "      <th>주소</th>\n",
       "      <th>소비처업종</th>\n",
       "      <th>성별</th>\n",
       "      <th>연령</th>\n",
       "      <th>사용횟수</th>\n",
       "      <th>사용금액</th>\n",
       "      <th>사용카드</th>\n",
       "      <th>카드사용일자</th>\n",
       "    </tr>\n",
       "  </thead>\n",
       "  <tbody>\n",
       "    <tr>\n",
       "      <th>0</th>\n",
       "      <td>종로구</td>\n",
       "      <td>상계2동</td>\n",
       "      <td>종로구 상계2동</td>\n",
       "      <td>자동차정비</td>\n",
       "      <td>여성</td>\n",
       "      <td>42</td>\n",
       "      <td>3</td>\n",
       "      <td>56</td>\n",
       "      <td>82</td>\n",
       "      <td>20200401</td>\n",
       "    </tr>\n",
       "    <tr>\n",
       "      <th>1</th>\n",
       "      <td>종로구</td>\n",
       "      <td>혜화동</td>\n",
       "      <td>종로구 혜화동</td>\n",
       "      <td>유통업</td>\n",
       "      <td>여성</td>\n",
       "      <td>43</td>\n",
       "      <td>2</td>\n",
       "      <td>50</td>\n",
       "      <td>61</td>\n",
       "      <td>20200401</td>\n",
       "    </tr>\n",
       "    <tr>\n",
       "      <th>2</th>\n",
       "      <td>노원구</td>\n",
       "      <td>상계6,7동</td>\n",
       "      <td>노원구 상계6,7동</td>\n",
       "      <td>레저업소</td>\n",
       "      <td>남성</td>\n",
       "      <td>50</td>\n",
       "      <td>2</td>\n",
       "      <td>59</td>\n",
       "      <td>140</td>\n",
       "      <td>20200401</td>\n",
       "    </tr>\n",
       "    <tr>\n",
       "      <th>3</th>\n",
       "      <td>종로구</td>\n",
       "      <td>종로5,6가동</td>\n",
       "      <td>종로구 종로5,6가동</td>\n",
       "      <td>레저업소</td>\n",
       "      <td>남성</td>\n",
       "      <td>45</td>\n",
       "      <td>3</td>\n",
       "      <td>56</td>\n",
       "      <td>104</td>\n",
       "      <td>20200401</td>\n",
       "    </tr>\n",
       "    <tr>\n",
       "      <th>4</th>\n",
       "      <td>종로구</td>\n",
       "      <td>중계4동</td>\n",
       "      <td>종로구 중계4동</td>\n",
       "      <td>음료식품</td>\n",
       "      <td>여성</td>\n",
       "      <td>38</td>\n",
       "      <td>2</td>\n",
       "      <td>57</td>\n",
       "      <td>103</td>\n",
       "      <td>20200401</td>\n",
       "    </tr>\n",
       "  </tbody>\n",
       "</table>\n",
       "</div>"
      ],
      "text/plain": [
       "    지역      소비처           주소  소비처업종  성별  연령  사용횟수  사용금액  사용카드    카드사용일자\n",
       "0  종로구     상계2동     종로구 상계2동  자동차정비  여성  42     3    56    82  20200401\n",
       "1  종로구      혜화동      종로구 혜화동    유통업  여성  43     2    50    61  20200401\n",
       "2  노원구   상계6,7동   노원구 상계6,7동   레저업소  남성  50     2    59   140  20200401\n",
       "3  종로구  종로5,6가동  종로구 종로5,6가동   레저업소  남성  45     3    56   104  20200401\n",
       "4  종로구     중계4동     종로구 중계4동   음료식품  여성  38     2    57   103  20200401"
      ]
     },
     "metadata": {},
     "output_type": "display_data"
    },
    {
     "data": {
      "text/html": [
       "<div>\n",
       "<style scoped>\n",
       "    .dataframe tbody tr th:only-of-type {\n",
       "        vertical-align: middle;\n",
       "    }\n",
       "\n",
       "    .dataframe tbody tr th {\n",
       "        vertical-align: top;\n",
       "    }\n",
       "\n",
       "    .dataframe thead th {\n",
       "        text-align: right;\n",
       "    }\n",
       "</style>\n",
       "<table border=\"1\" class=\"dataframe\">\n",
       "  <thead>\n",
       "    <tr style=\"text-align: right;\">\n",
       "      <th></th>\n",
       "      <th>Unnamed: 0</th>\n",
       "      <th>Card_ID</th>\n",
       "      <th>분류</th>\n",
       "      <th>혜택분야</th>\n",
       "      <th>새로운혜택분야</th>\n",
       "      <th>소개</th>\n",
       "      <th>연회비</th>\n",
       "      <th>옵션</th>\n",
       "      <th>카드명</th>\n",
       "    </tr>\n",
       "  </thead>\n",
       "  <tbody>\n",
       "    <tr>\n",
       "      <th>0</th>\n",
       "      <td>0</td>\n",
       "      <td>0</td>\n",
       "      <td>체크카드</td>\n",
       "      <td>life</td>\n",
       "      <td>life</td>\n",
       "      <td>한국야쿠르트와 GS리테일의 혜택카드</td>\n",
       "      <td>없음</td>\n",
       "      <td>후불교통가능\\n가족카드 발급 불가</td>\n",
       "      <td>한국야쿠르트 팝 P카드 체크</td>\n",
       "    </tr>\n",
       "    <tr>\n",
       "      <th>1</th>\n",
       "      <td>1</td>\n",
       "      <td>1</td>\n",
       "      <td>체크카드</td>\n",
       "      <td>life</td>\n",
       "      <td>life</td>\n",
       "      <td>카카오페이 간편 결제 및 생활 혜택 카드</td>\n",
       "      <td>없음</td>\n",
       "      <td>후불교통가능\\n가족카드 발급 불가</td>\n",
       "      <td>카카오페이 S 체크카드(무지)</td>\n",
       "    </tr>\n",
       "    <tr>\n",
       "      <th>2</th>\n",
       "      <td>2</td>\n",
       "      <td>2</td>\n",
       "      <td>체크카드</td>\n",
       "      <td>life</td>\n",
       "      <td>life</td>\n",
       "      <td>디지털 라이프 복지 카드</td>\n",
       "      <td>없음</td>\n",
       "      <td>가족카드 가능</td>\n",
       "      <td>P카드 Deep Dream 체크</td>\n",
       "    </tr>\n",
       "    <tr>\n",
       "      <th>3</th>\n",
       "      <td>3</td>\n",
       "      <td>3</td>\n",
       "      <td>체크카드</td>\n",
       "      <td>life</td>\n",
       "      <td>culture</td>\n",
       "      <td>난치병 아이들의 꿈을 이뤄주는 기부카드</td>\n",
       "      <td>없음</td>\n",
       "      <td>후불교통가능</td>\n",
       "      <td>P카드 JYP Fan’s EDM 체크</td>\n",
       "    </tr>\n",
       "    <tr>\n",
       "      <th>4</th>\n",
       "      <td>4</td>\n",
       "      <td>4</td>\n",
       "      <td>체크카드</td>\n",
       "      <td>life</td>\n",
       "      <td>life</td>\n",
       "      <td>미니언즈 캐릭터 카드</td>\n",
       "      <td>없음</td>\n",
       "      <td>NaN</td>\n",
       "      <td>P카드 Deep Dream 체크\\n(미니언즈)</td>\n",
       "    </tr>\n",
       "  </tbody>\n",
       "</table>\n",
       "</div>"
      ],
      "text/plain": [
       "   Unnamed: 0  Card_ID    분류  혜택분야  새로운혜택분야                      소개 연회비  \\\n",
       "0           0        0  체크카드  life     life     한국야쿠르트와 GS리테일의 혜택카드  없음   \n",
       "1           1        1  체크카드  life     life  카카오페이 간편 결제 및 생활 혜택 카드  없음   \n",
       "2           2        2  체크카드  life     life           디지털 라이프 복지 카드  없음   \n",
       "3           3        3  체크카드  life  culture   난치병 아이들의 꿈을 이뤄주는 기부카드  없음   \n",
       "4           4        4  체크카드  life     life             미니언즈 캐릭터 카드  없음   \n",
       "\n",
       "                   옵션                        카드명  \n",
       "0  후불교통가능\\n가족카드 발급 불가            한국야쿠르트 팝 P카드 체크  \n",
       "1  후불교통가능\\n가족카드 발급 불가           카카오페이 S 체크카드(무지)  \n",
       "2             가족카드 가능          P카드 Deep Dream 체크  \n",
       "3              후불교통가능       P카드 JYP Fan’s EDM 체크  \n",
       "4                 NaN  P카드 Deep Dream 체크\\n(미니언즈)  "
      ]
     },
     "metadata": {},
     "output_type": "display_data"
    }
   ],
   "source": [
    "display(data.head())\n",
    "display(card.head())\n"
   ]
  },
  {
   "cell_type": "code",
   "execution_count": 12,
   "metadata": {},
   "outputs": [
    {
     "data": {
      "text/plain": [
       "지역        0\n",
       "소비처       0\n",
       "주소        0\n",
       "소비처업종     0\n",
       "성별        0\n",
       "연령        0\n",
       "사용횟수      0\n",
       "사용금액      0\n",
       "사용카드      0\n",
       "카드사용일자    0\n",
       "dtype: int64"
      ]
     },
     "execution_count": 12,
     "metadata": {},
     "output_type": "execute_result"
    }
   ],
   "source": [
    "data.isna().sum()"
   ]
  },
  {
   "cell_type": "code",
   "execution_count": 13,
   "metadata": {},
   "outputs": [
    {
     "data": {
      "text/plain": [
       "array(['culture', 'life', 'shopping', 'oil', 'public', 'food', 'travel',\n",
       "       'car'], dtype=object)"
      ]
     },
     "execution_count": 13,
     "metadata": {},
     "output_type": "execute_result"
    }
   ],
   "source": [
    "data_혜택['새로운혜택분야'].unique()"
   ]
  },
  {
   "cell_type": "code",
   "execution_count": 14,
   "metadata": {},
   "outputs": [
    {
     "data": {
      "text/html": [
       "<div>\n",
       "<style scoped>\n",
       "    .dataframe tbody tr th:only-of-type {\n",
       "        vertical-align: middle;\n",
       "    }\n",
       "\n",
       "    .dataframe tbody tr th {\n",
       "        vertical-align: top;\n",
       "    }\n",
       "\n",
       "    .dataframe thead th {\n",
       "        text-align: right;\n",
       "    }\n",
       "</style>\n",
       "<table border=\"1\" class=\"dataframe\">\n",
       "  <thead>\n",
       "    <tr style=\"text-align: right;\">\n",
       "      <th></th>\n",
       "      <th>지역</th>\n",
       "      <th>소비처</th>\n",
       "      <th>주소</th>\n",
       "      <th>소비처업종</th>\n",
       "      <th>성별</th>\n",
       "      <th>연령</th>\n",
       "      <th>사용횟수</th>\n",
       "      <th>사용금액</th>\n",
       "      <th>사용카드</th>\n",
       "      <th>카드사용일자</th>\n",
       "    </tr>\n",
       "  </thead>\n",
       "  <tbody>\n",
       "    <tr>\n",
       "      <th>0</th>\n",
       "      <td>종로구</td>\n",
       "      <td>상계2동</td>\n",
       "      <td>종로구 상계2동</td>\n",
       "      <td>자동차정비</td>\n",
       "      <td>여성</td>\n",
       "      <td>42</td>\n",
       "      <td>3</td>\n",
       "      <td>56</td>\n",
       "      <td>82</td>\n",
       "      <td>20200401</td>\n",
       "    </tr>\n",
       "    <tr>\n",
       "      <th>1</th>\n",
       "      <td>종로구</td>\n",
       "      <td>혜화동</td>\n",
       "      <td>종로구 혜화동</td>\n",
       "      <td>유통업</td>\n",
       "      <td>여성</td>\n",
       "      <td>43</td>\n",
       "      <td>2</td>\n",
       "      <td>50</td>\n",
       "      <td>61</td>\n",
       "      <td>20200401</td>\n",
       "    </tr>\n",
       "    <tr>\n",
       "      <th>2</th>\n",
       "      <td>노원구</td>\n",
       "      <td>상계6,7동</td>\n",
       "      <td>노원구 상계6,7동</td>\n",
       "      <td>레저업소</td>\n",
       "      <td>남성</td>\n",
       "      <td>50</td>\n",
       "      <td>2</td>\n",
       "      <td>59</td>\n",
       "      <td>140</td>\n",
       "      <td>20200401</td>\n",
       "    </tr>\n",
       "    <tr>\n",
       "      <th>3</th>\n",
       "      <td>종로구</td>\n",
       "      <td>종로5,6가동</td>\n",
       "      <td>종로구 종로5,6가동</td>\n",
       "      <td>레저업소</td>\n",
       "      <td>남성</td>\n",
       "      <td>45</td>\n",
       "      <td>3</td>\n",
       "      <td>56</td>\n",
       "      <td>104</td>\n",
       "      <td>20200401</td>\n",
       "    </tr>\n",
       "    <tr>\n",
       "      <th>4</th>\n",
       "      <td>종로구</td>\n",
       "      <td>중계4동</td>\n",
       "      <td>종로구 중계4동</td>\n",
       "      <td>음료식품</td>\n",
       "      <td>여성</td>\n",
       "      <td>38</td>\n",
       "      <td>2</td>\n",
       "      <td>57</td>\n",
       "      <td>103</td>\n",
       "      <td>20200401</td>\n",
       "    </tr>\n",
       "    <tr>\n",
       "      <th>...</th>\n",
       "      <td>...</td>\n",
       "      <td>...</td>\n",
       "      <td>...</td>\n",
       "      <td>...</td>\n",
       "      <td>...</td>\n",
       "      <td>...</td>\n",
       "      <td>...</td>\n",
       "      <td>...</td>\n",
       "      <td>...</td>\n",
       "      <td>...</td>\n",
       "    </tr>\n",
       "    <tr>\n",
       "      <th>187517</th>\n",
       "      <td>노원구</td>\n",
       "      <td>상계10동</td>\n",
       "      <td>노원구 상계10동</td>\n",
       "      <td>서적문구</td>\n",
       "      <td>여성</td>\n",
       "      <td>30</td>\n",
       "      <td>5</td>\n",
       "      <td>56</td>\n",
       "      <td>212</td>\n",
       "      <td>20210228</td>\n",
       "    </tr>\n",
       "    <tr>\n",
       "      <th>187518</th>\n",
       "      <td>노원구</td>\n",
       "      <td>상계10동</td>\n",
       "      <td>노원구 상계10동</td>\n",
       "      <td>의료기관</td>\n",
       "      <td>남성</td>\n",
       "      <td>60</td>\n",
       "      <td>5</td>\n",
       "      <td>80</td>\n",
       "      <td>4</td>\n",
       "      <td>20210228</td>\n",
       "    </tr>\n",
       "    <tr>\n",
       "      <th>187519</th>\n",
       "      <td>노원구</td>\n",
       "      <td>상계10동</td>\n",
       "      <td>노원구 상계10동</td>\n",
       "      <td>요식업소</td>\n",
       "      <td>여성</td>\n",
       "      <td>60</td>\n",
       "      <td>9</td>\n",
       "      <td>246</td>\n",
       "      <td>163</td>\n",
       "      <td>20210228</td>\n",
       "    </tr>\n",
       "    <tr>\n",
       "      <th>187520</th>\n",
       "      <td>노원구</td>\n",
       "      <td>상계10동</td>\n",
       "      <td>노원구 상계10동</td>\n",
       "      <td>요식업소</td>\n",
       "      <td>남성</td>\n",
       "      <td>55</td>\n",
       "      <td>18</td>\n",
       "      <td>203</td>\n",
       "      <td>164</td>\n",
       "      <td>20210228</td>\n",
       "    </tr>\n",
       "    <tr>\n",
       "      <th>187521</th>\n",
       "      <td>노원구</td>\n",
       "      <td>상계10동</td>\n",
       "      <td>노원구 상계10동</td>\n",
       "      <td>요식업소</td>\n",
       "      <td>남성</td>\n",
       "      <td>65</td>\n",
       "      <td>18</td>\n",
       "      <td>423</td>\n",
       "      <td>165</td>\n",
       "      <td>20210228</td>\n",
       "    </tr>\n",
       "  </tbody>\n",
       "</table>\n",
       "<p>187522 rows × 10 columns</p>\n",
       "</div>"
      ],
      "text/plain": [
       "         지역      소비처           주소  소비처업종  성별  연령  사용횟수  사용금액  사용카드    카드사용일자\n",
       "0       종로구     상계2동     종로구 상계2동  자동차정비  여성  42     3    56    82  20200401\n",
       "1       종로구      혜화동      종로구 혜화동    유통업  여성  43     2    50    61  20200401\n",
       "2       노원구   상계6,7동   노원구 상계6,7동   레저업소  남성  50     2    59   140  20200401\n",
       "3       종로구  종로5,6가동  종로구 종로5,6가동   레저업소  남성  45     3    56   104  20200401\n",
       "4       종로구     중계4동     종로구 중계4동   음료식품  여성  38     2    57   103  20200401\n",
       "...     ...      ...          ...    ...  ..  ..   ...   ...   ...       ...\n",
       "187517  노원구    상계10동    노원구 상계10동   서적문구  여성  30     5    56   212  20210228\n",
       "187518  노원구    상계10동    노원구 상계10동   의료기관  남성  60     5    80     4  20210228\n",
       "187519  노원구    상계10동    노원구 상계10동   요식업소  여성  60     9   246   163  20210228\n",
       "187520  노원구    상계10동    노원구 상계10동   요식업소  남성  55    18   203   164  20210228\n",
       "187521  노원구    상계10동    노원구 상계10동   요식업소  남성  65    18   423   165  20210228\n",
       "\n",
       "[187522 rows x 10 columns]"
      ]
     },
     "execution_count": 14,
     "metadata": {},
     "output_type": "execute_result"
    }
   ],
   "source": [
    "data"
   ]
  },
  {
   "cell_type": "code",
   "execution_count": 15,
   "metadata": {},
   "outputs": [
    {
     "data": {
      "text/plain": [
       "지역         0\n",
       "소비처        0\n",
       "주소         0\n",
       "소비처업종      0\n",
       "성별         0\n",
       "연령         0\n",
       "사용횟수       0\n",
       "사용금액       0\n",
       "사용카드       0\n",
       "카드사용일자     0\n",
       "Card_ID    0\n",
       "혜택분야       0\n",
       "연회비        0\n",
       "새로운혜택분야    0\n",
       "dtype: int64"
      ]
     },
     "execution_count": 15,
     "metadata": {},
     "output_type": "execute_result"
    }
   ],
   "source": [
    "data_혜택.isna().sum()"
   ]
  },
  {
   "cell_type": "code",
   "execution_count": 16,
   "metadata": {},
   "outputs": [],
   "source": [
    "tmp = pd.read_csv('/home/piai/바탕화면/파이썬_기초/빅데이터프로젝트/csv파일/data_new_card.csv')"
   ]
  },
  {
   "cell_type": "code",
   "execution_count": 17,
   "metadata": {},
   "outputs": [
    {
     "data": {
      "text/plain": [
       "Unnamed: 0    0\n",
       "지역            0\n",
       "소비처           0\n",
       "주소            0\n",
       "소비처업종         0\n",
       "성별            0\n",
       "연령            0\n",
       "사용횟수          0\n",
       "사용금액          0\n",
       "사용카드          0\n",
       "카드사용일자        0\n",
       "Card_ID       0\n",
       "혜택분야          0\n",
       "연회비           0\n",
       "새로운혜택분야       0\n",
       "dtype: int64"
      ]
     },
     "execution_count": 17,
     "metadata": {},
     "output_type": "execute_result"
    }
   ],
   "source": [
    "tmp.isna().sum()"
   ]
  },
  {
   "cell_type": "code",
   "execution_count": 18,
   "metadata": {},
   "outputs": [
    {
     "data": {
      "text/plain": [
       "array(['자동차정비', '유통업', '레저업소', '음료식품', '서적문구', '수리서비스', '요식업소', '의복',\n",
       "       '보건위생', '광학제품', '신변잡화', '연료판매', '의료기관', '주방용품', '직물', '사무통신',\n",
       "       '문화취미', '가전', '자동차판매', '가구', '전기'], dtype=object)"
      ]
     },
     "execution_count": 18,
     "metadata": {},
     "output_type": "execute_result"
    }
   ],
   "source": [
    "data_혜택['소비처업종'].unique()"
   ]
  },
  {
   "cell_type": "code",
   "execution_count": 19,
   "metadata": {},
   "outputs": [
    {
     "data": {
      "text/html": [
       "<div>\n",
       "<style scoped>\n",
       "    .dataframe tbody tr th:only-of-type {\n",
       "        vertical-align: middle;\n",
       "    }\n",
       "\n",
       "    .dataframe tbody tr th {\n",
       "        vertical-align: top;\n",
       "    }\n",
       "\n",
       "    .dataframe thead th {\n",
       "        text-align: right;\n",
       "    }\n",
       "</style>\n",
       "<table border=\"1\" class=\"dataframe\">\n",
       "  <thead>\n",
       "    <tr style=\"text-align: right;\">\n",
       "      <th></th>\n",
       "      <th>Unnamed: 0</th>\n",
       "      <th>Card_ID</th>\n",
       "      <th>분류</th>\n",
       "      <th>혜택분야</th>\n",
       "      <th>새로운혜택분야</th>\n",
       "      <th>소개</th>\n",
       "      <th>연회비</th>\n",
       "      <th>옵션</th>\n",
       "      <th>카드명</th>\n",
       "    </tr>\n",
       "  </thead>\n",
       "  <tbody>\n",
       "    <tr>\n",
       "      <th>0</th>\n",
       "      <td>0</td>\n",
       "      <td>0</td>\n",
       "      <td>체크카드</td>\n",
       "      <td>life</td>\n",
       "      <td>life</td>\n",
       "      <td>한국야쿠르트와 GS리테일의 혜택카드</td>\n",
       "      <td>없음</td>\n",
       "      <td>후불교통가능\\n가족카드 발급 불가</td>\n",
       "      <td>한국야쿠르트 팝 P카드 체크</td>\n",
       "    </tr>\n",
       "    <tr>\n",
       "      <th>1</th>\n",
       "      <td>1</td>\n",
       "      <td>1</td>\n",
       "      <td>체크카드</td>\n",
       "      <td>life</td>\n",
       "      <td>life</td>\n",
       "      <td>카카오페이 간편 결제 및 생활 혜택 카드</td>\n",
       "      <td>없음</td>\n",
       "      <td>후불교통가능\\n가족카드 발급 불가</td>\n",
       "      <td>카카오페이 S 체크카드(무지)</td>\n",
       "    </tr>\n",
       "    <tr>\n",
       "      <th>2</th>\n",
       "      <td>2</td>\n",
       "      <td>2</td>\n",
       "      <td>체크카드</td>\n",
       "      <td>life</td>\n",
       "      <td>life</td>\n",
       "      <td>디지털 라이프 복지 카드</td>\n",
       "      <td>없음</td>\n",
       "      <td>가족카드 가능</td>\n",
       "      <td>P카드 Deep Dream 체크</td>\n",
       "    </tr>\n",
       "    <tr>\n",
       "      <th>3</th>\n",
       "      <td>3</td>\n",
       "      <td>3</td>\n",
       "      <td>체크카드</td>\n",
       "      <td>life</td>\n",
       "      <td>culture</td>\n",
       "      <td>난치병 아이들의 꿈을 이뤄주는 기부카드</td>\n",
       "      <td>없음</td>\n",
       "      <td>후불교통가능</td>\n",
       "      <td>P카드 JYP Fan’s EDM 체크</td>\n",
       "    </tr>\n",
       "    <tr>\n",
       "      <th>4</th>\n",
       "      <td>4</td>\n",
       "      <td>4</td>\n",
       "      <td>체크카드</td>\n",
       "      <td>life</td>\n",
       "      <td>life</td>\n",
       "      <td>미니언즈 캐릭터 카드</td>\n",
       "      <td>없음</td>\n",
       "      <td>NaN</td>\n",
       "      <td>P카드 Deep Dream 체크\\n(미니언즈)</td>\n",
       "    </tr>\n",
       "    <tr>\n",
       "      <th>...</th>\n",
       "      <td>...</td>\n",
       "      <td>...</td>\n",
       "      <td>...</td>\n",
       "      <td>...</td>\n",
       "      <td>...</td>\n",
       "      <td>...</td>\n",
       "      <td>...</td>\n",
       "      <td>...</td>\n",
       "      <td>...</td>\n",
       "    </tr>\n",
       "    <tr>\n",
       "      <th>258</th>\n",
       "      <td>258</td>\n",
       "      <td>258</td>\n",
       "      <td>신용카드</td>\n",
       "      <td>public</td>\n",
       "      <td>public</td>\n",
       "      <td>거제/통영 지역 여행 맞춤 카드</td>\n",
       "      <td>URS 1만원(기본 5천원+서비스 5천원)\\nVISA 1만2천원(기본 5천원+서비스...</td>\n",
       "      <td>후불교통카드 가능/현금기능가능/가족카드 발급 가능</td>\n",
       "      <td>거제통영사랑 GS칼텍스 P카드 S</td>\n",
       "    </tr>\n",
       "    <tr>\n",
       "      <th>259</th>\n",
       "      <td>259</td>\n",
       "      <td>259</td>\n",
       "      <td>신용카드</td>\n",
       "      <td>public</td>\n",
       "      <td>public</td>\n",
       "      <td>대우조선해양 임직원 및 협력사 임직원 복지증진을 위한 제휴카드</td>\n",
       "      <td>URS 7천원 (기본 5천원+서비스 2천원)\\nVISA 1만 2천원 (기본 5천원+...</td>\n",
       "      <td>후불교통카드 가능/현금기능가능/가족카드 발급가능</td>\n",
       "      <td>대우조선노동조합 GS칼텍스 P카드 S</td>\n",
       "    </tr>\n",
       "    <tr>\n",
       "      <th>260</th>\n",
       "      <td>260</td>\n",
       "      <td>260</td>\n",
       "      <td>신용카드</td>\n",
       "      <td>public</td>\n",
       "      <td>public</td>\n",
       "      <td>대한장례인협회 임직원 복지카드</td>\n",
       "      <td>URS 7,000원, VISA 12,000원</td>\n",
       "      <td>가족카드 발급 가능\\n후불교통 카드 / 현금기능 가능</td>\n",
       "      <td>대한장례인협회 GS칼텍스 P카드 S</td>\n",
       "    </tr>\n",
       "    <tr>\n",
       "      <th>261</th>\n",
       "      <td>261</td>\n",
       "      <td>261</td>\n",
       "      <td>신용카드</td>\n",
       "      <td>public</td>\n",
       "      <td>public</td>\n",
       "      <td>보훈대상자 고객님을 위한</td>\n",
       "      <td>면제(해당 카드에 한해서 유효기간 동안 연회비 면제)</td>\n",
       "      <td>서울, 경기, 인천, 부산, 대구, 충남,\\n강원 거주자에 한하여 교통기능 탑재</td>\n",
       "      <td>보훈대상자 복지 P카드</td>\n",
       "    </tr>\n",
       "    <tr>\n",
       "      <th>262</th>\n",
       "      <td>262</td>\n",
       "      <td>262</td>\n",
       "      <td>신용카드</td>\n",
       "      <td>public</td>\n",
       "      <td>public</td>\n",
       "      <td>한국 전력 공사 임직원 복지카드</td>\n",
       "      <td>VISA/Master 1만원, 2만5천원(플래티늄)\\nAMEX 1만원\\nURS/UP...</td>\n",
       "      <td>NaN</td>\n",
       "      <td>한국전력공사 복지 P카드 Love</td>\n",
       "    </tr>\n",
       "  </tbody>\n",
       "</table>\n",
       "<p>263 rows × 9 columns</p>\n",
       "</div>"
      ],
      "text/plain": [
       "     Unnamed: 0  Card_ID    분류    혜택분야  새로운혜택분야  \\\n",
       "0             0        0  체크카드    life     life   \n",
       "1             1        1  체크카드    life     life   \n",
       "2             2        2  체크카드    life     life   \n",
       "3             3        3  체크카드    life  culture   \n",
       "4             4        4  체크카드    life     life   \n",
       "..          ...      ...   ...     ...      ...   \n",
       "258         258      258  신용카드  public   public   \n",
       "259         259      259  신용카드  public   public   \n",
       "260         260      260  신용카드  public   public   \n",
       "261         261      261  신용카드  public   public   \n",
       "262         262      262  신용카드  public   public   \n",
       "\n",
       "                                     소개  \\\n",
       "0                   한국야쿠르트와 GS리테일의 혜택카드   \n",
       "1                카카오페이 간편 결제 및 생활 혜택 카드   \n",
       "2                         디지털 라이프 복지 카드   \n",
       "3                 난치병 아이들의 꿈을 이뤄주는 기부카드   \n",
       "4                           미니언즈 캐릭터 카드   \n",
       "..                                  ...   \n",
       "258                   거제/통영 지역 여행 맞춤 카드   \n",
       "259  대우조선해양 임직원 및 협력사 임직원 복지증진을 위한 제휴카드   \n",
       "260                    대한장례인협회 임직원 복지카드   \n",
       "261                       보훈대상자 고객님을 위한   \n",
       "262                   한국 전력 공사 임직원 복지카드   \n",
       "\n",
       "                                                   연회비  \\\n",
       "0                                                   없음   \n",
       "1                                                   없음   \n",
       "2                                                   없음   \n",
       "3                                                   없음   \n",
       "4                                                   없음   \n",
       "..                                                 ...   \n",
       "258  URS 1만원(기본 5천원+서비스 5천원)\\nVISA 1만2천원(기본 5천원+서비스...   \n",
       "259  URS 7천원 (기본 5천원+서비스 2천원)\\nVISA 1만 2천원 (기본 5천원+...   \n",
       "260                           URS 7,000원, VISA 12,000원   \n",
       "261                      면제(해당 카드에 한해서 유효기간 동안 연회비 면제)   \n",
       "262  VISA/Master 1만원, 2만5천원(플래티늄)\\nAMEX 1만원\\nURS/UP...   \n",
       "\n",
       "                                               옵션                        카드명  \n",
       "0                              후불교통가능\\n가족카드 발급 불가            한국야쿠르트 팝 P카드 체크  \n",
       "1                              후불교통가능\\n가족카드 발급 불가           카카오페이 S 체크카드(무지)  \n",
       "2                                         가족카드 가능          P카드 Deep Dream 체크  \n",
       "3                                          후불교통가능       P카드 JYP Fan’s EDM 체크  \n",
       "4                                             NaN  P카드 Deep Dream 체크\\n(미니언즈)  \n",
       "..                                            ...                        ...  \n",
       "258                   후불교통카드 가능/현금기능가능/가족카드 발급 가능         거제통영사랑 GS칼텍스 P카드 S  \n",
       "259                    후불교통카드 가능/현금기능가능/가족카드 발급가능       대우조선노동조합 GS칼텍스 P카드 S  \n",
       "260                 가족카드 발급 가능\\n후불교통 카드 / 현금기능 가능        대한장례인협회 GS칼텍스 P카드 S  \n",
       "261  서울, 경기, 인천, 부산, 대구, 충남,\\n강원 거주자에 한하여 교통기능 탑재               보훈대상자 복지 P카드  \n",
       "262                                           NaN         한국전력공사 복지 P카드 Love  \n",
       "\n",
       "[263 rows x 9 columns]"
      ]
     },
     "execution_count": 19,
     "metadata": {},
     "output_type": "execute_result"
    }
   ],
   "source": [
    "card"
   ]
  },
  {
   "cell_type": "code",
   "execution_count": 20,
   "metadata": {},
   "outputs": [
    {
     "data": {
      "text/plain": [
       "array(['실버 7천원, 골드 1만2천원', '1만5천원', '국내전용 5천원 , 실버 7천원, Platinum 1만 5천원',\n",
       "       'Local/URS : 7천원\\n(기본연회비 5천원+서비스연회비 2천원),\\nVISA : 1만 2천원\\n(기본연회비 5천원+서비스연회비 7천원),\\nVISA Platinum : 2만원 2천원\\n(기본연회비 5천원+서비스연회비 1만 7천원)',\n",
       "       '없음', '2천원, 유효기간 : 10년, 국내전용', '해외겸용 1만5천원, 플래티늄 2만원',\n",
       "       'VISA 1만 6천원\\n국내전용(LOCAL), S& 1만 3천원',\n",
       "       'S& 1만원, UPI 1만원, Visa 1만 3천원', 'Master 1만 5천원, UPI 1만 2천원',\n",
       "       'UPI 3만 2천원, VISA 3만 5천원', '없음\\n발급수수료: 5천원(카드별 최초 1회)\\n유효기간: 10년',\n",
       "       '국내전용 12,000원, 해외겸용 17,000원', '국내전용 1만원, VISA 1만3천원',\n",
       "       'URS 5천원 , 실버 7천원 , 골드 1만2천원',\n",
       "       'Local 7천원, MASTER 1만 2천원, Platinum 2만 2천원',\n",
       "       'URS 7천원, 해외겸용 1만 2천원, Platinum2만 2천원',\n",
       "       'Local / URS 7천원, 해외겸용 1만 2천원,\\nPlatinum 2만 2천원',\n",
       "       'LOCAL/ URS 7천원, 해외겸용 1만 2천원,\\nPlatinum 2만 2천원',\n",
       "       '국내전용 7천원, JCB 1만 2천원'], dtype=object)"
      ]
     },
     "execution_count": 20,
     "metadata": {},
     "output_type": "execute_result"
    }
   ],
   "source": [
    "data_혜택[data_혜택['혜택분야'] == 'oil']['연회비'].unique()"
   ]
  },
  {
   "cell_type": "code",
   "execution_count": 21,
   "metadata": {},
   "outputs": [],
   "source": [
    "data_혜택['소비연도'] = data_혜택['카드사용일자'].apply(lambda x: str(x)[:4])\n",
    "data_혜택['소비달'] = data_혜택['카드사용일자'].apply(lambda x: str(x)[4:6])\n",
    "data_혜택['소비일'] = data_혜택['카드사용일자'].apply(lambda x: str(x)[6:])"
   ]
  },
  {
   "cell_type": "markdown",
   "metadata": {},
   "source": [
    "# 연도별로 소비처 업종의 소비금액 분포"
   ]
  },
  {
   "cell_type": "code",
   "execution_count": 22,
   "metadata": {},
   "outputs": [
    {
     "data": {
      "image/png": "[encoded data removed]",
      "text/plain": [
       "<Figure size 3000x1000 with 1 Axes>"
      ]
     },
     "metadata": {},
     "output_type": "display_data"
    }
   ],
   "source": [
    "year_cost = data_혜택.groupby(['소비처업종','소비연도'],as_index = False)['사용금액'].agg('mean')\n",
    "\n",
    "plt.figure(figsize = (30,10))\n",
    "\n",
    "sns.barplot(x='소비처업종', y='사용금액', hue = '소비연도', data=year_cost )\n",
    "\n",
    "plt.xticks(rotation = 45)\n",
    "\n",
    "plt.show()"
   ]
  },
  {
   "cell_type": "markdown",
   "metadata": {},
   "source": [
    "# 병합을 위한 전처리"
   ]
  },
  {
   "cell_type": "code",
   "execution_count": 23,
   "metadata": {},
   "outputs": [],
   "source": [
    "oil = pd.read_csv('/home/piai/바탕화면/파이썬_기초/빅데이터프로젝트/주유소_평균판매가격_제품별.csv',encoding = 'cp949',parse_dates=['구분'])\n",
    "oil['구분'] = oil['구분'].apply(lambda x: int(x[:4]+ x[5:7] + x[8:10])) # 기존 card와 합칠 key"
   ]
  },
  {
   "cell_type": "code",
   "execution_count": 24,
   "metadata": {},
   "outputs": [
    {
     "data": {
      "text/html": [
       "<div>\n",
       "<style scoped>\n",
       "    .dataframe tbody tr th:only-of-type {\n",
       "        vertical-align: middle;\n",
       "    }\n",
       "\n",
       "    .dataframe tbody tr th {\n",
       "        vertical-align: top;\n",
       "    }\n",
       "\n",
       "    .dataframe thead th {\n",
       "        text-align: right;\n",
       "    }\n",
       "</style>\n",
       "<table border=\"1\" class=\"dataframe\">\n",
       "  <thead>\n",
       "    <tr style=\"text-align: right;\">\n",
       "      <th></th>\n",
       "      <th>지역</th>\n",
       "      <th>소비처</th>\n",
       "      <th>주소</th>\n",
       "      <th>소비처업종</th>\n",
       "      <th>성별</th>\n",
       "      <th>연령</th>\n",
       "      <th>사용횟수</th>\n",
       "      <th>사용금액</th>\n",
       "      <th>사용카드</th>\n",
       "      <th>카드사용일자</th>\n",
       "    </tr>\n",
       "  </thead>\n",
       "  <tbody>\n",
       "    <tr>\n",
       "      <th>0</th>\n",
       "      <td>종로구</td>\n",
       "      <td>상계2동</td>\n",
       "      <td>종로구 상계2동</td>\n",
       "      <td>자동차정비</td>\n",
       "      <td>여성</td>\n",
       "      <td>42</td>\n",
       "      <td>3</td>\n",
       "      <td>56</td>\n",
       "      <td>82</td>\n",
       "      <td>20200401</td>\n",
       "    </tr>\n",
       "    <tr>\n",
       "      <th>1</th>\n",
       "      <td>종로구</td>\n",
       "      <td>혜화동</td>\n",
       "      <td>종로구 혜화동</td>\n",
       "      <td>유통업</td>\n",
       "      <td>여성</td>\n",
       "      <td>43</td>\n",
       "      <td>2</td>\n",
       "      <td>50</td>\n",
       "      <td>61</td>\n",
       "      <td>20200401</td>\n",
       "    </tr>\n",
       "    <tr>\n",
       "      <th>2</th>\n",
       "      <td>노원구</td>\n",
       "      <td>상계6,7동</td>\n",
       "      <td>노원구 상계6,7동</td>\n",
       "      <td>레저업소</td>\n",
       "      <td>남성</td>\n",
       "      <td>50</td>\n",
       "      <td>2</td>\n",
       "      <td>59</td>\n",
       "      <td>140</td>\n",
       "      <td>20200401</td>\n",
       "    </tr>\n",
       "    <tr>\n",
       "      <th>3</th>\n",
       "      <td>종로구</td>\n",
       "      <td>종로5,6가동</td>\n",
       "      <td>종로구 종로5,6가동</td>\n",
       "      <td>레저업소</td>\n",
       "      <td>남성</td>\n",
       "      <td>45</td>\n",
       "      <td>3</td>\n",
       "      <td>56</td>\n",
       "      <td>104</td>\n",
       "      <td>20200401</td>\n",
       "    </tr>\n",
       "    <tr>\n",
       "      <th>4</th>\n",
       "      <td>종로구</td>\n",
       "      <td>중계4동</td>\n",
       "      <td>종로구 중계4동</td>\n",
       "      <td>음료식품</td>\n",
       "      <td>여성</td>\n",
       "      <td>38</td>\n",
       "      <td>2</td>\n",
       "      <td>57</td>\n",
       "      <td>103</td>\n",
       "      <td>20200401</td>\n",
       "    </tr>\n",
       "  </tbody>\n",
       "</table>\n",
       "</div>"
      ],
      "text/plain": [
       "    지역      소비처           주소  소비처업종  성별  연령  사용횟수  사용금액  사용카드    카드사용일자\n",
       "0  종로구     상계2동     종로구 상계2동  자동차정비  여성  42     3    56    82  20200401\n",
       "1  종로구      혜화동      종로구 혜화동    유통업  여성  43     2    50    61  20200401\n",
       "2  노원구   상계6,7동   노원구 상계6,7동   레저업소  남성  50     2    59   140  20200401\n",
       "3  종로구  종로5,6가동  종로구 종로5,6가동   레저업소  남성  45     3    56   104  20200401\n",
       "4  종로구     중계4동     종로구 중계4동   음료식품  여성  38     2    57   103  20200401"
      ]
     },
     "metadata": {},
     "output_type": "display_data"
    },
    {
     "data": {
      "text/html": [
       "<div>\n",
       "<style scoped>\n",
       "    .dataframe tbody tr th:only-of-type {\n",
       "        vertical-align: middle;\n",
       "    }\n",
       "\n",
       "    .dataframe tbody tr th {\n",
       "        vertical-align: top;\n",
       "    }\n",
       "\n",
       "    .dataframe thead th {\n",
       "        text-align: right;\n",
       "    }\n",
       "</style>\n",
       "<table border=\"1\" class=\"dataframe\">\n",
       "  <thead>\n",
       "    <tr style=\"text-align: right;\">\n",
       "      <th></th>\n",
       "      <th>구분</th>\n",
       "      <th>고급휘발유</th>\n",
       "      <th>보통휘발유</th>\n",
       "      <th>자동차용경유</th>\n",
       "      <th>실내등유</th>\n",
       "    </tr>\n",
       "  </thead>\n",
       "  <tbody>\n",
       "    <tr>\n",
       "      <th>0</th>\n",
       "      <td>20200401</td>\n",
       "      <td>1704.02</td>\n",
       "      <td>1384.29</td>\n",
       "      <td>1190.50</td>\n",
       "      <td>893.17</td>\n",
       "    </tr>\n",
       "    <tr>\n",
       "      <th>1</th>\n",
       "      <td>20200402</td>\n",
       "      <td>1698.16</td>\n",
       "      <td>1377.90</td>\n",
       "      <td>1184.19</td>\n",
       "      <td>890.59</td>\n",
       "    </tr>\n",
       "    <tr>\n",
       "      <th>2</th>\n",
       "      <td>20200403</td>\n",
       "      <td>1692.18</td>\n",
       "      <td>1372.03</td>\n",
       "      <td>1178.65</td>\n",
       "      <td>887.36</td>\n",
       "    </tr>\n",
       "    <tr>\n",
       "      <th>3</th>\n",
       "      <td>20200404</td>\n",
       "      <td>1687.27</td>\n",
       "      <td>1367.91</td>\n",
       "      <td>1174.57</td>\n",
       "      <td>884.90</td>\n",
       "    </tr>\n",
       "    <tr>\n",
       "      <th>4</th>\n",
       "      <td>20200405</td>\n",
       "      <td>1685.68</td>\n",
       "      <td>1366.27</td>\n",
       "      <td>1172.64</td>\n",
       "      <td>883.41</td>\n",
       "    </tr>\n",
       "  </tbody>\n",
       "</table>\n",
       "</div>"
      ],
      "text/plain": [
       "         구분    고급휘발유    보통휘발유   자동차용경유    실내등유\n",
       "0  20200401  1704.02  1384.29  1190.50  893.17\n",
       "1  20200402  1698.16  1377.90  1184.19  890.59\n",
       "2  20200403  1692.18  1372.03  1178.65  887.36\n",
       "3  20200404  1687.27  1367.91  1174.57  884.90\n",
       "4  20200405  1685.68  1366.27  1172.64  883.41"
      ]
     },
     "execution_count": 24,
     "metadata": {},
     "output_type": "execute_result"
    }
   ],
   "source": [
    "display(data.head())\n",
    "oil.head()"
   ]
  },
  {
   "cell_type": "code",
   "execution_count": 25,
   "metadata": {},
   "outputs": [],
   "source": [
    "data_total = pd.merge(data,oil, left_on = '카드사용일자',right_on = '구분', how = 'left')"
   ]
  },
  {
   "cell_type": "code",
   "execution_count": 26,
   "metadata": {},
   "outputs": [
    {
     "data": {
      "text/html": [
       "<div>\n",
       "<style scoped>\n",
       "    .dataframe tbody tr th:only-of-type {\n",
       "        vertical-align: middle;\n",
       "    }\n",
       "\n",
       "    .dataframe tbody tr th {\n",
       "        vertical-align: top;\n",
       "    }\n",
       "\n",
       "    .dataframe thead th {\n",
       "        text-align: right;\n",
       "    }\n",
       "</style>\n",
       "<table border=\"1\" class=\"dataframe\">\n",
       "  <thead>\n",
       "    <tr style=\"text-align: right;\">\n",
       "      <th></th>\n",
       "      <th>지역</th>\n",
       "      <th>소비처</th>\n",
       "      <th>주소</th>\n",
       "      <th>소비처업종</th>\n",
       "      <th>성별</th>\n",
       "      <th>연령</th>\n",
       "      <th>사용횟수</th>\n",
       "      <th>사용금액</th>\n",
       "      <th>사용카드</th>\n",
       "      <th>카드사용일자</th>\n",
       "      <th>구분</th>\n",
       "      <th>고급휘발유</th>\n",
       "      <th>보통휘발유</th>\n",
       "      <th>자동차용경유</th>\n",
       "      <th>실내등유</th>\n",
       "    </tr>\n",
       "  </thead>\n",
       "  <tbody>\n",
       "    <tr>\n",
       "      <th>0</th>\n",
       "      <td>종로구</td>\n",
       "      <td>상계2동</td>\n",
       "      <td>종로구 상계2동</td>\n",
       "      <td>자동차정비</td>\n",
       "      <td>여성</td>\n",
       "      <td>42</td>\n",
       "      <td>3</td>\n",
       "      <td>56</td>\n",
       "      <td>82</td>\n",
       "      <td>20200401</td>\n",
       "      <td>20200401</td>\n",
       "      <td>1704.02</td>\n",
       "      <td>1384.29</td>\n",
       "      <td>1190.5</td>\n",
       "      <td>893.17</td>\n",
       "    </tr>\n",
       "    <tr>\n",
       "      <th>1</th>\n",
       "      <td>종로구</td>\n",
       "      <td>혜화동</td>\n",
       "      <td>종로구 혜화동</td>\n",
       "      <td>유통업</td>\n",
       "      <td>여성</td>\n",
       "      <td>43</td>\n",
       "      <td>2</td>\n",
       "      <td>50</td>\n",
       "      <td>61</td>\n",
       "      <td>20200401</td>\n",
       "      <td>20200401</td>\n",
       "      <td>1704.02</td>\n",
       "      <td>1384.29</td>\n",
       "      <td>1190.5</td>\n",
       "      <td>893.17</td>\n",
       "    </tr>\n",
       "    <tr>\n",
       "      <th>2</th>\n",
       "      <td>노원구</td>\n",
       "      <td>상계6,7동</td>\n",
       "      <td>노원구 상계6,7동</td>\n",
       "      <td>레저업소</td>\n",
       "      <td>남성</td>\n",
       "      <td>50</td>\n",
       "      <td>2</td>\n",
       "      <td>59</td>\n",
       "      <td>140</td>\n",
       "      <td>20200401</td>\n",
       "      <td>20200401</td>\n",
       "      <td>1704.02</td>\n",
       "      <td>1384.29</td>\n",
       "      <td>1190.5</td>\n",
       "      <td>893.17</td>\n",
       "    </tr>\n",
       "    <tr>\n",
       "      <th>3</th>\n",
       "      <td>종로구</td>\n",
       "      <td>종로5,6가동</td>\n",
       "      <td>종로구 종로5,6가동</td>\n",
       "      <td>레저업소</td>\n",
       "      <td>남성</td>\n",
       "      <td>45</td>\n",
       "      <td>3</td>\n",
       "      <td>56</td>\n",
       "      <td>104</td>\n",
       "      <td>20200401</td>\n",
       "      <td>20200401</td>\n",
       "      <td>1704.02</td>\n",
       "      <td>1384.29</td>\n",
       "      <td>1190.5</td>\n",
       "      <td>893.17</td>\n",
       "    </tr>\n",
       "    <tr>\n",
       "      <th>4</th>\n",
       "      <td>종로구</td>\n",
       "      <td>중계4동</td>\n",
       "      <td>종로구 중계4동</td>\n",
       "      <td>음료식품</td>\n",
       "      <td>여성</td>\n",
       "      <td>38</td>\n",
       "      <td>2</td>\n",
       "      <td>57</td>\n",
       "      <td>103</td>\n",
       "      <td>20200401</td>\n",
       "      <td>20200401</td>\n",
       "      <td>1704.02</td>\n",
       "      <td>1384.29</td>\n",
       "      <td>1190.5</td>\n",
       "      <td>893.17</td>\n",
       "    </tr>\n",
       "  </tbody>\n",
       "</table>\n",
       "</div>"
      ],
      "text/plain": [
       "    지역      소비처           주소  소비처업종  성별  연령  사용횟수  사용금액  사용카드    카드사용일자  \\\n",
       "0  종로구     상계2동     종로구 상계2동  자동차정비  여성  42     3    56    82  20200401   \n",
       "1  종로구      혜화동      종로구 혜화동    유통업  여성  43     2    50    61  20200401   \n",
       "2  노원구   상계6,7동   노원구 상계6,7동   레저업소  남성  50     2    59   140  20200401   \n",
       "3  종로구  종로5,6가동  종로구 종로5,6가동   레저업소  남성  45     3    56   104  20200401   \n",
       "4  종로구     중계4동     종로구 중계4동   음료식품  여성  38     2    57   103  20200401   \n",
       "\n",
       "         구분    고급휘발유    보통휘발유  자동차용경유    실내등유  \n",
       "0  20200401  1704.02  1384.29  1190.5  893.17  \n",
       "1  20200401  1704.02  1384.29  1190.5  893.17  \n",
       "2  20200401  1704.02  1384.29  1190.5  893.17  \n",
       "3  20200401  1704.02  1384.29  1190.5  893.17  \n",
       "4  20200401  1704.02  1384.29  1190.5  893.17  "
      ]
     },
     "execution_count": 26,
     "metadata": {},
     "output_type": "execute_result"
    }
   ],
   "source": [
    "data_total.head()"
   ]
  },
  {
   "cell_type": "code",
   "execution_count": 27,
   "metadata": {},
   "outputs": [
    {
     "data": {
      "text/html": [
       "<div>\n",
       "<style scoped>\n",
       "    .dataframe tbody tr th:only-of-type {\n",
       "        vertical-align: middle;\n",
       "    }\n",
       "\n",
       "    .dataframe tbody tr th {\n",
       "        vertical-align: top;\n",
       "    }\n",
       "\n",
       "    .dataframe thead th {\n",
       "        text-align: right;\n",
       "    }\n",
       "</style>\n",
       "<table border=\"1\" class=\"dataframe\">\n",
       "  <thead>\n",
       "    <tr style=\"text-align: right;\">\n",
       "      <th></th>\n",
       "      <th>지역</th>\n",
       "      <th>소비처</th>\n",
       "      <th>주소</th>\n",
       "      <th>소비처업종</th>\n",
       "      <th>성별</th>\n",
       "      <th>연령</th>\n",
       "      <th>사용횟수</th>\n",
       "      <th>사용금액</th>\n",
       "      <th>사용카드</th>\n",
       "      <th>카드사용일자</th>\n",
       "      <th>구분</th>\n",
       "      <th>고급휘발유</th>\n",
       "      <th>보통휘발유</th>\n",
       "      <th>자동차용경유</th>\n",
       "      <th>실내등유</th>\n",
       "    </tr>\n",
       "  </thead>\n",
       "  <tbody>\n",
       "    <tr>\n",
       "      <th>155246</th>\n",
       "      <td>노원구</td>\n",
       "      <td>상계2동</td>\n",
       "      <td>노원구 상계2동</td>\n",
       "      <td>수리서비스</td>\n",
       "      <td>여성</td>\n",
       "      <td>36</td>\n",
       "      <td>4</td>\n",
       "      <td>56</td>\n",
       "      <td>30</td>\n",
       "      <td>20210101</td>\n",
       "      <td>20210101</td>\n",
       "      <td>1662.86</td>\n",
       "      <td>1424.0</td>\n",
       "      <td>1224.64</td>\n",
       "      <td>849.74</td>\n",
       "    </tr>\n",
       "    <tr>\n",
       "      <th>155247</th>\n",
       "      <td>종로구</td>\n",
       "      <td>공릉2동</td>\n",
       "      <td>종로구 공릉2동</td>\n",
       "      <td>서적문구</td>\n",
       "      <td>여성</td>\n",
       "      <td>59</td>\n",
       "      <td>4</td>\n",
       "      <td>54</td>\n",
       "      <td>199</td>\n",
       "      <td>20210101</td>\n",
       "      <td>20210101</td>\n",
       "      <td>1662.86</td>\n",
       "      <td>1424.0</td>\n",
       "      <td>1224.64</td>\n",
       "      <td>849.74</td>\n",
       "    </tr>\n",
       "  </tbody>\n",
       "</table>\n",
       "</div>"
      ],
      "text/plain": [
       "         지역   소비처        주소  소비처업종  성별  연령  사용횟수  사용금액  사용카드    카드사용일자  \\\n",
       "155246  노원구  상계2동  노원구 상계2동  수리서비스  여성  36     4    56    30  20210101   \n",
       "155247  종로구  공릉2동  종로구 공릉2동   서적문구  여성  59     4    54   199  20210101   \n",
       "\n",
       "              구분    고급휘발유   보통휘발유   자동차용경유    실내등유  \n",
       "155246  20210101  1662.86  1424.0  1224.64  849.74  \n",
       "155247  20210101  1662.86  1424.0  1224.64  849.74  "
      ]
     },
     "execution_count": 27,
     "metadata": {},
     "output_type": "execute_result"
    }
   ],
   "source": [
    "data_2021 = data_total[data_total['카드사용일자'] > 20210000]\n",
    "data_2021.head(2)"
   ]
  },
  {
   "cell_type": "code",
   "execution_count": 28,
   "metadata": {},
   "outputs": [],
   "source": [
    "# 각 일자별 사용금액 합계산출\n",
    "plot_2021 = data_2021.groupby('카드사용일자',as_index = False)['사용금액'].agg('sum')"
   ]
  },
  {
   "cell_type": "code",
   "execution_count": 29,
   "metadata": {},
   "outputs": [
    {
     "data": {
      "text/html": [
       "<div>\n",
       "<style scoped>\n",
       "    .dataframe tbody tr th:only-of-type {\n",
       "        vertical-align: middle;\n",
       "    }\n",
       "\n",
       "    .dataframe tbody tr th {\n",
       "        vertical-align: top;\n",
       "    }\n",
       "\n",
       "    .dataframe thead th {\n",
       "        text-align: right;\n",
       "    }\n",
       "</style>\n",
       "<table border=\"1\" class=\"dataframe\">\n",
       "  <thead>\n",
       "    <tr style=\"text-align: right;\">\n",
       "      <th></th>\n",
       "      <th>카드사용일자</th>\n",
       "      <th>사용금액</th>\n",
       "    </tr>\n",
       "  </thead>\n",
       "  <tbody>\n",
       "    <tr>\n",
       "      <th>0</th>\n",
       "      <td>2021-01-01</td>\n",
       "      <td>913532</td>\n",
       "    </tr>\n",
       "    <tr>\n",
       "      <th>1</th>\n",
       "      <td>2021-01-02</td>\n",
       "      <td>684959</td>\n",
       "    </tr>\n",
       "  </tbody>\n",
       "</table>\n",
       "</div>"
      ],
      "text/plain": [
       "      카드사용일자    사용금액\n",
       "0 2021-01-01  913532\n",
       "1 2021-01-02  684959"
      ]
     },
     "execution_count": 29,
     "metadata": {},
     "output_type": "execute_result"
    }
   ],
   "source": [
    "plot_2021['카드사용일자']  = pd.to_datetime(plot_2021['카드사용일자'], format='%Y%m%d') # datetime으로 변경\n",
    "plot_2021.head(2)"
   ]
  },
  {
   "cell_type": "code",
   "execution_count": 30,
   "metadata": {},
   "outputs": [
    {
     "data": {
      "text/html": [
       "<div>\n",
       "<style scoped>\n",
       "    .dataframe tbody tr th:only-of-type {\n",
       "        vertical-align: middle;\n",
       "    }\n",
       "\n",
       "    .dataframe tbody tr th {\n",
       "        vertical-align: top;\n",
       "    }\n",
       "\n",
       "    .dataframe thead th {\n",
       "        text-align: right;\n",
       "    }\n",
       "</style>\n",
       "<table border=\"1\" class=\"dataframe\">\n",
       "  <thead>\n",
       "    <tr style=\"text-align: right;\">\n",
       "      <th></th>\n",
       "      <th>구분</th>\n",
       "      <th>고급휘발유</th>\n",
       "      <th>보통휘발유</th>\n",
       "      <th>자동차용경유</th>\n",
       "      <th>실내등유</th>\n",
       "    </tr>\n",
       "  </thead>\n",
       "  <tbody>\n",
       "    <tr>\n",
       "      <th>275</th>\n",
       "      <td>2021-01-01</td>\n",
       "      <td>1662.86</td>\n",
       "      <td>1424.00</td>\n",
       "      <td>1224.64</td>\n",
       "      <td>849.74</td>\n",
       "    </tr>\n",
       "    <tr>\n",
       "      <th>276</th>\n",
       "      <td>2021-01-02</td>\n",
       "      <td>1662.62</td>\n",
       "      <td>1425.64</td>\n",
       "      <td>1226.31</td>\n",
       "      <td>850.90</td>\n",
       "    </tr>\n",
       "  </tbody>\n",
       "</table>\n",
       "</div>"
      ],
      "text/plain": [
       "            구분    고급휘발유    보통휘발유   자동차용경유    실내등유\n",
       "275 2021-01-01  1662.86  1424.00  1224.64  849.74\n",
       "276 2021-01-02  1662.62  1425.64  1226.31  850.90"
      ]
     },
     "execution_count": 30,
     "metadata": {},
     "output_type": "execute_result"
    }
   ],
   "source": [
    "oil_2021= oil[oil['구분'] > 20210000].copy()\n",
    "oil_2021.loc[:,'구분'] = pd.to_datetime(oil_2021['구분'], format='%Y%m%d') # datetime으로 변경\n",
    "oil_2021.head(2)"
   ]
  },
  {
   "cell_type": "markdown",
   "metadata": {},
   "source": [
    "유가와 오일 데이터plot 그리기"
   ]
  },
  {
   "cell_type": "code",
   "execution_count": 31,
   "metadata": {},
   "outputs": [
    {
     "data": {
      "image/png": "[encoded data removed]",
      "text/plain": [
       "<Figure size 640x480 with 2 Axes>"
      ]
     },
     "metadata": {},
     "output_type": "display_data"
    },
    {
     "data": {
      "text/html": [
       "<div>\n",
       "<style scoped>\n",
       "    .dataframe tbody tr th:only-of-type {\n",
       "        vertical-align: middle;\n",
       "    }\n",
       "\n",
       "    .dataframe tbody tr th {\n",
       "        vertical-align: top;\n",
       "    }\n",
       "\n",
       "    .dataframe thead th {\n",
       "        text-align: right;\n",
       "    }\n",
       "</style>\n",
       "<table border=\"1\" class=\"dataframe\">\n",
       "  <thead>\n",
       "    <tr style=\"text-align: right;\">\n",
       "      <th></th>\n",
       "      <th>구분</th>\n",
       "      <th>고급휘발유</th>\n",
       "      <th>보통휘발유</th>\n",
       "      <th>자동차용경유</th>\n",
       "      <th>실내등유</th>\n",
       "    </tr>\n",
       "  </thead>\n",
       "  <tbody>\n",
       "    <tr>\n",
       "      <th>275</th>\n",
       "      <td>2021-01-01</td>\n",
       "      <td>1662.86</td>\n",
       "      <td>1424.00</td>\n",
       "      <td>1224.64</td>\n",
       "      <td>849.74</td>\n",
       "    </tr>\n",
       "    <tr>\n",
       "      <th>276</th>\n",
       "      <td>2021-01-02</td>\n",
       "      <td>1662.62</td>\n",
       "      <td>1425.64</td>\n",
       "      <td>1226.31</td>\n",
       "      <td>850.90</td>\n",
       "    </tr>\n",
       "  </tbody>\n",
       "</table>\n",
       "</div>"
      ],
      "text/plain": [
       "            구분    고급휘발유    보통휘발유   자동차용경유    실내등유\n",
       "275 2021-01-01  1662.86  1424.00  1224.64  849.74\n",
       "276 2021-01-02  1662.62  1425.64  1226.31  850.90"
      ]
     },
     "execution_count": 31,
     "metadata": {},
     "output_type": "execute_result"
    }
   ],
   "source": [
    "fig, ax1 = plt.subplots()\n",
    "ax1.plot(plot_2021['카드사용일자'], plot_2021['사용금액'])\n",
    "# plt.plot(plot_2021['카드사용일자'], plot_2021['사용금액'])\n",
    "plt.xticks(rotation = 45)\n",
    "\n",
    "ax2 = ax1.twinx()\n",
    "ax2.plot(oil_2021['구분'],oil_2021['고급휘발유'],color = 'red')\n",
    "# plt.plot(oil_2021['구분'],oil_2021['고급휘발유'])\n",
    "plt.show()\n",
    "oil_2021= oil[oil['구분'] > 20210000].copy()\n",
    "oil_2021.loc[:,'구분'] = pd.to_datetime(oil_2021['구분'], format='%Y%m%d') # datetime으로 변경\n",
    "oil_2021.head(2)"
   ]
  },
  {
   "cell_type": "code",
   "execution_count": 32,
   "metadata": {},
   "outputs": [
    {
     "data": {
      "text/html": [
       "<div>\n",
       "<style scoped>\n",
       "    .dataframe tbody tr th:only-of-type {\n",
       "        vertical-align: middle;\n",
       "    }\n",
       "\n",
       "    .dataframe tbody tr th {\n",
       "        vertical-align: top;\n",
       "    }\n",
       "\n",
       "    .dataframe thead th {\n",
       "        text-align: right;\n",
       "    }\n",
       "</style>\n",
       "<table border=\"1\" class=\"dataframe\">\n",
       "  <thead>\n",
       "    <tr style=\"text-align: right;\">\n",
       "      <th></th>\n",
       "      <th>카드사용일자</th>\n",
       "      <th>사용금액</th>\n",
       "    </tr>\n",
       "  </thead>\n",
       "  <tbody>\n",
       "    <tr>\n",
       "      <th>54</th>\n",
       "      <td>2021-02-24</td>\n",
       "      <td>719606</td>\n",
       "    </tr>\n",
       "    <tr>\n",
       "      <th>55</th>\n",
       "      <td>2021-02-25</td>\n",
       "      <td>1003385</td>\n",
       "    </tr>\n",
       "    <tr>\n",
       "      <th>56</th>\n",
       "      <td>2021-02-26</td>\n",
       "      <td>1053240</td>\n",
       "    </tr>\n",
       "    <tr>\n",
       "      <th>57</th>\n",
       "      <td>2021-02-27</td>\n",
       "      <td>907377</td>\n",
       "    </tr>\n",
       "    <tr>\n",
       "      <th>58</th>\n",
       "      <td>2021-02-28</td>\n",
       "      <td>3605624</td>\n",
       "    </tr>\n",
       "  </tbody>\n",
       "</table>\n",
       "</div>"
      ],
      "text/plain": [
       "       카드사용일자     사용금액\n",
       "54 2021-02-24   719606\n",
       "55 2021-02-25  1003385\n",
       "56 2021-02-26  1053240\n",
       "57 2021-02-27   907377\n",
       "58 2021-02-28  3605624"
      ]
     },
     "execution_count": 32,
     "metadata": {},
     "output_type": "execute_result"
    }
   ],
   "source": [
    "plot_2021.tail()"
   ]
  },
  {
   "cell_type": "code",
   "execution_count": 33,
   "metadata": {},
   "outputs": [
    {
     "data": {
      "text/html": [
       "<div>\n",
       "<style scoped>\n",
       "    .dataframe tbody tr th:only-of-type {\n",
       "        vertical-align: middle;\n",
       "    }\n",
       "\n",
       "    .dataframe tbody tr th {\n",
       "        vertical-align: top;\n",
       "    }\n",
       "\n",
       "    .dataframe thead th {\n",
       "        text-align: right;\n",
       "    }\n",
       "</style>\n",
       "<table border=\"1\" class=\"dataframe\">\n",
       "  <thead>\n",
       "    <tr style=\"text-align: right;\">\n",
       "      <th></th>\n",
       "      <th>카드사용일자</th>\n",
       "      <th>사용금액</th>\n",
       "    </tr>\n",
       "  </thead>\n",
       "  <tbody>\n",
       "    <tr>\n",
       "      <th>30</th>\n",
       "      <td>2020-05-01</td>\n",
       "      <td>5613</td>\n",
       "    </tr>\n",
       "    <tr>\n",
       "      <th>31</th>\n",
       "      <td>2020-05-02</td>\n",
       "      <td>27646</td>\n",
       "    </tr>\n",
       "  </tbody>\n",
       "</table>\n",
       "</div>"
      ],
      "text/plain": [
       "       카드사용일자   사용금액\n",
       "30 2020-05-01   5613\n",
       "31 2020-05-02  27646"
      ]
     },
     "execution_count": 33,
     "metadata": {},
     "output_type": "execute_result"
    }
   ],
   "source": [
    "data_oil = data[data['소비처업종'] == '연료판매'].groupby('카드사용일자',as_index= False)['사용금액'].agg('sum')\n",
    "data_oil = data_oil[(data_oil['카드사용일자'] > 20200500) & ( data_oil['카드사용일자'] < 20210101 )]\n",
    "data_oil.loc[:,'카드사용일자'] = pd.to_datetime(data_oil['카드사용일자'], format='%Y%m%d')\n",
    "data_oil.head(2)"
   ]
  },
  {
   "cell_type": "code",
   "execution_count": 34,
   "metadata": {},
   "outputs": [
    {
     "data": {
      "text/html": [
       "<div>\n",
       "<style scoped>\n",
       "    .dataframe tbody tr th:only-of-type {\n",
       "        vertical-align: middle;\n",
       "    }\n",
       "\n",
       "    .dataframe tbody tr th {\n",
       "        vertical-align: top;\n",
       "    }\n",
       "\n",
       "    .dataframe thead th {\n",
       "        text-align: right;\n",
       "    }\n",
       "</style>\n",
       "<table border=\"1\" class=\"dataframe\">\n",
       "  <thead>\n",
       "    <tr style=\"text-align: right;\">\n",
       "      <th></th>\n",
       "      <th>구분</th>\n",
       "      <th>고급휘발유</th>\n",
       "      <th>보통휘발유</th>\n",
       "      <th>자동차용경유</th>\n",
       "      <th>실내등유</th>\n",
       "    </tr>\n",
       "  </thead>\n",
       "  <tbody>\n",
       "    <tr>\n",
       "      <th>30</th>\n",
       "      <td>2020-05-01</td>\n",
       "      <td>1590.71</td>\n",
       "      <td>1264.02</td>\n",
       "      <td>1075.28</td>\n",
       "      <td>817.63</td>\n",
       "    </tr>\n",
       "    <tr>\n",
       "      <th>31</th>\n",
       "      <td>2020-05-02</td>\n",
       "      <td>1589.18</td>\n",
       "      <td>1262.63</td>\n",
       "      <td>1073.84</td>\n",
       "      <td>815.89</td>\n",
       "    </tr>\n",
       "  </tbody>\n",
       "</table>\n",
       "</div>"
      ],
      "text/plain": [
       "           구분    고급휘발유    보통휘발유   자동차용경유    실내등유\n",
       "30 2020-05-01  1590.71  1264.02  1075.28  817.63\n",
       "31 2020-05-02  1589.18  1262.63  1073.84  815.89"
      ]
     },
     "execution_count": 34,
     "metadata": {},
     "output_type": "execute_result"
    }
   ],
   "source": [
    "oil_plot = oil.copy()\n",
    "oil_plot = oil_plot[(oil_plot['구분'] > 20200500) & ( oil_plot['구분'] < 20210101 )]\n",
    "oil_plot.loc[:,'구분'] = pd.to_datetime(oil_plot['구분'], format='%Y%m%d') # datetime으로 변경\n",
    "oil_plot.head(2)"
   ]
  },
  {
   "cell_type": "markdown",
   "metadata": {},
   "source": [
    "우리카드 소비 시장도 유가가 오를 수록  '연료판매'카드소비가 위축(2020-07~09)되고 유가가 떨어지면 '연료판매'카드소비가 증가함을 알 수 있음.  \n"
   ]
  },
  {
   "cell_type": "code",
   "execution_count": 35,
   "metadata": {},
   "outputs": [
    {
     "data": {
      "image/png": "[encoded data removed]",
      "text/plain": [
       "<Figure size 640x480 with 2 Axes>"
      ]
     },
     "metadata": {},
     "output_type": "display_data"
    }
   ],
   "source": [
    "fig, ax1 = plt.subplots()\n",
    "ax1.plot(data_oil['카드사용일자'], data_oil['사용금액'],color = 'black')\n",
    "# plt.plot(data_oil['카드사용일자'oil_plot = oil.copy()\n",
    "oil_plot = oil.copy()\n",
    "oil_plot = oil_plot[(oil_plot['구분'] > 20200500) & ( oil_plot['구분'] < 20210101 )]\n",
    "oil_plot.loc[:,'구분'] = pd.to_datetime(oil_plot['구분'], format='%Y%m%d') # datetime으로 변경\n",
    "oil_plot.head(2)\n",
    "plt.xticks(rotation = 45)\n",
    "\n",
    "ax2 = ax1.twinx()\n",
    "ax2.plot(oil_plot['구분'],oil_plot['고급휘발유'],color = 'orange')\n",
    "# plt.plot(oil_plot['구분'],oil_plot['고급휘발유'])연료판매\n",
    "plt.show()"
   ]
  },
  {
   "cell_type": "code",
   "execution_count": 36,
   "metadata": {},
   "outputs": [],
   "source": [
    "# series , seires 정규분포를 안따르는 연속형 변수의 상관성 검정 \n",
    "#stats.spearmanr( )"
   ]
  },
  {
   "cell_type": "code",
   "execution_count": 37,
   "metadata": {},
   "outputs": [],
   "source": [
    "card_ch = pd.read_csv('/home/piai/바탕화면/파이썬_기초/빅데이터프로젝트/csv파일/New_Card_Data.csv')"
   ]
  },
  {
   "cell_type": "code",
   "execution_count": 38,
   "metadata": {},
   "outputs": [
    {
     "data": {
      "text/html": [
       "<div>\n",
       "<style scoped>\n",
       "    .dataframe tbody tr th:only-of-type {\n",
       "        vertical-align: middle;\n",
       "    }\n",
       "\n",
       "    .dataframe tbody tr th {\n",
       "        vertical-align: top;\n",
       "    }\n",
       "\n",
       "    .dataframe thead th {\n",
       "        text-align: right;\n",
       "    }\n",
       "</style>\n",
       "<table border=\"1\" class=\"dataframe\">\n",
       "  <thead>\n",
       "    <tr style=\"text-align: right;\">\n",
       "      <th></th>\n",
       "      <th>Unnamed: 0.1</th>\n",
       "      <th>Unnamed: 0</th>\n",
       "      <th>Card_ID</th>\n",
       "      <th>분류</th>\n",
       "      <th>혜택분야</th>\n",
       "      <th>새로운혜택분야</th>\n",
       "      <th>소개</th>\n",
       "      <th>연회비</th>\n",
       "      <th>옵션</th>\n",
       "      <th>카드명</th>\n",
       "    </tr>\n",
       "  </thead>\n",
       "  <tbody>\n",
       "    <tr>\n",
       "      <th>0</th>\n",
       "      <td>0</td>\n",
       "      <td>0</td>\n",
       "      <td>0</td>\n",
       "      <td>체크카드</td>\n",
       "      <td>life</td>\n",
       "      <td>life</td>\n",
       "      <td>한국야쿠르트와 GS리테일의 혜택카드</td>\n",
       "      <td>없음</td>\n",
       "      <td>후불교통가능\\n가족카드 발급 불가</td>\n",
       "      <td>한국야쿠르트 팝 P카드 체크</td>\n",
       "    </tr>\n",
       "    <tr>\n",
       "      <th>1</th>\n",
       "      <td>1</td>\n",
       "      <td>1</td>\n",
       "      <td>1</td>\n",
       "      <td>체크카드</td>\n",
       "      <td>life</td>\n",
       "      <td>life</td>\n",
       "      <td>카카오페이 간편 결제 및 생활 혜택 카드</td>\n",
       "      <td>없음</td>\n",
       "      <td>후불교통가능\\n가족카드 발급 불가</td>\n",
       "      <td>카카오페이 S 체크카드(무지)</td>\n",
       "    </tr>\n",
       "    <tr>\n",
       "      <th>2</th>\n",
       "      <td>2</td>\n",
       "      <td>2</td>\n",
       "      <td>2</td>\n",
       "      <td>체크카드</td>\n",
       "      <td>life</td>\n",
       "      <td>life</td>\n",
       "      <td>디지털 라이프 복지 카드</td>\n",
       "      <td>없음</td>\n",
       "      <td>가족카드 가능</td>\n",
       "      <td>P카드 Deep Dream 체크</td>\n",
       "    </tr>\n",
       "    <tr>\n",
       "      <th>3</th>\n",
       "      <td>3</td>\n",
       "      <td>3</td>\n",
       "      <td>3</td>\n",
       "      <td>체크카드</td>\n",
       "      <td>life</td>\n",
       "      <td>culture</td>\n",
       "      <td>난치병 아이들의 꿈을 이뤄주는 기부카드</td>\n",
       "      <td>없음</td>\n",
       "      <td>후불교통가능</td>\n",
       "      <td>P카드 JYP Fan’s EDM 체크</td>\n",
       "    </tr>\n",
       "    <tr>\n",
       "      <th>4</th>\n",
       "      <td>4</td>\n",
       "      <td>4</td>\n",
       "      <td>4</td>\n",
       "      <td>체크카드</td>\n",
       "      <td>life</td>\n",
       "      <td>life</td>\n",
       "      <td>미니언즈 캐릭터 카드</td>\n",
       "      <td>없음</td>\n",
       "      <td>NaN</td>\n",
       "      <td>P카드 Deep Dream 체크\\n(미니언즈)</td>\n",
       "    </tr>\n",
       "  </tbody>\n",
       "</table>\n",
       "</div>"
      ],
      "text/plain": [
       "   Unnamed: 0.1  Unnamed: 0  Card_ID    분류  혜택분야  새로운혜택분야  \\\n",
       "0             0           0        0  체크카드  life     life   \n",
       "1             1           1        1  체크카드  life     life   \n",
       "2             2           2        2  체크카드  life     life   \n",
       "3             3           3        3  체크카드  life  culture   \n",
       "4             4           4        4  체크카드  life     life   \n",
       "\n",
       "                       소개 연회비                  옵션                        카드명  \n",
       "0     한국야쿠르트와 GS리테일의 혜택카드  없음  후불교통가능\\n가족카드 발급 불가            한국야쿠르트 팝 P카드 체크  \n",
       "1  카카오페이 간편 결제 및 생활 혜택 카드  없음  후불교통가능\\n가족카드 발급 불가           카카오페이 S 체크카드(무지)  \n",
       "2           디지털 라이프 복지 카드  없음             가족카드 가능          P카드 Deep Dream 체크  \n",
       "3   난치병 아이들의 꿈을 이뤄주는 기부카드  없음              후불교통가능       P카드 JYP Fan’s EDM 체크  \n",
       "4             미니언즈 캐릭터 카드  없음                 NaN  P카드 Deep Dream 체크\\n(미니언즈)  "
      ]
     },
     "execution_count": 38,
     "metadata": {},
     "output_type": "execute_result"
    }
   ],
   "source": [
    "card_ch.head()"
   ]
  },
  {
   "cell_type": "code",
   "execution_count": 39,
   "metadata": {},
   "outputs": [
    {
     "data": {
      "text/plain": [
       "Index(['Unnamed: 0.1', 'Unnamed: 0', 'Card_ID', '분류', '혜택분야', '새로운혜택분야', '소개',\n",
       "       '연회비', '옵션', '카드명'],\n",
       "      dtype='object')"
      ]
     },
     "execution_count": 39,
     "metadata": {},
     "output_type": "execute_result"
    }
   ],
   "source": [
    "card_ch.columns"
   ]
  },
  {
   "cell_type": "markdown",
   "metadata": {},
   "source": [
    "# 새로운 혜택 층별화"
   ]
  },
  {
   "cell_type": "markdown",
   "metadata": {},
   "source": [
    "life: 편의점, 커피 위주로 되어있는 간단한 소액 결제 위주 + 교통( 뚜벅이)들을 위한 혜택을 위주로 묶음  + bio(보람상조)  \n",
    "culture: 교육, 취미(게임, 골프, 축구)  \n",
    "shopping: ak몰, 대형 쇼핑몰 위주, 편의점 x \n",
    "car: 자차있는 사람들을 위한, 그렇다고 oil이랑은 분리 (차에 대한건지 ) , 차 , 경차 관련 ex 경차할인, 차 보험할인\n",
    "oil: 아예 주유소 관련 \n",
    "travel: 해외여행(마일리지 ) 국내여행  \n",
    "food: 아웃백같은 편의점, 커피외의 다른 것들  \n",
    "public: 공공의 아이디카드,임직원카드, 공무원카드 내가 특정한 사람이어서 발급받을 수 있는것(특정 조건을 만족해야 발급받고 혜택을 누릴 수 있는 것)"
   ]
  },
  {
   "cell_type": "code",
   "execution_count": 40,
   "metadata": {},
   "outputs": [
    {
     "data": {
      "text/plain": [
       "array(['life', 'culture', 'shopping', 'car', 'oil', 'travel', 'public',\n",
       "       'food'], dtype=object)"
      ]
     },
     "execution_count": 40,
     "metadata": {},
     "output_type": "execute_result"
    }
   ],
   "source": [
    "card_ch['새로운혜택분야'].unique()"
   ]
  },
  {
   "cell_type": "code",
   "execution_count": 41,
   "metadata": {},
   "outputs": [],
   "source": [
    "data = pd.read_csv('/home/piai/바탕화면/파이썬_기초/빅데이터프로젝트/A1_카드/Card_Spanding.csv')"
   ]
  },
  {
   "cell_type": "code",
   "execution_count": 42,
   "metadata": {},
   "outputs": [],
   "source": [
    "data_혜택 = pd.merge(data, card_ch[['Card_ID','새로운혜택분야','혜택분야']], left_on=  '사용카드', right_on = 'Card_ID', how = 'left')"
   ]
  },
  {
   "cell_type": "code",
   "execution_count": 43,
   "metadata": {},
   "outputs": [
    {
     "data": {
      "text/html": [
       "<div>\n",
       "<style scoped>\n",
       "    .dataframe tbody tr th:only-of-type {\n",
       "        vertical-align: middle;\n",
       "    }\n",
       "\n",
       "    .dataframe tbody tr th {\n",
       "        vertical-align: top;\n",
       "    }\n",
       "\n",
       "    .dataframe thead th {\n",
       "        text-align: right;\n",
       "    }\n",
       "</style>\n",
       "<table border=\"1\" class=\"dataframe\">\n",
       "  <thead>\n",
       "    <tr style=\"text-align: right;\">\n",
       "      <th></th>\n",
       "      <th>지역</th>\n",
       "      <th>소비처</th>\n",
       "      <th>주소</th>\n",
       "      <th>소비처업종</th>\n",
       "      <th>성별</th>\n",
       "      <th>연령</th>\n",
       "      <th>사용횟수</th>\n",
       "      <th>사용금액</th>\n",
       "      <th>사용카드</th>\n",
       "      <th>카드사용일자</th>\n",
       "      <th>Card_ID</th>\n",
       "      <th>새로운혜택분야</th>\n",
       "      <th>혜택분야</th>\n",
       "    </tr>\n",
       "  </thead>\n",
       "  <tbody>\n",
       "    <tr>\n",
       "      <th>0</th>\n",
       "      <td>종로구</td>\n",
       "      <td>상계2동</td>\n",
       "      <td>종로구 상계2동</td>\n",
       "      <td>자동차정비</td>\n",
       "      <td>여성</td>\n",
       "      <td>42</td>\n",
       "      <td>3</td>\n",
       "      <td>56</td>\n",
       "      <td>82</td>\n",
       "      <td>20200401</td>\n",
       "      <td>82.0</td>\n",
       "      <td>culture</td>\n",
       "      <td>public</td>\n",
       "    </tr>\n",
       "    <tr>\n",
       "      <th>1</th>\n",
       "      <td>종로구</td>\n",
       "      <td>혜화동</td>\n",
       "      <td>종로구 혜화동</td>\n",
       "      <td>유통업</td>\n",
       "      <td>여성</td>\n",
       "      <td>43</td>\n",
       "      <td>2</td>\n",
       "      <td>50</td>\n",
       "      <td>61</td>\n",
       "      <td>20200401</td>\n",
       "      <td>61.0</td>\n",
       "      <td>culture</td>\n",
       "      <td>travel</td>\n",
       "    </tr>\n",
       "    <tr>\n",
       "      <th>2</th>\n",
       "      <td>노원구</td>\n",
       "      <td>상계6,7동</td>\n",
       "      <td>노원구 상계6,7동</td>\n",
       "      <td>레저업소</td>\n",
       "      <td>남성</td>\n",
       "      <td>50</td>\n",
       "      <td>2</td>\n",
       "      <td>59</td>\n",
       "      <td>140</td>\n",
       "      <td>20200401</td>\n",
       "      <td>140.0</td>\n",
       "      <td>life</td>\n",
       "      <td>shopping</td>\n",
       "    </tr>\n",
       "    <tr>\n",
       "      <th>3</th>\n",
       "      <td>종로구</td>\n",
       "      <td>종로5,6가동</td>\n",
       "      <td>종로구 종로5,6가동</td>\n",
       "      <td>레저업소</td>\n",
       "      <td>남성</td>\n",
       "      <td>45</td>\n",
       "      <td>3</td>\n",
       "      <td>56</td>\n",
       "      <td>104</td>\n",
       "      <td>20200401</td>\n",
       "      <td>104.0</td>\n",
       "      <td>life</td>\n",
       "      <td>life</td>\n",
       "    </tr>\n",
       "    <tr>\n",
       "      <th>4</th>\n",
       "      <td>종로구</td>\n",
       "      <td>중계4동</td>\n",
       "      <td>종로구 중계4동</td>\n",
       "      <td>음료식품</td>\n",
       "      <td>여성</td>\n",
       "      <td>38</td>\n",
       "      <td>2</td>\n",
       "      <td>57</td>\n",
       "      <td>103</td>\n",
       "      <td>20200401</td>\n",
       "      <td>103.0</td>\n",
       "      <td>life</td>\n",
       "      <td>life</td>\n",
       "    </tr>\n",
       "  </tbody>\n",
       "</table>\n",
       "</div>"
      ],
      "text/plain": [
       "    지역      소비처           주소  소비처업종  성별  연령  사용횟수  사용금액  사용카드    카드사용일자  \\\n",
       "0  종로구     상계2동     종로구 상계2동  자동차정비  여성  42     3    56    82  20200401   \n",
       "1  종로구      혜화동      종로구 혜화동    유통업  여성  43     2    50    61  20200401   \n",
       "2  노원구   상계6,7동   노원구 상계6,7동   레저업소  남성  50     2    59   140  20200401   \n",
       "3  종로구  종로5,6가동  종로구 종로5,6가동   레저업소  남성  45     3    56   104  20200401   \n",
       "4  종로구     중계4동     종로구 중계4동   음료식품  여성  38     2    57   103  20200401   \n",
       "\n",
       "   Card_ID  새로운혜택분야      혜택분야  \n",
       "0     82.0  culture    public  \n",
       "1     61.0  culture    travel  \n",
       "2    140.0     life  shopping  \n",
       "3    104.0     life      life  \n",
       "4    103.0     life      life  "
      ]
     },
     "execution_count": 43,
     "metadata": {},
     "output_type": "execute_result"
    }
   ],
   "source": [
    "data_혜택.head()"
   ]
  },
  {
   "cell_type": "code",
   "execution_count": 44,
   "metadata": {},
   "outputs": [
    {
     "data": {
      "text/html": [
       "<div>\n",
       "<style scoped>\n",
       "    .dataframe tbody tr th:only-of-type {\n",
       "        vertical-align: middle;\n",
       "    }\n",
       "\n",
       "    .dataframe tbody tr th {\n",
       "        vertical-align: top;\n",
       "    }\n",
       "\n",
       "    .dataframe thead th {\n",
       "        text-align: right;\n",
       "    }\n",
       "</style>\n",
       "<table border=\"1\" class=\"dataframe\">\n",
       "  <thead>\n",
       "    <tr style=\"text-align: right;\">\n",
       "      <th></th>\n",
       "      <th>새로운혜택분야</th>\n",
       "      <th>Card_ID</th>\n",
       "    </tr>\n",
       "  </thead>\n",
       "  <tbody>\n",
       "    <tr>\n",
       "      <th>0</th>\n",
       "      <td>car</td>\n",
       "      <td>3854</td>\n",
       "    </tr>\n",
       "    <tr>\n",
       "      <th>1</th>\n",
       "      <td>culture</td>\n",
       "      <td>20089</td>\n",
       "    </tr>\n",
       "    <tr>\n",
       "      <th>2</th>\n",
       "      <td>food</td>\n",
       "      <td>3540</td>\n",
       "    </tr>\n",
       "    <tr>\n",
       "      <th>3</th>\n",
       "      <td>life</td>\n",
       "      <td>83242</td>\n",
       "    </tr>\n",
       "    <tr>\n",
       "      <th>4</th>\n",
       "      <td>oil</td>\n",
       "      <td>16245</td>\n",
       "    </tr>\n",
       "    <tr>\n",
       "      <th>5</th>\n",
       "      <td>public</td>\n",
       "      <td>9716</td>\n",
       "    </tr>\n",
       "    <tr>\n",
       "      <th>6</th>\n",
       "      <td>shopping</td>\n",
       "      <td>40821</td>\n",
       "    </tr>\n",
       "    <tr>\n",
       "      <th>7</th>\n",
       "      <td>travel</td>\n",
       "      <td>10011</td>\n",
       "    </tr>\n",
       "  </tbody>\n",
       "</table>\n",
       "</div>"
      ],
      "text/plain": [
       "    새로운혜택분야  Card_ID\n",
       "0       car     3854\n",
       "1   culture    20089\n",
       "2      food     3540\n",
       "3      life    83242\n",
       "4       oil    16245\n",
       "5    public     9716\n",
       "6  shopping    40821\n",
       "7    travel    10011"
      ]
     },
     "execution_count": 44,
     "metadata": {},
     "output_type": "execute_result"
    }
   ],
   "source": [
    "data_혜택.groupby('새로운혜택분야',as_index = False)['Card_ID'].agg('count')"
   ]
  },
  {
   "cell_type": "code",
   "execution_count": 45,
   "metadata": {},
   "outputs": [
    {
     "data": {
      "text/html": [
       "<div>\n",
       "<style scoped>\n",
       "    .dataframe tbody tr th:only-of-type {\n",
       "        vertical-align: middle;\n",
       "    }\n",
       "\n",
       "    .dataframe tbody tr th {\n",
       "        vertical-align: top;\n",
       "    }\n",
       "\n",
       "    .dataframe thead th {\n",
       "        text-align: right;\n",
       "    }\n",
       "</style>\n",
       "<table border=\"1\" class=\"dataframe\">\n",
       "  <thead>\n",
       "    <tr style=\"text-align: right;\">\n",
       "      <th></th>\n",
       "      <th>새로운혜택분야</th>\n",
       "    </tr>\n",
       "  </thead>\n",
       "  <tbody>\n",
       "    <tr>\n",
       "      <th>life</th>\n",
       "      <td>0.443915</td>\n",
       "    </tr>\n",
       "    <tr>\n",
       "      <th>shopping</th>\n",
       "      <td>0.217691</td>\n",
       "    </tr>\n",
       "    <tr>\n",
       "      <th>culture</th>\n",
       "      <td>0.107131</td>\n",
       "    </tr>\n",
       "    <tr>\n",
       "      <th>oil</th>\n",
       "      <td>0.086632</td>\n",
       "    </tr>\n",
       "    <tr>\n",
       "      <th>travel</th>\n",
       "      <td>0.053387</td>\n",
       "    </tr>\n",
       "    <tr>\n",
       "      <th>public</th>\n",
       "      <td>0.051814</td>\n",
       "    </tr>\n",
       "    <tr>\n",
       "      <th>car</th>\n",
       "      <td>0.020553</td>\n",
       "    </tr>\n",
       "    <tr>\n",
       "      <th>food</th>\n",
       "      <td>0.018878</td>\n",
       "    </tr>\n",
       "  </tbody>\n",
       "</table>\n",
       "</div>"
      ],
      "text/plain": [
       "           새로운혜택분야\n",
       "life      0.443915\n",
       "shopping  0.217691\n",
       "culture   0.107131\n",
       "oil       0.086632\n",
       "travel    0.053387\n",
       "public    0.051814\n",
       "car       0.020553\n",
       "food      0.018878"
      ]
     },
     "execution_count": 45,
     "metadata": {},
     "output_type": "execute_result"
    }
   ],
   "source": [
    "temp = pd.DataFrame(data_혜택['새로운혜택분야'].value_counts(normalize=True))\n",
    "temp"
   ]
  },
  {
   "cell_type": "code",
   "execution_count": 46,
   "metadata": {},
   "outputs": [
    {
     "data": {
      "text/plain": [
       "life        0.443915\n",
       "shopping    0.217691\n",
       "culture     0.107131\n",
       "oil         0.086632\n",
       "travel      0.053387\n",
       "public      0.051814\n",
       "car         0.020553\n",
       "food        0.018878\n",
       "Name: 새로운혜택분야, dtype: float64"
      ]
     },
     "metadata": {},
     "output_type": "display_data"
    },
    {
     "data": {
      "image/png": "[encoded data removed]",
      "text/plain": [
       "<Figure size 640x480 with 1 Axes>"
      ]
     },
     "metadata": {},
     "output_type": "display_data"
    }
   ],
   "source": [
    "# labels = list(data_혜택['새로운혜택분야'].unique())\n",
    "display(data_혜택['새로운혜택분야'].value_counts(normalize=True))\n",
    "plt.pie(data_혜택['새로운혜택분야'].value_counts(normalize=True), labels = temp.index, autopct='%.1f%%')\n",
    "plt.show()"
   ]
  },
  {
   "cell_type": "code",
   "execution_count": 47,
   "metadata": {},
   "outputs": [
    {
     "data": {
      "text/html": [
       "<div>\n",
       "<style scoped>\n",
       "    .dataframe tbody tr th:only-of-type {\n",
       "        vertical-align: middle;\n",
       "    }\n",
       "\n",
       "    .dataframe tbody tr th {\n",
       "        vertical-align: top;\n",
       "    }\n",
       "\n",
       "    .dataframe thead th {\n",
       "        text-align: right;\n",
       "    }\n",
       "</style>\n",
       "<table border=\"1\" class=\"dataframe\">\n",
       "  <thead>\n",
       "    <tr style=\"text-align: right;\">\n",
       "      <th></th>\n",
       "      <th>구분</th>\n",
       "      <th>고급휘발유</th>\n",
       "      <th>보통휘발유</th>\n",
       "      <th>자동차용경유</th>\n",
       "      <th>실내등유</th>\n",
       "    </tr>\n",
       "  </thead>\n",
       "  <tbody>\n",
       "    <tr>\n",
       "      <th>0</th>\n",
       "      <td>2020-04-01</td>\n",
       "      <td>1704.02</td>\n",
       "      <td>1384.29</td>\n",
       "      <td>1190.50</td>\n",
       "      <td>893.17</td>\n",
       "    </tr>\n",
       "    <tr>\n",
       "      <th>1</th>\n",
       "      <td>2020-04-02</td>\n",
       "      <td>1698.16</td>\n",
       "      <td>1377.90</td>\n",
       "      <td>1184.19</td>\n",
       "      <td>890.59</td>\n",
       "    </tr>\n",
       "  </tbody>\n",
       "</table>\n",
       "</div>"
      ],
      "text/plain": [
       "          구분    고급휘발유    보통휘발유   자동차용경유    실내등유\n",
       "0 2020-04-01  1704.02  1384.29  1190.50  893.17\n",
       "1 2020-04-02  1698.16  1377.90  1184.19  890.59"
      ]
     },
     "execution_count": 47,
     "metadata": {},
     "output_type": "execute_result"
    }
   ],
   "source": [
    "data_혜택 = data[data['소비처업종'] == '연료판매'].groupby('카드사용일자',as_index= False)['사용금액'].agg('sum')\n",
    "data_혜택.loc[:,'카드사용일자'] = pd.to_datetime(data_혜택['카드사용일자'], format='%Y%m%d')\n",
    "data_혜택.head(2)\n",
    "\n",
    "oil2 = oil.copy()\n",
    "oil2.loc[:,'구분'] = pd.to_datetime(oil2['구분'], format='%Y%m%d') # datetime으로 변경\n",
    "oil2.head(2)"
   ]
  },
  {
   "cell_type": "code",
   "execution_count": 48,
   "metadata": {},
   "outputs": [
    {
     "data": {
      "image/png": "[encoded data removed]",
      "text/plain": [
       "<Figure size 640x480 with 2 Axes>"
      ]
     },
     "metadata": {},
     "output_type": "display_data"
    }
   ],
   "source": [
    "fig, ax1 = plt.subplots()\n",
    "ax1.plot(data_혜택['카드사용일자'], data_혜택['사용금액'])\n",
    "# plt.plot(data_혜택['카드사용일자'], data_혜택['사용금액'])\n",
    "plt.xticks(rotation = 45)\n",
    "\n",
    "ax2 = ax1.twinx()\n",
    "ax2.plot(oil2['구분'],oil2['고급휘발유'],color = 'red')\n",
    "# plt.plot(oil2['구분'],oil2['고급휘발유'])연료판매\n",
    "plt.show()"
   ]
  },
  {
   "cell_type": "code",
   "execution_count": 49,
   "metadata": {},
   "outputs": [
    {
     "data": {
      "text/html": [
       "<div>\n",
       "<style scoped>\n",
       "    .dataframe tbody tr th:only-of-type {\n",
       "        vertical-align: middle;\n",
       "    }\n",
       "\n",
       "    .dataframe tbody tr th {\n",
       "        vertical-align: top;\n",
       "    }\n",
       "\n",
       "    .dataframe thead th {\n",
       "        text-align: right;\n",
       "    }\n",
       "</style>\n",
       "<table border=\"1\" class=\"dataframe\">\n",
       "  <thead>\n",
       "    <tr style=\"text-align: right;\">\n",
       "      <th></th>\n",
       "      <th>카드사용일자</th>\n",
       "      <th>사용금액</th>\n",
       "    </tr>\n",
       "  </thead>\n",
       "  <tbody>\n",
       "    <tr>\n",
       "      <th>0</th>\n",
       "      <td>2020-04-01</td>\n",
       "      <td>12388</td>\n",
       "    </tr>\n",
       "    <tr>\n",
       "      <th>1</th>\n",
       "      <td>2020-04-02</td>\n",
       "      <td>19314</td>\n",
       "    </tr>\n",
       "    <tr>\n",
       "      <th>2</th>\n",
       "      <td>2020-04-03</td>\n",
       "      <td>43328</td>\n",
       "    </tr>\n",
       "    <tr>\n",
       "      <th>3</th>\n",
       "      <td>2020-04-04</td>\n",
       "      <td>5380</td>\n",
       "    </tr>\n",
       "    <tr>\n",
       "      <th>4</th>\n",
       "      <td>2020-04-05</td>\n",
       "      <td>21071</td>\n",
       "    </tr>\n",
       "    <tr>\n",
       "      <th>...</th>\n",
       "      <td>...</td>\n",
       "      <td>...</td>\n",
       "    </tr>\n",
       "    <tr>\n",
       "      <th>329</th>\n",
       "      <td>2021-02-24</td>\n",
       "      <td>26346</td>\n",
       "    </tr>\n",
       "    <tr>\n",
       "      <th>330</th>\n",
       "      <td>2021-02-25</td>\n",
       "      <td>28870</td>\n",
       "    </tr>\n",
       "    <tr>\n",
       "      <th>331</th>\n",
       "      <td>2021-02-26</td>\n",
       "      <td>44372</td>\n",
       "    </tr>\n",
       "    <tr>\n",
       "      <th>332</th>\n",
       "      <td>2021-02-27</td>\n",
       "      <td>20726</td>\n",
       "    </tr>\n",
       "    <tr>\n",
       "      <th>333</th>\n",
       "      <td>2021-02-28</td>\n",
       "      <td>2485172</td>\n",
       "    </tr>\n",
       "  </tbody>\n",
       "</table>\n",
       "<p>334 rows × 2 columns</p>\n",
       "</div>"
      ],
      "text/plain": [
       "        카드사용일자     사용금액\n",
       "0   2020-04-01    12388\n",
       "1   2020-04-02    19314\n",
       "2   2020-04-03    43328\n",
       "3   2020-04-04     5380\n",
       "4   2020-04-05    21071\n",
       "..         ...      ...\n",
       "329 2021-02-24    26346\n",
       "330 2021-02-25    28870\n",
       "331 2021-02-26    44372\n",
       "332 2021-02-27    20726\n",
       "333 2021-02-28  2485172\n",
       "\n",
       "[334 rows x 2 columns]"
      ]
     },
     "execution_count": 49,
     "metadata": {},
     "output_type": "execute_result"
    }
   ],
   "source": [
    "data_혜택"
   ]
  },
  {
   "cell_type": "code",
   "execution_count": 50,
   "metadata": {},
   "outputs": [
    {
     "data": {
      "text/html": [
       "<div>\n",
       "<style scoped>\n",
       "    .dataframe tbody tr th:only-of-type {\n",
       "        vertical-align: middle;\n",
       "    }\n",
       "\n",
       "    .dataframe tbody tr th {\n",
       "        vertical-align: top;\n",
       "    }\n",
       "\n",
       "    .dataframe thead th {\n",
       "        text-align: right;\n",
       "    }\n",
       "</style>\n",
       "<table border=\"1\" class=\"dataframe\">\n",
       "  <thead>\n",
       "    <tr style=\"text-align: right;\">\n",
       "      <th></th>\n",
       "      <th>혜택분야</th>\n",
       "      <th>새로운혜택분야</th>\n",
       "    </tr>\n",
       "  </thead>\n",
       "  <tbody>\n",
       "    <tr>\n",
       "      <th>155</th>\n",
       "      <td>oil</td>\n",
       "      <td>car</td>\n",
       "    </tr>\n",
       "    <tr>\n",
       "      <th>235</th>\n",
       "      <td>oil</td>\n",
       "      <td>car</td>\n",
       "    </tr>\n",
       "    <tr>\n",
       "      <th>257</th>\n",
       "      <td>oil</td>\n",
       "      <td>car</td>\n",
       "    </tr>\n",
       "    <tr>\n",
       "      <th>284</th>\n",
       "      <td>oil</td>\n",
       "      <td>car</td>\n",
       "    </tr>\n",
       "    <tr>\n",
       "      <th>318</th>\n",
       "      <td>oil</td>\n",
       "      <td>car</td>\n",
       "    </tr>\n",
       "    <tr>\n",
       "      <th>...</th>\n",
       "      <td>...</td>\n",
       "      <td>...</td>\n",
       "    </tr>\n",
       "    <tr>\n",
       "      <th>187226</th>\n",
       "      <td>oil</td>\n",
       "      <td>car</td>\n",
       "    </tr>\n",
       "    <tr>\n",
       "      <th>187365</th>\n",
       "      <td>oil</td>\n",
       "      <td>car</td>\n",
       "    </tr>\n",
       "    <tr>\n",
       "      <th>187383</th>\n",
       "      <td>oil</td>\n",
       "      <td>car</td>\n",
       "    </tr>\n",
       "    <tr>\n",
       "      <th>187416</th>\n",
       "      <td>oil</td>\n",
       "      <td>car</td>\n",
       "    </tr>\n",
       "    <tr>\n",
       "      <th>187433</th>\n",
       "      <td>oil</td>\n",
       "      <td>car</td>\n",
       "    </tr>\n",
       "  </tbody>\n",
       "</table>\n",
       "<p>3854 rows × 2 columns</p>\n",
       "</div>"
      ],
      "text/plain": [
       "       혜택분야 새로운혜택분야\n",
       "155     oil     car\n",
       "235     oil     car\n",
       "257     oil     car\n",
       "284     oil     car\n",
       "318     oil     car\n",
       "...     ...     ...\n",
       "187226  oil     car\n",
       "187365  oil     car\n",
       "187383  oil     car\n",
       "187416  oil     car\n",
       "187433  oil     car\n",
       "\n",
       "[3854 rows x 2 columns]"
      ]
     },
     "execution_count": 50,
     "metadata": {},
     "output_type": "execute_result"
    }
   ],
   "source": [
    "data_혜택 = pd.merge(data, card_ch[['Card_ID','새로운혜택분야','혜택분야']], left_on=  '사용카드', right_on = 'Card_ID', how = 'left')\n",
    "tmp = data_혜택[['혜택분야','새로운혜택분야']]\n",
    "tmp[tmp['새로운혜택분야'] == 'car']"
   ]
  },
  {
   "cell_type": "code",
   "execution_count": 51,
   "metadata": {},
   "outputs": [],
   "source": [
    "origin = pd.DataFrame(data_혜택.groupby('혜택분야')['Card_ID'].agg('count'))\n",
    "new = pd.DataFrame(data_혜택.groupby('새로운혜택분야')['Card_ID'].agg('count'))"
   ]
  },
  {
   "cell_type": "code",
   "execution_count": 52,
   "metadata": {},
   "outputs": [
    {
     "data": {
      "text/html": [
       "<div>\n",
       "<style scoped>\n",
       "    .dataframe tbody tr th:only-of-type {\n",
       "        vertical-align: middle;\n",
       "    }\n",
       "\n",
       "    .dataframe tbody tr th {\n",
       "        vertical-align: top;\n",
       "    }\n",
       "\n",
       "    .dataframe thead th {\n",
       "        text-align: right;\n",
       "    }\n",
       "</style>\n",
       "<table border=\"1\" class=\"dataframe\">\n",
       "  <thead>\n",
       "    <tr style=\"text-align: right;\">\n",
       "      <th></th>\n",
       "      <th>Card_ID</th>\n",
       "    </tr>\n",
       "    <tr>\n",
       "      <th>혜택분야</th>\n",
       "      <th></th>\n",
       "    </tr>\n",
       "  </thead>\n",
       "  <tbody>\n",
       "    <tr>\n",
       "      <th>comm</th>\n",
       "      <td>25422</td>\n",
       "    </tr>\n",
       "    <tr>\n",
       "      <th>culture</th>\n",
       "      <td>15947</td>\n",
       "    </tr>\n",
       "    <tr>\n",
       "      <th>finance</th>\n",
       "      <td>3340</td>\n",
       "    </tr>\n",
       "    <tr>\n",
       "      <th>food</th>\n",
       "      <td>23626</td>\n",
       "    </tr>\n",
       "    <tr>\n",
       "      <th>life</th>\n",
       "      <td>26377</td>\n",
       "    </tr>\n",
       "    <tr>\n",
       "      <th>oil</th>\n",
       "      <td>18306</td>\n",
       "    </tr>\n",
       "    <tr>\n",
       "      <th>onlineShopping</th>\n",
       "      <td>15301</td>\n",
       "    </tr>\n",
       "    <tr>\n",
       "      <th>public</th>\n",
       "      <td>11575</td>\n",
       "    </tr>\n",
       "    <tr>\n",
       "      <th>shopping</th>\n",
       "      <td>34360</td>\n",
       "    </tr>\n",
       "    <tr>\n",
       "      <th>travel</th>\n",
       "      <td>13264</td>\n",
       "    </tr>\n",
       "  </tbody>\n",
       "</table>\n",
       "</div>"
      ],
      "text/plain": [
       "                Card_ID\n",
       "혜택분야                   \n",
       "comm              25422\n",
       "culture           15947\n",
       "finance            3340\n",
       "food              23626\n",
       "life              26377\n",
       "oil               18306\n",
       "onlineShopping    15301\n",
       "public            11575\n",
       "shopping          34360\n",
       "travel            13264"
      ]
     },
     "metadata": {},
     "output_type": "display_data"
    },
    {
     "data": {
      "text/html": [
       "<div>\n",
       "<style scoped>\n",
       "    .dataframe tbody tr th:only-of-type {\n",
       "        vertical-align: middle;\n",
       "    }\n",
       "\n",
       "    .dataframe tbody tr th {\n",
       "        vertical-align: top;\n",
       "    }\n",
       "\n",
       "    .dataframe thead th {\n",
       "        text-align: right;\n",
       "    }\n",
       "</style>\n",
       "<table border=\"1\" class=\"dataframe\">\n",
       "  <thead>\n",
       "    <tr style=\"text-align: right;\">\n",
       "      <th></th>\n",
       "      <th>Card_ID</th>\n",
       "    </tr>\n",
       "    <tr>\n",
       "      <th>새로운혜택분야</th>\n",
       "      <th></th>\n",
       "    </tr>\n",
       "  </thead>\n",
       "  <tbody>\n",
       "    <tr>\n",
       "      <th>car</th>\n",
       "      <td>3854</td>\n",
       "    </tr>\n",
       "    <tr>\n",
       "      <th>culture</th>\n",
       "      <td>20089</td>\n",
       "    </tr>\n",
       "    <tr>\n",
       "      <th>food</th>\n",
       "      <td>3540</td>\n",
       "    </tr>\n",
       "    <tr>\n",
       "      <th>life</th>\n",
       "      <td>83242</td>\n",
       "    </tr>\n",
       "    <tr>\n",
       "      <th>oil</th>\n",
       "      <td>16245</td>\n",
       "    </tr>\n",
       "    <tr>\n",
       "      <th>public</th>\n",
       "      <td>9716</td>\n",
       "    </tr>\n",
       "    <tr>\n",
       "      <th>shopping</th>\n",
       "      <td>40821</td>\n",
       "    </tr>\n",
       "    <tr>\n",
       "      <th>travel</th>\n",
       "      <td>10011</td>\n",
       "    </tr>\n",
       "  </tbody>\n",
       "</table>\n",
       "</div>"
      ],
      "text/plain": [
       "          Card_ID\n",
       "새로운혜택분야          \n",
       "car          3854\n",
       "culture     20089\n",
       "food         3540\n",
       "life        83242\n",
       "oil         16245\n",
       "public       9716\n",
       "shopping    40821\n",
       "travel      10011"
      ]
     },
     "metadata": {},
     "output_type": "display_data"
    }
   ],
   "source": [
    "display(origin); display(new);"
   ]
  },
  {
   "cell_type": "code",
   "execution_count": 53,
   "metadata": {},
   "outputs": [
    {
     "data": {
      "text/plain": [
       "새로운혜택분야\n",
       "car          3854\n",
       "culture     20089\n",
       "food         3540\n",
       "life        83242\n",
       "oil         16245\n",
       "public       9716\n",
       "shopping    40821\n",
       "travel      10011\n",
       "Name: Card_ID, dtype: int64"
      ]
     },
     "execution_count": 53,
     "metadata": {},
     "output_type": "execute_result"
    }
   ],
   "source": [
    "data_혜택.groupby('새로운혜택분야')['Card_ID'].agg('count')"
   ]
  },
  {
   "cell_type": "code",
   "execution_count": 54,
   "metadata": {},
   "outputs": [],
   "source": [
    "#나이대별 구분\n",
    "def age(x):\n",
    "        if x >= 20 and x < 30: return '20대'       \n",
    "        elif x >= 30 and x < 40: return '30대'  \n",
    "        elif x >= 40 and x < 50: return '40대'  \n",
    "        elif x >= 50 and x < 60: return '50대'    \n",
    "        elif x >= 60 and x < 70: return '60대'  \n",
    "        elif x >= 70 and x < 80: return '70대'\n",
    "        elif x >= 80 and x < 90: return '80대'\n",
    "        elif x >= 90 and x < 100: return '90대'\n",
    "        elif x>= 100: return '100세 이상'  \n",
    "            \n",
    "\n",
    "# 카드 종류 구분(0 ~ 86 : 체크카드, 87 ~ 262 : 신용카드)\n",
    "def style(x):\n",
    "    if x >= 0 and x <= 86: return '체크카드'\n",
    "    elif x > 86: return '신용카드'\n",
    "    \n",
    "\n",
    "# 일자별 계절분류 3~5봄, 6~8 여름 9~11 가을 12~2겨울\n",
    "\n",
    "def season(x) :\n",
    "    if x>=3 and x <= 5: return '봄'\n",
    "    elif x >= 6 and x <= 8: return '여름'\n",
    "    elif x >= 9 and x <= 11: return '가을'\n",
    "    elif x == 12 or x < 3: return '겨울'\n",
    "\n",
    "def quater(x):\n",
    "    if x <= 3: return 1\n",
    "    elif x >=4 and x<=6: return 2\n",
    "    elif x >=7 and x<=9: return 3\n",
    "    elif x >=1 and x<=12: return 4"
   ]
  },
  {
   "cell_type": "code",
   "execution_count": 55,
   "metadata": {},
   "outputs": [
    {
     "data": {
      "text/plain": [
       "'# 세대별 특징\\ndef generation(x):\\n    if '"
      ]
     },
     "execution_count": 55,
     "metadata": {},
     "output_type": "execute_result"
    }
   ],
   "source": [
    "'''# 세대별 특징\n",
    "def generation(x):\n",
    "    if '''"
   ]
  },
  {
   "cell_type": "code",
   "execution_count": 56,
   "metadata": {},
   "outputs": [],
   "source": [
    "data_혜택.loc[:,'카드사용일자'] = pd.to_datetime(data_혜택['카드사용일자'], format='%Y%m%d')"
   ]
  },
  {
   "cell_type": "code",
   "execution_count": 57,
   "metadata": {},
   "outputs": [],
   "source": [
    "# 가설 및 파생변수 설정에 필요할 것으로 예상되는 변수 선언\n",
    "# 파생변수 1. 횟수당 금액\n",
    "data_혜택['횟수당금액'] = (data_혜택['사용금액'] / data_혜택['사용횟수']).round(2)\n",
    "# 파생변수 2. 월별, 계절별, 분기별 분석할 예정\n",
    "data_혜택['월'] = data_혜택['카드사용일자'].dt.month\n",
    "\n",
    "# 계절별\n",
    "data_혜택['계절'] = data_혜택['월'].apply(season)\n",
    "\n",
    "# 분기별\n",
    "data_혜택['분기'] = data_혜택['월'].apply(quater)\n",
    "\n",
    "# 연령별\n",
    "data_혜택['연령별'] = data_혜택['연령'].apply(age)\n"
   ]
  },
  {
   "cell_type": "markdown",
   "metadata": {},
   "source": [
    "연령별 사용금액을 보니 30대~50대의 카드 소비가 많다.   \n",
    "신한은행에 의하면 일생에서 40대가 가장 소득이 많으며, 현재 40대의 경우 2차 베이비 붐 이후의 탄생자들이기때문에 더욱더, \n",
    "소비금액이 많을 것으로 예상해 이들을 new-fourty로 나누어 고객을 세분화 했다고 한다.  \n",
    "이에 착안해, 우리 회사의 카드 소비 금액을 파악해 세대를 mz세대, 영포티, x세대로 나누어 고객을 층별화하여 어느 혜택분야를 가장 많이 사용하는 지 확인하고자 한다.   \n",
    "실제로 보니, 30~50대의 소비금액이 많은 것을 보니, 세대를 mz세대, 영포티, x세대로 나누는 것이 합리적이다. \n",
    "이때, 우선적으로 영포티에 관해 먼저 알아본뒤 mz, x세대에 대해 알아볼 것이다. "
   ]
  },
  {
   "cell_type": "code",
   "execution_count": 58,
   "metadata": {},
   "outputs": [
    {
     "data": {
      "text/plain": [
       "<BarContainer object of 9 artists>"
      ]
     },
     "execution_count": 58,
     "metadata": {},
     "output_type": "execute_result"
    },
    {
     "data": {
      "image/png": "[encoded data removed]",
      "text/plain": [
       "<Figure size 640x480 with 1 Axes>"
      ]
     },
     "metadata": {},
     "output_type": "display_data"
    }
   ],
   "source": [
    "age_count = data_혜택.groupby('연령별',as_index = False)['Card_ID'].agg('sum')\n",
    "plt.bar(age_count['연령별'],age_count['Card_ID'])"
   ]
  },
  {
   "cell_type": "markdown",
   "metadata": {},
   "source": [
    "연령별 사용 금액"
   ]
  },
  {
   "cell_type": "markdown",
   "metadata": {},
   "source": [
    "혹시 명수가 편향되어, 40대가 가장 많은 소비금액을 나타날 것을 우려해, 명수와 소비금액을 모두 고려한 명당 사용금액을 알아보고자 한다.  \n",
    "실제로 확인해보니, 40대가 사용자가 가장많고 사용금액이 많다.  \n",
    "결론적으로 명당 사용금액이 많은 것을 보니, 40대의 파급력, 즉 영포티의 파급력이 상당한 것으로 파악된다. 따라서 영포티의 특성을 분석해 선호 소비헤택이 무엇인지 알아보고자 한다. "
   ]
  },
  {
   "cell_type": "code",
   "execution_count": 59,
   "metadata": {},
   "outputs": [],
   "source": [
    "age_cost = pd.concat([data_혜택.groupby('연령별',as_index = False)['사용금액'].agg('sum'),\n",
    "         data_혜택.groupby('연령별',as_index = False)['연령별'].agg('count').rename(columns = {'연령별':'명수'})],\n",
    "         axis = 1)\n",
    "\n",
    "age_cost['명당사용금액'] = (age_cost['사용금액']/age_cost['명수']).round(3)"
   ]
  },
  {
   "cell_type": "code",
   "execution_count": 60,
   "metadata": {},
   "outputs": [
    {
     "data": {
      "text/html": [
       "<div>\n",
       "<style scoped>\n",
       "    .dataframe tbody tr th:only-of-type {\n",
       "        vertical-align: middle;\n",
       "    }\n",
       "\n",
       "    .dataframe tbody tr th {\n",
       "        vertical-align: top;\n",
       "    }\n",
       "\n",
       "    .dataframe thead th {\n",
       "        text-align: right;\n",
       "    }\n",
       "</style>\n",
       "<table border=\"1\" class=\"dataframe\">\n",
       "  <thead>\n",
       "    <tr style=\"text-align: right;\">\n",
       "      <th></th>\n",
       "      <th>연령별</th>\n",
       "      <th>사용금액</th>\n",
       "      <th>명수</th>\n",
       "      <th>명당사용금액</th>\n",
       "    </tr>\n",
       "  </thead>\n",
       "  <tbody>\n",
       "    <tr>\n",
       "      <th>0</th>\n",
       "      <td>100세 이상</td>\n",
       "      <td>171</td>\n",
       "      <td>3</td>\n",
       "      <td>57.000</td>\n",
       "    </tr>\n",
       "    <tr>\n",
       "      <th>1</th>\n",
       "      <td>20대</td>\n",
       "      <td>54098650</td>\n",
       "      <td>32307</td>\n",
       "      <td>1674.518</td>\n",
       "    </tr>\n",
       "    <tr>\n",
       "      <th>2</th>\n",
       "      <td>30대</td>\n",
       "      <td>67434663</td>\n",
       "      <td>36807</td>\n",
       "      <td>1832.115</td>\n",
       "    </tr>\n",
       "    <tr>\n",
       "      <th>3</th>\n",
       "      <td>40대</td>\n",
       "      <td>84890520</td>\n",
       "      <td>39876</td>\n",
       "      <td>2128.862</td>\n",
       "    </tr>\n",
       "    <tr>\n",
       "      <th>4</th>\n",
       "      <td>50대</td>\n",
       "      <td>67815652</td>\n",
       "      <td>37083</td>\n",
       "      <td>1828.753</td>\n",
       "    </tr>\n",
       "    <tr>\n",
       "      <th>5</th>\n",
       "      <td>60대</td>\n",
       "      <td>43583148</td>\n",
       "      <td>29477</td>\n",
       "      <td>1478.548</td>\n",
       "    </tr>\n",
       "    <tr>\n",
       "      <th>6</th>\n",
       "      <td>70대</td>\n",
       "      <td>801311</td>\n",
       "      <td>6860</td>\n",
       "      <td>116.809</td>\n",
       "    </tr>\n",
       "    <tr>\n",
       "      <th>7</th>\n",
       "      <td>80대</td>\n",
       "      <td>467244</td>\n",
       "      <td>3897</td>\n",
       "      <td>119.898</td>\n",
       "    </tr>\n",
       "    <tr>\n",
       "      <th>8</th>\n",
       "      <td>90대</td>\n",
       "      <td>151242</td>\n",
       "      <td>1212</td>\n",
       "      <td>124.787</td>\n",
       "    </tr>\n",
       "  </tbody>\n",
       "</table>\n",
       "</div>"
      ],
      "text/plain": [
       "       연령별      사용금액     명수    명당사용금액\n",
       "0  100세 이상       171      3    57.000\n",
       "1      20대  54098650  32307  1674.518\n",
       "2      30대  67434663  36807  1832.115\n",
       "3      40대  84890520  39876  2128.862\n",
       "4      50대  67815652  37083  1828.753\n",
       "5      60대  43583148  29477  1478.548\n",
       "6      70대    801311   6860   116.809\n",
       "7      80대    467244   3897   119.898\n",
       "8      90대    151242   1212   124.787"
      ]
     },
     "execution_count": 60,
     "metadata": {},
     "output_type": "execute_result"
    }
   ],
   "source": [
    "age_cost"
   ]
  },
  {
   "cell_type": "code",
   "execution_count": 61,
   "metadata": {},
   "outputs": [],
   "source": [
    "def age_group(x):\n",
    "    if 40<=x<49:\n",
    "        return '영포티'\n",
    "    else:\n",
    "        return '비영포티'\n",
    "data_혜택['연령대_new'] = data_혜택['연령'].apply(age_group)"
   ]
  },
  {
   "cell_type": "code",
   "execution_count": 62,
   "metadata": {},
   "outputs": [],
   "source": [
    "def age_group(x):\n",
    "    if x<36:\n",
    "        return 'MZ세대'\n",
    "    elif 40<=x<49:\n",
    "        return '영포티'\n",
    "    elif 55<x<=69:\n",
    "        return '부머'\n",
    "    else:\n",
    "        return '사일런트'\n",
    "data_혜택['연령대_진전'] = data_혜택['연령'].apply(age_group)"
   ]
  },
  {
   "cell_type": "code",
   "execution_count": 63,
   "metadata": {},
   "outputs": [],
   "source": [
    "def age_group(x):\n",
    "    if x<36:\n",
    "        return 'MZ세대'\n",
    "    elif 40<=x<49:\n",
    "        return '영포티'\n",
    "    elif 50<=x<59:\n",
    "        return 'Old-X세대'\n",
    "    elif 59<x<=73:\n",
    "        return '베이비붐'\n",
    "    else:\n",
    "        return '산업화'\n",
    "data_혜택['연령대_진전2'] = data_혜택['연령'].apply(age_group)"
   ]
  },
  {
   "cell_type": "code",
   "execution_count": 64,
   "metadata": {},
   "outputs": [],
   "source": [
    "def age_group(x):\n",
    "    if 40<=x<49:\n",
    "        return '영포티'\n",
    "    if 36<=x<54:\n",
    "        return 'X세대'\n",
    "    else:\n",
    "        return '비영포티'\n",
    "data_혜택[''] = data_혜택['연령'].apply(age_group)"
   ]
  },
  {
   "cell_type": "code",
   "execution_count": 65,
   "metadata": {},
   "outputs": [],
   "source": [
    "\n",
    "def age_cost(data_혜택, 연령대_new):\n",
    "    age_cost_new = pd.concat([data_혜택.groupby(연령대_new,as_index = False)['사용금액'].agg('sum'),\n",
    "            data_혜택.groupby(연령대_new,as_index = False)[연령대_new].agg('count').rename(columns = {연령대_new:'명수'})],\n",
    "            axis = 1)\n",
    "\n",
    "    age_cost_new['명당사용금액'] = (age_cost_new['사용금액']/age_cost_new['명수']).round(3)\n",
    "    return age_cost_new"
   ]
  },
  {
   "cell_type": "code",
   "execution_count": 66,
   "metadata": {},
   "outputs": [
    {
     "data": {
      "text/html": [
       "<div>\n",
       "<style scoped>\n",
       "    .dataframe tbody tr th:only-of-type {\n",
       "        vertical-align: middle;\n",
       "    }\n",
       "\n",
       "    .dataframe tbody tr th {\n",
       "        vertical-align: top;\n",
       "    }\n",
       "\n",
       "    .dataframe thead th {\n",
       "        text-align: right;\n",
       "    }\n",
       "</style>\n",
       "<table border=\"1\" class=\"dataframe\">\n",
       "  <thead>\n",
       "    <tr style=\"text-align: right;\">\n",
       "      <th></th>\n",
       "      <th>연령대_진전2</th>\n",
       "      <th>사용금액</th>\n",
       "      <th>명수</th>\n",
       "      <th>명당사용금액</th>\n",
       "    </tr>\n",
       "  </thead>\n",
       "  <tbody>\n",
       "    <tr>\n",
       "      <th>0</th>\n",
       "      <td>MZ세대</td>\n",
       "      <td>120880326</td>\n",
       "      <td>63145</td>\n",
       "      <td>1914.329</td>\n",
       "    </tr>\n",
       "    <tr>\n",
       "      <th>1</th>\n",
       "      <td>Old-X세대</td>\n",
       "      <td>67667906</td>\n",
       "      <td>35780</td>\n",
       "      <td>1891.222</td>\n",
       "    </tr>\n",
       "    <tr>\n",
       "      <th>2</th>\n",
       "      <td>베이비붐</td>\n",
       "      <td>43956929</td>\n",
       "      <td>32697</td>\n",
       "      <td>1344.372</td>\n",
       "    </tr>\n",
       "    <tr>\n",
       "      <th>3</th>\n",
       "      <td>산업화</td>\n",
       "      <td>2015503</td>\n",
       "      <td>17573</td>\n",
       "      <td>114.693</td>\n",
       "    </tr>\n",
       "    <tr>\n",
       "      <th>4</th>\n",
       "      <td>영포티</td>\n",
       "      <td>84721937</td>\n",
       "      <td>38327</td>\n",
       "      <td>2210.503</td>\n",
       "    </tr>\n",
       "  </tbody>\n",
       "</table>\n",
       "</div>"
      ],
      "text/plain": [
       "   연령대_진전2       사용금액     명수    명당사용금액\n",
       "0     MZ세대  120880326  63145  1914.329\n",
       "1  Old-X세대   67667906  35780  1891.222\n",
       "2     베이비붐   43956929  32697  1344.372\n",
       "3      산업화    2015503  17573   114.693\n",
       "4      영포티   84721937  38327  2210.503"
      ]
     },
     "execution_count": 66,
     "metadata": {},
     "output_type": "execute_result"
    }
   ],
   "source": [
    "age_cost_new = age_cost(data_혜택, '연령대_진전2')\n",
    "age_cost_new"
   ]
  },
  {
   "cell_type": "code",
   "execution_count": 67,
   "metadata": {},
   "outputs": [
    {
     "data": {
      "text/html": [
       "<div>\n",
       "<style scoped>\n",
       "    .dataframe tbody tr th:only-of-type {\n",
       "        vertical-align: middle;\n",
       "    }\n",
       "\n",
       "    .dataframe tbody tr th {\n",
       "        vertical-align: top;\n",
       "    }\n",
       "\n",
       "    .dataframe thead th {\n",
       "        text-align: right;\n",
       "    }\n",
       "</style>\n",
       "<table border=\"1\" class=\"dataframe\">\n",
       "  <thead>\n",
       "    <tr style=\"text-align: right;\">\n",
       "      <th></th>\n",
       "      <th>연령대_진전</th>\n",
       "      <th>사용금액</th>\n",
       "      <th>명수</th>\n",
       "      <th>명당사용금액</th>\n",
       "    </tr>\n",
       "  </thead>\n",
       "  <tbody>\n",
       "    <tr>\n",
       "      <th>0</th>\n",
       "      <td>MZ세대</td>\n",
       "      <td>120880326</td>\n",
       "      <td>63145</td>\n",
       "      <td>1914.329</td>\n",
       "    </tr>\n",
       "    <tr>\n",
       "      <th>1</th>\n",
       "      <td>부머</td>\n",
       "      <td>44194292</td>\n",
       "      <td>34937</td>\n",
       "      <td>1264.971</td>\n",
       "    </tr>\n",
       "    <tr>\n",
       "      <th>2</th>\n",
       "      <td>사일런트</td>\n",
       "      <td>69446046</td>\n",
       "      <td>51113</td>\n",
       "      <td>1358.677</td>\n",
       "    </tr>\n",
       "    <tr>\n",
       "      <th>3</th>\n",
       "      <td>영포티</td>\n",
       "      <td>84721937</td>\n",
       "      <td>38327</td>\n",
       "      <td>2210.503</td>\n",
       "    </tr>\n",
       "  </tbody>\n",
       "</table>\n",
       "</div>"
      ],
      "text/plain": [
       "  연령대_진전       사용금액     명수    명당사용금액\n",
       "0   MZ세대  120880326  63145  1914.329\n",
       "1     부머   44194292  34937  1264.971\n",
       "2   사일런트   69446046  51113  1358.677\n",
       "3    영포티   84721937  38327  2210.503"
      ]
     },
     "execution_count": 67,
     "metadata": {},
     "output_type": "execute_result"
    }
   ],
   "source": [
    "age_cost(data_혜택, '연령대_진전')"
   ]
  },
  {
   "cell_type": "code",
   "execution_count": 68,
   "metadata": {},
   "outputs": [
    {
     "data": {
      "text/plain": [
       "<BarContainer object of 5 artists>"
      ]
     },
     "execution_count": 68,
     "metadata": {},
     "output_type": "execute_result"
    },
    {
     "data": {
      "image/png": "[encoded data removed]",
      "text/plain": [
       "<Figure size 640x480 with 1 Axes>"
      ]
     },
     "metadata": {},
     "output_type": "display_data"
    }
   ],
   "source": [
    "plt.bar(age_cost_new['연령대_진전2'],age_cost_new['명당사용금액'])"
   ]
  },
  {
   "cell_type": "markdown",
   "metadata": {},
   "source": [
    "# 나이대별 혜택분야별 사용금액과 총금액, 사용비율까지.. > 태블로에서 시각화 가능\n",
    "전체 금액"
   ]
  },
  {
   "cell_type": "markdown",
   "metadata": {},
   "source": [
    "40대의 혜택분야별 사용금액을 보니 다음과 같다. 혜택분야별 사용금액 비율을 보니, \n",
    "comm > food > life > oil순으로 많다. "
   ]
  },
  {
   "cell_type": "code",
   "execution_count": 69,
   "metadata": {},
   "outputs": [],
   "source": [
    "# 혜택이 merge된 df에 연령대를 넣으면 연령대에 대한 총금액, 사용금액 비율이 나옴\n",
    "def pre_prcie_ratio(data_혜택,연령대_진전,age_group,혜택분야):\n",
    "    cost_40 = data_혜택[data_혜택[연령대_진전] == age_group].groupby(혜택분야,as_index=False)['사용금액'].agg('sum')\n",
    "    cost_40 = pd.concat([cost_40,pd.DataFrame(data = [{'총금액' : cost_40['사용금액'].sum()}])],axis=1).ffill()\n",
    "    \n",
    "    df = data_혜택[data_혜택[연령대_진전] == age_group].copy()\n",
    "    count_40 = df.groupby(혜택분야,as_index=False)['Card_ID'].agg('count').rename(columns = {'Card_ID':'사용횟수'})\n",
    "    cost_40 = pd.merge(cost_40,count_40,on = 혜택분야)\n",
    "    \n",
    "    cost_40[f'{혜택분야}별사용금액비율'] = (cost_40['사용금액']/cost_40['사용횟수']).round(2)\n",
    "    \n",
    "    \n",
    "    print(f'{age_group}의 금액비율')\n",
    "    return cost_40\n"
   ]
  },
  {
   "cell_type": "code",
   "execution_count": 70,
   "metadata": {},
   "outputs": [
    {
     "name": "stdout",
     "output_type": "stream",
     "text": [
      "영포티의 금액비율\n"
     ]
    },
    {
     "data": {
      "text/html": [
       "<div>\n",
       "<style scoped>\n",
       "    .dataframe tbody tr th:only-of-type {\n",
       "        vertical-align: middle;\n",
       "    }\n",
       "\n",
       "    .dataframe tbody tr th {\n",
       "        vertical-align: top;\n",
       "    }\n",
       "\n",
       "    .dataframe thead th {\n",
       "        text-align: right;\n",
       "    }\n",
       "</style>\n",
       "<table border=\"1\" class=\"dataframe\">\n",
       "  <thead>\n",
       "    <tr style=\"text-align: right;\">\n",
       "      <th></th>\n",
       "      <th>소비처업종</th>\n",
       "      <th>사용금액</th>\n",
       "      <th>총금액</th>\n",
       "      <th>사용횟수</th>\n",
       "      <th>소비처업종별사용금액비율</th>\n",
       "    </tr>\n",
       "  </thead>\n",
       "  <tbody>\n",
       "    <tr>\n",
       "      <th>0</th>\n",
       "      <td>가구</td>\n",
       "      <td>130177</td>\n",
       "      <td>84721937.0</td>\n",
       "      <td>100</td>\n",
       "      <td>1301.77</td>\n",
       "    </tr>\n",
       "    <tr>\n",
       "      <th>1</th>\n",
       "      <td>가전</td>\n",
       "      <td>854660</td>\n",
       "      <td>84721937.0</td>\n",
       "      <td>580</td>\n",
       "      <td>1473.55</td>\n",
       "    </tr>\n",
       "    <tr>\n",
       "      <th>2</th>\n",
       "      <td>광학제품</td>\n",
       "      <td>84112</td>\n",
       "      <td>84721937.0</td>\n",
       "      <td>475</td>\n",
       "      <td>177.08</td>\n",
       "    </tr>\n",
       "    <tr>\n",
       "      <th>3</th>\n",
       "      <td>레저업소</td>\n",
       "      <td>120467</td>\n",
       "      <td>84721937.0</td>\n",
       "      <td>1539</td>\n",
       "      <td>78.28</td>\n",
       "    </tr>\n",
       "    <tr>\n",
       "      <th>4</th>\n",
       "      <td>문화취미</td>\n",
       "      <td>599992</td>\n",
       "      <td>84721937.0</td>\n",
       "      <td>1689</td>\n",
       "      <td>355.24</td>\n",
       "    </tr>\n",
       "    <tr>\n",
       "      <th>5</th>\n",
       "      <td>보건위생</td>\n",
       "      <td>2503948</td>\n",
       "      <td>84721937.0</td>\n",
       "      <td>3583</td>\n",
       "      <td>698.84</td>\n",
       "    </tr>\n",
       "    <tr>\n",
       "      <th>6</th>\n",
       "      <td>사무통신</td>\n",
       "      <td>169571</td>\n",
       "      <td>84721937.0</td>\n",
       "      <td>316</td>\n",
       "      <td>536.62</td>\n",
       "    </tr>\n",
       "    <tr>\n",
       "      <th>7</th>\n",
       "      <td>서적문구</td>\n",
       "      <td>4032135</td>\n",
       "      <td>84721937.0</td>\n",
       "      <td>2856</td>\n",
       "      <td>1411.81</td>\n",
       "    </tr>\n",
       "    <tr>\n",
       "      <th>8</th>\n",
       "      <td>수리서비스</td>\n",
       "      <td>228647</td>\n",
       "      <td>84721937.0</td>\n",
       "      <td>1502</td>\n",
       "      <td>152.23</td>\n",
       "    </tr>\n",
       "    <tr>\n",
       "      <th>9</th>\n",
       "      <td>신변잡화</td>\n",
       "      <td>1037930</td>\n",
       "      <td>84721937.0</td>\n",
       "      <td>1192</td>\n",
       "      <td>870.75</td>\n",
       "    </tr>\n",
       "    <tr>\n",
       "      <th>10</th>\n",
       "      <td>연료판매</td>\n",
       "      <td>8729025</td>\n",
       "      <td>84721937.0</td>\n",
       "      <td>1678</td>\n",
       "      <td>5202.04</td>\n",
       "    </tr>\n",
       "    <tr>\n",
       "      <th>11</th>\n",
       "      <td>요식업소</td>\n",
       "      <td>19794445</td>\n",
       "      <td>84721937.0</td>\n",
       "      <td>4730</td>\n",
       "      <td>4184.87</td>\n",
       "    </tr>\n",
       "    <tr>\n",
       "      <th>12</th>\n",
       "      <td>유통업</td>\n",
       "      <td>25348640</td>\n",
       "      <td>84721937.0</td>\n",
       "      <td>4724</td>\n",
       "      <td>5365.93</td>\n",
       "    </tr>\n",
       "    <tr>\n",
       "      <th>13</th>\n",
       "      <td>음료식품</td>\n",
       "      <td>2058869</td>\n",
       "      <td>84721937.0</td>\n",
       "      <td>4521</td>\n",
       "      <td>455.40</td>\n",
       "    </tr>\n",
       "    <tr>\n",
       "      <th>14</th>\n",
       "      <td>의료기관</td>\n",
       "      <td>16186632</td>\n",
       "      <td>84721937.0</td>\n",
       "      <td>4195</td>\n",
       "      <td>3858.55</td>\n",
       "    </tr>\n",
       "    <tr>\n",
       "      <th>15</th>\n",
       "      <td>의복</td>\n",
       "      <td>1527943</td>\n",
       "      <td>84721937.0</td>\n",
       "      <td>2107</td>\n",
       "      <td>725.17</td>\n",
       "    </tr>\n",
       "    <tr>\n",
       "      <th>16</th>\n",
       "      <td>자동차정비</td>\n",
       "      <td>802266</td>\n",
       "      <td>84721937.0</td>\n",
       "      <td>1887</td>\n",
       "      <td>425.15</td>\n",
       "    </tr>\n",
       "    <tr>\n",
       "      <th>17</th>\n",
       "      <td>자동차판매</td>\n",
       "      <td>50699</td>\n",
       "      <td>84721937.0</td>\n",
       "      <td>87</td>\n",
       "      <td>582.75</td>\n",
       "    </tr>\n",
       "    <tr>\n",
       "      <th>18</th>\n",
       "      <td>전기</td>\n",
       "      <td>32158</td>\n",
       "      <td>84721937.0</td>\n",
       "      <td>69</td>\n",
       "      <td>466.06</td>\n",
       "    </tr>\n",
       "    <tr>\n",
       "      <th>19</th>\n",
       "      <td>주방용품</td>\n",
       "      <td>161848</td>\n",
       "      <td>84721937.0</td>\n",
       "      <td>176</td>\n",
       "      <td>919.59</td>\n",
       "    </tr>\n",
       "    <tr>\n",
       "      <th>20</th>\n",
       "      <td>직물</td>\n",
       "      <td>267773</td>\n",
       "      <td>84721937.0</td>\n",
       "      <td>321</td>\n",
       "      <td>834.18</td>\n",
       "    </tr>\n",
       "  </tbody>\n",
       "</table>\n",
       "</div>"
      ],
      "text/plain": [
       "    소비처업종      사용금액         총금액  사용횟수  소비처업종별사용금액비율\n",
       "0      가구    130177  84721937.0   100       1301.77\n",
       "1      가전    854660  84721937.0   580       1473.55\n",
       "2    광학제품     84112  84721937.0   475        177.08\n",
       "3    레저업소    120467  84721937.0  1539         78.28\n",
       "4    문화취미    599992  84721937.0  1689        355.24\n",
       "5    보건위생   2503948  84721937.0  3583        698.84\n",
       "6    사무통신    169571  84721937.0   316        536.62\n",
       "7    서적문구   4032135  84721937.0  2856       1411.81\n",
       "8   수리서비스    228647  84721937.0  1502        152.23\n",
       "9    신변잡화   1037930  84721937.0  1192        870.75\n",
       "10   연료판매   8729025  84721937.0  1678       5202.04\n",
       "11   요식업소  19794445  84721937.0  4730       4184.87\n",
       "12    유통업  25348640  84721937.0  4724       5365.93\n",
       "13   음료식품   2058869  84721937.0  4521        455.40\n",
       "14   의료기관  16186632  84721937.0  4195       3858.55\n",
       "15     의복   1527943  84721937.0  2107        725.17\n",
       "16  자동차정비    802266  84721937.0  1887        425.15\n",
       "17  자동차판매     50699  84721937.0    87        582.75\n",
       "18     전기     32158  84721937.0    69        466.06\n",
       "19   주방용품    161848  84721937.0   176        919.59\n",
       "20     직물    267773  84721937.0   321        834.18"
      ]
     },
     "execution_count": 70,
     "metadata": {},
     "output_type": "execute_result"
    }
   ],
   "source": [
    "pre_prcie_ratio(data_혜택,'연령대_진전2','영포티','소비처업종')"
   ]
  },
  {
   "cell_type": "markdown",
   "metadata": {},
   "source": [
    "# 혜택분야별 연령대의 카드 결제 횟수와 금액 "
   ]
  },
  {
   "cell_type": "code",
   "execution_count": 71,
   "metadata": {},
   "outputs": [],
   "source": [
    "# 혜택분야가 merge된 df와 관측하고 싶은 연령대를 기입\n",
    "# input: df, '40대'\n",
    "def pre_plot(data_혜택, 연령별, age_group, 혜택분야):\n",
    "    # 혜택분야별 카드 결제 횟수\n",
    "    plt.subplot(3,1,1)\n",
    "    plt.title(f'{age_group}의 혜택분야별 카드 결제 횟수')\n",
    "    df = data_혜택[data_혜택[연령별] == age_group].copy()\n",
    "    pre_40 = df.groupby(혜택분야,as_index=False)['Card_ID'].agg('count')\n",
    "    plt.bar(pre_40[혜택분야],pre_40['Card_ID'])\n",
    "    plt.xticks(rotation= 45)\n",
    "    plt.show()\n",
    "    #혜택분야 사용금액 비율 \n",
    "    plt.subplot(3,1,2)\n",
    "    df = pre_prcie_ratio(data_혜택,연령별,age_group,혜택분야)\n",
    "    plt.title(f'{age_group}의 {혜택분야}별 사용금액 비율')\n",
    "    plt.bar(df[혜택분야],df[f'{혜택분야}별사용금액비율'])\n",
    "    plt.xticks(rotation = 45)\n",
    "    plt.show()\n",
    "\n",
    "    "
   ]
  },
  {
   "cell_type": "markdown",
   "metadata": {},
   "source": [
    "연령별 "
   ]
  },
  {
   "cell_type": "code",
   "execution_count": 72,
   "metadata": {},
   "outputs": [
    {
     "data": {
      "image/png": "[encoded data removed]",
      "text/plain": [
       "<Figure size 640x480 with 1 Axes>"
      ]
     },
     "metadata": {},
     "output_type": "display_data"
    },
    {
     "name": "stdout",
     "output_type": "stream",
     "text": [
      "Old-X세대의 금액비율\n"
     ]
    },
    {
     "data": {
      "image/png": "[encoded data removed]",
      "text/plain": [
       "<Figure size 640x480 with 1 Axes>"
      ]
     },
     "metadata": {},
     "output_type": "display_data"
    }
   ],
   "source": [
    "pre_plot(data_혜택, '연령대_진전2','Old-X세대','소비처업종')"
   ]
  },
  {
   "cell_type": "code",
   "execution_count": 73,
   "metadata": {},
   "outputs": [
    {
     "data": {
      "image/png": "[encoded data removed]",
      "text/plain": [
       "<Figure size 640x480 with 1 Axes>"
      ]
     },
     "metadata": {},
     "output_type": "display_data"
    },
    {
     "name": "stdout",
     "output_type": "stream",
     "text": [
      "Old-X세대의 금액비율\n"
     ]
    },
    {
     "data": {
      "image/png": "[encoded data removed]",
      "text/plain": [
       "<Figure size 640x480 with 1 Axes>"
      ]
     },
     "metadata": {},
     "output_type": "display_data"
    }
   ],
   "source": [
    "pre_plot(data_혜택, '연령대_진전2','Old-X세대','새로운혜택분야')"
   ]
  },
  {
   "cell_type": "code",
   "execution_count": 74,
   "metadata": {},
   "outputs": [
    {
     "data": {
      "image/png": "[encoded data removed]",
      "text/plain": [
       "<Figure size 640x480 with 1 Axes>"
      ]
     },
     "metadata": {},
     "output_type": "display_data"
    },
    {
     "name": "stdout",
     "output_type": "stream",
     "text": [
      "MZ세대의 금액비율\n"
     ]
    },
    {
     "data": {
      "image/png": "[encoded data removed]",
      "text/plain": [
       "<Figure size 640x480 with 1 Axes>"
      ]
     },
     "metadata": {},
     "output_type": "display_data"
    }
   ],
   "source": [
    "pre_plot(data_혜택, '연령대_진전2','MZ세대','소비처업종')"
   ]
  },
  {
   "cell_type": "code",
   "execution_count": 75,
   "metadata": {},
   "outputs": [
    {
     "data": {
      "image/png": "[encoded data removed]",
      "text/plain": [
       "<Figure size 640x480 with 1 Axes>"
      ]
     },
     "metadata": {},
     "output_type": "display_data"
    },
    {
     "name": "stdout",
     "output_type": "stream",
     "text": [
      "영포티의 금액비율\n"
     ]
    },
    {
     "data": {
      "image/png": "[encoded data removed]",
      "text/plain": [
       "<Figure size 640x480 with 1 Axes>"
      ]
     },
     "metadata": {},
     "output_type": "display_data"
    }
   ],
   "source": [
    "pre_plot(data_혜택, '연령대_진전2','영포티','소비처업종')"
   ]
  },
  {
   "cell_type": "code",
   "execution_count": 76,
   "metadata": {},
   "outputs": [
    {
     "data": {
      "text/plain": [
       "Index(['지역', '소비처', '주소', '소비처업종', '성별', '연령', '사용횟수', '사용금액', '사용카드',\n",
       "       '카드사용일자', 'Card_ID', '새로운혜택분야', '혜택분야', '횟수당금액', '월', '계절', '분기', '연령별',\n",
       "       '연령대_new', '연령대_진전', '연령대_진전2', ''],\n",
       "      dtype='object')"
      ]
     },
     "execution_count": 76,
     "metadata": {},
     "output_type": "execute_result"
    }
   ],
   "source": [
    "data_혜택.columns"
   ]
  },
  {
   "cell_type": "code",
   "execution_count": 77,
   "metadata": {},
   "outputs": [],
   "source": [
    "mask = data_혜택['새로운혜택분야'] == 'oil'\n",
    "data_혜택[~mask].to_csv('/home/piai/바탕화면/파이썬_기초/빅데이터프로젝트/csv파일/data_new_card.csv')"
   ]
  },
  {
   "cell_type": "code",
   "execution_count": 78,
   "metadata": {},
   "outputs": [
    {
     "data": {
      "text/html": [
       "<div>\n",
       "<style scoped>\n",
       "    .dataframe tbody tr th:only-of-type {\n",
       "        vertical-align: middle;\n",
       "    }\n",
       "\n",
       "    .dataframe tbody tr th {\n",
       "        vertical-align: top;\n",
       "    }\n",
       "\n",
       "    .dataframe thead th {\n",
       "        text-align: right;\n",
       "    }\n",
       "</style>\n",
       "<table border=\"1\" class=\"dataframe\">\n",
       "  <thead>\n",
       "    <tr style=\"text-align: right;\">\n",
       "      <th></th>\n",
       "      <th>소비처업종</th>\n",
       "      <th>사용금액</th>\n",
       "    </tr>\n",
       "  </thead>\n",
       "  <tbody>\n",
       "    <tr>\n",
       "      <th>0</th>\n",
       "      <td>가구</td>\n",
       "      <td>130177</td>\n",
       "    </tr>\n",
       "    <tr>\n",
       "      <th>1</th>\n",
       "      <td>가전</td>\n",
       "      <td>854660</td>\n",
       "    </tr>\n",
       "    <tr>\n",
       "      <th>2</th>\n",
       "      <td>광학제품</td>\n",
       "      <td>84112</td>\n",
       "    </tr>\n",
       "    <tr>\n",
       "      <th>3</th>\n",
       "      <td>레저업소</td>\n",
       "      <td>120467</td>\n",
       "    </tr>\n",
       "    <tr>\n",
       "      <th>4</th>\n",
       "      <td>문화취미</td>\n",
       "      <td>599992</td>\n",
       "    </tr>\n",
       "    <tr>\n",
       "      <th>5</th>\n",
       "      <td>보건위생</td>\n",
       "      <td>2503948</td>\n",
       "    </tr>\n",
       "    <tr>\n",
       "      <th>6</th>\n",
       "      <td>사무통신</td>\n",
       "      <td>169571</td>\n",
       "    </tr>\n",
       "    <tr>\n",
       "      <th>7</th>\n",
       "      <td>서적문구</td>\n",
       "      <td>4032135</td>\n",
       "    </tr>\n",
       "    <tr>\n",
       "      <th>8</th>\n",
       "      <td>수리서비스</td>\n",
       "      <td>228647</td>\n",
       "    </tr>\n",
       "    <tr>\n",
       "      <th>9</th>\n",
       "      <td>신변잡화</td>\n",
       "      <td>1037930</td>\n",
       "    </tr>\n",
       "    <tr>\n",
       "      <th>10</th>\n",
       "      <td>연료판매</td>\n",
       "      <td>8729025</td>\n",
       "    </tr>\n",
       "    <tr>\n",
       "      <th>11</th>\n",
       "      <td>요식업소</td>\n",
       "      <td>19794445</td>\n",
       "    </tr>\n",
       "    <tr>\n",
       "      <th>12</th>\n",
       "      <td>유통업</td>\n",
       "      <td>25348640</td>\n",
       "    </tr>\n",
       "    <tr>\n",
       "      <th>13</th>\n",
       "      <td>음료식품</td>\n",
       "      <td>2058869</td>\n",
       "    </tr>\n",
       "    <tr>\n",
       "      <th>14</th>\n",
       "      <td>의료기관</td>\n",
       "      <td>16186632</td>\n",
       "    </tr>\n",
       "    <tr>\n",
       "      <th>15</th>\n",
       "      <td>의복</td>\n",
       "      <td>1527943</td>\n",
       "    </tr>\n",
       "    <tr>\n",
       "      <th>16</th>\n",
       "      <td>자동차정비</td>\n",
       "      <td>802266</td>\n",
       "    </tr>\n",
       "    <tr>\n",
       "      <th>17</th>\n",
       "      <td>자동차판매</td>\n",
       "      <td>50699</td>\n",
       "    </tr>\n",
       "    <tr>\n",
       "      <th>18</th>\n",
       "      <td>전기</td>\n",
       "      <td>32158</td>\n",
       "    </tr>\n",
       "    <tr>\n",
       "      <th>19</th>\n",
       "      <td>주방용품</td>\n",
       "      <td>161848</td>\n",
       "    </tr>\n",
       "    <tr>\n",
       "      <th>20</th>\n",
       "      <td>직물</td>\n",
       "      <td>267773</td>\n",
       "    </tr>\n",
       "  </tbody>\n",
       "</table>\n",
       "</div>"
      ],
      "text/plain": [
       "    소비처업종      사용금액\n",
       "0      가구    130177\n",
       "1      가전    854660\n",
       "2    광학제품     84112\n",
       "3    레저업소    120467\n",
       "4    문화취미    599992\n",
       "5    보건위생   2503948\n",
       "6    사무통신    169571\n",
       "7    서적문구   4032135\n",
       "8   수리서비스    228647\n",
       "9    신변잡화   1037930\n",
       "10   연료판매   8729025\n",
       "11   요식업소  19794445\n",
       "12    유통업  25348640\n",
       "13   음료식품   2058869\n",
       "14   의료기관  16186632\n",
       "15     의복   1527943\n",
       "16  자동차정비    802266\n",
       "17  자동차판매     50699\n",
       "18     전기     32158\n",
       "19   주방용품    161848\n",
       "20     직물    267773"
      ]
     },
     "execution_count": 78,
     "metadata": {},
     "output_type": "execute_result"
    }
   ],
   "source": [
    "age_group = '영포티'\n",
    "data_혜택[data_혜택['연령대_진전'] == age_group].groupby('소비처업종',as_index=False)['사용금액'].agg('sum')"
   ]
  },
  {
   "cell_type": "code",
   "execution_count": 79,
   "metadata": {},
   "outputs": [
    {
     "data": {
      "text/html": [
       "<div>\n",
       "<style scoped>\n",
       "    .dataframe tbody tr th:only-of-type {\n",
       "        vertical-align: middle;\n",
       "    }\n",
       "\n",
       "    .dataframe tbody tr th {\n",
       "        vertical-align: top;\n",
       "    }\n",
       "\n",
       "    .dataframe thead th {\n",
       "        text-align: right;\n",
       "    }\n",
       "</style>\n",
       "<table border=\"1\" class=\"dataframe\">\n",
       "  <thead>\n",
       "    <tr style=\"text-align: right;\">\n",
       "      <th></th>\n",
       "      <th>소비처업종</th>\n",
       "      <th>사용횟수</th>\n",
       "    </tr>\n",
       "  </thead>\n",
       "  <tbody>\n",
       "    <tr>\n",
       "      <th>0</th>\n",
       "      <td>가구</td>\n",
       "      <td>100</td>\n",
       "    </tr>\n",
       "    <tr>\n",
       "      <th>1</th>\n",
       "      <td>가전</td>\n",
       "      <td>580</td>\n",
       "    </tr>\n",
       "    <tr>\n",
       "      <th>2</th>\n",
       "      <td>광학제품</td>\n",
       "      <td>475</td>\n",
       "    </tr>\n",
       "    <tr>\n",
       "      <th>3</th>\n",
       "      <td>레저업소</td>\n",
       "      <td>1539</td>\n",
       "    </tr>\n",
       "    <tr>\n",
       "      <th>4</th>\n",
       "      <td>문화취미</td>\n",
       "      <td>1689</td>\n",
       "    </tr>\n",
       "    <tr>\n",
       "      <th>5</th>\n",
       "      <td>보건위생</td>\n",
       "      <td>3583</td>\n",
       "    </tr>\n",
       "    <tr>\n",
       "      <th>6</th>\n",
       "      <td>사무통신</td>\n",
       "      <td>316</td>\n",
       "    </tr>\n",
       "    <tr>\n",
       "      <th>7</th>\n",
       "      <td>서적문구</td>\n",
       "      <td>2856</td>\n",
       "    </tr>\n",
       "    <tr>\n",
       "      <th>8</th>\n",
       "      <td>수리서비스</td>\n",
       "      <td>1502</td>\n",
       "    </tr>\n",
       "    <tr>\n",
       "      <th>9</th>\n",
       "      <td>신변잡화</td>\n",
       "      <td>1192</td>\n",
       "    </tr>\n",
       "    <tr>\n",
       "      <th>10</th>\n",
       "      <td>연료판매</td>\n",
       "      <td>1678</td>\n",
       "    </tr>\n",
       "    <tr>\n",
       "      <th>11</th>\n",
       "      <td>요식업소</td>\n",
       "      <td>4730</td>\n",
       "    </tr>\n",
       "    <tr>\n",
       "      <th>12</th>\n",
       "      <td>유통업</td>\n",
       "      <td>4724</td>\n",
       "    </tr>\n",
       "    <tr>\n",
       "      <th>13</th>\n",
       "      <td>음료식품</td>\n",
       "      <td>4521</td>\n",
       "    </tr>\n",
       "    <tr>\n",
       "      <th>14</th>\n",
       "      <td>의료기관</td>\n",
       "      <td>4195</td>\n",
       "    </tr>\n",
       "    <tr>\n",
       "      <th>15</th>\n",
       "      <td>의복</td>\n",
       "      <td>2107</td>\n",
       "    </tr>\n",
       "    <tr>\n",
       "      <th>16</th>\n",
       "      <td>자동차정비</td>\n",
       "      <td>1887</td>\n",
       "    </tr>\n",
       "    <tr>\n",
       "      <th>17</th>\n",
       "      <td>자동차판매</td>\n",
       "      <td>87</td>\n",
       "    </tr>\n",
       "    <tr>\n",
       "      <th>18</th>\n",
       "      <td>전기</td>\n",
       "      <td>69</td>\n",
       "    </tr>\n",
       "    <tr>\n",
       "      <th>19</th>\n",
       "      <td>주방용품</td>\n",
       "      <td>176</td>\n",
       "    </tr>\n",
       "    <tr>\n",
       "      <th>20</th>\n",
       "      <td>직물</td>\n",
       "      <td>321</td>\n",
       "    </tr>\n",
       "  </tbody>\n",
       "</table>\n",
       "</div>"
      ],
      "text/plain": [
       "    소비처업종  사용횟수\n",
       "0      가구   100\n",
       "1      가전   580\n",
       "2    광학제품   475\n",
       "3    레저업소  1539\n",
       "4    문화취미  1689\n",
       "5    보건위생  3583\n",
       "6    사무통신   316\n",
       "7    서적문구  2856\n",
       "8   수리서비스  1502\n",
       "9    신변잡화  1192\n",
       "10   연료판매  1678\n",
       "11   요식업소  4730\n",
       "12    유통업  4724\n",
       "13   음료식품  4521\n",
       "14   의료기관  4195\n",
       "15     의복  2107\n",
       "16  자동차정비  1887\n",
       "17  자동차판매    87\n",
       "18     전기    69\n",
       "19   주방용품   176\n",
       "20     직물   321"
      ]
     },
     "execution_count": 79,
     "metadata": {},
     "output_type": "execute_result"
    }
   ],
   "source": [
    "df = data_혜택[data_혜택['연령대_진전'] == age_group].copy()\n",
    "count_40 = df.groupby('소비처업종',as_index=False)['Card_ID'].agg('count').rename(columns = {'Card_ID':'사용횟수'})\n",
    "count_40"
   ]
  },
  {
   "cell_type": "code",
   "execution_count": 80,
   "metadata": {},
   "outputs": [
    {
     "name": "stdout",
     "output_type": "stream",
     "text": [
      "영포티의 금액비율\n"
     ]
    },
    {
     "data": {
      "text/html": [
       "<div>\n",
       "<style scoped>\n",
       "    .dataframe tbody tr th:only-of-type {\n",
       "        vertical-align: middle;\n",
       "    }\n",
       "\n",
       "    .dataframe tbody tr th {\n",
       "        vertical-align: top;\n",
       "    }\n",
       "\n",
       "    .dataframe thead th {\n",
       "        text-align: right;\n",
       "    }\n",
       "</style>\n",
       "<table border=\"1\" class=\"dataframe\">\n",
       "  <thead>\n",
       "    <tr style=\"text-align: right;\">\n",
       "      <th></th>\n",
       "      <th>소비처업종</th>\n",
       "      <th>사용금액</th>\n",
       "      <th>총금액</th>\n",
       "      <th>사용횟수</th>\n",
       "      <th>소비처업종별사용금액비율</th>\n",
       "    </tr>\n",
       "  </thead>\n",
       "  <tbody>\n",
       "    <tr>\n",
       "      <th>0</th>\n",
       "      <td>가구</td>\n",
       "      <td>130177</td>\n",
       "      <td>84721937.0</td>\n",
       "      <td>100</td>\n",
       "      <td>1301.77</td>\n",
       "    </tr>\n",
       "    <tr>\n",
       "      <th>1</th>\n",
       "      <td>가전</td>\n",
       "      <td>854660</td>\n",
       "      <td>84721937.0</td>\n",
       "      <td>580</td>\n",
       "      <td>1473.55</td>\n",
       "    </tr>\n",
       "    <tr>\n",
       "      <th>2</th>\n",
       "      <td>광학제품</td>\n",
       "      <td>84112</td>\n",
       "      <td>84721937.0</td>\n",
       "      <td>475</td>\n",
       "      <td>177.08</td>\n",
       "    </tr>\n",
       "    <tr>\n",
       "      <th>3</th>\n",
       "      <td>레저업소</td>\n",
       "      <td>120467</td>\n",
       "      <td>84721937.0</td>\n",
       "      <td>1539</td>\n",
       "      <td>78.28</td>\n",
       "    </tr>\n",
       "    <tr>\n",
       "      <th>4</th>\n",
       "      <td>문화취미</td>\n",
       "      <td>599992</td>\n",
       "      <td>84721937.0</td>\n",
       "      <td>1689</td>\n",
       "      <td>355.24</td>\n",
       "    </tr>\n",
       "    <tr>\n",
       "      <th>5</th>\n",
       "      <td>보건위생</td>\n",
       "      <td>2503948</td>\n",
       "      <td>84721937.0</td>\n",
       "      <td>3583</td>\n",
       "      <td>698.84</td>\n",
       "    </tr>\n",
       "    <tr>\n",
       "      <th>6</th>\n",
       "      <td>사무통신</td>\n",
       "      <td>169571</td>\n",
       "      <td>84721937.0</td>\n",
       "      <td>316</td>\n",
       "      <td>536.62</td>\n",
       "    </tr>\n",
       "    <tr>\n",
       "      <th>7</th>\n",
       "      <td>서적문구</td>\n",
       "      <td>4032135</td>\n",
       "      <td>84721937.0</td>\n",
       "      <td>2856</td>\n",
       "      <td>1411.81</td>\n",
       "    </tr>\n",
       "    <tr>\n",
       "      <th>8</th>\n",
       "      <td>수리서비스</td>\n",
       "      <td>228647</td>\n",
       "      <td>84721937.0</td>\n",
       "      <td>1502</td>\n",
       "      <td>152.23</td>\n",
       "    </tr>\n",
       "    <tr>\n",
       "      <th>9</th>\n",
       "      <td>신변잡화</td>\n",
       "      <td>1037930</td>\n",
       "      <td>84721937.0</td>\n",
       "      <td>1192</td>\n",
       "      <td>870.75</td>\n",
       "    </tr>\n",
       "    <tr>\n",
       "      <th>10</th>\n",
       "      <td>연료판매</td>\n",
       "      <td>8729025</td>\n",
       "      <td>84721937.0</td>\n",
       "      <td>1678</td>\n",
       "      <td>5202.04</td>\n",
       "    </tr>\n",
       "    <tr>\n",
       "      <th>11</th>\n",
       "      <td>요식업소</td>\n",
       "      <td>19794445</td>\n",
       "      <td>84721937.0</td>\n",
       "      <td>4730</td>\n",
       "      <td>4184.87</td>\n",
       "    </tr>\n",
       "    <tr>\n",
       "      <th>12</th>\n",
       "      <td>유통업</td>\n",
       "      <td>25348640</td>\n",
       "      <td>84721937.0</td>\n",
       "      <td>4724</td>\n",
       "      <td>5365.93</td>\n",
       "    </tr>\n",
       "    <tr>\n",
       "      <th>13</th>\n",
       "      <td>음료식품</td>\n",
       "      <td>2058869</td>\n",
       "      <td>84721937.0</td>\n",
       "      <td>4521</td>\n",
       "      <td>455.40</td>\n",
       "    </tr>\n",
       "    <tr>\n",
       "      <th>14</th>\n",
       "      <td>의료기관</td>\n",
       "      <td>16186632</td>\n",
       "      <td>84721937.0</td>\n",
       "      <td>4195</td>\n",
       "      <td>3858.55</td>\n",
       "    </tr>\n",
       "    <tr>\n",
       "      <th>15</th>\n",
       "      <td>의복</td>\n",
       "      <td>1527943</td>\n",
       "      <td>84721937.0</td>\n",
       "      <td>2107</td>\n",
       "      <td>725.17</td>\n",
       "    </tr>\n",
       "    <tr>\n",
       "      <th>16</th>\n",
       "      <td>자동차정비</td>\n",
       "      <td>802266</td>\n",
       "      <td>84721937.0</td>\n",
       "      <td>1887</td>\n",
       "      <td>425.15</td>\n",
       "    </tr>\n",
       "    <tr>\n",
       "      <th>17</th>\n",
       "      <td>자동차판매</td>\n",
       "      <td>50699</td>\n",
       "      <td>84721937.0</td>\n",
       "      <td>87</td>\n",
       "      <td>582.75</td>\n",
       "    </tr>\n",
       "    <tr>\n",
       "      <th>18</th>\n",
       "      <td>전기</td>\n",
       "      <td>32158</td>\n",
       "      <td>84721937.0</td>\n",
       "      <td>69</td>\n",
       "      <td>466.06</td>\n",
       "    </tr>\n",
       "    <tr>\n",
       "      <th>19</th>\n",
       "      <td>주방용품</td>\n",
       "      <td>161848</td>\n",
       "      <td>84721937.0</td>\n",
       "      <td>176</td>\n",
       "      <td>919.59</td>\n",
       "    </tr>\n",
       "    <tr>\n",
       "      <th>20</th>\n",
       "      <td>직물</td>\n",
       "      <td>267773</td>\n",
       "      <td>84721937.0</td>\n",
       "      <td>321</td>\n",
       "      <td>834.18</td>\n",
       "    </tr>\n",
       "  </tbody>\n",
       "</table>\n",
       "</div>"
      ],
      "text/plain": [
       "    소비처업종      사용금액         총금액  사용횟수  소비처업종별사용금액비율\n",
       "0      가구    130177  84721937.0   100       1301.77\n",
       "1      가전    854660  84721937.0   580       1473.55\n",
       "2    광학제품     84112  84721937.0   475        177.08\n",
       "3    레저업소    120467  84721937.0  1539         78.28\n",
       "4    문화취미    599992  84721937.0  1689        355.24\n",
       "5    보건위생   2503948  84721937.0  3583        698.84\n",
       "6    사무통신    169571  84721937.0   316        536.62\n",
       "7    서적문구   4032135  84721937.0  2856       1411.81\n",
       "8   수리서비스    228647  84721937.0  1502        152.23\n",
       "9    신변잡화   1037930  84721937.0  1192        870.75\n",
       "10   연료판매   8729025  84721937.0  1678       5202.04\n",
       "11   요식업소  19794445  84721937.0  4730       4184.87\n",
       "12    유통업  25348640  84721937.0  4724       5365.93\n",
       "13   음료식품   2058869  84721937.0  4521        455.40\n",
       "14   의료기관  16186632  84721937.0  4195       3858.55\n",
       "15     의복   1527943  84721937.0  2107        725.17\n",
       "16  자동차정비    802266  84721937.0  1887        425.15\n",
       "17  자동차판매     50699  84721937.0    87        582.75\n",
       "18     전기     32158  84721937.0    69        466.06\n",
       "19   주방용품    161848  84721937.0   176        919.59\n",
       "20     직물    267773  84721937.0   321        834.18"
      ]
     },
     "execution_count": 80,
     "metadata": {},
     "output_type": "execute_result"
    }
   ],
   "source": [
    "# 혜택이 merge된 df에 연령대를 넣으면 연령대에 대한 총금액, 사용금액 비율이 나옴\n",
    "def pre_prcie_ratio(data_혜택,연령대_진전,age_group,소비처업종):\n",
    "    cost_40 = data_혜택[data_혜택[연령대_진전] == age_group].groupby(소비처업종,as_index=False)['사용금액'].agg('sum')\n",
    "    cost_40 = pd.concat([cost_40,pd.DataFrame(data = [{'총금액' : cost_40['사용금액'].sum()}])],axis=1).ffill()\n",
    "    \n",
    "    df = data_혜택[data_혜택[연령대_진전] == age_group].copy()\n",
    "    count_40 = df.groupby(소비처업종,as_index=False)['Card_ID'].agg('count').rename(columns = {'Card_ID':'사용횟수'})\n",
    "    cost_40 = pd.merge(cost_40,count_40,on = '소비처업종')\n",
    "    \n",
    "    cost_40[f'{소비처업종}별사용금액비율'] = (cost_40['사용금액']/cost_40['사용횟수']).round(2)\n",
    "    \n",
    "    \n",
    "    print(f'{age_group}의 금액비율')\n",
    "    return cost_40\n",
    "pre_prcie_ratio(data_혜택,'연령대_진전2','영포티','소비처업종')"
   ]
  },
  {
   "cell_type": "code",
   "execution_count": 81,
   "metadata": {},
   "outputs": [],
   "source": [
    "# 소비처업종가 merge된 df와 관측하고 싶은 연령대를 기입\n",
    "# input: df, '40대'\n",
    "def pre_plot(data_혜택, 연령별, age_group, 소비처업종):\n",
    "    # 소비처업종별 카드 결제 횟수\n",
    "    plt.subplot(3,1,1)\n",
    "    plt.title(f'{age_group}의 소비처업종별 카드 결제 횟수')\n",
    "    df = data_혜택[data_혜택[연령별] == age_group].copy()\n",
    "    pre_40 = df.groupby(소비처업종,as_index=False)['Card_ID'].agg('count')\n",
    "    plt.bar(pre_40[소비처업종],pre_40['Card_ID'])\n",
    "    plt.xticks(rotation= 45)\n",
    "    plt.show()\n",
    "\n",
    "    #소비처업종 사용금액 비율 \n",
    "    plt.subplot(3,1,2)\n",
    "    cost_40 = pre_prcie_ratio(data_혜택,연령별,age_group,소비처업종)\n",
    "    plt.title(f'{age_group}의 {소비처업종}별 사용금액 비율')\n",
    "    plt.bar(cost_40[소비처업종],cost_40[f'{소비처업종}별사용금액비율'])\n",
    "    plt.xticks(rotation = 45)\n",
    "    plt.show()"
   ]
  },
  {
   "cell_type": "code",
   "execution_count": 82,
   "metadata": {},
   "outputs": [
    {
     "data": {
      "image/png": "[encoded data removed]",
      "text/plain": [
       "<Figure size 640x480 with 1 Axes>"
      ]
     },
     "metadata": {},
     "output_type": "display_data"
    },
    {
     "name": "stdout",
     "output_type": "stream",
     "text": [
      "영포티의 금액비율\n"
     ]
    },
    {
     "data": {
      "image/png": "[encoded data removed]",
      "text/plain": [
       "<Figure size 640x480 with 1 Axes>"
      ]
     },
     "metadata": {},
     "output_type": "display_data"
    }
   ],
   "source": [
    "pre_plot(data_혜택, '연령대_진전2','영포티','소비처업종')"
   ]
  },
  {
   "cell_type": "code",
   "execution_count": null,
   "metadata": {},
   "outputs": [],
   "source": []
  },
  {
   "cell_type": "code",
   "execution_count": 83,
   "metadata": {},
   "outputs": [
    {
     "data": {
      "image/png": "[encoded data removed]",
      "text/plain": [
       "<Figure size 640x480 with 1 Axes>"
      ]
     },
     "metadata": {},
     "output_type": "display_data"
    },
    {
     "name": "stdout",
     "output_type": "stream",
     "text": [
      "MZ세대의 금액비율\n"
     ]
    },
    {
     "data": {
      "image/png": "[encoded data removed]",
      "text/plain": [
       "<Figure size 640x480 with 1 Axes>"
      ]
     },
     "metadata": {},
     "output_type": "display_data"
    }
   ],
   "source": [
    "pre_plot(data_혜택, '연령대_진전2','MZ세대','소비처업종')"
   ]
  },
  {
   "cell_type": "markdown",
   "metadata": {},
   "source": [
    "# 성별에 따른 소비혜택이 다를 것이다."
   ]
  },
  {
   "cell_type": "code",
   "execution_count": 84,
   "metadata": {},
   "outputs": [
    {
     "name": "stdout",
     "output_type": "stream",
     "text": [
      "여성의 금액비율\n"
     ]
    },
    {
     "data": {
      "text/html": [
       "<div>\n",
       "<style scoped>\n",
       "    .dataframe tbody tr th:only-of-type {\n",
       "        vertical-align: middle;\n",
       "    }\n",
       "\n",
       "    .dataframe tbody tr th {\n",
       "        vertical-align: top;\n",
       "    }\n",
       "\n",
       "    .dataframe thead th {\n",
       "        text-align: right;\n",
       "    }\n",
       "</style>\n",
       "<table border=\"1\" class=\"dataframe\">\n",
       "  <thead>\n",
       "    <tr style=\"text-align: right;\">\n",
       "      <th></th>\n",
       "      <th>혜택분야</th>\n",
       "      <th>사용금액</th>\n",
       "      <th>총금액</th>\n",
       "      <th>혜택분야별사용금액비율</th>\n",
       "    </tr>\n",
       "  </thead>\n",
       "  <tbody>\n",
       "    <tr>\n",
       "      <th>0</th>\n",
       "      <td>comm</td>\n",
       "      <td>49449893</td>\n",
       "      <td>158932293.0</td>\n",
       "      <td>0.31</td>\n",
       "    </tr>\n",
       "    <tr>\n",
       "      <th>1</th>\n",
       "      <td>culture</td>\n",
       "      <td>4545149</td>\n",
       "      <td>158932293.0</td>\n",
       "      <td>0.03</td>\n",
       "    </tr>\n",
       "    <tr>\n",
       "      <th>2</th>\n",
       "      <td>finance</td>\n",
       "      <td>1275911</td>\n",
       "      <td>158932293.0</td>\n",
       "      <td>0.01</td>\n",
       "    </tr>\n",
       "    <tr>\n",
       "      <th>3</th>\n",
       "      <td>food</td>\n",
       "      <td>36645094</td>\n",
       "      <td>158932293.0</td>\n",
       "      <td>0.23</td>\n",
       "    </tr>\n",
       "    <tr>\n",
       "      <th>4</th>\n",
       "      <td>life</td>\n",
       "      <td>36051579</td>\n",
       "      <td>158932293.0</td>\n",
       "      <td>0.23</td>\n",
       "    </tr>\n",
       "    <tr>\n",
       "      <th>5</th>\n",
       "      <td>oil</td>\n",
       "      <td>9694944</td>\n",
       "      <td>158932293.0</td>\n",
       "      <td>0.06</td>\n",
       "    </tr>\n",
       "    <tr>\n",
       "      <th>6</th>\n",
       "      <td>onlineShopping</td>\n",
       "      <td>5108364</td>\n",
       "      <td>158932293.0</td>\n",
       "      <td>0.03</td>\n",
       "    </tr>\n",
       "    <tr>\n",
       "      <th>7</th>\n",
       "      <td>public</td>\n",
       "      <td>1052983</td>\n",
       "      <td>158932293.0</td>\n",
       "      <td>0.01</td>\n",
       "    </tr>\n",
       "    <tr>\n",
       "      <th>8</th>\n",
       "      <td>shopping</td>\n",
       "      <td>12758445</td>\n",
       "      <td>158932293.0</td>\n",
       "      <td>0.08</td>\n",
       "    </tr>\n",
       "    <tr>\n",
       "      <th>9</th>\n",
       "      <td>travel</td>\n",
       "      <td>2349931</td>\n",
       "      <td>158932293.0</td>\n",
       "      <td>0.01</td>\n",
       "    </tr>\n",
       "  </tbody>\n",
       "</table>\n",
       "</div>"
      ],
      "text/plain": [
       "             혜택분야      사용금액          총금액  혜택분야별사용금액비율\n",
       "0            comm  49449893  158932293.0         0.31\n",
       "1         culture   4545149  158932293.0         0.03\n",
       "2         finance   1275911  158932293.0         0.01\n",
       "3            food  36645094  158932293.0         0.23\n",
       "4            life  36051579  158932293.0         0.23\n",
       "5             oil   9694944  158932293.0         0.06\n",
       "6  onlineShopping   5108364  158932293.0         0.03\n",
       "7          public   1052983  158932293.0         0.01\n",
       "8        shopping  12758445  158932293.0         0.08\n",
       "9          travel   2349931  158932293.0         0.01"
      ]
     },
     "execution_count": 84,
     "metadata": {},
     "output_type": "execute_result"
    }
   ],
   "source": [
    "# 혜택이 merge된 df에 연령대를 넣으면 연령대에 대한 총금액, 사용금액 비율이 나옴\n",
    "def pre_prcie_ratio_sex(data_혜택,sex_group):\n",
    "    cost_40 = data_혜택[data_혜택['성별'] == sex_group].groupby('혜택분야',as_index=False)['사용금액'].agg('sum')\n",
    "    cost_40 = pd.concat([cost_40,pd.DataFrame(data = [{'총금액' : cost_40['사용금액'].sum()}])],axis=1).ffill()\n",
    "    cost_40['혜택분야별사용금액비율'] = (cost_40['사용금액']/cost_40['총금액']).round(2)\n",
    "    print(f'{sex_group}의 금액비율')\n",
    "    return cost_40\n",
    "pre_prcie_ratio_sex(data_혜택,'여성')"
   ]
  },
  {
   "cell_type": "markdown",
   "metadata": {},
   "source": [
    "각 연령대의 성별 사용횟수와 카드 금액을 그림"
   ]
  },
  {
   "cell_type": "code",
   "execution_count": 85,
   "metadata": {},
   "outputs": [],
   "source": [
    "# 혜택분야가 merge된 df와 관측하고 싶은 연령대를 기입\n",
    "# 연령대의 유의미성\n",
    "def pre_plot(data_혜택, age_group):\n",
    "    # 혜택분야별 카드 결제 횟수\n",
    "    plt.subplot(3,1,1)\n",
    "    df = data_혜택[(data_혜택['연령별'] == '40대')].copy()\n",
    "    pre_40 = df.groupby(['새로운혜택분야','성별'],as_index=False).agg('count')\n",
    "    sns.barplot( x= '새로운혜택분야',y = '사용횟수', data = pre_40, hue = '성별')\n",
    "    plt.xticks(rotation = 45)\n",
    "    # 혜택분야별 사용금액 비율 \n",
    "    plt.subplot(3,1,2)\n",
    "    cost_40 = pre_prcie_ratio(data_혜택,age_group)\n",
    "    plt.title(f'{age_group}의새로운혜택분야별 사용금액 비율')\n",
    "    plt.bar(cost_40['새로운혜택분야'],cost_40['혜택분야별사용금액비율'])\n",
    "    plt.xticks(rotation = 45)\n",
    "    plt.show()"
   ]
  },
  {
   "cell_type": "code",
   "execution_count": 86,
   "metadata": {},
   "outputs": [
    {
     "ename": "TypeError",
     "evalue": "pre_prcie_ratio() missing 2 required positional arguments: 'age_group' and '소비처업종'",
     "output_type": "error",
     "traceback": [
      "\u001b[0;31m---------------------------------------------------------------------------\u001b[0m",
      "\u001b[0;31mTypeError\u001b[0m                                 Traceback (most recent call last)",
      "Cell \u001b[0;32mIn [86], line 1\u001b[0m\n\u001b[0;32m----> 1\u001b[0m pre_prcie_ratio(data_혜택,\u001b[39m'\u001b[39;49m\u001b[39m40대\u001b[39;49m\u001b[39m'\u001b[39;49m)\n",
      "\u001b[0;31mTypeError\u001b[0m: pre_prcie_ratio() missing 2 required positional arguments: 'age_group' and '소비처업종'"
     ]
    }
   ],
   "source": [
    "pre_prcie_ratio(data_혜택,'40대')"
   ]
  },
  {
   "cell_type": "code",
   "execution_count": null,
   "metadata": {},
   "outputs": [],
   "source": [
    "plt.subplot(3,1,1)\n",
    "df = data_혜택[(data_혜택['연령별'] == '40대')].copy()\n",
    "pre_40 = df.groupby(['새로운혜택분야','성별'],as_index=False).agg('count')\n",
    "sns.barplot( x= '새로운혜택분야',y = '사용횟수', data = pre_40, hue = '성별')\n",
    "plt.xticks(rotation = 45)\n",
    "plt.show()"
   ]
  },
  {
   "cell_type": "code",
   "execution_count": null,
   "metadata": {},
   "outputs": [],
   "source": [
    "sns.barplot(x='소비처업종', y='사용금액', hue = '소비연도', data=year_cost )"
   ]
  },
  {
   "cell_type": "code",
   "execution_count": null,
   "metadata": {},
   "outputs": [],
   "source": [
    "data_혜택.groupby('성별',as_index = False)['Card_ID'].agg('count')"
   ]
  },
  {
   "cell_type": "code",
   "execution_count": null,
   "metadata": {},
   "outputs": [],
   "source": [
    "pd.read_csv('/home/piai/바탕화면/파이썬_기초/빅데이터프로젝트/csv파일/텔레마케팅_파생변수.csv').columns"
   ]
  },
  {
   "cell_type": "markdown",
   "metadata": {},
   "source": [
    "1. 변수특성별 선호 혜택\n",
    "2. 텔레마케팅 모델을 돌린다. \n",
    "3. 석유... 어떻게 할건지"
   ]
  },
  {
   "cell_type": "code",
   "execution_count": null,
   "metadata": {},
   "outputs": [],
   "source": [
    "pd.read_csv('/home/piai/바탕화면/파이썬_기초/빅데이터프로젝트/csv파일/Card_Data.csv')"
   ]
  },
  {
   "cell_type": "code",
   "execution_count": null,
   "metadata": {},
   "outputs": [],
   "source": [
    "data"
   ]
  },
  {
   "cell_type": "code",
   "execution_count": null,
   "metadata": {},
   "outputs": [],
   "source": [
    "len(card.옵션.unique())"
   ]
  },
  {
   "cell_type": "code",
   "execution_count": null,
   "metadata": {},
   "outputs": [],
   "source": [
    "card.columns"
   ]
  },
  {
   "cell_type": "code",
   "execution_count": null,
   "metadata": {},
   "outputs": [],
   "source": [
    "card_ch[card_ch['새로운혜택분야'] =='oil']"
   ]
  },
  {
   "cell_type": "markdown",
   "metadata": {},
   "source": [
    "# 월별 소비"
   ]
  },
  {
   "cell_type": "code",
   "execution_count": null,
   "metadata": {},
   "outputs": [
    {
     "ename": "NameError",
     "evalue": "name 'card_ch' is not defined",
     "output_type": "error",
     "traceback": [
      "\u001b[0;31m---------------------------------------------------------------------------\u001b[0m",
      "\u001b[0;31mNameError\u001b[0m                                 Traceback (most recent call last)",
      "Cell \u001b[0;32mIn [2], line 1\u001b[0m\n\u001b[0;32m----> 1\u001b[0m card_ch\u001b[39m.\u001b[39mcolumns\n",
      "\u001b[0;31mNameError\u001b[0m: name 'card_ch' is not defined"
     ]
    }
   ],
   "source": [
    "card_ch.columns"
   ]
  },
  {
   "cell_type": "code",
   "execution_count": null,
   "metadata": {},
   "outputs": [],
   "source": [
    "month = df.groupby('연락달',as_index = False)['성공여부'].agg('mean')\n",
    "plt.bar(month['연락달'], month['성공여부'])\n",
    "plt.ylim((0.08,0.16))"
   ]
  },
  {
   "cell_type": "code",
   "execution_count": null,
   "metadata": {},
   "outputs": [],
   "source": [
    "data_"
   ]
  }
 ],
 "metadata": {
  "kernelspec": {
   "display_name": "Python 3 (ipykernel)",
   "language": "python",
   "name": "python3"
  },
  "language_info": {
   "codemirror_mode": {
    "name": "ipython",
    "version": 3
   },
   "file_extension": ".py",
   "mimetype": "text/x-python",
   "name": "python",
   "nbconvert_exporter": "python",
   "pygments_lexer": "ipython3",
   "version": "3.10.6"
  },
  "toc": {
   "base_numbering": 1,
   "nav_menu": {},
   "number_sections": true,
   "sideBar": true,
   "skip_h1_title": false,
   "title_cell": "Table of Contents",
   "title_sidebar": "Contents",
   "toc_cell": false,
   "toc_position": {},
   "toc_section_display": true,
   "toc_window_display": false
  },
  "vscode": {
   "interpreter": {
    "hash": "367b04bdf3d93ab264f16c7e234cfe6bce5c440d1d8775e766a4e2288a8560a0"
   }
  }
 },
 "nbformat": 4,
 "nbformat_minor": 2
}
