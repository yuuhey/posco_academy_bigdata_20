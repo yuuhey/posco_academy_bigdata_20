{
 "cells": [
  {
   "cell_type": "code",
   "execution_count": 1,
   "metadata": {},
   "outputs": [],
   "source": [
    "import pandas as pd\n",
    "from scipy import stats\n",
    "import seaborn as sns\n",
    "import numpy as np\n"
   ]
  },
  {
   "cell_type": "code",
   "execution_count": 2,
   "metadata": {},
   "outputs": [],
   "source": [
    "df = pd.read_csv('/home/piai/바탕화면/파이썬_기초/빅데이터프로젝트/A1_카드/Telemarketing_Data.csv')"
   ]
  },
  {
   "cell_type": "code",
   "execution_count": 3,
   "metadata": {},
   "outputs": [
    {
     "data": {
      "text/html": [
       "<div>\n",
       "<style scoped>\n",
       "    .dataframe tbody tr th:only-of-type {\n",
       "        vertical-align: middle;\n",
       "    }\n",
       "\n",
       "    .dataframe tbody tr th {\n",
       "        vertical-align: top;\n",
       "    }\n",
       "\n",
       "    .dataframe thead th {\n",
       "        text-align: right;\n",
       "    }\n",
       "</style>\n",
       "<table border=\"1\" class=\"dataframe\">\n",
       "  <thead>\n",
       "    <tr style=\"text-align: right;\">\n",
       "      <th></th>\n",
       "      <th>연령</th>\n",
       "      <th>직업군</th>\n",
       "      <th>결혼여부</th>\n",
       "      <th>학력</th>\n",
       "      <th>신용카드소지여부</th>\n",
       "      <th>주택대출여부</th>\n",
       "      <th>개인대출여부</th>\n",
       "      <th>contact</th>\n",
       "      <th>통화시간</th>\n",
       "      <th>연락시도횟수</th>\n",
       "      <th>p_days</th>\n",
       "      <th>과거통화횟수</th>\n",
       "      <th>계약여부</th>\n",
       "      <th>카드종류</th>\n",
       "      <th>연락일</th>\n",
       "    </tr>\n",
       "  </thead>\n",
       "  <tbody>\n",
       "    <tr>\n",
       "      <th>0</th>\n",
       "      <td>56</td>\n",
       "      <td>주부</td>\n",
       "      <td>결혼</td>\n",
       "      <td>중졸</td>\n",
       "      <td>없음</td>\n",
       "      <td>없음</td>\n",
       "      <td>없음</td>\n",
       "      <td>유선전화</td>\n",
       "      <td>261</td>\n",
       "      <td>1</td>\n",
       "      <td>NaN</td>\n",
       "      <td>0</td>\n",
       "      <td>no</td>\n",
       "      <td>87</td>\n",
       "      <td>2020-01-03</td>\n",
       "    </tr>\n",
       "    <tr>\n",
       "      <th>1</th>\n",
       "      <td>57</td>\n",
       "      <td>서비스종사자</td>\n",
       "      <td>결혼</td>\n",
       "      <td>전문학교</td>\n",
       "      <td>미확인</td>\n",
       "      <td>없음</td>\n",
       "      <td>없음</td>\n",
       "      <td>유선전화</td>\n",
       "      <td>149</td>\n",
       "      <td>1</td>\n",
       "      <td>NaN</td>\n",
       "      <td>0</td>\n",
       "      <td>no</td>\n",
       "      <td>88</td>\n",
       "      <td>2020-01-03</td>\n",
       "    </tr>\n",
       "    <tr>\n",
       "      <th>2</th>\n",
       "      <td>37</td>\n",
       "      <td>서비스종사자</td>\n",
       "      <td>결혼</td>\n",
       "      <td>전문학교</td>\n",
       "      <td>없음</td>\n",
       "      <td>대출있음</td>\n",
       "      <td>없음</td>\n",
       "      <td>유선전화</td>\n",
       "      <td>226</td>\n",
       "      <td>1</td>\n",
       "      <td>NaN</td>\n",
       "      <td>0</td>\n",
       "      <td>no</td>\n",
       "      <td>89</td>\n",
       "      <td>2020-01-03</td>\n",
       "    </tr>\n",
       "    <tr>\n",
       "      <th>3</th>\n",
       "      <td>40</td>\n",
       "      <td>회사원</td>\n",
       "      <td>결혼</td>\n",
       "      <td>검정고시</td>\n",
       "      <td>없음</td>\n",
       "      <td>없음</td>\n",
       "      <td>없음</td>\n",
       "      <td>유선전화</td>\n",
       "      <td>151</td>\n",
       "      <td>1</td>\n",
       "      <td>NaN</td>\n",
       "      <td>0</td>\n",
       "      <td>no</td>\n",
       "      <td>90</td>\n",
       "      <td>2020-01-03</td>\n",
       "    </tr>\n",
       "    <tr>\n",
       "      <th>4</th>\n",
       "      <td>56</td>\n",
       "      <td>서비스종사자</td>\n",
       "      <td>결혼</td>\n",
       "      <td>전문학교</td>\n",
       "      <td>없음</td>\n",
       "      <td>없음</td>\n",
       "      <td>대출있음</td>\n",
       "      <td>유선전화</td>\n",
       "      <td>307</td>\n",
       "      <td>1</td>\n",
       "      <td>NaN</td>\n",
       "      <td>0</td>\n",
       "      <td>no</td>\n",
       "      <td>91</td>\n",
       "      <td>2020-01-03</td>\n",
       "    </tr>\n",
       "  </tbody>\n",
       "</table>\n",
       "</div>"
      ],
      "text/plain": [
       "   연령     직업군 결혼여부    학력 신용카드소지여부 주택대출여부 개인대출여부 contact  통화시간  연락시도횟수  p_days  \\\n",
       "0  56      주부   결혼    중졸       없음     없음     없음    유선전화   261       1     NaN   \n",
       "1  57  서비스종사자   결혼  전문학교      미확인     없음     없음    유선전화   149       1     NaN   \n",
       "2  37  서비스종사자   결혼  전문학교       없음   대출있음     없음    유선전화   226       1     NaN   \n",
       "3  40     회사원   결혼  검정고시       없음     없음     없음    유선전화   151       1     NaN   \n",
       "4  56  서비스종사자   결혼  전문학교       없음     없음   대출있음    유선전화   307       1     NaN   \n",
       "\n",
       "   과거통화횟수 계약여부  카드종류         연락일  \n",
       "0       0   no    87  2020-01-03  \n",
       "1       0   no    88  2020-01-03  \n",
       "2       0   no    89  2020-01-03  \n",
       "3       0   no    90  2020-01-03  \n",
       "4       0   no    91  2020-01-03  "
      ]
     },
     "execution_count": 3,
     "metadata": {},
     "output_type": "execute_result"
    }
   ],
   "source": [
    "df.head()"
   ]
  },
  {
   "cell_type": "code",
   "execution_count": 4,
   "metadata": {},
   "outputs": [
    {
     "data": {
      "text/plain": [
       "연령              0\n",
       "직업군             0\n",
       "결혼여부            0\n",
       "학력              0\n",
       "신용카드소지여부        0\n",
       "주택대출여부          0\n",
       "개인대출여부          0\n",
       "contact         0\n",
       "통화시간            0\n",
       "연락시도횟수          0\n",
       "p_days      39673\n",
       "과거통화횟수          0\n",
       "계약여부            0\n",
       "카드종류            0\n",
       "연락일             0\n",
       "dtype: int64"
      ]
     },
     "execution_count": 4,
     "metadata": {},
     "output_type": "execute_result"
    }
   ],
   "source": [
    "df.isna().sum()"
   ]
  },
  {
   "cell_type": "code",
   "execution_count": 5,
   "metadata": {},
   "outputs": [],
   "source": [
    "# pdays는 Moro(2014)의 논문 내용대로 -1로 처리 \n",
    "df['p_days'] = df['p_days'].fillna(-1)"
   ]
  },
  {
   "cell_type": "markdown",
   "metadata": {},
   "source": [
    "연령대"
   ]
  },
  {
   "cell_type": "code",
   "execution_count": 6,
   "metadata": {},
   "outputs": [],
   "source": [
    "def age_group(x):\n",
    "    if x<10:\n",
    "        return '유아'\n",
    "    elif 10<=x<20:\n",
    "        return '10대'\n",
    "    elif 20<=x<30:\n",
    "        return '20대'\n",
    "    elif 30<=x<40:\n",
    "        return '30대'\n",
    "    elif 40<=x<50:\n",
    "        return '40대'\n",
    "    elif 50<=x<60:\n",
    "        return '50대'\n",
    "    elif 60<=x<70:\n",
    "        return '60대'\n",
    "    elif 70<=x<80:\n",
    "        return '70대'\n",
    "    elif 80<=x<90:\n",
    "        return '80대'\n",
    "    else:\n",
    "        return '90대'"
   ]
  },
  {
   "cell_type": "code",
   "execution_count": 7,
   "metadata": {},
   "outputs": [],
   "source": [
    "df['연령대'] = df['연령'].apply(age_group)"
   ]
  },
  {
   "cell_type": "code",
   "execution_count": 8,
   "metadata": {},
   "outputs": [
    {
     "data": {
      "text/html": [
       "<div>\n",
       "<style scoped>\n",
       "    .dataframe tbody tr th:only-of-type {\n",
       "        vertical-align: middle;\n",
       "    }\n",
       "\n",
       "    .dataframe tbody tr th {\n",
       "        vertical-align: top;\n",
       "    }\n",
       "\n",
       "    .dataframe thead th {\n",
       "        text-align: right;\n",
       "    }\n",
       "</style>\n",
       "<table border=\"1\" class=\"dataframe\">\n",
       "  <thead>\n",
       "    <tr style=\"text-align: right;\">\n",
       "      <th></th>\n",
       "      <th>연령</th>\n",
       "      <th>직업군</th>\n",
       "      <th>결혼여부</th>\n",
       "      <th>학력</th>\n",
       "      <th>신용카드소지여부</th>\n",
       "      <th>주택대출여부</th>\n",
       "      <th>개인대출여부</th>\n",
       "      <th>contact</th>\n",
       "      <th>통화시간</th>\n",
       "      <th>연락시도횟수</th>\n",
       "      <th>p_days</th>\n",
       "      <th>과거통화횟수</th>\n",
       "      <th>계약여부</th>\n",
       "      <th>카드종류</th>\n",
       "      <th>연락일</th>\n",
       "      <th>연령대</th>\n",
       "    </tr>\n",
       "  </thead>\n",
       "  <tbody>\n",
       "    <tr>\n",
       "      <th>0</th>\n",
       "      <td>56</td>\n",
       "      <td>주부</td>\n",
       "      <td>결혼</td>\n",
       "      <td>중졸</td>\n",
       "      <td>없음</td>\n",
       "      <td>없음</td>\n",
       "      <td>없음</td>\n",
       "      <td>유선전화</td>\n",
       "      <td>261</td>\n",
       "      <td>1</td>\n",
       "      <td>-1.0</td>\n",
       "      <td>0</td>\n",
       "      <td>no</td>\n",
       "      <td>87</td>\n",
       "      <td>2020-01-03</td>\n",
       "      <td>50대</td>\n",
       "    </tr>\n",
       "    <tr>\n",
       "      <th>1</th>\n",
       "      <td>57</td>\n",
       "      <td>서비스종사자</td>\n",
       "      <td>결혼</td>\n",
       "      <td>전문학교</td>\n",
       "      <td>미확인</td>\n",
       "      <td>없음</td>\n",
       "      <td>없음</td>\n",
       "      <td>유선전화</td>\n",
       "      <td>149</td>\n",
       "      <td>1</td>\n",
       "      <td>-1.0</td>\n",
       "      <td>0</td>\n",
       "      <td>no</td>\n",
       "      <td>88</td>\n",
       "      <td>2020-01-03</td>\n",
       "      <td>50대</td>\n",
       "    </tr>\n",
       "    <tr>\n",
       "      <th>2</th>\n",
       "      <td>37</td>\n",
       "      <td>서비스종사자</td>\n",
       "      <td>결혼</td>\n",
       "      <td>전문학교</td>\n",
       "      <td>없음</td>\n",
       "      <td>대출있음</td>\n",
       "      <td>없음</td>\n",
       "      <td>유선전화</td>\n",
       "      <td>226</td>\n",
       "      <td>1</td>\n",
       "      <td>-1.0</td>\n",
       "      <td>0</td>\n",
       "      <td>no</td>\n",
       "      <td>89</td>\n",
       "      <td>2020-01-03</td>\n",
       "      <td>30대</td>\n",
       "    </tr>\n",
       "    <tr>\n",
       "      <th>3</th>\n",
       "      <td>40</td>\n",
       "      <td>회사원</td>\n",
       "      <td>결혼</td>\n",
       "      <td>검정고시</td>\n",
       "      <td>없음</td>\n",
       "      <td>없음</td>\n",
       "      <td>없음</td>\n",
       "      <td>유선전화</td>\n",
       "      <td>151</td>\n",
       "      <td>1</td>\n",
       "      <td>-1.0</td>\n",
       "      <td>0</td>\n",
       "      <td>no</td>\n",
       "      <td>90</td>\n",
       "      <td>2020-01-03</td>\n",
       "      <td>40대</td>\n",
       "    </tr>\n",
       "    <tr>\n",
       "      <th>4</th>\n",
       "      <td>56</td>\n",
       "      <td>서비스종사자</td>\n",
       "      <td>결혼</td>\n",
       "      <td>전문학교</td>\n",
       "      <td>없음</td>\n",
       "      <td>없음</td>\n",
       "      <td>대출있음</td>\n",
       "      <td>유선전화</td>\n",
       "      <td>307</td>\n",
       "      <td>1</td>\n",
       "      <td>-1.0</td>\n",
       "      <td>0</td>\n",
       "      <td>no</td>\n",
       "      <td>91</td>\n",
       "      <td>2020-01-03</td>\n",
       "      <td>50대</td>\n",
       "    </tr>\n",
       "  </tbody>\n",
       "</table>\n",
       "</div>"
      ],
      "text/plain": [
       "   연령     직업군 결혼여부    학력 신용카드소지여부 주택대출여부 개인대출여부 contact  통화시간  연락시도횟수  p_days  \\\n",
       "0  56      주부   결혼    중졸       없음     없음     없음    유선전화   261       1    -1.0   \n",
       "1  57  서비스종사자   결혼  전문학교      미확인     없음     없음    유선전화   149       1    -1.0   \n",
       "2  37  서비스종사자   결혼  전문학교       없음   대출있음     없음    유선전화   226       1    -1.0   \n",
       "3  40     회사원   결혼  검정고시       없음     없음     없음    유선전화   151       1    -1.0   \n",
       "4  56  서비스종사자   결혼  전문학교       없음     없음   대출있음    유선전화   307       1    -1.0   \n",
       "\n",
       "   과거통화횟수 계약여부  카드종류         연락일  연령대  \n",
       "0       0   no    87  2020-01-03  50대  \n",
       "1       0   no    88  2020-01-03  50대  \n",
       "2       0   no    89  2020-01-03  30대  \n",
       "3       0   no    90  2020-01-03  40대  \n",
       "4       0   no    91  2020-01-03  50대  "
      ]
     },
     "execution_count": 8,
     "metadata": {},
     "output_type": "execute_result"
    }
   ],
   "source": [
    "df.head()"
   ]
  },
  {
   "cell_type": "markdown",
   "metadata": {},
   "source": [
    "# 결측치 채우기 \n",
    "-> 미확인 결측치 채우기: 각 명목변수들의 카이제곱 검정을 통해 어떤 col이 상관성을 가장 많이 가지는 지를 기반으로,  \n",
    "이 col의 기준으로 각 col당(결혼여부, 학력, 시뇽카드 소지여부, 주택 대출여부, 개인대출여부)를 나눠 테이블을 형성해  \n",
    "해당 직업의 다른 col의 미확인이 있을시 그 col을 위의 테이블로 채움   \n",
    "ex 직업군 주부의 학력이 전문학교가 많다면\n",
    "df의 직업군 주부의 학력 '미확인'값은 '전문학교'로 대체 "
   ]
  },
  {
   "cell_type": "markdown",
   "metadata": {},
   "source": [
    "각 col의 상관성 판단"
   ]
  },
  {
   "cell_type": "markdown",
   "metadata": {},
   "source": [
    "pivot 테이블 형성 후 이를 기반으로 카이제곱 검정을 해서 상관성 검정"
   ]
  },
  {
   "cell_type": "code",
   "execution_count": 9,
   "metadata": {},
   "outputs": [],
   "source": [
    "# idx로 만들 df의 col명, col으로 만들 df의 col명 지정\n",
    "# ex make_pivot(df, '직업군', '연령대') return 직원군별 연령대 명수 카운트\n",
    "def make_pivot(df,idx, col):\n",
    "    tmp = pd.DataFrame(index = df[idx].unique(), columns = df[col].unique())\n",
    "    for i in df[idx].unique():\n",
    "        for j in df[col].unique():\n",
    "            tmp.loc[i,j] = len(df[(df[idx] == i) & (df[col]== j)])\n",
    "    if '미확인' in tmp.columns:\n",
    "        tmp.drop('미확인', axis = 1,inplace = True)\n",
    "    if '미확인' in tmp.T.columns:\n",
    "        tmp.drop('미확인', axis = 0, inplace = True)\n",
    "    return tmp"
   ]
  },
  {
   "cell_type": "code",
   "execution_count": 10,
   "metadata": {},
   "outputs": [
    {
     "data": {
      "text/html": [
       "<div>\n",
       "<style scoped>\n",
       "    .dataframe tbody tr th:only-of-type {\n",
       "        vertical-align: middle;\n",
       "    }\n",
       "\n",
       "    .dataframe tbody tr th {\n",
       "        vertical-align: top;\n",
       "    }\n",
       "\n",
       "    .dataframe thead th {\n",
       "        text-align: right;\n",
       "    }\n",
       "</style>\n",
       "<table border=\"1\" class=\"dataframe\">\n",
       "  <thead>\n",
       "    <tr style=\"text-align: right;\">\n",
       "      <th></th>\n",
       "      <th>주부</th>\n",
       "      <th>서비스종사자</th>\n",
       "      <th>회사원</th>\n",
       "      <th>산업노동자</th>\n",
       "      <th>기술자</th>\n",
       "      <th>은퇴</th>\n",
       "      <th>공무원</th>\n",
       "      <th>미취업자</th>\n",
       "      <th>자영업자</th>\n",
       "      <th>기업가</th>\n",
       "      <th>학생</th>\n",
       "    </tr>\n",
       "  </thead>\n",
       "  <tbody>\n",
       "    <tr>\n",
       "      <th>50대</th>\n",
       "      <td>323</td>\n",
       "      <td>514</td>\n",
       "      <td>1325</td>\n",
       "      <td>1416</td>\n",
       "      <td>906</td>\n",
       "      <td>826</td>\n",
       "      <td>703</td>\n",
       "      <td>170</td>\n",
       "      <td>268</td>\n",
       "      <td>319</td>\n",
       "      <td>0</td>\n",
       "    </tr>\n",
       "    <tr>\n",
       "      <th>30대</th>\n",
       "      <td>313</td>\n",
       "      <td>1694</td>\n",
       "      <td>4894</td>\n",
       "      <td>3777</td>\n",
       "      <td>3364</td>\n",
       "      <td>27</td>\n",
       "      <td>1072</td>\n",
       "      <td>415</td>\n",
       "      <td>566</td>\n",
       "      <td>558</td>\n",
       "      <td>185</td>\n",
       "    </tr>\n",
       "    <tr>\n",
       "      <th>40대</th>\n",
       "      <td>312</td>\n",
       "      <td>1032</td>\n",
       "      <td>2475</td>\n",
       "      <td>2854</td>\n",
       "      <td>1622</td>\n",
       "      <td>78</td>\n",
       "      <td>910</td>\n",
       "      <td>284</td>\n",
       "      <td>381</td>\n",
       "      <td>459</td>\n",
       "      <td>8</td>\n",
       "    </tr>\n",
       "    <tr>\n",
       "      <th>20대</th>\n",
       "      <td>45</td>\n",
       "      <td>721</td>\n",
       "      <td>1622</td>\n",
       "      <td>1164</td>\n",
       "      <td>802</td>\n",
       "      <td>4</td>\n",
       "      <td>181</td>\n",
       "      <td>135</td>\n",
       "      <td>185</td>\n",
       "      <td>103</td>\n",
       "      <td>607</td>\n",
       "    </tr>\n",
       "    <tr>\n",
       "      <th>60대</th>\n",
       "      <td>42</td>\n",
       "      <td>8</td>\n",
       "      <td>98</td>\n",
       "      <td>40</td>\n",
       "      <td>48</td>\n",
       "      <td>366</td>\n",
       "      <td>52</td>\n",
       "      <td>10</td>\n",
       "      <td>20</td>\n",
       "      <td>17</td>\n",
       "      <td>0</td>\n",
       "    </tr>\n",
       "    <tr>\n",
       "      <th>10대</th>\n",
       "      <td>0</td>\n",
       "      <td>0</td>\n",
       "      <td>0</td>\n",
       "      <td>0</td>\n",
       "      <td>0</td>\n",
       "      <td>0</td>\n",
       "      <td>0</td>\n",
       "      <td>0</td>\n",
       "      <td>0</td>\n",
       "      <td>0</td>\n",
       "      <td>75</td>\n",
       "    </tr>\n",
       "    <tr>\n",
       "      <th>70대</th>\n",
       "      <td>12</td>\n",
       "      <td>0</td>\n",
       "      <td>8</td>\n",
       "      <td>2</td>\n",
       "      <td>1</td>\n",
       "      <td>286</td>\n",
       "      <td>5</td>\n",
       "      <td>0</td>\n",
       "      <td>1</td>\n",
       "      <td>0</td>\n",
       "      <td>0</td>\n",
       "    </tr>\n",
       "    <tr>\n",
       "      <th>80대</th>\n",
       "      <td>13</td>\n",
       "      <td>0</td>\n",
       "      <td>0</td>\n",
       "      <td>1</td>\n",
       "      <td>0</td>\n",
       "      <td>123</td>\n",
       "      <td>1</td>\n",
       "      <td>0</td>\n",
       "      <td>0</td>\n",
       "      <td>0</td>\n",
       "      <td>0</td>\n",
       "    </tr>\n",
       "    <tr>\n",
       "      <th>90대</th>\n",
       "      <td>0</td>\n",
       "      <td>0</td>\n",
       "      <td>0</td>\n",
       "      <td>0</td>\n",
       "      <td>0</td>\n",
       "      <td>10</td>\n",
       "      <td>0</td>\n",
       "      <td>0</td>\n",
       "      <td>0</td>\n",
       "      <td>0</td>\n",
       "      <td>0</td>\n",
       "    </tr>\n",
       "  </tbody>\n",
       "</table>\n",
       "</div>"
      ],
      "text/plain": [
       "      주부 서비스종사자   회사원 산업노동자   기술자   은퇴   공무원 미취업자 자영업자  기업가   학생\n",
       "50대  323    514  1325  1416   906  826   703  170  268  319    0\n",
       "30대  313   1694  4894  3777  3364   27  1072  415  566  558  185\n",
       "40대  312   1032  2475  2854  1622   78   910  284  381  459    8\n",
       "20대   45    721  1622  1164   802    4   181  135  185  103  607\n",
       "60대   42      8    98    40    48  366    52   10   20   17    0\n",
       "10대    0      0     0     0     0    0     0    0    0    0   75\n",
       "70대   12      0     8     2     1  286     5    0    1    0    0\n",
       "80대   13      0     0     1     0  123     1    0    0    0    0\n",
       "90대    0      0     0     0     0   10     0    0    0    0    0"
      ]
     },
     "execution_count": 10,
     "metadata": {},
     "output_type": "execute_result"
    }
   ],
   "source": [
    "make_pivot(df, '연령대','직업군')"
   ]
  },
  {
   "cell_type": "code",
   "execution_count": 11,
   "metadata": {},
   "outputs": [],
   "source": [
    "# df_raw\n",
    "def col_corr_chk(df):\n",
    "    for i in ['연령대','직업군','결혼여부','학력','신용카드소지여부','주택대출여부','개인대출여부']:\n",
    "        corr= [];\n",
    "        for j in ['연령대','직업군','결혼여부','학력','신용카드소지여부','주택대출여부','개인대출여부']:\n",
    "            chi, pval, dof, expected = stats.chi2_contingency(make_pivot(df, i,j))\n",
    "            if pval < 0.05:\n",
    "                # print(f'{'직업군'}과{'학력'}은 연관성이 있다.)\n",
    "                corr.append(j)\n",
    "        print(f'{i}과 {corr}은 연관성이있다.') #  직업군으로 나누는 것이 합리적임\n",
    "        "
   ]
  },
  {
   "cell_type": "code",
   "execution_count": 12,
   "metadata": {},
   "outputs": [
    {
     "name": "stdout",
     "output_type": "stream",
     "text": [
      "연령대과 ['연령대', '직업군', '결혼여부', '학력', '주택대출여부']은 연관성이있다.\n",
      "직업군과 ['연령대', '직업군', '결혼여부', '학력', '신용카드소지여부', '주택대출여부', '개인대출여부']은 연관성이있다.\n",
      "결혼여부과 ['연령대', '직업군', '결혼여부', '학력', '주택대출여부']은 연관성이있다.\n",
      "학력과 ['연령대', '직업군', '결혼여부', '학력', '주택대출여부']은 연관성이있다.\n",
      "신용카드소지여부과 ['직업군', '신용카드소지여부']은 연관성이있다.\n",
      "주택대출여부과 ['연령대', '직업군', '결혼여부', '학력', '주택대출여부', '개인대출여부']은 연관성이있다.\n",
      "개인대출여부과 ['직업군', '주택대출여부', '개인대출여부']은 연관성이있다.\n"
     ]
    }
   ],
   "source": [
    "col_corr_chk(df)"
   ]
  },
  {
   "cell_type": "markdown",
   "metadata": {},
   "source": [
    "-> 직업군으로 결측치 처리 대상 선정"
   ]
  },
  {
   "cell_type": "markdown",
   "metadata": {},
   "source": [
    "# 각 직업군별로 명목항목값의 가장 많은 걸로 테이블 형성\n"
   ]
  },
  {
   "cell_type": "code",
   "execution_count": 13,
   "metadata": {},
   "outputs": [
    {
     "data": {
      "text/html": [
       "<div>\n",
       "<style scoped>\n",
       "    .dataframe tbody tr th:only-of-type {\n",
       "        vertical-align: middle;\n",
       "    }\n",
       "\n",
       "    .dataframe tbody tr th {\n",
       "        vertical-align: top;\n",
       "    }\n",
       "\n",
       "    .dataframe thead th {\n",
       "        text-align: right;\n",
       "    }\n",
       "</style>\n",
       "<table border=\"1\" class=\"dataframe\">\n",
       "  <thead>\n",
       "    <tr style=\"text-align: right;\">\n",
       "      <th></th>\n",
       "      <th>결혼</th>\n",
       "      <th>미혼</th>\n",
       "      <th>이혼</th>\n",
       "    </tr>\n",
       "  </thead>\n",
       "  <tbody>\n",
       "    <tr>\n",
       "      <th>주부</th>\n",
       "      <td>777</td>\n",
       "      <td>119</td>\n",
       "      <td>161</td>\n",
       "    </tr>\n",
       "    <tr>\n",
       "      <th>서비스종사자</th>\n",
       "      <td>2294</td>\n",
       "      <td>1137</td>\n",
       "      <td>532</td>\n",
       "    </tr>\n",
       "    <tr>\n",
       "      <th>회사원</th>\n",
       "      <td>5253</td>\n",
       "      <td>3875</td>\n",
       "      <td>1280</td>\n",
       "    </tr>\n",
       "    <tr>\n",
       "      <th>산업노동자</th>\n",
       "      <td>6687</td>\n",
       "      <td>1825</td>\n",
       "      <td>728</td>\n",
       "    </tr>\n",
       "    <tr>\n",
       "      <th>기술자</th>\n",
       "      <td>3670</td>\n",
       "      <td>2287</td>\n",
       "      <td>774</td>\n",
       "    </tr>\n",
       "    <tr>\n",
       "      <th>은퇴</th>\n",
       "      <td>1274</td>\n",
       "      <td>93</td>\n",
       "      <td>348</td>\n",
       "    </tr>\n",
       "    <tr>\n",
       "      <th>공무원</th>\n",
       "      <td>2089</td>\n",
       "      <td>501</td>\n",
       "      <td>331</td>\n",
       "    </tr>\n",
       "    <tr>\n",
       "      <th>미취업자</th>\n",
       "      <td>634</td>\n",
       "      <td>251</td>\n",
       "      <td>124</td>\n",
       "    </tr>\n",
       "    <tr>\n",
       "      <th>자영업자</th>\n",
       "      <td>904</td>\n",
       "      <td>379</td>\n",
       "      <td>133</td>\n",
       "    </tr>\n",
       "    <tr>\n",
       "      <th>기업가</th>\n",
       "      <td>1071</td>\n",
       "      <td>203</td>\n",
       "      <td>179</td>\n",
       "    </tr>\n",
       "    <tr>\n",
       "      <th>학생</th>\n",
       "      <td>41</td>\n",
       "      <td>824</td>\n",
       "      <td>9</td>\n",
       "    </tr>\n",
       "  </tbody>\n",
       "</table>\n",
       "</div>"
      ],
      "text/plain": [
       "          결혼    미혼    이혼\n",
       "주부       777   119   161\n",
       "서비스종사자  2294  1137   532\n",
       "회사원     5253  3875  1280\n",
       "산업노동자   6687  1825   728\n",
       "기술자     3670  2287   774\n",
       "은퇴      1274    93   348\n",
       "공무원     2089   501   331\n",
       "미취업자     634   251   124\n",
       "자영업자     904   379   133\n",
       "기업가     1071   203   179\n",
       "학생        41   824     9"
      ]
     },
     "execution_count": 13,
     "metadata": {},
     "output_type": "execute_result"
    }
   ],
   "source": [
    "# tmp = make_pivot(df, '직업군','학력')\n",
    "tmp = make_pivot(df, '직업군','결혼여부')\n",
    "tmp"
   ]
  },
  {
   "cell_type": "markdown",
   "metadata": {},
   "source": [
    "['연령대', '결혼여부', '학력', '신용카드소지여부', '주택대출여부', '개인대출여부']"
   ]
  },
  {
   "cell_type": "code",
   "execution_count": 14,
   "metadata": {},
   "outputs": [],
   "source": [
    "col = '연령대'\n",
    "tmp = make_pivot(df, '직업군',col)\n",
    "total_job = []; total_info = [];\n",
    "for job in tmp.T.columns:\n",
    "    # 각 직업군당 max값을 추출해 max값에 해당하는 col추출 \n",
    "    col_ext = tmp.columns\n",
    "\n",
    "    each_row_max_bool = tmp.loc[job] == max(tmp.loc[job]) # max값에 해당하는 col(ex 학력)을 [T,F,F,F,] 이런식으로 추출해서 각 직업군에 유력 학력을 형성\n",
    "    for idx, bool in zip(range(len(each_row_max_bool)),\n",
    "                        each_row_max_bool):\n",
    "        if bool == True:\n",
    "            # print(job, col_ext[idx])\n",
    "            total_job.append(job); total_info.append(col_ext[idx])\n"
   ]
  },
  {
   "cell_type": "code",
   "execution_count": 15,
   "metadata": {},
   "outputs": [
    {
     "data": {
      "text/html": [
       "<div>\n",
       "<style scoped>\n",
       "    .dataframe tbody tr th:only-of-type {\n",
       "        vertical-align: middle;\n",
       "    }\n",
       "\n",
       "    .dataframe tbody tr th {\n",
       "        vertical-align: top;\n",
       "    }\n",
       "\n",
       "    .dataframe thead th {\n",
       "        text-align: right;\n",
       "    }\n",
       "</style>\n",
       "<table border=\"1\" class=\"dataframe\">\n",
       "  <thead>\n",
       "    <tr style=\"text-align: right;\">\n",
       "      <th></th>\n",
       "      <th>50대</th>\n",
       "      <th>30대</th>\n",
       "      <th>40대</th>\n",
       "      <th>20대</th>\n",
       "      <th>60대</th>\n",
       "      <th>10대</th>\n",
       "      <th>70대</th>\n",
       "      <th>80대</th>\n",
       "      <th>90대</th>\n",
       "    </tr>\n",
       "  </thead>\n",
       "  <tbody>\n",
       "    <tr>\n",
       "      <th>주부</th>\n",
       "      <td>323</td>\n",
       "      <td>313</td>\n",
       "      <td>312</td>\n",
       "      <td>45</td>\n",
       "      <td>42</td>\n",
       "      <td>0</td>\n",
       "      <td>12</td>\n",
       "      <td>13</td>\n",
       "      <td>0</td>\n",
       "    </tr>\n",
       "    <tr>\n",
       "      <th>서비스종사자</th>\n",
       "      <td>514</td>\n",
       "      <td>1694</td>\n",
       "      <td>1032</td>\n",
       "      <td>721</td>\n",
       "      <td>8</td>\n",
       "      <td>0</td>\n",
       "      <td>0</td>\n",
       "      <td>0</td>\n",
       "      <td>0</td>\n",
       "    </tr>\n",
       "    <tr>\n",
       "      <th>회사원</th>\n",
       "      <td>1325</td>\n",
       "      <td>4894</td>\n",
       "      <td>2475</td>\n",
       "      <td>1622</td>\n",
       "      <td>98</td>\n",
       "      <td>0</td>\n",
       "      <td>8</td>\n",
       "      <td>0</td>\n",
       "      <td>0</td>\n",
       "    </tr>\n",
       "    <tr>\n",
       "      <th>산업노동자</th>\n",
       "      <td>1416</td>\n",
       "      <td>3777</td>\n",
       "      <td>2854</td>\n",
       "      <td>1164</td>\n",
       "      <td>40</td>\n",
       "      <td>0</td>\n",
       "      <td>2</td>\n",
       "      <td>1</td>\n",
       "      <td>0</td>\n",
       "    </tr>\n",
       "    <tr>\n",
       "      <th>기술자</th>\n",
       "      <td>906</td>\n",
       "      <td>3364</td>\n",
       "      <td>1622</td>\n",
       "      <td>802</td>\n",
       "      <td>48</td>\n",
       "      <td>0</td>\n",
       "      <td>1</td>\n",
       "      <td>0</td>\n",
       "      <td>0</td>\n",
       "    </tr>\n",
       "    <tr>\n",
       "      <th>은퇴</th>\n",
       "      <td>826</td>\n",
       "      <td>27</td>\n",
       "      <td>78</td>\n",
       "      <td>4</td>\n",
       "      <td>366</td>\n",
       "      <td>0</td>\n",
       "      <td>286</td>\n",
       "      <td>123</td>\n",
       "      <td>10</td>\n",
       "    </tr>\n",
       "    <tr>\n",
       "      <th>공무원</th>\n",
       "      <td>703</td>\n",
       "      <td>1072</td>\n",
       "      <td>910</td>\n",
       "      <td>181</td>\n",
       "      <td>52</td>\n",
       "      <td>0</td>\n",
       "      <td>5</td>\n",
       "      <td>1</td>\n",
       "      <td>0</td>\n",
       "    </tr>\n",
       "    <tr>\n",
       "      <th>미취업자</th>\n",
       "      <td>170</td>\n",
       "      <td>415</td>\n",
       "      <td>284</td>\n",
       "      <td>135</td>\n",
       "      <td>10</td>\n",
       "      <td>0</td>\n",
       "      <td>0</td>\n",
       "      <td>0</td>\n",
       "      <td>0</td>\n",
       "    </tr>\n",
       "    <tr>\n",
       "      <th>자영업자</th>\n",
       "      <td>268</td>\n",
       "      <td>566</td>\n",
       "      <td>381</td>\n",
       "      <td>185</td>\n",
       "      <td>20</td>\n",
       "      <td>0</td>\n",
       "      <td>1</td>\n",
       "      <td>0</td>\n",
       "      <td>0</td>\n",
       "    </tr>\n",
       "    <tr>\n",
       "      <th>기업가</th>\n",
       "      <td>319</td>\n",
       "      <td>558</td>\n",
       "      <td>459</td>\n",
       "      <td>103</td>\n",
       "      <td>17</td>\n",
       "      <td>0</td>\n",
       "      <td>0</td>\n",
       "      <td>0</td>\n",
       "      <td>0</td>\n",
       "    </tr>\n",
       "    <tr>\n",
       "      <th>학생</th>\n",
       "      <td>0</td>\n",
       "      <td>185</td>\n",
       "      <td>8</td>\n",
       "      <td>607</td>\n",
       "      <td>0</td>\n",
       "      <td>75</td>\n",
       "      <td>0</td>\n",
       "      <td>0</td>\n",
       "      <td>0</td>\n",
       "    </tr>\n",
       "  </tbody>\n",
       "</table>\n",
       "</div>"
      ],
      "text/plain": [
       "         50대   30대   40대   20대  60대 10대  70대  80대 90대\n",
       "주부       323   313   312    45   42   0   12   13   0\n",
       "서비스종사자   514  1694  1032   721    8   0    0    0   0\n",
       "회사원     1325  4894  2475  1622   98   0    8    0   0\n",
       "산업노동자   1416  3777  2854  1164   40   0    2    1   0\n",
       "기술자      906  3364  1622   802   48   0    1    0   0\n",
       "은퇴       826    27    78     4  366   0  286  123  10\n",
       "공무원      703  1072   910   181   52   0    5    1   0\n",
       "미취업자     170   415   284   135   10   0    0    0   0\n",
       "자영업자     268   566   381   185   20   0    1    0   0\n",
       "기업가      319   558   459   103   17   0    0    0   0\n",
       "학생         0   185     8   607    0  75    0    0   0"
      ]
     },
     "execution_count": 15,
     "metadata": {},
     "output_type": "execute_result"
    }
   ],
   "source": [
    "make_pivot(df, '직업군','연령대')"
   ]
  },
  {
   "cell_type": "markdown",
   "metadata": {},
   "source": [
    "# 직업군의 미확인값 채우기 \n",
    "연령대 이용해서 각 연령대별 가장 많은 걸 넣음"
   ]
  },
  {
   "cell_type": "code",
   "execution_count": 16,
   "metadata": {},
   "outputs": [
    {
     "data": {
      "text/html": [
       "<div>\n",
       "<style scoped>\n",
       "    .dataframe tbody tr th:only-of-type {\n",
       "        vertical-align: middle;\n",
       "    }\n",
       "\n",
       "    .dataframe tbody tr th {\n",
       "        vertical-align: top;\n",
       "    }\n",
       "\n",
       "    .dataframe thead th {\n",
       "        text-align: right;\n",
       "    }\n",
       "</style>\n",
       "<table border=\"1\" class=\"dataframe\">\n",
       "  <thead>\n",
       "    <tr style=\"text-align: right;\">\n",
       "      <th></th>\n",
       "      <th>주부</th>\n",
       "      <th>서비스종사자</th>\n",
       "      <th>회사원</th>\n",
       "      <th>산업노동자</th>\n",
       "      <th>기술자</th>\n",
       "      <th>은퇴</th>\n",
       "      <th>공무원</th>\n",
       "      <th>미취업자</th>\n",
       "      <th>자영업자</th>\n",
       "      <th>기업가</th>\n",
       "      <th>학생</th>\n",
       "    </tr>\n",
       "  </thead>\n",
       "  <tbody>\n",
       "    <tr>\n",
       "      <th>50대</th>\n",
       "      <td>323</td>\n",
       "      <td>514</td>\n",
       "      <td>1325</td>\n",
       "      <td>1416</td>\n",
       "      <td>906</td>\n",
       "      <td>826</td>\n",
       "      <td>703</td>\n",
       "      <td>170</td>\n",
       "      <td>268</td>\n",
       "      <td>319</td>\n",
       "      <td>0</td>\n",
       "    </tr>\n",
       "    <tr>\n",
       "      <th>30대</th>\n",
       "      <td>313</td>\n",
       "      <td>1694</td>\n",
       "      <td>4894</td>\n",
       "      <td>3777</td>\n",
       "      <td>3364</td>\n",
       "      <td>27</td>\n",
       "      <td>1072</td>\n",
       "      <td>415</td>\n",
       "      <td>566</td>\n",
       "      <td>558</td>\n",
       "      <td>185</td>\n",
       "    </tr>\n",
       "    <tr>\n",
       "      <th>40대</th>\n",
       "      <td>312</td>\n",
       "      <td>1032</td>\n",
       "      <td>2475</td>\n",
       "      <td>2854</td>\n",
       "      <td>1622</td>\n",
       "      <td>78</td>\n",
       "      <td>910</td>\n",
       "      <td>284</td>\n",
       "      <td>381</td>\n",
       "      <td>459</td>\n",
       "      <td>8</td>\n",
       "    </tr>\n",
       "    <tr>\n",
       "      <th>20대</th>\n",
       "      <td>45</td>\n",
       "      <td>721</td>\n",
       "      <td>1622</td>\n",
       "      <td>1164</td>\n",
       "      <td>802</td>\n",
       "      <td>4</td>\n",
       "      <td>181</td>\n",
       "      <td>135</td>\n",
       "      <td>185</td>\n",
       "      <td>103</td>\n",
       "      <td>607</td>\n",
       "    </tr>\n",
       "    <tr>\n",
       "      <th>60대</th>\n",
       "      <td>42</td>\n",
       "      <td>8</td>\n",
       "      <td>98</td>\n",
       "      <td>40</td>\n",
       "      <td>48</td>\n",
       "      <td>366</td>\n",
       "      <td>52</td>\n",
       "      <td>10</td>\n",
       "      <td>20</td>\n",
       "      <td>17</td>\n",
       "      <td>0</td>\n",
       "    </tr>\n",
       "    <tr>\n",
       "      <th>10대</th>\n",
       "      <td>0</td>\n",
       "      <td>0</td>\n",
       "      <td>0</td>\n",
       "      <td>0</td>\n",
       "      <td>0</td>\n",
       "      <td>0</td>\n",
       "      <td>0</td>\n",
       "      <td>0</td>\n",
       "      <td>0</td>\n",
       "      <td>0</td>\n",
       "      <td>75</td>\n",
       "    </tr>\n",
       "    <tr>\n",
       "      <th>70대</th>\n",
       "      <td>12</td>\n",
       "      <td>0</td>\n",
       "      <td>8</td>\n",
       "      <td>2</td>\n",
       "      <td>1</td>\n",
       "      <td>286</td>\n",
       "      <td>5</td>\n",
       "      <td>0</td>\n",
       "      <td>1</td>\n",
       "      <td>0</td>\n",
       "      <td>0</td>\n",
       "    </tr>\n",
       "    <tr>\n",
       "      <th>80대</th>\n",
       "      <td>13</td>\n",
       "      <td>0</td>\n",
       "      <td>0</td>\n",
       "      <td>1</td>\n",
       "      <td>0</td>\n",
       "      <td>123</td>\n",
       "      <td>1</td>\n",
       "      <td>0</td>\n",
       "      <td>0</td>\n",
       "      <td>0</td>\n",
       "      <td>0</td>\n",
       "    </tr>\n",
       "    <tr>\n",
       "      <th>90대</th>\n",
       "      <td>0</td>\n",
       "      <td>0</td>\n",
       "      <td>0</td>\n",
       "      <td>0</td>\n",
       "      <td>0</td>\n",
       "      <td>10</td>\n",
       "      <td>0</td>\n",
       "      <td>0</td>\n",
       "      <td>0</td>\n",
       "      <td>0</td>\n",
       "      <td>0</td>\n",
       "    </tr>\n",
       "  </tbody>\n",
       "</table>\n",
       "</div>"
      ],
      "text/plain": [
       "      주부 서비스종사자   회사원 산업노동자   기술자   은퇴   공무원 미취업자 자영업자  기업가   학생\n",
       "50대  323    514  1325  1416   906  826   703  170  268  319    0\n",
       "30대  313   1694  4894  3777  3364   27  1072  415  566  558  185\n",
       "40대  312   1032  2475  2854  1622   78   910  284  381  459    8\n",
       "20대   45    721  1622  1164   802    4   181  135  185  103  607\n",
       "60대   42      8    98    40    48  366    52   10   20   17    0\n",
       "10대    0      0     0     0     0    0     0    0    0    0   75\n",
       "70대   12      0     8     2     1  286     5    0    1    0    0\n",
       "80대   13      0     0     1     0  123     1    0    0    0    0\n",
       "90대    0      0     0     0     0   10     0    0    0    0    0"
      ]
     },
     "execution_count": 16,
     "metadata": {},
     "output_type": "execute_result"
    }
   ],
   "source": [
    "make_pivot(df, '연령대','직업군')"
   ]
  },
  {
   "cell_type": "markdown",
   "metadata": {},
   "source": [
    "## 직업군별 가장 많은 값들 추산"
   ]
  },
  {
   "cell_type": "code",
   "execution_count": 17,
   "metadata": {},
   "outputs": [],
   "source": [
    "def job_missing_fill(df):\n",
    "    col = '직업군'\n",
    "    tmp =make_pivot(df, '연령대','직업군')\n",
    "    total_job = []; total_info = [];\n",
    "    for job in tmp.T.columns:\n",
    "        # 각 직업군당 max값을 추출해 max값에 해당하는 col추출 \n",
    "        col_ext = tmp.columns\n",
    "\n",
    "        each_row_max_bool = tmp.loc[job] == max(tmp.loc[job]) # max값에 해당하는 col(ex 학력)을 [T,F,F,F,] 이런식으로 추출해서 각 직업군에 유력 학력을 형성\n",
    "        for idx, bool in zip(range(len(list(each_row_max_bool))),\n",
    "                            list(each_row_max_bool)):\n",
    "            if bool == True:\n",
    "                # print(job, col_ext[idx])\n",
    "                total_job.append(job); total_info.append(col_ext[idx])\n",
    "\n",
    "\n",
    "        total_gb_job = pd.DataFrame(data = {'연령대':total_job,\n",
    "                        col:total_info})\n",
    "        total_gb_job = total_gb_job.set_index('연령대')\n",
    "    return total_gb_job"
   ]
  },
  {
   "cell_type": "code",
   "execution_count": 18,
   "metadata": {},
   "outputs": [],
   "source": [
    "job_fill = job_missing_fill(df)"
   ]
  },
  {
   "cell_type": "code",
   "execution_count": 19,
   "metadata": {},
   "outputs": [
    {
     "data": {
      "text/html": [
       "<div>\n",
       "<style scoped>\n",
       "    .dataframe tbody tr th:only-of-type {\n",
       "        vertical-align: middle;\n",
       "    }\n",
       "\n",
       "    .dataframe tbody tr th {\n",
       "        vertical-align: top;\n",
       "    }\n",
       "\n",
       "    .dataframe thead th {\n",
       "        text-align: right;\n",
       "    }\n",
       "</style>\n",
       "<table border=\"1\" class=\"dataframe\">\n",
       "  <thead>\n",
       "    <tr style=\"text-align: right;\">\n",
       "      <th></th>\n",
       "      <th>직업군</th>\n",
       "    </tr>\n",
       "    <tr>\n",
       "      <th>연령대</th>\n",
       "      <th></th>\n",
       "    </tr>\n",
       "  </thead>\n",
       "  <tbody>\n",
       "    <tr>\n",
       "      <th>50대</th>\n",
       "      <td>산업노동자</td>\n",
       "    </tr>\n",
       "    <tr>\n",
       "      <th>30대</th>\n",
       "      <td>회사원</td>\n",
       "    </tr>\n",
       "    <tr>\n",
       "      <th>40대</th>\n",
       "      <td>산업노동자</td>\n",
       "    </tr>\n",
       "    <tr>\n",
       "      <th>20대</th>\n",
       "      <td>회사원</td>\n",
       "    </tr>\n",
       "    <tr>\n",
       "      <th>60대</th>\n",
       "      <td>은퇴</td>\n",
       "    </tr>\n",
       "    <tr>\n",
       "      <th>10대</th>\n",
       "      <td>학생</td>\n",
       "    </tr>\n",
       "    <tr>\n",
       "      <th>70대</th>\n",
       "      <td>은퇴</td>\n",
       "    </tr>\n",
       "    <tr>\n",
       "      <th>80대</th>\n",
       "      <td>은퇴</td>\n",
       "    </tr>\n",
       "    <tr>\n",
       "      <th>90대</th>\n",
       "      <td>은퇴</td>\n",
       "    </tr>\n",
       "  </tbody>\n",
       "</table>\n",
       "</div>"
      ],
      "text/plain": [
       "       직업군\n",
       "연령대       \n",
       "50대  산업노동자\n",
       "30대    회사원\n",
       "40대  산업노동자\n",
       "20대    회사원\n",
       "60대     은퇴\n",
       "10대     학생\n",
       "70대     은퇴\n",
       "80대     은퇴\n",
       "90대     은퇴"
      ]
     },
     "execution_count": 19,
     "metadata": {},
     "output_type": "execute_result"
    }
   ],
   "source": [
    "job_fill"
   ]
  },
  {
   "cell_type": "code",
   "execution_count": 20,
   "metadata": {},
   "outputs": [],
   "source": [
    "def fill_job(df):\n",
    "    # df 직업군 미확인값 채우기\n",
    "    for age in job_fill.index:\n",
    "        df.loc[(df['연령대'] == age) & (df['직업군'] == '미확인'),'직업군'] = job_fill.loc[age,'직업군']\n",
    "    return df"
   ]
  },
  {
   "cell_type": "code",
   "execution_count": 21,
   "metadata": {},
   "outputs": [],
   "source": [
    "df = fill_job(df)\n",
    "dict_ = dict.fromkeys(df.columns)\n",
    "for i in df.columns:\n",
    "    dict_[i] = len(df[df[i]=='미확인'])"
   ]
  },
  {
   "cell_type": "code",
   "execution_count": 22,
   "metadata": {},
   "outputs": [
    {
     "data": {
      "text/plain": [
       "{'연령': 0,\n",
       " '직업군': 0,\n",
       " '결혼여부': 80,\n",
       " '학력': 1731,\n",
       " '신용카드소지여부': 8597,\n",
       " '주택대출여부': 990,\n",
       " '개인대출여부': 990,\n",
       " 'contact': 0,\n",
       " '통화시간': 0,\n",
       " '연락시도횟수': 0,\n",
       " 'p_days': 0,\n",
       " '과거통화횟수': 0,\n",
       " '계약여부': 0,\n",
       " '카드종류': 0,\n",
       " '연락일': 0,\n",
       " '연령대': 0}"
      ]
     },
     "execution_count": 22,
     "metadata": {},
     "output_type": "execute_result"
    }
   ],
   "source": [
    "dict_ # 실제로 직업군 결측치 처리 완료"
   ]
  },
  {
   "cell_type": "markdown",
   "metadata": {},
   "source": [
    "각 직업별로 체크해서 값 넣기"
   ]
  },
  {
   "cell_type": "code",
   "execution_count": 23,
   "metadata": {},
   "outputs": [],
   "source": [
    "def total_gb_job(df):\n",
    "    for col in ['결혼여부', '학력', '신용카드소지여부', '주택대출여부', '개인대출여부']:\n",
    "        tmp = make_pivot(df, '직업군',col)\n",
    "        total_job = []; total_info = [];\n",
    "        for job in tmp.T.columns:\n",
    "            # 각 직업군당 max값을 추출해 max값에 해당하는 col추출 \n",
    "            col_ext = list(tmp.columns)\n",
    "\n",
    "            each_row_max_bool = tmp.loc[job] == max(tmp.loc[job]) # max값에 해당하는 col(ex 학력)을 [T,F,F,F,] 이런식으로 추출해서 각 직업군에 유력 학력을 형성\n",
    "            for idx, bool in zip(range(len(list(each_row_max_bool))),\n",
    "                                list(each_row_max_bool)):\n",
    "                if bool == True:\n",
    "                    # print(job, col_ext[idx])\n",
    "                    total_job.append(job); total_info.append(col_ext[idx])\n",
    "\n",
    "        if col == '결혼여부':\n",
    "            total_gb_job = pd.DataFrame(data = {'직업군':total_job,\n",
    "                            col:total_info})\n",
    "\n",
    "        else:\n",
    "            gb_job = pd.DataFrame(data = {'직업군':total_job,\n",
    "                            col:total_info})\n",
    "            total_gb_job = total_gb_job.merge(gb_job, on = '직업군')\n",
    "    \n",
    "    total_gb_job = total_gb_job.set_index('직업군')\n",
    "    return total_gb_job\n"
   ]
  },
  {
   "cell_type": "code",
   "execution_count": 24,
   "metadata": {},
   "outputs": [],
   "source": [
    "total_gb_job = total_gb_job(df)"
   ]
  },
  {
   "cell_type": "code",
   "execution_count": 25,
   "metadata": {},
   "outputs": [
    {
     "data": {
      "text/html": [
       "<div>\n",
       "<style scoped>\n",
       "    .dataframe tbody tr th:only-of-type {\n",
       "        vertical-align: middle;\n",
       "    }\n",
       "\n",
       "    .dataframe tbody tr th {\n",
       "        vertical-align: top;\n",
       "    }\n",
       "\n",
       "    .dataframe thead th {\n",
       "        text-align: right;\n",
       "    }\n",
       "</style>\n",
       "<table border=\"1\" class=\"dataframe\">\n",
       "  <thead>\n",
       "    <tr style=\"text-align: right;\">\n",
       "      <th></th>\n",
       "      <th>결혼여부</th>\n",
       "      <th>학력</th>\n",
       "      <th>신용카드소지여부</th>\n",
       "      <th>주택대출여부</th>\n",
       "      <th>개인대출여부</th>\n",
       "    </tr>\n",
       "    <tr>\n",
       "      <th>직업군</th>\n",
       "      <th></th>\n",
       "      <th></th>\n",
       "      <th></th>\n",
       "      <th></th>\n",
       "      <th></th>\n",
       "    </tr>\n",
       "  </thead>\n",
       "  <tbody>\n",
       "    <tr>\n",
       "      <th>주부</th>\n",
       "      <td>결혼</td>\n",
       "      <td>중졸</td>\n",
       "      <td>없음</td>\n",
       "      <td>대출있음</td>\n",
       "      <td>없음</td>\n",
       "    </tr>\n",
       "    <tr>\n",
       "      <th>서비스종사자</th>\n",
       "      <td>결혼</td>\n",
       "      <td>전문학교</td>\n",
       "      <td>없음</td>\n",
       "      <td>대출있음</td>\n",
       "      <td>없음</td>\n",
       "    </tr>\n",
       "    <tr>\n",
       "      <th>회사원</th>\n",
       "      <td>결혼</td>\n",
       "      <td>대졸학사</td>\n",
       "      <td>없음</td>\n",
       "      <td>대출있음</td>\n",
       "      <td>없음</td>\n",
       "    </tr>\n",
       "    <tr>\n",
       "      <th>산업노동자</th>\n",
       "      <td>결혼</td>\n",
       "      <td>고졸</td>\n",
       "      <td>없음</td>\n",
       "      <td>대출있음</td>\n",
       "      <td>없음</td>\n",
       "    </tr>\n",
       "    <tr>\n",
       "      <th>기술자</th>\n",
       "      <td>결혼</td>\n",
       "      <td>석박사</td>\n",
       "      <td>없음</td>\n",
       "      <td>대출있음</td>\n",
       "      <td>없음</td>\n",
       "    </tr>\n",
       "    <tr>\n",
       "      <th>은퇴</th>\n",
       "      <td>결혼</td>\n",
       "      <td>중졸</td>\n",
       "      <td>없음</td>\n",
       "      <td>대출있음</td>\n",
       "      <td>없음</td>\n",
       "    </tr>\n",
       "    <tr>\n",
       "      <th>공무원</th>\n",
       "      <td>결혼</td>\n",
       "      <td>대졸학사</td>\n",
       "      <td>없음</td>\n",
       "      <td>대출있음</td>\n",
       "      <td>없음</td>\n",
       "    </tr>\n",
       "    <tr>\n",
       "      <th>미취업자</th>\n",
       "      <td>결혼</td>\n",
       "      <td>대졸학사</td>\n",
       "      <td>없음</td>\n",
       "      <td>대출있음</td>\n",
       "      <td>없음</td>\n",
       "    </tr>\n",
       "    <tr>\n",
       "      <th>자영업자</th>\n",
       "      <td>결혼</td>\n",
       "      <td>대졸학사</td>\n",
       "      <td>없음</td>\n",
       "      <td>대출있음</td>\n",
       "      <td>없음</td>\n",
       "    </tr>\n",
       "    <tr>\n",
       "      <th>기업가</th>\n",
       "      <td>결혼</td>\n",
       "      <td>대졸학사</td>\n",
       "      <td>없음</td>\n",
       "      <td>대출있음</td>\n",
       "      <td>없음</td>\n",
       "    </tr>\n",
       "    <tr>\n",
       "      <th>학생</th>\n",
       "      <td>미혼</td>\n",
       "      <td>전문학교</td>\n",
       "      <td>없음</td>\n",
       "      <td>대출있음</td>\n",
       "      <td>없음</td>\n",
       "    </tr>\n",
       "  </tbody>\n",
       "</table>\n",
       "</div>"
      ],
      "text/plain": [
       "       결혼여부    학력 신용카드소지여부 주택대출여부 개인대출여부\n",
       "직업군                                     \n",
       "주부       결혼    중졸       없음   대출있음     없음\n",
       "서비스종사자   결혼  전문학교       없음   대출있음     없음\n",
       "회사원      결혼  대졸학사       없음   대출있음     없음\n",
       "산업노동자    결혼    고졸       없음   대출있음     없음\n",
       "기술자      결혼   석박사       없음   대출있음     없음\n",
       "은퇴       결혼    중졸       없음   대출있음     없음\n",
       "공무원      결혼  대졸학사       없음   대출있음     없음\n",
       "미취업자     결혼  대졸학사       없음   대출있음     없음\n",
       "자영업자     결혼  대졸학사       없음   대출있음     없음\n",
       "기업가      결혼  대졸학사       없음   대출있음     없음\n",
       "학생       미혼  전문학교       없음   대출있음     없음"
      ]
     },
     "execution_count": 25,
     "metadata": {},
     "output_type": "execute_result"
    }
   ],
   "source": [
    "total_gb_job"
   ]
  },
  {
   "cell_type": "code",
   "execution_count": 26,
   "metadata": {},
   "outputs": [
    {
     "data": {
      "text/html": [
       "<div>\n",
       "<style scoped>\n",
       "    .dataframe tbody tr th:only-of-type {\n",
       "        vertical-align: middle;\n",
       "    }\n",
       "\n",
       "    .dataframe tbody tr th {\n",
       "        vertical-align: top;\n",
       "    }\n",
       "\n",
       "    .dataframe thead th {\n",
       "        text-align: right;\n",
       "    }\n",
       "</style>\n",
       "<table border=\"1\" class=\"dataframe\">\n",
       "  <thead>\n",
       "    <tr style=\"text-align: right;\">\n",
       "      <th></th>\n",
       "      <th>직업군</th>\n",
       "      <th>결혼여부</th>\n",
       "    </tr>\n",
       "  </thead>\n",
       "  <tbody>\n",
       "    <tr>\n",
       "      <th>34423</th>\n",
       "      <td>학생</td>\n",
       "      <td>미확인</td>\n",
       "    </tr>\n",
       "  </tbody>\n",
       "</table>\n",
       "</div>"
      ],
      "text/plain": [
       "      직업군 결혼여부\n",
       "34423  학생  미확인"
      ]
     },
     "execution_count": 26,
     "metadata": {},
     "output_type": "execute_result"
    }
   ],
   "source": [
    "df[(df['직업군'] == job) & (df['결혼여부'] == '미확인')][['직업군','결혼여부']]"
   ]
  },
  {
   "cell_type": "code",
   "execution_count": 27,
   "metadata": {},
   "outputs": [],
   "source": [
    "# 결측치 처리가 된 직업군을 기준으로 나머지 결혼여부~ 개인대출 여부 col의 미확인 값 처리 \n",
    "def fill_all_ext(df):\n",
    "    for fill_col in total_gb_job.columns:\n",
    "        for job in total_gb_job.index:\n",
    "            df.loc[(df['직업군'] == job) & (df[fill_col] == '미확인'),fill_col] = total_gb_job.loc[job,fill_col]\n",
    "    return df"
   ]
  },
  {
   "cell_type": "code",
   "execution_count": 28,
   "metadata": {},
   "outputs": [
    {
     "data": {
      "text/plain": [
       "\"for job, ch_col in zip(total_gb_job.index,total_gb_job.columns):\\n    df.loc[(df['직업군'] == job) & (df[ch_col] == '미확인'),ch_col] = total_gb_job.loc[job,ch_col]\""
      ]
     },
     "execution_count": 28,
     "metadata": {},
     "output_type": "execute_result"
    }
   ],
   "source": [
    "'''for job, ch_col in zip(total_gb_job.index,total_gb_job.columns):\n",
    "    df.loc[(df['직업군'] == job) & (df[ch_col] == '미확인'),ch_col] = total_gb_job.loc[job,ch_col]'''"
   ]
  },
  {
   "cell_type": "code",
   "execution_count": 29,
   "metadata": {},
   "outputs": [
    {
     "data": {
      "text/plain": [
       "\"ch_col = '결혼여부'\\nfor ch_col in total_gb_job.columns:\\n    df.loc[(df['직업군'] == job) & (df[ch_col] == '미확인'), ch_col] = total_gb_job.loc[job, ch_col]\""
      ]
     },
     "execution_count": 29,
     "metadata": {},
     "output_type": "execute_result"
    }
   ],
   "source": [
    "'''ch_col = '결혼여부'\n",
    "for ch_col in total_gb_job.columns:\n",
    "    df.loc[(df['직업군'] == job) & (df[ch_col] == '미확인'), ch_col] = total_gb_job.loc[job, ch_col]'''"
   ]
  },
  {
   "cell_type": "code",
   "execution_count": 30,
   "metadata": {},
   "outputs": [],
   "source": [
    "df = fill_all_ext(df)\n",
    "dict_ = dict.fromkeys(df.columns)\n",
    "for i in df.columns:\n",
    "    dict_[i] = len(df[df[i]=='미확인'])"
   ]
  },
  {
   "cell_type": "code",
   "execution_count": 31,
   "metadata": {},
   "outputs": [
    {
     "name": "stdout",
     "output_type": "stream",
     "text": [
      "{'연령': 0, '직업군': 0, '결혼여부': 0, '학력': 0, '신용카드소지여부': 0, '주택대출여부': 0, '개인대출여부': 0, 'contact': 0, '통화시간': 0, '연락시도횟수': 0, 'p_days': 0, '과거통화횟수': 0, '계약여부': 0, '카드종류': 0, '연락일': 0, '연령대': 0}\n",
      "연령          0\n",
      "직업군         0\n",
      "결혼여부        0\n",
      "학력          0\n",
      "신용카드소지여부    0\n",
      "주택대출여부      0\n",
      "개인대출여부      0\n",
      "contact     0\n",
      "통화시간        0\n",
      "연락시도횟수      0\n",
      "p_days      0\n",
      "과거통화횟수      0\n",
      "계약여부        0\n",
      "카드종류        0\n",
      "연락일         0\n",
      "연령대         0\n",
      "dtype: int64\n"
     ]
    }
   ],
   "source": [
    "print(dict_) # 미확인값도 다 처리됨\n",
    "print(df.isna().sum()) # 결측치처리도 완료"
   ]
  },
  {
   "cell_type": "markdown",
   "metadata": {},
   "source": [
    "---"
   ]
  },
  {
   "cell_type": "markdown",
   "metadata": {},
   "source": [
    "\n",
    "# 파생변수 생성\n"
   ]
  },
  {
   "cell_type": "markdown",
   "metadata": {},
   "source": [
    "1. 연령대"
   ]
  },
  {
   "cell_type": "code",
   "execution_count": 32,
   "metadata": {},
   "outputs": [],
   "source": [
    "def age_group(x):\n",
    "    if x<10:\n",
    "        return '유아'\n",
    "    elif 10<=x<20:\n",
    "        return '10대'\n",
    "    elif 20<=x<30:\n",
    "        return '20대'\n",
    "    elif 30<=x<40:\n",
    "        return '30대'\n",
    "    elif 40<=x<50:\n",
    "        return '40대'\n",
    "    elif 50<=x<60:\n",
    "        return '50대'\n",
    "    elif 60<=x<70:\n",
    "        return '60대'\n",
    "    elif 70<=x<80:\n",
    "        return '70대'\n",
    "    elif 80<=x<90:\n",
    "        return '80대'\n",
    "    else:\n",
    "        return '90대'"
   ]
  },
  {
   "cell_type": "markdown",
   "metadata": {},
   "source": [
    "2. 년도, 요일, 달, 일, 공휴일"
   ]
  },
  {
   "cell_type": "code",
   "execution_count": 33,
   "metadata": {},
   "outputs": [],
   "source": [
    "def ch_day(x):\n",
    "    if x == 'Monday':\n",
    "        return '월요일'\n",
    "    elif x == 'Tuesday':\n",
    "        return '화요일'\n",
    "    elif x == 'Wednesday':\n",
    "        return '수요일'\n",
    "    elif x == 'Thursday':\n",
    "        return '목요일'\n",
    "    elif x == 'Friday':\n",
    "        return '금요일'\n",
    "    elif x == 'Saturday':\n",
    "        return '토요일'\n",
    "    else:\n",
    "        return '일요일'\n",
    "    "
   ]
  },
  {
   "cell_type": "code",
   "execution_count": 34,
   "metadata": {},
   "outputs": [
    {
     "data": {
      "text/plain": [
       "Index(['연령', '직업군', '결혼여부', '학력', '신용카드소지여부', '주택대출여부', '개인대출여부', 'contact',\n",
       "       '통화시간', '연락시도횟수', 'p_days', '과거통화횟수', '계약여부', '카드종류', '연락일', '연령대'],\n",
       "      dtype='object')"
      ]
     },
     "execution_count": 34,
     "metadata": {},
     "output_type": "execute_result"
    }
   ],
   "source": [
    "df.columns"
   ]
  },
  {
   "cell_type": "code",
   "execution_count": 35,
   "metadata": {},
   "outputs": [
    {
     "name": "stdout",
     "output_type": "stream",
     "text": [
      "<class 'pandas.core.frame.DataFrame'>\n",
      "RangeIndex: 41188 entries, 0 to 41187\n",
      "Data columns (total 16 columns):\n",
      " #   Column    Non-Null Count  Dtype         \n",
      "---  ------    --------------  -----         \n",
      " 0   연령        41188 non-null  int64         \n",
      " 1   직업군       41188 non-null  object        \n",
      " 2   결혼여부      41188 non-null  object        \n",
      " 3   학력        41188 non-null  object        \n",
      " 4   신용카드소지여부  41188 non-null  object        \n",
      " 5   주택대출여부    41188 non-null  object        \n",
      " 6   개인대출여부    41188 non-null  object        \n",
      " 7   contact   41188 non-null  object        \n",
      " 8   통화시간      41188 non-null  int64         \n",
      " 9   연락시도횟수    41188 non-null  int64         \n",
      " 10  p_days    41188 non-null  float64       \n",
      " 11  과거통화횟수    41188 non-null  int64         \n",
      " 12  계약여부      41188 non-null  object        \n",
      " 13  카드종류      41188 non-null  int64         \n",
      " 14  연락일       41188 non-null  datetime64[ns]\n",
      " 15  연령대       41188 non-null  object        \n",
      "dtypes: datetime64[ns](1), float64(1), int64(5), object(9)\n",
      "memory usage: 5.0+ MB\n"
     ]
    }
   ],
   "source": [
    "df['연락일'] = pd.to_datetime(df['연락일'])\n",
    "df.info()"
   ]
  },
  {
   "cell_type": "code",
   "execution_count": 36,
   "metadata": {},
   "outputs": [],
   "source": [
    "df['연락년도'] = df['연락일'].dt.year # dt.year 함수 사용\n",
    "df['연락달'] = df['연락일'].dt.month #월\n",
    "df['연락날'] = df['연락일'].dt.day # 몇일에 \n",
    "df['연락요일'] = df['연락일'].dt.day_name() # 몇요일인지"
   ]
  },
  {
   "cell_type": "code",
   "execution_count": 37,
   "metadata": {},
   "outputs": [
    {
     "data": {
      "text/html": [
       "<div>\n",
       "<style scoped>\n",
       "    .dataframe tbody tr th:only-of-type {\n",
       "        vertical-align: middle;\n",
       "    }\n",
       "\n",
       "    .dataframe tbody tr th {\n",
       "        vertical-align: top;\n",
       "    }\n",
       "\n",
       "    .dataframe thead th {\n",
       "        text-align: right;\n",
       "    }\n",
       "</style>\n",
       "<table border=\"1\" class=\"dataframe\">\n",
       "  <thead>\n",
       "    <tr style=\"text-align: right;\">\n",
       "      <th></th>\n",
       "      <th>연령</th>\n",
       "      <th>직업군</th>\n",
       "      <th>결혼여부</th>\n",
       "      <th>학력</th>\n",
       "      <th>신용카드소지여부</th>\n",
       "      <th>주택대출여부</th>\n",
       "      <th>개인대출여부</th>\n",
       "      <th>contact</th>\n",
       "      <th>통화시간</th>\n",
       "      <th>연락시도횟수</th>\n",
       "      <th>p_days</th>\n",
       "      <th>과거통화횟수</th>\n",
       "      <th>계약여부</th>\n",
       "      <th>카드종류</th>\n",
       "      <th>연락일</th>\n",
       "      <th>연령대</th>\n",
       "      <th>연락년도</th>\n",
       "      <th>연락달</th>\n",
       "      <th>연락날</th>\n",
       "      <th>연락요일</th>\n",
       "    </tr>\n",
       "  </thead>\n",
       "  <tbody>\n",
       "    <tr>\n",
       "      <th>0</th>\n",
       "      <td>56</td>\n",
       "      <td>주부</td>\n",
       "      <td>결혼</td>\n",
       "      <td>중졸</td>\n",
       "      <td>없음</td>\n",
       "      <td>없음</td>\n",
       "      <td>없음</td>\n",
       "      <td>유선전화</td>\n",
       "      <td>261</td>\n",
       "      <td>1</td>\n",
       "      <td>-1.0</td>\n",
       "      <td>0</td>\n",
       "      <td>no</td>\n",
       "      <td>87</td>\n",
       "      <td>2020-01-03</td>\n",
       "      <td>50대</td>\n",
       "      <td>2020</td>\n",
       "      <td>1</td>\n",
       "      <td>3</td>\n",
       "      <td>Friday</td>\n",
       "    </tr>\n",
       "    <tr>\n",
       "      <th>1</th>\n",
       "      <td>57</td>\n",
       "      <td>서비스종사자</td>\n",
       "      <td>결혼</td>\n",
       "      <td>전문학교</td>\n",
       "      <td>없음</td>\n",
       "      <td>없음</td>\n",
       "      <td>없음</td>\n",
       "      <td>유선전화</td>\n",
       "      <td>149</td>\n",
       "      <td>1</td>\n",
       "      <td>-1.0</td>\n",
       "      <td>0</td>\n",
       "      <td>no</td>\n",
       "      <td>88</td>\n",
       "      <td>2020-01-03</td>\n",
       "      <td>50대</td>\n",
       "      <td>2020</td>\n",
       "      <td>1</td>\n",
       "      <td>3</td>\n",
       "      <td>Friday</td>\n",
       "    </tr>\n",
       "    <tr>\n",
       "      <th>2</th>\n",
       "      <td>37</td>\n",
       "      <td>서비스종사자</td>\n",
       "      <td>결혼</td>\n",
       "      <td>전문학교</td>\n",
       "      <td>없음</td>\n",
       "      <td>대출있음</td>\n",
       "      <td>없음</td>\n",
       "      <td>유선전화</td>\n",
       "      <td>226</td>\n",
       "      <td>1</td>\n",
       "      <td>-1.0</td>\n",
       "      <td>0</td>\n",
       "      <td>no</td>\n",
       "      <td>89</td>\n",
       "      <td>2020-01-03</td>\n",
       "      <td>30대</td>\n",
       "      <td>2020</td>\n",
       "      <td>1</td>\n",
       "      <td>3</td>\n",
       "      <td>Friday</td>\n",
       "    </tr>\n",
       "    <tr>\n",
       "      <th>3</th>\n",
       "      <td>40</td>\n",
       "      <td>회사원</td>\n",
       "      <td>결혼</td>\n",
       "      <td>검정고시</td>\n",
       "      <td>없음</td>\n",
       "      <td>없음</td>\n",
       "      <td>없음</td>\n",
       "      <td>유선전화</td>\n",
       "      <td>151</td>\n",
       "      <td>1</td>\n",
       "      <td>-1.0</td>\n",
       "      <td>0</td>\n",
       "      <td>no</td>\n",
       "      <td>90</td>\n",
       "      <td>2020-01-03</td>\n",
       "      <td>40대</td>\n",
       "      <td>2020</td>\n",
       "      <td>1</td>\n",
       "      <td>3</td>\n",
       "      <td>Friday</td>\n",
       "    </tr>\n",
       "    <tr>\n",
       "      <th>4</th>\n",
       "      <td>56</td>\n",
       "      <td>서비스종사자</td>\n",
       "      <td>결혼</td>\n",
       "      <td>전문학교</td>\n",
       "      <td>없음</td>\n",
       "      <td>없음</td>\n",
       "      <td>대출있음</td>\n",
       "      <td>유선전화</td>\n",
       "      <td>307</td>\n",
       "      <td>1</td>\n",
       "      <td>-1.0</td>\n",
       "      <td>0</td>\n",
       "      <td>no</td>\n",
       "      <td>91</td>\n",
       "      <td>2020-01-03</td>\n",
       "      <td>50대</td>\n",
       "      <td>2020</td>\n",
       "      <td>1</td>\n",
       "      <td>3</td>\n",
       "      <td>Friday</td>\n",
       "    </tr>\n",
       "  </tbody>\n",
       "</table>\n",
       "</div>"
      ],
      "text/plain": [
       "   연령     직업군 결혼여부    학력 신용카드소지여부 주택대출여부 개인대출여부 contact  통화시간  연락시도횟수  p_days  \\\n",
       "0  56      주부   결혼    중졸       없음     없음     없음    유선전화   261       1    -1.0   \n",
       "1  57  서비스종사자   결혼  전문학교       없음     없음     없음    유선전화   149       1    -1.0   \n",
       "2  37  서비스종사자   결혼  전문학교       없음   대출있음     없음    유선전화   226       1    -1.0   \n",
       "3  40     회사원   결혼  검정고시       없음     없음     없음    유선전화   151       1    -1.0   \n",
       "4  56  서비스종사자   결혼  전문학교       없음     없음   대출있음    유선전화   307       1    -1.0   \n",
       "\n",
       "   과거통화횟수 계약여부  카드종류        연락일  연령대  연락년도  연락달  연락날    연락요일  \n",
       "0       0   no    87 2020-01-03  50대  2020    1    3  Friday  \n",
       "1       0   no    88 2020-01-03  50대  2020    1    3  Friday  \n",
       "2       0   no    89 2020-01-03  30대  2020    1    3  Friday  \n",
       "3       0   no    90 2020-01-03  40대  2020    1    3  Friday  \n",
       "4       0   no    91 2020-01-03  50대  2020    1    3  Friday  "
      ]
     },
     "execution_count": 37,
     "metadata": {},
     "output_type": "execute_result"
    }
   ],
   "source": [
    "df.head()"
   ]
  },
  {
   "cell_type": "code",
   "execution_count": 38,
   "metadata": {},
   "outputs": [],
   "source": [
    "df['연락요일'] = df['연락요일'].apply(ch_day)"
   ]
  },
  {
   "cell_type": "markdown",
   "metadata": {},
   "source": [
    "## 공휴일과 평일의 텔레마케팅 성공여부"
   ]
  },
  {
   "cell_type": "code",
   "execution_count": 39,
   "metadata": {},
   "outputs": [],
   "source": [
    "from pytimekr import pytimekr\n",
    "\n",
    "list_2020 = pytimekr.holidays(2020) # 2020  holidays메소드는 리스트 형태로 관련값 반환\n",
    "list_2021 = pytimekr.holidays(2021) # 2021 holidays메소드는 리스트 형태로 관련값 반환\n",
    "list = list_2020 + list_2021\n"
   ]
  },
  {
   "cell_type": "markdown",
   "metadata": {},
   "source": [
    "#### 공휴일과 평일 함수"
   ]
  },
  {
   "cell_type": "code",
   "execution_count": 40,
   "metadata": {},
   "outputs": [],
   "source": [
    "def day_week(x):\n",
    "    list_2020 = pytimekr.holidays(2020) # 2020  holidays메소드는 리스트 형태로 관련값 반환\n",
    "    list_2021 = pytimekr.holidays(2021) # 2021 holidays메소드는 리스트 형태로 관련값 반환\n",
    "    list = list_2020 + list_2021\n",
    "    if x.date() in list:\n",
    "        return '공휴일'\n",
    "    else:\n",
    "        return '평일'"
   ]
  },
  {
   "cell_type": "code",
   "execution_count": 41,
   "metadata": {},
   "outputs": [],
   "source": [
    "df['공휴일과평일'] = df['연락일'].apply(day_week)"
   ]
  },
  {
   "cell_type": "markdown",
   "metadata": {},
   "source": [
    "#### 공휴일과 평일의 계약여부는 차이가 있을까?"
   ]
  },
  {
   "cell_type": "code",
   "execution_count": 42,
   "metadata": {},
   "outputs": [
    {
     "data": {
      "text/plain": [
       "공휴일과평일  계약여부\n",
       "공휴일     no       1538\n",
       "        yes       170\n",
       "평일      no      35010\n",
       "        yes      4470\n",
       "Name: 계약여부, dtype: int64"
      ]
     },
     "execution_count": 42,
     "metadata": {},
     "output_type": "execute_result"
    }
   ],
   "source": [
    "df.groupby(['공휴일과평일','계약여부'])['계약여부'].agg('count')"
   ]
  },
  {
   "cell_type": "markdown",
   "metadata": {},
   "source": [
    "#### 요일별로 차이가 있을까?"
   ]
  },
  {
   "cell_type": "code",
   "execution_count": 43,
   "metadata": {},
   "outputs": [
    {
     "data": {
      "text/plain": [
       "연락요일  계약여부\n",
       "금요일   no      4849\n",
       "      yes      659\n",
       "목요일   no      4694\n",
       "      yes      640\n",
       "수요일   no      4735\n",
       "      yes      526\n",
       "월요일   no      5926\n",
       "      yes      737\n",
       "일요일   no      5250\n",
       "      yes      648\n",
       "토요일   no      4984\n",
       "      yes      658\n",
       "화요일   no      6110\n",
       "      yes      772\n",
       "Name: 계약여부, dtype: int64"
      ]
     },
     "execution_count": 43,
     "metadata": {},
     "output_type": "execute_result"
    }
   ],
   "source": [
    "df.groupby(['연락요일','계약여부'])['계약여부'].agg('count')"
   ]
  },
  {
   "cell_type": "markdown",
   "metadata": {},
   "source": [
    "## 카드종류별 혜택에 따른 텔레마케팅 가입여부는 차이가 있을까?"
   ]
  },
  {
   "cell_type": "code",
   "execution_count": 44,
   "metadata": {},
   "outputs": [],
   "source": [
    "# 카드 종류별 혜택사항\n",
    "card = pd.read_csv('/home/piai/바탕화면/파이썬_기초/빅데이터프로젝트/A1_카드/Card_Data.csv')\n",
    "\n",
    "df = df.merge( card[['Card_ID','혜택분야','연회비']], left_on ='카드종류', right_on = 'Card_ID',how='left') # 혜택분야, 연회비 둘다 가져옴-> 연회비 이후 사용하기 위해서 \n",
    "df.drop('Card_ID',axis = 1,inplace = True) # 오른쪽 df의 키로 사용한 CardID 제거"
   ]
  },
  {
   "cell_type": "markdown",
   "metadata": {},
   "source": [
    "## 연회비 기준 \n",
    "- 없음/ 최초1회 납부/ 지속 납부\n",
    "> 연회비를 1회 납부하거나 지속 납부할 경우 카드사의 충성도가 높으므로, 텔레마케팅 아웃바운드 성공률이 높을 것이다. \n"
   ]
  },
  {
   "cell_type": "code",
   "execution_count": 45,
   "metadata": {},
   "outputs": [],
   "source": [
    "def split(x):\n",
    "    if x == '없음' or x ==  '면제': # 아예 내지 않는 경우 \n",
    "        return 0\n",
    "    elif '최초' in x: # 한번만 내는 경우\n",
    "        return 1\n",
    "    else:\n",
    "        return 2 # 지속 납부의 경우"
   ]
  },
  {
   "cell_type": "code",
   "execution_count": 46,
   "metadata": {},
   "outputs": [
    {
     "data": {
      "text/html": [
       "<div>\n",
       "<style scoped>\n",
       "    .dataframe tbody tr th:only-of-type {\n",
       "        vertical-align: middle;\n",
       "    }\n",
       "\n",
       "    .dataframe tbody tr th {\n",
       "        vertical-align: top;\n",
       "    }\n",
       "\n",
       "    .dataframe thead th {\n",
       "        text-align: right;\n",
       "    }\n",
       "</style>\n",
       "<table border=\"1\" class=\"dataframe\">\n",
       "  <thead>\n",
       "    <tr style=\"text-align: right;\">\n",
       "      <th></th>\n",
       "      <th>연령</th>\n",
       "      <th>직업군</th>\n",
       "      <th>결혼여부</th>\n",
       "      <th>학력</th>\n",
       "      <th>신용카드소지여부</th>\n",
       "      <th>주택대출여부</th>\n",
       "      <th>개인대출여부</th>\n",
       "      <th>contact</th>\n",
       "      <th>통화시간</th>\n",
       "      <th>연락시도횟수</th>\n",
       "      <th>...</th>\n",
       "      <th>연락일</th>\n",
       "      <th>연령대</th>\n",
       "      <th>연락년도</th>\n",
       "      <th>연락달</th>\n",
       "      <th>연락날</th>\n",
       "      <th>연락요일</th>\n",
       "      <th>공휴일과평일</th>\n",
       "      <th>혜택분야</th>\n",
       "      <th>연회비</th>\n",
       "      <th>연회비납부정도</th>\n",
       "    </tr>\n",
       "  </thead>\n",
       "  <tbody>\n",
       "    <tr>\n",
       "      <th>0</th>\n",
       "      <td>56</td>\n",
       "      <td>주부</td>\n",
       "      <td>결혼</td>\n",
       "      <td>중졸</td>\n",
       "      <td>없음</td>\n",
       "      <td>없음</td>\n",
       "      <td>없음</td>\n",
       "      <td>유선전화</td>\n",
       "      <td>261</td>\n",
       "      <td>1</td>\n",
       "      <td>...</td>\n",
       "      <td>2020-01-03</td>\n",
       "      <td>50대</td>\n",
       "      <td>2020</td>\n",
       "      <td>1</td>\n",
       "      <td>3</td>\n",
       "      <td>금요일</td>\n",
       "      <td>평일</td>\n",
       "      <td>life</td>\n",
       "      <td>Visa 1만 8천원\\nLocal(국내전용) 1만 8천원</td>\n",
       "      <td>2</td>\n",
       "    </tr>\n",
       "    <tr>\n",
       "      <th>1</th>\n",
       "      <td>57</td>\n",
       "      <td>서비스종사자</td>\n",
       "      <td>결혼</td>\n",
       "      <td>전문학교</td>\n",
       "      <td>없음</td>\n",
       "      <td>없음</td>\n",
       "      <td>없음</td>\n",
       "      <td>유선전화</td>\n",
       "      <td>149</td>\n",
       "      <td>1</td>\n",
       "      <td>...</td>\n",
       "      <td>2020-01-03</td>\n",
       "      <td>50대</td>\n",
       "      <td>2020</td>\n",
       "      <td>1</td>\n",
       "      <td>3</td>\n",
       "      <td>금요일</td>\n",
       "      <td>평일</td>\n",
       "      <td>life</td>\n",
       "      <td>VISA 3만원\\nURS 3만원</td>\n",
       "      <td>2</td>\n",
       "    </tr>\n",
       "    <tr>\n",
       "      <th>2</th>\n",
       "      <td>37</td>\n",
       "      <td>서비스종사자</td>\n",
       "      <td>결혼</td>\n",
       "      <td>전문학교</td>\n",
       "      <td>없음</td>\n",
       "      <td>대출있음</td>\n",
       "      <td>없음</td>\n",
       "      <td>유선전화</td>\n",
       "      <td>226</td>\n",
       "      <td>1</td>\n",
       "      <td>...</td>\n",
       "      <td>2020-01-03</td>\n",
       "      <td>30대</td>\n",
       "      <td>2020</td>\n",
       "      <td>1</td>\n",
       "      <td>3</td>\n",
       "      <td>금요일</td>\n",
       "      <td>평일</td>\n",
       "      <td>life</td>\n",
       "      <td>VISA 2만원\\nURS 2만원</td>\n",
       "      <td>2</td>\n",
       "    </tr>\n",
       "    <tr>\n",
       "      <th>3</th>\n",
       "      <td>40</td>\n",
       "      <td>회사원</td>\n",
       "      <td>결혼</td>\n",
       "      <td>검정고시</td>\n",
       "      <td>없음</td>\n",
       "      <td>없음</td>\n",
       "      <td>없음</td>\n",
       "      <td>유선전화</td>\n",
       "      <td>151</td>\n",
       "      <td>1</td>\n",
       "      <td>...</td>\n",
       "      <td>2020-01-03</td>\n",
       "      <td>40대</td>\n",
       "      <td>2020</td>\n",
       "      <td>1</td>\n",
       "      <td>3</td>\n",
       "      <td>금요일</td>\n",
       "      <td>평일</td>\n",
       "      <td>life</td>\n",
       "      <td>VISA 3만 3천원\\nUPI 3만원</td>\n",
       "      <td>2</td>\n",
       "    </tr>\n",
       "    <tr>\n",
       "      <th>4</th>\n",
       "      <td>56</td>\n",
       "      <td>서비스종사자</td>\n",
       "      <td>결혼</td>\n",
       "      <td>전문학교</td>\n",
       "      <td>없음</td>\n",
       "      <td>없음</td>\n",
       "      <td>대출있음</td>\n",
       "      <td>유선전화</td>\n",
       "      <td>307</td>\n",
       "      <td>1</td>\n",
       "      <td>...</td>\n",
       "      <td>2020-01-03</td>\n",
       "      <td>50대</td>\n",
       "      <td>2020</td>\n",
       "      <td>1</td>\n",
       "      <td>3</td>\n",
       "      <td>금요일</td>\n",
       "      <td>평일</td>\n",
       "      <td>life</td>\n",
       "      <td>VISA 3만 3천원\\nUPI 3만원</td>\n",
       "      <td>2</td>\n",
       "    </tr>\n",
       "  </tbody>\n",
       "</table>\n",
       "<p>5 rows × 24 columns</p>\n",
       "</div>"
      ],
      "text/plain": [
       "   연령     직업군 결혼여부    학력 신용카드소지여부 주택대출여부 개인대출여부 contact  통화시간  연락시도횟수  ...  \\\n",
       "0  56      주부   결혼    중졸       없음     없음     없음    유선전화   261       1  ...   \n",
       "1  57  서비스종사자   결혼  전문학교       없음     없음     없음    유선전화   149       1  ...   \n",
       "2  37  서비스종사자   결혼  전문학교       없음   대출있음     없음    유선전화   226       1  ...   \n",
       "3  40     회사원   결혼  검정고시       없음     없음     없음    유선전화   151       1  ...   \n",
       "4  56  서비스종사자   결혼  전문학교       없음     없음   대출있음    유선전화   307       1  ...   \n",
       "\n",
       "         연락일  연령대  연락년도  연락달 연락날 연락요일  공휴일과평일  혜택분야  \\\n",
       "0 2020-01-03  50대  2020    1   3  금요일      평일  life   \n",
       "1 2020-01-03  50대  2020    1   3  금요일      평일  life   \n",
       "2 2020-01-03  30대  2020    1   3  금요일      평일  life   \n",
       "3 2020-01-03  40대  2020    1   3  금요일      평일  life   \n",
       "4 2020-01-03  50대  2020    1   3  금요일      평일  life   \n",
       "\n",
       "                               연회비 연회비납부정도  \n",
       "0  Visa 1만 8천원\\nLocal(국내전용) 1만 8천원       2  \n",
       "1                VISA 3만원\\nURS 3만원       2  \n",
       "2                VISA 2만원\\nURS 2만원       2  \n",
       "3             VISA 3만 3천원\\nUPI 3만원       2  \n",
       "4             VISA 3만 3천원\\nUPI 3만원       2  \n",
       "\n",
       "[5 rows x 24 columns]"
      ]
     },
     "execution_count": 46,
     "metadata": {},
     "output_type": "execute_result"
    }
   ],
   "source": [
    "df['연회비납부정도'] = df['연회비'].apply(split)\n",
    "df.head()"
   ]
  },
  {
   "cell_type": "markdown",
   "metadata": {},
   "source": [
    "# 학벌 피쳐 나누기"
   ]
  },
  {
   "cell_type": "code",
   "execution_count": 47,
   "metadata": {},
   "outputs": [],
   "source": [
    "def scholar(x):\n",
    "    if x == '전문학교' or x == '석박사' or x == '대졸학사':\n",
    "        return '대학교이상'\n",
    "    else:\n",
    "        return '대학교미만'"
   ]
  },
  {
   "cell_type": "code",
   "execution_count": 48,
   "metadata": {},
   "outputs": [
    {
     "data": {
      "text/html": [
       "<div>\n",
       "<style scoped>\n",
       "    .dataframe tbody tr th:only-of-type {\n",
       "        vertical-align: middle;\n",
       "    }\n",
       "\n",
       "    .dataframe tbody tr th {\n",
       "        vertical-align: top;\n",
       "    }\n",
       "\n",
       "    .dataframe thead th {\n",
       "        text-align: right;\n",
       "    }\n",
       "</style>\n",
       "<table border=\"1\" class=\"dataframe\">\n",
       "  <thead>\n",
       "    <tr style=\"text-align: right;\">\n",
       "      <th></th>\n",
       "      <th>연령</th>\n",
       "      <th>직업군</th>\n",
       "      <th>결혼여부</th>\n",
       "      <th>학력</th>\n",
       "      <th>신용카드소지여부</th>\n",
       "      <th>주택대출여부</th>\n",
       "      <th>개인대출여부</th>\n",
       "      <th>contact</th>\n",
       "      <th>통화시간</th>\n",
       "      <th>연락시도횟수</th>\n",
       "      <th>...</th>\n",
       "      <th>연령대</th>\n",
       "      <th>연락년도</th>\n",
       "      <th>연락달</th>\n",
       "      <th>연락날</th>\n",
       "      <th>연락요일</th>\n",
       "      <th>공휴일과평일</th>\n",
       "      <th>혜택분야</th>\n",
       "      <th>연회비</th>\n",
       "      <th>연회비납부정도</th>\n",
       "      <th>대학교구분</th>\n",
       "    </tr>\n",
       "  </thead>\n",
       "  <tbody>\n",
       "    <tr>\n",
       "      <th>0</th>\n",
       "      <td>56</td>\n",
       "      <td>주부</td>\n",
       "      <td>결혼</td>\n",
       "      <td>중졸</td>\n",
       "      <td>없음</td>\n",
       "      <td>없음</td>\n",
       "      <td>없음</td>\n",
       "      <td>유선전화</td>\n",
       "      <td>261</td>\n",
       "      <td>1</td>\n",
       "      <td>...</td>\n",
       "      <td>50대</td>\n",
       "      <td>2020</td>\n",
       "      <td>1</td>\n",
       "      <td>3</td>\n",
       "      <td>금요일</td>\n",
       "      <td>평일</td>\n",
       "      <td>life</td>\n",
       "      <td>Visa 1만 8천원\\nLocal(국내전용) 1만 8천원</td>\n",
       "      <td>2</td>\n",
       "      <td>대학교미만</td>\n",
       "    </tr>\n",
       "    <tr>\n",
       "      <th>1</th>\n",
       "      <td>57</td>\n",
       "      <td>서비스종사자</td>\n",
       "      <td>결혼</td>\n",
       "      <td>전문학교</td>\n",
       "      <td>없음</td>\n",
       "      <td>없음</td>\n",
       "      <td>없음</td>\n",
       "      <td>유선전화</td>\n",
       "      <td>149</td>\n",
       "      <td>1</td>\n",
       "      <td>...</td>\n",
       "      <td>50대</td>\n",
       "      <td>2020</td>\n",
       "      <td>1</td>\n",
       "      <td>3</td>\n",
       "      <td>금요일</td>\n",
       "      <td>평일</td>\n",
       "      <td>life</td>\n",
       "      <td>VISA 3만원\\nURS 3만원</td>\n",
       "      <td>2</td>\n",
       "      <td>대학교이상</td>\n",
       "    </tr>\n",
       "    <tr>\n",
       "      <th>2</th>\n",
       "      <td>37</td>\n",
       "      <td>서비스종사자</td>\n",
       "      <td>결혼</td>\n",
       "      <td>전문학교</td>\n",
       "      <td>없음</td>\n",
       "      <td>대출있음</td>\n",
       "      <td>없음</td>\n",
       "      <td>유선전화</td>\n",
       "      <td>226</td>\n",
       "      <td>1</td>\n",
       "      <td>...</td>\n",
       "      <td>30대</td>\n",
       "      <td>2020</td>\n",
       "      <td>1</td>\n",
       "      <td>3</td>\n",
       "      <td>금요일</td>\n",
       "      <td>평일</td>\n",
       "      <td>life</td>\n",
       "      <td>VISA 2만원\\nURS 2만원</td>\n",
       "      <td>2</td>\n",
       "      <td>대학교이상</td>\n",
       "    </tr>\n",
       "    <tr>\n",
       "      <th>3</th>\n",
       "      <td>40</td>\n",
       "      <td>회사원</td>\n",
       "      <td>결혼</td>\n",
       "      <td>검정고시</td>\n",
       "      <td>없음</td>\n",
       "      <td>없음</td>\n",
       "      <td>없음</td>\n",
       "      <td>유선전화</td>\n",
       "      <td>151</td>\n",
       "      <td>1</td>\n",
       "      <td>...</td>\n",
       "      <td>40대</td>\n",
       "      <td>2020</td>\n",
       "      <td>1</td>\n",
       "      <td>3</td>\n",
       "      <td>금요일</td>\n",
       "      <td>평일</td>\n",
       "      <td>life</td>\n",
       "      <td>VISA 3만 3천원\\nUPI 3만원</td>\n",
       "      <td>2</td>\n",
       "      <td>대학교미만</td>\n",
       "    </tr>\n",
       "    <tr>\n",
       "      <th>4</th>\n",
       "      <td>56</td>\n",
       "      <td>서비스종사자</td>\n",
       "      <td>결혼</td>\n",
       "      <td>전문학교</td>\n",
       "      <td>없음</td>\n",
       "      <td>없음</td>\n",
       "      <td>대출있음</td>\n",
       "      <td>유선전화</td>\n",
       "      <td>307</td>\n",
       "      <td>1</td>\n",
       "      <td>...</td>\n",
       "      <td>50대</td>\n",
       "      <td>2020</td>\n",
       "      <td>1</td>\n",
       "      <td>3</td>\n",
       "      <td>금요일</td>\n",
       "      <td>평일</td>\n",
       "      <td>life</td>\n",
       "      <td>VISA 3만 3천원\\nUPI 3만원</td>\n",
       "      <td>2</td>\n",
       "      <td>대학교이상</td>\n",
       "    </tr>\n",
       "  </tbody>\n",
       "</table>\n",
       "<p>5 rows × 25 columns</p>\n",
       "</div>"
      ],
      "text/plain": [
       "   연령     직업군 결혼여부    학력 신용카드소지여부 주택대출여부 개인대출여부 contact  통화시간  연락시도횟수  ...  \\\n",
       "0  56      주부   결혼    중졸       없음     없음     없음    유선전화   261       1  ...   \n",
       "1  57  서비스종사자   결혼  전문학교       없음     없음     없음    유선전화   149       1  ...   \n",
       "2  37  서비스종사자   결혼  전문학교       없음   대출있음     없음    유선전화   226       1  ...   \n",
       "3  40     회사원   결혼  검정고시       없음     없음     없음    유선전화   151       1  ...   \n",
       "4  56  서비스종사자   결혼  전문학교       없음     없음   대출있음    유선전화   307       1  ...   \n",
       "\n",
       "   연령대  연락년도 연락달  연락날 연락요일 공휴일과평일  혜택분야                              연회비  \\\n",
       "0  50대  2020   1    3  금요일     평일  life  Visa 1만 8천원\\nLocal(국내전용) 1만 8천원   \n",
       "1  50대  2020   1    3  금요일     평일  life                VISA 3만원\\nURS 3만원   \n",
       "2  30대  2020   1    3  금요일     평일  life                VISA 2만원\\nURS 2만원   \n",
       "3  40대  2020   1    3  금요일     평일  life             VISA 3만 3천원\\nUPI 3만원   \n",
       "4  50대  2020   1    3  금요일     평일  life             VISA 3만 3천원\\nUPI 3만원   \n",
       "\n",
       "   연회비납부정도  대학교구분  \n",
       "0        2  대학교미만  \n",
       "1        2  대학교이상  \n",
       "2        2  대학교이상  \n",
       "3        2  대학교미만  \n",
       "4        2  대학교이상  \n",
       "\n",
       "[5 rows x 25 columns]"
      ]
     },
     "execution_count": 48,
     "metadata": {},
     "output_type": "execute_result"
    }
   ],
   "source": [
    "df['대학교구분'] = df.학력.apply(scholar)\n",
    "df.head()"
   ]
  },
  {
   "cell_type": "markdown",
   "metadata": {},
   "source": [
    "# 통화시간 초-> 분"
   ]
  },
  {
   "cell_type": "code",
   "execution_count": 49,
   "metadata": {},
   "outputs": [],
   "source": [
    "df['통화시간_분'] = df['통화시간']/60"
   ]
  },
  {
   "cell_type": "code",
   "execution_count": 50,
   "metadata": {},
   "outputs": [
    {
     "data": {
      "text/plain": [
       "Index(['연령', '직업군', '결혼여부', '학력', '신용카드소지여부', '주택대출여부', '개인대출여부', 'contact',\n",
       "       '통화시간', '연락시도횟수', 'p_days', '과거통화횟수', '계약여부', '카드종류', '연락일', '연령대',\n",
       "       '연락년도', '연락달', '연락날', '연락요일', '공휴일과평일', '혜택분야', '연회비', '연회비납부정도',\n",
       "       '대학교구분', '통화시간_분'],\n",
       "      dtype='object')"
      ]
     },
     "execution_count": 50,
     "metadata": {},
     "output_type": "execute_result"
    }
   ],
   "source": [
    "df.columns"
   ]
  },
  {
   "cell_type": "markdown",
   "metadata": {},
   "source": [
    "# EDA 이후 파생변수 재그룹화\n",
    "1. 연령대"
   ]
  },
  {
   "cell_type": "code",
   "execution_count": 51,
   "metadata": {},
   "outputs": [],
   "source": [
    "# 20대이하/30대/40대/50대/60대이상으로 나눔\n",
    "def age_group(x):\n",
    "    if x<30:\n",
    "        return '20대 이하'\n",
    "    elif 30<=x<40:\n",
    "        return '30대'\n",
    "    elif 40<=x<50:\n",
    "        return '40대'\n",
    "    elif 50<=x<60:\n",
    "        return '50대'\n",
    "    else :\n",
    "        return '60대이상'\n",
    "    \n",
    "df['연령대'] = df['연령'].apply(age_group)"
   ]
  },
  {
   "cell_type": "markdown",
   "metadata": {},
   "source": [
    "2. 결혼여부"
   ]
  },
  {
   "cell_type": "code",
   "execution_count": 52,
   "metadata": {},
   "outputs": [],
   "source": [
    "# 미혼+이혼수를 합치면 결혼수와 수가 비슷해지니까 합쳐본다.\n",
    "# 미혼+이혼을 합침\n",
    "def marry_group(x):\n",
    "    if x == '미혼' or x == '이혼' :\n",
    "        return '미혼'\n",
    "    else :\n",
    "        return '기혼'\n",
    "\n",
    "df['결혼여부'] = df.결혼여부.apply(marry_group)"
   ]
  },
  {
   "cell_type": "markdown",
   "metadata": {},
   "source": [
    "3. 학력"
   ]
  },
  {
   "cell_type": "code",
   "execution_count": 53,
   "metadata": {},
   "outputs": [],
   "source": [
    "##대학교 구분별 - 대졸학사이상/ 대졸미만     \n",
    "def scholar(x) :\n",
    "        if  x == '석박사' or x ==  '대졸학사':\n",
    "            return '4년제 대학교이상'\n",
    "        else :\n",
    "            return '대학교미만'\n",
    "        \n",
    "df[\"대학교구분\"]= df.학력.apply(scholar)  "
   ]
  },
  {
   "cell_type": "markdown",
   "metadata": {},
   "source": [
    "4. 직업군-> 직업급여별"
   ]
  },
  {
   "cell_type": "code",
   "execution_count": 54,
   "metadata": {},
   "outputs": [],
   "source": [
    "def collar3(x) :\n",
    "        if x == '산업노동자' :\n",
    "            return '산업노동자'\n",
    "        \n",
    "        elif x == '회사원' or x == '공무원' or x == '서비스종사자':\n",
    "             return '월급쟁이'\n",
    "        elif  x == '주부' or x == '은퇴' or  x == '미취업자' or x == '학생' :\n",
    "            return '무급'\n",
    "        \n",
    "        elif x == '기술자'or x =='자영업자' or x == '기업가':\n",
    "            return '사업가'\n",
    "        \n",
    "        \n",
    "df[\"직업급여별\"] = df.직업군.apply(collar3)    "
   ]
  },
  {
   "cell_type": "markdown",
   "metadata": {},
   "source": [
    "## 계약 비율"
   ]
  },
  {
   "cell_type": "code",
   "execution_count": 55,
   "metadata": {},
   "outputs": [],
   "source": [
    "#연령대별 계약여부\n",
    "def prop(df,col):\n",
    "\n",
    "    tmp = df.groupby([col], as_index = False)['계약여부'].value_counts().rename(columns = {'count':'총합'})\n",
    "    count =tmp.groupby([col], as_index = False)['총합'].agg('sum').rename(columns = {'총합':col +'별총합'})\n",
    "    tmp = tmp.merge(count,on = col, how = 'left')\n",
    "    tmp['비율'] = tmp['총합']/tmp[col +'별총합']\n",
    "    return tmp\n"
   ]
  },
  {
   "cell_type": "code",
   "execution_count": 56,
   "metadata": {},
   "outputs": [
    {
     "data": {
      "text/html": [
       "<div>\n",
       "<style scoped>\n",
       "    .dataframe tbody tr th:only-of-type {\n",
       "        vertical-align: middle;\n",
       "    }\n",
       "\n",
       "    .dataframe tbody tr th {\n",
       "        vertical-align: top;\n",
       "    }\n",
       "\n",
       "    .dataframe thead th {\n",
       "        text-align: right;\n",
       "    }\n",
       "</style>\n",
       "<table border=\"1\" class=\"dataframe\">\n",
       "  <thead>\n",
       "    <tr style=\"text-align: right;\">\n",
       "      <th></th>\n",
       "      <th>50대</th>\n",
       "      <th>30대</th>\n",
       "      <th>40대</th>\n",
       "      <th>20대</th>\n",
       "      <th>60대</th>\n",
       "      <th>10대</th>\n",
       "      <th>70대</th>\n",
       "      <th>80대</th>\n",
       "      <th>90대</th>\n",
       "    </tr>\n",
       "  </thead>\n",
       "  <tbody>\n",
       "    <tr>\n",
       "      <th>주부</th>\n",
       "      <td>323</td>\n",
       "      <td>313</td>\n",
       "      <td>312</td>\n",
       "      <td>45</td>\n",
       "      <td>42</td>\n",
       "      <td>0</td>\n",
       "      <td>12</td>\n",
       "      <td>13</td>\n",
       "      <td>0</td>\n",
       "    </tr>\n",
       "    <tr>\n",
       "      <th>서비스종사자</th>\n",
       "      <td>514</td>\n",
       "      <td>1694</td>\n",
       "      <td>1032</td>\n",
       "      <td>721</td>\n",
       "      <td>8</td>\n",
       "      <td>0</td>\n",
       "      <td>0</td>\n",
       "      <td>0</td>\n",
       "      <td>0</td>\n",
       "    </tr>\n",
       "    <tr>\n",
       "      <th>회사원</th>\n",
       "      <td>1325</td>\n",
       "      <td>4894</td>\n",
       "      <td>2475</td>\n",
       "      <td>1622</td>\n",
       "      <td>98</td>\n",
       "      <td>0</td>\n",
       "      <td>8</td>\n",
       "      <td>0</td>\n",
       "      <td>0</td>\n",
       "    </tr>\n",
       "    <tr>\n",
       "      <th>산업노동자</th>\n",
       "      <td>1416</td>\n",
       "      <td>3777</td>\n",
       "      <td>2854</td>\n",
       "      <td>1164</td>\n",
       "      <td>40</td>\n",
       "      <td>0</td>\n",
       "      <td>2</td>\n",
       "      <td>1</td>\n",
       "      <td>0</td>\n",
       "    </tr>\n",
       "    <tr>\n",
       "      <th>기술자</th>\n",
       "      <td>906</td>\n",
       "      <td>3364</td>\n",
       "      <td>1622</td>\n",
       "      <td>802</td>\n",
       "      <td>48</td>\n",
       "      <td>0</td>\n",
       "      <td>1</td>\n",
       "      <td>0</td>\n",
       "      <td>0</td>\n",
       "    </tr>\n",
       "    <tr>\n",
       "      <th>은퇴</th>\n",
       "      <td>826</td>\n",
       "      <td>27</td>\n",
       "      <td>78</td>\n",
       "      <td>4</td>\n",
       "      <td>366</td>\n",
       "      <td>0</td>\n",
       "      <td>286</td>\n",
       "      <td>123</td>\n",
       "      <td>10</td>\n",
       "    </tr>\n",
       "    <tr>\n",
       "      <th>공무원</th>\n",
       "      <td>703</td>\n",
       "      <td>1072</td>\n",
       "      <td>910</td>\n",
       "      <td>181</td>\n",
       "      <td>52</td>\n",
       "      <td>0</td>\n",
       "      <td>5</td>\n",
       "      <td>1</td>\n",
       "      <td>0</td>\n",
       "    </tr>\n",
       "    <tr>\n",
       "      <th>미취업자</th>\n",
       "      <td>170</td>\n",
       "      <td>415</td>\n",
       "      <td>284</td>\n",
       "      <td>135</td>\n",
       "      <td>10</td>\n",
       "      <td>0</td>\n",
       "      <td>0</td>\n",
       "      <td>0</td>\n",
       "      <td>0</td>\n",
       "    </tr>\n",
       "    <tr>\n",
       "      <th>자영업자</th>\n",
       "      <td>268</td>\n",
       "      <td>566</td>\n",
       "      <td>381</td>\n",
       "      <td>185</td>\n",
       "      <td>20</td>\n",
       "      <td>0</td>\n",
       "      <td>1</td>\n",
       "      <td>0</td>\n",
       "      <td>0</td>\n",
       "    </tr>\n",
       "    <tr>\n",
       "      <th>기업가</th>\n",
       "      <td>319</td>\n",
       "      <td>558</td>\n",
       "      <td>459</td>\n",
       "      <td>103</td>\n",
       "      <td>17</td>\n",
       "      <td>0</td>\n",
       "      <td>0</td>\n",
       "      <td>0</td>\n",
       "      <td>0</td>\n",
       "    </tr>\n",
       "    <tr>\n",
       "      <th>학생</th>\n",
       "      <td>0</td>\n",
       "      <td>185</td>\n",
       "      <td>8</td>\n",
       "      <td>607</td>\n",
       "      <td>0</td>\n",
       "      <td>75</td>\n",
       "      <td>0</td>\n",
       "      <td>0</td>\n",
       "      <td>0</td>\n",
       "    </tr>\n",
       "  </tbody>\n",
       "</table>\n",
       "</div>"
      ],
      "text/plain": [
       "         50대   30대   40대   20대  60대 10대  70대  80대 90대\n",
       "주부       323   313   312    45   42   0   12   13   0\n",
       "서비스종사자   514  1694  1032   721    8   0    0    0   0\n",
       "회사원     1325  4894  2475  1622   98   0    8    0   0\n",
       "산업노동자   1416  3777  2854  1164   40   0    2    1   0\n",
       "기술자      906  3364  1622   802   48   0    1    0   0\n",
       "은퇴       826    27    78     4  366   0  286  123  10\n",
       "공무원      703  1072   910   181   52   0    5    1   0\n",
       "미취업자     170   415   284   135   10   0    0    0   0\n",
       "자영업자     268   566   381   185   20   0    1    0   0\n",
       "기업가      319   558   459   103   17   0    0    0   0\n",
       "학생         0   185     8   607    0  75    0    0   0"
      ]
     },
     "execution_count": 56,
     "metadata": {},
     "output_type": "execute_result"
    }
   ],
   "source": [
    "tmp"
   ]
  },
  {
   "cell_type": "markdown",
   "metadata": {},
   "source": [
    "# 모델링 df 만들기\n",
    "- 그대로 가져다 하면 accuracy가 너무 낮고 몇개 제거하면 accuracy가 너무 좋음\n",
    "카테고리컬 변수중에 제거할 거 한 뒤 돌리기"
   ]
  },
  {
   "cell_type": "code",
   "execution_count": 57,
   "metadata": {},
   "outputs": [
    {
     "data": {
      "text/plain": [
       "Index(['연령', '직업군', '결혼여부', '학력', '신용카드소지여부', '주택대출여부', '개인대출여부', 'contact',\n",
       "       '통화시간', '연락시도횟수', 'p_days', '과거통화횟수', '계약여부', '카드종류', '연락일', '연령대',\n",
       "       '연락년도', '연락달', '연락날', '연락요일', '공휴일과평일', '혜택분야', '연회비', '연회비납부정도',\n",
       "       '대학교구분', '통화시간_분', '직업급여별'],\n",
       "      dtype='object')"
      ]
     },
     "execution_count": 57,
     "metadata": {},
     "output_type": "execute_result"
    }
   ],
   "source": [
    "df.columns"
   ]
  },
  {
   "cell_type": "code",
   "execution_count": 58,
   "metadata": {},
   "outputs": [],
   "source": [
    "def age_group(x):\n",
    "    if x<36:\n",
    "        return 'MZ세대'\n",
    "    elif 40<=x<49:\n",
    "        return '영포티'\n",
    "    elif 50<=x<59:\n",
    "        return 'Old-X세대'\n",
    "    elif 59<x<=73:\n",
    "        return '베이비붐'\n",
    "    else:\n",
    "        return '산업화'\n"
   ]
  },
  {
   "cell_type": "code",
   "execution_count": 59,
   "metadata": {},
   "outputs": [],
   "source": [
    "df['연령대_재범주화'] = df['연령'].apply(age_group)"
   ]
  },
  {
   "cell_type": "code",
   "execution_count": 60,
   "metadata": {},
   "outputs": [
    {
     "data": {
      "text/plain": [
       "Index(['연령', '직업군', '결혼여부', '학력', '신용카드소지여부', '주택대출여부', '개인대출여부', 'contact',\n",
       "       '통화시간', '연락시도횟수', 'p_days', '과거통화횟수', '계약여부', '카드종류', '연락일', '연령대',\n",
       "       '연락년도', '연락달', '연락날', '연락요일', '공휴일과평일', '혜택분야', '연회비', '연회비납부정도',\n",
       "       '대학교구분', '통화시간_분', '직업급여별', '연령대_재범주화'],\n",
       "      dtype='object')"
      ]
     },
     "execution_count": 60,
     "metadata": {},
     "output_type": "execute_result"
    }
   ],
   "source": [
    "df.columns"
   ]
  },
  {
   "cell_type": "code",
   "execution_count": 65,
   "metadata": {},
   "outputs": [],
   "source": [
    "df['통화시간(분)'] = df['통화시간']/60\n",
    "df['통화시간(분)'] = df['통화시간(분)'].astype(int)"
   ]
  },
  {
   "cell_type": "code",
   "execution_count": 69,
   "metadata": {},
   "outputs": [],
   "source": [
    "df  = df.drop(['연령','직업군','학력','혜택분야','p_days','연락일','연락년도','연락날','공휴일과평일','통화시간','통화시간_분'], axis = 1)"
   ]
  },
  {
   "cell_type": "code",
   "execution_count": 70,
   "metadata": {},
   "outputs": [
    {
     "data": {
      "text/plain": [
       "Index(['결혼여부', '신용카드소지여부', '주택대출여부', '개인대출여부', 'contact', '연락시도횟수', '과거통화횟수',\n",
       "       '계약여부', '카드종류', '연령대', '연락달', '연락요일', '연회비', '연회비납부정도', '대학교구분',\n",
       "       '직업급여별', '연령대_재범주화', '통화시간(분)'],\n",
       "      dtype='object')"
      ]
     },
     "execution_count": 70,
     "metadata": {},
     "output_type": "execute_result"
    }
   ],
   "source": [
    "df.columns"
   ]
  },
  {
   "cell_type": "code",
   "execution_count": 71,
   "metadata": {},
   "outputs": [],
   "source": [
    "temp = df.copy()\n"
   ]
  },
  {
   "cell_type": "code",
   "execution_count": 72,
   "metadata": {},
   "outputs": [],
   "source": [
    "temp.to_csv('/home/piai/바탕화면/파이썬_기초/빅데이터프로젝트/ipynb파일/모델링_csv파일/model_chk.csv')"
   ]
  },
  {
   "cell_type": "code",
   "execution_count": null,
   "metadata": {},
   "outputs": [],
   "source": [
    "temp.to_csv('텔레마케팅_모델링.csv')"
   ]
  },
  {
   "cell_type": "code",
   "execution_count": null,
   "metadata": {},
   "outputs": [],
   "source": [
    "df.to_csv('텔레마케팅_파생변수.csv')"
   ]
  },
  {
   "cell_type": "code",
   "execution_count": null,
   "metadata": {},
   "outputs": [],
   "source": [
    "# temp2 = df[['연령', '직업군', '결혼여부', '학력', '신용카드소지여부', '주택대출여부', '개인대출여부', 'contact',\n",
    "#        '통화시간', '연락시도횟수', 'p_days', '과거통화횟수', '계약여부', '연령대','연락달', '혜택분야',  '연회비납부정도',\n",
    "#        '대학교구분', '통화시간_분', '직업급여별',  '통화시간(분)', '소개']]"
   ]
  },
  {
   "cell_type": "code",
   "execution_count": null,
   "metadata": {},
   "outputs": [],
   "source": [
    "# temp2.loc[:,'연령대'] = temp2['연령'].apply(age_group)"
   ]
  },
  {
   "cell_type": "code",
   "execution_count": null,
   "metadata": {},
   "outputs": [],
   "source": [
    "# temp2.to_csv('텔레마케팅_모델링2.csv')"
   ]
  },
  {
   "cell_type": "code",
   "execution_count": null,
   "metadata": {},
   "outputs": [],
   "source": [
    "df['성공여부'] = np.where(df['계약여부'] == 'yes', 1, 0)"
   ]
  },
  {
   "cell_type": "code",
   "execution_count": null,
   "metadata": {},
   "outputs": [],
   "source": [
    "df['통화시간_분'].unique()"
   ]
  },
  {
   "cell_type": "code",
   "execution_count": null,
   "metadata": {},
   "outputs": [],
   "source": [
    "df[df['통화시간_분'] == min][['통화시간_분','성공여부']].mean()"
   ]
  },
  {
   "cell_type": "code",
   "execution_count": null,
   "metadata": {},
   "outputs": [],
   "source": [
    "print(len(df['통화시간'].unique()))\n",
    "len(df['통화시간'])"
   ]
  },
  {
   "cell_type": "markdown",
   "metadata": {},
   "source": [
    "# 연락달별 성공률"
   ]
  },
  {
   "cell_type": "code",
   "execution_count": null,
   "metadata": {},
   "outputs": [],
   "source": [
    "import matplotlib.pyplot as plt"
   ]
  },
  {
   "cell_type": "code",
   "execution_count": null,
   "metadata": {},
   "outputs": [],
   "source": [
    "month = df.groupby('연락달',as_index = False)['성공여부'].agg('mean')\n",
    "plt.bar(month['연락달'], month['성공여부'])\n",
    "plt.ylim((0.08,0.16))"
   ]
  },
  {
   "cell_type": "markdown",
   "metadata": {},
   "source": [
    "# 통화시간별 계약성공률"
   ]
  },
  {
   "cell_type": "code",
   "execution_count": null,
   "metadata": {},
   "outputs": [],
   "source": [
    "import matplotlib.pyplot as plt"
   ]
  },
  {
   "cell_type": "code",
   "execution_count": null,
   "metadata": {},
   "outputs": [],
   "source": [
    "df['통화시간(분)'] = df['통화시간_분'].astype(int)"
   ]
  },
  {
   "cell_type": "code",
   "execution_count": null,
   "metadata": {},
   "outputs": [],
   "source": [
    "time = df.groupby('통화시간_분', as_index = False)['성공여부'].agg('mean').round(3)\n",
    "cond = time['통화시간_분'] < 30\n",
    "temp = time[cond]\n",
    "plt.scatter(temp['통화시간_분'],temp['성공여부'])"
   ]
  },
  {
   "cell_type": "markdown",
   "metadata": {},
   "source": [
    "## 통화성공률이 떨어지는 경우 제거 "
   ]
  },
  {
   "cell_type": "code",
   "execution_count": null,
   "metadata": {},
   "outputs": [],
   "source": [
    "idx = []\n",
    "for i in range(len(time)-1):\n",
    "    if (time['성공여부'][i] - time['성공여부'][i+1]) > 0:\n",
    "        idx.append(i)"
   ]
  },
  {
   "cell_type": "code",
   "execution_count": null,
   "metadata": {},
   "outputs": [],
   "source": [
    "temp = time.copy()\n"
   ]
  },
  {
   "cell_type": "code",
   "execution_count": null,
   "metadata": {},
   "outputs": [],
   "source": [
    "tmp = temp.iloc[[i for i in temp.index if i not in idx]]\n",
    "tmp = tmp.iloc[:27]\n",
    "plt.scatter(tmp['통화시간(분)'],tmp['성공여부'])"
   ]
  },
  {
   "cell_type": "markdown",
   "metadata": {},
   "source": [
    "### 통화시간별 성공률"
   ]
  },
  {
   "cell_type": "code",
   "execution_count": null,
   "metadata": {},
   "outputs": [],
   "source": [
    "tmp.to_csv('telemarketing_time.csv')"
   ]
  },
  {
   "cell_type": "markdown",
   "metadata": {},
   "source": [
    "# 과거 통화횟수별 성공율"
   ]
  },
  {
   "cell_type": "code",
   "execution_count": null,
   "metadata": {},
   "outputs": [],
   "source": [
    "count = []; count_ratio = [];\n",
    "for i in df['과거통화횟수'].unique():\n",
    "    count.append(i)\n",
    "    count_ratio.append(df[df['과거통화횟수'] == i]['성공여부'].mean())"
   ]
  },
  {
   "cell_type": "code",
   "execution_count": null,
   "metadata": {},
   "outputs": [],
   "source": [
    "pd.DataFrame({'횟수':count,'횟수별비율':count_ratio})"
   ]
  },
  {
   "cell_type": "code",
   "execution_count": null,
   "metadata": {},
   "outputs": [],
   "source": [
    "plt.bar(count, count_ratio)"
   ]
  },
  {
   "cell_type": "markdown",
   "metadata": {},
   "source": [
    "# p_days별 성공횟수"
   ]
  },
  {
   "cell_type": "code",
   "execution_count": null,
   "metadata": {},
   "outputs": [],
   "source": [
    "tmp = df[df['성공여부'] == 1].groupby('p_days',as_index = False)['성공여부'].agg('count').rename(columns = {'성공여부':'성공횟수'})\n",
    "total_success = df.groupby('p_days',as_index = False)['성공여부'].agg('count').rename(columns = {'성공횟수':'총성공횟수'})"
   ]
  },
  {
   "cell_type": "code",
   "execution_count": null,
   "metadata": {},
   "outputs": [],
   "source": [
    "p_days  = pd.merge( tmp,total_success,on='p_days', how = 'left')\n",
    "i = 1\n",
    "p_ch = pd.DataFrame()\n",
    "for _ in range(1,4):\n",
    "    if _ == 1:\n",
    "        p_ch[f'{i}에서{i+9}'] = p_days.iloc[i:i+9].sum()\n",
    "        i = 8 +i\n",
    "    else:\n",
    "        p_ch[f'{i}에서{i+8}'] = p_days.iloc[i:i+9].sum()\n",
    "        i = 8 +i\n",
    "p_ch = p_ch.T\n",
    "p_ch = p_ch.reset_index().iloc[:,1:]\n",
    "p_ch['p_days별 성공률'] = (p_ch['성공횟수']/p_ch['성공여부']).round(3)\n",
    "p_ch.columns = ['8묶음씩 p_days','p_days성공횟수', 'p_days성공여부', 'p_days별 성공률']\n",
    "p_ch"
   ]
  },
  {
   "cell_type": "code",
   "execution_count": null,
   "metadata": {},
   "outputs": [],
   "source": [
    "1195.0\t+ 311.0 + 37"
   ]
  },
  {
   "cell_type": "code",
   "execution_count": null,
   "metadata": {},
   "outputs": [],
   "source": [
    "plt.bar(p_ch['8묶음씩 p_days'], p_ch['p_days별 성공률'])"
   ]
  },
  {
   "cell_type": "code",
   "execution_count": null,
   "metadata": {},
   "outputs": [],
   "source": [
    "contact = []; contact_ratio = [];\n",
    "for i in df['연락시도횟수'].unique():\n",
    "    contact.append(i)\n",
    "    contact_ratio.append(df[df['연락시도횟수'] == i]['성공여부'].mean())"
   ]
  },
  {
   "cell_type": "code",
   "execution_count": null,
   "metadata": {},
   "outputs": [],
   "source": [
    "plt.scatter(contact, contact_ratio)"
   ]
  },
  {
   "cell_type": "code",
   "execution_count": null,
   "metadata": {},
   "outputs": [],
   "source": [
    "df.columns"
   ]
  },
  {
   "cell_type": "code",
   "execution_count": null,
   "metadata": {},
   "outputs": [],
   "source": [
    "df.columns"
   ]
  },
  {
   "cell_type": "code",
   "execution_count": null,
   "metadata": {},
   "outputs": [],
   "source": [
    "df = pd.merge(df,card[['Card_ID','소개']],left_on = '카드종류', right_on = 'Card_ID', how = 'left')\n",
    "del df['Card_ID']"
   ]
  },
  {
   "cell_type": "code",
   "execution_count": null,
   "metadata": {},
   "outputs": [],
   "source": [
    "# 모델에 들어갈 피처 \n",
    "# df.drop(['연령','직업군','신용카드소지여부','contact','연락날','연락요일','공휴일과평일','혜택분야','연회비','연회비납부정도','대학교구분','통화시간_분'],axis = 1)"
   ]
  },
  {
   "cell_type": "code",
   "execution_count": null,
   "metadata": {},
   "outputs": [],
   "source": [
    "import matplotlib.pyplot as plt\n",
    "import matplotlib\n",
    "matplotlib.rc('font',family = 'NanumGothic')"
   ]
  },
  {
   "cell_type": "code",
   "execution_count": null,
   "metadata": {},
   "outputs": [],
   "source": [
    "def count_ratio(df,col):\n",
    "    ratio= df.groupby(col, as_index = False)['성공여부'].agg('mean').round(3).rename(columns = {'성공여부':'비율'})\n",
    "    plt.bar(ratio[col],ratio['비율'])"
   ]
  },
  {
   "cell_type": "code",
   "execution_count": null,
   "metadata": {},
   "outputs": [],
   "source": [
    "count_ratio(df,'대학교구분')"
   ]
  },
  {
   "cell_type": "code",
   "execution_count": null,
   "metadata": {},
   "outputs": [],
   "source": [
    "col = '연락달'\n",
    "df.groupby(col, as_index = False)['성공여부'].agg('mean').round(3)"
   ]
  },
  {
   "cell_type": "code",
   "execution_count": null,
   "metadata": {},
   "outputs": [],
   "source": [
    "\n",
    "import matplotlib"
   ]
  },
  {
   "cell_type": "code",
   "execution_count": null,
   "metadata": {},
   "outputs": [],
   "source": [
    "matplotlib.rc('font',family = 'NanumGothic')"
   ]
  },
  {
   "cell_type": "code",
   "execution_count": null,
   "metadata": {},
   "outputs": [],
   "source": [
    "def conti_ratio(df,col):\n",
    "    ratio= df.groupby(col, as_index = False)['성공여부'].agg('mean').round(3).rename(columns = {'성공여부':'비율'})\n",
    "    plt.scatter(ratio[col],ratio['비율'])\n",
    "    return ratio\n",
    "contact_ratio = conti_ratio(df,'연락시도횟수')"
   ]
  },
  {
   "cell_type": "code",
   "execution_count": null,
   "metadata": {},
   "outputs": [],
   "source": [
    "contact_ratio.iloc[:20].to_csv('/home/piai/바탕화면/파이썬_기초/빅데이터프로젝트/시각화/연락시도횟수별성공률.csv')"
   ]
  },
  {
   "cell_type": "code",
   "execution_count": null,
   "metadata": {},
   "outputs": [],
   "source": [
    "df.columns"
   ]
  },
  {
   "cell_type": "code",
   "execution_count": null,
   "metadata": {},
   "outputs": [],
   "source": [
    "df_sav = df[['연령', '직업군', '결혼여부', '학력', '신용카드소지여부', '주택대출여부', '개인대출여부', 'contact',\n",
    "       '통화시간', '연락시도횟수', 'p_days', '과거통화횟수', '계약여부', '카드종류', '연락일', '연령대',\n",
    "       '연락년도', '연락달', '연락날', '연락요일', '공휴일과평일', '혜택분야', '연회비', \n",
    "       '대학교구분',  '직업급여별', '통화시간(분)', '연령대_재범주화']]"
   ]
  },
  {
   "cell_type": "code",
   "execution_count": null,
   "metadata": {},
   "outputs": [],
   "source": [
    "df_sav.to_csv('/home/piai/바탕화면/파이썬_기초/빅데이터프로젝트/ipynb파일/모델링_csv파일/model3.csv')"
   ]
  },
  {
   "cell_type": "code",
   "execution_count": null,
   "metadata": {},
   "outputs": [],
   "source": [
    "df_sav.to_csv('/home/piai/바탕화면/파이썬_기초/빅데이터프로젝트/ipynb파일/모델링_csv파일/model2.csv')"
   ]
  },
  {
   "cell_type": "code",
   "execution_count": null,
   "metadata": {},
   "outputs": [],
   "source": [
    "df_sav2 = df[['연령',  '결혼여부', '학력', '신용카드소지여부', '주택대출여부', '개인대출여부', 'contact',\n",
    "       '통화시간', '연락시도횟수', 'p_days', '과거통화횟수', '계약여부', '카드종류',\n",
    "        '연락달', '연락날', '연락요일', '공휴일과평일', '혜택분야', '연회비', '연회비납부정도',\n",
    "       '대학교구분',  '직업급여별', '성공여부', '통화시간(분)', '연령대_재범주화']]"
   ]
  },
  {
   "cell_type": "code",
   "execution_count": null,
   "metadata": {},
   "outputs": [],
   "source": [
    "df_sav2.to_csv('/home/piai/바탕화면/파이썬_기초/빅데이터프로젝트/ipynb파일/모델링_csv파일/model1.csv')"
   ]
  },
  {
   "cell_type": "code",
   "execution_count": null,
   "metadata": {},
   "outputs": [],
   "source": [
    "df_sav3 = df[['연령','결혼여부', '학력', '신용카드소지여부', '주택대출여부', '개인대출여부', 'contact',\n",
    "       '통화시간', '연락시도횟수', 'p_days', '과거통화횟수', '계약여부', '카드종류', '연락달', '연락날', '혜택분야', '연회비', '연회비납부정도',\n",
    "       '대학교구분', '직업급여별', '성공여부', '통화시간(분)', '연령대_재범주화']]"
   ]
  },
  {
   "cell_type": "code",
   "execution_count": null,
   "metadata": {},
   "outputs": [],
   "source": [
    "df_sav3.to_csv('/home/piai/바탕화면/파이썬_기초/빅데이터프로젝트/ipynb파일/모델링_csv파일/model3.csv')"
   ]
  },
  {
   "cell_type": "code",
   "execution_count": null,
   "metadata": {},
   "outputs": [],
   "source": []
  }
 ],
 "metadata": {
  "kernelspec": {
   "display_name": "Python 3.10.6 ('minji')",
   "language": "python",
   "name": "python3"
  },
  "language_info": {
   "codemirror_mode": {
    "name": "ipython",
    "version": 3
   },
   "file_extension": ".py",
   "mimetype": "text/x-python",
   "name": "python",
   "nbconvert_exporter": "python",
   "pygments_lexer": "ipython3",
   "version": "3.10.6"
  },
  "orig_nbformat": 4,
  "vscode": {
   "interpreter": {
    "hash": "367b04bdf3d93ab264f16c7e234cfe6bce5c440d1d8775e766a4e2288a8560a0"
   }
  }
 },
 "nbformat": 4,
 "nbformat_minor": 2
}
