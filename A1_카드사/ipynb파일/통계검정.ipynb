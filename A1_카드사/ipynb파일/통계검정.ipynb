{
 "cells": [
  {
   "cell_type": "code",
   "execution_count": 26,
   "metadata": {},
   "outputs": [],
   "source": [
    "import numpy as np\n",
    "import statsmodels.api as sm\n",
    "import matplotlib.pyplot as plt\n",
    "from scipy import stats\n",
    "import pandas as pd"
   ]
  },
  {
   "cell_type": "markdown",
   "metadata": {},
   "source": [
    "# 피쳐의 통계검정"
   ]
  },
  {
   "cell_type": "markdown",
   "metadata": {},
   "source": [
    "카이제곱 검정의 독립성, 동일성 검정은 모두   \n",
    "stats.contingency(dataframe)을 이용해서 볼 수 있음.  \n",
    "\n",
    "독립성 검정의 의미가 (x,y)의 상관관계를 보고,\n",
    "동일성 검정이 (x,y)내에서 x의 집단별 차이가 있는 지 확인을 위함인 줄 알았는데\n",
    "그 독립성, 동일성 검정의 p-val이 0.05보다 차이가 없으므로, stats.contingency를 이용해서 독립성 및 동일성 검정을 진행하면 됨. "
   ]
  },
  {
   "cell_type": "code",
   "execution_count": 27,
   "metadata": {},
   "outputs": [],
   "source": [
    "df = pd.read_csv('/home/piai/바탕화면/파이썬_기초/빅데이터프로젝트/csv파일/텔레마케팅_파생변수.csv',index_col = 0) # 전처리된 df 불러오기"
   ]
  },
  {
   "cell_type": "markdown",
   "metadata": {},
   "source": [
    "## 범주형 피처의 각 구분별 계약여부의 차이가 있는지 없는지\n",
    "ex)\n",
    "- H0: 미혼 vs 기혼 vs 결혼의 계약 여부 차이가 없다.\n",
    "- H1: 미혼 vs 기혼 vs 결혼의 계약 여부 차이가 있다."
   ]
  },
  {
   "cell_type": "code",
   "execution_count": 28,
   "metadata": {},
   "outputs": [],
   "source": [
    "# 피처와 목표변수의 그룹화를 통해 크로스탭을 만들고 이를 카이제곱 동일성 검정 실행\n",
    "def chk_homo(df,feature,target):\n",
    "    data = df.groupby([feature,target],as_index = False)[target].value_counts() \n",
    "    d_table = pd.crosstab(index=data[feature],columns=data[target],\n",
    "                      values=data[\"count\"],aggfunc=sum,margins=True,margins_name=\"전체\")\n",
    "    chi,p,dof,expected = stats.chi2_contingency(d_table)\n",
    "    print(f'p-value: {p:.3f}\\n chi2q:{chi:.3f}\\n dof:{dof:.3f}')\n",
    "    if p< 0.05:\n",
    "        print(f'{feature}별 {target}는 차이가 있다.')\n",
    "    else:\n",
    "        print(f'{feature}별 {target}는 차이가 없다.')"
   ]
  },
  {
   "cell_type": "code",
   "execution_count": 29,
   "metadata": {},
   "outputs": [
    {
     "data": {
      "text/plain": [
       "Index(['연령', '직업군', '결혼여부', '학력', '신용카드소지여부', '주택대출여부', '개인대출여부', 'contact',\n",
       "       '통화시간', '연락시도횟수', 'p_days', '과거통화횟수', '계약여부', '카드종류', '연락일', '연령대',\n",
       "       '연락년도', '연락달', '연락날', '연락요일', '공휴일과평일', '혜택분야', '연회비', '연회비납부정도',\n",
       "       '대학교구분', '통화시간_분', '직업급여별'],\n",
       "      dtype='object')"
      ]
     },
     "execution_count": 29,
     "metadata": {},
     "output_type": "execute_result"
    }
   ],
   "source": [
    "df.columns"
   ]
  },
  {
   "cell_type": "markdown",
   "metadata": {},
   "source": [
    "연령대, 직업군, 학력, 연락시도횟수, contact, 대학교구분, 통화시간_분, 직업급여별,연락년도, 연락달, 연락요일,공휴일과 평일,혜택분야, 연회비, 연회비납부정도"
   ]
  },
  {
   "cell_type": "code",
   "execution_count": 31,
   "metadata": {},
   "outputs": [
    {
     "name": "stdout",
     "output_type": "stream",
     "text": [
      "p-value: nan\n",
      " chi2q:nan\n",
      " dof:3088.000\n",
      "통화시간_분별 계약여부는 차이가 없다.\n",
      "p-value: 0.000\n",
      " chi2q:596.455\n",
      " dof:8.000\n",
      "직업급여별별 계약여부는 차이가 있다.\n",
      "p-value: 1.000\n",
      " chi2q:0.004\n",
      " dof:4.000\n",
      "연락년도별 계약여부는 차이가 없다.\n"
     ]
    }
   ],
   "source": [
    "for i in ['통화시간_분', '직업급여별','연락년도']:\n",
    "    chk_homo(df,i,'계약여부')\n",
    "    "
   ]
  },
  {
   "cell_type": "code",
   "execution_count": 32,
   "metadata": {},
   "outputs": [
    {
     "name": "stdout",
     "output_type": "stream",
     "text": [
      "p-value: 0.000\n",
      " chi2q:1245.495\n",
      " dof:10.000\n",
      "연령대별 계약여부는 차이가 있다.\n",
      "p-value: 0.000\n",
      " chi2q:972.540\n",
      " dof:22.000\n",
      "직업군별 계약여부는 차이가 있다.\n",
      "p-value: 0.000\n",
      " chi2q:188.222\n",
      " dof:14.000\n",
      "학력별 계약여부는 차이가 있다.\n",
      "p-value: nan\n",
      " chi2q:nan\n",
      " dof:84.000\n",
      "연락시도횟수별 계약여부는 차이가 없다.\n",
      "p-value: 0.000\n",
      " chi2q:863.269\n",
      " dof:4.000\n",
      "contact별 계약여부는 차이가 있다.\n",
      "p-value: 0.000\n",
      " chi2q:100.558\n",
      " dof:4.000\n",
      "대학교구분별 계약여부는 차이가 있다.\n"
     ]
    }
   ],
   "source": [
    "for i in ['연령대', '직업군', '학력', '연락시도횟수', 'contact', '대학교구분']:\n",
    "    chk_homo(df,i,'계약여부')\n",
    "    "
   ]
  },
  {
   "cell_type": "code",
   "execution_count": 33,
   "metadata": {},
   "outputs": [
    {
     "name": "stdout",
     "output_type": "stream",
     "text": [
      "p-value: 0.000\n",
      " chi2q:250.699\n",
      " dof:24.000\n",
      "연락달별 계약여부는 차이가 있다.\n",
      "p-value: 0.335\n",
      " chi2q:15.655\n",
      " dof:14.000\n",
      "연락요일별 계약여부는 차이가 없다.\n",
      "p-value: 0.546\n",
      " chi2q:3.070\n",
      " dof:4.000\n",
      "공휴일과평일별 계약여부는 차이가 없다.\n",
      "p-value: 0.958\n",
      " chi2q:9.063\n",
      " dof:18.000\n",
      "혜택분야별 계약여부는 차이가 없다.\n",
      "p-value: 1.000\n",
      " chi2q:69.758\n",
      " dof:228.000\n",
      "연회비별 계약여부는 차이가 없다.\n",
      "p-value: 1.000\n",
      " chi2q:0.000\n",
      " dof:2.000\n",
      "연회비납부정도별 계약여부는 차이가 없다.\n"
     ]
    }
   ],
   "source": [
    "for i in ['연락달', '연락요일','공휴일과평일','혜택분야', '연회비', '연회비납부정도']:\n",
    "    chk_homo(df,i,'계약여부')\n",
    "    "
   ]
  },
  {
   "cell_type": "markdown",
   "metadata": {},
   "source": [
    "## 연속형 변수의 정규성 검정과 "
   ]
  },
  {
   "cell_type": "code",
   "execution_count": null,
   "metadata": {},
   "outputs": [],
   "source": [
    "## 통화시간(초) 와 통화시간(분)의 정규성 검정"
   ]
  },
  {
   "cell_type": "code",
   "execution_count": null,
   "metadata": {},
   "outputs": [
    {
     "data": {
      "image/png": "[encoded data removed]",
      "text/plain": [
       "<Figure size 1000x500 with 1 Axes>"
      ]
     },
     "metadata": {},
     "output_type": "display_data"
    }
   ],
   "source": [
    "\n",
    "temp = df[(df['통화시간_분']<6)]\n",
    "fig = plt.figure(figsize = (10, 5))\n",
    "ax1 = fig.add_subplot(1,2,1)\n",
    "sm.qqplot(np.log1p(temp['통화시간_분']+1), line = 'q', dist = stats.uniform, ax = ax1)\n",
    "plt.show()"
   ]
  },
  {
   "cell_type": "code",
   "execution_count": null,
   "metadata": {},
   "outputs": [
    {
     "data": {
      "text/plain": [
       "AndersonResult(statistic=131.768791425784, critical_values=array([0.576, 0.656, 0.787, 0.918, 1.092]), significance_level=array([15. , 10. ,  5. ,  2.5,  1. ]))"
      ]
     },
     "metadata": {},
     "output_type": "display_data"
    }
   ],
   "source": [
    "anderson = stats.anderson(np.log1p(temp['통화시간_분']))\n",
    "anderson"
   ]
  },
  {
   "cell_type": "markdown",
   "metadata": {},
   "source": [
    "## 정규성 검정\n",
    "- H0: 정규성이 있다\n",
    "- H1: 정규성이 없다."
   ]
  },
  {
   "cell_type": "code",
   "execution_count": null,
   "metadata": {},
   "outputs": [
    {
     "data": {
      "text/plain": [
       "AndersonResult(statistic=2770.4509413149135, critical_values=array([0.576, 0.656, 0.787, 0.918, 1.092]), significance_level=array([15. , 10. ,  5. ,  2.5,  1. ]))"
      ]
     },
     "metadata": {},
     "output_type": "display_data"
    }
   ],
   "source": [
    "# 라이브러리 호출\n",
    "import numpy as np\n",
    "from scipy.stats import anderson\n",
    "\n",
    "anderson = stats.anderson(df['통화시간']) # 표본이 5000개 이상\n",
    "anderson "
   ]
  },
  {
   "cell_type": "markdown",
   "metadata": {},
   "source": [
    "alpha_list = [15. , 10. ,  5. ,  2.5,  1. ] = [0.15, 0.1,0.05,0.25,0.01]이고 각각의 검정값은\n",
    "[0.576, 0.656, 0.787, 0.918, 1.092])임.  \n",
    "이때, 통계값 = 2770.450941314913 >>> 1.092(알파 = 0.01에서의 검정값) 이므로 정규성 H0기각-> 통화시간은 정규성 x"
   ]
  },
  {
   "cell_type": "code",
   "execution_count": null,
   "metadata": {},
   "outputs": [
    {
     "data": {
      "text/plain": [
       "AndersonResult(statistic=10.057468696162687, critical_values=array([0.576, 0.656, 0.787, 0.918, 1.092]), significance_level=array([15. , 10. ,  5. ,  2.5,  1. ]))"
      ]
     },
     "metadata": {},
     "output_type": "display_data"
    }
   ],
   "source": [
    "temp = pd.Series(stats.boxcox(df['통화시간_분']+1)[0])\n",
    "anderson = stats.anderson(temp) # 표본이 5000개 이상\n",
    "anderson #"
   ]
  },
  {
   "cell_type": "code",
   "execution_count": null,
   "metadata": {},
   "outputs": [
    {
     "data": {
      "text/plain": [
       "AndersonResult(statistic=92.89615157103253, critical_values=array([0.576, 0.656, 0.787, 0.918, 1.092]), significance_level=array([15. , 10. ,  5. ,  2.5,  1. ]))"
      ]
     },
     "metadata": {},
     "output_type": "display_data"
    }
   ],
   "source": [
    "anderson = stats.anderson(np.log1p(df['통화시간'])) # 표본이 5000개 이상\n",
    "anderson # "
   ]
  },
  {
   "cell_type": "markdown",
   "metadata": {},
   "source": [
    "alpha_list = [15. , 10. ,  5. ,  2.5,  1. ] = [0.15, 0.1,0.05,0.25,0.01]이고 각각의 검정값은\n",
    "[0.576, 0.656, 0.787, 0.918, 1.092])임.  \n",
    "이때, 통계값 = 92.89615157103253 >>> 1.092(알파 = 0.01에서의 검정값) 이므로 정규성 H0기각-> 통화시간은 정규성 x  \n",
    "-> 통화시간(초)는 피처의 유의미성이 없음"
   ]
  },
  {
   "cell_type": "code",
   "execution_count": null,
   "metadata": {},
   "outputs": [
    {
     "data": {
      "text/plain": [
       "AndersonResult(statistic=131.0353170635135, critical_values=array([0.576, 0.656, 0.787, 0.918, 1.092]), significance_level=array([15. , 10. ,  5. ,  2.5,  1. ]))"
      ]
     },
     "metadata": {},
     "output_type": "display_data"
    }
   ],
   "source": [
    "anderson = stats.anderson(np.log1p(df['통화시간_분'])) # 표본이 5000개 이상\n",
    "anderson # "
   ]
  },
  {
   "cell_type": "markdown",
   "metadata": {},
   "source": [
    "alpha_list = [15. , 10. ,  5. ,  2.5,  1. ] = [0.15, 0.1,0.05,0.25,0.01]이고 각각의 검정값은\n",
    "[0.576, 0.656, 0.787, 0.918, 1.092])임.  \n",
    "이때, 통계값 = 92.89615157103253 >>> 1.092(알파 = 0.01에서의 검정값) 이므로 정규성 H0기각-> 통화시간_분은 정규성 x  \n",
    "-> 통화시간(분)은 로그를 취해도 피처의 유의미성이 없음"
   ]
  },
  {
   "cell_type": "code",
   "execution_count": null,
   "metadata": {},
   "outputs": [
    {
     "data": {
      "text/plain": [
       "AndersonResult(statistic=131.0353170635135, critical_values=array([0.576, 0.656, 0.787, 0.918, 1.092]), significance_level=array([15. , 10. ,  5. ,  2.5,  1. ]))"
      ]
     },
     "metadata": {},
     "output_type": "display_data"
    }
   ],
   "source": [
    "anderson = stats.anderson(np.log1p(df['통화시간_분'])) # 표본이 5000개 이상\n",
    "anderson # "
   ]
  },
  {
   "cell_type": "markdown",
   "metadata": {},
   "source": [
    "정규성확인을 위한 그림 "
   ]
  },
  {
   "cell_type": "code",
   "execution_count": null,
   "metadata": {},
   "outputs": [
    {
     "data": {
      "text/html": [
       "<div>\n",
       "<style scoped>\n",
       "    .dataframe tbody tr th:only-of-type {\n",
       "        vertical-align: middle;\n",
       "    }\n",
       "\n",
       "    .dataframe tbody tr th {\n",
       "        vertical-align: top;\n",
       "    }\n",
       "\n",
       "    .dataframe thead th {\n",
       "        text-align: right;\n",
       "    }\n",
       "</style>\n",
       "<table border=\"1\" class=\"dataframe\">\n",
       "  <thead>\n",
       "    <tr style=\"text-align: right;\">\n",
       "      <th></th>\n",
       "      <th>통화시간</th>\n",
       "    </tr>\n",
       "  </thead>\n",
       "  <tbody>\n",
       "    <tr>\n",
       "      <th>count</th>\n",
       "      <td>41188.000000</td>\n",
       "    </tr>\n",
       "    <tr>\n",
       "      <th>mean</th>\n",
       "      <td>258.285010</td>\n",
       "    </tr>\n",
       "    <tr>\n",
       "      <th>std</th>\n",
       "      <td>259.279249</td>\n",
       "    </tr>\n",
       "    <tr>\n",
       "      <th>min</th>\n",
       "      <td>0.000000</td>\n",
       "    </tr>\n",
       "    <tr>\n",
       "      <th>25%</th>\n",
       "      <td>102.000000</td>\n",
       "    </tr>\n",
       "    <tr>\n",
       "      <th>50%</th>\n",
       "      <td>180.000000</td>\n",
       "    </tr>\n",
       "    <tr>\n",
       "      <th>75%</th>\n",
       "      <td>319.000000</td>\n",
       "    </tr>\n",
       "    <tr>\n",
       "      <th>max</th>\n",
       "      <td>4918.000000</td>\n",
       "    </tr>\n",
       "  </tbody>\n",
       "</table>\n",
       "</div>"
      ],
      "text/plain": [
       "               통화시간\n",
       "count  41188.000000\n",
       "mean     258.285010\n",
       "std      259.279249\n",
       "min        0.000000\n",
       "25%      102.000000\n",
       "50%      180.000000\n",
       "75%      319.000000\n",
       "max     4918.000000"
      ]
     },
     "metadata": {},
     "output_type": "display_data"
    }
   ],
   "source": [
    "# 초의 기술통계량\n",
    "pd.DataFrame(df['통화시간'].describe())"
   ]
  },
  {
   "cell_type": "code",
   "execution_count": null,
   "metadata": {},
   "outputs": [
    {
     "data": {
      "text/html": [
       "<div>\n",
       "<style scoped>\n",
       "    .dataframe tbody tr th:only-of-type {\n",
       "        vertical-align: middle;\n",
       "    }\n",
       "\n",
       "    .dataframe tbody tr th {\n",
       "        vertical-align: top;\n",
       "    }\n",
       "\n",
       "    .dataframe thead th {\n",
       "        text-align: right;\n",
       "    }\n",
       "</style>\n",
       "<table border=\"1\" class=\"dataframe\">\n",
       "  <thead>\n",
       "    <tr style=\"text-align: right;\">\n",
       "      <th></th>\n",
       "      <th>통화시간_분</th>\n",
       "    </tr>\n",
       "  </thead>\n",
       "  <tbody>\n",
       "    <tr>\n",
       "      <th>count</th>\n",
       "      <td>41188.000000</td>\n",
       "    </tr>\n",
       "    <tr>\n",
       "      <th>mean</th>\n",
       "      <td>4.304750</td>\n",
       "    </tr>\n",
       "    <tr>\n",
       "      <th>std</th>\n",
       "      <td>4.321321</td>\n",
       "    </tr>\n",
       "    <tr>\n",
       "      <th>min</th>\n",
       "      <td>0.000000</td>\n",
       "    </tr>\n",
       "    <tr>\n",
       "      <th>25%</th>\n",
       "      <td>1.700000</td>\n",
       "    </tr>\n",
       "    <tr>\n",
       "      <th>50%</th>\n",
       "      <td>3.000000</td>\n",
       "    </tr>\n",
       "    <tr>\n",
       "      <th>75%</th>\n",
       "      <td>5.316667</td>\n",
       "    </tr>\n",
       "    <tr>\n",
       "      <th>max</th>\n",
       "      <td>81.966667</td>\n",
       "    </tr>\n",
       "  </tbody>\n",
       "</table>\n",
       "</div>"
      ],
      "text/plain": [
       "             통화시간_분\n",
       "count  41188.000000\n",
       "mean       4.304750\n",
       "std        4.321321\n",
       "min        0.000000\n",
       "25%        1.700000\n",
       "50%        3.000000\n",
       "75%        5.316667\n",
       "max       81.966667"
      ]
     },
     "metadata": {},
     "output_type": "display_data"
    }
   ],
   "source": [
    "# 분의 기술통계량\n",
    "pd.DataFrame(df['통화시간_분'].describe())"
   ]
  },
  {
   "cell_type": "code",
   "execution_count": null,
   "metadata": {},
   "outputs": [],
   "source": [
    "temp = pd.DataFrame(df.통화시간_분.value_counts()).reset_index().rename(columns = {'index':'통화시간(분)',\n",
    "                                                                       '통화시간_분':'개수'}).sort_values('통화시간(분)', ascending= True)"
   ]
  },
  {
   "cell_type": "code",
   "execution_count": null,
   "metadata": {},
   "outputs": [],
   "source": [
    "tmp2 = temp[temp['통화시간(분)'] < 20]"
   ]
  },
  {
   "cell_type": "code",
   "execution_count": null,
   "metadata": {},
   "outputs": [],
   "source": [
    "tmp2 = temp[temp['통화시간(분)'] < 20]"
   ]
  },
  {
   "cell_type": "code",
   "execution_count": null,
   "metadata": {},
   "outputs": [
    {
     "data": {
      "text/plain": [
       "<matplotlib.collections.PathCollection at 0x7fc3200bdbd0>"
      ]
     },
     "metadata": {},
     "output_type": "display_data"
    },
    {
     "data": {
      "image/png": "[encoded data removed]",
      "text/plain": [
       "<Figure size 640x480 with 1 Axes>"
      ]
     },
     "metadata": {},
     "output_type": "display_data"
    }
   ],
   "source": [
    "#plt.scatter(temp['통화시간(분)'],temp['개수'])\n",
    "plt.scatter(tmp2['통화시간(분)'],tmp2['개수'])"
   ]
  },
  {
   "cell_type": "code",
   "execution_count": null,
   "metadata": {},
   "outputs": [
    {
     "data": {
      "text/plain": [
       "AndersonResult(statistic=11.790167779551666, critical_values=array([0.574, 0.654, 0.784, 0.915, 1.088]), significance_level=array([15. , 10. ,  5. ,  2.5,  1. ]))"
      ]
     },
     "metadata": {},
     "output_type": "display_data"
    }
   ],
   "source": [
    "temp = pd.Series(stats.boxcox(tmp2['통화시간(분)']+1)[0])\n",
    "anderson = stats.anderson(temp) # 표본이 5000개 이상\n",
    "anderson"
   ]
  },
  {
   "cell_type": "code",
   "execution_count": null,
   "metadata": {},
   "outputs": [
    {
     "data": {
      "text/plain": [
       "4640"
      ]
     },
     "metadata": {},
     "output_type": "display_data"
    }
   ],
   "source": [
    "len(df[(df['계약여부'] == 'yes')])"
   ]
  },
  {
   "cell_type": "code",
   "execution_count": null,
   "metadata": {},
   "outputs": [
    {
     "data": {
      "text/plain": [
       "321"
      ]
     },
     "metadata": {},
     "output_type": "display_data"
    }
   ],
   "source": [
    "len(df[(df['통화시간_분'] > 20) & (df['계약여부'] == 'yes')])"
   ]
  },
  {
   "cell_type": "code",
   "execution_count": null,
   "metadata": {},
   "outputs": [
    {
     "data": {
      "text/plain": [
       "513"
      ]
     },
     "metadata": {},
     "output_type": "display_data"
    }
   ],
   "source": [
    "len(df[(df['통화시간_분'] > 20)])"
   ]
  },
  {
   "cell_type": "code",
   "execution_count": null,
   "metadata": {},
   "outputs": [
    {
     "data": {
      "text/plain": [
       "4319"
      ]
     },
     "metadata": {},
     "output_type": "display_data"
    }
   ],
   "source": [
    "len(df[(df['통화시간_분'] < 20) & (df['계약여부'] == 'yes')])"
   ]
  },
  {
   "cell_type": "code",
   "execution_count": null,
   "metadata": {},
   "outputs": [
    {
     "data": {
      "text/plain": [
       "40673"
      ]
     },
     "metadata": {},
     "output_type": "display_data"
    }
   ],
   "source": [
    "len(df[(df['통화시간_분'] < 20)])"
   ]
  }
 ],
 "metadata": {
  "kernelspec": {
   "display_name": "Python 3.10.6 ('minji')",
   "language": "python",
   "name": "python3"
  },
  "language_info": {
   "codemirror_mode": {
    "name": "ipython",
    "version": 3
   },
   "file_extension": ".py",
   "mimetype": "text/x-python",
   "name": "python",
   "nbconvert_exporter": "python",
   "pygments_lexer": "ipython3",
   "version": "3.10.6"
  },
  "orig_nbformat": 4,
  "vscode": {
   "interpreter": {
    "hash": "367b04bdf3d93ab264f16c7e234cfe6bce5c440d1d8775e766a4e2288a8560a0"
   }
  }
 },
 "nbformat": 4,
 "nbformat_minor": 2
}
