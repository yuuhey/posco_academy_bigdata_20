{
 "cells": [
  {
   "cell_type": "code",
   "execution_count": 1,
   "id": "db18a49a",
   "metadata": {},
   "outputs": [],
   "source": [
    "import pandas as pd\n",
    "import numpy as np\n",
    "\n",
    "import matplotlib\n",
    "import matplotlib.pyplot as plt\n",
    "# Warning\n",
    "import warnings\n",
    "warnings.filterwarnings('ignore')\n",
    "# Font\n",
    "matplotlib.rc(\"font\", family = \"NanumGothic\")\n",
    "matplotlib.rc(\"axes\", unicode_minus = False)"
   ]
  },
  {
   "cell_type": "markdown",
   "id": "23f9e0a8",
   "metadata": {},
   "source": [
    "## 이탈률 - 최근 구매일 기준으로"
   ]
  },
  {
   "cell_type": "code",
   "execution_count": 2,
   "id": "6e2a7e2e",
   "metadata": {},
   "outputs": [
    {
     "data": {
      "image/png": "[encoded data removed]",
      "text/plain": [
       "<Figure size 640x480 with 1 Axes>"
      ]
     },
     "metadata": {},
     "output_type": "display_data"
    }
   ],
   "source": [
    "Member = pd.read_csv('/home/piai/다운로드/A2/Member_data.csv', low_memory = False)\n",
    "Sales = pd.read_csv('/home/piai/다운로드/A2/Sales_data.csv', low_memory = False)\n",
    "\n",
    "# Na 제거\n",
    "Member = Member.dropna(axis = 0)\n",
    "Sales = Sales.dropna(axis = 0)\n",
    "# 필요없는 column 제거\n",
    "Member = Member.drop(['결제등록카드'], axis = 1)\n",
    "Sales = Sales.drop(['주문번호', '배송시작일', '배송완료일', '구매시월령(수정)', '상품명', '물품대분류'], axis = 1)\n",
    "\n",
    "# 여자 / 기혼 / 자녀 YES : 1 , 남자 / 미혼 / 자녀 NO : 0\n",
    "Member[\"성별\"] = np.where(Member[\"성별\"] == '여', 1,0)\n",
    "Member[\"결혼유무\"] = np.where(Member[\"결혼유무\"] == '기혼', 1,0)\n",
    "Member[\"자녀여부\"] = np.where(Member[\"자녀여부\"] == 'Yes', 1,0)\n",
    "\n",
    "# Sales와 Memebers 병합\n",
    "df_merge = pd.merge(Member, Sales, how = 'outer', on = '고객번호')\n",
    "df_merge = df_merge.dropna(axis = 0)\n",
    "# 구매일 특문 제거\n",
    "df_merge['구매일'] = df_merge['구매일'].str.replace(pat = r'\\D+', repl = r'', regex = True)\n",
    "\n",
    "# 같은 고객번호 내에서 구매일 최근거 빼고 다 제거 : 67840개중, 65546개만 남아야 함\n",
    "df = pd.DataFrame(df_merge[['고객번호', '구매일']]) ;df.reset_index(drop = True)\n",
    "recency = df.drop_duplicates(['고객번호'], keep = 'last')\n",
    "\n",
    "# active : 2019년 8월 7일 ~ 2020년 8월 7일 활동 고객\n",
    "# dormant : 2019년 1월 1일 ~ 2019년 8월 6일 휴면 고객(1년간 활동 없음)\n",
    "# recency = recency.sort_values('구매일', ascending = True)\n",
    "active = pd.DataFrame(recency[recency[\"구매일\"] >= '20190807']) # 활동 고객 45043명\n",
    "dormant = pd.DataFrame(recency[recency[\"구매일\"] < '20190807']) # 휴면 고객 20503명\n",
    "\n",
    "ratio = [len(active), len(dormant)]\n",
    "labels = ['활동 고객', '휴면 고객']\n",
    "colors = ['lightblue', 'lightgray']\n",
    "explode = [0.1, 0.0]\n",
    "\n",
    "plt.pie(ratio, labels = labels, autopct = '%.1f%%', explode = explode, colors = colors)\n",
    "plt.show()"
   ]
  },
  {
   "cell_type": "code",
   "execution_count": 3,
   "id": "ca76aff6",
   "metadata": {},
   "outputs": [
    {
     "data": {
      "text/html": [
       "<div>\n",
       "<style scoped>\n",
       "    .dataframe tbody tr th:only-of-type {\n",
       "        vertical-align: middle;\n",
       "    }\n",
       "\n",
       "    .dataframe tbody tr th {\n",
       "        vertical-align: top;\n",
       "    }\n",
       "\n",
       "    .dataframe thead th {\n",
       "        text-align: right;\n",
       "    }\n",
       "</style>\n",
       "<table border=\"1\" class=\"dataframe\">\n",
       "  <thead>\n",
       "    <tr style=\"text-align: right;\">\n",
       "      <th></th>\n",
       "      <th>고객번호</th>\n",
       "      <th>최근구매일</th>\n",
       "      <th>가입일</th>\n",
       "      <th>고객번호(가입일제외)</th>\n",
       "    </tr>\n",
       "  </thead>\n",
       "  <tbody>\n",
       "    <tr>\n",
       "      <th>0</th>\n",
       "      <td>201812310749735</td>\n",
       "      <td>20200220</td>\n",
       "      <td>20181231</td>\n",
       "      <td>749735</td>\n",
       "    </tr>\n",
       "    <tr>\n",
       "      <th>1</th>\n",
       "      <td>201812310749771</td>\n",
       "      <td>20190513</td>\n",
       "      <td>20181231</td>\n",
       "      <td>749771</td>\n",
       "    </tr>\n",
       "    <tr>\n",
       "      <th>2</th>\n",
       "      <td>201812310749774</td>\n",
       "      <td>20190729</td>\n",
       "      <td>20181231</td>\n",
       "      <td>749774</td>\n",
       "    </tr>\n",
       "    <tr>\n",
       "      <th>3</th>\n",
       "      <td>201812310749780</td>\n",
       "      <td>20190130</td>\n",
       "      <td>20181231</td>\n",
       "      <td>749780</td>\n",
       "    </tr>\n",
       "    <tr>\n",
       "      <th>4</th>\n",
       "      <td>201812310749784</td>\n",
       "      <td>20200723</td>\n",
       "      <td>20181231</td>\n",
       "      <td>749784</td>\n",
       "    </tr>\n",
       "    <tr>\n",
       "      <th>5</th>\n",
       "      <td>201812310749787</td>\n",
       "      <td>20200724</td>\n",
       "      <td>20181231</td>\n",
       "      <td>749787</td>\n",
       "    </tr>\n",
       "    <tr>\n",
       "      <th>6</th>\n",
       "      <td>201812310749792</td>\n",
       "      <td>20190907</td>\n",
       "      <td>20181231</td>\n",
       "      <td>749792</td>\n",
       "    </tr>\n",
       "    <tr>\n",
       "      <th>7</th>\n",
       "      <td>201812310749802</td>\n",
       "      <td>20191219</td>\n",
       "      <td>20181231</td>\n",
       "      <td>749802</td>\n",
       "    </tr>\n",
       "    <tr>\n",
       "      <th>8</th>\n",
       "      <td>201812310749811</td>\n",
       "      <td>20190620</td>\n",
       "      <td>20181231</td>\n",
       "      <td>749811</td>\n",
       "    </tr>\n",
       "    <tr>\n",
       "      <th>9</th>\n",
       "      <td>201812310749816</td>\n",
       "      <td>20190227</td>\n",
       "      <td>20181231</td>\n",
       "      <td>749816</td>\n",
       "    </tr>\n",
       "  </tbody>\n",
       "</table>\n",
       "</div>"
      ],
      "text/plain": [
       "              고객번호     최근구매일       가입일  고객번호(가입일제외)\n",
       "0  201812310749735  20200220  20181231       749735\n",
       "1  201812310749771  20190513  20181231       749771\n",
       "2  201812310749774  20190729  20181231       749774\n",
       "3  201812310749780  20190130  20181231       749780\n",
       "4  201812310749784  20200723  20181231       749784\n",
       "5  201812310749787  20200724  20181231       749787\n",
       "6  201812310749792  20190907  20181231       749792\n",
       "7  201812310749802  20191219  20181231       749802\n",
       "8  201812310749811  20190620  20181231       749811\n",
       "9  201812310749816  20190227  20181231       749816"
      ]
     },
     "execution_count": 3,
     "metadata": {},
     "output_type": "execute_result"
    }
   ],
   "source": [
    "recency = pd.read_csv('/home/piai/다운로드/A2/최근구매일.csv', encoding = 'euc-kr', low_memory = False)\n",
    "recency = recency.drop(recency.columns[0], axis = 1)\n",
    "recency.head(10)"
   ]
  },
  {
   "cell_type": "code",
   "execution_count": 4,
   "id": "a3a4c27d",
   "metadata": {},
   "outputs": [],
   "source": [
    "# churn = 당월 고객 이탈 수 / 월초 고객 수 x 100\n"
   ]
  },
  {
   "cell_type": "code",
   "execution_count": null,
   "id": "4931c0fa",
   "metadata": {},
   "outputs": [],
   "source": []
  },
  {
   "cell_type": "code",
   "execution_count": null,
   "id": "67ae9217",
   "metadata": {},
   "outputs": [],
   "source": []
  },
  {
   "cell_type": "code",
   "execution_count": null,
   "id": "9ca4f44b",
   "metadata": {},
   "outputs": [],
   "source": []
  },
  {
   "cell_type": "code",
   "execution_count": null,
   "id": "69004cb8",
   "metadata": {},
   "outputs": [],
   "source": []
  },
  {
   "cell_type": "code",
   "execution_count": null,
   "id": "9ca87949",
   "metadata": {},
   "outputs": [],
   "source": []
  },
  {
   "cell_type": "code",
   "execution_count": null,
   "id": "6bedbadf",
   "metadata": {},
   "outputs": [],
   "source": []
  },
  {
   "cell_type": "code",
   "execution_count": null,
   "id": "cdcfad88",
   "metadata": {},
   "outputs": [],
   "source": []
  },
  {
   "cell_type": "code",
   "execution_count": null,
   "id": "975d2001",
   "metadata": {},
   "outputs": [],
   "source": []
  },
  {
   "cell_type": "code",
   "execution_count": 5,
   "id": "80d1c3c0",
   "metadata": {},
   "outputs": [
    {
     "ename": "SyntaxError",
     "evalue": "invalid syntax (4304192.py, line 7)",
     "output_type": "error",
     "traceback": [
      "\u001b[0;36m  File \u001b[0;32m\"/tmp/ipykernel_13578/4304192.py\"\u001b[0;36m, line \u001b[0;32m7\u001b[0m\n\u001b[0;31m    first_buy_month = first_buy.구매일.\u001b[0m\n\u001b[0m                                    ^\u001b[0m\n\u001b[0;31mSyntaxError\u001b[0m\u001b[0;31m:\u001b[0m invalid syntax\n"
     ]
    }
   ],
   "source": [
    "# 빈도수 (Frequency) 확인\n",
    "df.groupby('고객번호').count()\n",
    "\n",
    "# first_buy : 고객별 첫 구매일\n",
    "first_buy = df.drop_duplicates(['고객번호'], keep = 'first')\n",
    "first_buy.head()\n",
    "first_buy_month = first_buy.구매일."
   ]
  },
  {
   "cell_type": "code",
   "execution_count": null,
   "id": "ddb1308a",
   "metadata": {},
   "outputs": [],
   "source": [
    "# RECENCY 계산\n",
    "# 아래 두개는 연도별, 월별 필요할 때 사용\n",
    "# customer_year = df_merge.구매일.str.split('-').str[0]\n",
    "# customer_month = df_merge.구매일.str.split('-').str[1]"
   ]
  },
  {
   "cell_type": "code",
   "execution_count": null,
   "id": "800fe647",
   "metadata": {},
   "outputs": [],
   "source": [
    "Member.select_dtypes(object).columns\n",
    "# Member.거주지역.unique() # 15개\n",
    "Member.유입경로.unique() # 10개\n",
    "# Member.연령.nunique() # 연령 27개\n",
    "\n",
    "Sales.select_dtypes(object).columns\n",
    "Sales.고객번호.nunique() # 65732명 -> 15362명 없음\n",
    "# Sales.물품대분류.nunique() #10개"
   ]
  }
 ],
 "metadata": {
  "kernelspec": {
   "display_name": "Python 3 (ipykernel)",
   "language": "python",
   "name": "python3"
  },
  "language_info": {
   "codemirror_mode": {
    "name": "ipython",
    "version": 3
   },
   "file_extension": ".py",
   "mimetype": "text/x-python",
   "name": "python",
   "nbconvert_exporter": "python",
   "pygments_lexer": "ipython3",
   "version": "3.9.13"
  }
 },
 "nbformat": 4,
 "nbformat_minor": 5
}
