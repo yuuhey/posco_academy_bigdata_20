{
 "cells": [
  {
   "cell_type": "code",
   "execution_count": 2,
   "metadata": {},
   "outputs": [],
   "source": [
    "import pandas as pd\n",
    "import numpy as np\n",
    "import seaborn as sns\n",
    "import matplotlib.pyplot as plt\n",
    "import matplotlib\n",
    "\n",
    "matplotlib.rc('font', family='NanumGothic')\n",
    "matplotlib.rc('axes', unicode_minus=False)\n",
    "%matplotlib inline"
   ]
  },
  {
   "cell_type": "code",
   "execution_count": 3,
   "metadata": {},
   "outputs": [
    {
     "data": {
      "text/plain": [
       "Index(['주문번호', '구매일', '배송시작일', '배송완료일', '구매시월령(수정)', '고객번호', '구매금액', '결제금액',\n",
       "       '물품대분류', '상품명', '수량추정', '구매월', '할인율'],\n",
       "      dtype='object')"
      ]
     },
     "execution_count": 3,
     "metadata": {},
     "output_type": "execute_result"
    }
   ],
   "source": [
    "df = pd.read_csv('./data/new_sales4.csv', encoding='euc-kr')\n",
    "df.columns"
   ]
  },
  {
   "cell_type": "code",
   "execution_count": 4,
   "metadata": {},
   "outputs": [],
   "source": [
    "recendancy = df.groupby('고객번호')['주문번호'].max()\n",
    "frequency = df.groupby('고객번호')['구매일'].nunique()\n",
    "monetary = df.groupby('고객번호')['결제금액'].sum()"
   ]
  },
  {
   "cell_type": "code",
   "execution_count": 20,
   "metadata": {},
   "outputs": [],
   "source": [
    "df2 = pd.concat([recendancy, frequency, monetary], axis=1).reset_index()\n",
    "df2.columns = ['customer','recendancy','frequency','monetary']"
   ]
  },
  {
   "cell_type": "code",
   "execution_count": 21,
   "metadata": {},
   "outputs": [
    {
     "data": {
      "text/html": [
       "<div>\n",
       "<style scoped>\n",
       "    .dataframe tbody tr th:only-of-type {\n",
       "        vertical-align: middle;\n",
       "    }\n",
       "\n",
       "    .dataframe tbody tr th {\n",
       "        vertical-align: top;\n",
       "    }\n",
       "\n",
       "    .dataframe thead th {\n",
       "        text-align: right;\n",
       "    }\n",
       "</style>\n",
       "<table border=\"1\" class=\"dataframe\">\n",
       "  <thead>\n",
       "    <tr style=\"text-align: right;\">\n",
       "      <th></th>\n",
       "      <th>customer</th>\n",
       "      <th>recendancy</th>\n",
       "      <th>frequency</th>\n",
       "      <th>monetary</th>\n",
       "    </tr>\n",
       "  </thead>\n",
       "  <tbody>\n",
       "    <tr>\n",
       "      <th>0</th>\n",
       "      <td>201812310749735</td>\n",
       "      <td>202002203424450</td>\n",
       "      <td>2</td>\n",
       "      <td>54083</td>\n",
       "    </tr>\n",
       "    <tr>\n",
       "      <th>1</th>\n",
       "      <td>201812310749770</td>\n",
       "      <td>201902282095385</td>\n",
       "      <td>1</td>\n",
       "      <td>3800</td>\n",
       "    </tr>\n",
       "    <tr>\n",
       "      <th>2</th>\n",
       "      <td>201812310749771</td>\n",
       "      <td>201905132367003</td>\n",
       "      <td>1</td>\n",
       "      <td>47922</td>\n",
       "    </tr>\n",
       "    <tr>\n",
       "      <th>3</th>\n",
       "      <td>201812310749774</td>\n",
       "      <td>201907282649358</td>\n",
       "      <td>2</td>\n",
       "      <td>116532</td>\n",
       "    </tr>\n",
       "    <tr>\n",
       "      <th>4</th>\n",
       "      <td>201812310749780</td>\n",
       "      <td>201901301958105</td>\n",
       "      <td>1</td>\n",
       "      <td>19900</td>\n",
       "    </tr>\n",
       "  </tbody>\n",
       "</table>\n",
       "</div>"
      ],
      "text/plain": [
       "          customer       recendancy  frequency  monetary\n",
       "0  201812310749735  202002203424450          2     54083\n",
       "1  201812310749770  201902282095385          1      3800\n",
       "2  201812310749771  201905132367003          1     47922\n",
       "3  201812310749774  201907282649358          2    116532\n",
       "4  201812310749780  201901301958105          1     19900"
      ]
     },
     "execution_count": 21,
     "metadata": {},
     "output_type": "execute_result"
    }
   ],
   "source": [
    "df2.head()"
   ]
  },
  {
   "cell_type": "code",
   "execution_count": 22,
   "metadata": {},
   "outputs": [
    {
     "data": {
      "text/html": [
       "<div>\n",
       "<style scoped>\n",
       "    .dataframe tbody tr th:only-of-type {\n",
       "        vertical-align: middle;\n",
       "    }\n",
       "\n",
       "    .dataframe tbody tr th {\n",
       "        vertical-align: top;\n",
       "    }\n",
       "\n",
       "    .dataframe thead th {\n",
       "        text-align: right;\n",
       "    }\n",
       "</style>\n",
       "<table border=\"1\" class=\"dataframe\">\n",
       "  <thead>\n",
       "    <tr style=\"text-align: right;\">\n",
       "      <th></th>\n",
       "      <th>customer</th>\n",
       "      <th>recendancy</th>\n",
       "      <th>frequency</th>\n",
       "      <th>monetary</th>\n",
       "    </tr>\n",
       "  </thead>\n",
       "  <tbody>\n",
       "    <tr>\n",
       "      <th>0</th>\n",
       "      <td>201812310749735</td>\n",
       "      <td>168</td>\n",
       "      <td>2</td>\n",
       "      <td>54083</td>\n",
       "    </tr>\n",
       "    <tr>\n",
       "      <th>1</th>\n",
       "      <td>201812310749770</td>\n",
       "      <td>525</td>\n",
       "      <td>1</td>\n",
       "      <td>3800</td>\n",
       "    </tr>\n",
       "    <tr>\n",
       "      <th>2</th>\n",
       "      <td>201812310749771</td>\n",
       "      <td>451</td>\n",
       "      <td>1</td>\n",
       "      <td>47922</td>\n",
       "    </tr>\n",
       "    <tr>\n",
       "      <th>3</th>\n",
       "      <td>201812310749774</td>\n",
       "      <td>375</td>\n",
       "      <td>2</td>\n",
       "      <td>116532</td>\n",
       "    </tr>\n",
       "    <tr>\n",
       "      <th>4</th>\n",
       "      <td>201812310749780</td>\n",
       "      <td>554</td>\n",
       "      <td>1</td>\n",
       "      <td>19900</td>\n",
       "    </tr>\n",
       "  </tbody>\n",
       "</table>\n",
       "</div>"
      ],
      "text/plain": [
       "          customer  recendancy  frequency  monetary\n",
       "0  201812310749735         168          2     54083\n",
       "1  201812310749770         525          1      3800\n",
       "2  201812310749771         451          1     47922\n",
       "3  201812310749774         375          2    116532\n",
       "4  201812310749780         554          1     19900"
      ]
     },
     "execution_count": 22,
     "metadata": {},
     "output_type": "execute_result"
    }
   ],
   "source": [
    "df2['recendancy'] = df2['recendancy'].apply(str).apply(lambda x:x[:4] + '-' + x[4:6] + '-' + x[6:8])\n",
    "today = np.datetime64(df2.recendancy.max(), 'D')\n",
    "df2['recendancy'] = df2.recendancy.apply(lambda x:today-np.datetime64(x, 'D')).dt.days\n",
    "df2.head()"
   ]
  },
  {
   "cell_type": "code",
   "execution_count": 23,
   "metadata": {},
   "outputs": [],
   "source": [
    "def dummy_recendancy(x, interval):\n",
    "    for i in range(1, 6):\n",
    "        if i-1 < x <= interval*i:\n",
    "            return (i/5) # 0 to 1\n",
    "    return (0)\n",
    "\n",
    "df2.recendancy = df2.recendancy.apply(lambda x:dummy_recendancy(x, 90))"
   ]
  },
  {
   "cell_type": "code",
   "execution_count": 24,
   "metadata": {},
   "outputs": [
    {
     "data": {
      "text/plain": [
       "0.8    16880\n",
       "0.0    14517\n",
       "0.6    14422\n",
       "1.0    13543\n",
       "0.2    11605\n",
       "0.4    10088\n",
       "Name: recendancy, dtype: int64"
      ]
     },
     "execution_count": 24,
     "metadata": {},
     "output_type": "execute_result"
    }
   ],
   "source": [
    "# 0 is no grade 5 is highest grade\n",
    "df2['recendancy'].value_counts()"
   ]
  },
  {
   "cell_type": "code",
   "execution_count": 25,
   "metadata": {},
   "outputs": [],
   "source": [
    "def dummy_frequency(x, interval):\n",
    "    for i in range(1, 6):\n",
    "        if i-1 < x <= interval*i:\n",
    "            return (i/5)\n",
    "    return (1)\n",
    "\n",
    "df2.frequency = df2.frequency.apply(lambda x:dummy_frequency(x, 2))"
   ]
  },
  {
   "cell_type": "code",
   "execution_count": 34,
   "metadata": {},
   "outputs": [
    {
     "data": {
      "text/plain": [
       "0.2    62710\n",
       "0.4     9895\n",
       "0.6     4106\n",
       "1.0     2368\n",
       "0.8     1976\n",
       "Name: frequency, dtype: int64"
      ]
     },
     "execution_count": 34,
     "metadata": {},
     "output_type": "execute_result"
    }
   ],
   "source": [
    "df2.frequency.value_counts()"
   ]
  },
  {
   "cell_type": "code",
   "execution_count": 42,
   "metadata": {},
   "outputs": [],
   "source": [
    "interval = [30000, 100000, 250000, 500000, 1000000]\n",
    "def dummy_monetary(x, interval):\n",
    "    for i in range(1, 6):\n",
    "        if i == 1:\n",
    "            if x <= interval[i-1]:\n",
    "                return (i/5)\n",
    "            else:\n",
    "                continue        \n",
    "        if interval[i-2] < x <= interval[i-1]:\n",
    "            return (i/5)\n",
    "    return (1)\n",
    "\n",
    "df2.monetary = df2.monetary.apply(lambda x:dummy_monetary(x, interval))"
   ]
  },
  {
   "cell_type": "code",
   "execution_count": 44,
   "metadata": {},
   "outputs": [
    {
     "data": {
      "text/plain": [
       "0.2    45541\n",
       "0.4    23655\n",
       "0.6     8813\n",
       "0.8     2559\n",
       "1.0      487\n",
       "Name: monetary, dtype: int64"
      ]
     },
     "execution_count": 44,
     "metadata": {},
     "output_type": "execute_result"
    }
   ],
   "source": [
    "df2.monetary.value_counts()"
   ]
  },
  {
   "cell_type": "code",
   "execution_count": 88,
   "metadata": {},
   "outputs": [],
   "source": [
    "rfm = df2.recendancy + df2.frequency + (1.5*(df2.monetary))\n",
    "df2['rfm'] = rfm"
   ]
  },
  {
   "cell_type": "code",
   "execution_count": 89,
   "metadata": {},
   "outputs": [
    {
     "data": {
      "text/plain": [
       "count    81055.000000\n",
       "mean         1.289953\n",
       "std          0.480121\n",
       "min          0.500000\n",
       "25%          1.000000\n",
       "50%          1.300000\n",
       "75%          1.600000\n",
       "max          3.200000\n",
       "dtype: float64"
      ]
     },
     "execution_count": 89,
     "metadata": {},
     "output_type": "execute_result"
    }
   ],
   "source": [
    "rfm.describe()"
   ]
  },
  {
   "cell_type": "code",
   "execution_count": 90,
   "metadata": {},
   "outputs": [],
   "source": [
    "rfm_interval = [0.9, 1.35, 1.5, 1.9, 2.3]\n",
    "def dummy_rfm(x, interval):\n",
    "    for i in range(1, 6):\n",
    "        if i == 1:\n",
    "            if x <= interval[i-1]:\n",
    "                return (i)\n",
    "            else:\n",
    "                continue\n",
    "        if (interval[i-2] < x <= interval[i-1]):\n",
    "            return (i)\n",
    "    return (5)\n",
    "\n",
    "df2['rfm'] = df2.rfm.apply(lambda x:dummy_rfm(x, rfm_interval))"
   ]
  },
  {
   "cell_type": "code",
   "execution_count": 118,
   "metadata": {},
   "outputs": [
    {
     "data": {
      "text/plain": [
       "1    0.202023\n",
       "2    0.357486\n",
       "3    0.178607\n",
       "4    0.188970\n",
       "5    0.072913\n",
       "Name: rfm, dtype: float64"
      ]
     },
     "execution_count": 118,
     "metadata": {},
     "output_type": "execute_result"
    }
   ],
   "source": [
    "df2['rfm'].value_counts().sort_index()/len(df2.rfm)"
   ]
  },
  {
   "cell_type": "code",
   "execution_count": null,
   "metadata": {},
   "outputs": [],
   "source": [
    "pd.read_csv('./data/Member_data2.csv')"
   ]
  },
  {
   "cell_type": "code",
   "execution_count": 101,
   "metadata": {},
   "outputs": [],
   "source": [
    "df2 = df2.set_index('customer')\n",
    "df2['총구매금액'] = monetary\n",
    "df2 = df2.reset_index()\n",
    "df2 = df2.rename(columns = {'customer':'고객번호'})"
   ]
  },
  {
   "cell_type": "code",
   "execution_count": 112,
   "metadata": {},
   "outputs": [],
   "source": [
    "df3 = pd.merge(pd.read_csv('./data/Member_data2.csv'), df2, on='고객번호')"
   ]
  },
  {
   "cell_type": "code",
   "execution_count": 113,
   "metadata": {},
   "outputs": [
    {
     "data": {
      "text/html": [
       "<div>\n",
       "<style scoped>\n",
       "    .dataframe tbody tr th:only-of-type {\n",
       "        vertical-align: middle;\n",
       "    }\n",
       "\n",
       "    .dataframe tbody tr th {\n",
       "        vertical-align: top;\n",
       "    }\n",
       "\n",
       "    .dataframe thead th {\n",
       "        text-align: right;\n",
       "    }\n",
       "</style>\n",
       "<table border=\"1\" class=\"dataframe\">\n",
       "  <thead>\n",
       "    <tr style=\"text-align: right;\">\n",
       "      <th></th>\n",
       "      <th>고객번호</th>\n",
       "      <th>성별</th>\n",
       "      <th>결혼유무</th>\n",
       "      <th>거주지역</th>\n",
       "      <th>연령</th>\n",
       "      <th>결제등록카드</th>\n",
       "      <th>유입경로</th>\n",
       "      <th>자녀여부</th>\n",
       "      <th>recendancy</th>\n",
       "      <th>frequency</th>\n",
       "      <th>monetary</th>\n",
       "      <th>rfm</th>\n",
       "      <th>총구매금액</th>\n",
       "    </tr>\n",
       "  </thead>\n",
       "  <tbody>\n",
       "    <tr>\n",
       "      <th>0</th>\n",
       "      <td>201812310749735</td>\n",
       "      <td>여</td>\n",
       "      <td>기혼</td>\n",
       "      <td>인천</td>\n",
       "      <td>37.0</td>\n",
       "      <td>국민은행</td>\n",
       "      <td>인스타그램</td>\n",
       "      <td>Yes</td>\n",
       "      <td>0.4</td>\n",
       "      <td>0.2</td>\n",
       "      <td>0.4</td>\n",
       "      <td>2</td>\n",
       "      <td>54083</td>\n",
       "    </tr>\n",
       "    <tr>\n",
       "      <th>1</th>\n",
       "      <td>201812310749770</td>\n",
       "      <td>여</td>\n",
       "      <td>기혼</td>\n",
       "      <td>제주</td>\n",
       "      <td>33.0</td>\n",
       "      <td>국민은행</td>\n",
       "      <td>검색광고</td>\n",
       "      <td>Yes</td>\n",
       "      <td>0.0</td>\n",
       "      <td>0.2</td>\n",
       "      <td>0.2</td>\n",
       "      <td>1</td>\n",
       "      <td>3800</td>\n",
       "    </tr>\n",
       "    <tr>\n",
       "      <th>2</th>\n",
       "      <td>201812310749771</td>\n",
       "      <td>여</td>\n",
       "      <td>기혼</td>\n",
       "      <td>부산</td>\n",
       "      <td>32.0</td>\n",
       "      <td>하나은행</td>\n",
       "      <td>네이버블로그</td>\n",
       "      <td>Yes</td>\n",
       "      <td>0.0</td>\n",
       "      <td>0.2</td>\n",
       "      <td>0.4</td>\n",
       "      <td>1</td>\n",
       "      <td>47922</td>\n",
       "    </tr>\n",
       "    <tr>\n",
       "      <th>3</th>\n",
       "      <td>201812310749774</td>\n",
       "      <td>여</td>\n",
       "      <td>미혼</td>\n",
       "      <td>경남</td>\n",
       "      <td>34.0</td>\n",
       "      <td>기업은행</td>\n",
       "      <td>지인추천</td>\n",
       "      <td>No</td>\n",
       "      <td>1.0</td>\n",
       "      <td>0.2</td>\n",
       "      <td>0.6</td>\n",
       "      <td>5</td>\n",
       "      <td>116532</td>\n",
       "    </tr>\n",
       "    <tr>\n",
       "      <th>4</th>\n",
       "      <td>201812310749780</td>\n",
       "      <td>여</td>\n",
       "      <td>기혼</td>\n",
       "      <td>서울</td>\n",
       "      <td>32.0</td>\n",
       "      <td>신한은행</td>\n",
       "      <td>직접검색</td>\n",
       "      <td>Yes</td>\n",
       "      <td>0.0</td>\n",
       "      <td>0.2</td>\n",
       "      <td>0.2</td>\n",
       "      <td>1</td>\n",
       "      <td>19900</td>\n",
       "    </tr>\n",
       "  </tbody>\n",
       "</table>\n",
       "</div>"
      ],
      "text/plain": [
       "              고객번호 성별 결혼유무 거주지역    연령 결제등록카드    유입경로 자녀여부  recendancy  \\\n",
       "0  201812310749735  여   기혼   인천  37.0   국민은행   인스타그램  Yes         0.4   \n",
       "1  201812310749770  여   기혼   제주  33.0   국민은행    검색광고  Yes         0.0   \n",
       "2  201812310749771  여   기혼   부산  32.0   하나은행  네이버블로그  Yes         0.0   \n",
       "3  201812310749774  여   미혼   경남  34.0   기업은행    지인추천   No         1.0   \n",
       "4  201812310749780  여   기혼   서울  32.0   신한은행    직접검색  Yes         0.0   \n",
       "\n",
       "   frequency  monetary  rfm   총구매금액  \n",
       "0        0.2       0.4    2   54083  \n",
       "1        0.2       0.2    1    3800  \n",
       "2        0.2       0.4    1   47922  \n",
       "3        0.2       0.6    5  116532  \n",
       "4        0.2       0.2    1   19900  "
      ]
     },
     "execution_count": 113,
     "metadata": {},
     "output_type": "execute_result"
    }
   ],
   "source": [
    "df3.head()"
   ]
  },
  {
   "cell_type": "code",
   "execution_count": 114,
   "metadata": {},
   "outputs": [],
   "source": [
    "df3.to_csv('./data/Member_data3.csv', index=False, encoding='euc-kr')"
   ]
  },
  {
   "cell_type": "code",
   "execution_count": null,
   "metadata": {},
   "outputs": [],
   "source": []
  }
 ],
 "metadata": {
  "kernelspec": {
   "display_name": "Python 3.9.13 ('base')",
   "language": "python",
   "name": "python3"
  },
  "language_info": {
   "codemirror_mode": {
    "name": "ipython",
    "version": 3
   },
   "file_extension": ".py",
   "mimetype": "text/x-python",
   "name": "python",
   "nbconvert_exporter": "python",
   "pygments_lexer": "ipython3",
   "version": "3.9.13"
  },
  "orig_nbformat": 4,
  "vscode": {
   "interpreter": {
    "hash": "ee1b9209f1cefa1e7b273170aafaa4796130c05296b45ddda45358f761485488"
   }
  }
 },
 "nbformat": 4,
 "nbformat_minor": 2
}
