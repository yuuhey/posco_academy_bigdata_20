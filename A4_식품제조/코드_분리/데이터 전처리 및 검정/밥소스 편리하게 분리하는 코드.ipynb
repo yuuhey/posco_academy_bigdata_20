{
 "cells": [
  {
   "cell_type": "code",
   "execution_count": 2,
   "id": "27561b6d",
   "metadata": {},
   "outputs": [
    {
     "data": {
      "text/html": [
       "<style>.container { width:100% !important; }</style>"
      ],
      "text/plain": [
       "<IPython.core.display.HTML object>"
      ]
     },
     "metadata": {},
     "output_type": "display_data"
    }
   ],
   "source": [
    "import pandas as pd\n",
    "import numpy as np\n",
    "from sklearn.preprocessing import scale,minmax_scale,robust_scale\n",
    "#%matplotlib inline background 그래프 실행 및 결과 확인\n",
    "import pandas as pd\n",
    "import numpy as np\n",
    "import matplotlib\n",
    "import matplotlib.pyplot as plt\n",
    "import seaborn as sns\n",
    "from statsmodels.formula.api import ols\n",
    "from statsmodels.api import qqplot, add_constant\n",
    "import statsmodels.formula.api as smf\n",
    "from statsmodels.tools.eval_measures import rmse\n",
    "from statsmodels.stats.outliers_influence import variance_inflation_factor\n",
    "from sklearn.linear_model import LinearRegression\n",
    "from sklearn.feature_selection import RFE\n",
    "from sklearn.preprocessing import StandardScaler\n",
    "#예측\n",
    "from sklearn.tree import export_graphviz\n",
    "import graphviz\n",
    "from sklearn.model_selection import train_test_split\n",
    "from sklearn.tree import DecisionTreeRegressor\n",
    "from sklearn.ensemble import RandomForestRegressor\n",
    "from sklearn.ensemble import GradientBoostingRegressor\n",
    "from sklearn.model_selection import GridSearchCV\n",
    "#평가함수\n",
    "from sklearn.metrics import mean_squared_error\n",
    "from sklearn.metrics import mean_absolute_error\n",
    "from sklearn.metrics import accuracy_score\n",
    "#모델 성능 평가\n",
    "from sklearn.tree import DecisionTreeClassifier\n",
    "from sklearn.ensemble import RandomForestClassifier\n",
    "from sklearn.ensemble import GradientBoostingClassifier\n",
    "from sklearn.ensemble import GradientBoostingClassifier\n",
    "from xgboost import XGBClassifier\n",
    "from xgboost import XGBClassifier\n",
    "from sklearn.svm import SVC\n",
    "from sklearn.neighbors import KNeighborsClassifier\n",
    "from sklearn.neural_network import MLPClassifier\n",
    "from sklearn.metrics import f1_score,roc_curve,auc,precision_score,recall_score\n",
    "#confusion matrix\n",
    "from sklearn.metrics import confusion_matrix, classification_report\n",
    "\n",
    "from sklearn.metrics import recall_score, f1_score,precision_score,roc_curve,auc\n",
    "from xgboost import XGBClassifier as xgb\n",
    "#Scale 변환:평균,표준편차 기준\n",
    "from sklearn.preprocessing import StandardScaler\n",
    "#주성분 분석\n",
    "from sklearn.decomposition import PCA\n",
    "#회귀분석\n",
    "import statsmodels.api as sm\n",
    "#RMSE:root mean squared error 함수\n",
    "def root_mean_squared_error(y_true,y_pred):\n",
    "    return np.sqrt(mean_squared_error(y_true,y_pred))\n",
    "#MAPE:mean absolute percentage error 함수\n",
    "def mean_absolute_percentage_error(y_true,y_pred):\n",
    "    return np.mean(np.abs((y_true-y_pred)/y_true))*100\n",
    "#분류 : KNN\n",
    "from sklearn.neighbors import KNeighborsClassifier\n",
    "#로지스틱 회귀\n",
    "from statsmodels.api import Logit\n",
    "#데이터 분항\n",
    "from sklearn.model_selection import train_test_split\n",
    "from sklearn.svm import SVC\n",
    "from sklearn.neural_network import MLPClassifier\n",
    "from sklearn.metrics import confusion_matrix\n",
    "from IPython.core.display import display, HTML\n",
    "# 추검정 및 통계 분석 패키지\n",
    "from scipy import stats\n",
    "from scipy.stats import shapiro\n",
    "import scipy.stats\n",
    "import statsmodels.api as sm\n",
    "from statsmodels.stats.proportion import proportions_ztest\n",
    "from sklearn.linear_model import LinearRegression\n",
    "display(HTML(\"<style>.container { width:100% !important; }</style>\"))\n",
    "\n",
    "from sklearn.metrics import confusion_matrix, classification_report\n",
    "from statsmodels.api import Logit\n",
    "\n",
    "matplotlib.rc('font',family='NanumBarunGothic')\n",
    "matplotlib.rc('axes', unicode_minus=False)"
   ]
  },
  {
   "cell_type": "code",
   "execution_count": 3,
   "id": "d6ceb635",
   "metadata": {},
   "outputs": [],
   "source": [
    "#바꿔야될것\n",
    "df_raw = pd.read_csv('//home/piai/다운로드/total_Process_data.csv')\n"
   ]
  },
  {
   "cell_type": "code",
   "execution_count": 9,
   "id": "63f05d62",
   "metadata": {},
   "outputs": [],
   "source": [
    "df_cooking_bab = df_raw[(df_raw['생산라인명'] == '냉동밥 취반#2') |\n",
    "       (df_raw['생산라인명'] == '냉동밥 취반#1') |\n",
    "       (df_raw['생산라인명'] == '냉동밥 내포장#2')|\n",
    "       (df_raw['생산라인명'] == '냉동밥 내포장#1')|\n",
    "      (df_raw['생산라인명'] == '냉동밥 외포장#2')|\n",
    "      (df_raw['생산라인명'] == '냉동밥 외포장#1')|\n",
    "      (df_raw['생산라인명'] == '볶음 공정')].copy()\n",
    "\n",
    "\n"
   ]
  },
  {
   "cell_type": "code",
   "execution_count": 11,
   "id": "6418c074",
   "metadata": {},
   "outputs": [],
   "source": [
    "df_cooking_bab.to_csv(\"/home/piai/바탕화면/교수님 파일 밥분리/밥_분리.csv\")"
   ]
  },
  {
   "cell_type": "code",
   "execution_count": 12,
   "id": "467cd7c9",
   "metadata": {},
   "outputs": [],
   "source": [
    "df_cooking_index = df_raw[(df_raw['생산라인명'] == '냉동밥 취반#2') |\n",
    "       (df_raw['생산라인명'] == '냉동밥 취반#1') |\n",
    "       (df_raw['생산라인명'] == '냉동밥 내포장#2')|\n",
    "       (df_raw['생산라인명'] == '냉동밥 내포장#1')|\n",
    "      (df_raw['생산라인명'] == '냉동밥 외포장#2')|\n",
    "      (df_raw['생산라인명'] == '냉동밥 외포장#1')|\n",
    "      (df_raw['생산라인명'] == '볶음 공정')].index"
   ]
  },
  {
   "cell_type": "code",
   "execution_count": 13,
   "id": "c79d8a88",
   "metadata": {},
   "outputs": [],
   "source": [
    "df_cooking_so = df_raw.copy()"
   ]
  },
  {
   "cell_type": "code",
   "execution_count": 15,
   "id": "b8f2ad24",
   "metadata": {},
   "outputs": [],
   "source": [
    "df_cooking_so.drop(index = df_cooking_index, inplace =True)"
   ]
  },
  {
   "cell_type": "code",
   "execution_count": 17,
   "id": "92316ecf",
   "metadata": {},
   "outputs": [],
   "source": [
    "df_cooking_so.to_csv(\"/home/piai/바탕화면/교수님 파일 밥분리/소스_분리.csv\")"
   ]
  },
  {
   "cell_type": "code",
   "execution_count": null,
   "id": "c7156347",
   "metadata": {},
   "outputs": [],
   "source": []
  }
 ],
 "metadata": {
  "kernelspec": {
   "display_name": "Python 3 (ipykernel)",
   "language": "python",
   "name": "python3"
  },
  "language_info": {
   "codemirror_mode": {
    "name": "ipython",
    "version": 3
   },
   "file_extension": ".py",
   "mimetype": "text/x-python",
   "name": "python",
   "nbconvert_exporter": "python",
   "pygments_lexer": "ipython3",
   "version": "3.9.13"
  }
 },
 "nbformat": 4,
 "nbformat_minor": 5
}
