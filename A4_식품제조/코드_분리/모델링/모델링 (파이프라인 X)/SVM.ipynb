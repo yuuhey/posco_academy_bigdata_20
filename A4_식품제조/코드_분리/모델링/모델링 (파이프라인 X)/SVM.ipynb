{
 "cells": [
  {
   "cell_type": "code",
   "execution_count": 1,
   "id": "53de919b",
   "metadata": {},
   "outputs": [
    {
     "data": {
      "text/html": [
       "<style>.container { width:100% !important; }</style>"
      ],
      "text/plain": [
       "<IPython.core.display.HTML object>"
      ]
     },
     "metadata": {},
     "output_type": "display_data"
    }
   ],
   "source": [
    "import pandas as pd\n",
    "import numpy as np\n",
    "from sklearn.preprocessing import scale,minmax_scale,robust_scale\n",
    "#%matplotlib inline background 그래프 실행 및 결과 확인\n",
    "import pandas as pd\n",
    "import numpy as np\n",
    "import matplotlib\n",
    "import matplotlib.pyplot as plt\n",
    "import seaborn as sns\n",
    "from statsmodels.formula.api import ols\n",
    "from statsmodels.api import qqplot, add_constant\n",
    "import statsmodels.formula.api as smf\n",
    "from statsmodels.tools.eval_measures import rmse\n",
    "from statsmodels.stats.outliers_influence import variance_inflation_factor\n",
    "from sklearn.linear_model import LinearRegression\n",
    "from sklearn.feature_selection import RFE\n",
    "from sklearn.preprocessing import StandardScaler\n",
    "#예측\n",
    "from sklearn.tree import export_graphviz\n",
    "import graphviz\n",
    "from sklearn.model_selection import train_test_split\n",
    "from sklearn.tree import DecisionTreeRegressor\n",
    "from sklearn.ensemble import RandomForestRegressor\n",
    "from sklearn.ensemble import GradientBoostingRegressor\n",
    "from sklearn.model_selection import GridSearchCV\n",
    "#평가함수\n",
    "from sklearn.metrics import mean_squared_error\n",
    "from sklearn.metrics import mean_absolute_error\n",
    "from sklearn.metrics import accuracy_score\n",
    "#모델 성능 평가\n",
    "from sklearn.tree import DecisionTreeClassifier\n",
    "from sklearn.ensemble import RandomForestClassifier\n",
    "from sklearn.ensemble import GradientBoostingClassifier\n",
    "from sklearn.svm import SVC\n",
    "from sklearn.neighbors import KNeighborsClassifier\n",
    "from sklearn.neural_network import MLPClassifier\n",
    "from sklearn.metrics import f1_score,roc_curve,auc,precision_score,recall_score\n",
    "#confusion matrix\n",
    "from sklearn.metrics import confusion_matrix, classification_report\n",
    "\n",
    "from sklearn.metrics import recall_score, f1_score,precision_score,roc_curve,auc\n",
    "\n",
    "#Scale 변환:평균,표준편차 기준\n",
    "from sklearn.preprocessing import StandardScaler\n",
    "#주성분 분석\n",
    "from sklearn.decomposition import PCA\n",
    "#회귀분석\n",
    "import statsmodels.api as sm\n",
    "#RMSE:root mean squared error 함수\n",
    "def root_mean_squared_error(y_true,y_pred):\n",
    "    return np.sqrt(mean_squared_error(y_true,y_pred))\n",
    "#MAPE:mean absolute percentage error 함수\n",
    "def mean_absolute_percentage_error(y_true,y_pred):\n",
    "    return np.mean(np.abs((y_true-y_pred)/y_true))*100\n",
    "#분류 : KNN\n",
    "from sklearn.neighbors import KNeighborsClassifier\n",
    "#로지스틱 회귀\n",
    "from statsmodels.api import Logit\n",
    "#데이터 분항\n",
    "from sklearn.model_selection import train_test_split\n",
    "from sklearn.svm import SVC\n",
    "from sklearn.neural_network import MLPClassifier\n",
    "from sklearn.metrics import confusion_matrix\n",
    "from IPython.core.display import display, HTML\n",
    "# 추검정 및 통계 분석 패키지\n",
    "from scipy import stats\n",
    "from scipy.stats import shapiro\n",
    "import scipy.stats\n",
    "import statsmodels.api as sm\n",
    "from statsmodels.stats.proportion import proportions_ztest\n",
    "from sklearn.linear_model import LinearRegression\n",
    "display(HTML(\"<style>.container { width:100% !important; }</style>\"))\n",
    "\n",
    "from sklearn.metrics import confusion_matrix, classification_report\n",
    "from statsmodels.api import Logit\n",
    "\n",
    "matplotlib.rc('font',family='NanumBarunGothic')\n",
    "matplotlib.rc('axes', unicode_minus=False)"
   ]
  },
  {
   "cell_type": "code",
   "execution_count": null,
   "id": "23c81f97",
   "metadata": {},
   "outputs": [],
   "source": [
    "# 학습데이터 검증데이터 분할 \n",
    "from sklearn.model_selection import train_test_split\n",
    "\n",
    "# 파이프라인 \n",
    "from imblearn.pipeline import make_pipeline\n",
    "from sklearn.compose import make_column_transformer\n",
    "\n",
    "# 결측치처리 + 인코딩 / 스케일링 \n",
    "from sklearn.preprocessing import OneHotEncoder\n",
    "from sklearn.preprocessing import MinMaxScaler\n",
    "from sklearn.impute import SimpleImputer\n",
    "\n",
    "# 불균형 데이터 처리\n",
    "from imblearn.over_sampling import SMOTE\n",
    "\n",
    "# 학습 \n",
    "from sklearn.tree import DecisionTreeClassifier\n",
    "\n",
    "# 교차검증 + 하이퍼 파라미터튜닝 \n",
    "from sklearn.model_selection import GridSearchCV\n"
   ]
  },
  {
   "cell_type": "code",
   "execution_count": null,
   "id": "d763b74d",
   "metadata": {},
   "outputs": [],
   "source": [
    "#바꿔야될것\n",
    "df_raw = pd.read_csv('/home/piai/다운로드/쿠킹_밥추출(파생변수포함).csv')\n",
    "df_raw"
   ]
  },
  {
   "cell_type": "code",
   "execution_count": null,
   "id": "c9193327",
   "metadata": {},
   "outputs": [],
   "source": [
    "#바꿔야될것\n",
    "Y = df_raw['불량여부'].astype(str)\n",
    "X = df_raw[['충전실온도_x','쿠킹온도_x','쿠킹스팀압력_x','생산라인코드']]"
   ]
  },
  {
   "cell_type": "code",
   "execution_count": null,
   "id": "1425266c",
   "metadata": {},
   "outputs": [],
   "source": [
    "X_train, X_test, Y_train, Y_test = train_test_split(X,Y , random_state=2000)\n"
   ]
  },
  {
   "cell_type": "code",
   "execution_count": null,
   "id": "ecd638c5",
   "metadata": {},
   "outputs": [],
   "source": [
    "# 문자 / 숫자 파이프 구성 \n",
    "numeric_pipe = make_pipeline( SimpleImputer() , MinMaxScaler() )\n",
    "category_pipe = make_pipeline( SimpleImputer(strategy='most_frequent') , OneHotEncoder())"
   ]
  },
  {
   "cell_type": "code",
   "execution_count": null,
   "id": "322e5cd0",
   "metadata": {},
   "outputs": [],
   "source": [
    "# 숫자와 문자를 구분하는 리스트\n",
    "numeric_list = X.describe().columns.tolist()\n",
    "category_list = X.describe(include='object').columns.tolist()"
   ]
  },
  {
   "cell_type": "code",
   "execution_count": null,
   "id": "a79f03d1",
   "metadata": {},
   "outputs": [],
   "source": [
    "preprocess_pipe = make_column_transformer( (numeric_pipe, numeric_list),\n",
    "                                           (category_pipe, category_list))\n",
    "model_pipe = make_pipeline(preprocess_pipe, SMOTE(),SVC())\n"
   ]
  },
  {
   "cell_type": "code",
   "execution_count": null,
   "id": "b9639a34",
   "metadata": {},
   "outputs": [],
   "source": [
    "model_pipe.fit(X_train, Y_train)"
   ]
  },
  {
   "cell_type": "code",
   "execution_count": null,
   "id": "1580ca35",
   "metadata": {},
   "outputs": [],
   "source": [
    "#파라메터 바꾸기\n",
    "grid_model = GridSearchCV(model_pipe , param_grid={} , cv=3 , n_jobs='f1')\n",
    "grid_model.fit(X_train,Y)"
   ]
  },
  {
   "cell_type": "code",
   "execution_count": null,
   "id": "fb1f40c8",
   "metadata": {},
   "outputs": [],
   "source": [
    "best_model = grid_model.best_estimator_"
   ]
  },
  {
   "cell_type": "code",
   "execution_count": null,
   "id": "dfeb9d24",
   "metadata": {},
   "outputs": [],
   "source": [
    "import pickle "
   ]
  },
  {
   "cell_type": "code",
   "execution_count": null,
   "id": "abcdaeaf",
   "metadata": {},
   "outputs": [],
   "source": [
    "#모델 저장 \n",
    "pickle.dump(best_model, open('model.sav','wb'))"
   ]
  },
  {
   "cell_type": "code",
   "execution_count": null,
   "id": "405872d8",
   "metadata": {},
   "outputs": [],
   "source": [
    "# 모델 불러오기 \n",
    "pickle.load( open('model.sav','rb'))"
   ]
  },
  {
   "cell_type": "code",
   "execution_count": null,
   "id": "9b260e72",
   "metadata": {},
   "outputs": [],
   "source": []
  }
 ],
 "metadata": {
  "kernelspec": {
   "display_name": "Python 3 (ipykernel)",
   "language": "python",
   "name": "python3"
  },
  "language_info": {
   "codemirror_mode": {
    "name": "ipython",
    "version": 3
   },
   "file_extension": ".py",
   "mimetype": "text/x-python",
   "name": "python",
   "nbconvert_exporter": "python",
   "pygments_lexer": "ipython3",
   "version": "3.9.13"
  }
 },
 "nbformat": 4,
 "nbformat_minor": 5
}
