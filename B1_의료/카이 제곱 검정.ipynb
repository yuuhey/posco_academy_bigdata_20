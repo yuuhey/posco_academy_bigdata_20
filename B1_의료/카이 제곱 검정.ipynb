{
 "cells": [
  {
   "cell_type": "code",
   "execution_count": 76,
   "metadata": {},
   "outputs": [
    {
     "data": {
      "image/png": "[encoded data removed]",
      "text/plain": [
       "<Figure size 1000x100 with 1 Axes>"
      ]
     },
     "metadata": {},
     "output_type": "display_data"
    }
   ],
   "source": [
    "import pandas as pd\n",
    "import numpy as np\n",
    "import matplotlib \n",
    "import matplotlib.pyplot as plt\n",
    "import seaborn as sns\n",
    "from statsmodels.formula.api import ols\n",
    "from statsmodels.api import qqplot, add_constant\n",
    "import statsmodels.formula.api as smf\n",
    "from statsmodels.stats.outliers_influence import variance_inflation_factor\n",
    "from sklearn.model_selection import train_test_split\n",
    "from sklearn.linear_model import LinearRegression\n",
    "from sklearn.feature_selection import RFE\n",
    "from sklearn.preprocessing import StandardScaler\n",
    "from statsmodels.tools.eval_measures import rmse\n",
    "from sklearn.metrics import r2_score\n",
    "from sklearn.linear_model import LinearRegression #분산 팽창계수 계산할때 사용\n",
    "from sklearn.feature_selection import RFE #후진제거법(변수선택)\n",
    "from sklearn.preprocessing import StandardScaler #표준화 회귀계수 산출(scale 변환)\n",
    "from statsmodels.tools.eval_measures import rmse # 평가함수\n",
    "from sklearn.metrics import r2_score\n",
    "import matplotlib.font_manager as fm\n",
    "import graphviz # 나무구조 시각화\n",
    "from sklearn.ensemble import RandomForestRegressor #예측/회귀\n",
    "from sklearn.tree import export_graphviz\n",
    "from sklearn.tree import DecisionTreeClassifier\n",
    "from sklearn.datasets import load_iris\n",
    "from sklearn.tree import DecisionTreeRegressor # 예측/회귀 Decision Tree\n",
    "from sklearn.model_selection import train_test_split # 데이터 분할 : train, test\n",
    "from sklearn.model_selection import GridSearchCV #최적 모델, 파라미터 탐색\n",
    "from sklearn.tree import DecisionTreeClassifier\n",
    "from sklearn.model_selection import cross_val_score\n",
    "from sklearn import tree\n",
    "import warnings\n",
    "from sklearn.tree import export_graphviz\n",
    "from sklearn.tree import DecisionTreeRegressor\n",
    "from sklearn.model_selection import GridSearchCV\n",
    "from sklearn.ensemble import RandomForestRegressor\n",
    "from sklearn.ensemble import GradientBoostingRegressor\n",
    "from scipy import stats\n",
    "from random import random\n",
    "from random import uniform\n",
    "import math\n",
    "import os\n",
    "import matplotlib.font_manager as fm\n",
    "warnings.filterwarnings('ignore')\n",
    "\n",
    "# path='/usr/share/fonts/opentype/noto/NotoSansCJK-Bold.ttc'\n",
    "# fontprop=fm.FontProperties(fname=path, size=18).get_name()\n",
    "# matplotlib.rc('font',family = fontprop)\n",
    "# matplotlib.rc('axes', unicode_minus = False)\n",
    "\n",
    "my_palette = ['#'+hex for hex in \"9b5de5 f15bb5 fee440 00bbf9 00f5d4\".split(' ')]\n",
    "my_palette = sns.set_palette(my_palette)\n",
    "sns.color_palette()\n",
    "\n",
    "sequential_colors = sns.color_palette(\"RdPu\", 10)\n",
    "sns.palplot(sequential_colors)\n",
    "\n",
    "from sklearn.decomposition import PCA\n",
    "\n",
    "import statsmodels.api as sm"
   ]
  },
  {
   "cell_type": "code",
   "execution_count": 77,
   "metadata": {},
   "outputs": [],
   "source": [
    "## 윈도우 한글 폰트\n",
    "import matplotlib.font_manager as fm\n",
    "font_fname = font_fname = \"c:/Windows/Fonts/malgun.ttf\"\n",
    "fontprop = fm.FontProperties(fname=font_fname, size=18).get_name()\n",
    "matplotlib.rc('font',family= fontprop)\n",
    "matplotlib.rc('axes',unicode_minus=False)"
   ]
  },
  {
   "cell_type": "code",
   "execution_count": 78,
   "metadata": {},
   "outputs": [
    {
     "data": {
      "text/html": [
       "<div>\n",
       "<style scoped>\n",
       "    .dataframe tbody tr th:only-of-type {\n",
       "        vertical-align: middle;\n",
       "    }\n",
       "\n",
       "    .dataframe tbody tr th {\n",
       "        vertical-align: top;\n",
       "    }\n",
       "\n",
       "    .dataframe thead th {\n",
       "        text-align: right;\n",
       "    }\n",
       "</style>\n",
       "<table border=\"1\" class=\"dataframe\">\n",
       "  <thead>\n",
       "    <tr style=\"text-align: right;\">\n",
       "      <th></th>\n",
       "      <th>환자ID</th>\n",
       "      <th>Instability</th>\n",
       "      <th>Large_Lymphocyte</th>\n",
       "      <th>Location_of_herniation</th>\n",
       "      <th>MF_ES</th>\n",
       "      <th>Modic_change</th>\n",
       "      <th>PI</th>\n",
       "      <th>PT</th>\n",
       "      <th>Seg_Angle_raw</th>\n",
       "      <th>Vaccum_disc</th>\n",
       "      <th>...</th>\n",
       "      <th>헤모글로빈수치</th>\n",
       "      <th>혈액형</th>\n",
       "      <th>혈액형_index</th>\n",
       "      <th>혈전합병증여부</th>\n",
       "      <th>환자통증정도</th>\n",
       "      <th>후방디스크높이mm</th>\n",
       "      <th>흡연여부</th>\n",
       "      <th>수술기법</th>\n",
       "      <th>수술_date</th>\n",
       "      <th>수술_date1</th>\n",
       "    </tr>\n",
       "  </thead>\n",
       "  <tbody>\n",
       "    <tr>\n",
       "      <th>0</th>\n",
       "      <td>647PT</td>\n",
       "      <td>0</td>\n",
       "      <td>53.1</td>\n",
       "      <td>2</td>\n",
       "      <td>2504.09</td>\n",
       "      <td>0</td>\n",
       "      <td>37.3</td>\n",
       "      <td>2.9</td>\n",
       "      <td>22.5</td>\n",
       "      <td>0</td>\n",
       "      <td>...</td>\n",
       "      <td>14.74</td>\n",
       "      <td>RH+O</td>\n",
       "      <td>3</td>\n",
       "      <td>0</td>\n",
       "      <td>2</td>\n",
       "      <td>8.77</td>\n",
       "      <td>0</td>\n",
       "      <td>TELD</td>\n",
       "      <td>2021-06-30</td>\n",
       "      <td>Jun-21</td>\n",
       "    </tr>\n",
       "    <tr>\n",
       "      <th>1</th>\n",
       "      <td>8PT</td>\n",
       "      <td>0</td>\n",
       "      <td>43.8</td>\n",
       "      <td>4</td>\n",
       "      <td>1789.60</td>\n",
       "      <td>0</td>\n",
       "      <td>50.6</td>\n",
       "      <td>18.5</td>\n",
       "      <td>10.7</td>\n",
       "      <td>0</td>\n",
       "      <td>...</td>\n",
       "      <td>15.35</td>\n",
       "      <td>RH+B</td>\n",
       "      <td>2</td>\n",
       "      <td>0</td>\n",
       "      <td>7</td>\n",
       "      <td>8.60</td>\n",
       "      <td>1</td>\n",
       "      <td>TELD</td>\n",
       "      <td>2020-04-02</td>\n",
       "      <td>Apr-20</td>\n",
       "    </tr>\n",
       "    <tr>\n",
       "      <th>2</th>\n",
       "      <td>75PT</td>\n",
       "      <td>0</td>\n",
       "      <td>46.0</td>\n",
       "      <td>3</td>\n",
       "      <td>2016.60</td>\n",
       "      <td>0</td>\n",
       "      <td>34.7</td>\n",
       "      <td>6.0</td>\n",
       "      <td>24.1</td>\n",
       "      <td>0</td>\n",
       "      <td>...</td>\n",
       "      <td>11.19</td>\n",
       "      <td>RH+B</td>\n",
       "      <td>2</td>\n",
       "      <td>0</td>\n",
       "      <td>10</td>\n",
       "      <td>5.10</td>\n",
       "      <td>0</td>\n",
       "      <td>TELD</td>\n",
       "      <td>2020-07-19</td>\n",
       "      <td>Jul-20</td>\n",
       "    </tr>\n",
       "    <tr>\n",
       "      <th>3</th>\n",
       "      <td>83PT</td>\n",
       "      <td>0</td>\n",
       "      <td>33.0</td>\n",
       "      <td>2</td>\n",
       "      <td>1649.30</td>\n",
       "      <td>0</td>\n",
       "      <td>41.8</td>\n",
       "      <td>19.3</td>\n",
       "      <td>12.6</td>\n",
       "      <td>0</td>\n",
       "      <td>...</td>\n",
       "      <td>14.34</td>\n",
       "      <td>RH+B</td>\n",
       "      <td>2</td>\n",
       "      <td>0</td>\n",
       "      <td>8</td>\n",
       "      <td>8.80</td>\n",
       "      <td>0</td>\n",
       "      <td>TELD</td>\n",
       "      <td>2020-12-11</td>\n",
       "      <td>Dec-20</td>\n",
       "    </tr>\n",
       "    <tr>\n",
       "      <th>4</th>\n",
       "      <td>89PT</td>\n",
       "      <td>0</td>\n",
       "      <td>16.1</td>\n",
       "      <td>4</td>\n",
       "      <td>2463.20</td>\n",
       "      <td>0</td>\n",
       "      <td>41.1</td>\n",
       "      <td>22.9</td>\n",
       "      <td>6.7</td>\n",
       "      <td>0</td>\n",
       "      <td>...</td>\n",
       "      <td>11.70</td>\n",
       "      <td>RH+A</td>\n",
       "      <td>0</td>\n",
       "      <td>0</td>\n",
       "      <td>7</td>\n",
       "      <td>7.30</td>\n",
       "      <td>0</td>\n",
       "      <td>TELD</td>\n",
       "      <td>2021-07-19</td>\n",
       "      <td>Jul-21</td>\n",
       "    </tr>\n",
       "  </tbody>\n",
       "</table>\n",
       "<p>5 rows × 57 columns</p>\n",
       "</div>"
      ],
      "text/plain": [
       "    환자ID  Instability  Large_Lymphocyte  Location_of_herniation    MF_ES  \\\n",
       "0  647PT            0              53.1                       2  2504.09   \n",
       "1    8PT            0              43.8                       4  1789.60   \n",
       "2   75PT            0              46.0                       3  2016.60   \n",
       "3   83PT            0              33.0                       2  1649.30   \n",
       "4   89PT            0              16.1                       4  2463.20   \n",
       "\n",
       "   Modic_change    PI    PT  Seg_Angle_raw  Vaccum_disc  ...  헤모글로빈수치   혈액형  \\\n",
       "0             0  37.3   2.9           22.5            0  ...    14.74  RH+O   \n",
       "1             0  50.6  18.5           10.7            0  ...    15.35  RH+B   \n",
       "2             0  34.7   6.0           24.1            0  ...    11.19  RH+B   \n",
       "3             0  41.8  19.3           12.6            0  ...    14.34  RH+B   \n",
       "4             0  41.1  22.9            6.7            0  ...    11.70  RH+A   \n",
       "\n",
       "   혈액형_index  혈전합병증여부  환자통증정도  후방디스크높이mm  흡연여부  수술기법     수술_date  수술_date1  \n",
       "0          3        0       2       8.77     0  TELD  2021-06-30    Jun-21  \n",
       "1          2        0       7       8.60     1  TELD  2020-04-02    Apr-20  \n",
       "2          2        0      10       5.10     0  TELD  2020-07-19    Jul-20  \n",
       "3          2        0       8       8.80     0  TELD  2020-12-11    Dec-20  \n",
       "4          0        0       7       7.30     0  TELD  2021-07-19    Jul-21  \n",
       "\n",
       "[5 rows x 57 columns]"
      ]
     },
     "execution_count": 78,
     "metadata": {},
     "output_type": "execute_result"
    }
   ],
   "source": [
    "df_raw = pd.read_csv(\"C:/Users/LBG/Desktop/medical_v5.csv\", encoding='euc-kr')\n",
    "df_raw.head()"
   ]
  },
  {
   "cell_type": "code",
   "execution_count": 79,
   "metadata": {},
   "outputs": [],
   "source": [
    "df_raw['수술일자'] = df_raw['수술일자'].astype(str)\n",
    "def date(x) :\n",
    "    month = x[4:6]\n",
    "    return month\n",
    "df_raw['수술month'] = df_raw['수술일자'].apply(lambda x:date(x))\n",
    "\n",
    "def season(x) :\n",
    "    if ((x=='12')|(x=='01')|(x=='02')):\n",
    "        return '겨울'\n",
    "    if ((x=='03')|(x=='04')|(x=='05')):\n",
    "        return '봄'\n",
    "    if (x=='06')|(x=='07')|(x=='08'):\n",
    "        return '여름'\n",
    "    if (x=='09')|(x=='10')|(x=='11'):\n",
    "        return '가을'\n",
    "df_raw['계절'] = df_raw['수술month'].apply(lambda x:season(x))"
   ]
  },
  {
   "cell_type": "code",
   "execution_count": 80,
   "metadata": {},
   "outputs": [],
   "source": [
    "df_raw.drop(['num'],axis=1,inplace=True)\n",
    "df_raw = df_raw[df_raw['지방축적도']<6000]\n",
    "df_raw = df_raw[df_raw['후방디스크높이mm']<90]\n",
    "df_raw = df_raw[df_raw['PI']<500]\n",
    "df_raw = df_raw[df_raw['Seg_Angle_raw']<160]"
   ]
  },
  {
   "cell_type": "code",
   "execution_count": 81,
   "metadata": {},
   "outputs": [
    {
     "name": "stdout",
     "output_type": "stream",
     "text": [
      "chi-square test\n",
      "chisq:4.343\n",
      "p:0.227\n",
      "degree pf freedom: 3\n",
      "expected value: \n",
      "[[373.454  50.546]\n",
      " [577.797  78.203]\n",
      " [397.235  53.765]\n",
      " [306.514  41.486]]\n"
     ]
    }
   ],
   "source": [
    "df_a = df_raw.groupby(['계절', '재발여부'], as_index=False).size()\n",
    "df_pivot = df_a.pivot('계절', '재발여부')\n",
    "df_pivot\n",
    "\n",
    "chi, pval, dof, expected = stats.chi2_contingency(df_pivot)\n",
    "\n",
    "print(\"chi-square test\")\n",
    "print(\"chisq:{0:0.3f}\".format(chi))\n",
    "print('p:{0:0.3f}'.format(pval))\n",
    "print('degree pf freedom: {}'.format(dof))\n",
    "print('expected value: \\n{}'.format(expected.round(3)))"
   ]
  },
  {
   "cell_type": "code",
   "execution_count": 82,
   "metadata": {},
   "outputs": [
    {
     "name": "stdout",
     "output_type": "stream",
     "text": [
      "chi-square test\n",
      "chisq:7.876\n",
      "p:0.005\n",
      "degree pf freedom: 1\n",
      "expected value: \n",
      "[[ 125.953   17.047]\n",
      " [1529.047  206.953]]\n"
     ]
    }
   ],
   "source": [
    "df_a = df_raw.groupby(['수술기법', '재발여부'], as_index=False).size()\n",
    "df_pivot = df_a.pivot('수술기법', '재발여부')\n",
    "df_pivot\n",
    "\n",
    "chi, pval, dof, expected = stats.chi2_contingency(df_pivot)\n",
    "\n",
    "print(\"chi-square test\")\n",
    "print(\"chisq:{0:0.3f}\".format(chi))\n",
    "print('p:{0:0.3f}'.format(pval))\n",
    "print('degree pf freedom: {}'.format(dof))\n",
    "print('expected value: \\n{}'.format(expected.round(3)))"
   ]
  },
  {
   "cell_type": "code",
   "execution_count": 83,
   "metadata": {},
   "outputs": [
    {
     "name": "stdout",
     "output_type": "stream",
     "text": [
      "chi-square test\n",
      "chisq:1.323\n",
      "p:0.250\n",
      "degree pf freedom: 1\n",
      "expected value: \n",
      "[[1560.756  211.244]\n",
      " [  94.244   12.756]]\n"
     ]
    }
   ],
   "source": [
    "df_a = df_raw.groupby(['Vaccum_disc', '재발여부'], as_index=False).size()\n",
    "df_pivot = df_a.pivot('Vaccum_disc', '재발여부')\n",
    "df_pivot\n",
    "\n",
    "chi, pval, dof, expected = stats.chi2_contingency(df_pivot)\n",
    "\n",
    "print(\"chi-square test\")\n",
    "print(\"chisq:{0:0.3f}\".format(chi))\n",
    "print('p:{0:0.3f}'.format(pval))\n",
    "print('degree pf freedom: {}'.format(dof))\n",
    "print('expected value: \\n{}'.format(expected.round(3)))"
   ]
  },
  {
   "cell_type": "code",
   "execution_count": 84,
   "metadata": {},
   "outputs": [
    {
     "name": "stdout",
     "output_type": "stream",
     "text": [
      "chi-square test\n",
      "chisq:0.993\n",
      "p:0.319\n",
      "degree pf freedom: 1\n",
      "expected value: \n",
      "[[1621.53  219.47]\n",
      " [  33.47    4.53]]\n"
     ]
    }
   ],
   "source": [
    "df_a = df_raw.groupby(['간질성폐질환', '재발여부'], as_index=False).size()\n",
    "df_pivot = df_a.pivot('간질성폐질환', '재발여부')\n",
    "df_pivot\n",
    "\n",
    "chi, pval, dof, expected = stats.chi2_contingency(df_pivot)\n",
    "\n",
    "print(\"chi-square test\")\n",
    "print(\"chisq:{0:0.3f}\".format(chi))\n",
    "print('p:{0:0.3f}'.format(pval))\n",
    "print('degree pf freedom: {}'.format(dof))\n",
    "print('expected value: \\n{}'.format(expected.round(3)))"
   ]
  },
  {
   "cell_type": "code",
   "execution_count": 85,
   "metadata": {},
   "outputs": [
    {
     "name": "stdout",
     "output_type": "stream",
     "text": [
      "chi-square test\n",
      "chisq:9.317\n",
      "p:0.002\n",
      "degree pf freedom: 1\n",
      "expected value: \n",
      "[[1440.088  194.912]\n",
      " [ 214.912   29.088]]\n"
     ]
    }
   ],
   "source": [
    "df_a = df_raw.groupby(['고혈압여부', '재발여부'], as_index=False).size()\n",
    "df_pivot = df_a.pivot('고혈압여부', '재발여부')\n",
    "df_pivot\n",
    "\n",
    "chi, pval, dof, expected = stats.chi2_contingency(df_pivot)\n",
    "\n",
    "print(\"chi-square test\")\n",
    "print(\"chisq:{0:0.3f}\".format(chi))\n",
    "print('p:{0:0.3f}'.format(pval))\n",
    "print('degree pf freedom: {}'.format(dof))\n",
    "print('expected value: \\n{}'.format(expected.round(3)))"
   ]
  },
  {
   "cell_type": "code",
   "execution_count": 86,
   "metadata": {},
   "outputs": [
    {
     "name": "stdout",
     "output_type": "stream",
     "text": [
      "chi-square test\n",
      "chisq:56.676\n",
      "p:0.000\n",
      "degree pf freedom: 1\n",
      "expected value: \n",
      "[[1551.948  210.052]\n",
      " [ 103.052   13.948]]\n"
     ]
    }
   ],
   "source": [
    "df_a = df_raw.groupby(['당뇨여부', '재발여부'], as_index=False).size()\n",
    "df_pivot = df_a.pivot('당뇨여부', '재발여부')\n",
    "df_pivot\n",
    "\n",
    "chi, pval, dof, expected = stats.chi2_contingency(df_pivot)\n",
    "\n",
    "print(\"chi-square test\")\n",
    "print(\"chisq:{0:0.3f}\".format(chi))\n",
    "print('p:{0:0.3f}'.format(pval))\n",
    "print('degree pf freedom: {}'.format(dof))\n",
    "print('expected value: \\n{}'.format(expected.round(3)))"
   ]
  },
  {
   "cell_type": "code",
   "execution_count": 87,
   "metadata": {},
   "outputs": [
    {
     "name": "stdout",
     "output_type": "stream",
     "text": [
      "chi-square test\n",
      "chisq:4.654\n",
      "p:0.199\n",
      "degree pf freedom: 3\n",
      "expected value: \n",
      "[[1.30885e+03 1.77150e+02]\n",
      " [1.98177e+02 2.68230e+01]\n",
      " [1.40926e+02 1.90740e+01]\n",
      " [7.04600e+00 9.54000e-01]]\n"
     ]
    }
   ],
   "source": [
    "df_a = df_raw.groupby(['과거수술횟수', '재발여부'], as_index=False).size()\n",
    "df_pivot = df_a.pivot('과거수술횟수', '재발여부')\n",
    "df_pivot\n",
    "\n",
    "chi, pval, dof, expected = stats.chi2_contingency(df_pivot)\n",
    "\n",
    "print(\"chi-square test\")\n",
    "print(\"chisq:{0:0.3f}\".format(chi))\n",
    "print('p:{0:0.3f}'.format(pval))\n",
    "print('degree pf freedom: {}'.format(dof))\n",
    "print('expected value: \\n{}'.format(expected.round(3)))"
   ]
  },
  {
   "cell_type": "code",
   "execution_count": 88,
   "metadata": {},
   "outputs": [
    {
     "name": "stdout",
     "output_type": "stream",
     "text": [
      "chi-square test\n",
      "chisq:0.357\n",
      "p:0.550\n",
      "degree pf freedom: 1\n",
      "expected value: \n",
      "[[1.647954e+03 2.230460e+02]\n",
      " [7.046000e+00 9.540000e-01]]\n"
     ]
    }
   ],
   "source": [
    "df_a = df_raw.groupby(['말초동맥질환여부', '재발여부'], as_index=False).size()\n",
    "df_pivot = df_a.pivot('말초동맥질환여부', '재발여부')\n",
    "df_pivot\n",
    "\n",
    "chi, pval, dof, expected = stats.chi2_contingency(df_pivot)\n",
    "\n",
    "print(\"chi-square test\")\n",
    "print(\"chisq:{0:0.3f}\".format(chi))\n",
    "print('p:{0:0.3f}'.format(pval))\n",
    "print('degree pf freedom: {}'.format(dof))\n",
    "print('expected value: \\n{}'.format(expected.round(3)))"
   ]
  },
  {
   "cell_type": "code",
   "execution_count": 89,
   "metadata": {},
   "outputs": [
    {
     "name": "stdout",
     "output_type": "stream",
     "text": [
      "chi-square test\n",
      "chisq:4.694\n",
      "p:0.030\n",
      "degree pf freedom: 1\n",
      "expected value: \n",
      "[[1017.31  137.69]\n",
      " [ 637.69   86.31]]\n"
     ]
    }
   ],
   "source": [
    "df_a = df_raw.groupby(['성별', '재발여부'], as_index=False).size()\n",
    "df_pivot = df_a.pivot('성별', '재발여부')\n",
    "df_pivot\n",
    "\n",
    "chi, pval, dof, expected = stats.chi2_contingency(df_pivot)\n",
    "\n",
    "print(\"chi-square test\")\n",
    "print(\"chisq:{0:0.3f}\".format(chi))\n",
    "print('p:{0:0.3f}'.format(pval))\n",
    "print('degree pf freedom: {}'.format(dof))\n",
    "print('expected value: \\n{}'.format(expected.round(3)))"
   ]
  },
  {
   "cell_type": "code",
   "execution_count": 90,
   "metadata": {},
   "outputs": [
    {
     "name": "stdout",
     "output_type": "stream",
     "text": [
      "chi-square test\n",
      "chisq:4.227\n",
      "p:0.040\n",
      "degree pf freedom: 1\n",
      "expected value: \n",
      "[[1595.106  215.894]\n",
      " [  59.894    8.106]]\n"
     ]
    }
   ],
   "source": [
    "df_a = df_raw.groupby(['심혈관질환', '재발여부'], as_index=False).size()\n",
    "df_pivot = df_a.pivot('심혈관질환', '재발여부')\n",
    "df_pivot\n",
    "\n",
    "chi, pval, dof, expected = stats.chi2_contingency(df_pivot)\n",
    "\n",
    "print(\"chi-square test\")\n",
    "print(\"chisq:{0:0.3f}\".format(chi))\n",
    "print('p:{0:0.3f}'.format(pval))\n",
    "print('degree pf freedom: {}'.format(dof))\n",
    "print('expected value: \\n{}'.format(expected.round(3)))"
   ]
  },
  {
   "cell_type": "code",
   "execution_count": 91,
   "metadata": {},
   "outputs": [
    {
     "name": "stdout",
     "output_type": "stream",
     "text": [
      "chi-square test\n",
      "chisq:2.580\n",
      "p:0.108\n",
      "degree pf freedom: 1\n",
      "expected value: \n",
      "[[1617.126  218.874]\n",
      " [  37.874    5.126]]\n"
     ]
    }
   ],
   "source": [
    "df_a = df_raw.groupby(['우울증여부', '재발여부'], as_index=False).size()\n",
    "df_pivot = df_a.pivot('우울증여부', '재발여부')\n",
    "df_pivot\n",
    "\n",
    "chi, pval, dof, expected = stats.chi2_contingency(df_pivot)\n",
    "\n",
    "print(\"chi-square test\")\n",
    "print(\"chisq:{0:0.3f}\".format(chi))\n",
    "print('p:{0:0.3f}'.format(pval))\n",
    "print('degree pf freedom: {}'.format(dof))\n",
    "print('expected value: \\n{}'.format(expected.round(3)))"
   ]
  },
  {
   "cell_type": "code",
   "execution_count": 92,
   "metadata": {},
   "outputs": [
    {
     "name": "stdout",
     "output_type": "stream",
     "text": [
      "chi-square test\n",
      "chisq:2.498\n",
      "p:0.114\n",
      "degree pf freedom: 1\n",
      "expected value: \n",
      "[[1.651477e+03 2.235230e+02]\n",
      " [3.523000e+00 4.770000e-01]]\n"
     ]
    }
   ],
   "source": [
    "df_a = df_raw.groupby(['혈전합병증여부', '재발여부'], as_index=False).size()\n",
    "df_pivot = df_a.pivot('혈전합병증여부', '재발여부')\n",
    "df_pivot\n",
    "\n",
    "chi, pval, dof, expected = stats.chi2_contingency(df_pivot)\n",
    "\n",
    "print(\"chi-square test\")\n",
    "print(\"chisq:{0:0.3f}\".format(chi))\n",
    "print('p:{0:0.3f}'.format(pval))\n",
    "print('degree pf freedom: {}'.format(dof))\n",
    "print('expected value: \\n{}'.format(expected.round(3)))"
   ]
  },
  {
   "cell_type": "code",
   "execution_count": 93,
   "metadata": {},
   "outputs": [
    {
     "name": "stdout",
     "output_type": "stream",
     "text": [
      "chi-square test\n",
      "chisq:61.844\n",
      "p:0.000\n",
      "degree pf freedom: 1\n",
      "expected value: \n",
      "[[1293.877  175.123]\n",
      " [ 361.123   48.877]]\n"
     ]
    }
   ],
   "source": [
    "df_a = df_raw.groupby(['흡연여부', '재발여부'], as_index=False).size()\n",
    "df_pivot = df_a.pivot('흡연여부', '재발여부')\n",
    "df_pivot\n",
    "\n",
    "chi, pval, dof, expected = stats.chi2_contingency(df_pivot)\n",
    "\n",
    "print(\"chi-square test\")\n",
    "print(\"chisq:{0:0.3f}\".format(chi))\n",
    "print('p:{0:0.3f}'.format(pval))\n",
    "print('degree pf freedom: {}'.format(dof))\n",
    "print('expected value: \\n{}'.format(expected.round(3)))"
   ]
  },
  {
   "cell_type": "code",
   "execution_count": 94,
   "metadata": {},
   "outputs": [
    {
     "name": "stdout",
     "output_type": "stream",
     "text": [
      "chi-square test\n",
      "chisq:6.208\n",
      "p:0.184\n",
      "degree pf freedom: 4\n",
      "expected value: \n",
      "[[432.467  58.533]\n",
      " [493.241  66.759]\n",
      " [572.512  77.488]\n",
      " [126.833  17.167]\n",
      " [ 29.947   4.053]]\n"
     ]
    }
   ],
   "source": [
    "df_a = df_raw.groupby(['Location_of_herniation', '재발여부'], as_index=False).size()\n",
    "df_pivot = df_a.pivot('Location_of_herniation', '재발여부')\n",
    "df_pivot\n",
    "\n",
    "chi, pval, dof, expected = stats.chi2_contingency(df_pivot)\n",
    "\n",
    "print(\"chi-square test\")\n",
    "print(\"chisq:{0:0.3f}\".format(chi))\n",
    "print('p:{0:0.3f}'.format(pval))\n",
    "print('degree pf freedom: {}'.format(dof))\n",
    "print('expected value: \\n{}'.format(expected.round(3)))"
   ]
  },
  {
   "cell_type": "code",
   "execution_count": 95,
   "metadata": {},
   "outputs": [
    {
     "name": "stdout",
     "output_type": "stream",
     "text": [
      "chi-square test\n",
      "chisq:2.646\n",
      "p:0.450\n",
      "degree pf freedom: 3\n",
      "expected value: \n",
      "[[1433.922  194.078]\n",
      " [  51.086    6.914]\n",
      " [ 150.615   20.385]\n",
      " [  19.377    2.623]]\n"
     ]
    }
   ],
   "source": [
    "df_a = df_raw.groupby(['Modic_change', '재발여부'], as_index=False).size()\n",
    "df_pivot = df_a.pivot('Modic_change', '재발여부')\n",
    "df_pivot\n",
    "\n",
    "chi, pval, dof, expected = stats.chi2_contingency(df_pivot)\n",
    "\n",
    "print(\"chi-square test\")\n",
    "print(\"chisq:{0:0.3f}\".format(chi))\n",
    "print('p:{0:0.3f}'.format(pval))\n",
    "print('degree pf freedom: {}'.format(dof))\n",
    "print('expected value: \\n{}'.format(expected.round(3)))"
   ]
  },
  {
   "cell_type": "code",
   "execution_count": 96,
   "metadata": {},
   "outputs": [
    {
     "name": "stdout",
     "output_type": "stream",
     "text": [
      "chi-square test\n",
      "chisq:6.169\n",
      "p:0.104\n",
      "degree pf freedom: 3\n",
      "expected value: \n",
      "[[598.936  81.064]\n",
      " [174.396  23.604]\n",
      " [418.374  56.626]\n",
      " [463.294  62.706]]\n"
     ]
    }
   ],
   "source": [
    "df_a = df_raw.groupby(['혈액형', '재발여부'], as_index=False).size()\n",
    "df_pivot = df_a.pivot('혈액형', '재발여부')\n",
    "df_pivot\n",
    "\n",
    "chi, pval, dof, expected = stats.chi2_contingency(df_pivot)\n",
    "\n",
    "print(\"chi-square test\")\n",
    "print(\"chisq:{0:0.3f}\".format(chi))\n",
    "print('p:{0:0.3f}'.format(pval))\n",
    "print('degree pf freedom: {}'.format(dof))\n",
    "print('expected value: \\n{}'.format(expected.round(3)))"
   ]
  },
  {
   "cell_type": "code",
   "execution_count": 97,
   "metadata": {},
   "outputs": [
    {
     "name": "stdout",
     "output_type": "stream",
     "text": [
      "chi-square test\n",
      "chisq:9.627\n",
      "p:0.047\n",
      "degree pf freedom: 4\n",
      "expected value: \n",
      "[[461.472  29.528]\n",
      " [526.323  33.677]\n",
      " [610.91   39.09 ]\n",
      " [135.34    8.66 ]\n",
      " [ 31.955   2.045]]\n"
     ]
    }
   ],
   "source": [
    "df_a = df_raw.groupby(['Location_of_herniation', '수술실패여부'], as_index=False).size()\n",
    "df_pivot = df_a.pivot('Location_of_herniation', '수술실패여부')\n",
    "df_pivot\n",
    "\n",
    "chi, pval, dof, expected = stats.chi2_contingency(df_pivot)\n",
    "\n",
    "print(\"chi-square test\")\n",
    "print(\"chisq:{0:0.3f}\".format(chi))\n",
    "print('p:{0:0.3f}'.format(pval))\n",
    "print('degree pf freedom: {}'.format(dof))\n",
    "print('expected value: \\n{}'.format(expected.round(3)))"
   ]
  },
  {
   "cell_type": "code",
   "execution_count": 98,
   "metadata": {},
   "outputs": [
    {
     "name": "stdout",
     "output_type": "stream",
     "text": [
      "chi-square test\n",
      "chisq:0.278\n",
      "p:0.598\n",
      "degree pf freedom: 1\n",
      "expected value: \n",
      "[[1536.674   98.326]\n",
      " [ 229.326   14.674]]\n"
     ]
    }
   ],
   "source": [
    "df_a = df_raw.groupby(['고혈압여부', '수술실패여부'], as_index=False).size()\n",
    "df_pivot = df_a.pivot('고혈압여부', '수술실패여부')\n",
    "df_pivot\n",
    "\n",
    "chi, pval, dof, expected = stats.chi2_contingency(df_pivot)\n",
    "\n",
    "print(\"chi-square test\")\n",
    "print(\"chisq:{0:0.3f}\".format(chi))\n",
    "print('p:{0:0.3f}'.format(pval))\n",
    "print('degree pf freedom: {}'.format(dof))\n",
    "print('expected value: \\n{}'.format(expected.round(3)))"
   ]
  },
  {
   "cell_type": "code",
   "execution_count": 99,
   "metadata": {},
   "outputs": [
    {
     "name": "stdout",
     "output_type": "stream",
     "text": [
      "chi-square test\n",
      "chisq:7.980\n",
      "p:0.046\n",
      "degree pf freedom: 3\n",
      "expected value: \n",
      "[[1.396634e+03 8.936600e+01]\n",
      " [2.114690e+02 1.353100e+01]\n",
      " [1.503780e+02 9.622000e+00]\n",
      " [7.519000e+00 4.810000e-01]]\n"
     ]
    }
   ],
   "source": [
    "df_a = df_raw.groupby(['과거수술횟수', '수술실패여부'], as_index=False).size()\n",
    "df_pivot = df_a.pivot('과거수술횟수', '수술실패여부')\n",
    "df_pivot\n",
    "\n",
    "chi, pval, dof, expected = stats.chi2_contingency(df_pivot)\n",
    "\n",
    "print(\"chi-square test\")\n",
    "print(\"chisq:{0:0.3f}\".format(chi))\n",
    "print('p:{0:0.3f}'.format(pval))\n",
    "print('degree pf freedom: {}'.format(dof))\n",
    "print('expected value: \\n{}'.format(expected.round(3)))"
   ]
  },
  {
   "cell_type": "code",
   "execution_count": 100,
   "metadata": {},
   "outputs": [
    {
     "name": "stdout",
     "output_type": "stream",
     "text": [
      "chi-square test\n",
      "chisq:1.935\n",
      "p:0.164\n",
      "degree pf freedom: 1\n",
      "expected value: \n",
      "[[1656.036  105.964]\n",
      " [ 109.964    7.036]]\n"
     ]
    }
   ],
   "source": [
    "df_a = df_raw.groupby(['당뇨여부', '수술실패여부'], as_index=False).size()\n",
    "df_pivot = df_a.pivot('당뇨여부', '수술실패여부')\n",
    "df_pivot\n",
    "\n",
    "chi, pval, dof, expected = stats.chi2_contingency(df_pivot)\n",
    "\n",
    "print(\"chi-square test\")\n",
    "print(\"chisq:{0:0.3f}\".format(chi))\n",
    "print('p:{0:0.3f}'.format(pval))\n",
    "print('degree pf freedom: {}'.format(dof))\n",
    "print('expected value: \\n{}'.format(expected.round(3)))"
   ]
  },
  {
   "cell_type": "code",
   "execution_count": 101,
   "metadata": {},
   "outputs": [
    {
     "name": "stdout",
     "output_type": "stream",
     "text": [
      "chi-square test\n",
      "chisq:2.946\n",
      "p:0.086\n",
      "degree pf freedom: 1\n",
      "expected value: \n",
      "[[1722.766  110.234]\n",
      " [  43.234    2.766]]\n"
     ]
    }
   ],
   "source": [
    "df_a = df_raw.groupby(['빈혈여부', '수술실패여부'], as_index=False).size()\n",
    "df_pivot = df_a.pivot('빈혈여부', '수술실패여부')\n",
    "df_pivot\n",
    "\n",
    "chi, pval, dof, expected = stats.chi2_contingency(df_pivot)\n",
    "\n",
    "print(\"chi-square test\")\n",
    "print(\"chisq:{0:0.3f}\".format(chi))\n",
    "print('p:{0:0.3f}'.format(pval))\n",
    "print('degree pf freedom: {}'.format(dof))\n",
    "print('expected value: \\n{}'.format(expected.round(3)))"
   ]
  },
  {
   "cell_type": "code",
   "execution_count": 102,
   "metadata": {},
   "outputs": [
    {
     "name": "stdout",
     "output_type": "stream",
     "text": [
      "chi-square test\n",
      "chisq:3.249\n",
      "p:0.071\n",
      "degree pf freedom: 1\n",
      "expected value: \n",
      "[[1085.54   69.46]\n",
      " [ 680.46   43.54]]\n"
     ]
    }
   ],
   "source": [
    "df_a = df_raw.groupby(['성별', '수술실패여부'], as_index=False).size()\n",
    "df_pivot = df_a.pivot('성별', '수술실패여부')\n",
    "df_pivot\n",
    "\n",
    "chi, pval, dof, expected = stats.chi2_contingency(df_pivot)\n",
    "\n",
    "print(\"chi-square test\")\n",
    "print(\"chisq:{0:0.3f}\".format(chi))\n",
    "print('p:{0:0.3f}'.format(pval))\n",
    "print('degree pf freedom: {}'.format(dof))\n",
    "print('expected value: \\n{}'.format(expected.round(3)))"
   ]
  },
  {
   "cell_type": "code",
   "execution_count": 103,
   "metadata": {},
   "outputs": [
    {
     "name": "stdout",
     "output_type": "stream",
     "text": [
      "chi-square test\n",
      "chisq:2.528\n",
      "p:0.112\n",
      "degree pf freedom: 1\n",
      "expected value: \n",
      "[[ 710.535   45.465]\n",
      " [1055.465   67.535]]\n"
     ]
    }
   ],
   "source": [
    "df_a = df_raw.groupby(['스테로이드치료', '수술실패여부'], as_index=False).size()\n",
    "df_pivot = df_a.pivot('스테로이드치료', '수술실패여부')\n",
    "df_pivot\n",
    "\n",
    "chi, pval, dof, expected = stats.chi2_contingency(df_pivot)\n",
    "\n",
    "print(\"chi-square test\")\n",
    "print(\"chisq:{0:0.3f}\".format(chi))\n",
    "print('p:{0:0.3f}'.format(pval))\n",
    "print('degree pf freedom: {}'.format(dof))\n",
    "print('expected value: \\n{}'.format(expected.round(3)))"
   ]
  },
  {
   "cell_type": "code",
   "execution_count": 104,
   "metadata": {},
   "outputs": [
    {
     "name": "stdout",
     "output_type": "stream",
     "text": [
      "chi-square test\n",
      "chisq:0.057\n",
      "p:0.812\n",
      "degree pf freedom: 1\n",
      "expected value: \n",
      "[[1720.887  110.113]\n",
      " [  45.113    2.887]]\n"
     ]
    }
   ],
   "source": [
    "df_a = df_raw.groupby(['신부전여부', '수술실패여부'], as_index=False).size()\n",
    "df_pivot = df_a.pivot('신부전여부', '수술실패여부')\n",
    "df_pivot\n",
    "\n",
    "chi, pval, dof, expected = stats.chi2_contingency(df_pivot)\n",
    "\n",
    "print(\"chi-square test\")\n",
    "print(\"chisq:{0:0.3f}\".format(chi))\n",
    "print('p:{0:0.3f}'.format(pval))\n",
    "print('degree pf freedom: {}'.format(dof))\n",
    "print('expected value: \\n{}'.format(expected.round(3)))"
   ]
  },
  {
   "cell_type": "code",
   "execution_count": 105,
   "metadata": {},
   "outputs": [
    {
     "name": "stdout",
     "output_type": "stream",
     "text": [
      "chi-square test\n",
      "chisq:5.348\n",
      "p:0.021\n",
      "degree pf freedom: 1\n",
      "expected value: \n",
      "[[1380.657   88.343]\n",
      " [ 385.343   24.657]]\n"
     ]
    }
   ],
   "source": [
    "df_a = df_raw.groupby(['흡연여부', '수술실패여부'], as_index=False).size()\n",
    "df_pivot = df_a.pivot('흡연여부', '수술실패여부')\n",
    "df_pivot\n",
    "\n",
    "chi, pval, dof, expected = stats.chi2_contingency(df_pivot)\n",
    "\n",
    "print(\"chi-square test\")\n",
    "print(\"chisq:{0:0.3f}\".format(chi))\n",
    "print('p:{0:0.3f}'.format(pval))\n",
    "print('degree pf freedom: {}'.format(dof))\n",
    "print('expected value: \\n{}'.format(expected.round(3)))"
   ]
  },
  {
   "cell_type": "code",
   "execution_count": 106,
   "metadata": {},
   "outputs": [
    {
     "name": "stdout",
     "output_type": "stream",
     "text": [
      "chi-square test\n",
      "chisq:0.109\n",
      "p:0.742\n",
      "degree pf freedom: 1\n",
      "expected value: \n",
      "[[ 134.4    8.6]\n",
      " [1631.6  104.4]]\n"
     ]
    }
   ],
   "source": [
    "df_a = df_raw.groupby(['수술기법', '수술실패여부'], as_index=False).size()\n",
    "df_pivot = df_a.pivot('수술기법', '수술실패여부')\n",
    "df_pivot\n",
    "\n",
    "chi, pval, dof, expected = stats.chi2_contingency(df_pivot)\n",
    "\n",
    "print(\"chi-square test\")\n",
    "print(\"chisq:{0:0.3f}\".format(chi))\n",
    "print('p:{0:0.3f}'.format(pval))\n",
    "print('degree pf freedom: {}'.format(dof))\n",
    "print('expected value: \\n{}'.format(expected.round(3)))"
   ]
  },
  {
   "cell_type": "code",
   "execution_count": 107,
   "metadata": {},
   "outputs": [
    {
     "name": "stdout",
     "output_type": "stream",
     "text": [
      "chi-square test\n",
      "chisq:2.325\n",
      "p:0.508\n",
      "degree pf freedom: 3\n",
      "expected value: \n",
      "[[639.106  40.894]\n",
      " [186.093  11.907]\n",
      " [446.434  28.566]\n",
      " [494.367  31.633]]\n"
     ]
    }
   ],
   "source": [
    "df_a = df_raw.groupby(['혈액형', '수술실패여부'], as_index=False).size()\n",
    "df_pivot = df_a.pivot('혈액형', '수술실패여부')\n",
    "df_pivot\n",
    "\n",
    "chi, pval, dof, expected = stats.chi2_contingency(df_pivot)\n",
    "\n",
    "print(\"chi-square test\")\n",
    "print(\"chisq:{0:0.3f}\".format(chi))\n",
    "print('p:{0:0.3f}'.format(pval))\n",
    "print('degree pf freedom: {}'.format(dof))\n",
    "print('expected value: \\n{}'.format(expected.round(3)))"
   ]
  },
  {
   "cell_type": "code",
   "execution_count": 108,
   "metadata": {},
   "outputs": [
    {
     "name": "stdout",
     "output_type": "stream",
     "text": [
      "chi-square test\n",
      "chisq:7.804\n",
      "p:0.0503\n",
      "degree pf freedom: 3\n",
      "expected value: \n",
      "[[1.530095e+03 9.790500e+01]\n",
      " [5.451200e+01 3.488000e+00]\n",
      " [1.607160e+02 1.028400e+01]\n",
      " [2.067700e+01 1.323000e+00]]\n"
     ]
    }
   ],
   "source": [
    "df_a = df_raw.groupby(['Modic_change', '수술실패여부'], as_index=False).size()\n",
    "df_pivot = df_a.pivot('Modic_change', '수술실패여부')\n",
    "df_pivot\n",
    "\n",
    "chi, pval, dof, expected = stats.chi2_contingency(df_pivot)\n",
    "\n",
    "print(\"chi-square test\")\n",
    "print(\"chisq:{0:0.3f}\".format(chi))\n",
    "print('p:{0:0.4f}'.format(pval))\n",
    "print('degree pf freedom: {}'.format(dof))\n",
    "print('expected value: \\n{}'.format(expected.round(3)))"
   ]
  },
  {
   "cell_type": "code",
   "execution_count": 109,
   "metadata": {},
   "outputs": [
    {
     "name": "stdout",
     "output_type": "stream",
     "text": [
      "chi-square test\n",
      "chisq:0.199\n",
      "p:0.656\n",
      "degree pf freedom: 1\n",
      "expected value: \n",
      "[[1665.435  106.565]\n",
      " [ 100.565    6.435]]\n"
     ]
    }
   ],
   "source": [
    "df_a = df_raw.groupby(['Vaccum_disc', '수술실패여부'], as_index=False).size()\n",
    "df_pivot = df_a.pivot('Vaccum_disc', '수술실패여부')\n",
    "df_pivot\n",
    "\n",
    "chi, pval, dof, expected = stats.chi2_contingency(df_pivot)\n",
    "\n",
    "print(\"chi-square test\")\n",
    "print(\"chisq:{0:0.3f}\".format(chi))\n",
    "print('p:{0:0.3f}'.format(pval))\n",
    "print('degree pf freedom: {}'.format(dof))\n",
    "print('expected value: \\n{}'.format(expected.round(3)))"
   ]
  },
  {
   "cell_type": "code",
   "execution_count": 110,
   "metadata": {},
   "outputs": [
    {
     "name": "stdout",
     "output_type": "stream",
     "text": [
      "chi-square test\n",
      "chisq:16.805\n",
      "p:0.002\n",
      "degree pf freedom: 4\n",
      "expected value: \n",
      "[[4.793290e+02 3.067100e+01]\n",
      " [3.759400e+01 2.406000e+00]\n",
      " [1.503800e+01 9.620000e-01]\n",
      " [1.172947e+03 7.505300e+01]\n",
      " [6.109100e+01 3.909000e+00]]\n"
     ]
    }
   ],
   "source": [
    "df_a = df_raw.groupby(['척추이동척도', '수술실패여부'], as_index=False).size()\n",
    "df_pivot = df_a.pivot('척추이동척도', '수술실패여부')\n",
    "df_pivot\n",
    "\n",
    "chi, pval, dof, expected = stats.chi2_contingency(df_pivot)\n",
    "\n",
    "print(\"chi-square test\")\n",
    "print(\"chisq:{0:0.3f}\".format(chi))\n",
    "print('p:{0:0.3f}'.format(pval))\n",
    "print('degree pf freedom: {}'.format(dof))\n",
    "print('expected value: \\n{}'.format(expected.round(3)))"
   ]
  },
  {
   "cell_type": "code",
   "execution_count": 111,
   "metadata": {},
   "outputs": [
    {
     "name": "stdout",
     "output_type": "stream",
     "text": [
      "chi-square test\n",
      "chisq:1.410\n",
      "p:0.235\n",
      "degree pf freedom: 1\n",
      "expected value: \n",
      "[[1708.668  109.332]\n",
      " [  57.332    3.668]]\n"
     ]
    }
   ],
   "source": [
    "df_a = df_raw.groupby(['척추전방위증', '수술실패여부'], as_index=False).size()\n",
    "df_pivot = df_a.pivot('척추전방위증', '수술실패여부')\n",
    "df_pivot\n",
    "\n",
    "chi, pval, dof, expected = stats.chi2_contingency(df_pivot)\n",
    "\n",
    "print(\"chi-square test\")\n",
    "print(\"chisq:{0:0.3f}\".format(chi))\n",
    "print('p:{0:0.3f}'.format(pval))\n",
    "print('degree pf freedom: {}'.format(dof))\n",
    "print('expected value: \\n{}'.format(expected.round(3)))"
   ]
  },
  {
   "cell_type": "code",
   "execution_count": 112,
   "metadata": {},
   "outputs": [
    {
     "name": "stdout",
     "output_type": "stream",
     "text": [
      "chi-square test\n",
      "chisq:1.713\n",
      "p:0.634\n",
      "degree pf freedom: 3\n",
      "expected value: \n",
      "[[398.501  25.499]\n",
      " [616.549  39.451]\n",
      " [423.878  27.122]\n",
      " [327.072  20.928]]\n"
     ]
    }
   ],
   "source": [
    "df_a = df_raw.groupby(['계절', '수술실패여부'], as_index=False).size()\n",
    "df_pivot = df_a.pivot('계절', '수술실패여부')\n",
    "df_pivot\n",
    "\n",
    "chi, pval, dof, expected = stats.chi2_contingency(df_pivot)\n",
    "\n",
    "print(\"chi-square test\")\n",
    "print(\"chisq:{0:0.3f}\".format(chi))\n",
    "print('p:{0:0.3f}'.format(pval))\n",
    "print('degree pf freedom: {}'.format(dof))\n",
    "print('expected value: \\n{}'.format(expected.round(3)))"
   ]
  },
  {
   "cell_type": "code",
   "execution_count": null,
   "metadata": {},
   "outputs": [],
   "source": []
  }
 ],
 "metadata": {
  "kernelspec": {
   "display_name": "Python 3.9.13 ('base')",
   "language": "python",
   "name": "python3"
  },
  "language_info": {
   "codemirror_mode": {
    "name": "ipython",
    "version": 3
   },
   "file_extension": ".py",
   "mimetype": "text/x-python",
   "name": "python",
   "nbconvert_exporter": "python",
   "pygments_lexer": "ipython3",
   "version": "3.9.13"
  },
  "orig_nbformat": 4,
  "vscode": {
   "interpreter": {
    "hash": "7dd0c2d2fcac84127cad6c7791fbc016bc5c4f13dc0bbc54349c23adffe2fe25"
   }
  }
 },
 "nbformat": 4,
 "nbformat_minor": 2
}
