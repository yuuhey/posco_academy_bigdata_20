{
 "cells": [
  {
   "cell_type": "code",
   "execution_count": 1,
   "id": "a470eda0",
   "metadata": {},
   "outputs": [],
   "source": [
    "# 패키지 불러오기\n",
    "import pandas as pd # 데이터 처리\n",
    "import numpy as np #연산\n",
    "import matplotlib #시각화\n",
    "import matplotlib.pyplot as plt\n",
    "import statsmodels.formula.api as smf\n",
    "import statsmodels.api as s\n",
    "import seaborn as sns\n",
    "import math\n",
    "import matplotlib.font_manager as fm\n",
    "import warnings\n",
    "import graphviz\n",
    "warnings.filterwarnings('ignore')\n",
    "import statsmodels.api as sm\n",
    "from sklearn.neighbors import KNeighborsClassifier\n",
    "from sklearn.svm import SVC\n",
    "\n",
    "from sklearn.ensemble import RandomForestClassifier, GradientBoostingClassifier\n",
    "from sklearn.metrics import mean_squared_error\n",
    "from sklearn.metrics import mean_absolute_error as mse\n",
    "\n",
    "from sklearn.model_selection import train_test_split # 데이터 분할 : train, test\n",
    "from sklearn.tree import DecisionTreeRegressor\n",
    "from sklearn.ensemble import RandomForestRegressor #예측/회귀\n",
    "from sklearn.ensemble import GradientBoostingRegressor\n",
    "from sklearn.metrics import mean_squared_error\n",
    "from sklearn.metrics import mean_absolute_error\n",
    "from sklearn.metrics import mean_absolute_percentage_error\n",
    "from datetime import datetime\n",
    "from statsmodels.graphics.tsaplots import plot_acf, plot_pacf\n",
    "from statsmodels.tsa.arima_model import ARIMA\n",
    "from sklearn.preprocessing import StandardScaler, MinMaxScaler\n",
    "from sklearn.decomposition import PCA\n",
    "from scipy import stats\n",
    "from statsmodels.stats.proportion import proportions_ztest\n",
    "from sklearn.feature_selection import RFE\n",
    "from statsmodels.api import qqplot, add_constant\n",
    "from statsmodels.stats.outliers_influence import variance_inflation_factor\n",
    "from sklearn.metrics import r2_score\n",
    "from scipy.stats import mannwhitneyu\n",
    "from sklearn.linear_model import LinearRegression\n",
    "from sklearn.model_selection import GridSearchCV\n",
    "from sklearn.linear_model import Ridge, Lasso, ElasticNet\n",
    "from datetime import date\n",
    "from sklearn.tree import export_graphviz\n",
    "from sklearn.metrics import confusion_matrix, classification_report\n",
    "\n",
    "path='/usr/share/fonts/opentype/noto/NotoSansCJK-Bold.ttc'\n",
    "fontprop=fm.FontProperties(fname=path, size=18).get_name()\n",
    "matplotlib.rc('font',family = fontprop)\n",
    "matplotlib.rc('axes', unicode_minus = False)\n",
    "\n",
    "%matplotlib inline\n",
    "\n",
    "pd.set_option('display.max_columns', None)\n",
    "pd.options.display.max_rows = 400\n",
    "\n",
    "from sklearn.neighbors import KNeighborsClassifier"
   ]
  },
  {
   "cell_type": "code",
   "execution_count": 2,
   "id": "ba4b0416",
   "metadata": {},
   "outputs": [],
   "source": [
    "df1 = pd.read_csv(\"01_sales_data2.csv\")\n",
    "df2 = pd.read_csv(\"02_customer_data.csv\")\n",
    "df3 = pd.read_csv(\"03_stock_data.csv\")\n",
    "\n",
    "df = pd.merge(df1,df2,on = [\"customer_id\"])\n",
    "df = pd.merge(df, df3, on=[\"product_name\"])"
   ]
  },
  {
   "cell_type": "code",
   "execution_count": 3,
   "id": "ba33e471",
   "metadata": {},
   "outputs": [],
   "source": [
    "df_cleaned = df.copy(deep = True)\n",
    "df_cleaned['QuantityCanceled'] = 0\n",
    "entry_to_remove = []\n",
    "doubtfull_entry = []\n",
    "for index, col in  df.iterrows(): #interrows 객채로 변환\n",
    "    # 주문 수량이 0보다 크거나 할인의 경우\n",
    "    if (col['quantity'] > 0):\n",
    "        continue\n",
    "            # 수량이 +이면 그냥 대입\n",
    "        # 수량이 -이면 아래것을 돌림\n",
    "    df_test = df[(df['customer_id'] == col['customer_id']) &\n",
    "                         (df['product_code']  == col['product_code']) &\n",
    "                         (df['date'] <= col['date']) &\n",
    "                         (df['quantity']   > 0)].copy()\n",
    "    # 주문일이 더 빠르고 수량이 0보다 큰 경우가 1개도 없는 경우\n",
    "    if (df_test.shape[0] == 0):\n",
    "        doubtfull_entry.append(index)\n",
    "    # 주문일이 더 빠르고 수량이 0보다 큰 경우가 1개 있는 경우 (수량만큼 마이너스 값이 들어감)\n",
    "    elif (df_test.shape[0] == 1):\n",
    "        index_order = df_test.index[0]\n",
    "        # 취소된 수량에 대한 컬럼을 새로 생성한다.\n",
    "        df_cleaned.loc[index_order, 'QuantityCanceled'] = -col['quantity']\n",
    "        entry_to_remove.append(index)\n",
    "    # 주문일이 더 빠르고 수량이 0보다 큰 경우가 2개 이상인 경우\n",
    "    elif (df_test.shape[0] > 1):\n",
    "        df_test.sort_index(axis=0 ,ascending=False, inplace = True)\n",
    "        # 부분취소를 한 경우\n",
    "        for ind, val in df_test.iterrows():\n",
    "            if val['quantity'] < -col['quantity']: continue\n",
    "            df_cleaned.loc[ind, 'QuantityCanceled'] = -col['quantity']\n",
    "            entry_to_remove.append(index)\n",
    "            break \n",
    "            \n",
    "# entry_to_remove : 없애줘야할것 = 마이너스 값인데, 주문일이 더 빠르고 수량이 +인 것이 이전에 있는 인덱스가 경우\n",
    "# doubtfull_entry : 의심되는것 ex) 마이너스 값인데 전에 구매한 것이 없는거\n",
    "# 둘다 인덱스만 넣어줬다는 거 주의!!!!\n",
    "# 원래 df_cleaned -> df1"
   ]
  },
  {
   "cell_type": "code",
   "execution_count": 4,
   "id": "ecb4be2d",
   "metadata": {},
   "outputs": [
    {
     "name": "stdout",
     "output_type": "stream",
     "text": [
      "entry_to_remove: 4687\n",
      "doubtfull_entry: 1129\n"
     ]
    }
   ],
   "source": [
    "print(\"entry_to_remove: {}\".format(len(entry_to_remove)))\n",
    "# 삭제 데이터 = 취소했는데 전에 산 수량보다 큰 수량으로 취소한 데이터\n",
    "print(\"doubtfull_entry: {}\".format(len(doubtfull_entry)))\n",
    "# 이상한 데이터 = 취소했는데 시킨게 없는거"
   ]
  },
  {
   "cell_type": "code",
   "execution_count": 5,
   "id": "d72ddab0",
   "metadata": {},
   "outputs": [],
   "source": [
    "df_cleaned.drop(entry_to_remove, axis = 0, inplace = True)\n",
    "df_cleaned.drop(doubtfull_entry, axis = 0, inplace = True)\n",
    "# 둘다 지움 !\n",
    "# 이제 df1에는 환불한것들이랑 의심되는 것들 없음, df1 = 진짜 주문 수량\n",
    "# 중요한건 이 데이터 프레임은 환불횟수만 쓸 수 있음"
   ]
  },
  {
   "cell_type": "code",
   "execution_count": 6,
   "id": "b250f3e2",
   "metadata": {},
   "outputs": [
    {
     "ename": "TypeError",
     "evalue": "'>' not supported between instances of 'str' and 'int'",
     "output_type": "error",
     "traceback": [
      "\u001b[0;31m---------------------------------------------------------------------------\u001b[0m",
      "\u001b[0;31mTypeError\u001b[0m                                 Traceback (most recent call last)",
      "\u001b[1;32m/home/piai/anaconda3/envs/kth/팀프/df_cleaned.ipynb 셀 6\u001b[0m in \u001b[0;36m<cell line: 2>\u001b[0;34m()\u001b[0m\n\u001b[1;32m      <a href='vscode-notebook-cell:/home/piai/anaconda3/envs/kth/%ED%8C%80%ED%94%84/df_cleaned.ipynb#W5sZmlsZQ%3D%3D?line=0'>1</a>\u001b[0m df_cleaned\u001b[39m.\u001b[39msort_values(by \u001b[39m=\u001b[39m \u001b[39m\"\u001b[39m\u001b[39mquantity\u001b[39m\u001b[39m\"\u001b[39m)\n\u001b[0;32m----> <a href='vscode-notebook-cell:/home/piai/anaconda3/envs/kth/%ED%8C%80%ED%94%84/df_cleaned.ipynb#W5sZmlsZQ%3D%3D?line=1'>2</a>\u001b[0m df_cleaned\u001b[39m.\u001b[39mdrop(\u001b[39m\"\u001b[39;49m\u001b[39mquantity\u001b[39;49m\u001b[39m\"\u001b[39;49m \u001b[39m>\u001b[39;49m \u001b[39m10000\u001b[39;49m, axis \u001b[39m=\u001b[39m \u001b[39m0\u001b[39m, inplace \u001b[39m=\u001b[39m \u001b[39mTrue\u001b[39;00m)\n",
      "\u001b[0;31mTypeError\u001b[0m: '>' not supported between instances of 'str' and 'int'"
     ]
    }
   ],
   "source": [
    "df_cleaned.sort_values(by = \"quantity\")\n",
    "df_cleaned.drop(\"quantity\" > 10000, axis = 0, inplace = True)"
   ]
  },
  {
   "cell_type": "code",
   "execution_count": null,
   "id": "b5782426",
   "metadata": {},
   "outputs": [],
   "source": []
  },
  {
   "cell_type": "markdown",
   "id": "c2780cce",
   "metadata": {},
   "source": [
    "# 이제 df_cleaned 를 사용하면 됩니다.\n",
    "# entry_to_remove은 환불한 자료입니다. doubtfull_entry는 주문 안했는데 주문한 자료입니다.인덱스로 표현되어 있으니까 iloc 써서 확인하면 됩니다.\n",
    "# 이거는 하루만에 환불한 것도 삭제된 데이터 입니다.\n",
    "# 질문사항이 있다면 김성언 대리님께 질문해주세요."
   ]
  },
  {
   "cell_type": "code",
   "execution_count": null,
   "id": "a8b809c8",
   "metadata": {},
   "outputs": [],
   "source": []
  }
 ],
 "metadata": {
  "kernelspec": {
   "display_name": "kth",
   "language": "python",
   "name": "conda"
  },
  "language_info": {
   "codemirror_mode": {
    "name": "ipython",
    "version": 3
   },
   "file_extension": ".py",
   "mimetype": "text/x-python",
   "name": "python",
   "nbconvert_exporter": "python",
   "pygments_lexer": "ipython3",
   "version": "3.10.6"
  }
 },
 "nbformat": 4,
 "nbformat_minor": 5
}
