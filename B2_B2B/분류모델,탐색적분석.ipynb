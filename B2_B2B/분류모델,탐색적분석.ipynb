{
 "cells": [
  {
   "cell_type": "code",
   "execution_count": 751,
   "metadata": {},
   "outputs": [],
   "source": [
    "import pandas as pd\n",
    "import numpy as np\n",
    "from sklearn import tree\n",
    "import xgboost as xgb ## XGBoost 불러오기\n",
    "from xgboost import plot_importance ## Feature Importance를 불러오기 위함\n",
    "\n",
    "from statsmodels.stats.outliers_influence import variance_inflation_factor\n",
    "from statsmodels.api import qqplot, add_constant\n",
    "\n",
    "\n",
    "# 전처리\n",
    "from sklearn.model_selection import train_test_split  # 데이터 분할\n",
    "from sklearn.preprocessing import StandardScaler  # 표준화\n",
    "from sklearn.decomposition import PCA  # 차원축소\n",
    "\n",
    "# 모델\n",
    "# 선형회귀\n",
    "from sklearn.linear_model import LinearRegression  # 선형회귀\n",
    "\n",
    "# 다중선형회귀\n",
    "from statsmodels.formula.api import ols  # 공식을 통한 다중 선형회귀\n",
    "import statsmodels.api as sm  # 다중선형회귀 OLS 객체가 있는 api\n",
    "import statsmodels.formula.api as smf\n",
    "from sklearn.linear_model import ElasticNet, Lasso, Ridge  # 규제화 회귀\n",
    "\n",
    "# 트리 회귀\n",
    "from sklearn.tree import DecisionTreeRegressor\n",
    "from sklearn.ensemble import RandomForestRegressor\n",
    "from sklearn.ensemble import GradientBoostingRegressor\n",
    "from sklearn.neural_network import MLPClassifier\n",
    "# 기타회귀\n",
    "from sklearn.svm import SVR\n",
    "from sklearn.neural_network import MLPRegressor\n",
    "\n",
    "\n",
    "# 분류\n",
    "from sklearn.tree import DecisionTreeClassifier\n",
    "from statsmodels.api import Logit\n",
    "from sklearn.ensemble import GradientBoostingClassifier\n",
    "from sklearn.ensemble import RandomForestClassifier\n",
    "from sklearn.svm import SVC\n",
    "from sklearn.neighbors import KNeighborsClassifier\n",
    "\n",
    "# 모델 평가\n",
    "# 회귀\n",
    "from sklearn.metrics import mean_squared_error\n",
    "from sklearn.metrics import mean_absolute_error\n",
    "from statsmodels.tools.eval_measures import rmse\n",
    "from sklearn.metrics import r2_score\n",
    "from sklearn.feature_selection import RFE  # 후진제거법(변수선택)\n",
    "from sklearn.model_selection import cross_val_score\n",
    "# 분류\n",
    "from sklearn.metrics import accuracy_score, f1_score\n",
    "from sklearn.metrics import confusion_matrix, classification_report\n",
    "\n",
    "\n",
    "# 시각화\n",
    "\n",
    "import matplotlib\n",
    "import matplotlib.pyplot as plt\n",
    "import matplotlib.font_manager as fm\n",
    "import seaborn as sns\n",
    "from sklearn.tree import export_graphviz\n",
    "\n",
    "\n",
    "# 모델튜닝\n",
    "from sklearn.model_selection import GridSearchCV\n",
    "from pandas import read_csv\n",
    "\n",
    "from scipy import stats\n",
    "from random import random\n",
    "from random import uniform\n",
    "import math\n",
    "import os\n",
    "import missingno as msno\n",
    "import graphviz  # 나무구조 시각화\n",
    "import matplotlib.font_manager as fm\n",
    "import warnings\n",
    "from sklearn.tree import export_graphviz"
   ]
  },
  {
   "cell_type": "code",
   "execution_count": 752,
   "metadata": {},
   "outputs": [],
   "source": [
    "df_raw = read_csv('classification.csv')"
   ]
  },
  {
   "cell_type": "code",
   "execution_count": 753,
   "metadata": {},
   "outputs": [
    {
     "data": {
      "text/html": [
       "<div>\n",
       "<style scoped>\n",
       "    .dataframe tbody tr th:only-of-type {\n",
       "        vertical-align: middle;\n",
       "    }\n",
       "\n",
       "    .dataframe tbody tr th {\n",
       "        vertical-align: top;\n",
       "    }\n",
       "\n",
       "    .dataframe thead th {\n",
       "        text-align: right;\n",
       "    }\n",
       "</style>\n",
       "<table border=\"1\" class=\"dataframe\">\n",
       "  <thead>\n",
       "    <tr style=\"text-align: right;\">\n",
       "      <th></th>\n",
       "      <th>Unnamed: 0</th>\n",
       "      <th>customer_id</th>\n",
       "      <th>city</th>\n",
       "      <th>state</th>\n",
       "      <th>pop_thousand</th>\n",
       "      <th>land_sq_meter</th>\n",
       "      <th>pop_size</th>\n",
       "      <th>city_type</th>\n",
       "      <th>city_lctn</th>\n",
       "      <th>Bags, Luggage &amp; Accessories</th>\n",
       "      <th>...</th>\n",
       "      <th>Toys &amp; Gifts</th>\n",
       "      <th>Watches</th>\n",
       "      <th>Wedding , Party &amp; Events</th>\n",
       "      <th>Fashion Accessories</th>\n",
       "      <th>Discount</th>\n",
       "      <th>Apparel</th>\n",
       "      <th>Jewelry</th>\n",
       "      <th>Headphones &amp; Earphones</th>\n",
       "      <th>Cell Phones &amp; Accessories</th>\n",
       "      <th>canceled</th>\n",
       "    </tr>\n",
       "  </thead>\n",
       "  <tbody>\n",
       "    <tr>\n",
       "      <th>0</th>\n",
       "      <td>0</td>\n",
       "      <td>E13313</td>\n",
       "      <td>Honolulu</td>\n",
       "      <td>HI</td>\n",
       "      <td>339</td>\n",
       "      <td>156</td>\n",
       "      <td>small</td>\n",
       "      <td>sightseeing</td>\n",
       "      <td>other</td>\n",
       "      <td>231.0</td>\n",
       "      <td>...</td>\n",
       "      <td>4.0</td>\n",
       "      <td>0.0</td>\n",
       "      <td>12.0</td>\n",
       "      <td>0.0</td>\n",
       "      <td>0.0</td>\n",
       "      <td>0.0</td>\n",
       "      <td>0.0</td>\n",
       "      <td>0.0</td>\n",
       "      <td>0.0</td>\n",
       "      <td>0.0</td>\n",
       "    </tr>\n",
       "    <tr>\n",
       "      <th>1</th>\n",
       "      <td>1</td>\n",
       "      <td>E18097</td>\n",
       "      <td>Houston</td>\n",
       "      <td>TX</td>\n",
       "      <td>2325</td>\n",
       "      <td>1658</td>\n",
       "      <td>middle</td>\n",
       "      <td>other</td>\n",
       "      <td>south</td>\n",
       "      <td>0.0</td>\n",
       "      <td>...</td>\n",
       "      <td>0.0</td>\n",
       "      <td>0.0</td>\n",
       "      <td>0.0</td>\n",
       "      <td>0.0</td>\n",
       "      <td>0.0</td>\n",
       "      <td>0.0</td>\n",
       "      <td>0.0</td>\n",
       "      <td>0.0</td>\n",
       "      <td>0.0</td>\n",
       "      <td>1.0</td>\n",
       "    </tr>\n",
       "    <tr>\n",
       "      <th>2</th>\n",
       "      <td>2</td>\n",
       "      <td>E16656</td>\n",
       "      <td>San Jose</td>\n",
       "      <td>CA</td>\n",
       "      <td>1003</td>\n",
       "      <td>461</td>\n",
       "      <td>middle</td>\n",
       "      <td>sightseeing</td>\n",
       "      <td>west</td>\n",
       "      <td>0.0</td>\n",
       "      <td>...</td>\n",
       "      <td>0.0</td>\n",
       "      <td>0.0</td>\n",
       "      <td>0.0</td>\n",
       "      <td>0.0</td>\n",
       "      <td>0.0</td>\n",
       "      <td>0.0</td>\n",
       "      <td>0.0</td>\n",
       "      <td>0.0</td>\n",
       "      <td>0.0</td>\n",
       "      <td>1.0</td>\n",
       "    </tr>\n",
       "    <tr>\n",
       "      <th>3</th>\n",
       "      <td>3</td>\n",
       "      <td>E16875</td>\n",
       "      <td>Phoenix</td>\n",
       "      <td>AZ</td>\n",
       "      <td>1759</td>\n",
       "      <td>1341</td>\n",
       "      <td>middle</td>\n",
       "      <td>other</td>\n",
       "      <td>west</td>\n",
       "      <td>0.0</td>\n",
       "      <td>...</td>\n",
       "      <td>0.0</td>\n",
       "      <td>0.0</td>\n",
       "      <td>0.0</td>\n",
       "      <td>0.0</td>\n",
       "      <td>0.0</td>\n",
       "      <td>0.0</td>\n",
       "      <td>0.0</td>\n",
       "      <td>0.0</td>\n",
       "      <td>0.0</td>\n",
       "      <td>1.0</td>\n",
       "    </tr>\n",
       "    <tr>\n",
       "      <th>4</th>\n",
       "      <td>4</td>\n",
       "      <td>E13094</td>\n",
       "      <td>Phoenix</td>\n",
       "      <td>AZ</td>\n",
       "      <td>1759</td>\n",
       "      <td>1341</td>\n",
       "      <td>middle</td>\n",
       "      <td>other</td>\n",
       "      <td>west</td>\n",
       "      <td>0.0</td>\n",
       "      <td>...</td>\n",
       "      <td>0.0</td>\n",
       "      <td>0.0</td>\n",
       "      <td>0.0</td>\n",
       "      <td>0.0</td>\n",
       "      <td>0.0</td>\n",
       "      <td>0.0</td>\n",
       "      <td>0.0</td>\n",
       "      <td>0.0</td>\n",
       "      <td>0.0</td>\n",
       "      <td>1.0</td>\n",
       "    </tr>\n",
       "    <tr>\n",
       "      <th>...</th>\n",
       "      <td>...</td>\n",
       "      <td>...</td>\n",
       "      <td>...</td>\n",
       "      <td>...</td>\n",
       "      <td>...</td>\n",
       "      <td>...</td>\n",
       "      <td>...</td>\n",
       "      <td>...</td>\n",
       "      <td>...</td>\n",
       "      <td>...</td>\n",
       "      <td>...</td>\n",
       "      <td>...</td>\n",
       "      <td>...</td>\n",
       "      <td>...</td>\n",
       "      <td>...</td>\n",
       "      <td>...</td>\n",
       "      <td>...</td>\n",
       "      <td>...</td>\n",
       "      <td>...</td>\n",
       "      <td>...</td>\n",
       "      <td>...</td>\n",
       "    </tr>\n",
       "    <tr>\n",
       "      <th>3431</th>\n",
       "      <td>3431</td>\n",
       "      <td>E14698</td>\n",
       "      <td>Las Vegas</td>\n",
       "      <td>NV</td>\n",
       "      <td>675</td>\n",
       "      <td>367</td>\n",
       "      <td>small</td>\n",
       "      <td>sightseeing</td>\n",
       "      <td>west</td>\n",
       "      <td>0.0</td>\n",
       "      <td>...</td>\n",
       "      <td>0.0</td>\n",
       "      <td>0.0</td>\n",
       "      <td>0.0</td>\n",
       "      <td>0.0</td>\n",
       "      <td>0.0</td>\n",
       "      <td>0.0</td>\n",
       "      <td>0.0</td>\n",
       "      <td>0.0</td>\n",
       "      <td>0.0</td>\n",
       "      <td>0.0</td>\n",
       "    </tr>\n",
       "    <tr>\n",
       "      <th>3432</th>\n",
       "      <td>3432</td>\n",
       "      <td>E13298</td>\n",
       "      <td>San Diego</td>\n",
       "      <td>CA</td>\n",
       "      <td>1429</td>\n",
       "      <td>844</td>\n",
       "      <td>middle</td>\n",
       "      <td>sightseeing</td>\n",
       "      <td>west</td>\n",
       "      <td>0.0</td>\n",
       "      <td>...</td>\n",
       "      <td>0.0</td>\n",
       "      <td>0.0</td>\n",
       "      <td>0.0</td>\n",
       "      <td>0.0</td>\n",
       "      <td>0.0</td>\n",
       "      <td>0.0</td>\n",
       "      <td>0.0</td>\n",
       "      <td>0.0</td>\n",
       "      <td>0.0</td>\n",
       "      <td>0.0</td>\n",
       "    </tr>\n",
       "    <tr>\n",
       "      <th>3433</th>\n",
       "      <td>3433</td>\n",
       "      <td>E14569</td>\n",
       "      <td>New York</td>\n",
       "      <td>NY</td>\n",
       "      <td>8177</td>\n",
       "      <td>778</td>\n",
       "      <td>big</td>\n",
       "      <td>metro</td>\n",
       "      <td>east</td>\n",
       "      <td>0.0</td>\n",
       "      <td>...</td>\n",
       "      <td>0.0</td>\n",
       "      <td>0.0</td>\n",
       "      <td>0.0</td>\n",
       "      <td>0.0</td>\n",
       "      <td>0.0</td>\n",
       "      <td>0.0</td>\n",
       "      <td>0.0</td>\n",
       "      <td>0.0</td>\n",
       "      <td>0.0</td>\n",
       "      <td>0.0</td>\n",
       "    </tr>\n",
       "    <tr>\n",
       "      <th>3434</th>\n",
       "      <td>3434</td>\n",
       "      <td>E16688</td>\n",
       "      <td>Phoenix</td>\n",
       "      <td>AZ</td>\n",
       "      <td>1759</td>\n",
       "      <td>1341</td>\n",
       "      <td>middle</td>\n",
       "      <td>other</td>\n",
       "      <td>west</td>\n",
       "      <td>0.0</td>\n",
       "      <td>...</td>\n",
       "      <td>0.0</td>\n",
       "      <td>0.0</td>\n",
       "      <td>0.0</td>\n",
       "      <td>0.0</td>\n",
       "      <td>0.0</td>\n",
       "      <td>0.0</td>\n",
       "      <td>0.0</td>\n",
       "      <td>0.0</td>\n",
       "      <td>0.0</td>\n",
       "      <td>0.0</td>\n",
       "    </tr>\n",
       "    <tr>\n",
       "      <th>3435</th>\n",
       "      <td>3435</td>\n",
       "      <td>E12985</td>\n",
       "      <td>Los Angeles</td>\n",
       "      <td>CA</td>\n",
       "      <td>3985</td>\n",
       "      <td>1216</td>\n",
       "      <td>middle</td>\n",
       "      <td>metro</td>\n",
       "      <td>west</td>\n",
       "      <td>0.0</td>\n",
       "      <td>...</td>\n",
       "      <td>192.0</td>\n",
       "      <td>0.0</td>\n",
       "      <td>0.0</td>\n",
       "      <td>0.0</td>\n",
       "      <td>0.0</td>\n",
       "      <td>0.0</td>\n",
       "      <td>0.0</td>\n",
       "      <td>0.0</td>\n",
       "      <td>0.0</td>\n",
       "      <td>0.0</td>\n",
       "    </tr>\n",
       "  </tbody>\n",
       "</table>\n",
       "<p>3436 rows × 33 columns</p>\n",
       "</div>"
      ],
      "text/plain": [
       "      Unnamed: 0 customer_id         city state  pop_thousand  land_sq_meter  \\\n",
       "0              0      E13313     Honolulu    HI           339            156   \n",
       "1              1      E18097      Houston    TX          2325           1658   \n",
       "2              2      E16656     San Jose    CA          1003            461   \n",
       "3              3      E16875      Phoenix    AZ          1759           1341   \n",
       "4              4      E13094      Phoenix    AZ          1759           1341   \n",
       "...          ...         ...          ...   ...           ...            ...   \n",
       "3431        3431      E14698    Las Vegas    NV           675            367   \n",
       "3432        3432      E13298    San Diego    CA          1429            844   \n",
       "3433        3433      E14569     New York    NY          8177            778   \n",
       "3434        3434      E16688      Phoenix    AZ          1759           1341   \n",
       "3435        3435      E12985  Los Angeles    CA          3985           1216   \n",
       "\n",
       "     pop_size    city_type city_lctn  Bags, Luggage & Accessories  ...  \\\n",
       "0       small  sightseeing     other                        231.0  ...   \n",
       "1      middle        other     south                          0.0  ...   \n",
       "2      middle  sightseeing      west                          0.0  ...   \n",
       "3      middle        other      west                          0.0  ...   \n",
       "4      middle        other      west                          0.0  ...   \n",
       "...       ...          ...       ...                          ...  ...   \n",
       "3431    small  sightseeing      west                          0.0  ...   \n",
       "3432   middle  sightseeing      west                          0.0  ...   \n",
       "3433      big        metro      east                          0.0  ...   \n",
       "3434   middle        other      west                          0.0  ...   \n",
       "3435   middle        metro      west                          0.0  ...   \n",
       "\n",
       "      Toys & Gifts  Watches  Wedding , Party & Events  Fashion Accessories  \\\n",
       "0              4.0      0.0                      12.0                  0.0   \n",
       "1              0.0      0.0                       0.0                  0.0   \n",
       "2              0.0      0.0                       0.0                  0.0   \n",
       "3              0.0      0.0                       0.0                  0.0   \n",
       "4              0.0      0.0                       0.0                  0.0   \n",
       "...            ...      ...                       ...                  ...   \n",
       "3431           0.0      0.0                       0.0                  0.0   \n",
       "3432           0.0      0.0                       0.0                  0.0   \n",
       "3433           0.0      0.0                       0.0                  0.0   \n",
       "3434           0.0      0.0                       0.0                  0.0   \n",
       "3435         192.0      0.0                       0.0                  0.0   \n",
       "\n",
       "      Discount  Apparel  Jewelry  Headphones & Earphones  \\\n",
       "0          0.0      0.0      0.0                     0.0   \n",
       "1          0.0      0.0      0.0                     0.0   \n",
       "2          0.0      0.0      0.0                     0.0   \n",
       "3          0.0      0.0      0.0                     0.0   \n",
       "4          0.0      0.0      0.0                     0.0   \n",
       "...        ...      ...      ...                     ...   \n",
       "3431       0.0      0.0      0.0                     0.0   \n",
       "3432       0.0      0.0      0.0                     0.0   \n",
       "3433       0.0      0.0      0.0                     0.0   \n",
       "3434       0.0      0.0      0.0                     0.0   \n",
       "3435       0.0      0.0      0.0                     0.0   \n",
       "\n",
       "      Cell Phones & Accessories   canceled  \n",
       "0                            0.0       0.0  \n",
       "1                            0.0       1.0  \n",
       "2                            0.0       1.0  \n",
       "3                            0.0       1.0  \n",
       "4                            0.0       1.0  \n",
       "...                          ...       ...  \n",
       "3431                         0.0       0.0  \n",
       "3432                         0.0       0.0  \n",
       "3433                         0.0       0.0  \n",
       "3434                         0.0       0.0  \n",
       "3435                         0.0       0.0  \n",
       "\n",
       "[3436 rows x 33 columns]"
      ]
     },
     "execution_count": 753,
     "metadata": {},
     "output_type": "execute_result"
    }
   ],
   "source": [
    "df_raw"
   ]
  },
  {
   "cell_type": "code",
   "execution_count": 754,
   "metadata": {},
   "outputs": [],
   "source": [
    "df_y = df_raw['canceled']"
   ]
  },
  {
   "cell_type": "code",
   "execution_count": 755,
   "metadata": {},
   "outputs": [],
   "source": [
    "df_y = df_raw['canceled']\n",
    "df_x = df_raw.drop(['canceled', 'customer_id','city','state', 'pop_thousand', 'land_sq_meter', 'pop_size', 'city_type', 'city_lctn'], axis = 1)"
   ]
  },
  {
   "cell_type": "code",
   "execution_count": 756,
   "metadata": {},
   "outputs": [],
   "source": [
    "sm = SMOTE()"
   ]
  },
  {
   "cell_type": "code",
   "execution_count": 757,
   "metadata": {},
   "outputs": [],
   "source": [
    "resampled_x , resample_y = sm.fit_resample(df_x, df_y)\n"
   ]
  },
  {
   "cell_type": "code",
   "execution_count": 758,
   "metadata": {},
   "outputs": [],
   "source": [
    "train_x, test_x, train_y, test_y = train_test_split(resampled_x, resample_y, test_size = 0.1, random_state=1234)"
   ]
  },
  {
   "cell_type": "code",
   "execution_count": 759,
   "metadata": {},
   "outputs": [],
   "source": [
    "model_name = []\n",
    "train_result = []\n",
    "test_result = []"
   ]
  },
  {
   "cell_type": "code",
   "execution_count": 760,
   "metadata": {},
   "outputs": [
    {
     "name": "stdout",
     "output_type": "stream",
     "text": [
      "0.6862745098039216\n",
      "0.6560509554140127\n"
     ]
    }
   ],
   "source": [
    "gb = GradientBoostingClassifier(random_state = 1234, max_depth=3)\n",
    "gb.fit(train_x, train_y)\n",
    "print(gb.score(train_x, train_y))\n",
    "print(gb.score(test_x, test_y))\n",
    "model_name.append('GB')\n",
    "train_result .append(gb.score(train_x, train_y))\n",
    "test_result.append(gb.score(test_x, test_y))"
   ]
  },
  {
   "cell_type": "code",
   "execution_count": 761,
   "metadata": {},
   "outputs": [
    {
     "name": "stdout",
     "output_type": "stream",
     "text": [
      "0.5168910937869123\n",
      "0.5010615711252654\n"
     ]
    }
   ],
   "source": [
    "mlp = MLPClassifier(random_state = 123, batch_size=1000,max_iter=1000).fit(train_x, train_y)\n",
    "print(mlp.score(train_x, train_y))\n",
    "print(mlp.score(test_x, test_y))\n",
    "model_name.append('MLP')\n",
    "train_result .append(mlp.score(train_x, train_y))\n",
    "test_result.append(mlp.score(test_x, test_y))"
   ]
  },
  {
   "cell_type": "code",
   "execution_count": 762,
   "metadata": {},
   "outputs": [
    {
     "name": "stdout",
     "output_type": "stream",
     "text": [
      "0.7072997873848335\n",
      "0.6602972399150743\n"
     ]
    }
   ],
   "source": [
    "rf = RandomForestClassifier(random_state = 1234, n_estimators=100, max_depth=12,criterion = 'log_loss').fit(train_x, train_y)\n",
    "print(rf.score(train_x, train_y))\n",
    "print(rf.score(test_x, test_y))\n",
    "model_name.append('RF')\n",
    "train_result .append(rf.score(train_x, train_y))\n",
    "test_result.append(rf.score(test_x, test_y))"
   ]
  },
  {
   "cell_type": "code",
   "execution_count": 763,
   "metadata": {},
   "outputs": [
    {
     "name": "stdout",
     "output_type": "stream",
     "text": [
      "0.6385542168674698\n",
      "0.6348195329087049\n"
     ]
    }
   ],
   "source": [
    "svc = SVC(random_state = 1234).fit(train_x, train_y)\n",
    "print(svc.score(train_x, train_y))\n",
    "print(svc.score(test_x, test_y))\n",
    "model_name.append('SVC')\n",
    "train_result .append(svc.score(train_x, train_y))\n",
    "test_result.append(svc.score(test_x, test_y))"
   ]
  },
  {
   "cell_type": "code",
   "execution_count": 764,
   "metadata": {},
   "outputs": [
    {
     "name": "stdout",
     "output_type": "stream",
     "text": [
      "0.7302149775572879\n",
      "0.6794055201698513\n"
     ]
    }
   ],
   "source": [
    "knn = KNeighborsClassifier(n_neighbors=10).fit(train_x, train_y)\n",
    "print(knn.score(train_x, train_y))\n",
    "print(knn.score(test_x, test_y))\n",
    "model_name.append('KNN')\n",
    "train_result.append(knn.score(train_x, train_y))\n",
    "test_result.append(knn.score(test_x, test_y))"
   ]
  },
  {
   "cell_type": "code",
   "execution_count": 765,
   "metadata": {},
   "outputs": [
    {
     "data": {
      "text/plain": [
       "(0.0, 1.0)"
      ]
     },
     "execution_count": 765,
     "metadata": {},
     "output_type": "execute_result"
    },
    {
     "data": {
      "image/png": "[encoded data removed]",
      "text/plain": [
       "<Figure size 1000x500 with 2 Axes>"
      ]
     },
     "metadata": {},
     "output_type": "display_data"
    }
   ],
   "source": [
    "plt.figure(figsize = (10,5))\n",
    "plt.subplot(1,2,1)\n",
    "sns.barplot(x = model_name, y = train_result)\n",
    "plt.ylim(0,1)\n",
    "plt.subplot(1,2,2)\n",
    "sns.barplot(x = model_name, y = test_result)\n",
    "plt.ylim(0,1)\n"
   ]
  },
  {
   "cell_type": "code",
   "execution_count": 766,
   "metadata": {},
   "outputs": [],
   "source": [
    "result = pd.DataFrame()"
   ]
  },
  {
   "cell_type": "code",
   "execution_count": 767,
   "metadata": {},
   "outputs": [],
   "source": [
    "y_pred = list(rf.predict_proba(X = test_x)[:, 1])"
   ]
  },
  {
   "cell_type": "code",
   "execution_count": 768,
   "metadata": {},
   "outputs": [],
   "source": [
    "temp = list(map((lambda x : 1 if x > 0.45 else 0), y_pred))"
   ]
  },
  {
   "cell_type": "code",
   "execution_count": 769,
   "metadata": {},
   "outputs": [
    {
     "name": "stdout",
     "output_type": "stream",
     "text": [
      "              precision    recall  f1-score   support\n",
      "\n",
      "         0.0      0.671     0.637     0.654       237\n",
      "         1.0      0.650     0.684     0.667       234\n",
      "\n",
      "    accuracy                          0.660       471\n",
      "   macro avg      0.661     0.660     0.660       471\n",
      "weighted avg      0.661     0.660     0.660       471\n",
      "\n"
     ]
    }
   ],
   "source": [
    "print(classification_report(test_y, temp, digits =3))"
   ]
  },
  {
   "cell_type": "code",
   "execution_count": 770,
   "metadata": {},
   "outputs": [
    {
     "name": "stdout",
     "output_type": "stream",
     "text": [
      "[[151  86]\n",
      " [ 74 160]]\n"
     ]
    }
   ],
   "source": [
    "print(confusion_matrix(test_y, temp))"
   ]
  },
  {
   "cell_type": "code",
   "execution_count": 771,
   "metadata": {},
   "outputs": [
    {
     "data": {
      "text/plain": [
       "[0.6862745098039216,\n",
       " 0.5168910937869123,\n",
       " 0.7072997873848335,\n",
       " 0.6385542168674698,\n",
       " 0.7302149775572879]"
      ]
     },
     "execution_count": 771,
     "metadata": {},
     "output_type": "execute_result"
    }
   ],
   "source": [
    "train_result"
   ]
  },
  {
   "cell_type": "code",
   "execution_count": 772,
   "metadata": {},
   "outputs": [],
   "source": [
    "result = pd.DataFrame({\n",
    "    'model' : model_name,\n",
    "    'train' : train_result,\n",
    "    'test' : test_result\n",
    "})"
   ]
  },
  {
   "cell_type": "code",
   "execution_count": 773,
   "metadata": {},
   "outputs": [
    {
     "data": {
      "text/html": [
       "<div>\n",
       "<style scoped>\n",
       "    .dataframe tbody tr th:only-of-type {\n",
       "        vertical-align: middle;\n",
       "    }\n",
       "\n",
       "    .dataframe tbody tr th {\n",
       "        vertical-align: top;\n",
       "    }\n",
       "\n",
       "    .dataframe thead th {\n",
       "        text-align: right;\n",
       "    }\n",
       "</style>\n",
       "<table border=\"1\" class=\"dataframe\">\n",
       "  <thead>\n",
       "    <tr style=\"text-align: right;\">\n",
       "      <th></th>\n",
       "      <th>0</th>\n",
       "      <th>1</th>\n",
       "      <th>2</th>\n",
       "      <th>3</th>\n",
       "      <th>4</th>\n",
       "    </tr>\n",
       "  </thead>\n",
       "  <tbody>\n",
       "    <tr>\n",
       "      <th>model</th>\n",
       "      <td>GB</td>\n",
       "      <td>MLP</td>\n",
       "      <td>RF</td>\n",
       "      <td>SVC</td>\n",
       "      <td>KNN</td>\n",
       "    </tr>\n",
       "    <tr>\n",
       "      <th>train</th>\n",
       "      <td>0.686275</td>\n",
       "      <td>0.516891</td>\n",
       "      <td>0.7073</td>\n",
       "      <td>0.638554</td>\n",
       "      <td>0.730215</td>\n",
       "    </tr>\n",
       "    <tr>\n",
       "      <th>test</th>\n",
       "      <td>0.656051</td>\n",
       "      <td>0.501062</td>\n",
       "      <td>0.660297</td>\n",
       "      <td>0.63482</td>\n",
       "      <td>0.679406</td>\n",
       "    </tr>\n",
       "  </tbody>\n",
       "</table>\n",
       "</div>"
      ],
      "text/plain": [
       "              0         1         2         3         4\n",
       "model        GB       MLP        RF       SVC       KNN\n",
       "train  0.686275  0.516891    0.7073  0.638554  0.730215\n",
       "test   0.656051  0.501062  0.660297   0.63482  0.679406"
      ]
     },
     "execution_count": 773,
     "metadata": {},
     "output_type": "execute_result"
    }
   ],
   "source": [
    "result.T"
   ]
  },
  {
   "cell_type": "code",
   "execution_count": null,
   "metadata": {},
   "outputs": [],
   "source": []
  },
  {
   "cell_type": "code",
   "execution_count": 774,
   "metadata": {},
   "outputs": [
    {
     "data": {
      "text/html": [
       "<div>\n",
       "<style scoped>\n",
       "    .dataframe tbody tr th:only-of-type {\n",
       "        vertical-align: middle;\n",
       "    }\n",
       "\n",
       "    .dataframe tbody tr th {\n",
       "        vertical-align: top;\n",
       "    }\n",
       "\n",
       "    .dataframe thead th {\n",
       "        text-align: right;\n",
       "    }\n",
       "</style>\n",
       "<table border=\"1\" class=\"dataframe\">\n",
       "  <thead>\n",
       "    <tr style=\"text-align: right;\">\n",
       "      <th></th>\n",
       "      <th>Unnamed: 0</th>\n",
       "      <th>product_name</th>\n",
       "      <th>var</th>\n",
       "    </tr>\n",
       "  </thead>\n",
       "  <tbody>\n",
       "    <tr>\n",
       "      <th>0</th>\n",
       "      <td>345</td>\n",
       "      <td>WORLD WAR 2 GLIDERS ASSTD DESIGNS</td>\n",
       "      <td>114779.611160</td>\n",
       "    </tr>\n",
       "    <tr>\n",
       "      <th>1</th>\n",
       "      <td>21</td>\n",
       "      <td>ASSORTED COLOUR BIRD ORNAMENT</td>\n",
       "      <td>83432.256115</td>\n",
       "    </tr>\n",
       "    <tr>\n",
       "      <th>2</th>\n",
       "      <td>222</td>\n",
       "      <td>PAPER POCKET TRAVELING FAN</td>\n",
       "      <td>46427.160096</td>\n",
       "    </tr>\n",
       "    <tr>\n",
       "      <th>3</th>\n",
       "      <td>243</td>\n",
       "      <td>PINK/BLUE DISC/MIRROR STRING</td>\n",
       "      <td>31393.904762</td>\n",
       "    </tr>\n",
       "    <tr>\n",
       "      <th>4</th>\n",
       "      <td>246</td>\n",
       "      <td>POTTING SHED ROSE CANDLE</td>\n",
       "      <td>19700.952381</td>\n",
       "    </tr>\n",
       "    <tr>\n",
       "      <th>5</th>\n",
       "      <td>158</td>\n",
       "      <td>HEART OF WICKER SMALL</td>\n",
       "      <td>19432.046236</td>\n",
       "    </tr>\n",
       "    <tr>\n",
       "      <th>6</th>\n",
       "      <td>289</td>\n",
       "      <td>SET OF TEA COFFEE SUGAR TINS PANTRY</td>\n",
       "      <td>18607.562621</td>\n",
       "    </tr>\n",
       "    <tr>\n",
       "      <th>7</th>\n",
       "      <td>108</td>\n",
       "      <td>DOLLY GIRL WALL ART</td>\n",
       "      <td>17697.000000</td>\n",
       "    </tr>\n",
       "    <tr>\n",
       "      <th>8</th>\n",
       "      <td>81</td>\n",
       "      <td>CHRISTMAS PUDDING TRINKET POT</td>\n",
       "      <td>10639.540244</td>\n",
       "    </tr>\n",
       "    <tr>\n",
       "      <th>9</th>\n",
       "      <td>69</td>\n",
       "      <td>CAST IRON HOOK GARDEN FORK</td>\n",
       "      <td>9872.418182</td>\n",
       "    </tr>\n",
       "    <tr>\n",
       "      <th>10</th>\n",
       "      <td>92</td>\n",
       "      <td>CREAM HEART CARD HOLDER</td>\n",
       "      <td>8339.326944</td>\n",
       "    </tr>\n",
       "    <tr>\n",
       "      <th>11</th>\n",
       "      <td>193</td>\n",
       "      <td>LUNCH BOX I LOVE LONDON</td>\n",
       "      <td>7824.424912</td>\n",
       "    </tr>\n",
       "    <tr>\n",
       "      <th>12</th>\n",
       "      <td>287</td>\n",
       "      <td>SET OF 60 PANTRY DESIGN CAKE CASES</td>\n",
       "      <td>6725.868487</td>\n",
       "    </tr>\n",
       "    <tr>\n",
       "      <th>13</th>\n",
       "      <td>71</td>\n",
       "      <td>CERAMIC STRAWBERRY MONEY BOX</td>\n",
       "      <td>6318.562069</td>\n",
       "    </tr>\n",
       "    <tr>\n",
       "      <th>14</th>\n",
       "      <td>349</td>\n",
       "      <td>WRAP PINK FAIRY CAKES</td>\n",
       "      <td>6034.051970</td>\n",
       "    </tr>\n",
       "    <tr>\n",
       "      <th>15</th>\n",
       "      <td>87</td>\n",
       "      <td>COFFEE MUG BLUE PAISLEY DESIGN</td>\n",
       "      <td>5995.791667</td>\n",
       "    </tr>\n",
       "    <tr>\n",
       "      <th>16</th>\n",
       "      <td>98</td>\n",
       "      <td>DAISY GARDEN MARKER</td>\n",
       "      <td>5366.345976</td>\n",
       "    </tr>\n",
       "    <tr>\n",
       "      <th>17</th>\n",
       "      <td>14</td>\n",
       "      <td>AGED GLASS SILVER T-LIGHT HOLDER</td>\n",
       "      <td>5203.872378</td>\n",
       "    </tr>\n",
       "    <tr>\n",
       "      <th>18</th>\n",
       "      <td>50</td>\n",
       "      <td>BLUE VICTORIAN FABRIC OVAL BOX</td>\n",
       "      <td>4945.526667</td>\n",
       "    </tr>\n",
       "    <tr>\n",
       "      <th>19</th>\n",
       "      <td>338</td>\n",
       "      <td>WHITE BELL HONEYCOMB PAPER</td>\n",
       "      <td>4704.492647</td>\n",
       "    </tr>\n",
       "    <tr>\n",
       "      <th>20</th>\n",
       "      <td>227</td>\n",
       "      <td>PIGGY BANK RETROSPOT</td>\n",
       "      <td>4576.642014</td>\n",
       "    </tr>\n",
       "    <tr>\n",
       "      <th>21</th>\n",
       "      <td>89</td>\n",
       "      <td>COLOUR GLASS T-LIGHT HOLDER HANGING</td>\n",
       "      <td>4569.016316</td>\n",
       "    </tr>\n",
       "    <tr>\n",
       "      <th>22</th>\n",
       "      <td>7</td>\n",
       "      <td>36 DOILIES VINTAGE CHRISTMAS</td>\n",
       "      <td>4470.186885</td>\n",
       "    </tr>\n",
       "    <tr>\n",
       "      <th>23</th>\n",
       "      <td>119</td>\n",
       "      <td>FELTCRAFT 6 FLOWER FRIENDS</td>\n",
       "      <td>4297.632020</td>\n",
       "    </tr>\n",
       "    <tr>\n",
       "      <th>24</th>\n",
       "      <td>272</td>\n",
       "      <td>SET 12 RETRO WHITE CHALK STICKS</td>\n",
       "      <td>3940.689498</td>\n",
       "    </tr>\n",
       "    <tr>\n",
       "      <th>25</th>\n",
       "      <td>207</td>\n",
       "      <td>MULTICOLOUR HONEYCOMB PAPER GARLAND</td>\n",
       "      <td>3709.065217</td>\n",
       "    </tr>\n",
       "    <tr>\n",
       "      <th>26</th>\n",
       "      <td>273</td>\n",
       "      <td>SET 2 TEA TOWELS I LOVE LONDON</td>\n",
       "      <td>3441.345558</td>\n",
       "    </tr>\n",
       "    <tr>\n",
       "      <th>27</th>\n",
       "      <td>191</td>\n",
       "      <td>LONDON BUS COFFEE MUG</td>\n",
       "      <td>3234.037474</td>\n",
       "    </tr>\n",
       "    <tr>\n",
       "      <th>28</th>\n",
       "      <td>318</td>\n",
       "      <td>T-LIGHT GLASS FLUTED ANTIQUE</td>\n",
       "      <td>3033.072639</td>\n",
       "    </tr>\n",
       "    <tr>\n",
       "      <th>29</th>\n",
       "      <td>117</td>\n",
       "      <td>FANCY FONT BIRTHDAY CARD,</td>\n",
       "      <td>2947.029392</td>\n",
       "    </tr>\n",
       "    <tr>\n",
       "      <th>30</th>\n",
       "      <td>267</td>\n",
       "      <td>ROTATING SILVER ANGELS T-LIGHT HLDR</td>\n",
       "      <td>2850.515105</td>\n",
       "    </tr>\n",
       "    <tr>\n",
       "      <th>31</th>\n",
       "      <td>2</td>\n",
       "      <td>200 BENDY SKULL STRAWS</td>\n",
       "      <td>2439.918280</td>\n",
       "    </tr>\n",
       "    <tr>\n",
       "      <th>32</th>\n",
       "      <td>88</td>\n",
       "      <td>COFFEE MUG CAT + BIRD DESIGN</td>\n",
       "      <td>2325.276039</td>\n",
       "    </tr>\n",
       "    <tr>\n",
       "      <th>33</th>\n",
       "      <td>351</td>\n",
       "      <td>WRAP SUKI AND FRIENDS</td>\n",
       "      <td>2109.352042</td>\n",
       "    </tr>\n",
       "  </tbody>\n",
       "</table>\n",
       "</div>"
      ],
      "text/plain": [
       "    Unnamed: 0                         product_name            var\n",
       "0          345    WORLD WAR 2 GLIDERS ASSTD DESIGNS  114779.611160\n",
       "1           21        ASSORTED COLOUR BIRD ORNAMENT   83432.256115\n",
       "2          222           PAPER POCKET TRAVELING FAN   46427.160096\n",
       "3          243         PINK/BLUE DISC/MIRROR STRING   31393.904762\n",
       "4          246             POTTING SHED ROSE CANDLE   19700.952381\n",
       "5          158                HEART OF WICKER SMALL   19432.046236\n",
       "6          289  SET OF TEA COFFEE SUGAR TINS PANTRY   18607.562621\n",
       "7          108                  DOLLY GIRL WALL ART   17697.000000\n",
       "8           81        CHRISTMAS PUDDING TRINKET POT   10639.540244\n",
       "9           69           CAST IRON HOOK GARDEN FORK    9872.418182\n",
       "10          92              CREAM HEART CARD HOLDER    8339.326944\n",
       "11         193              LUNCH BOX I LOVE LONDON    7824.424912\n",
       "12         287   SET OF 60 PANTRY DESIGN CAKE CASES    6725.868487\n",
       "13          71         CERAMIC STRAWBERRY MONEY BOX    6318.562069\n",
       "14         349                WRAP PINK FAIRY CAKES    6034.051970\n",
       "15          87       COFFEE MUG BLUE PAISLEY DESIGN    5995.791667\n",
       "16          98                  DAISY GARDEN MARKER    5366.345976\n",
       "17          14     AGED GLASS SILVER T-LIGHT HOLDER    5203.872378\n",
       "18          50       BLUE VICTORIAN FABRIC OVAL BOX    4945.526667\n",
       "19         338           WHITE BELL HONEYCOMB PAPER    4704.492647\n",
       "20         227                 PIGGY BANK RETROSPOT    4576.642014\n",
       "21          89  COLOUR GLASS T-LIGHT HOLDER HANGING    4569.016316\n",
       "22           7         36 DOILIES VINTAGE CHRISTMAS    4470.186885\n",
       "23         119           FELTCRAFT 6 FLOWER FRIENDS    4297.632020\n",
       "24         272      SET 12 RETRO WHITE CHALK STICKS    3940.689498\n",
       "25         207  MULTICOLOUR HONEYCOMB PAPER GARLAND    3709.065217\n",
       "26         273       SET 2 TEA TOWELS I LOVE LONDON    3441.345558\n",
       "27         191                LONDON BUS COFFEE MUG    3234.037474\n",
       "28         318         T-LIGHT GLASS FLUTED ANTIQUE    3033.072639\n",
       "29         117            FANCY FONT BIRTHDAY CARD,    2947.029392\n",
       "30         267  ROTATING SILVER ANGELS T-LIGHT HLDR    2850.515105\n",
       "31           2               200 BENDY SKULL STRAWS    2439.918280\n",
       "32          88         COFFEE MUG CAT + BIRD DESIGN    2325.276039\n",
       "33         351                WRAP SUKI AND FRIENDS    2109.352042"
      ]
     },
     "execution_count": 774,
     "metadata": {},
     "output_type": "execute_result"
    }
   ],
   "source": [
    "read_csv('variation.csv')[read_csv('variation.csv')['var'] > 2000]"
   ]
  },
  {
   "cell_type": "code",
   "execution_count": 775,
   "metadata": {},
   "outputs": [],
   "source": [
    "product = read_csv('03_stock_data.csv')"
   ]
  },
  {
   "cell_type": "code",
   "execution_count": 776,
   "metadata": {},
   "outputs": [
    {
     "data": {
      "text/html": [
       "<div>\n",
       "<style scoped>\n",
       "    .dataframe tbody tr th:only-of-type {\n",
       "        vertical-align: middle;\n",
       "    }\n",
       "\n",
       "    .dataframe tbody tr th {\n",
       "        vertical-align: top;\n",
       "    }\n",
       "\n",
       "    .dataframe thead th {\n",
       "        text-align: right;\n",
       "    }\n",
       "</style>\n",
       "<table border=\"1\" class=\"dataframe\">\n",
       "  <thead>\n",
       "    <tr style=\"text-align: right;\">\n",
       "      <th></th>\n",
       "      <th>product_name</th>\n",
       "      <th>stock_type</th>\n",
       "    </tr>\n",
       "  </thead>\n",
       "  <tbody>\n",
       "    <tr>\n",
       "      <th>1076</th>\n",
       "      <td>COLOUR GLASS T-LIGHT HOLDER HANGING</td>\n",
       "      <td>buying</td>\n",
       "    </tr>\n",
       "  </tbody>\n",
       "</table>\n",
       "</div>"
      ],
      "text/plain": [
       "                             product_name stock_type\n",
       "1076  COLOUR GLASS T-LIGHT HOLDER HANGING     buying"
      ]
     },
     "execution_count": 776,
     "metadata": {},
     "output_type": "execute_result"
    }
   ],
   "source": [
    "product[product['product_name'] == 'COLOUR GLASS T-LIGHT HOLDER HANGING']"
   ]
  },
  {
   "cell_type": "code",
   "execution_count": 777,
   "metadata": {},
   "outputs": [
    {
     "data": {
      "text/plain": [
       "<AxesSubplot: >"
      ]
     },
     "execution_count": 777,
     "metadata": {},
     "output_type": "execute_result"
    },
    {
     "data": {
      "image/png": "[encoded data removed]",
      "text/plain": [
       "<Figure size 640x480 with 1 Axes>"
      ]
     },
     "metadata": {},
     "output_type": "display_data"
    }
   ],
   "source": [
    "sales.loc[sales['product_name'] == 'COLOUR GLASS T-LIGHT HOLDER HANGING','quantity'].plot()"
   ]
  },
  {
   "cell_type": "code",
   "execution_count": 778,
   "metadata": {},
   "outputs": [
    {
     "data": {
      "text/plain": [
       "5549560.6340000015"
      ]
     },
     "execution_count": 778,
     "metadata": {},
     "output_type": "execute_result"
    }
   ],
   "source": [
    "sales['sales'].sum()"
   ]
  },
  {
   "cell_type": "code",
   "execution_count": 779,
   "metadata": {},
   "outputs": [
    {
     "data": {
      "text/plain": [
       "188509.77"
      ]
     },
     "execution_count": 779,
     "metadata": {},
     "output_type": "execute_result"
    }
   ],
   "source": [
    "(sales[sales['product_name'].str.contains('CHRISTMAS')])['sales'].sum()"
   ]
  },
  {
   "cell_type": "code",
   "execution_count": 780,
   "metadata": {},
   "outputs": [
    {
     "data": {
      "text/plain": [
       "52526.86000000001"
      ]
     },
     "execution_count": 780,
     "metadata": {},
     "output_type": "execute_result"
    }
   ],
   "source": [
    "(sales[sales['product_name'].str.contains('ORNAMENT')])['sales'].sum()"
   ]
  },
  {
   "cell_type": "code",
   "execution_count": 781,
   "metadata": {},
   "outputs": [
    {
     "data": {
      "text/plain": [
       "19744.239999999998"
      ]
     },
     "execution_count": 781,
     "metadata": {},
     "output_type": "execute_result"
    }
   ],
   "source": [
    "(sales[sales['product_name'].str.contains('EASTER')])['sales'].sum()"
   ]
  },
  {
   "cell_type": "code",
   "execution_count": 782,
   "metadata": {},
   "outputs": [
    {
     "data": {
      "text/plain": [
       "62296.58"
      ]
     },
     "execution_count": 782,
     "metadata": {},
     "output_type": "execute_result"
    }
   ],
   "source": [
    "(sales[sales['product_name'].str.contains('SKULL')])['sales'].sum()"
   ]
  },
  {
   "cell_type": "code",
   "execution_count": 783,
   "metadata": {},
   "outputs": [
    {
     "data": {
      "text/plain": [
       "94509.43000000001"
      ]
     },
     "execution_count": 783,
     "metadata": {},
     "output_type": "execute_result"
    }
   ],
   "source": [
    "(sales[sales['product_name'].str.contains('CUP')])['sales'].sum()"
   ]
  },
  {
   "cell_type": "code",
   "execution_count": 784,
   "metadata": {},
   "outputs": [
    {
     "data": {
      "text/plain": [
       "0.07524632583484096"
      ]
     },
     "execution_count": 784,
     "metadata": {},
     "output_type": "execute_result"
    }
   ],
   "source": [
    "(188509+19744+94509 + 62296 + 52526) / 5549560"
   ]
  },
  {
   "cell_type": "code",
   "execution_count": 785,
   "metadata": {},
   "outputs": [
    {
     "data": {
      "text/plain": [
       "product_name    44\n",
       "stock_type      44\n",
       "dtype: int64"
      ]
     },
     "execution_count": 785,
     "metadata": {},
     "output_type": "execute_result"
    }
   ],
   "source": [
    "product[product['product_name'].str.contains('EASTER')].count()"
   ]
  },
  {
   "cell_type": "code",
   "execution_count": 786,
   "metadata": {},
   "outputs": [
    {
     "data": {
      "text/plain": [
       "0.046567967698519515"
      ]
     },
     "execution_count": 786,
     "metadata": {},
     "output_type": "execute_result"
    }
   ],
   "source": [
    "173 / 3715"
   ]
  },
  {
   "cell_type": "code",
   "execution_count": 787,
   "metadata": {},
   "outputs": [],
   "source": [
    "count = [144,417584]\n",
    "n_obs = [3715, 5549560]\n"
   ]
  },
  {
   "cell_type": "code",
   "execution_count": 788,
   "metadata": {},
   "outputs": [
    {
     "data": {
      "text/html": [
       "<svg  width=\"330\" height=\"55\"><rect x=\"0\" y=\"0\" width=\"55\" height=\"55\" style=\"fill:#001253;stroke-width:2;stroke:rgb(255,255,255)\"/><rect x=\"55\" y=\"0\" width=\"55\" height=\"55\" style=\"fill:#9b5de5;stroke-width:2;stroke:rgb(255,255,255)\"/><rect x=\"110\" y=\"0\" width=\"55\" height=\"55\" style=\"fill:#f15bb5;stroke-width:2;stroke:rgb(255,255,255)\"/><rect x=\"165\" y=\"0\" width=\"55\" height=\"55\" style=\"fill:#fee440;stroke-width:2;stroke:rgb(255,255,255)\"/><rect x=\"220\" y=\"0\" width=\"55\" height=\"55\" style=\"fill:#00bbf9;stroke-width:2;stroke:rgb(255,255,255)\"/><rect x=\"275\" y=\"0\" width=\"55\" height=\"55\" style=\"fill:#00f5d4;stroke-width:2;stroke:rgb(255,255,255)\"/></svg>"
      ],
      "text/plain": [
       "[(0.0, 0.07058823529411765, 0.3254901960784314),\n",
       " (0.6078431372549019, 0.36470588235294116, 0.8980392156862745),\n",
       " (0.9450980392156862, 0.3568627450980392, 0.7098039215686275),\n",
       " (0.996078431372549, 0.8941176470588236, 0.25098039215686274),\n",
       " (0.0, 0.7333333333333333, 0.9764705882352941),\n",
       " (0.0, 0.9607843137254902, 0.8313725490196079)]"
      ]
     },
     "execution_count": 788,
     "metadata": {},
     "output_type": "execute_result"
    }
   ],
   "source": [
    "my_palette = ['#'+hex for hex in \"001253 9b5de5 f15bb5 fee440 00bbf9 00f5d4\".split(' ')]\n",
    "my_palette = sns.set_palette(my_palette)\n",
    "sns.color_palette()\n"
   ]
  },
  {
   "cell_type": "code",
   "execution_count": 789,
   "metadata": {},
   "outputs": [
    {
     "data": {
      "text/plain": [
       "Text(0.5, 1.0, 'CHRISTMAS')"
      ]
     },
     "execution_count": 789,
     "metadata": {},
     "output_type": "execute_result"
    },
    {
     "data": {
      "image/png": "[encoded data removed]",
      "text/plain": [
       "<Figure size 640x480 with 1 Axes>"
      ]
     },
     "metadata": {},
     "output_type": "display_data"
    }
   ],
   "source": [
    "sns.lineplot(sales[sales['product_name'].str.contains('CHRISTMAS')].groupby('date',as_index =False)['sales'].sum(), x = 'date', y = 'sales')\n",
    "plt.title('CHRISTMAS')\n"
   ]
  },
  {
   "cell_type": "code",
   "execution_count": 790,
   "metadata": {},
   "outputs": [
    {
     "data": {
      "text/plain": [
       "Text(0.5, 1.0, 'EASTER')"
      ]
     },
     "execution_count": 790,
     "metadata": {},
     "output_type": "execute_result"
    },
    {
     "data": {
      "image/png": "[encoded data removed]",
      "text/plain": [
       "<Figure size 640x480 with 1 Axes>"
      ]
     },
     "metadata": {},
     "output_type": "display_data"
    }
   ],
   "source": [
    "sales[sales['product_name'].str.contains('EASTER')].groupby('date',as_index =False)['sales'].sum().plot()\n",
    "plt.title('EASTER')"
   ]
  },
  {
   "cell_type": "code",
   "execution_count": 791,
   "metadata": {},
   "outputs": [],
   "source": [
    "stock = read_csv('03_stock_data.csv')"
   ]
  },
  {
   "cell_type": "code",
   "execution_count": 792,
   "metadata": {},
   "outputs": [],
   "source": [
    "sales = pd.merge(sales, stock, on = 'product_name')"
   ]
  },
  {
   "cell_type": "code",
   "execution_count": 801,
   "metadata": {},
   "outputs": [],
   "source": [
    "buying = sales[sales['stock_type'] == 'buying'].groupby(['product_name','date'], as_index=False)['invoice'].count()"
   ]
  },
  {
   "cell_type": "code",
   "execution_count": 802,
   "metadata": {},
   "outputs": [
    {
     "data": {
      "text/html": [
       "<div>\n",
       "<style scoped>\n",
       "    .dataframe tbody tr th:only-of-type {\n",
       "        vertical-align: middle;\n",
       "    }\n",
       "\n",
       "    .dataframe tbody tr th {\n",
       "        vertical-align: top;\n",
       "    }\n",
       "\n",
       "    .dataframe thead th {\n",
       "        text-align: right;\n",
       "    }\n",
       "</style>\n",
       "<table border=\"1\" class=\"dataframe\">\n",
       "  <thead>\n",
       "    <tr style=\"text-align: right;\">\n",
       "      <th></th>\n",
       "      <th>product_name</th>\n",
       "      <th>date</th>\n",
       "      <th>invoice</th>\n",
       "    </tr>\n",
       "  </thead>\n",
       "  <tbody>\n",
       "    <tr>\n",
       "      <th>0</th>\n",
       "      <td>12 RED ROSE PEG PLACE SETTINGS</td>\n",
       "      <td>2021-01-05</td>\n",
       "      <td>2</td>\n",
       "    </tr>\n",
       "    <tr>\n",
       "      <th>1</th>\n",
       "      <td>12 RED ROSE PEG PLACE SETTINGS</td>\n",
       "      <td>2021-01-06</td>\n",
       "      <td>1</td>\n",
       "    </tr>\n",
       "    <tr>\n",
       "      <th>2</th>\n",
       "      <td>12 RED ROSE PEG PLACE SETTINGS</td>\n",
       "      <td>2021-01-07</td>\n",
       "      <td>1</td>\n",
       "    </tr>\n",
       "    <tr>\n",
       "      <th>3</th>\n",
       "      <td>12 RED ROSE PEG PLACE SETTINGS</td>\n",
       "      <td>2021-01-13</td>\n",
       "      <td>1</td>\n",
       "    </tr>\n",
       "    <tr>\n",
       "      <th>4</th>\n",
       "      <td>12 RED ROSE PEG PLACE SETTINGS</td>\n",
       "      <td>2021-01-18</td>\n",
       "      <td>1</td>\n",
       "    </tr>\n",
       "    <tr>\n",
       "      <th>...</th>\n",
       "      <td>...</td>\n",
       "      <td>...</td>\n",
       "      <td>...</td>\n",
       "    </tr>\n",
       "    <tr>\n",
       "      <th>15958</th>\n",
       "      <td>ZINC T-LIGHT HOLDER STARS SMALL</td>\n",
       "      <td>2021-12-09</td>\n",
       "      <td>1</td>\n",
       "    </tr>\n",
       "    <tr>\n",
       "      <th>15959</th>\n",
       "      <td>ZINC T-LIGHT HOLDER STARS SMALL</td>\n",
       "      <td>2021-12-11</td>\n",
       "      <td>1</td>\n",
       "    </tr>\n",
       "    <tr>\n",
       "      <th>15960</th>\n",
       "      <td>ZINC T-LIGHT HOLDER STARS SMALL</td>\n",
       "      <td>2021-12-21</td>\n",
       "      <td>2</td>\n",
       "    </tr>\n",
       "    <tr>\n",
       "      <th>15961</th>\n",
       "      <td>ZINC T-LIGHT HOLDER STARS SMALL</td>\n",
       "      <td>2021-12-22</td>\n",
       "      <td>1</td>\n",
       "    </tr>\n",
       "    <tr>\n",
       "      <th>15962</th>\n",
       "      <td>ZINC T-LIGHT HOLDER STARS SMALL</td>\n",
       "      <td>2021-12-28</td>\n",
       "      <td>1</td>\n",
       "    </tr>\n",
       "  </tbody>\n",
       "</table>\n",
       "<p>15963 rows × 3 columns</p>\n",
       "</div>"
      ],
      "text/plain": [
       "                          product_name        date  invoice\n",
       "0       12 RED ROSE PEG PLACE SETTINGS  2021-01-05        2\n",
       "1       12 RED ROSE PEG PLACE SETTINGS  2021-01-06        1\n",
       "2       12 RED ROSE PEG PLACE SETTINGS  2021-01-07        1\n",
       "3       12 RED ROSE PEG PLACE SETTINGS  2021-01-13        1\n",
       "4       12 RED ROSE PEG PLACE SETTINGS  2021-01-18        1\n",
       "...                                ...         ...      ...\n",
       "15958  ZINC T-LIGHT HOLDER STARS SMALL  2021-12-09        1\n",
       "15959  ZINC T-LIGHT HOLDER STARS SMALL  2021-12-11        1\n",
       "15960  ZINC T-LIGHT HOLDER STARS SMALL  2021-12-21        2\n",
       "15961  ZINC T-LIGHT HOLDER STARS SMALL  2021-12-22        1\n",
       "15962  ZINC T-LIGHT HOLDER STARS SMALL  2021-12-28        1\n",
       "\n",
       "[15963 rows x 3 columns]"
      ]
     },
     "execution_count": 802,
     "metadata": {},
     "output_type": "execute_result"
    }
   ],
   "source": [
    "buying"
   ]
  },
  {
   "cell_type": "code",
   "execution_count": 839,
   "metadata": {},
   "outputs": [
    {
     "data": {
      "text/html": [
       "<div>\n",
       "<style scoped>\n",
       "    .dataframe tbody tr th:only-of-type {\n",
       "        vertical-align: middle;\n",
       "    }\n",
       "\n",
       "    .dataframe tbody tr th {\n",
       "        vertical-align: top;\n",
       "    }\n",
       "\n",
       "    .dataframe thead th {\n",
       "        text-align: right;\n",
       "    }\n",
       "</style>\n",
       "<table border=\"1\" class=\"dataframe\">\n",
       "  <thead>\n",
       "    <tr style=\"text-align: right;\">\n",
       "      <th></th>\n",
       "      <th>product_name</th>\n",
       "      <th>invoice</th>\n",
       "    </tr>\n",
       "  </thead>\n",
       "  <tbody>\n",
       "    <tr>\n",
       "      <th>17</th>\n",
       "      <td>AMETHYST DIAMANTE EXPANDABLE RING</td>\n",
       "      <td>1</td>\n",
       "    </tr>\n",
       "    <tr>\n",
       "      <th>237</th>\n",
       "      <td>PINK FLOCK SUEDE CUSHION COVER</td>\n",
       "      <td>1</td>\n",
       "    </tr>\n",
       "    <tr>\n",
       "      <th>236</th>\n",
       "      <td>PINK FLOCK PHOTO FRAME</td>\n",
       "      <td>1</td>\n",
       "    </tr>\n",
       "    <tr>\n",
       "      <th>330</th>\n",
       "      <td>UBO-LIGHT TRIOBASE BLUE</td>\n",
       "      <td>1</td>\n",
       "    </tr>\n",
       "    <tr>\n",
       "      <th>28</th>\n",
       "      <td>BIRD ON BRANCH CANVAS SCREEN</td>\n",
       "      <td>1</td>\n",
       "    </tr>\n",
       "    <tr>\n",
       "      <th>66</th>\n",
       "      <td>CANNABIS LEAF BEAD CURTAIN</td>\n",
       "      <td>1</td>\n",
       "    </tr>\n",
       "    <tr>\n",
       "      <th>102</th>\n",
       "      <td>DANISH ROSE UMBRELLA STAND</td>\n",
       "      <td>1</td>\n",
       "    </tr>\n",
       "    <tr>\n",
       "      <th>217</th>\n",
       "      <td>ORANGE FELT VASE + FLOWERS</td>\n",
       "      <td>1</td>\n",
       "    </tr>\n",
       "    <tr>\n",
       "      <th>105</th>\n",
       "      <td>DIAMANTE HAIR GRIP PACK/2 MONTANA</td>\n",
       "      <td>1</td>\n",
       "    </tr>\n",
       "    <tr>\n",
       "      <th>216</th>\n",
       "      <td>OLD DOC RUSSEL METAL SIGN</td>\n",
       "      <td>1</td>\n",
       "    </tr>\n",
       "    <tr>\n",
       "      <th>212</th>\n",
       "      <td>MURANO STYLE GLASS BRACELET BLACK</td>\n",
       "      <td>1</td>\n",
       "    </tr>\n",
       "    <tr>\n",
       "      <th>211</th>\n",
       "      <td>MUMMY MOUSE RED GINGHAM RIBBON</td>\n",
       "      <td>1</td>\n",
       "    </tr>\n",
       "    <tr>\n",
       "      <th>124</th>\n",
       "      <td>FLAMINGO LIGHTS</td>\n",
       "      <td>1</td>\n",
       "    </tr>\n",
       "    <tr>\n",
       "      <th>44</th>\n",
       "      <td>BLUE FLYING SINGING CANARY</td>\n",
       "      <td>1</td>\n",
       "    </tr>\n",
       "    <tr>\n",
       "      <th>191</th>\n",
       "      <td>LETTER \"W\" BLING KEY RING</td>\n",
       "      <td>1</td>\n",
       "    </tr>\n",
       "    <tr>\n",
       "      <th>147</th>\n",
       "      <td>GREEN ENAMEL FLOWER HAIR TIE</td>\n",
       "      <td>1</td>\n",
       "    </tr>\n",
       "    <tr>\n",
       "      <th>186</th>\n",
       "      <td>LARGE ROUND CUTGLASS CANDLESTICK</td>\n",
       "      <td>1</td>\n",
       "    </tr>\n",
       "    <tr>\n",
       "      <th>152</th>\n",
       "      <td>GREEN VINTAGE EARRINGS</td>\n",
       "      <td>1</td>\n",
       "    </tr>\n",
       "    <tr>\n",
       "      <th>283</th>\n",
       "      <td>SET OF 36 SPACEBOY PAPER DOILIES</td>\n",
       "      <td>1</td>\n",
       "    </tr>\n",
       "    <tr>\n",
       "      <th>161</th>\n",
       "      <td>HEN HOUSE W CHICK IN NEST</td>\n",
       "      <td>1</td>\n",
       "    </tr>\n",
       "  </tbody>\n",
       "</table>\n",
       "</div>"
      ],
      "text/plain": [
       "                          product_name  invoice\n",
       "17   AMETHYST DIAMANTE EXPANDABLE RING        1\n",
       "237     PINK FLOCK SUEDE CUSHION COVER        1\n",
       "236             PINK FLOCK PHOTO FRAME        1\n",
       "330            UBO-LIGHT TRIOBASE BLUE        1\n",
       "28        BIRD ON BRANCH CANVAS SCREEN        1\n",
       "66          CANNABIS LEAF BEAD CURTAIN        1\n",
       "102         DANISH ROSE UMBRELLA STAND        1\n",
       "217         ORANGE FELT VASE + FLOWERS        1\n",
       "105  DIAMANTE HAIR GRIP PACK/2 MONTANA        1\n",
       "216          OLD DOC RUSSEL METAL SIGN        1\n",
       "212  MURANO STYLE GLASS BRACELET BLACK        1\n",
       "211     MUMMY MOUSE RED GINGHAM RIBBON        1\n",
       "124                    FLAMINGO LIGHTS        1\n",
       "44          BLUE FLYING SINGING CANARY        1\n",
       "191          LETTER \"W\" BLING KEY RING        1\n",
       "147       GREEN ENAMEL FLOWER HAIR TIE        1\n",
       "186   LARGE ROUND CUTGLASS CANDLESTICK        1\n",
       "152             GREEN VINTAGE EARRINGS        1\n",
       "283   SET OF 36 SPACEBOY PAPER DOILIES        1\n",
       "161          HEN HOUSE W CHICK IN NEST        1"
      ]
     },
     "execution_count": 839,
     "metadata": {},
     "output_type": "execute_result"
    }
   ],
   "source": [
    "buying.groupby('product_name',as_index=False)['invoice'].sum().sort_values(by='invoice').head(20)"
   ]
  },
  {
   "cell_type": "code",
   "execution_count": 838,
   "metadata": {},
   "outputs": [
    {
     "data": {
      "text/plain": [
       "24490"
      ]
     },
     "execution_count": 838,
     "metadata": {},
     "output_type": "execute_result"
    }
   ],
   "source": [
    "buying['invoice'].sum()"
   ]
  },
  {
   "cell_type": "code",
   "execution_count": 825,
   "metadata": {},
   "outputs": [
    {
     "data": {
      "text/plain": [
       "array(['buying'], dtype=object)"
      ]
     },
     "execution_count": 825,
     "metadata": {},
     "output_type": "execute_result"
    }
   ],
   "source": [
    "sales.loc[sales['product_name'] == 'WORLD WAR 2 GLIDERS ASSTD DESIGNS','stock_type'].unique()"
   ]
  },
  {
   "cell_type": "code",
   "execution_count": 833,
   "metadata": {},
   "outputs": [
    {
     "data": {
      "text/plain": [
       "(357,)"
      ]
     },
     "execution_count": 833,
     "metadata": {},
     "output_type": "execute_result"
    }
   ],
   "source": [
    "sales.loc[sales['stock_type'] == 'buying', 'product_name'].unique().shape"
   ]
  },
  {
   "cell_type": "code",
   "execution_count": 841,
   "metadata": {},
   "outputs": [],
   "source": [
    "sales['date'] = pd.to_datetime(sales['date'])"
   ]
  },
  {
   "cell_type": "code",
   "execution_count": 842,
   "metadata": {},
   "outputs": [],
   "source": [
    "sales['month'] = sales['date'].apply(lambda x : x.month)"
   ]
  },
  {
   "cell_type": "code",
   "execution_count": 845,
   "metadata": {},
   "outputs": [
    {
     "data": {
      "text/plain": [
       "month\n",
       "1     28232.77\n",
       "2     29176.48\n",
       "3     39176.91\n",
       "4     33899.76\n",
       "5     39508.02\n",
       "6     29695.84\n",
       "7     34283.11\n",
       "8     40597.55\n",
       "9     66501.73\n",
       "10    39922.63\n",
       "11    36151.91\n",
       "12    33675.18\n",
       "Name: sales, dtype: float64"
      ]
     },
     "execution_count": 845,
     "metadata": {},
     "output_type": "execute_result"
    }
   ],
   "source": [
    "sales[sales['stock_type'] == 'buying'].groupby('month')['sales'].sum()"
   ]
  },
  {
   "cell_type": "code",
   "execution_count": 849,
   "metadata": {},
   "outputs": [],
   "source": [
    "buying = sales[sales['stock_type'] == 'buying']"
   ]
  },
  {
   "cell_type": "code",
   "execution_count": 859,
   "metadata": {},
   "outputs": [],
   "source": [
    "stock = buying.groupby('product_name', as_index = False)['quantity'].sum().sort_values('quantity')"
   ]
  },
  {
   "cell_type": "code",
   "execution_count": 865,
   "metadata": {},
   "outputs": [
    {
     "data": {
      "text/html": [
       "<div>\n",
       "<style scoped>\n",
       "    .dataframe tbody tr th:only-of-type {\n",
       "        vertical-align: middle;\n",
       "    }\n",
       "\n",
       "    .dataframe tbody tr th {\n",
       "        vertical-align: top;\n",
       "    }\n",
       "\n",
       "    .dataframe thead th {\n",
       "        text-align: right;\n",
       "    }\n",
       "</style>\n",
       "<table border=\"1\" class=\"dataframe\">\n",
       "  <thead>\n",
       "    <tr style=\"text-align: right;\">\n",
       "      <th></th>\n",
       "      <th>product_name</th>\n",
       "      <th>quantity</th>\n",
       "    </tr>\n",
       "  </thead>\n",
       "  <tbody>\n",
       "    <tr>\n",
       "      <th>0</th>\n",
       "      <td>FLAMINGO LIGHTS</td>\n",
       "      <td>-1</td>\n",
       "    </tr>\n",
       "    <tr>\n",
       "      <th>1</th>\n",
       "      <td>BLUE FLYING SINGING CANARY</td>\n",
       "      <td>-1</td>\n",
       "    </tr>\n",
       "    <tr>\n",
       "      <th>2</th>\n",
       "      <td>LARGE ROUND CUTGLASS CANDLESTICK</td>\n",
       "      <td>-1</td>\n",
       "    </tr>\n",
       "    <tr>\n",
       "      <th>3</th>\n",
       "      <td>GREEN ENAMEL FLOWER HAIR TIE</td>\n",
       "      <td>1</td>\n",
       "    </tr>\n",
       "    <tr>\n",
       "      <th>4</th>\n",
       "      <td>ORANGE FELT VASE + FLOWERS</td>\n",
       "      <td>1</td>\n",
       "    </tr>\n",
       "    <tr>\n",
       "      <th>5</th>\n",
       "      <td>UBO-LIGHT TRIOBASE BLUE</td>\n",
       "      <td>1</td>\n",
       "    </tr>\n",
       "    <tr>\n",
       "      <th>6</th>\n",
       "      <td>OLD DOC RUSSEL METAL SIGN</td>\n",
       "      <td>1</td>\n",
       "    </tr>\n",
       "    <tr>\n",
       "      <th>7</th>\n",
       "      <td>MURANO STYLE GLASS BRACELET BLACK</td>\n",
       "      <td>1</td>\n",
       "    </tr>\n",
       "    <tr>\n",
       "      <th>8</th>\n",
       "      <td>MUMMY MOUSE RED GINGHAM RIBBON</td>\n",
       "      <td>1</td>\n",
       "    </tr>\n",
       "    <tr>\n",
       "      <th>9</th>\n",
       "      <td>DANISH ROSE UMBRELLA STAND</td>\n",
       "      <td>1</td>\n",
       "    </tr>\n",
       "    <tr>\n",
       "      <th>10</th>\n",
       "      <td>DIAMANTE HAIR GRIP PACK/2 MONTANA</td>\n",
       "      <td>1</td>\n",
       "    </tr>\n",
       "    <tr>\n",
       "      <th>11</th>\n",
       "      <td>HEN HOUSE W CHICK IN NEST</td>\n",
       "      <td>1</td>\n",
       "    </tr>\n",
       "    <tr>\n",
       "      <th>12</th>\n",
       "      <td>CROCHET DOG KEYRING</td>\n",
       "      <td>2</td>\n",
       "    </tr>\n",
       "    <tr>\n",
       "      <th>13</th>\n",
       "      <td>GREEN VINTAGE EARRINGS</td>\n",
       "      <td>2</td>\n",
       "    </tr>\n",
       "    <tr>\n",
       "      <th>14</th>\n",
       "      <td>SET OF 16 VINTAGE IVORY CUTLERY</td>\n",
       "      <td>2</td>\n",
       "    </tr>\n",
       "    <tr>\n",
       "      <th>15</th>\n",
       "      <td>AMBER CHUNKY BEAD BRACELET W STRAP</td>\n",
       "      <td>2</td>\n",
       "    </tr>\n",
       "    <tr>\n",
       "      <th>16</th>\n",
       "      <td>BLUE TILED TRAY</td>\n",
       "      <td>2</td>\n",
       "    </tr>\n",
       "    <tr>\n",
       "      <th>17</th>\n",
       "      <td>CRYSTAL HOOP EARRING FLORAL LEAF</td>\n",
       "      <td>2</td>\n",
       "    </tr>\n",
       "    <tr>\n",
       "      <th>18</th>\n",
       "      <td>SILVER/BLACK ORBIT NECKLACE</td>\n",
       "      <td>3</td>\n",
       "    </tr>\n",
       "    <tr>\n",
       "      <th>19</th>\n",
       "      <td>IVORY PENDANT TRIPLE SHELL NECKLACE</td>\n",
       "      <td>3</td>\n",
       "    </tr>\n",
       "    <tr>\n",
       "      <th>20</th>\n",
       "      <td>FLOWER BURST SILVER RING CRYSTAL</td>\n",
       "      <td>4</td>\n",
       "    </tr>\n",
       "    <tr>\n",
       "      <th>21</th>\n",
       "      <td>FLOWER GLASS GARLAND NECKL.36\"GREEN</td>\n",
       "      <td>4</td>\n",
       "    </tr>\n",
       "    <tr>\n",
       "      <th>22</th>\n",
       "      <td>FINE SILVER NECKLACE W PASTEL FLOWE</td>\n",
       "      <td>4</td>\n",
       "    </tr>\n",
       "    <tr>\n",
       "      <th>23</th>\n",
       "      <td>IVY HEART WREATH</td>\n",
       "      <td>4</td>\n",
       "    </tr>\n",
       "    <tr>\n",
       "      <th>24</th>\n",
       "      <td>WALL ART DOG AND BALL</td>\n",
       "      <td>4</td>\n",
       "    </tr>\n",
       "    <tr>\n",
       "      <th>25</th>\n",
       "      <td>FLOWER FAIRY 5 SUMMER DRAW LINERS</td>\n",
       "      <td>6</td>\n",
       "    </tr>\n",
       "    <tr>\n",
       "      <th>26</th>\n",
       "      <td>AMETHYST DIAMANTE EXPANDABLE RING</td>\n",
       "      <td>6</td>\n",
       "    </tr>\n",
       "    <tr>\n",
       "      <th>27</th>\n",
       "      <td>MILK BOTTLE WITH GLASS STOPPER</td>\n",
       "      <td>6</td>\n",
       "    </tr>\n",
       "    <tr>\n",
       "      <th>28</th>\n",
       "      <td>HANGING BAUBLE T-LIGHT HOLDER LARGE</td>\n",
       "      <td>6</td>\n",
       "    </tr>\n",
       "    <tr>\n",
       "      <th>29</th>\n",
       "      <td>PINK FLOCK SUEDE CUSHION COVER</td>\n",
       "      <td>6</td>\n",
       "    </tr>\n",
       "    <tr>\n",
       "      <th>30</th>\n",
       "      <td>BLUE MURANO TWIST BRACELET</td>\n",
       "      <td>6</td>\n",
       "    </tr>\n",
       "    <tr>\n",
       "      <th>31</th>\n",
       "      <td>PINK &amp; WHITE ROSEBUD RING</td>\n",
       "      <td>6</td>\n",
       "    </tr>\n",
       "    <tr>\n",
       "      <th>32</th>\n",
       "      <td>SET OF 36 SPACEBOY PAPER DOILIES</td>\n",
       "      <td>6</td>\n",
       "    </tr>\n",
       "    <tr>\n",
       "      <th>33</th>\n",
       "      <td>LIGHTHOUSE PRINTED METAL SIGN</td>\n",
       "      <td>6</td>\n",
       "    </tr>\n",
       "    <tr>\n",
       "      <th>34</th>\n",
       "      <td>VINTAGE WOODEN BAR STOOL</td>\n",
       "      <td>6</td>\n",
       "    </tr>\n",
       "    <tr>\n",
       "      <th>35</th>\n",
       "      <td>CREAM AND PINK FLOWERS PONY</td>\n",
       "      <td>7</td>\n",
       "    </tr>\n",
       "    <tr>\n",
       "      <th>36</th>\n",
       "      <td>PINK GAUZE BUTTERFLY LAMPSHADE</td>\n",
       "      <td>7</td>\n",
       "    </tr>\n",
       "    <tr>\n",
       "      <th>37</th>\n",
       "      <td>BLUE NETTING STORAGE HANGER</td>\n",
       "      <td>7</td>\n",
       "    </tr>\n",
       "    <tr>\n",
       "      <th>38</th>\n",
       "      <td>SILVER DROP EARRINGS WITH FLOWER</td>\n",
       "      <td>7</td>\n",
       "    </tr>\n",
       "    <tr>\n",
       "      <th>39</th>\n",
       "      <td>BLACK/WHITE GLASS/SILVER BRACELET</td>\n",
       "      <td>7</td>\n",
       "    </tr>\n",
       "    <tr>\n",
       "      <th>40</th>\n",
       "      <td>FLOWER GLASS GARLD NECKL36\"TURQUOIS</td>\n",
       "      <td>8</td>\n",
       "    </tr>\n",
       "    <tr>\n",
       "      <th>41</th>\n",
       "      <td>GOLD/M.O.P PENDANT ORBIT NECKLACE</td>\n",
       "      <td>8</td>\n",
       "    </tr>\n",
       "    <tr>\n",
       "      <th>42</th>\n",
       "      <td>PAPER LANTERN 5 POINT STUDDED STAR</td>\n",
       "      <td>8</td>\n",
       "    </tr>\n",
       "    <tr>\n",
       "      <th>43</th>\n",
       "      <td>BUTTERFLY CUSHION COVER</td>\n",
       "      <td>8</td>\n",
       "    </tr>\n",
       "    <tr>\n",
       "      <th>44</th>\n",
       "      <td>ENAMEL BLUE RIM TEA CONTAINER</td>\n",
       "      <td>8</td>\n",
       "    </tr>\n",
       "    <tr>\n",
       "      <th>45</th>\n",
       "      <td>SILVER M.O.P ORBIT BRACELET</td>\n",
       "      <td>8</td>\n",
       "    </tr>\n",
       "    <tr>\n",
       "      <th>46</th>\n",
       "      <td>BLUE/YELLOW CERAMIC CANDLE HOLDER</td>\n",
       "      <td>8</td>\n",
       "    </tr>\n",
       "    <tr>\n",
       "      <th>47</th>\n",
       "      <td>BLUE CRUSOE CHECK LAMPSHADE</td>\n",
       "      <td>9</td>\n",
       "    </tr>\n",
       "    <tr>\n",
       "      <th>48</th>\n",
       "      <td>5 STRAND GLASS NECKLACE CRYSTAL</td>\n",
       "      <td>9</td>\n",
       "    </tr>\n",
       "    <tr>\n",
       "      <th>49</th>\n",
       "      <td>BUTTONS AND STRIPES NOTEBOOK</td>\n",
       "      <td>9</td>\n",
       "    </tr>\n",
       "  </tbody>\n",
       "</table>\n",
       "</div>"
      ],
      "text/plain": [
       "                           product_name  quantity\n",
       "0                       FLAMINGO LIGHTS        -1\n",
       "1            BLUE FLYING SINGING CANARY        -1\n",
       "2      LARGE ROUND CUTGLASS CANDLESTICK        -1\n",
       "3          GREEN ENAMEL FLOWER HAIR TIE         1\n",
       "4            ORANGE FELT VASE + FLOWERS         1\n",
       "5               UBO-LIGHT TRIOBASE BLUE         1\n",
       "6             OLD DOC RUSSEL METAL SIGN         1\n",
       "7     MURANO STYLE GLASS BRACELET BLACK         1\n",
       "8        MUMMY MOUSE RED GINGHAM RIBBON         1\n",
       "9            DANISH ROSE UMBRELLA STAND         1\n",
       "10    DIAMANTE HAIR GRIP PACK/2 MONTANA         1\n",
       "11            HEN HOUSE W CHICK IN NEST         1\n",
       "12                  CROCHET DOG KEYRING         2\n",
       "13               GREEN VINTAGE EARRINGS         2\n",
       "14      SET OF 16 VINTAGE IVORY CUTLERY         2\n",
       "15   AMBER CHUNKY BEAD BRACELET W STRAP         2\n",
       "16                      BLUE TILED TRAY         2\n",
       "17     CRYSTAL HOOP EARRING FLORAL LEAF         2\n",
       "18          SILVER/BLACK ORBIT NECKLACE         3\n",
       "19  IVORY PENDANT TRIPLE SHELL NECKLACE         3\n",
       "20     FLOWER BURST SILVER RING CRYSTAL         4\n",
       "21  FLOWER GLASS GARLAND NECKL.36\"GREEN         4\n",
       "22  FINE SILVER NECKLACE W PASTEL FLOWE         4\n",
       "23                     IVY HEART WREATH         4\n",
       "24                WALL ART DOG AND BALL         4\n",
       "25    FLOWER FAIRY 5 SUMMER DRAW LINERS         6\n",
       "26    AMETHYST DIAMANTE EXPANDABLE RING         6\n",
       "27       MILK BOTTLE WITH GLASS STOPPER         6\n",
       "28  HANGING BAUBLE T-LIGHT HOLDER LARGE         6\n",
       "29       PINK FLOCK SUEDE CUSHION COVER         6\n",
       "30           BLUE MURANO TWIST BRACELET         6\n",
       "31            PINK & WHITE ROSEBUD RING         6\n",
       "32     SET OF 36 SPACEBOY PAPER DOILIES         6\n",
       "33        LIGHTHOUSE PRINTED METAL SIGN         6\n",
       "34             VINTAGE WOODEN BAR STOOL         6\n",
       "35          CREAM AND PINK FLOWERS PONY         7\n",
       "36       PINK GAUZE BUTTERFLY LAMPSHADE         7\n",
       "37          BLUE NETTING STORAGE HANGER         7\n",
       "38     SILVER DROP EARRINGS WITH FLOWER         7\n",
       "39    BLACK/WHITE GLASS/SILVER BRACELET         7\n",
       "40  FLOWER GLASS GARLD NECKL36\"TURQUOIS         8\n",
       "41    GOLD/M.O.P PENDANT ORBIT NECKLACE         8\n",
       "42   PAPER LANTERN 5 POINT STUDDED STAR         8\n",
       "43              BUTTERFLY CUSHION COVER         8\n",
       "44        ENAMEL BLUE RIM TEA CONTAINER         8\n",
       "45          SILVER M.O.P ORBIT BRACELET         8\n",
       "46    BLUE/YELLOW CERAMIC CANDLE HOLDER         8\n",
       "47          BLUE CRUSOE CHECK LAMPSHADE         9\n",
       "48      5 STRAND GLASS NECKLACE CRYSTAL         9\n",
       "49         BUTTONS AND STRIPES NOTEBOOK         9"
      ]
     },
     "execution_count": 865,
     "metadata": {},
     "output_type": "execute_result"
    }
   ],
   "source": [
    "stock[stock['quantity'] < 10].reset_index(drop = True)"
   ]
  },
  {
   "cell_type": "code",
   "execution_count": 866,
   "metadata": {},
   "outputs": [],
   "source": [
    "consignment = sales[sales['stock_type'] == 'consignment']"
   ]
  },
  {
   "cell_type": "code",
   "execution_count": 873,
   "metadata": {},
   "outputs": [
    {
     "data": {
      "text/html": [
       "<div>\n",
       "<style scoped>\n",
       "    .dataframe tbody tr th:only-of-type {\n",
       "        vertical-align: middle;\n",
       "    }\n",
       "\n",
       "    .dataframe tbody tr th {\n",
       "        vertical-align: top;\n",
       "    }\n",
       "\n",
       "    .dataframe thead th {\n",
       "        text-align: right;\n",
       "    }\n",
       "</style>\n",
       "<table border=\"1\" class=\"dataframe\">\n",
       "  <thead>\n",
       "    <tr style=\"text-align: right;\">\n",
       "      <th></th>\n",
       "      <th>product_name</th>\n",
       "      <th>quantity</th>\n",
       "    </tr>\n",
       "  </thead>\n",
       "  <tbody>\n",
       "    <tr>\n",
       "      <th>1501</th>\n",
       "      <td>JUMBO BAG RED RETROSPOT</td>\n",
       "      <td>34590</td>\n",
       "    </tr>\n",
       "    <tr>\n",
       "      <th>3200</th>\n",
       "      <td>WHITE HANGING HEART T-LIGHT HOLDER</td>\n",
       "      <td>29059</td>\n",
       "    </tr>\n",
       "    <tr>\n",
       "      <th>2237</th>\n",
       "      <td>POPCORN HOLDER</td>\n",
       "      <td>23108</td>\n",
       "    </tr>\n",
       "    <tr>\n",
       "      <th>3056</th>\n",
       "      <td>VICTORIAN GLASS HANGING T-LIGHT</td>\n",
       "      <td>19628</td>\n",
       "    </tr>\n",
       "    <tr>\n",
       "      <th>1917</th>\n",
       "      <td>PACK OF 12 LONDON TISSUES</td>\n",
       "      <td>19422</td>\n",
       "    </tr>\n",
       "    <tr>\n",
       "      <th>1948</th>\n",
       "      <td>PACK OF 72 RETROSPOT CAKE CASES</td>\n",
       "      <td>19265</td>\n",
       "    </tr>\n",
       "    <tr>\n",
       "      <th>188</th>\n",
       "      <td>ASSORTED COLOURS SILK FAN</td>\n",
       "      <td>19033</td>\n",
       "    </tr>\n",
       "    <tr>\n",
       "      <th>447</th>\n",
       "      <td>BROCADE RING PURSE</td>\n",
       "      <td>18983</td>\n",
       "    </tr>\n",
       "    <tr>\n",
       "      <th>1946</th>\n",
       "      <td>PACK OF 60 PINK PAISLEY CAKE CASES</td>\n",
       "      <td>18592</td>\n",
       "    </tr>\n",
       "    <tr>\n",
       "      <th>2816</th>\n",
       "      <td>SMALL POPCORN HOLDER</td>\n",
       "      <td>17042</td>\n",
       "    </tr>\n",
       "    <tr>\n",
       "      <th>1499</th>\n",
       "      <td>JUMBO BAG PINK POLKADOT</td>\n",
       "      <td>15903</td>\n",
       "    </tr>\n",
       "    <tr>\n",
       "      <th>2306</th>\n",
       "      <td>RED  HARMONICA IN BOX</td>\n",
       "      <td>14634</td>\n",
       "    </tr>\n",
       "    <tr>\n",
       "      <th>1505</th>\n",
       "      <td>JUMBO BAG STRAWBERRY</td>\n",
       "      <td>14582</td>\n",
       "    </tr>\n",
       "    <tr>\n",
       "      <th>2018</th>\n",
       "      <td>PARTY BUNTING</td>\n",
       "      <td>13998</td>\n",
       "    </tr>\n",
       "    <tr>\n",
       "      <th>161</th>\n",
       "      <td>ANTIQUE SILVER T-LIGHT GLASS</td>\n",
       "      <td>12141</td>\n",
       "    </tr>\n",
       "    <tr>\n",
       "      <th>1659</th>\n",
       "      <td>LUNCH BAG RED RETROSPOT</td>\n",
       "      <td>11663</td>\n",
       "    </tr>\n",
       "    <tr>\n",
       "      <th>85</th>\n",
       "      <td>60 TEATIME FAIRY CAKE CASES</td>\n",
       "      <td>11509</td>\n",
       "    </tr>\n",
       "    <tr>\n",
       "      <th>2792</th>\n",
       "      <td>SMALL CHINESE STYLE SCISSOR</td>\n",
       "      <td>11484</td>\n",
       "    </tr>\n",
       "    <tr>\n",
       "      <th>1300</th>\n",
       "      <td>GROW A FLYTRAP OR SUNFLOWER IN TIN</td>\n",
       "      <td>11404</td>\n",
       "    </tr>\n",
       "    <tr>\n",
       "      <th>2205</th>\n",
       "      <td>PLACE SETTING WHITE HEART</td>\n",
       "      <td>11392</td>\n",
       "    </tr>\n",
       "    <tr>\n",
       "      <th>1491</th>\n",
       "      <td>JUMBO BAG ALPHABET</td>\n",
       "      <td>10322</td>\n",
       "    </tr>\n",
       "    <tr>\n",
       "      <th>1492</th>\n",
       "      <td>JUMBO BAG APPLES</td>\n",
       "      <td>10223</td>\n",
       "    </tr>\n",
       "    <tr>\n",
       "      <th>1949</th>\n",
       "      <td>PACK OF 72 SKULL CAKE CASES</td>\n",
       "      <td>10218</td>\n",
       "    </tr>\n",
       "    <tr>\n",
       "      <th>2998</th>\n",
       "      <td>TRAVEL CARD WALLET KEEP CALM</td>\n",
       "      <td>10061</td>\n",
       "    </tr>\n",
       "    <tr>\n",
       "      <th>1751</th>\n",
       "      <td>MINI PAINT SET VINTAGE</td>\n",
       "      <td>9834</td>\n",
       "    </tr>\n",
       "    <tr>\n",
       "      <th>1514</th>\n",
       "      <td>JUMBO STORAGE BAG SUKI</td>\n",
       "      <td>9596</td>\n",
       "    </tr>\n",
       "    <tr>\n",
       "      <th>1489</th>\n",
       "      <td>JUMBO  BAG BAROQUE BLACK WHITE</td>\n",
       "      <td>9507</td>\n",
       "    </tr>\n",
       "    <tr>\n",
       "      <th>1336</th>\n",
       "      <td>HANGING JAM JAR T-LIGHT HOLDER</td>\n",
       "      <td>9502</td>\n",
       "    </tr>\n",
       "    <tr>\n",
       "      <th>1187</th>\n",
       "      <td>GIRLS ALPHABET IRON ON PATCHES</td>\n",
       "      <td>9312</td>\n",
       "    </tr>\n",
       "    <tr>\n",
       "      <th>3127</th>\n",
       "      <td>VINTAGE SNAP CARDS</td>\n",
       "      <td>9270</td>\n",
       "    </tr>\n",
       "    <tr>\n",
       "      <th>1332</th>\n",
       "      <td>HANGING HEART JAR T-LIGHT HOLDER</td>\n",
       "      <td>9235</td>\n",
       "    </tr>\n",
       "    <tr>\n",
       "      <th>1471</th>\n",
       "      <td>JAM MAKING SET PRINTED</td>\n",
       "      <td>9093</td>\n",
       "    </tr>\n",
       "    <tr>\n",
       "      <th>1944</th>\n",
       "      <td>PACK OF 60 DINOSAUR CAKE CASES</td>\n",
       "      <td>8894</td>\n",
       "    </tr>\n",
       "    <tr>\n",
       "      <th>1510</th>\n",
       "      <td>JUMBO BAG VINTAGE LEAF</td>\n",
       "      <td>8863</td>\n",
       "    </tr>\n",
       "    <tr>\n",
       "      <th>2632</th>\n",
       "      <td>SET OF 4 PANTRY JELLY MOULDS</td>\n",
       "      <td>8823</td>\n",
       "    </tr>\n",
       "    <tr>\n",
       "      <th>1494</th>\n",
       "      <td>JUMBO BAG DOILEY PATTERNS</td>\n",
       "      <td>8742</td>\n",
       "    </tr>\n",
       "    <tr>\n",
       "      <th>1412</th>\n",
       "      <td>HOMEMADE JAM SCENTED CANDLES</td>\n",
       "      <td>8655</td>\n",
       "    </tr>\n",
       "    <tr>\n",
       "      <th>2219</th>\n",
       "      <td>PLEASE ONE PERSON METAL SIGN</td>\n",
       "      <td>8603</td>\n",
       "    </tr>\n",
       "    <tr>\n",
       "      <th>1653</th>\n",
       "      <td>LUNCH BAG APPLE DESIGN</td>\n",
       "      <td>8594</td>\n",
       "    </tr>\n",
       "    <tr>\n",
       "      <th>1651</th>\n",
       "      <td>LUNCH BAG  BLACK SKULL.</td>\n",
       "      <td>8535</td>\n",
       "    </tr>\n",
       "  </tbody>\n",
       "</table>\n",
       "</div>"
      ],
      "text/plain": [
       "                            product_name  quantity\n",
       "1501             JUMBO BAG RED RETROSPOT     34590\n",
       "3200  WHITE HANGING HEART T-LIGHT HOLDER     29059\n",
       "2237                      POPCORN HOLDER     23108\n",
       "3056     VICTORIAN GLASS HANGING T-LIGHT     19628\n",
       "1917           PACK OF 12 LONDON TISSUES     19422\n",
       "1948     PACK OF 72 RETROSPOT CAKE CASES     19265\n",
       "188            ASSORTED COLOURS SILK FAN     19033\n",
       "447                   BROCADE RING PURSE     18983\n",
       "1946  PACK OF 60 PINK PAISLEY CAKE CASES     18592\n",
       "2816                SMALL POPCORN HOLDER     17042\n",
       "1499             JUMBO BAG PINK POLKADOT     15903\n",
       "2306               RED  HARMONICA IN BOX     14634\n",
       "1505                JUMBO BAG STRAWBERRY     14582\n",
       "2018                       PARTY BUNTING     13998\n",
       "161         ANTIQUE SILVER T-LIGHT GLASS     12141\n",
       "1659             LUNCH BAG RED RETROSPOT     11663\n",
       "85           60 TEATIME FAIRY CAKE CASES     11509\n",
       "2792         SMALL CHINESE STYLE SCISSOR     11484\n",
       "1300  GROW A FLYTRAP OR SUNFLOWER IN TIN     11404\n",
       "2205           PLACE SETTING WHITE HEART     11392\n",
       "1491                  JUMBO BAG ALPHABET     10322\n",
       "1492                    JUMBO BAG APPLES     10223\n",
       "1949         PACK OF 72 SKULL CAKE CASES     10218\n",
       "2998        TRAVEL CARD WALLET KEEP CALM     10061\n",
       "1751              MINI PAINT SET VINTAGE      9834\n",
       "1514              JUMBO STORAGE BAG SUKI      9596\n",
       "1489      JUMBO  BAG BAROQUE BLACK WHITE      9507\n",
       "1336      HANGING JAM JAR T-LIGHT HOLDER      9502\n",
       "1187      GIRLS ALPHABET IRON ON PATCHES      9312\n",
       "3127                  VINTAGE SNAP CARDS      9270\n",
       "1332    HANGING HEART JAR T-LIGHT HOLDER      9235\n",
       "1471              JAM MAKING SET PRINTED      9093\n",
       "1944      PACK OF 60 DINOSAUR CAKE CASES      8894\n",
       "1510              JUMBO BAG VINTAGE LEAF      8863\n",
       "2632        SET OF 4 PANTRY JELLY MOULDS      8823\n",
       "1494           JUMBO BAG DOILEY PATTERNS      8742\n",
       "1412        HOMEMADE JAM SCENTED CANDLES      8655\n",
       "2219        PLEASE ONE PERSON METAL SIGN      8603\n",
       "1653              LUNCH BAG APPLE DESIGN      8594\n",
       "1651             LUNCH BAG  BLACK SKULL.      8535"
      ]
     },
     "execution_count": 873,
     "metadata": {},
     "output_type": "execute_result"
    }
   ],
   "source": [
    "consignment.groupby('product_name',as_index = False)['quantity'].sum().sort_values('quantity',ascending = False).head(40)"
   ]
  },
  {
   "cell_type": "code",
   "execution_count": null,
   "metadata": {},
   "outputs": [],
   "source": []
  }
 ],
 "metadata": {
  "kernelspec": {
   "display_name": "Python 3.9.13 ('meow')",
   "language": "python",
   "name": "python3"
  },
  "language_info": {
   "codemirror_mode": {
    "name": "ipython",
    "version": 3
   },
   "file_extension": ".py",
   "mimetype": "text/x-python",
   "name": "python",
   "nbconvert_exporter": "python",
   "pygments_lexer": "ipython3",
   "version": "3.9.13"
  },
  "orig_nbformat": 4,
  "vscode": {
   "interpreter": {
    "hash": "0a334de3e098aa8dbe6aa43b0cb27b2cb914b236da39d0248c26aeab6a300ee2"
   }
  }
 },
 "nbformat": 4,
 "nbformat_minor": 2
}
