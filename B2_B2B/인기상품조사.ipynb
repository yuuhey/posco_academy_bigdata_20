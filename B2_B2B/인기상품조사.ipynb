{
 "cells": [
  {
   "cell_type": "code",
   "execution_count": 1,
   "id": "30c2df7a",
   "metadata": {},
   "outputs": [],
   "source": [
    "execfile('setting.py')"
   ]
  },
  {
   "cell_type": "code",
   "execution_count": 2,
   "id": "4c5555a3",
   "metadata": {
    "scrolled": false
   },
   "outputs": [
    {
     "data": {
      "text/html": [
       "<div>\n",
       "<style scoped>\n",
       "    .dataframe tbody tr th:only-of-type {\n",
       "        vertical-align: middle;\n",
       "    }\n",
       "\n",
       "    .dataframe tbody tr th {\n",
       "        vertical-align: top;\n",
       "    }\n",
       "\n",
       "    .dataframe thead th {\n",
       "        text-align: right;\n",
       "    }\n",
       "</style>\n",
       "<table border=\"1\" class=\"dataframe\">\n",
       "  <thead>\n",
       "    <tr style=\"text-align: right;\">\n",
       "      <th></th>\n",
       "      <th>index</th>\n",
       "      <th>Unnamed: 1</th>\n",
       "      <th>customer_id</th>\n",
       "      <th>city</th>\n",
       "      <th>state</th>\n",
       "      <th>pop_thousand</th>\n",
       "      <th>land_sq_meter</th>\n",
       "      <th>pop_size</th>\n",
       "      <th>city_type</th>\n",
       "      <th>city_lctn</th>\n",
       "      <th>real_quantity</th>\n",
       "      <th>Unnamed: 11</th>\n",
       "      <th>category</th>\n",
       "      <th>Detailed</th>\n",
       "    </tr>\n",
       "  </thead>\n",
       "  <tbody>\n",
       "    <tr>\n",
       "      <th>0</th>\n",
       "      <td>0</td>\n",
       "      <td>14</td>\n",
       "      <td>E17841</td>\n",
       "      <td>New York</td>\n",
       "      <td>NY</td>\n",
       "      <td>8177</td>\n",
       "      <td>778</td>\n",
       "      <td>big</td>\n",
       "      <td>metro</td>\n",
       "      <td>east</td>\n",
       "      <td>5807</td>\n",
       "      <td>CHILLI LIGHTS</td>\n",
       "      <td>Household Appliances</td>\n",
       "      <td>Others</td>\n",
       "    </tr>\n",
       "    <tr>\n",
       "      <th>1</th>\n",
       "      <td>1</td>\n",
       "      <td>81</td>\n",
       "      <td>E12748</td>\n",
       "      <td>Phoenix</td>\n",
       "      <td>AZ</td>\n",
       "      <td>1759</td>\n",
       "      <td>1341</td>\n",
       "      <td>middle</td>\n",
       "      <td>other</td>\n",
       "      <td>west</td>\n",
       "      <td>2382</td>\n",
       "      <td>REX CASH+CARRY JUMBO SHOPPER</td>\n",
       "      <td>Bags, Luggage &amp; Accessories</td>\n",
       "      <td>Others</td>\n",
       "    </tr>\n",
       "    <tr>\n",
       "      <th>2</th>\n",
       "      <td>2</td>\n",
       "      <td>6</td>\n",
       "      <td>E14606</td>\n",
       "      <td>San Diego</td>\n",
       "      <td>CA</td>\n",
       "      <td>1429</td>\n",
       "      <td>844</td>\n",
       "      <td>middle</td>\n",
       "      <td>sightseeing</td>\n",
       "      <td>west</td>\n",
       "      <td>2155</td>\n",
       "      <td>HANGING HEART MIRROR DECORATION</td>\n",
       "      <td>Home &amp; Garden</td>\n",
       "      <td>Others</td>\n",
       "    </tr>\n",
       "    <tr>\n",
       "      <th>3</th>\n",
       "      <td>3</td>\n",
       "      <td>48</td>\n",
       "      <td>E15311</td>\n",
       "      <td>Houston</td>\n",
       "      <td>TX</td>\n",
       "      <td>2325</td>\n",
       "      <td>1658</td>\n",
       "      <td>middle</td>\n",
       "      <td>other</td>\n",
       "      <td>south</td>\n",
       "      <td>1939</td>\n",
       "      <td>EDWARDIAN PARASOL NATURAL</td>\n",
       "      <td>Home &amp; Garden</td>\n",
       "      <td>Others</td>\n",
       "    </tr>\n",
       "    <tr>\n",
       "      <th>4</th>\n",
       "      <td>4</td>\n",
       "      <td>197</td>\n",
       "      <td>E15005</td>\n",
       "      <td>Miami</td>\n",
       "      <td>FL</td>\n",
       "      <td>483</td>\n",
       "      <td>93</td>\n",
       "      <td>small</td>\n",
       "      <td>sightseeing</td>\n",
       "      <td>south</td>\n",
       "      <td>1840</td>\n",
       "      <td>CHARLOTTE BAG PINK POLKADOT</td>\n",
       "      <td>Bags, Luggage &amp; Accessories</td>\n",
       "      <td>Others</td>\n",
       "    </tr>\n",
       "  </tbody>\n",
       "</table>\n",
       "</div>"
      ],
      "text/plain": [
       "   index  Unnamed: 1 customer_id       city state  pop_thousand  \\\n",
       "0      0          14      E17841   New York    NY          8177   \n",
       "1      1          81      E12748    Phoenix    AZ          1759   \n",
       "2      2           6      E14606  San Diego    CA          1429   \n",
       "3      3          48      E15311    Houston    TX          2325   \n",
       "4      4         197      E15005      Miami    FL           483   \n",
       "\n",
       "   land_sq_meter pop_size    city_type city_lctn  real_quantity  \\\n",
       "0            778      big        metro      east           5807   \n",
       "1           1341   middle        other      west           2382   \n",
       "2            844   middle  sightseeing      west           2155   \n",
       "3           1658   middle        other     south           1939   \n",
       "4             93    small  sightseeing     south           1840   \n",
       "\n",
       "                       Unnamed: 11                     category Detailed  \n",
       "0                    CHILLI LIGHTS         Household Appliances   Others  \n",
       "1     REX CASH+CARRY JUMBO SHOPPER  Bags, Luggage & Accessories   Others  \n",
       "2  HANGING HEART MIRROR DECORATION                Home & Garden   Others  \n",
       "3        EDWARDIAN PARASOL NATURAL                Home & Garden   Others  \n",
       "4      CHARLOTTE BAG PINK POLKADOT  Bags, Luggage & Accessories   Others  "
      ]
     },
     "execution_count": 2,
     "metadata": {},
     "output_type": "execute_result"
    }
   ],
   "source": [
    "df_raw2=pd.read_csv(\"/home/piai/Downloads/카테고리123.csv\")\n",
    "df_raw2.head()"
   ]
  },
  {
   "cell_type": "code",
   "execution_count": 3,
   "id": "8bda5892",
   "metadata": {
    "scrolled": false
   },
   "outputs": [
    {
     "data": {
      "text/html": [
       "<div>\n",
       "<style scoped>\n",
       "    .dataframe tbody tr th:only-of-type {\n",
       "        vertical-align: middle;\n",
       "    }\n",
       "\n",
       "    .dataframe tbody tr th {\n",
       "        vertical-align: top;\n",
       "    }\n",
       "\n",
       "    .dataframe thead th {\n",
       "        text-align: right;\n",
       "    }\n",
       "</style>\n",
       "<table border=\"1\" class=\"dataframe\">\n",
       "  <thead>\n",
       "    <tr style=\"text-align: right;\">\n",
       "      <th></th>\n",
       "      <th>Unnamed: 0.2</th>\n",
       "      <th>Unnamed: 0.1</th>\n",
       "      <th>Unnamed: 0</th>\n",
       "      <th>invoice</th>\n",
       "      <th>product_code</th>\n",
       "      <th>product_name</th>\n",
       "      <th>quantity</th>\n",
       "      <th>date</th>\n",
       "      <th>unit_price</th>\n",
       "      <th>customer_id</th>\n",
       "      <th>...</th>\n",
       "      <th>pop_size</th>\n",
       "      <th>city_type</th>\n",
       "      <th>city_lctn</th>\n",
       "      <th>stock_type</th>\n",
       "      <th>QuantityCanceled</th>\n",
       "      <th>real_quantity</th>\n",
       "      <th>real_sales</th>\n",
       "      <th>margin</th>\n",
       "      <th>quarter</th>\n",
       "      <th>Refund_OX</th>\n",
       "    </tr>\n",
       "  </thead>\n",
       "  <tbody>\n",
       "    <tr>\n",
       "      <th>0</th>\n",
       "      <td>0</td>\n",
       "      <td>0</td>\n",
       "      <td>0</td>\n",
       "      <td>539993</td>\n",
       "      <td>22386</td>\n",
       "      <td>JUMBO BAG PINK POLKADOT</td>\n",
       "      <td>10</td>\n",
       "      <td>2021-01-04</td>\n",
       "      <td>1.95</td>\n",
       "      <td>E13313</td>\n",
       "      <td>...</td>\n",
       "      <td>small</td>\n",
       "      <td>sightseeing</td>\n",
       "      <td>other</td>\n",
       "      <td>consignment</td>\n",
       "      <td>0</td>\n",
       "      <td>10</td>\n",
       "      <td>19.50</td>\n",
       "      <td>1.950</td>\n",
       "      <td>1</td>\n",
       "      <td>0</td>\n",
       "    </tr>\n",
       "    <tr>\n",
       "      <th>1</th>\n",
       "      <td>1</td>\n",
       "      <td>1</td>\n",
       "      <td>1</td>\n",
       "      <td>560915</td>\n",
       "      <td>22386</td>\n",
       "      <td>JUMBO BAG PINK POLKADOT</td>\n",
       "      <td>10</td>\n",
       "      <td>2021-07-21</td>\n",
       "      <td>2.08</td>\n",
       "      <td>E13313</td>\n",
       "      <td>...</td>\n",
       "      <td>small</td>\n",
       "      <td>sightseeing</td>\n",
       "      <td>other</td>\n",
       "      <td>consignment</td>\n",
       "      <td>0</td>\n",
       "      <td>10</td>\n",
       "      <td>20.80</td>\n",
       "      <td>2.080</td>\n",
       "      <td>3</td>\n",
       "      <td>0</td>\n",
       "    </tr>\n",
       "    <tr>\n",
       "      <th>2</th>\n",
       "      <td>2</td>\n",
       "      <td>2</td>\n",
       "      <td>2</td>\n",
       "      <td>545602</td>\n",
       "      <td>22386</td>\n",
       "      <td>JUMBO BAG PINK POLKADOT</td>\n",
       "      <td>1</td>\n",
       "      <td>2021-03-04</td>\n",
       "      <td>1.95</td>\n",
       "      <td>E17315</td>\n",
       "      <td>...</td>\n",
       "      <td>big</td>\n",
       "      <td>metro</td>\n",
       "      <td>east</td>\n",
       "      <td>consignment</td>\n",
       "      <td>0</td>\n",
       "      <td>1</td>\n",
       "      <td>1.95</td>\n",
       "      <td>0.195</td>\n",
       "      <td>1</td>\n",
       "      <td>0</td>\n",
       "    </tr>\n",
       "    <tr>\n",
       "      <th>3</th>\n",
       "      <td>3</td>\n",
       "      <td>3</td>\n",
       "      <td>3</td>\n",
       "      <td>548150</td>\n",
       "      <td>22386</td>\n",
       "      <td>JUMBO BAG PINK POLKADOT</td>\n",
       "      <td>1</td>\n",
       "      <td>2021-03-29</td>\n",
       "      <td>1.95</td>\n",
       "      <td>E17315</td>\n",
       "      <td>...</td>\n",
       "      <td>big</td>\n",
       "      <td>metro</td>\n",
       "      <td>east</td>\n",
       "      <td>consignment</td>\n",
       "      <td>0</td>\n",
       "      <td>1</td>\n",
       "      <td>1.95</td>\n",
       "      <td>0.195</td>\n",
       "      <td>1</td>\n",
       "      <td>0</td>\n",
       "    </tr>\n",
       "    <tr>\n",
       "      <th>4</th>\n",
       "      <td>4</td>\n",
       "      <td>4</td>\n",
       "      <td>4</td>\n",
       "      <td>554090</td>\n",
       "      <td>22386</td>\n",
       "      <td>JUMBO BAG PINK POLKADOT</td>\n",
       "      <td>2</td>\n",
       "      <td>2021-05-22</td>\n",
       "      <td>2.08</td>\n",
       "      <td>E17315</td>\n",
       "      <td>...</td>\n",
       "      <td>big</td>\n",
       "      <td>metro</td>\n",
       "      <td>east</td>\n",
       "      <td>consignment</td>\n",
       "      <td>0</td>\n",
       "      <td>2</td>\n",
       "      <td>4.16</td>\n",
       "      <td>0.416</td>\n",
       "      <td>2</td>\n",
       "      <td>0</td>\n",
       "    </tr>\n",
       "    <tr>\n",
       "      <th>5</th>\n",
       "      <td>5</td>\n",
       "      <td>5</td>\n",
       "      <td>5</td>\n",
       "      <td>559336</td>\n",
       "      <td>22386</td>\n",
       "      <td>JUMBO BAG PINK POLKADOT</td>\n",
       "      <td>2</td>\n",
       "      <td>2021-07-07</td>\n",
       "      <td>2.08</td>\n",
       "      <td>E17315</td>\n",
       "      <td>...</td>\n",
       "      <td>big</td>\n",
       "      <td>metro</td>\n",
       "      <td>east</td>\n",
       "      <td>consignment</td>\n",
       "      <td>0</td>\n",
       "      <td>2</td>\n",
       "      <td>4.16</td>\n",
       "      <td>0.416</td>\n",
       "      <td>3</td>\n",
       "      <td>0</td>\n",
       "    </tr>\n",
       "    <tr>\n",
       "      <th>6</th>\n",
       "      <td>6</td>\n",
       "      <td>6</td>\n",
       "      <td>6</td>\n",
       "      <td>546249</td>\n",
       "      <td>22386</td>\n",
       "      <td>JUMBO BAG PINK POLKADOT</td>\n",
       "      <td>6</td>\n",
       "      <td>2021-03-10</td>\n",
       "      <td>1.95</td>\n",
       "      <td>E14606</td>\n",
       "      <td>...</td>\n",
       "      <td>middle</td>\n",
       "      <td>sightseeing</td>\n",
       "      <td>west</td>\n",
       "      <td>consignment</td>\n",
       "      <td>0</td>\n",
       "      <td>6</td>\n",
       "      <td>11.70</td>\n",
       "      <td>1.170</td>\n",
       "      <td>1</td>\n",
       "      <td>0</td>\n",
       "    </tr>\n",
       "    <tr>\n",
       "      <th>7</th>\n",
       "      <td>7</td>\n",
       "      <td>7</td>\n",
       "      <td>7</td>\n",
       "      <td>551194</td>\n",
       "      <td>22386</td>\n",
       "      <td>JUMBO BAG PINK POLKADOT</td>\n",
       "      <td>1</td>\n",
       "      <td>2021-04-27</td>\n",
       "      <td>2.08</td>\n",
       "      <td>E14606</td>\n",
       "      <td>...</td>\n",
       "      <td>middle</td>\n",
       "      <td>sightseeing</td>\n",
       "      <td>west</td>\n",
       "      <td>consignment</td>\n",
       "      <td>0</td>\n",
       "      <td>1</td>\n",
       "      <td>2.08</td>\n",
       "      <td>0.208</td>\n",
       "      <td>2</td>\n",
       "      <td>0</td>\n",
       "    </tr>\n",
       "    <tr>\n",
       "      <th>8</th>\n",
       "      <td>8</td>\n",
       "      <td>8</td>\n",
       "      <td>8</td>\n",
       "      <td>556887</td>\n",
       "      <td>22386</td>\n",
       "      <td>JUMBO BAG PINK POLKADOT</td>\n",
       "      <td>2</td>\n",
       "      <td>2021-06-15</td>\n",
       "      <td>2.08</td>\n",
       "      <td>E14606</td>\n",
       "      <td>...</td>\n",
       "      <td>middle</td>\n",
       "      <td>sightseeing</td>\n",
       "      <td>west</td>\n",
       "      <td>consignment</td>\n",
       "      <td>0</td>\n",
       "      <td>2</td>\n",
       "      <td>4.16</td>\n",
       "      <td>0.416</td>\n",
       "      <td>2</td>\n",
       "      <td>0</td>\n",
       "    </tr>\n",
       "    <tr>\n",
       "      <th>9</th>\n",
       "      <td>9</td>\n",
       "      <td>9</td>\n",
       "      <td>9</td>\n",
       "      <td>557577</td>\n",
       "      <td>22386</td>\n",
       "      <td>JUMBO BAG PINK POLKADOT</td>\n",
       "      <td>2</td>\n",
       "      <td>2021-06-21</td>\n",
       "      <td>2.08</td>\n",
       "      <td>E14606</td>\n",
       "      <td>...</td>\n",
       "      <td>middle</td>\n",
       "      <td>sightseeing</td>\n",
       "      <td>west</td>\n",
       "      <td>consignment</td>\n",
       "      <td>0</td>\n",
       "      <td>2</td>\n",
       "      <td>4.16</td>\n",
       "      <td>0.416</td>\n",
       "      <td>2</td>\n",
       "      <td>0</td>\n",
       "    </tr>\n",
       "  </tbody>\n",
       "</table>\n",
       "<p>10 rows × 25 columns</p>\n",
       "</div>"
      ],
      "text/plain": [
       "   Unnamed: 0.2  Unnamed: 0.1  Unnamed: 0  invoice product_code  \\\n",
       "0             0             0           0   539993        22386   \n",
       "1             1             1           1   560915        22386   \n",
       "2             2             2           2   545602        22386   \n",
       "3             3             3           3   548150        22386   \n",
       "4             4             4           4   554090        22386   \n",
       "5             5             5           5   559336        22386   \n",
       "6             6             6           6   546249        22386   \n",
       "7             7             7           7   551194        22386   \n",
       "8             8             8           8   556887        22386   \n",
       "9             9             9           9   557577        22386   \n",
       "\n",
       "              product_name  quantity        date  unit_price customer_id  ...  \\\n",
       "0  JUMBO BAG PINK POLKADOT        10  2021-01-04        1.95      E13313  ...   \n",
       "1  JUMBO BAG PINK POLKADOT        10  2021-07-21        2.08      E13313  ...   \n",
       "2  JUMBO BAG PINK POLKADOT         1  2021-03-04        1.95      E17315  ...   \n",
       "3  JUMBO BAG PINK POLKADOT         1  2021-03-29        1.95      E17315  ...   \n",
       "4  JUMBO BAG PINK POLKADOT         2  2021-05-22        2.08      E17315  ...   \n",
       "5  JUMBO BAG PINK POLKADOT         2  2021-07-07        2.08      E17315  ...   \n",
       "6  JUMBO BAG PINK POLKADOT         6  2021-03-10        1.95      E14606  ...   \n",
       "7  JUMBO BAG PINK POLKADOT         1  2021-04-27        2.08      E14606  ...   \n",
       "8  JUMBO BAG PINK POLKADOT         2  2021-06-15        2.08      E14606  ...   \n",
       "9  JUMBO BAG PINK POLKADOT         2  2021-06-21        2.08      E14606  ...   \n",
       "\n",
       "   pop_size    city_type city_lctn   stock_type  QuantityCanceled  \\\n",
       "0     small  sightseeing     other  consignment                 0   \n",
       "1     small  sightseeing     other  consignment                 0   \n",
       "2       big        metro      east  consignment                 0   \n",
       "3       big        metro      east  consignment                 0   \n",
       "4       big        metro      east  consignment                 0   \n",
       "5       big        metro      east  consignment                 0   \n",
       "6    middle  sightseeing      west  consignment                 0   \n",
       "7    middle  sightseeing      west  consignment                 0   \n",
       "8    middle  sightseeing      west  consignment                 0   \n",
       "9    middle  sightseeing      west  consignment                 0   \n",
       "\n",
       "  real_quantity real_sales margin quarter  Refund_OX  \n",
       "0            10      19.50  1.950       1          0  \n",
       "1            10      20.80  2.080       3          0  \n",
       "2             1       1.95  0.195       1          0  \n",
       "3             1       1.95  0.195       1          0  \n",
       "4             2       4.16  0.416       2          0  \n",
       "5             2       4.16  0.416       3          0  \n",
       "6             6      11.70  1.170       1          0  \n",
       "7             1       2.08  0.208       2          0  \n",
       "8             2       4.16  0.416       2          0  \n",
       "9             2       4.16  0.416       2          0  \n",
       "\n",
       "[10 rows x 25 columns]"
      ]
     },
     "execution_count": 3,
     "metadata": {},
     "output_type": "execute_result"
    }
   ],
   "source": [
    "df_raw=pd.read_csv(\"/home/piai/Downloads/css.csv\")\n",
    "df_raw.head(10)"
   ]
  },
  {
   "cell_type": "code",
   "execution_count": 5,
   "id": "12f175a5",
   "metadata": {},
   "outputs": [],
   "source": [
    "df1=pd.read_csv(\"/home/piai/다운로드/B2_유통(BtoB)/01_sales_data2.csv\")\n",
    "df2=pd.read_csv(\"/home/piai/다운로드/B2_유통(BtoB)/02_customer_data.csv\")\n",
    "df3=pd.read_csv(\"/home/piai/다운로드/B2_유통(BtoB)/03_stock_data.csv\")"
   ]
  },
  {
   "cell_type": "code",
   "execution_count": 6,
   "id": "313b00e9",
   "metadata": {},
   "outputs": [
    {
     "data": {
      "text/plain": [
       "(282642, 15)"
      ]
     },
     "execution_count": 6,
     "metadata": {},
     "output_type": "execute_result"
    }
   ],
   "source": [
    "df=pd.merge(df1,df2,on=['customer_id'],how='left')\n",
    "df.shape"
   ]
  },
  {
   "cell_type": "code",
   "execution_count": 7,
   "id": "2ce77653",
   "metadata": {},
   "outputs": [
    {
     "data": {
      "text/plain": [
       "(282642, 16)"
      ]
     },
     "execution_count": 7,
     "metadata": {},
     "output_type": "execute_result"
    }
   ],
   "source": [
    "df=pd.merge(df,df3,on='product_name',how='left')\n",
    "df.shape"
   ]
  },
  {
   "cell_type": "code",
   "execution_count": 8,
   "id": "c10a95b2",
   "metadata": {
    "scrolled": true
   },
   "outputs": [
    {
     "data": {
      "text/html": [
       "<div>\n",
       "<style scoped>\n",
       "    .dataframe tbody tr th:only-of-type {\n",
       "        vertical-align: middle;\n",
       "    }\n",
       "\n",
       "    .dataframe tbody tr th {\n",
       "        vertical-align: top;\n",
       "    }\n",
       "\n",
       "    .dataframe thead th {\n",
       "        text-align: right;\n",
       "    }\n",
       "</style>\n",
       "<table border=\"1\" class=\"dataframe\">\n",
       "  <thead>\n",
       "    <tr style=\"text-align: right;\">\n",
       "      <th></th>\n",
       "      <th>invoice</th>\n",
       "      <th>product_code</th>\n",
       "      <th>product_name</th>\n",
       "      <th>quantity</th>\n",
       "      <th>date</th>\n",
       "      <th>unit_price</th>\n",
       "      <th>customer_id</th>\n",
       "      <th>sales</th>\n",
       "      <th>city</th>\n",
       "      <th>state</th>\n",
       "      <th>pop_thousand</th>\n",
       "      <th>land_sq_meter</th>\n",
       "      <th>pop_size</th>\n",
       "      <th>city_type</th>\n",
       "      <th>city_lctn</th>\n",
       "      <th>stock_type</th>\n",
       "    </tr>\n",
       "  </thead>\n",
       "  <tbody>\n",
       "    <tr>\n",
       "      <th>0</th>\n",
       "      <td>539993</td>\n",
       "      <td>22386</td>\n",
       "      <td>JUMBO BAG PINK POLKADOT</td>\n",
       "      <td>10</td>\n",
       "      <td>2021-01-04</td>\n",
       "      <td>1.95</td>\n",
       "      <td>E13313</td>\n",
       "      <td>19.5</td>\n",
       "      <td>Honolulu</td>\n",
       "      <td>HI</td>\n",
       "      <td>339</td>\n",
       "      <td>156</td>\n",
       "      <td>small</td>\n",
       "      <td>sightseeing</td>\n",
       "      <td>other</td>\n",
       "      <td>consignment</td>\n",
       "    </tr>\n",
       "    <tr>\n",
       "      <th>1</th>\n",
       "      <td>539993</td>\n",
       "      <td>21499</td>\n",
       "      <td>BLUE POLKADOT WRAP</td>\n",
       "      <td>25</td>\n",
       "      <td>2021-01-04</td>\n",
       "      <td>0.42</td>\n",
       "      <td>E13313</td>\n",
       "      <td>10.5</td>\n",
       "      <td>Honolulu</td>\n",
       "      <td>HI</td>\n",
       "      <td>339</td>\n",
       "      <td>156</td>\n",
       "      <td>small</td>\n",
       "      <td>sightseeing</td>\n",
       "      <td>other</td>\n",
       "      <td>consignment</td>\n",
       "    </tr>\n",
       "    <tr>\n",
       "      <th>2</th>\n",
       "      <td>539993</td>\n",
       "      <td>21498</td>\n",
       "      <td>RED RETROSPOT WRAP</td>\n",
       "      <td>25</td>\n",
       "      <td>2021-01-04</td>\n",
       "      <td>0.42</td>\n",
       "      <td>E13313</td>\n",
       "      <td>10.5</td>\n",
       "      <td>Honolulu</td>\n",
       "      <td>HI</td>\n",
       "      <td>339</td>\n",
       "      <td>156</td>\n",
       "      <td>small</td>\n",
       "      <td>sightseeing</td>\n",
       "      <td>other</td>\n",
       "      <td>consignment</td>\n",
       "    </tr>\n",
       "    <tr>\n",
       "      <th>3</th>\n",
       "      <td>539993</td>\n",
       "      <td>22379</td>\n",
       "      <td>RECYCLING BAG RETROSPOT</td>\n",
       "      <td>5</td>\n",
       "      <td>2021-01-04</td>\n",
       "      <td>2.10</td>\n",
       "      <td>E13313</td>\n",
       "      <td>10.5</td>\n",
       "      <td>Honolulu</td>\n",
       "      <td>HI</td>\n",
       "      <td>339</td>\n",
       "      <td>156</td>\n",
       "      <td>small</td>\n",
       "      <td>sightseeing</td>\n",
       "      <td>other</td>\n",
       "      <td>consignment</td>\n",
       "    </tr>\n",
       "    <tr>\n",
       "      <th>4</th>\n",
       "      <td>539993</td>\n",
       "      <td>20718</td>\n",
       "      <td>RED RETROSPOT SHOPPER BAG</td>\n",
       "      <td>10</td>\n",
       "      <td>2021-01-04</td>\n",
       "      <td>1.25</td>\n",
       "      <td>E13313</td>\n",
       "      <td>12.5</td>\n",
       "      <td>Honolulu</td>\n",
       "      <td>HI</td>\n",
       "      <td>339</td>\n",
       "      <td>156</td>\n",
       "      <td>small</td>\n",
       "      <td>sightseeing</td>\n",
       "      <td>other</td>\n",
       "      <td>consignment</td>\n",
       "    </tr>\n",
       "  </tbody>\n",
       "</table>\n",
       "</div>"
      ],
      "text/plain": [
       "  invoice product_code               product_name  quantity        date  \\\n",
       "0  539993        22386    JUMBO BAG PINK POLKADOT        10  2021-01-04   \n",
       "1  539993        21499         BLUE POLKADOT WRAP        25  2021-01-04   \n",
       "2  539993        21498         RED RETROSPOT WRAP        25  2021-01-04   \n",
       "3  539993        22379    RECYCLING BAG RETROSPOT         5  2021-01-04   \n",
       "4  539993        20718  RED RETROSPOT SHOPPER BAG        10  2021-01-04   \n",
       "\n",
       "   unit_price customer_id  sales      city state  pop_thousand  land_sq_meter  \\\n",
       "0        1.95      E13313   19.5  Honolulu    HI           339            156   \n",
       "1        0.42      E13313   10.5  Honolulu    HI           339            156   \n",
       "2        0.42      E13313   10.5  Honolulu    HI           339            156   \n",
       "3        2.10      E13313   10.5  Honolulu    HI           339            156   \n",
       "4        1.25      E13313   12.5  Honolulu    HI           339            156   \n",
       "\n",
       "  pop_size    city_type city_lctn   stock_type  \n",
       "0    small  sightseeing     other  consignment  \n",
       "1    small  sightseeing     other  consignment  \n",
       "2    small  sightseeing     other  consignment  \n",
       "3    small  sightseeing     other  consignment  \n",
       "4    small  sightseeing     other  consignment  "
      ]
     },
     "execution_count": 8,
     "metadata": {},
     "output_type": "execute_result"
    }
   ],
   "source": [
    "df.head()"
   ]
  },
  {
   "cell_type": "code",
   "execution_count": 9,
   "id": "854500a2",
   "metadata": {
    "scrolled": true
   },
   "outputs": [
    {
     "name": "stdout",
     "output_type": "stream",
     "text": [
      "<class 'pandas.core.frame.DataFrame'>\n",
      "Int64Index: 282642 entries, 0 to 282641\n",
      "Data columns (total 16 columns):\n",
      " #   Column         Non-Null Count   Dtype         \n",
      "---  ------         --------------   -----         \n",
      " 0   invoice        282642 non-null  object        \n",
      " 1   product_code   282642 non-null  object        \n",
      " 2   product_name   282642 non-null  object        \n",
      " 3   quantity       282642 non-null  int64         \n",
      " 4   date           282642 non-null  datetime64[ns]\n",
      " 5   unit_price     282642 non-null  float64       \n",
      " 6   customer_id    282642 non-null  object        \n",
      " 7   sales          282642 non-null  float64       \n",
      " 8   city           282642 non-null  object        \n",
      " 9   state          282642 non-null  object        \n",
      " 10  pop_thousand   282642 non-null  int64         \n",
      " 11  land_sq_meter  282642 non-null  int64         \n",
      " 12  pop_size       282642 non-null  object        \n",
      " 13  city_type      282642 non-null  object        \n",
      " 14  city_lctn      282642 non-null  object        \n",
      " 15  stock_type     282642 non-null  object        \n",
      "dtypes: datetime64[ns](1), float64(2), int64(3), object(10)\n",
      "memory usage: 36.7+ MB\n"
     ]
    }
   ],
   "source": [
    "df['date']=df['date'].astype('datetime64[ns]')\n",
    "df.info()"
   ]
  },
  {
   "cell_type": "code",
   "execution_count": 10,
   "id": "037022c0",
   "metadata": {
    "scrolled": true
   },
   "outputs": [
    {
     "data": {
      "text/html": [
       "<div>\n",
       "<style scoped>\n",
       "    .dataframe tbody tr th:only-of-type {\n",
       "        vertical-align: middle;\n",
       "    }\n",
       "\n",
       "    .dataframe tbody tr th {\n",
       "        vertical-align: top;\n",
       "    }\n",
       "\n",
       "    .dataframe thead th {\n",
       "        text-align: right;\n",
       "    }\n",
       "</style>\n",
       "<table border=\"1\" class=\"dataframe\">\n",
       "  <thead>\n",
       "    <tr style=\"text-align: right;\">\n",
       "      <th></th>\n",
       "      <th>invoice</th>\n",
       "      <th>product_code</th>\n",
       "      <th>product_name</th>\n",
       "      <th>quantity</th>\n",
       "      <th>date</th>\n",
       "      <th>unit_price</th>\n",
       "      <th>customer_id</th>\n",
       "      <th>sales</th>\n",
       "      <th>city</th>\n",
       "      <th>state</th>\n",
       "      <th>pop_thousand</th>\n",
       "      <th>land_sq_meter</th>\n",
       "      <th>pop_size</th>\n",
       "      <th>city_type</th>\n",
       "      <th>city_lctn</th>\n",
       "      <th>stock_type</th>\n",
       "      <th>month</th>\n",
       "    </tr>\n",
       "  </thead>\n",
       "  <tbody>\n",
       "    <tr>\n",
       "      <th>0</th>\n",
       "      <td>539993</td>\n",
       "      <td>22386</td>\n",
       "      <td>JUMBO BAG PINK POLKADOT</td>\n",
       "      <td>10</td>\n",
       "      <td>2021-01-04</td>\n",
       "      <td>1.95</td>\n",
       "      <td>E13313</td>\n",
       "      <td>19.5</td>\n",
       "      <td>Honolulu</td>\n",
       "      <td>HI</td>\n",
       "      <td>339</td>\n",
       "      <td>156</td>\n",
       "      <td>small</td>\n",
       "      <td>sightseeing</td>\n",
       "      <td>other</td>\n",
       "      <td>consignment</td>\n",
       "      <td>1</td>\n",
       "    </tr>\n",
       "    <tr>\n",
       "      <th>1</th>\n",
       "      <td>539993</td>\n",
       "      <td>21499</td>\n",
       "      <td>BLUE POLKADOT WRAP</td>\n",
       "      <td>25</td>\n",
       "      <td>2021-01-04</td>\n",
       "      <td>0.42</td>\n",
       "      <td>E13313</td>\n",
       "      <td>10.5</td>\n",
       "      <td>Honolulu</td>\n",
       "      <td>HI</td>\n",
       "      <td>339</td>\n",
       "      <td>156</td>\n",
       "      <td>small</td>\n",
       "      <td>sightseeing</td>\n",
       "      <td>other</td>\n",
       "      <td>consignment</td>\n",
       "      <td>1</td>\n",
       "    </tr>\n",
       "    <tr>\n",
       "      <th>2</th>\n",
       "      <td>539993</td>\n",
       "      <td>21498</td>\n",
       "      <td>RED RETROSPOT WRAP</td>\n",
       "      <td>25</td>\n",
       "      <td>2021-01-04</td>\n",
       "      <td>0.42</td>\n",
       "      <td>E13313</td>\n",
       "      <td>10.5</td>\n",
       "      <td>Honolulu</td>\n",
       "      <td>HI</td>\n",
       "      <td>339</td>\n",
       "      <td>156</td>\n",
       "      <td>small</td>\n",
       "      <td>sightseeing</td>\n",
       "      <td>other</td>\n",
       "      <td>consignment</td>\n",
       "      <td>1</td>\n",
       "    </tr>\n",
       "    <tr>\n",
       "      <th>3</th>\n",
       "      <td>539993</td>\n",
       "      <td>22379</td>\n",
       "      <td>RECYCLING BAG RETROSPOT</td>\n",
       "      <td>5</td>\n",
       "      <td>2021-01-04</td>\n",
       "      <td>2.10</td>\n",
       "      <td>E13313</td>\n",
       "      <td>10.5</td>\n",
       "      <td>Honolulu</td>\n",
       "      <td>HI</td>\n",
       "      <td>339</td>\n",
       "      <td>156</td>\n",
       "      <td>small</td>\n",
       "      <td>sightseeing</td>\n",
       "      <td>other</td>\n",
       "      <td>consignment</td>\n",
       "      <td>1</td>\n",
       "    </tr>\n",
       "    <tr>\n",
       "      <th>4</th>\n",
       "      <td>539993</td>\n",
       "      <td>20718</td>\n",
       "      <td>RED RETROSPOT SHOPPER BAG</td>\n",
       "      <td>10</td>\n",
       "      <td>2021-01-04</td>\n",
       "      <td>1.25</td>\n",
       "      <td>E13313</td>\n",
       "      <td>12.5</td>\n",
       "      <td>Honolulu</td>\n",
       "      <td>HI</td>\n",
       "      <td>339</td>\n",
       "      <td>156</td>\n",
       "      <td>small</td>\n",
       "      <td>sightseeing</td>\n",
       "      <td>other</td>\n",
       "      <td>consignment</td>\n",
       "      <td>1</td>\n",
       "    </tr>\n",
       "  </tbody>\n",
       "</table>\n",
       "</div>"
      ],
      "text/plain": [
       "  invoice product_code               product_name  quantity       date  \\\n",
       "0  539993        22386    JUMBO BAG PINK POLKADOT        10 2021-01-04   \n",
       "1  539993        21499         BLUE POLKADOT WRAP        25 2021-01-04   \n",
       "2  539993        21498         RED RETROSPOT WRAP        25 2021-01-04   \n",
       "3  539993        22379    RECYCLING BAG RETROSPOT         5 2021-01-04   \n",
       "4  539993        20718  RED RETROSPOT SHOPPER BAG        10 2021-01-04   \n",
       "\n",
       "   unit_price customer_id  sales      city state  pop_thousand  land_sq_meter  \\\n",
       "0        1.95      E13313   19.5  Honolulu    HI           339            156   \n",
       "1        0.42      E13313   10.5  Honolulu    HI           339            156   \n",
       "2        0.42      E13313   10.5  Honolulu    HI           339            156   \n",
       "3        2.10      E13313   10.5  Honolulu    HI           339            156   \n",
       "4        1.25      E13313   12.5  Honolulu    HI           339            156   \n",
       "\n",
       "  pop_size    city_type city_lctn   stock_type  month  \n",
       "0    small  sightseeing     other  consignment      1  \n",
       "1    small  sightseeing     other  consignment      1  \n",
       "2    small  sightseeing     other  consignment      1  \n",
       "3    small  sightseeing     other  consignment      1  \n",
       "4    small  sightseeing     other  consignment      1  "
      ]
     },
     "execution_count": 10,
     "metadata": {},
     "output_type": "execute_result"
    }
   ],
   "source": [
    "df['month']=df['date'].dt.month\n",
    "df.head()"
   ]
  },
  {
   "cell_type": "code",
   "execution_count": 11,
   "id": "ef4a4fd3",
   "metadata": {},
   "outputs": [],
   "source": [
    "df['days']=df['date'].dt.day"
   ]
  },
  {
   "cell_type": "code",
   "execution_count": 12,
   "id": "b82f9c46",
   "metadata": {},
   "outputs": [],
   "source": [
    "weeks=[]\n",
    "for i in df['date']:\n",
    "    weeks.append(i.weekday())"
   ]
  },
  {
   "cell_type": "code",
   "execution_count": null,
   "id": "3cbf4508",
   "metadata": {},
   "outputs": [],
   "source": [
    "df['weeks']=weeks\n",
    "df.head()"
   ]
  },
  {
   "cell_type": "code",
   "execution_count": null,
   "id": "39cbc3e6",
   "metadata": {},
   "outputs": [],
   "source": [
    "df.info()"
   ]
  },
  {
   "cell_type": "code",
   "execution_count": 13,
   "id": "59450cf7",
   "metadata": {
    "scrolled": false
   },
   "outputs": [],
   "source": [
    "df_date=df.drop(['invoice','product_code','product_name','customer_id','date'],axis=1,inplace=False)\n"
   ]
  },
  {
   "cell_type": "code",
   "execution_count": 14,
   "id": "3034ac5d",
   "metadata": {},
   "outputs": [
    {
     "data": {
      "text/plain": [
       "Index(['quantity', 'unit_price', 'sales', 'city', 'state', 'pop_thousand',\n",
       "       'land_sq_meter', 'pop_size', 'city_type', 'city_lctn', 'stock_type',\n",
       "       'month', 'days'],\n",
       "      dtype='object')"
      ]
     },
     "execution_count": 14,
     "metadata": {},
     "output_type": "execute_result"
    }
   ],
   "source": [
    "df_date.columns"
   ]
  },
  {
   "cell_type": "code",
   "execution_count": 15,
   "id": "369a621d",
   "metadata": {},
   "outputs": [
    {
     "data": {
      "text/plain": [
       "customer_id\n",
       "E12346                     [MEDIUM CERAMIC TOP STORAGE JAR]\n",
       "E12747    [PAINTED METAL PEARS ASSORTED, WOOD BLACK BOAR...\n",
       "E12748    [SET OF 16 VINTAGE BLACK CUTLERY, CAKE PLATE L...\n",
       "E12749    [FAMILY PHOTO FRAME CORNICE, PHOTO FRAME CORNI...\n",
       "E12820    [PACK OF 60 PINK PAISLEY CAKE CASES, 72 SWEETH...\n",
       "                                ...                        \n",
       "E18280    [WOOD BLACK BOARD ANT WHITE FINISH, RETROSPOT ...\n",
       "E18281    [ROBOT BIRTHDAY CARD, CARD CIRCUS PARADE, PENN...\n",
       "E18282    [ANTIQUE CREAM CUTLERY CUPBOARD, FRENCH STYLE ...\n",
       "E18283    [CHARLOTTE BAG PINK POLKADOT, LUNCH BAG WOODLA...\n",
       "E18287    [SMALL PURPLE BABUSHKA NOTEBOOK, SMALL RED BAB...\n",
       "Name: product_name, Length: 3458, dtype: object"
      ]
     },
     "execution_count": 15,
     "metadata": {},
     "output_type": "execute_result"
    }
   ],
   "source": [
    "df_customer=df.groupby('customer_id')['product_name'].unique()\n",
    "df_customer"
   ]
  },
  {
   "cell_type": "code",
   "execution_count": 16,
   "id": "28a06f2d",
   "metadata": {},
   "outputs": [
    {
     "data": {
      "text/plain": [
       "customer_id\n",
       "E12346                     [MEDIUM CERAMIC TOP STORAGE JAR]\n",
       "E12747    [PAINTED METAL PEARS ASSORTED, WOOD BLACK BOAR...\n",
       "E12748    [SET OF 16 VINTAGE BLACK CUTLERY, CAKE PLATE L...\n",
       "E12749    [FAMILY PHOTO FRAME CORNICE, PHOTO FRAME CORNI...\n",
       "E12820    [PACK OF 60 PINK PAISLEY CAKE CASES, 72 SWEETH...\n",
       "Name: product_name, dtype: object"
      ]
     },
     "execution_count": 16,
     "metadata": {},
     "output_type": "execute_result"
    }
   ],
   "source": [
    "df_customer.head()"
   ]
  },
  {
   "cell_type": "code",
   "execution_count": 17,
   "id": "3a324567",
   "metadata": {},
   "outputs": [
    {
     "data": {
      "text/html": [
       "<div>\n",
       "<style scoped>\n",
       "    .dataframe tbody tr th:only-of-type {\n",
       "        vertical-align: middle;\n",
       "    }\n",
       "\n",
       "    .dataframe tbody tr th {\n",
       "        vertical-align: top;\n",
       "    }\n",
       "\n",
       "    .dataframe thead th {\n",
       "        text-align: right;\n",
       "    }\n",
       "</style>\n",
       "<table border=\"1\" class=\"dataframe\">\n",
       "  <thead>\n",
       "    <tr style=\"text-align: right;\">\n",
       "      <th></th>\n",
       "      <th>product_name</th>\n",
       "    </tr>\n",
       "    <tr>\n",
       "      <th>customer_id</th>\n",
       "      <th></th>\n",
       "    </tr>\n",
       "  </thead>\n",
       "  <tbody>\n",
       "    <tr>\n",
       "      <th>E12346</th>\n",
       "      <td>[MEDIUM CERAMIC TOP STORAGE JAR]</td>\n",
       "    </tr>\n",
       "    <tr>\n",
       "      <th>E12747</th>\n",
       "      <td>[PAINTED METAL PEARS ASSORTED, WOOD BLACK BOAR...</td>\n",
       "    </tr>\n",
       "    <tr>\n",
       "      <th>E12748</th>\n",
       "      <td>[SET OF 16 VINTAGE BLACK CUTLERY, CAKE PLATE L...</td>\n",
       "    </tr>\n",
       "    <tr>\n",
       "      <th>E12749</th>\n",
       "      <td>[FAMILY PHOTO FRAME CORNICE, PHOTO FRAME CORNI...</td>\n",
       "    </tr>\n",
       "    <tr>\n",
       "      <th>E12820</th>\n",
       "      <td>[PACK OF 60 PINK PAISLEY CAKE CASES, 72 SWEETH...</td>\n",
       "    </tr>\n",
       "  </tbody>\n",
       "</table>\n",
       "</div>"
      ],
      "text/plain": [
       "                                                  product_name\n",
       "customer_id                                                   \n",
       "E12346                        [MEDIUM CERAMIC TOP STORAGE JAR]\n",
       "E12747       [PAINTED METAL PEARS ASSORTED, WOOD BLACK BOAR...\n",
       "E12748       [SET OF 16 VINTAGE BLACK CUTLERY, CAKE PLATE L...\n",
       "E12749       [FAMILY PHOTO FRAME CORNICE, PHOTO FRAME CORNI...\n",
       "E12820       [PACK OF 60 PINK PAISLEY CAKE CASES, 72 SWEETH..."
      ]
     },
     "execution_count": 17,
     "metadata": {},
     "output_type": "execute_result"
    }
   ],
   "source": [
    "df_customer=pd.DataFrame(df_customer)\n",
    "df_customer.head()"
   ]
  },
  {
   "cell_type": "code",
   "execution_count": 26,
   "id": "36f5b4be",
   "metadata": {},
   "outputs": [],
   "source": [
    "length=[]\n",
    "list_association=[]\n",
    "for i in df_customer['product_name']:\n",
    "    tmp_list=list(set(i))\n",
    "    tmp_list.sort()\n",
    "    length.append(len(i))\n",
    "\n",
    "    list_association.append(tmp_list)"
   ]
  },
  {
   "cell_type": "code",
   "execution_count": 27,
   "id": "f8e049d8",
   "metadata": {},
   "outputs": [
    {
     "data": {
      "text/plain": [
       "customer_id\n",
       "E12346                     [MEDIUM CERAMIC TOP STORAGE JAR]\n",
       "E12747    [ASSORTED COLOUR BIRD ORNAMENT, DOORMAT BLACK ...\n",
       "E12748    [12 COLOURED PARTY BALLOONS, 12 IVORY ROSE PEG...\n",
       "E12749    [3 HOOK PHOTO SHELF ANTIQUE WHITE, 3 TRADITION...\n",
       "E12820    [60 CAKE CASES VINTAGE CHRISTMAS, 72 SWEETHEAR...\n",
       "                                ...                        \n",
       "E18280    [ALARM CLOCK BAKELIKE CHOCOLATE, ALARM CLOCK B...\n",
       "E18281    [CARD CIRCUS PARADE, DOLLY GIRL BABY GIFT SET,...\n",
       "E18282    [ANTIQUE CREAM CUTLERY CUPBOARD, CARD CHRISTMA...\n",
       "E18283    [10 COLOUR SPACEBOY PEN, 12 PENCIL SMALL TUBE ...\n",
       "E18287    [APPLE BATH SPONGE, ASSORTED COLOUR LIZARD SUC...\n",
       "Name: product_name, Length: 3458, dtype: object"
      ]
     },
     "execution_count": 27,
     "metadata": {},
     "output_type": "execute_result"
    }
   ],
   "source": [
    "df_customer['product_name']"
   ]
  },
  {
   "cell_type": "code",
   "execution_count": 30,
   "id": "00e00006",
   "metadata": {},
   "outputs": [
    {
     "data": {
      "text/plain": [
       "1286"
      ]
     },
     "execution_count": 30,
     "metadata": {},
     "output_type": "execute_result"
    }
   ],
   "source": [
    "max(length)"
   ]
  },
  {
   "cell_type": "code",
   "execution_count": 35,
   "id": "f26c5056",
   "metadata": {},
   "outputs": [],
   "source": [
    "lis=[0 for i in range(1286)]"
   ]
  },
  {
   "cell_type": "code",
   "execution_count": 37,
   "id": "ef92e314",
   "metadata": {},
   "outputs": [
    {
     "data": {
      "text/plain": [
       "3715"
      ]
     },
     "execution_count": 37,
     "metadata": {},
     "output_type": "execute_result"
    }
   ],
   "source": [
    "df['product_name'].nunique()"
   ]
  },
  {
   "cell_type": "code",
   "execution_count": null,
   "id": "9edac803",
   "metadata": {},
   "outputs": [],
   "source": [
    "enc=TransactionEncoder()\n",
    "df_raw_enc=enc.fit_transform(X=list_association)\n",
    "\n",
    "df_raw_enc"
   ]
  },
  {
   "cell_type": "code",
   "execution_count": null,
   "id": "5f420fb8",
   "metadata": {
    "scrolled": true
   },
   "outputs": [],
   "source": [
    "df_asso=pd.DataFrame(df_raw_enc,columns=enc.columns_)\n",
    "df_asso.head()"
   ]
  },
  {
   "cell_type": "code",
   "execution_count": null,
   "id": "d3dd5aa6",
   "metadata": {},
   "outputs": [],
   "source": [
    "df_asso[df_asso['10 COLOUR SPACEBOY PEN']==True]"
   ]
  },
  {
   "cell_type": "code",
   "execution_count": null,
   "id": "dbb55eae",
   "metadata": {},
   "outputs": [],
   "source": [
    "v_min_support=0.1\n",
    "\n",
    "df_freq=apriori(df_asso, min_support=v_min_support,use_colnames=True)\n",
    "\n",
    "df_freq[9:16].round()"
   ]
  },
  {
   "cell_type": "code",
   "execution_count": null,
   "id": "e70477a0",
   "metadata": {},
   "outputs": [],
   "source": [
    "df_asso_rule=association_rules(df_freq,metric=\"confidence\",min_threshold=0.1)\n",
    "df_asso_rule.round(3)\n",
    "\n",
    "df_asso_rule=association_rules(df_freq,metric='lift',min_threshold=0.0)\n",
    "df_asso_rule.round(3)"
   ]
  },
  {
   "cell_type": "code",
   "execution_count": null,
   "id": "0f567fcd",
   "metadata": {},
   "outputs": [],
   "source": [
    "df_customer.shape"
   ]
  },
  {
   "cell_type": "code",
   "execution_count": null,
   "id": "ff5c72bb",
   "metadata": {},
   "outputs": [],
   "source": [
    "ID=list(set(df['customer_id']))\n",
    "ID.sort()"
   ]
  },
  {
   "cell_type": "code",
   "execution_count": null,
   "id": "83460e96",
   "metadata": {},
   "outputs": [],
   "source": [
    "enc=TransactionEncoder()\n",
    "df_raw_enc=enc.fit_transform(\n",
    "\n",
    "df_asso=pd.DataFramd(df_raw_enc, columsn)"
   ]
  },
  {
   "cell_type": "code",
   "execution_count": null,
   "id": "9f52de7e",
   "metadata": {},
   "outputs": [],
   "source": [
    "df['product_name'].nunique()"
   ]
  },
  {
   "cell_type": "code",
   "execution_count": null,
   "id": "d682537c",
   "metadata": {},
   "outputs": [],
   "source": [
    "df_date.head()"
   ]
  },
  {
   "cell_type": "code",
   "execution_count": null,
   "id": "cc3bd3b6",
   "metadata": {},
   "outputs": [],
   "source": [
    "df_date_dummy=pd.get_dummies(df_date)\n",
    "df_date_dummy.head()"
   ]
  },
  {
   "cell_type": "code",
   "execution_count": null,
   "id": "070ea6ca",
   "metadata": {
    "scrolled": true
   },
   "outputs": [],
   "source": [
    "scaler=StandardScaler()\n",
    "df_scaled=scaler.fit_transform(df_date_dummy)\n",
    "df_scaled[:5]"
   ]
  },
  {
   "cell_type": "code",
   "execution_count": null,
   "id": "dabd971a",
   "metadata": {},
   "outputs": [],
   "source": [
    "n_iter_cluster=15\n",
    "cluster_range=[i+1 for i in range(n_iter_cluster)]\n",
    "clus_error=[]\n",
    "for v_n_clus in cluster_range:\n",
    "    clus=KMeans(v_n_clus)\n",
    "    clus.fit(df_scaled)\n",
    "    \n",
    "    clus_error.append(clus.inertia_)\n",
    "ds_error=pd.DataFrame({\"NumberofCluster\":cluster_range,\"Error\":clus_error})\n",
    "ds_error"
   ]
  },
  {
   "cell_type": "code",
   "execution_count": null,
   "id": "156b7ad9",
   "metadata": {},
   "outputs": [],
   "source": [
    "cls_k=KMeans(3).fit_predict(df_scaled)\n",
    "sil_score=silhouette_score(df_scaled,cls_k)\n",
    "print(\"k-평균(군집 개수=3) 실루엣 계수=\", format(round(sil_score,3)))\n",
    "cls_k=KMeans(10).fit_predict(df_scaled)\n",
    "sil_score=silhouette_score(df_scaled,cls_k)\n",
    "print(\"k-평균(군집 개수=10) 실루엣 계수=\", format(round(sil_score,10)))"
   ]
  },
  {
   "cell_type": "code",
   "execution_count": null,
   "id": "203f27d9",
   "metadata": {},
   "outputs": [],
   "source": [
    "df_data.head()"
   ]
  },
  {
   "cell_type": "code",
   "execution_count": null,
   "id": "6d30c319",
   "metadata": {},
   "outputs": [],
   "source": [
    "df['product_name'].nunique()"
   ]
  },
  {
   "cell_type": "code",
   "execution_count": null,
   "id": "2506a3d4",
   "metadata": {},
   "outputs": [],
   "source": [
    "df_raw.info()"
   ]
  },
  {
   "cell_type": "code",
   "execution_count": null,
   "id": "af98139b",
   "metadata": {},
   "outputs": [],
   "source": [
    "df_raw.isnull().sum()"
   ]
  },
  {
   "cell_type": "code",
   "execution_count": null,
   "id": "db30c47e",
   "metadata": {},
   "outputs": [],
   "source": [
    "df_raw.drop('Detailed',axis=1,inplace=True)"
   ]
  },
  {
   "cell_type": "code",
   "execution_count": null,
   "id": "e2930fce",
   "metadata": {},
   "outputs": [],
   "source": [
    "df_raw.drop('Unnamed: 1',axis=1,inplace=True)"
   ]
  },
  {
   "cell_type": "code",
   "execution_count": null,
   "id": "8120075b",
   "metadata": {},
   "outputs": [],
   "source": [
    "df_raw.drop('Unnamed: 0',axis=1,inplace=True)"
   ]
  },
  {
   "cell_type": "code",
   "execution_count": null,
   "id": "8a8e174b",
   "metadata": {
    "scrolled": true
   },
   "outputs": [],
   "source": [
    "df_raw.head()"
   ]
  },
  {
   "cell_type": "code",
   "execution_count": null,
   "id": "961dfa05",
   "metadata": {},
   "outputs": [],
   "source": [
    "df_raw['product_name'].nunique()"
   ]
  },
  {
   "cell_type": "code",
   "execution_count": null,
   "id": "e77003fa",
   "metadata": {},
   "outputs": [],
   "source": [
    "df_raw.rename(columns={'Unnamed: 11':'product_name'},inplace=True)"
   ]
  },
  {
   "cell_type": "code",
   "execution_count": null,
   "id": "476b4552",
   "metadata": {},
   "outputs": [],
   "source": [
    "df_raw.head()"
   ]
  },
  {
   "cell_type": "code",
   "execution_count": null,
   "id": "611809cd",
   "metadata": {},
   "outputs": [],
   "source": [
    "df1.head()"
   ]
  },
  {
   "cell_type": "code",
   "execution_count": null,
   "id": "4dfc700b",
   "metadata": {},
   "outputs": [],
   "source": [
    "df.head()"
   ]
  },
  {
   "cell_type": "code",
   "execution_count": null,
   "id": "02a0dd62",
   "metadata": {},
   "outputs": [],
   "source": [
    "df_date=pd.merge(df_raw,df,on='customer_id',how='left')\n",
    "df_date.shape"
   ]
  },
  {
   "cell_type": "code",
   "execution_count": null,
   "id": "faa84839",
   "metadata": {},
   "outputs": [],
   "source": [
    "df_date.isnull().sum()"
   ]
  },
  {
   "cell_type": "code",
   "execution_count": null,
   "id": "5a7b37f3",
   "metadata": {},
   "outputs": [],
   "source": [
    "df_raw.shape"
   ]
  },
  {
   "cell_type": "code",
   "execution_count": null,
   "id": "1f91e205",
   "metadata": {},
   "outputs": [],
   "source": [
    "df['customer_id'].nunique()"
   ]
  },
  {
   "cell_type": "code",
   "execution_count": null,
   "id": "8479edad",
   "metadata": {},
   "outputs": [],
   "source": [
    "df.head()"
   ]
  },
  {
   "cell_type": "code",
   "execution_count": 39,
   "id": "6af31a61",
   "metadata": {},
   "outputs": [
    {
     "data": {
      "text/html": [
       "<div>\n",
       "<style scoped>\n",
       "    .dataframe tbody tr th:only-of-type {\n",
       "        vertical-align: middle;\n",
       "    }\n",
       "\n",
       "    .dataframe tbody tr th {\n",
       "        vertical-align: top;\n",
       "    }\n",
       "\n",
       "    .dataframe thead th {\n",
       "        text-align: right;\n",
       "    }\n",
       "</style>\n",
       "<table border=\"1\" class=\"dataframe\">\n",
       "  <thead>\n",
       "    <tr style=\"text-align: right;\">\n",
       "      <th></th>\n",
       "      <th>invoice</th>\n",
       "      <th>customer_id</th>\n",
       "    </tr>\n",
       "    <tr>\n",
       "      <th>city_type</th>\n",
       "      <th></th>\n",
       "      <th></th>\n",
       "    </tr>\n",
       "  </thead>\n",
       "  <tbody>\n",
       "    <tr>\n",
       "      <th>metro</th>\n",
       "      <td>8458</td>\n",
       "      <td>1857</td>\n",
       "    </tr>\n",
       "    <tr>\n",
       "      <th>other</th>\n",
       "      <td>5124</td>\n",
       "      <td>1086</td>\n",
       "    </tr>\n",
       "    <tr>\n",
       "      <th>sightseeing</th>\n",
       "      <td>2487</td>\n",
       "      <td>515</td>\n",
       "    </tr>\n",
       "  </tbody>\n",
       "</table>\n",
       "</div>"
      ],
      "text/plain": [
       "             invoice  customer_id\n",
       "city_type                        \n",
       "metro           8458         1857\n",
       "other           5124         1086\n",
       "sightseeing     2487          515"
      ]
     },
     "execution_count": 39,
     "metadata": {},
     "output_type": "execute_result"
    }
   ],
   "source": [
    "df_citytype=df.groupby('city_type')[['invoice','customer_id']].nunique()\n",
    "df_citytype"
   ]
  },
  {
   "cell_type": "code",
   "execution_count": 70,
   "id": "26f74754",
   "metadata": {},
   "outputs": [],
   "source": [
    "df_metro=df[df['city_type']=='metro']\n",
    "df_sightseeing=df[df['city_type']=='sightseeing']\n",
    "df_other=df[df['city_type']=='other']"
   ]
  },
  {
   "cell_type": "code",
   "execution_count": 71,
   "id": "3d245140",
   "metadata": {},
   "outputs": [
    {
     "data": {
      "text/html": [
       "<div>\n",
       "<style scoped>\n",
       "    .dataframe tbody tr th:only-of-type {\n",
       "        vertical-align: middle;\n",
       "    }\n",
       "\n",
       "    .dataframe tbody tr th {\n",
       "        vertical-align: top;\n",
       "    }\n",
       "\n",
       "    .dataframe thead th {\n",
       "        text-align: right;\n",
       "    }\n",
       "</style>\n",
       "<table border=\"1\" class=\"dataframe\">\n",
       "  <thead>\n",
       "    <tr style=\"text-align: right;\">\n",
       "      <th></th>\n",
       "      <th>invoice</th>\n",
       "      <th>product_code</th>\n",
       "      <th>product_name</th>\n",
       "      <th>quantity</th>\n",
       "      <th>date</th>\n",
       "      <th>unit_price</th>\n",
       "      <th>customer_id</th>\n",
       "      <th>sales</th>\n",
       "      <th>city</th>\n",
       "      <th>state</th>\n",
       "      <th>pop_thousand</th>\n",
       "      <th>land_sq_meter</th>\n",
       "      <th>pop_size</th>\n",
       "      <th>city_type</th>\n",
       "      <th>city_lctn</th>\n",
       "      <th>stock_type</th>\n",
       "      <th>month</th>\n",
       "      <th>days</th>\n",
       "    </tr>\n",
       "  </thead>\n",
       "  <tbody>\n",
       "    <tr>\n",
       "      <th>53</th>\n",
       "      <td>540005</td>\n",
       "      <td>84813</td>\n",
       "      <td>SET OF 4 DIAMOND NAPKIN RINGS</td>\n",
       "      <td>8</td>\n",
       "      <td>2021-01-04</td>\n",
       "      <td>3.95</td>\n",
       "      <td>E17315</td>\n",
       "      <td>31.60</td>\n",
       "      <td>New York</td>\n",
       "      <td>NY</td>\n",
       "      <td>8177</td>\n",
       "      <td>778</td>\n",
       "      <td>big</td>\n",
       "      <td>metro</td>\n",
       "      <td>east</td>\n",
       "      <td>consignment</td>\n",
       "      <td>1</td>\n",
       "      <td>4</td>\n",
       "    </tr>\n",
       "    <tr>\n",
       "      <th>54</th>\n",
       "      <td>540005</td>\n",
       "      <td>47504K</td>\n",
       "      <td>ENGLISH ROSE GARDEN SECATEURS</td>\n",
       "      <td>24</td>\n",
       "      <td>2021-01-04</td>\n",
       "      <td>0.85</td>\n",
       "      <td>E17315</td>\n",
       "      <td>20.40</td>\n",
       "      <td>New York</td>\n",
       "      <td>NY</td>\n",
       "      <td>8177</td>\n",
       "      <td>778</td>\n",
       "      <td>big</td>\n",
       "      <td>metro</td>\n",
       "      <td>east</td>\n",
       "      <td>consignment</td>\n",
       "      <td>1</td>\n",
       "      <td>4</td>\n",
       "    </tr>\n",
       "    <tr>\n",
       "      <th>55</th>\n",
       "      <td>540005</td>\n",
       "      <td>21381</td>\n",
       "      <td>MINI WOODEN HAPPY BIRTHDAY GARLAND</td>\n",
       "      <td>2</td>\n",
       "      <td>2021-01-04</td>\n",
       "      <td>1.69</td>\n",
       "      <td>E17315</td>\n",
       "      <td>3.38</td>\n",
       "      <td>New York</td>\n",
       "      <td>NY</td>\n",
       "      <td>8177</td>\n",
       "      <td>778</td>\n",
       "      <td>big</td>\n",
       "      <td>metro</td>\n",
       "      <td>east</td>\n",
       "      <td>consignment</td>\n",
       "      <td>1</td>\n",
       "      <td>4</td>\n",
       "    </tr>\n",
       "    <tr>\n",
       "      <th>56</th>\n",
       "      <td>540005</td>\n",
       "      <td>22699</td>\n",
       "      <td>ROSES REGENCY TEACUP AND SAUCER</td>\n",
       "      <td>1</td>\n",
       "      <td>2021-01-04</td>\n",
       "      <td>2.95</td>\n",
       "      <td>E17315</td>\n",
       "      <td>2.95</td>\n",
       "      <td>New York</td>\n",
       "      <td>NY</td>\n",
       "      <td>8177</td>\n",
       "      <td>778</td>\n",
       "      <td>big</td>\n",
       "      <td>metro</td>\n",
       "      <td>east</td>\n",
       "      <td>consignment</td>\n",
       "      <td>1</td>\n",
       "      <td>4</td>\n",
       "    </tr>\n",
       "    <tr>\n",
       "      <th>57</th>\n",
       "      <td>540005</td>\n",
       "      <td>85062</td>\n",
       "      <td>PEARL CRYSTAL PUMPKIN T-LIGHT HLDR</td>\n",
       "      <td>12</td>\n",
       "      <td>2021-01-04</td>\n",
       "      <td>1.65</td>\n",
       "      <td>E17315</td>\n",
       "      <td>19.80</td>\n",
       "      <td>New York</td>\n",
       "      <td>NY</td>\n",
       "      <td>8177</td>\n",
       "      <td>778</td>\n",
       "      <td>big</td>\n",
       "      <td>metro</td>\n",
       "      <td>east</td>\n",
       "      <td>consignment</td>\n",
       "      <td>1</td>\n",
       "      <td>4</td>\n",
       "    </tr>\n",
       "  </tbody>\n",
       "</table>\n",
       "</div>"
      ],
      "text/plain": [
       "   invoice product_code                        product_name  quantity  \\\n",
       "53  540005        84813       SET OF 4 DIAMOND NAPKIN RINGS         8   \n",
       "54  540005       47504K       ENGLISH ROSE GARDEN SECATEURS        24   \n",
       "55  540005        21381  MINI WOODEN HAPPY BIRTHDAY GARLAND         2   \n",
       "56  540005        22699     ROSES REGENCY TEACUP AND SAUCER         1   \n",
       "57  540005        85062  PEARL CRYSTAL PUMPKIN T-LIGHT HLDR        12   \n",
       "\n",
       "         date  unit_price customer_id  sales      city state  pop_thousand  \\\n",
       "53 2021-01-04        3.95      E17315  31.60  New York    NY          8177   \n",
       "54 2021-01-04        0.85      E17315  20.40  New York    NY          8177   \n",
       "55 2021-01-04        1.69      E17315   3.38  New York    NY          8177   \n",
       "56 2021-01-04        2.95      E17315   2.95  New York    NY          8177   \n",
       "57 2021-01-04        1.65      E17315  19.80  New York    NY          8177   \n",
       "\n",
       "    land_sq_meter pop_size city_type city_lctn   stock_type  month  days  \n",
       "53            778      big     metro      east  consignment      1     4  \n",
       "54            778      big     metro      east  consignment      1     4  \n",
       "55            778      big     metro      east  consignment      1     4  \n",
       "56            778      big     metro      east  consignment      1     4  \n",
       "57            778      big     metro      east  consignment      1     4  "
      ]
     },
     "execution_count": 71,
     "metadata": {},
     "output_type": "execute_result"
    }
   ],
   "source": [
    "df_metro.head()"
   ]
  },
  {
   "cell_type": "code",
   "execution_count": 72,
   "id": "6fba3019",
   "metadata": {},
   "outputs": [],
   "source": [
    "metro_product=pd.DataFrame(df_metro['product_name'].value_counts())"
   ]
  },
  {
   "cell_type": "code",
   "execution_count": 73,
   "id": "3dfaa4a4",
   "metadata": {},
   "outputs": [
    {
     "data": {
      "text/html": [
       "<div>\n",
       "<style scoped>\n",
       "    .dataframe tbody tr th:only-of-type {\n",
       "        vertical-align: middle;\n",
       "    }\n",
       "\n",
       "    .dataframe tbody tr th {\n",
       "        vertical-align: top;\n",
       "    }\n",
       "\n",
       "    .dataframe thead th {\n",
       "        text-align: right;\n",
       "    }\n",
       "</style>\n",
       "<table border=\"1\" class=\"dataframe\">\n",
       "  <thead>\n",
       "    <tr style=\"text-align: right;\">\n",
       "      <th></th>\n",
       "      <th>product_name</th>\n",
       "    </tr>\n",
       "  </thead>\n",
       "  <tbody>\n",
       "    <tr>\n",
       "      <th>WHITE HANGING HEART T-LIGHT HOLDER</th>\n",
       "      <td>921</td>\n",
       "    </tr>\n",
       "    <tr>\n",
       "      <th>REGENCY CAKESTAND 3 TIER</th>\n",
       "      <td>764</td>\n",
       "    </tr>\n",
       "    <tr>\n",
       "      <th>PARTY BUNTING</th>\n",
       "      <td>695</td>\n",
       "    </tr>\n",
       "    <tr>\n",
       "      <th>JUMBO BAG RED RETROSPOT</th>\n",
       "      <td>644</td>\n",
       "    </tr>\n",
       "    <tr>\n",
       "      <th>ASSORTED COLOUR BIRD ORNAMENT</th>\n",
       "      <td>625</td>\n",
       "    </tr>\n",
       "    <tr>\n",
       "      <th>...</th>\n",
       "      <td>...</td>\n",
       "    </tr>\n",
       "    <tr>\n",
       "      <th>HEARTS WRAPPING TAPE</th>\n",
       "      <td>1</td>\n",
       "    </tr>\n",
       "    <tr>\n",
       "      <th>GIANT MEDINA STAMPED METAL BOWL</th>\n",
       "      <td>1</td>\n",
       "    </tr>\n",
       "    <tr>\n",
       "      <th>SUMMER DAISIES BAG CHARM</th>\n",
       "      <td>1</td>\n",
       "    </tr>\n",
       "    <tr>\n",
       "      <th>DANISH ROSE UMBRELLA STAND</th>\n",
       "      <td>1</td>\n",
       "    </tr>\n",
       "    <tr>\n",
       "      <th>GREEN WITH METAL BAG CHARM</th>\n",
       "      <td>1</td>\n",
       "    </tr>\n",
       "  </tbody>\n",
       "</table>\n",
       "<p>3570 rows × 1 columns</p>\n",
       "</div>"
      ],
      "text/plain": [
       "                                    product_name\n",
       "WHITE HANGING HEART T-LIGHT HOLDER           921\n",
       "REGENCY CAKESTAND 3 TIER                     764\n",
       "PARTY BUNTING                                695\n",
       "JUMBO BAG RED RETROSPOT                      644\n",
       "ASSORTED COLOUR BIRD ORNAMENT                625\n",
       "...                                          ...\n",
       "HEARTS WRAPPING TAPE                           1\n",
       "GIANT MEDINA STAMPED METAL BOWL                1\n",
       "SUMMER DAISIES BAG CHARM                       1\n",
       "DANISH ROSE UMBRELLA STAND                     1\n",
       "GREEN WITH METAL BAG CHARM                     1\n",
       "\n",
       "[3570 rows x 1 columns]"
      ]
     },
     "execution_count": 73,
     "metadata": {},
     "output_type": "execute_result"
    }
   ],
   "source": [
    "metro_product.sort_values(by = 'product_name', ascending = False)"
   ]
  },
  {
   "cell_type": "code",
   "execution_count": 74,
   "id": "9b16398e",
   "metadata": {},
   "outputs": [
    {
     "data": {
      "text/html": [
       "<div>\n",
       "<style scoped>\n",
       "    .dataframe tbody tr th:only-of-type {\n",
       "        vertical-align: middle;\n",
       "    }\n",
       "\n",
       "    .dataframe tbody tr th {\n",
       "        vertical-align: top;\n",
       "    }\n",
       "\n",
       "    .dataframe thead th {\n",
       "        text-align: right;\n",
       "    }\n",
       "</style>\n",
       "<table border=\"1\" class=\"dataframe\">\n",
       "  <thead>\n",
       "    <tr style=\"text-align: right;\">\n",
       "      <th></th>\n",
       "      <th>count</th>\n",
       "    </tr>\n",
       "  </thead>\n",
       "  <tbody>\n",
       "    <tr>\n",
       "      <th>WHITE HANGING HEART T-LIGHT HOLDER</th>\n",
       "      <td>921</td>\n",
       "    </tr>\n",
       "    <tr>\n",
       "      <th>REGENCY CAKESTAND 3 TIER</th>\n",
       "      <td>764</td>\n",
       "    </tr>\n",
       "    <tr>\n",
       "      <th>PARTY BUNTING</th>\n",
       "      <td>695</td>\n",
       "    </tr>\n",
       "    <tr>\n",
       "      <th>JUMBO BAG RED RETROSPOT</th>\n",
       "      <td>644</td>\n",
       "    </tr>\n",
       "    <tr>\n",
       "      <th>ASSORTED COLOUR BIRD ORNAMENT</th>\n",
       "      <td>625</td>\n",
       "    </tr>\n",
       "    <tr>\n",
       "      <th>...</th>\n",
       "      <td>...</td>\n",
       "    </tr>\n",
       "    <tr>\n",
       "      <th>SET/4 GARDEN ROSE DINNER CANDLE</th>\n",
       "      <td>1</td>\n",
       "    </tr>\n",
       "    <tr>\n",
       "      <th>BLUE MURANO TWIST BRACELET</th>\n",
       "      <td>1</td>\n",
       "    </tr>\n",
       "    <tr>\n",
       "      <th>LUSH GREENS RIBBONS</th>\n",
       "      <td>1</td>\n",
       "    </tr>\n",
       "    <tr>\n",
       "      <th>CUPID SCENTED CANDLE IN GLASS</th>\n",
       "      <td>1</td>\n",
       "    </tr>\n",
       "    <tr>\n",
       "      <th>GREEN WITH METAL BAG CHARM</th>\n",
       "      <td>1</td>\n",
       "    </tr>\n",
       "  </tbody>\n",
       "</table>\n",
       "<p>3570 rows × 1 columns</p>\n",
       "</div>"
      ],
      "text/plain": [
       "                                    count\n",
       "WHITE HANGING HEART T-LIGHT HOLDER    921\n",
       "REGENCY CAKESTAND 3 TIER              764\n",
       "PARTY BUNTING                         695\n",
       "JUMBO BAG RED RETROSPOT               644\n",
       "ASSORTED COLOUR BIRD ORNAMENT         625\n",
       "...                                   ...\n",
       "SET/4 GARDEN ROSE DINNER CANDLE         1\n",
       "BLUE MURANO TWIST BRACELET              1\n",
       "LUSH GREENS RIBBONS                     1\n",
       "CUPID SCENTED CANDLE IN GLASS           1\n",
       "GREEN WITH METAL BAG CHARM              1\n",
       "\n",
       "[3570 rows x 1 columns]"
      ]
     },
     "execution_count": 74,
     "metadata": {},
     "output_type": "execute_result"
    }
   ],
   "source": [
    "metro_product.rename(columns={'product_name':'count'},inplace=True)\n",
    "metro_product"
   ]
  },
  {
   "cell_type": "code",
   "execution_count": 78,
   "id": "4404589e",
   "metadata": {},
   "outputs": [
    {
     "data": {
      "text/plain": [
       "(array([ 0,  1,  2,  3,  4,  5,  6,  7,  8,  9, 10, 11, 12, 13, 14, 15, 16,\n",
       "        17, 18, 19]),\n",
       " [Text(0, 0, 'WHITE HANGING HEART T-LIGHT HOLDER'),\n",
       "  Text(1, 0, 'REGENCY CAKESTAND 3 TIER'),\n",
       "  Text(2, 0, 'PARTY BUNTING'),\n",
       "  Text(3, 0, 'JUMBO BAG RED RETROSPOT'),\n",
       "  Text(4, 0, 'ASSORTED COLOUR BIRD ORNAMENT'),\n",
       "  Text(5, 0, 'LUNCH BAG RED RETROSPOT'),\n",
       "  Text(6, 0, 'SET OF 3 CAKE TINS PANTRY DESIGN'),\n",
       "  Text(7, 0, 'SPOTTY BUNTING'),\n",
       "  Text(8, 0, 'LUNCH BAG  BLACK SKULL.'),\n",
       "  Text(9, 0, 'PACK OF 72 RETROSPOT CAKE CASES'),\n",
       "  Text(10, 0, 'NATURAL SLATE HEART CHALKBOARD'),\n",
       "  Text(11, 0, 'WOODEN PICTURE FRAME WHITE FINISH'),\n",
       "  Text(12, 0, 'HEART OF WICKER SMALL'),\n",
       "  Text(13, 0, 'LUNCH BAG PINK POLKADOT'),\n",
       "  Text(14, 0, 'LUNCH BAG SUKI DESIGN'),\n",
       "  Text(15, 0, 'RECIPE BOX PANTRY YELLOW DESIGN'),\n",
       "  Text(16, 0, 'VICTORIAN GLASS HANGING T-LIGHT'),\n",
       "  Text(17, 0, 'ROSES REGENCY TEACUP AND SAUCER'),\n",
       "  Text(18, 0, 'LUNCH BAG CARS BLUE'),\n",
       "  Text(19, 0, 'SET OF 4 PANTRY JELLY MOULDS')])"
      ]
     },
     "execution_count": 78,
     "metadata": {},
     "output_type": "execute_result"
    },
    {
     "data": {
      "image/png": "[encoded data removed]",
      "text/plain": [
       "<Figure size 800x550 with 1 Axes>"
      ]
     },
     "metadata": {},
     "output_type": "display_data"
    }
   ],
   "source": [
    "metro_product[:20].plot.bar();\n",
    "plt.xticks(rotation=90)"
   ]
  },
  {
   "cell_type": "code",
   "execution_count": 79,
   "id": "13ea3c4c",
   "metadata": {},
   "outputs": [
    {
     "data": {
      "text/plain": [
       "(array([ 0,  1,  2,  3,  4,  5,  6,  7,  8,  9, 10, 11, 12, 13, 14, 15, 16,\n",
       "        17, 18, 19]),\n",
       " [Text(0, 0, 'WHITE HANGING HEART T-LIGHT HOLDER'),\n",
       "  Text(1, 0, 'JUMBO BAG RED RETROSPOT'),\n",
       "  Text(2, 0, 'PARTY BUNTING'),\n",
       "  Text(3, 0, 'REGENCY CAKESTAND 3 TIER'),\n",
       "  Text(4, 0, 'LUNCH BAG RED RETROSPOT'),\n",
       "  Text(5, 0, 'SPOTTY BUNTING'),\n",
       "  Text(6, 0, 'LUNCH BAG CARS BLUE'),\n",
       "  Text(7, 0, 'ASSORTED COLOUR BIRD ORNAMENT'),\n",
       "  Text(8, 0, 'LUNCH BAG  BLACK SKULL.'),\n",
       "  Text(9, 0, 'JUMBO BAG PINK POLKADOT'),\n",
       "  Text(10, 0, 'LUNCH BAG SUKI DESIGN'),\n",
       "  Text(11, 0, 'LUNCH BAG SPACEBOY DESIGN'),\n",
       "  Text(12, 0, 'LUNCH BAG PINK POLKADOT'),\n",
       "  Text(13, 0, 'JUMBO STORAGE BAG SUKI'),\n",
       "  Text(14, 0, 'JUMBO BAG APPLES'),\n",
       "  Text(15, 0, 'SET OF 3 CAKE TINS PANTRY DESIGN'),\n",
       "  Text(16, 0, 'LUNCH BAG APPLE DESIGN'),\n",
       "  Text(17, 0, 'RED RETROSPOT CHARLOTTE BAG'),\n",
       "  Text(18, 0, 'JUMBO BAG VINTAGE LEAF'),\n",
       "  Text(19, 0, 'JUMBO  BAG BAROQUE BLACK WHITE')])"
      ]
     },
     "execution_count": 79,
     "metadata": {},
     "output_type": "execute_result"
    },
    {
     "data": {
      "image/png": "[encoded data removed]",
      "text/plain": [
       "<Figure size 800x550 with 1 Axes>"
      ]
     },
     "metadata": {},
     "output_type": "display_data"
    }
   ],
   "source": [
    "sightseeing_product=pd.DataFrame(df_sightseeing['product_name'].value_counts())\n",
    "sightseeing_product.sort_values(by = 'product_name', ascending = False)\n",
    "sightseeing_product.rename(columns={'product_name':'count'},inplace=True)\n",
    "sightseeing_product[:20].plot.bar();\n",
    "plt.xticks(rotation=90)"
   ]
  },
  {
   "cell_type": "code",
   "execution_count": 80,
   "id": "8a27d182",
   "metadata": {
    "scrolled": true
   },
   "outputs": [
    {
     "data": {
      "text/plain": [
       "(array([ 0,  1,  2,  3,  4,  5,  6,  7,  8,  9, 10, 11, 12, 13, 14, 15, 16,\n",
       "        17, 18, 19]),\n",
       " [Text(0, 0, 'WHITE HANGING HEART T-LIGHT HOLDER'),\n",
       "  Text(1, 0, 'PARTY BUNTING'),\n",
       "  Text(2, 0, 'JUMBO BAG RED RETROSPOT'),\n",
       "  Text(3, 0, 'REGENCY CAKESTAND 3 TIER'),\n",
       "  Text(4, 0, 'ASSORTED COLOUR BIRD ORNAMENT'),\n",
       "  Text(5, 0, 'SET OF 3 CAKE TINS PANTRY DESIGN'),\n",
       "  Text(6, 0, 'LUNCH BAG RED RETROSPOT'),\n",
       "  Text(7, 0, 'LUNCH BAG  BLACK SKULL.'),\n",
       "  Text(8, 0, 'SPOTTY BUNTING'),\n",
       "  Text(9, 0, 'SET OF 4 PANTRY JELLY MOULDS'),\n",
       "  Text(10, 0, 'NATURAL SLATE HEART CHALKBOARD'),\n",
       "  Text(11, 0, 'LUNCH BAG CARS BLUE'),\n",
       "  Text(12, 0, 'JUMBO BAG PINK POLKADOT'),\n",
       "  Text(13, 0, 'LUNCH BAG SPACEBOY DESIGN'),\n",
       "  Text(14, 0, 'JUMBO BAG ALPHABET'),\n",
       "  Text(15, 0, 'REX CASH+CARRY JUMBO SHOPPER'),\n",
       "  Text(16, 0, 'LUNCH BAG PINK POLKADOT'),\n",
       "  Text(17, 0, 'LUNCH BAG APPLE DESIGN'),\n",
       "  Text(18, 0, 'LUNCH BAG WOODLAND'),\n",
       "  Text(19, 0, 'JUMBO SHOPPER VINTAGE RED PAISLEY')])"
      ]
     },
     "execution_count": 80,
     "metadata": {},
     "output_type": "execute_result"
    },
    {
     "data": {
      "image/png": "[encoded data removed]",
      "text/plain": [
       "<Figure size 800x550 with 1 Axes>"
      ]
     },
     "metadata": {},
     "output_type": "display_data"
    }
   ],
   "source": [
    "other_product=pd.DataFrame(df_other['product_name'].value_counts())\n",
    "other_product.sort_values(by = 'product_name', ascending = False)\n",
    "other_product.rename(columns={'product_name':'count'},inplace=True)\n",
    "other_product[:20].plot.bar();\n",
    "plt.xticks(rotation=90)"
   ]
  },
  {
   "cell_type": "code",
   "execution_count": 81,
   "id": "2d9df854",
   "metadata": {
    "scrolled": false
   },
   "outputs": [
    {
     "data": {
      "text/html": [
       "<div>\n",
       "<style scoped>\n",
       "    .dataframe tbody tr th:only-of-type {\n",
       "        vertical-align: middle;\n",
       "    }\n",
       "\n",
       "    .dataframe tbody tr th {\n",
       "        vertical-align: top;\n",
       "    }\n",
       "\n",
       "    .dataframe thead th {\n",
       "        text-align: right;\n",
       "    }\n",
       "</style>\n",
       "<table border=\"1\" class=\"dataframe\">\n",
       "  <thead>\n",
       "    <tr style=\"text-align: right;\">\n",
       "      <th></th>\n",
       "      <th>invoice</th>\n",
       "      <th>product_code</th>\n",
       "      <th>product_name</th>\n",
       "      <th>quantity</th>\n",
       "      <th>date</th>\n",
       "      <th>unit_price</th>\n",
       "      <th>customer_id</th>\n",
       "      <th>sales</th>\n",
       "      <th>city</th>\n",
       "      <th>state</th>\n",
       "      <th>pop_thousand</th>\n",
       "      <th>land_sq_meter</th>\n",
       "      <th>pop_size</th>\n",
       "      <th>city_type</th>\n",
       "      <th>city_lctn</th>\n",
       "      <th>stock_type</th>\n",
       "      <th>month</th>\n",
       "      <th>days</th>\n",
       "    </tr>\n",
       "  </thead>\n",
       "  <tbody>\n",
       "    <tr>\n",
       "      <th>0</th>\n",
       "      <td>539993</td>\n",
       "      <td>22386</td>\n",
       "      <td>JUMBO BAG PINK POLKADOT</td>\n",
       "      <td>10</td>\n",
       "      <td>2021-01-04</td>\n",
       "      <td>1.95</td>\n",
       "      <td>E13313</td>\n",
       "      <td>19.5</td>\n",
       "      <td>Honolulu</td>\n",
       "      <td>HI</td>\n",
       "      <td>339</td>\n",
       "      <td>156</td>\n",
       "      <td>small</td>\n",
       "      <td>sightseeing</td>\n",
       "      <td>other</td>\n",
       "      <td>consignment</td>\n",
       "      <td>1</td>\n",
       "      <td>4</td>\n",
       "    </tr>\n",
       "    <tr>\n",
       "      <th>1</th>\n",
       "      <td>539993</td>\n",
       "      <td>21499</td>\n",
       "      <td>BLUE POLKADOT WRAP</td>\n",
       "      <td>25</td>\n",
       "      <td>2021-01-04</td>\n",
       "      <td>0.42</td>\n",
       "      <td>E13313</td>\n",
       "      <td>10.5</td>\n",
       "      <td>Honolulu</td>\n",
       "      <td>HI</td>\n",
       "      <td>339</td>\n",
       "      <td>156</td>\n",
       "      <td>small</td>\n",
       "      <td>sightseeing</td>\n",
       "      <td>other</td>\n",
       "      <td>consignment</td>\n",
       "      <td>1</td>\n",
       "      <td>4</td>\n",
       "    </tr>\n",
       "    <tr>\n",
       "      <th>2</th>\n",
       "      <td>539993</td>\n",
       "      <td>21498</td>\n",
       "      <td>RED RETROSPOT WRAP</td>\n",
       "      <td>25</td>\n",
       "      <td>2021-01-04</td>\n",
       "      <td>0.42</td>\n",
       "      <td>E13313</td>\n",
       "      <td>10.5</td>\n",
       "      <td>Honolulu</td>\n",
       "      <td>HI</td>\n",
       "      <td>339</td>\n",
       "      <td>156</td>\n",
       "      <td>small</td>\n",
       "      <td>sightseeing</td>\n",
       "      <td>other</td>\n",
       "      <td>consignment</td>\n",
       "      <td>1</td>\n",
       "      <td>4</td>\n",
       "    </tr>\n",
       "    <tr>\n",
       "      <th>3</th>\n",
       "      <td>539993</td>\n",
       "      <td>22379</td>\n",
       "      <td>RECYCLING BAG RETROSPOT</td>\n",
       "      <td>5</td>\n",
       "      <td>2021-01-04</td>\n",
       "      <td>2.10</td>\n",
       "      <td>E13313</td>\n",
       "      <td>10.5</td>\n",
       "      <td>Honolulu</td>\n",
       "      <td>HI</td>\n",
       "      <td>339</td>\n",
       "      <td>156</td>\n",
       "      <td>small</td>\n",
       "      <td>sightseeing</td>\n",
       "      <td>other</td>\n",
       "      <td>consignment</td>\n",
       "      <td>1</td>\n",
       "      <td>4</td>\n",
       "    </tr>\n",
       "    <tr>\n",
       "      <th>4</th>\n",
       "      <td>539993</td>\n",
       "      <td>20718</td>\n",
       "      <td>RED RETROSPOT SHOPPER BAG</td>\n",
       "      <td>10</td>\n",
       "      <td>2021-01-04</td>\n",
       "      <td>1.25</td>\n",
       "      <td>E13313</td>\n",
       "      <td>12.5</td>\n",
       "      <td>Honolulu</td>\n",
       "      <td>HI</td>\n",
       "      <td>339</td>\n",
       "      <td>156</td>\n",
       "      <td>small</td>\n",
       "      <td>sightseeing</td>\n",
       "      <td>other</td>\n",
       "      <td>consignment</td>\n",
       "      <td>1</td>\n",
       "      <td>4</td>\n",
       "    </tr>\n",
       "  </tbody>\n",
       "</table>\n",
       "</div>"
      ],
      "text/plain": [
       "  invoice product_code               product_name  quantity       date  \\\n",
       "0  539993        22386    JUMBO BAG PINK POLKADOT        10 2021-01-04   \n",
       "1  539993        21499         BLUE POLKADOT WRAP        25 2021-01-04   \n",
       "2  539993        21498         RED RETROSPOT WRAP        25 2021-01-04   \n",
       "3  539993        22379    RECYCLING BAG RETROSPOT         5 2021-01-04   \n",
       "4  539993        20718  RED RETROSPOT SHOPPER BAG        10 2021-01-04   \n",
       "\n",
       "   unit_price customer_id  sales      city state  pop_thousand  land_sq_meter  \\\n",
       "0        1.95      E13313   19.5  Honolulu    HI           339            156   \n",
       "1        0.42      E13313   10.5  Honolulu    HI           339            156   \n",
       "2        0.42      E13313   10.5  Honolulu    HI           339            156   \n",
       "3        2.10      E13313   10.5  Honolulu    HI           339            156   \n",
       "4        1.25      E13313   12.5  Honolulu    HI           339            156   \n",
       "\n",
       "  pop_size    city_type city_lctn   stock_type  month  days  \n",
       "0    small  sightseeing     other  consignment      1     4  \n",
       "1    small  sightseeing     other  consignment      1     4  \n",
       "2    small  sightseeing     other  consignment      1     4  \n",
       "3    small  sightseeing     other  consignment      1     4  \n",
       "4    small  sightseeing     other  consignment      1     4  "
      ]
     },
     "execution_count": 81,
     "metadata": {},
     "output_type": "execute_result"
    }
   ],
   "source": [
    "df.head()"
   ]
  },
  {
   "cell_type": "code",
   "execution_count": 84,
   "id": "bafbf591",
   "metadata": {},
   "outputs": [],
   "source": [
    "df_city=df.groupby('city')['invoice'].nunique()"
   ]
  },
  {
   "cell_type": "code",
   "execution_count": 85,
   "id": "63a7c8d4",
   "metadata": {},
   "outputs": [
    {
     "data": {
      "text/plain": [
       "city\n",
       "Chicago         1556\n",
       "Dallas           893\n",
       "Honolulu         140\n",
       "Houston         1512\n",
       "Las Vegas        434\n",
       "Los Angeles     2371\n",
       "Miami            281\n",
       "New York        4531\n",
       "Philadelphia     806\n",
       "Phoenix         1177\n",
       "San Antonio      736\n",
       "San Diego       1013\n",
       "San Jose         619\n",
       "Name: invoice, dtype: int64"
      ]
     },
     "execution_count": 85,
     "metadata": {},
     "output_type": "execute_result"
    }
   ],
   "source": [
    "df_city"
   ]
  },
  {
   "cell_type": "code",
   "execution_count": 87,
   "id": "7ae8904b",
   "metadata": {},
   "outputs": [],
   "source": [
    "df_city=df.groupby('city')['customer_id'].nunique()"
   ]
  },
  {
   "cell_type": "code",
   "execution_count": 88,
   "id": "eec0f3bf",
   "metadata": {},
   "outputs": [
    {
     "data": {
      "text/plain": [
       "city\n",
       "Chicago          344\n",
       "Dallas           186\n",
       "Honolulu          44\n",
       "Houston          278\n",
       "Las Vegas         88\n",
       "Los Angeles      513\n",
       "Miami             58\n",
       "New York        1000\n",
       "Philadelphia     184\n",
       "Phoenix          234\n",
       "San Antonio      204\n",
       "San Diego        188\n",
       "San Jose         137\n",
       "Name: customer_id, dtype: int64"
      ]
     },
     "execution_count": 88,
     "metadata": {},
     "output_type": "execute_result"
    }
   ],
   "source": [
    "df_city"
   ]
  },
  {
   "cell_type": "code",
   "execution_count": null,
   "id": "9dbf9933",
   "metadata": {},
   "outputs": [],
   "source": []
  }
 ],
 "metadata": {
  "kernelspec": {
   "display_name": "Python 3 (ipykernel)",
   "language": "python",
   "name": "python3"
  },
  "language_info": {
   "codemirror_mode": {
    "name": "ipython",
    "version": 3
   },
   "file_extension": ".py",
   "mimetype": "text/x-python",
   "name": "python",
   "nbconvert_exporter": "python",
   "pygments_lexer": "ipython3",
   "version": "3.9.13"
  }
 },
 "nbformat": 4,
 "nbformat_minor": 5
}
