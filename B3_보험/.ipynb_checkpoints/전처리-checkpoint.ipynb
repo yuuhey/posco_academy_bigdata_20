{
 "cells": [
  {
   "cell_type": "markdown",
   "id": "0f3ecfdb",
   "metadata": {},
   "source": [
    "# 데이터 전처리 및 파생변수 생성"
   ]
  },
  {
   "cell_type": "code",
   "execution_count": 1,
   "id": "0159af4a",
   "metadata": {},
   "outputs": [],
   "source": [
    "execfile('setting.py')"
   ]
  },
  {
   "cell_type": "code",
   "execution_count": 2,
   "id": "84112531",
   "metadata": {},
   "outputs": [],
   "source": [
    "df_i = pd.read_csv('/Users/bagdaemin/Desktop/eoals/Computer/python/posco/빅데이터/보험프로젝트/02_Data_set_보험.csv',encoding='euc-kr')\n",
    "df_l = pd.read_csv('/Users/bagdaemin/Desktop/eoals/Computer/python/posco/빅데이터/보험프로젝트/01_Data_set_대출.csv')"
   ]
  },
  {
   "cell_type": "code",
   "execution_count": 3,
   "id": "9d4c5c66",
   "metadata": {},
   "outputs": [
    {
     "data": {
      "text/html": [
       "<div>\n",
       "<style scoped>\n",
       "    .dataframe tbody tr th:only-of-type {\n",
       "        vertical-align: middle;\n",
       "    }\n",
       "\n",
       "    .dataframe tbody tr th {\n",
       "        vertical-align: top;\n",
       "    }\n",
       "\n",
       "    .dataframe thead th {\n",
       "        text-align: right;\n",
       "    }\n",
       "</style>\n",
       "<table border=\"1\" class=\"dataframe\">\n",
       "  <thead>\n",
       "    <tr style=\"text-align: right;\">\n",
       "      <th></th>\n",
       "      <th>CUST_ID</th>\n",
       "      <th>OCCP_NAME_G</th>\n",
       "      <th>CUST_JOB_INCM</th>\n",
       "      <th>HSHD_INFR_INCM</th>\n",
       "      <th>ACTL_FMLY_NUM</th>\n",
       "      <th>CUST_FMLY_NUM</th>\n",
       "      <th>LAST_CHLD_AGE</th>\n",
       "      <th>MATE_OCCP_NAME_G</th>\n",
       "      <th>MATE_JOB_INCM</th>\n",
       "      <th>CRDT_LOAN_CNT</th>\n",
       "      <th>...</th>\n",
       "      <th>LT1Y_CTLT_CNT</th>\n",
       "      <th>AUTR_FAIL_MCNT</th>\n",
       "      <th>FYCM_PAID_AMT</th>\n",
       "      <th>FMLY_CLAM_CNT</th>\n",
       "      <th>FMLY_PLPY_CNT</th>\n",
       "      <th>AGE</th>\n",
       "      <th>SEX</th>\n",
       "      <th>월 가구 소득</th>\n",
       "      <th>보장 월 비율</th>\n",
       "      <th>저축 월 비율</th>\n",
       "    </tr>\n",
       "  </thead>\n",
       "  <tbody>\n",
       "    <tr>\n",
       "      <th>0</th>\n",
       "      <td>3567</td>\n",
       "      <td>예체능계 종사자</td>\n",
       "      <td>3400</td>\n",
       "      <td>8200</td>\n",
       "      <td>5</td>\n",
       "      <td>2</td>\n",
       "      <td>19.0</td>\n",
       "      <td>예체능계 종사자</td>\n",
       "      <td>4900</td>\n",
       "      <td>0</td>\n",
       "      <td>...</td>\n",
       "      <td>0</td>\n",
       "      <td>9</td>\n",
       "      <td>10200000</td>\n",
       "      <td>24</td>\n",
       "      <td>12</td>\n",
       "      <td>50</td>\n",
       "      <td>2</td>\n",
       "      <td>6833333.333</td>\n",
       "      <td>58.536585</td>\n",
       "      <td>58.390244</td>\n",
       "    </tr>\n",
       "    <tr>\n",
       "      <th>1</th>\n",
       "      <td>31155</td>\n",
       "      <td>3차산업 종사자</td>\n",
       "      <td>3400</td>\n",
       "      <td>8300</td>\n",
       "      <td>4</td>\n",
       "      <td>3</td>\n",
       "      <td>24.0</td>\n",
       "      <td>자영업</td>\n",
       "      <td>4900</td>\n",
       "      <td>0</td>\n",
       "      <td>...</td>\n",
       "      <td>0</td>\n",
       "      <td>1</td>\n",
       "      <td>18000000</td>\n",
       "      <td>40</td>\n",
       "      <td>2</td>\n",
       "      <td>55</td>\n",
       "      <td>1</td>\n",
       "      <td>6916666.667</td>\n",
       "      <td>57.831325</td>\n",
       "      <td>43.228916</td>\n",
       "    </tr>\n",
       "    <tr>\n",
       "      <th>2</th>\n",
       "      <td>17280</td>\n",
       "      <td>사무직</td>\n",
       "      <td>2500</td>\n",
       "      <td>8500</td>\n",
       "      <td>2</td>\n",
       "      <td>1</td>\n",
       "      <td>0.0</td>\n",
       "      <td>NaN</td>\n",
       "      <td>0</td>\n",
       "      <td>0</td>\n",
       "      <td>...</td>\n",
       "      <td>0</td>\n",
       "      <td>7</td>\n",
       "      <td>0</td>\n",
       "      <td>0</td>\n",
       "      <td>0</td>\n",
       "      <td>30</td>\n",
       "      <td>1</td>\n",
       "      <td>7083333.333</td>\n",
       "      <td>11.152941</td>\n",
       "      <td>56.329412</td>\n",
       "    </tr>\n",
       "    <tr>\n",
       "      <th>3</th>\n",
       "      <td>13112</td>\n",
       "      <td>단순 사무직</td>\n",
       "      <td>4200</td>\n",
       "      <td>9300</td>\n",
       "      <td>4</td>\n",
       "      <td>2</td>\n",
       "      <td>24.0</td>\n",
       "      <td>NaN</td>\n",
       "      <td>0</td>\n",
       "      <td>0</td>\n",
       "      <td>...</td>\n",
       "      <td>0</td>\n",
       "      <td>1</td>\n",
       "      <td>0</td>\n",
       "      <td>0</td>\n",
       "      <td>4</td>\n",
       "      <td>50</td>\n",
       "      <td>2</td>\n",
       "      <td>7750000.000</td>\n",
       "      <td>51.612903</td>\n",
       "      <td>51.483871</td>\n",
       "    </tr>\n",
       "    <tr>\n",
       "      <th>4</th>\n",
       "      <td>92089</td>\n",
       "      <td>단순 사무직</td>\n",
       "      <td>4200</td>\n",
       "      <td>9600</td>\n",
       "      <td>4</td>\n",
       "      <td>2</td>\n",
       "      <td>29.0</td>\n",
       "      <td>사무직</td>\n",
       "      <td>5400</td>\n",
       "      <td>0</td>\n",
       "      <td>...</td>\n",
       "      <td>0</td>\n",
       "      <td>23</td>\n",
       "      <td>7000000</td>\n",
       "      <td>21</td>\n",
       "      <td>6</td>\n",
       "      <td>50</td>\n",
       "      <td>1</td>\n",
       "      <td>8000000.000</td>\n",
       "      <td>49.875000</td>\n",
       "      <td>49.875000</td>\n",
       "    </tr>\n",
       "  </tbody>\n",
       "</table>\n",
       "<p>5 rows × 42 columns</p>\n",
       "</div>"
      ],
      "text/plain": [
       "   CUST_ID OCCP_NAME_G  CUST_JOB_INCM  HSHD_INFR_INCM  ACTL_FMLY_NUM  \\\n",
       "0     3567    예체능계 종사자           3400            8200              5   \n",
       "1    31155    3차산업 종사자           3400            8300              4   \n",
       "2    17280         사무직           2500            8500              2   \n",
       "3    13112      단순 사무직           4200            9300              4   \n",
       "4    92089      단순 사무직           4200            9600              4   \n",
       "\n",
       "   CUST_FMLY_NUM  LAST_CHLD_AGE MATE_OCCP_NAME_G  MATE_JOB_INCM  \\\n",
       "0              2           19.0         예체능계 종사자           4900   \n",
       "1              3           24.0              자영업           4900   \n",
       "2              1            0.0              NaN              0   \n",
       "3              2           24.0              NaN              0   \n",
       "4              2           29.0              사무직           5400   \n",
       "\n",
       "   CRDT_LOAN_CNT  ...  LT1Y_CTLT_CNT  AUTR_FAIL_MCNT  FYCM_PAID_AMT  \\\n",
       "0              0  ...              0               9       10200000   \n",
       "1              0  ...              0               1       18000000   \n",
       "2              0  ...              0               7              0   \n",
       "3              0  ...              0               1              0   \n",
       "4              0  ...              0              23        7000000   \n",
       "\n",
       "   FMLY_CLAM_CNT  FMLY_PLPY_CNT  AGE  SEX      월 가구 소득    보장 월 비율    저축 월 비율  \n",
       "0             24             12   50    2  6833333.333  58.536585  58.390244  \n",
       "1             40              2   55    1  6916666.667  57.831325  43.228916  \n",
       "2              0              0   30    1  7083333.333  11.152941  56.329412  \n",
       "3              0              4   50    2  7750000.000  51.612903  51.483871  \n",
       "4             21              6   50    1  8000000.000  49.875000  49.875000  \n",
       "\n",
       "[5 rows x 42 columns]"
      ]
     },
     "execution_count": 3,
     "metadata": {},
     "output_type": "execute_result"
    }
   ],
   "source": [
    "df_i.head()"
   ]
  },
  {
   "cell_type": "markdown",
   "id": "25d2660a",
   "metadata": {},
   "source": [
    "## 컬럼삭제"
   ]
  },
  {
   "cell_type": "markdown",
   "id": "e702a438",
   "metadata": {},
   "source": [
    "### LAST_CHLD_AGE(막내자녀수)\n",
    "1. 나이보다 막내자녀 나이가 많은 경우 (696건)\n",
    "2. 실가족원수가 2명인데 막내자녀나이가 0 초과이며 배우자 직업이 있는경우 (11,665건)\n",
    "3. Null값 1,082건\n",
    "\n",
    "\n",
    "위와 같은 내용으로 컬럼을 삭제"
   ]
  },
  {
   "cell_type": "code",
   "execution_count": 4,
   "id": "330ba794",
   "metadata": {},
   "outputs": [],
   "source": [
    "df_i.drop('LAST_CHLD_AGE', axis=1, inplace=True)"
   ]
  },
  {
   "cell_type": "markdown",
   "id": "8d0d8101",
   "metadata": {},
   "source": [
    "### MATE_OCCP_NAME_G(배우자 직업)\n",
    "1. 실가족원수가 2명인데 막내자녀나이가 0 초과이며 배우자 직업이 있는 경우 (11,665건)\n",
    "2. Null값 45,000건\n",
    "\n",
    "위와 같은 내용으로 컬럼을 삭제"
   ]
  },
  {
   "cell_type": "code",
   "execution_count": 5,
   "id": "60ae9ab2",
   "metadata": {},
   "outputs": [],
   "source": [
    "df_i.drop('MATE_OCCP_NAME_G', axis=1, inplace=True)"
   ]
  },
  {
   "cell_type": "markdown",
   "id": "f048b9ae",
   "metadata": {},
   "source": [
    "### SEX(성별)\n",
    "1. 남자이면서 주부가 50%이상 존재\n",
    "\n",
    "위와 같은 내용으로 컬럼을 삭제"
   ]
  },
  {
   "cell_type": "code",
   "execution_count": 6,
   "id": "aaafc5f6",
   "metadata": {},
   "outputs": [],
   "source": [
    "df_i.drop('SEX', axis=1, inplace=True)"
   ]
  },
  {
   "cell_type": "markdown",
   "id": "8965d847",
   "metadata": {},
   "source": [
    "## 행삭제"
   ]
  },
  {
   "cell_type": "markdown",
   "id": "90e23acd",
   "metadata": {},
   "source": [
    "### HSHD_INFR_INCM (가구 추정 소득) < CUST_JOB_INCM (추정소득) \n",
    "492건, 행 삭제"
   ]
  },
  {
   "cell_type": "code",
   "execution_count": 7,
   "id": "7b843fd4",
   "metadata": {},
   "outputs": [],
   "source": [
    "index = df_i[df_i['HSHD_INFR_INCM'] < df_i['CUST_JOB_INCM']].index"
   ]
  },
  {
   "cell_type": "code",
   "execution_count": 8,
   "id": "408ddef2",
   "metadata": {},
   "outputs": [],
   "source": [
    "df_i.drop(index, axis=0, inplace=True)"
   ]
  },
  {
   "cell_type": "markdown",
   "id": "a8f3acac",
   "metadata": {},
   "source": [
    "### FMLY_CLAM_CNT (가구총보험금청구건수) 0건이지만 FYCM_PAID_AMT(가구총지급보험금액) 받은 경우\n",
    "7511건, 행 삭제"
   ]
  },
  {
   "cell_type": "code",
   "execution_count": 9,
   "id": "016c7789",
   "metadata": {},
   "outputs": [],
   "source": [
    "index = df_i[(df_i['FMLY_CLAM_CNT'] == 0) & (df_i['FYCM_PAID_AMT'] != 0)].index"
   ]
  },
  {
   "cell_type": "code",
   "execution_count": 10,
   "id": "90b70d98",
   "metadata": {},
   "outputs": [],
   "source": [
    "df_i.drop(index, axis=0, inplace=True)"
   ]
  },
  {
   "cell_type": "markdown",
   "id": "e38fdad1",
   "metadata": {},
   "source": [
    "### OCCP_NAME_G '*' 경향성 확인 어려움\n",
    "1044건, 행 삭제"
   ]
  },
  {
   "cell_type": "code",
   "execution_count": 11,
   "id": "d8c61776",
   "metadata": {},
   "outputs": [],
   "source": [
    "index = df_i[df_i['OCCP_NAME_G'] == '*'].index"
   ]
  },
  {
   "cell_type": "code",
   "execution_count": 12,
   "id": "39e3e6cf",
   "metadata": {
    "scrolled": true
   },
   "outputs": [],
   "source": [
    "df_i.drop(index, axis=0, inplace=True)"
   ]
  },
  {
   "cell_type": "markdown",
   "id": "c76410cf",
   "metadata": {},
   "source": [
    "### OCCP_NAME_G Null\n",
    "1044건, 행 삭제"
   ]
  },
  {
   "cell_type": "code",
   "execution_count": 13,
   "id": "c3a103f7",
   "metadata": {},
   "outputs": [],
   "source": [
    "index = df_i[df_i['OCCP_NAME_G'].isnull() == True].index"
   ]
  },
  {
   "cell_type": "code",
   "execution_count": 14,
   "id": "72eb74e0",
   "metadata": {},
   "outputs": [],
   "source": [
    "df_i.drop(index, axis=0, inplace=True)"
   ]
  },
  {
   "cell_type": "markdown",
   "id": "f9efc204",
   "metadata": {},
   "source": [
    "## 범주화"
   ]
  },
  {
   "cell_type": "markdown",
   "id": "1072356c",
   "metadata": {},
   "source": [
    "### CUST_JOB_INCM(추정 소득) 범주화"
   ]
  },
  {
   "cell_type": "code",
   "execution_count": 15,
   "id": "aaccc9f3",
   "metadata": {},
   "outputs": [
    {
     "data": {
      "text/plain": [
       "0            3000\n",
       "1            3000\n",
       "2         3000 미만\n",
       "3            4000\n",
       "4            4000\n",
       "           ...   \n",
       "100228    3000 미만\n",
       "100229    3000 미만\n",
       "100230    3000 미만\n",
       "100231    3000 미만\n",
       "100232    3000 미만\n",
       "Name: CUST_JOB_INCM, Length: 90732, dtype: object"
      ]
     },
     "execution_count": 15,
     "metadata": {},
     "output_type": "execute_result"
    }
   ],
   "source": [
    "def CUST_JOB_INCM_CAT(CUST_JOB_INCM):\n",
    "    if (CUST_JOB_INCM < 3000):\n",
    "        return '3000 미만'\n",
    "    elif (CUST_JOB_INCM < 4000):\n",
    "        return 3000\n",
    "    elif (CUST_JOB_INCM < 5000):\n",
    "        return 4000\n",
    "    elif (CUST_JOB_INCM < 6000):\n",
    "        return 5000\n",
    "    elif (CUST_JOB_INCM < 7000):\n",
    "        return 6000\n",
    "    elif (CUST_JOB_INCM < 8000):\n",
    "        return 7000\n",
    "    else:\n",
    "        return '8000 이상'\n",
    "    \n",
    "df_i['CUST_JOB_INCM'].apply(CUST_JOB_INCM_CAT)"
   ]
  },
  {
   "cell_type": "markdown",
   "id": "94673c25",
   "metadata": {},
   "source": [
    "### AGE(추정 소득) 범주화"
   ]
  },
  {
   "cell_type": "code",
   "execution_count": 25,
   "id": "86527824",
   "metadata": {},
   "outputs": [
    {
     "data": {
      "text/plain": [
       "0            50대\n",
       "1            50대\n",
       "2            30대\n",
       "3            50대\n",
       "4            50대\n",
       "           ...  \n",
       "100228    60대 이상\n",
       "100229       40대\n",
       "100230       50대\n",
       "100231       50대\n",
       "100232       40대\n",
       "Name: AGE, Length: 90732, dtype: object"
      ]
     },
     "execution_count": 25,
     "metadata": {},
     "output_type": "execute_result"
    }
   ],
   "source": [
    "df_i['AGE'] = df_i['AGE'].astype('int')\n",
    "\n",
    "def AGE_CAT(AGE):\n",
    "    \n",
    "    if (AGE < 30):\n",
    "        return '20대'\n",
    "    elif (AGE < 40):\n",
    "        return '30대'\n",
    "    elif (AGE < 50):\n",
    "        return '40대'\n",
    "    elif (AGE < 60):\n",
    "        return '50대'\n",
    "    else:\n",
    "        return '60대 이상'\n",
    "\n",
    "df_i['AGE'].apply(AGE_CAT)"
   ]
  },
  {
   "cell_type": "markdown",
   "id": "33dbc738",
   "metadata": {},
   "source": [
    "### HSHD_INFR_INCM(가구추정소득) 범주화"
   ]
  },
  {
   "cell_type": "code",
   "execution_count": 26,
   "id": "dba52d4f",
   "metadata": {},
   "outputs": [
    {
     "data": {
      "text/plain": [
       "0          8000\n",
       "1          8000\n",
       "2          8000\n",
       "3          9000\n",
       "4          9000\n",
       "          ...  \n",
       "100228    10000\n",
       "100229     7000\n",
       "100230     5000\n",
       "100231    10000\n",
       "100232     7000\n",
       "Name: HSHD_INFR_INCM, Length: 90732, dtype: object"
      ]
     },
     "execution_count": 26,
     "metadata": {},
     "output_type": "execute_result"
    }
   ],
   "source": [
    "def HSHD_INFR_INCM_CAT(HSHD_INFR_INCM):\n",
    "    if (HSHD_INFR_INCM < 3000):\n",
    "        return '3000 미만'\n",
    "    elif (HSHD_INFR_INCM < 4000):\n",
    "        return 3000\n",
    "    elif (HSHD_INFR_INCM < 5000):\n",
    "        return 4000\n",
    "    elif (HSHD_INFR_INCM < 6000):\n",
    "        return 5000\n",
    "    elif (HSHD_INFR_INCM < 7000):\n",
    "        return 6000\n",
    "    elif (HSHD_INFR_INCM < 8000):\n",
    "        return 7000\n",
    "    elif (HSHD_INFR_INCM < 9000):\n",
    "        return 8000\n",
    "    elif (HSHD_INFR_INCM < 10000):\n",
    "        return 9000\n",
    "    elif (HSHD_INFR_INCM < 11000):\n",
    "        return 10000\n",
    "    else:\n",
    "        return '11000 이상'\n",
    "\n",
    "    \n",
    "df_i['HSHD_INFR_INCM'].apply(HSHD_INFR_INCM_CAT)"
   ]
  },
  {
   "cell_type": "markdown",
   "id": "4ddbb1fc",
   "metadata": {},
   "source": [
    "## 파생변수 생성"
   ]
  },
  {
   "cell_type": "markdown",
   "id": "c1c0118f",
   "metadata": {},
   "source": [
    "### 실효 해지 여부 변수 생성 (TARGET_CANCEL)"
   ]
  },
  {
   "cell_type": "code",
   "execution_count": 39,
   "id": "8e94ff46",
   "metadata": {},
   "outputs": [],
   "source": [
    "def CNTT_LAMT_CNT_CHK(CNTT_LAMT_CNT):\n",
    "    if (CNTT_LAMT_CNT == 0):\n",
    "        return 0\n",
    "    else:\n",
    "        return 1\n",
    "\n",
    "df_i['TARGET_CANCEL'] = df_i['CNTT_LAMT_CNT'].apply(CNTT_LAMT_CNT_CHK)"
   ]
  },
  {
   "cell_type": "markdown",
   "id": "082bdc04",
   "metadata": {},
   "source": [
    "### 생명신용미대출금액 파생변수 생성 (TOT_UNREPY_AMT)"
   ]
  },
  {
   "cell_type": "code",
   "execution_count": 58,
   "id": "7f7fffd8",
   "metadata": {},
   "outputs": [],
   "source": [
    "df_i.reset_index(drop=True, inplace=True)"
   ]
  },
  {
   "cell_type": "code",
   "execution_count": 59,
   "id": "4e53758f",
   "metadata": {},
   "outputs": [],
   "source": [
    "for i in range(df_i.shape[0]):\n",
    "    df_i['TOT_UNREPY_AMT'] = df_i['TOT_CRLN_AMT'][i] -  df_i['TOT_REPY_AMT'][i]"
   ]
  },
  {
   "cell_type": "markdown",
   "id": "1918b99e",
   "metadata": {},
   "source": [
    "### 최초, 최근신용등급 차이 파생변수 생성(CRDT_GRAD_DIFF)"
   ]
  },
  {
   "cell_type": "code",
   "execution_count": 65,
   "id": "8da9b4c1",
   "metadata": {},
   "outputs": [],
   "source": [
    "for i in range(df_i.shape[0]):\n",
    "    df_i['CRDT_GRAD_DIFF'] = df_i['STRT_CRDT_GRAD'][i] -  df_i['LTST_CRDT_GRAD'][i]"
   ]
  },
  {
   "cell_type": "markdown",
   "id": "501a3803",
   "metadata": {},
   "source": [
    "## 대출 파일과 Merge"
   ]
  },
  {
   "cell_type": "code",
   "execution_count": 67,
   "id": "d1863a6c",
   "metadata": {},
   "outputs": [],
   "source": [
    "df = pd.merge(left=df_i, right=df_l, how='left', on='CUST_ID')"
   ]
  },
  {
   "cell_type": "markdown",
   "id": "498934fb",
   "metadata": {},
   "source": [
    "## 내보내기"
   ]
  },
  {
   "cell_type": "code",
   "execution_count": 68,
   "id": "e164d012",
   "metadata": {},
   "outputs": [],
   "source": [
    "df.to_csv('보험_대출.csv', encoding='euc-kr')"
   ]
  },
  {
   "cell_type": "code",
   "execution_count": null,
   "id": "8611fe08",
   "metadata": {},
   "outputs": [],
   "source": []
  }
 ],
 "metadata": {
  "kernelspec": {
   "display_name": "Python 3 (ipykernel)",
   "language": "python",
   "name": "python3"
  },
  "language_info": {
   "codemirror_mode": {
    "name": "ipython",
    "version": 3
   },
   "file_extension": ".py",
   "mimetype": "text/x-python",
   "name": "python",
   "nbconvert_exporter": "python",
   "pygments_lexer": "ipython3",
   "version": "3.8.15"
  },
  "toc": {
   "base_numbering": 1,
   "nav_menu": {},
   "number_sections": true,
   "sideBar": true,
   "skip_h1_title": false,
   "title_cell": "Table of Contents",
   "title_sidebar": "Contents",
   "toc_cell": false,
   "toc_position": {
    "height": "calc(100% - 180px)",
    "left": "10px",
    "top": "150px",
    "width": "384px"
   },
   "toc_section_display": true,
   "toc_window_display": true
  }
 },
 "nbformat": 4,
 "nbformat_minor": 5
}
