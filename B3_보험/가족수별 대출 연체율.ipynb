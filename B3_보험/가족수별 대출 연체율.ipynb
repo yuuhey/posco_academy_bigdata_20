{
 "cells": [
  {
   "cell_type": "code",
   "execution_count": 31,
   "id": "923a8dce",
   "metadata": {},
   "outputs": [],
   "source": [
    "execfile('setting.py')\n",
    "\n",
    "df = pd.read_csv('보험_대출.csv', encoding='euc-kr')"
   ]
  },
  {
   "cell_type": "code",
   "execution_count": 32,
   "id": "95c2c356",
   "metadata": {},
   "outputs": [],
   "source": [
    "def ACTL_FMLY_NU_CAT(ACTL_FMLY_NU):\n",
    "    if (ACTL_FMLY_NU < 4):\n",
    "        return '3명 이하'\n",
    "    elif (ACTL_FMLY_NU < 6):\n",
    "        return '4~5명 이하'\n",
    "    else:\n",
    "        return '6명 이상'"
   ]
  },
  {
   "cell_type": "code",
   "execution_count": 33,
   "id": "1e9f5fd9",
   "metadata": {},
   "outputs": [],
   "source": [
    "df['ACTL_FMLY_NU_CAT'] = df['ACTL_FMLY_NUM'].apply(ACTL_FMLY_NU_CAT)"
   ]
  },
  {
   "cell_type": "code",
   "execution_count": 35,
   "id": "21039107",
   "metadata": {},
   "outputs": [],
   "source": [
    "cross = pd.crosstab(index=df['ACTL_FMLY_NU_CAT'], columns=df['TARGET'])\n",
    "cross['rate'] = cross[1] / (cross[0] + cross[1]) * 100"
   ]
  },
  {
   "cell_type": "code",
   "execution_count": 36,
   "id": "f96d5741",
   "metadata": {},
   "outputs": [
    {
     "data": {
      "text/html": [
       "<div>\n",
       "<style scoped>\n",
       "    .dataframe tbody tr th:only-of-type {\n",
       "        vertical-align: middle;\n",
       "    }\n",
       "\n",
       "    .dataframe tbody tr th {\n",
       "        vertical-align: top;\n",
       "    }\n",
       "\n",
       "    .dataframe thead th {\n",
       "        text-align: right;\n",
       "    }\n",
       "</style>\n",
       "<table border=\"1\" class=\"dataframe\">\n",
       "  <thead>\n",
       "    <tr style=\"text-align: right;\">\n",
       "      <th>TARGET</th>\n",
       "      <th>0</th>\n",
       "      <th>1</th>\n",
       "      <th>rate</th>\n",
       "    </tr>\n",
       "    <tr>\n",
       "      <th>ACTL_FMLY_NU_CAT</th>\n",
       "      <th></th>\n",
       "      <th></th>\n",
       "      <th></th>\n",
       "    </tr>\n",
       "  </thead>\n",
       "  <tbody>\n",
       "    <tr>\n",
       "      <th>3명 이하</th>\n",
       "      <td>59309</td>\n",
       "      <td>2699</td>\n",
       "      <td>4.352664</td>\n",
       "    </tr>\n",
       "    <tr>\n",
       "      <th>4~5명 이하</th>\n",
       "      <td>25875</td>\n",
       "      <td>1135</td>\n",
       "      <td>4.202147</td>\n",
       "    </tr>\n",
       "    <tr>\n",
       "      <th>6명 이상</th>\n",
       "      <td>1636</td>\n",
       "      <td>78</td>\n",
       "      <td>4.550758</td>\n",
       "    </tr>\n",
       "  </tbody>\n",
       "</table>\n",
       "</div>"
      ],
      "text/plain": [
       "TARGET                0     1      rate\n",
       "ACTL_FMLY_NU_CAT                       \n",
       "3명 이하             59309  2699  4.352664\n",
       "4~5명 이하           25875  1135  4.202147\n",
       "6명 이상              1636    78  4.550758"
      ]
     },
     "execution_count": 36,
     "metadata": {},
     "output_type": "execute_result"
    }
   ],
   "source": [
    "cross"
   ]
  },
  {
   "cell_type": "code",
   "execution_count": 37,
   "id": "d8fd29bf",
   "metadata": {},
   "outputs": [
    {
     "name": "stdout",
     "output_type": "stream",
     "text": [
      "chi-square test\n",
      "해지 비율 차이가 존재한다.\n",
      "p-value 4.0664992056926256e-16\n",
      "검정통계량 78.2614423186103\n"
     ]
    }
   ],
   "source": [
    "chi,p,dof,expected=stats.chi2_contingency(cross)\n",
    "if(0.05 > p):\n",
    "    print('chi-square test')\n",
    "    print('해지 비율 차이가 존재한다.')\n",
    "else:\n",
    "    print('해지 비율 차이가 존재하지 않는다.')\n",
    "print('p-value {}'.format(p))\n",
    "print('검정통계량 {}'.format(chi))"
   ]
  },
  {
   "cell_type": "code",
   "execution_count": 38,
   "id": "bf693c69",
   "metadata": {},
   "outputs": [
    {
     "data": {
      "text/plain": [
       "<AxesSubplot:ylabel='Frequency'>"
      ]
     },
     "execution_count": 38,
     "metadata": {},
     "output_type": "execute_result"
    },
    {
     "data": {
      "image/png": "[encoded data removed]",
      "text/plain": [
       "<Figure size 640x480 with 1 Axes>"
      ]
     },
     "metadata": {},
     "output_type": "display_data"
    }
   ],
   "source": [
    "cross.plot.hist()"
   ]
  },
  {
   "cell_type": "code",
   "execution_count": null,
   "id": "2e45c3b2",
   "metadata": {},
   "outputs": [],
   "source": []
  }
 ],
 "metadata": {
  "kernelspec": {
   "display_name": "Python 3 (ipykernel)",
   "language": "python",
   "name": "python3"
  },
  "language_info": {
   "codemirror_mode": {
    "name": "ipython",
    "version": 3
   },
   "file_extension": ".py",
   "mimetype": "text/x-python",
   "name": "python",
   "nbconvert_exporter": "python",
   "pygments_lexer": "ipython3",
   "version": "3.9.12"
  },
  "toc": {
   "base_numbering": 1,
   "nav_menu": {},
   "number_sections": true,
   "sideBar": true,
   "skip_h1_title": false,
   "title_cell": "Table of Contents",
   "title_sidebar": "Contents",
   "toc_cell": false,
   "toc_position": {},
   "toc_section_display": true,
   "toc_window_display": false
  }
 },
 "nbformat": 4,
 "nbformat_minor": 5
}
