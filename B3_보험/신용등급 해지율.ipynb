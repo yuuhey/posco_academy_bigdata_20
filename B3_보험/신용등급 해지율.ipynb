{
 "cells": [
  {
   "cell_type": "code",
   "execution_count": 30,
   "id": "a0055655",
   "metadata": {},
   "outputs": [],
   "source": [
    "execfile('setting.py')\n",
    "\n",
    "df = pd.read_csv('보험_대출.csv', encoding='euc-kr')"
   ]
  },
  {
   "cell_type": "markdown",
   "id": "3e026a4f",
   "metadata": {},
   "source": [
    "# 해지율 확인"
   ]
  },
  {
   "cell_type": "code",
   "execution_count": 31,
   "id": "7e46b2b2",
   "metadata": {},
   "outputs": [],
   "source": [
    "def CRDT_GRAD_DIFF_CAT(CRDT_GRAD_DIFF):\n",
    "    if (CRDT_GRAD_DIFF == 0):\n",
    "        return 0\n",
    "    elif (CRDT_GRAD_DIFF > 0):\n",
    "        return 1\n",
    "    else:\n",
    "        return -1\n",
    "    \n",
    "def CRDT_GRAD_DIFF_CAT2(CRDT_GRAD_DIFF):\n",
    "    if (CRDT_GRAD_DIFF <= -2):\n",
    "        return -2\n",
    "    elif (CRDT_GRAD_DIFF >= 2):\n",
    "        return 2\n",
    "    else:\n",
    "        return CRDT_GRAD_DIFF"
   ]
  },
  {
   "cell_type": "code",
   "execution_count": 32,
   "id": "6b2c4ef1",
   "metadata": {},
   "outputs": [],
   "source": [
    "df['check1'] = df['CRDT_GRAD_DIFF'].apply(CRDT_GRAD_DIFF_CAT)\n",
    "df['check2'] = df['CRDT_GRAD_DIFF'].apply(CRDT_GRAD_DIFF_CAT2)"
   ]
  },
  {
   "cell_type": "code",
   "execution_count": 33,
   "id": "4a323f09",
   "metadata": {},
   "outputs": [],
   "source": [
    "cross = pd.crosstab(index=a['check'], columns=a['TARGET_CANCEL'])\n",
    "cross1 = pd.crosstab(index=a['check1'], columns=a['TARGET_CANCEL'])\n",
    "cross2 = pd.crosstab(index=a['check2'], columns=a['TARGET_CANCEL'])"
   ]
  },
  {
   "cell_type": "code",
   "execution_count": 34,
   "id": "1868edf3",
   "metadata": {},
   "outputs": [
    {
     "data": {
      "text/html": [
       "<div>\n",
       "<style scoped>\n",
       "    .dataframe tbody tr th:only-of-type {\n",
       "        vertical-align: middle;\n",
       "    }\n",
       "\n",
       "    .dataframe tbody tr th {\n",
       "        vertical-align: top;\n",
       "    }\n",
       "\n",
       "    .dataframe thead th {\n",
       "        text-align: right;\n",
       "    }\n",
       "</style>\n",
       "<table border=\"1\" class=\"dataframe\">\n",
       "  <thead>\n",
       "    <tr style=\"text-align: right;\">\n",
       "      <th>TARGET_CANCEL</th>\n",
       "      <th>0.0</th>\n",
       "      <th>1.0</th>\n",
       "    </tr>\n",
       "    <tr>\n",
       "      <th>check</th>\n",
       "      <th></th>\n",
       "      <th></th>\n",
       "    </tr>\n",
       "  </thead>\n",
       "  <tbody>\n",
       "    <tr>\n",
       "      <th>-10.0</th>\n",
       "      <td>90</td>\n",
       "      <td>7</td>\n",
       "    </tr>\n",
       "    <tr>\n",
       "      <th>-9.0</th>\n",
       "      <td>70</td>\n",
       "      <td>5</td>\n",
       "    </tr>\n",
       "    <tr>\n",
       "      <th>-8.0</th>\n",
       "      <td>157</td>\n",
       "      <td>14</td>\n",
       "    </tr>\n",
       "    <tr>\n",
       "      <th>-7.0</th>\n",
       "      <td>230</td>\n",
       "      <td>22</td>\n",
       "    </tr>\n",
       "    <tr>\n",
       "      <th>-6.0</th>\n",
       "      <td>386</td>\n",
       "      <td>39</td>\n",
       "    </tr>\n",
       "    <tr>\n",
       "      <th>-5.0</th>\n",
       "      <td>314</td>\n",
       "      <td>31</td>\n",
       "    </tr>\n",
       "    <tr>\n",
       "      <th>-4.0</th>\n",
       "      <td>306</td>\n",
       "      <td>34</td>\n",
       "    </tr>\n",
       "    <tr>\n",
       "      <th>-3.0</th>\n",
       "      <td>438</td>\n",
       "      <td>51</td>\n",
       "    </tr>\n",
       "    <tr>\n",
       "      <th>-2.0</th>\n",
       "      <td>774</td>\n",
       "      <td>92</td>\n",
       "    </tr>\n",
       "    <tr>\n",
       "      <th>-1.0</th>\n",
       "      <td>978</td>\n",
       "      <td>97</td>\n",
       "    </tr>\n",
       "    <tr>\n",
       "      <th>0.0</th>\n",
       "      <td>85887</td>\n",
       "      <td>7748</td>\n",
       "    </tr>\n",
       "    <tr>\n",
       "      <th>1.0</th>\n",
       "      <td>200</td>\n",
       "      <td>16</td>\n",
       "    </tr>\n",
       "    <tr>\n",
       "      <th>2.0</th>\n",
       "      <td>47</td>\n",
       "      <td>4</td>\n",
       "    </tr>\n",
       "    <tr>\n",
       "      <th>3.0</th>\n",
       "      <td>16</td>\n",
       "      <td>5</td>\n",
       "    </tr>\n",
       "    <tr>\n",
       "      <th>4.0</th>\n",
       "      <td>3</td>\n",
       "      <td>1</td>\n",
       "    </tr>\n",
       "  </tbody>\n",
       "</table>\n",
       "</div>"
      ],
      "text/plain": [
       "TARGET_CANCEL    0.0   1.0\n",
       "check                     \n",
       "-10.0             90     7\n",
       "-9.0              70     5\n",
       "-8.0             157    14\n",
       "-7.0             230    22\n",
       "-6.0             386    39\n",
       "-5.0             314    31\n",
       "-4.0             306    34\n",
       "-3.0             438    51\n",
       "-2.0             774    92\n",
       "-1.0             978    97\n",
       " 0.0           85887  7748\n",
       " 1.0             200    16\n",
       " 2.0              47     4\n",
       " 3.0              16     5\n",
       " 4.0               3     1"
      ]
     },
     "execution_count": 34,
     "metadata": {},
     "output_type": "execute_result"
    }
   ],
   "source": [
    "cross"
   ]
  },
  {
   "cell_type": "code",
   "execution_count": 35,
   "id": "ae0490bf",
   "metadata": {},
   "outputs": [
    {
     "data": {
      "text/html": [
       "<div>\n",
       "<style scoped>\n",
       "    .dataframe tbody tr th:only-of-type {\n",
       "        vertical-align: middle;\n",
       "    }\n",
       "\n",
       "    .dataframe tbody tr th {\n",
       "        vertical-align: top;\n",
       "    }\n",
       "\n",
       "    .dataframe thead th {\n",
       "        text-align: right;\n",
       "    }\n",
       "</style>\n",
       "<table border=\"1\" class=\"dataframe\">\n",
       "  <thead>\n",
       "    <tr style=\"text-align: right;\">\n",
       "      <th>TARGET_CANCEL</th>\n",
       "      <th>0.0</th>\n",
       "      <th>1.0</th>\n",
       "    </tr>\n",
       "    <tr>\n",
       "      <th>check1</th>\n",
       "      <th></th>\n",
       "      <th></th>\n",
       "    </tr>\n",
       "  </thead>\n",
       "  <tbody>\n",
       "    <tr>\n",
       "      <th>-1</th>\n",
       "      <td>3743</td>\n",
       "      <td>392</td>\n",
       "    </tr>\n",
       "    <tr>\n",
       "      <th>0</th>\n",
       "      <td>85887</td>\n",
       "      <td>7748</td>\n",
       "    </tr>\n",
       "    <tr>\n",
       "      <th>1</th>\n",
       "      <td>266</td>\n",
       "      <td>26</td>\n",
       "    </tr>\n",
       "  </tbody>\n",
       "</table>\n",
       "</div>"
      ],
      "text/plain": [
       "TARGET_CANCEL    0.0   1.0\n",
       "check1                    \n",
       "-1              3743   392\n",
       " 0             85887  7748\n",
       " 1               266    26"
      ]
     },
     "execution_count": 35,
     "metadata": {},
     "output_type": "execute_result"
    }
   ],
   "source": [
    "cross1"
   ]
  },
  {
   "cell_type": "code",
   "execution_count": 36,
   "id": "ce5c265a",
   "metadata": {},
   "outputs": [
    {
     "data": {
      "text/html": [
       "<div>\n",
       "<style scoped>\n",
       "    .dataframe tbody tr th:only-of-type {\n",
       "        vertical-align: middle;\n",
       "    }\n",
       "\n",
       "    .dataframe tbody tr th {\n",
       "        vertical-align: top;\n",
       "    }\n",
       "\n",
       "    .dataframe thead th {\n",
       "        text-align: right;\n",
       "    }\n",
       "</style>\n",
       "<table border=\"1\" class=\"dataframe\">\n",
       "  <thead>\n",
       "    <tr style=\"text-align: right;\">\n",
       "      <th>TARGET_CANCEL</th>\n",
       "      <th>0.0</th>\n",
       "      <th>1.0</th>\n",
       "    </tr>\n",
       "    <tr>\n",
       "      <th>check2</th>\n",
       "      <th></th>\n",
       "      <th></th>\n",
       "    </tr>\n",
       "  </thead>\n",
       "  <tbody>\n",
       "    <tr>\n",
       "      <th>-2.0</th>\n",
       "      <td>2765</td>\n",
       "      <td>295</td>\n",
       "    </tr>\n",
       "    <tr>\n",
       "      <th>-1.0</th>\n",
       "      <td>978</td>\n",
       "      <td>97</td>\n",
       "    </tr>\n",
       "    <tr>\n",
       "      <th>0.0</th>\n",
       "      <td>85887</td>\n",
       "      <td>7748</td>\n",
       "    </tr>\n",
       "    <tr>\n",
       "      <th>1.0</th>\n",
       "      <td>200</td>\n",
       "      <td>16</td>\n",
       "    </tr>\n",
       "    <tr>\n",
       "      <th>2.0</th>\n",
       "      <td>66</td>\n",
       "      <td>10</td>\n",
       "    </tr>\n",
       "  </tbody>\n",
       "</table>\n",
       "</div>"
      ],
      "text/plain": [
       "TARGET_CANCEL    0.0   1.0\n",
       "check2                    \n",
       "-2.0            2765   295\n",
       "-1.0             978    97\n",
       " 0.0           85887  7748\n",
       " 1.0             200    16\n",
       " 2.0              66    10"
      ]
     },
     "execution_count": 36,
     "metadata": {},
     "output_type": "execute_result"
    }
   ],
   "source": [
    "cross2"
   ]
  },
  {
   "cell_type": "code",
   "execution_count": 37,
   "id": "15f0cdf8",
   "metadata": {},
   "outputs": [
    {
     "name": "stdout",
     "output_type": "stream",
     "text": [
      "해지 비율 차이가 존재하지 않는다.\n",
      "p-value 0.11605388744729811\n",
      "검정통계량 20.468330809965128\n"
     ]
    }
   ],
   "source": [
    "chi,p,dof,expected=stats.chi2_contingency(cross)\n",
    "if(0.05 > p):\n",
    "    print('chi-square test')\n",
    "    print('해지 비율 차이가 존재한다.')\n",
    "else:\n",
    "    print('해지 비율 차이가 존재하지 않는다.')\n",
    "print('p-value {}'.format(p))\n",
    "print('검정통계량 {}'.format(chi))"
   ]
  },
  {
   "cell_type": "code",
   "execution_count": 38,
   "id": "d56d0ef7",
   "metadata": {},
   "outputs": [
    {
     "name": "stdout",
     "output_type": "stream",
     "text": [
      "chi-square test\n",
      "해지 비율 차이가 존재한다.\n",
      "0.021660003371905993\n"
     ]
    }
   ],
   "source": [
    "chi,p,dof,expected=stats.chi2_contingency(cross1)\n",
    "if(0.05 > p):\n",
    "    print('chi-square test')\n",
    "    print('해지 비율 차이가 존재한다.')\n",
    "else:\n",
    "    print('해지 비율 차이가 존재하지 않는다.')\n",
    "print(p)"
   ]
  },
  {
   "cell_type": "code",
   "execution_count": 23,
   "id": "d6478ecc",
   "metadata": {},
   "outputs": [
    {
     "name": "stdout",
     "output_type": "stream",
     "text": [
      "chi-square test\n",
      "최초신용등급과 최근신용등급간의 변화는 보험 해지 비율 차이가 존재한다.\n",
      "p_value : 0.0\n",
      "검정통계량 4701.776\n"
     ]
    }
   ],
   "source": [
    "chi,p,dof,expected=stats.chi2_contingency(cross2)\n",
    "if(0.05 > p):\n",
    "    print('chi-square test')\n",
    "    print('최초신용등급과 최근신용등급간의 변화는 보험 해지 비율 차이가 존재한다.')\n",
    "else:\n",
    "    print('해지 비율 차이가 존재하지 않는다.')\n",
    "print('p_value : {}'.format(p.round(3)))\n",
    "print('검정통계량 {}'.format(chi.round(3)))"
   ]
  },
  {
   "cell_type": "code",
   "execution_count": 11,
   "id": "7fe2061d",
   "metadata": {},
   "outputs": [
    {
     "data": {
      "text/plain": [
       "<AxesSubplot:ylabel='Frequency'>"
      ]
     },
     "execution_count": 11,
     "metadata": {},
     "output_type": "execute_result"
    },
    {
     "data": {
      "image/png": "[encoded data removed]",
      "text/plain": [
       "<Figure size 640x480 with 1 Axes>"
      ]
     },
     "metadata": {},
     "output_type": "display_data"
    }
   ],
   "source": [
    "cross2.plot.hist()"
   ]
  },
  {
   "cell_type": "code",
   "execution_count": 12,
   "id": "a94081bc",
   "metadata": {},
   "outputs": [],
   "source": [
    "cross['rate'] = cross[1] / (cross[0] + cross[1]) * 100"
   ]
  },
  {
   "cell_type": "code",
   "execution_count": 13,
   "id": "fd5ebf21",
   "metadata": {},
   "outputs": [],
   "source": [
    "cross1['rate'] = cross1[1] / (cross1[0] + cross1[1]) * 100"
   ]
  },
  {
   "cell_type": "code",
   "execution_count": 14,
   "id": "fdb326e7",
   "metadata": {},
   "outputs": [],
   "source": [
    "cross2['rate'] = cross2[1] / (cross2[0] + cross2[1]) * 100"
   ]
  },
  {
   "cell_type": "code",
   "execution_count": 15,
   "id": "9c2d3138",
   "metadata": {},
   "outputs": [
    {
     "data": {
      "text/html": [
       "<div>\n",
       "<style scoped>\n",
       "    .dataframe tbody tr th:only-of-type {\n",
       "        vertical-align: middle;\n",
       "    }\n",
       "\n",
       "    .dataframe tbody tr th {\n",
       "        vertical-align: top;\n",
       "    }\n",
       "\n",
       "    .dataframe thead th {\n",
       "        text-align: right;\n",
       "    }\n",
       "</style>\n",
       "<table border=\"1\" class=\"dataframe\">\n",
       "  <thead>\n",
       "    <tr style=\"text-align: right;\">\n",
       "      <th>TARGET_CANCEL</th>\n",
       "      <th>0.0</th>\n",
       "      <th>1.0</th>\n",
       "      <th>rate</th>\n",
       "    </tr>\n",
       "    <tr>\n",
       "      <th>check</th>\n",
       "      <th></th>\n",
       "      <th></th>\n",
       "      <th></th>\n",
       "    </tr>\n",
       "  </thead>\n",
       "  <tbody>\n",
       "    <tr>\n",
       "      <th>-10.0</th>\n",
       "      <td>90</td>\n",
       "      <td>7</td>\n",
       "      <td>7.216495</td>\n",
       "    </tr>\n",
       "    <tr>\n",
       "      <th>-9.0</th>\n",
       "      <td>70</td>\n",
       "      <td>5</td>\n",
       "      <td>6.666667</td>\n",
       "    </tr>\n",
       "    <tr>\n",
       "      <th>-8.0</th>\n",
       "      <td>157</td>\n",
       "      <td>14</td>\n",
       "      <td>8.187135</td>\n",
       "    </tr>\n",
       "    <tr>\n",
       "      <th>-7.0</th>\n",
       "      <td>230</td>\n",
       "      <td>22</td>\n",
       "      <td>8.730159</td>\n",
       "    </tr>\n",
       "    <tr>\n",
       "      <th>-6.0</th>\n",
       "      <td>386</td>\n",
       "      <td>39</td>\n",
       "      <td>9.176471</td>\n",
       "    </tr>\n",
       "    <tr>\n",
       "      <th>-5.0</th>\n",
       "      <td>314</td>\n",
       "      <td>31</td>\n",
       "      <td>8.985507</td>\n",
       "    </tr>\n",
       "    <tr>\n",
       "      <th>-4.0</th>\n",
       "      <td>306</td>\n",
       "      <td>34</td>\n",
       "      <td>10.000000</td>\n",
       "    </tr>\n",
       "    <tr>\n",
       "      <th>-3.0</th>\n",
       "      <td>438</td>\n",
       "      <td>51</td>\n",
       "      <td>10.429448</td>\n",
       "    </tr>\n",
       "    <tr>\n",
       "      <th>-2.0</th>\n",
       "      <td>774</td>\n",
       "      <td>92</td>\n",
       "      <td>10.623557</td>\n",
       "    </tr>\n",
       "    <tr>\n",
       "      <th>-1.0</th>\n",
       "      <td>978</td>\n",
       "      <td>97</td>\n",
       "      <td>9.023256</td>\n",
       "    </tr>\n",
       "    <tr>\n",
       "      <th>0.0</th>\n",
       "      <td>85887</td>\n",
       "      <td>7748</td>\n",
       "      <td>8.274684</td>\n",
       "    </tr>\n",
       "    <tr>\n",
       "      <th>1.0</th>\n",
       "      <td>200</td>\n",
       "      <td>16</td>\n",
       "      <td>7.407407</td>\n",
       "    </tr>\n",
       "    <tr>\n",
       "      <th>2.0</th>\n",
       "      <td>47</td>\n",
       "      <td>4</td>\n",
       "      <td>7.843137</td>\n",
       "    </tr>\n",
       "    <tr>\n",
       "      <th>3.0</th>\n",
       "      <td>16</td>\n",
       "      <td>5</td>\n",
       "      <td>23.809524</td>\n",
       "    </tr>\n",
       "    <tr>\n",
       "      <th>4.0</th>\n",
       "      <td>3</td>\n",
       "      <td>1</td>\n",
       "      <td>25.000000</td>\n",
       "    </tr>\n",
       "  </tbody>\n",
       "</table>\n",
       "</div>"
      ],
      "text/plain": [
       "TARGET_CANCEL    0.0   1.0       rate\n",
       "check                                \n",
       "-10.0             90     7   7.216495\n",
       "-9.0              70     5   6.666667\n",
       "-8.0             157    14   8.187135\n",
       "-7.0             230    22   8.730159\n",
       "-6.0             386    39   9.176471\n",
       "-5.0             314    31   8.985507\n",
       "-4.0             306    34  10.000000\n",
       "-3.0             438    51  10.429448\n",
       "-2.0             774    92  10.623557\n",
       "-1.0             978    97   9.023256\n",
       " 0.0           85887  7748   8.274684\n",
       " 1.0             200    16   7.407407\n",
       " 2.0              47     4   7.843137\n",
       " 3.0              16     5  23.809524\n",
       " 4.0               3     1  25.000000"
      ]
     },
     "execution_count": 15,
     "metadata": {},
     "output_type": "execute_result"
    }
   ],
   "source": [
    "cross"
   ]
  },
  {
   "cell_type": "code",
   "execution_count": 16,
   "id": "548604a4",
   "metadata": {},
   "outputs": [
    {
     "data": {
      "text/html": [
       "<div>\n",
       "<style scoped>\n",
       "    .dataframe tbody tr th:only-of-type {\n",
       "        vertical-align: middle;\n",
       "    }\n",
       "\n",
       "    .dataframe tbody tr th {\n",
       "        vertical-align: top;\n",
       "    }\n",
       "\n",
       "    .dataframe thead th {\n",
       "        text-align: right;\n",
       "    }\n",
       "</style>\n",
       "<table border=\"1\" class=\"dataframe\">\n",
       "  <thead>\n",
       "    <tr style=\"text-align: right;\">\n",
       "      <th>TARGET_CANCEL</th>\n",
       "      <th>0.0</th>\n",
       "      <th>1.0</th>\n",
       "      <th>rate</th>\n",
       "    </tr>\n",
       "    <tr>\n",
       "      <th>check1</th>\n",
       "      <th></th>\n",
       "      <th></th>\n",
       "      <th></th>\n",
       "    </tr>\n",
       "  </thead>\n",
       "  <tbody>\n",
       "    <tr>\n",
       "      <th>-1</th>\n",
       "      <td>3743</td>\n",
       "      <td>392</td>\n",
       "      <td>9.480048</td>\n",
       "    </tr>\n",
       "    <tr>\n",
       "      <th>0</th>\n",
       "      <td>85887</td>\n",
       "      <td>7748</td>\n",
       "      <td>8.274684</td>\n",
       "    </tr>\n",
       "    <tr>\n",
       "      <th>1</th>\n",
       "      <td>266</td>\n",
       "      <td>26</td>\n",
       "      <td>8.904110</td>\n",
       "    </tr>\n",
       "  </tbody>\n",
       "</table>\n",
       "</div>"
      ],
      "text/plain": [
       "TARGET_CANCEL    0.0   1.0      rate\n",
       "check1                              \n",
       "-1              3743   392  9.480048\n",
       " 0             85887  7748  8.274684\n",
       " 1               266    26  8.904110"
      ]
     },
     "execution_count": 16,
     "metadata": {},
     "output_type": "execute_result"
    }
   ],
   "source": [
    "cross1"
   ]
  },
  {
   "cell_type": "code",
   "execution_count": 17,
   "id": "2765224b",
   "metadata": {},
   "outputs": [
    {
     "data": {
      "text/html": [
       "<div>\n",
       "<style scoped>\n",
       "    .dataframe tbody tr th:only-of-type {\n",
       "        vertical-align: middle;\n",
       "    }\n",
       "\n",
       "    .dataframe tbody tr th {\n",
       "        vertical-align: top;\n",
       "    }\n",
       "\n",
       "    .dataframe thead th {\n",
       "        text-align: right;\n",
       "    }\n",
       "</style>\n",
       "<table border=\"1\" class=\"dataframe\">\n",
       "  <thead>\n",
       "    <tr style=\"text-align: right;\">\n",
       "      <th></th>\n",
       "      <th>-2</th>\n",
       "      <th>-1</th>\n",
       "      <th>0</th>\n",
       "      <th>1</th>\n",
       "      <th>2</th>\n",
       "    </tr>\n",
       "  </thead>\n",
       "  <tbody>\n",
       "    <tr>\n",
       "      <th>rate</th>\n",
       "      <td>9.64</td>\n",
       "      <td>9.02</td>\n",
       "      <td>8.27</td>\n",
       "      <td>7.41</td>\n",
       "      <td>13.16</td>\n",
       "    </tr>\n",
       "    <tr>\n",
       "      <th>0</th>\n",
       "      <td>2765.00</td>\n",
       "      <td>978.00</td>\n",
       "      <td>85887.00</td>\n",
       "      <td>200.00</td>\n",
       "      <td>66.00</td>\n",
       "    </tr>\n",
       "    <tr>\n",
       "      <th>1</th>\n",
       "      <td>295.00</td>\n",
       "      <td>97.00</td>\n",
       "      <td>7748.00</td>\n",
       "      <td>16.00</td>\n",
       "      <td>10.00</td>\n",
       "    </tr>\n",
       "  </tbody>\n",
       "</table>\n",
       "</div>"
      ],
      "text/plain": [
       "           -2      -1         0       1      2\n",
       "rate     9.64    9.02      8.27    7.41  13.16\n",
       "0     2765.00  978.00  85887.00  200.00  66.00\n",
       "1      295.00   97.00   7748.00   16.00  10.00"
      ]
     },
     "execution_count": 17,
     "metadata": {},
     "output_type": "execute_result"
    }
   ],
   "source": [
    "result = pd.DataFrame({-2:[9.64,2765,295],\n",
    "                      -1:[9.02,978,97],\n",
    "                      0:[8.27,85887,7748],\n",
    "                      1:[7.41,200,16],\n",
    "                      2:[13.16,66,10]},index=['rate',0,1])\n",
    "result"
   ]
  },
  {
   "cell_type": "code",
   "execution_count": 18,
   "id": "87a64c27",
   "metadata": {},
   "outputs": [
    {
     "data": {
      "text/html": [
       "<div>\n",
       "<style scoped>\n",
       "    .dataframe tbody tr th:only-of-type {\n",
       "        vertical-align: middle;\n",
       "    }\n",
       "\n",
       "    .dataframe tbody tr th {\n",
       "        vertical-align: top;\n",
       "    }\n",
       "\n",
       "    .dataframe thead th {\n",
       "        text-align: right;\n",
       "    }\n",
       "</style>\n",
       "<table border=\"1\" class=\"dataframe\">\n",
       "  <thead>\n",
       "    <tr style=\"text-align: right;\">\n",
       "      <th>check2</th>\n",
       "      <th>-2.0</th>\n",
       "      <th>-1.0</th>\n",
       "      <th>0.0</th>\n",
       "      <th>1.0</th>\n",
       "      <th>2.0</th>\n",
       "    </tr>\n",
       "    <tr>\n",
       "      <th>TARGET_CANCEL</th>\n",
       "      <th></th>\n",
       "      <th></th>\n",
       "      <th></th>\n",
       "      <th></th>\n",
       "      <th></th>\n",
       "    </tr>\n",
       "  </thead>\n",
       "  <tbody>\n",
       "    <tr>\n",
       "      <th>0.0</th>\n",
       "      <td>2765.00</td>\n",
       "      <td>978.00</td>\n",
       "      <td>85887.00</td>\n",
       "      <td>200.00</td>\n",
       "      <td>66.00</td>\n",
       "    </tr>\n",
       "    <tr>\n",
       "      <th>1.0</th>\n",
       "      <td>295.00</td>\n",
       "      <td>97.00</td>\n",
       "      <td>7748.00</td>\n",
       "      <td>16.00</td>\n",
       "      <td>10.00</td>\n",
       "    </tr>\n",
       "    <tr>\n",
       "      <th>rate</th>\n",
       "      <td>9.64</td>\n",
       "      <td>9.02</td>\n",
       "      <td>8.27</td>\n",
       "      <td>7.41</td>\n",
       "      <td>13.16</td>\n",
       "    </tr>\n",
       "  </tbody>\n",
       "</table>\n",
       "</div>"
      ],
      "text/plain": [
       "check2            -2.0    -1.0       0.0     1.0    2.0\n",
       "TARGET_CANCEL                                          \n",
       "0.0            2765.00  978.00  85887.00  200.00  66.00\n",
       "1.0             295.00   97.00   7748.00   16.00  10.00\n",
       "rate              9.64    9.02      8.27    7.41  13.16"
      ]
     },
     "execution_count": 18,
     "metadata": {},
     "output_type": "execute_result"
    }
   ],
   "source": [
    "cross2.T.round(2)"
   ]
  },
  {
   "cell_type": "code",
   "execution_count": 19,
   "id": "d2e95db5",
   "metadata": {},
   "outputs": [
    {
     "name": "stdout",
     "output_type": "stream",
     "text": [
      "8.904109589041095\n"
     ]
    }
   ],
   "source": [
    "print(2600/292)"
   ]
  },
  {
   "cell_type": "code",
   "execution_count": 20,
   "id": "d4338a73",
   "metadata": {},
   "outputs": [
    {
     "data": {
      "text/plain": [
       "<AxesSubplot:xlabel='check2'>"
      ]
     },
     "execution_count": 20,
     "metadata": {},
     "output_type": "execute_result"
    },
    {
     "data": {
      "image/png": "[encoded data removed]",
      "text/plain": [
       "<Figure size 640x480 with 1 Axes>"
      ]
     },
     "metadata": {},
     "output_type": "display_data"
    }
   ],
   "source": [
    "cross2['rate'].plot.bar()"
   ]
  },
  {
   "cell_type": "code",
   "execution_count": null,
   "id": "2a373412",
   "metadata": {},
   "outputs": [],
   "source": []
  },
  {
   "cell_type": "code",
   "execution_count": null,
   "id": "73f5a367",
   "metadata": {},
   "outputs": [],
   "source": []
  }
 ],
 "metadata": {
  "kernelspec": {
   "display_name": "Python 3 (ipykernel)",
   "language": "python",
   "name": "python3"
  },
  "language_info": {
   "codemirror_mode": {
    "name": "ipython",
    "version": 3
   },
   "file_extension": ".py",
   "mimetype": "text/x-python",
   "name": "python",
   "nbconvert_exporter": "python",
   "pygments_lexer": "ipython3",
   "version": "3.9.12"
  },
  "toc": {
   "base_numbering": 1,
   "nav_menu": {},
   "number_sections": true,
   "sideBar": true,
   "skip_h1_title": false,
   "title_cell": "Table of Contents",
   "title_sidebar": "Contents",
   "toc_cell": false,
   "toc_position": {},
   "toc_section_display": true,
   "toc_window_display": false
  }
 },
 "nbformat": 4,
 "nbformat_minor": 5
}
