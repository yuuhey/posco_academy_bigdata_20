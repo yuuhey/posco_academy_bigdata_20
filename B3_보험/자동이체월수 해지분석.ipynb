{
 "cells": [
  {
   "cell_type": "code",
   "execution_count": 5,
   "id": "5fe81eb9",
   "metadata": {},
   "outputs": [],
   "source": [
    "execfile('setting.py')\n",
    "\n",
    "df = pd.read_csv('/Users/bagdaemin/Desktop/eoals/Computer/python/posco/빅데이터/보험프로젝트/보험.csv', encoding='euc-kr')"
   ]
  },
  {
   "cell_type": "code",
   "execution_count": 6,
   "id": "dd874d25",
   "metadata": {},
   "outputs": [],
   "source": [
    "def AUTR_FAIL_MCNT_CAT(AUTR_FAIL_MCNT):\n",
    "    if (AUTR_FAIL_MCNT > 5):\n",
    "        return '5 이상'\n",
    "    else:\n",
    "        return AUTR_FAIL_MCNT\n",
    "    \n",
    "df['AUTR_FAIL_MCNT_Cat'] = df['AUTR_FAIL_MCNT'].apply(AUTR_FAIL_MCNT_CAT)\n",
    "\n",
    "\n",
    "def CRDT_LOAN_CNT_CAT(CRDT_LOAN_CNT):\n",
    "    if (CRDT_LOAN_CNT == 0):\n",
    "        return 0\n",
    "    else:\n",
    "        return 1\n",
    "    \n",
    "df['CRDT_LOAN_CNT_Cat'] = df['CRDT_LOAN_CNT'].apply(CRDT_LOAN_CNT_CAT)\n"
   ]
  },
  {
   "cell_type": "markdown",
   "id": "cf2293a4",
   "metadata": {},
   "source": [
    "# 검정"
   ]
  },
  {
   "cell_type": "markdown",
   "id": "34742849",
   "metadata": {},
   "source": [
    "## 자동이체 실패 월수별"
   ]
  },
  {
   "cell_type": "markdown",
   "id": "3a72b060",
   "metadata": {},
   "source": [
    "### 해지율 비교"
   ]
  },
  {
   "cell_type": "code",
   "execution_count": null,
   "id": "4c3ee50f",
   "metadata": {},
   "outputs": [],
   "source": [
    "cross = pd.crosstab(index=a['AUTR_FAIL_MCNT'], columns=a['TARGET_CANCEL'])"
   ]
  },
  {
   "cell_type": "code",
   "execution_count": null,
   "id": "2d74073d",
   "metadata": {
    "scrolled": true
   },
   "outputs": [],
   "source": [
    "chi,p,dof,expected=stats.chi2_contingency(cross)\n",
    "if(0.05 > p):\n",
    "    print('chi-square test')\n",
    "    print('자동이체 실패 월수별 해지 비율 차이가 존재한다.')\n",
    "else:\n",
    "    print('해지 비율 차이가 존재하지 않는다.')\n",
    "    \n",
    "print('p_value : {}'.format(p.round(3)))\n",
    "print('검정통계량 {}'.format(chi.round(3)))\n"
   ]
  },
  {
   "cell_type": "code",
   "execution_count": null,
   "id": "94d33a48",
   "metadata": {},
   "outputs": [],
   "source": [
    "cross = pd.crosstab(index=a['AUTR_FAIL_MCNT_Cat'], columns=a['TARGET_CANCEL'])"
   ]
  },
  {
   "cell_type": "code",
   "execution_count": null,
   "id": "47c6a6d4",
   "metadata": {},
   "outputs": [],
   "source": [
    "cross"
   ]
  },
  {
   "cell_type": "code",
   "execution_count": null,
   "id": "991b8784",
   "metadata": {},
   "outputs": [],
   "source": [
    "cross['rate'] = cross[1] / (cross[0] + cross[1]) * 100"
   ]
  },
  {
   "cell_type": "code",
   "execution_count": null,
   "id": "665a1e1c",
   "metadata": {
    "scrolled": true
   },
   "outputs": [],
   "source": [
    "cross['rate'].plot.bar()\n",
    "plt.ylim(7.5,9.5)\n",
    "cross_T = cross.T"
   ]
  },
  {
   "cell_type": "code",
   "execution_count": null,
   "id": "8c4bda73",
   "metadata": {},
   "outputs": [],
   "source": [
    "cross_T.reindex(['rate',0,1])\n",
    "cross_T.round(2)"
   ]
  },
  {
   "cell_type": "markdown",
   "id": "73f6d053",
   "metadata": {},
   "source": [
    "#### 결과 자동이체 실패 월수별과 해지율 차이가 있다"
   ]
  },
  {
   "cell_type": "markdown",
   "id": "c3d78a3c",
   "metadata": {},
   "source": [
    "## 자동이체 1회와 그 이외 비교"
   ]
  },
  {
   "cell_type": "markdown",
   "id": "5caba14f",
   "metadata": {},
   "source": [
    "### 신용대출건수 비교"
   ]
  },
  {
   "cell_type": "code",
   "execution_count": null,
   "id": "a50ee81b",
   "metadata": {},
   "outputs": [],
   "source": [
    "tlsdyd = a[a['AUTR_FAIL_MCNT_Cat'] == 1]['CRDT_LOAN_CNT'].to_list()\n",
    "tlsdyd2 = a[a['AUTR_FAIL_MCNT_Cat'] != 1]['CRDT_LOAN_CNT'].to_list()"
   ]
  },
  {
   "cell_type": "code",
   "execution_count": null,
   "id": "351fb9ad",
   "metadata": {},
   "outputs": [],
   "source": [
    "wjdrbtjd(tlsdyd, tlsdyd2)"
   ]
  },
  {
   "cell_type": "code",
   "execution_count": null,
   "id": "235b1902",
   "metadata": {},
   "outputs": [],
   "source": [
    "emdqnstkstjd(tlsdyd,tlsdyd2)"
   ]
  },
  {
   "cell_type": "code",
   "execution_count": null,
   "id": "6a89c1c2",
   "metadata": {},
   "outputs": [],
   "source": [
    "qlahtn(tlsdyd, tlsdyd2)"
   ]
  },
  {
   "cell_type": "markdown",
   "id": "5a8262cc",
   "metadata": {},
   "source": [
    "#### 결과 1회 / 이외 범주와 신용대출건수 차이가 존재한다."
   ]
  },
  {
   "cell_type": "code",
   "execution_count": null,
   "id": "c8c2b32f",
   "metadata": {},
   "outputs": [],
   "source": [
    "a[a['AUTR_FAIL_MCNT_Cat'] == 1]['CRDT_LOAN_CNT'].hist()"
   ]
  },
  {
   "cell_type": "code",
   "execution_count": null,
   "id": "d4c4788c",
   "metadata": {},
   "outputs": [],
   "source": [
    "a[a['AUTR_FAIL_MCNT_Cat'] != 1]['CRDT_LOAN_CNT'].hist()"
   ]
  },
  {
   "cell_type": "markdown",
   "id": "45d9cb3c",
   "metadata": {},
   "source": [
    "#### 신용대출건수 평균 비교"
   ]
  },
  {
   "cell_type": "code",
   "execution_count": null,
   "id": "9819ba5b",
   "metadata": {},
   "outputs": [],
   "source": [
    "print(a[a['AUTR_FAIL_MCNT_Cat'] == 1]['CRDT_LOAN_CNT'].mean())\n",
    "print(a[a['AUTR_FAIL_MCNT_Cat'] != 1]['CRDT_LOAN_CNT'].mean())"
   ]
  }
 ],
 "metadata": {
  "kernelspec": {
   "display_name": "Python 3 (ipykernel)",
   "language": "python",
   "name": "python3"
  },
  "language_info": {
   "codemirror_mode": {
    "name": "ipython",
    "version": 3
   },
   "file_extension": ".py",
   "mimetype": "text/x-python",
   "name": "python",
   "nbconvert_exporter": "python",
   "pygments_lexer": "ipython3",
   "version": "3.9.12"
  },
  "toc": {
   "base_numbering": 1,
   "nav_menu": {},
   "number_sections": true,
   "sideBar": true,
   "skip_h1_title": false,
   "title_cell": "Table of Contents",
   "title_sidebar": "Contents",
   "toc_cell": false,
   "toc_position": {},
   "toc_section_display": true,
   "toc_window_display": true
  }
 },
 "nbformat": 4,
 "nbformat_minor": 5
}
